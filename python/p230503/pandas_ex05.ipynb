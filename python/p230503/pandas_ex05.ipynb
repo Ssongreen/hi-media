{
 "cells": [
  {
   "cell_type": "code",
   "execution_count": 37,
   "id": "9230041c",
   "metadata": {
    "scrolled": true
   },
   "outputs": [
    {
     "data": {
      "text/html": [
       "<div>\n",
       "<style scoped>\n",
       "    .dataframe tbody tr th:only-of-type {\n",
       "        vertical-align: middle;\n",
       "    }\n",
       "\n",
       "    .dataframe tbody tr th {\n",
       "        vertical-align: top;\n",
       "    }\n",
       "\n",
       "    .dataframe thead th {\n",
       "        text-align: right;\n",
       "    }\n",
       "</style>\n",
       "<table border=\"1\" class=\"dataframe\">\n",
       "  <thead>\n",
       "    <tr style=\"text-align: right;\">\n",
       "      <th></th>\n",
       "      <th>co1</th>\n",
       "      <th>co2</th>\n",
       "      <th>co3</th>\n",
       "      <th>co4</th>\n",
       "      <th>co5</th>\n",
       "      <th>co6</th>\n",
       "      <th>co7</th>\n",
       "      <th>co8</th>\n",
       "      <th>co9</th>\n",
       "      <th>co10</th>\n",
       "    </tr>\n",
       "  </thead>\n",
       "  <tbody>\n",
       "    <tr>\n",
       "      <th>0</th>\n",
       "      <td>1</td>\n",
       "      <td>3</td>\n",
       "      <td>5</td>\n",
       "      <td>7</td>\n",
       "      <td>9</td>\n",
       "      <td>11</td>\n",
       "      <td>13</td>\n",
       "      <td>15</td>\n",
       "      <td>17</td>\n",
       "      <td>19</td>\n",
       "    </tr>\n",
       "    <tr>\n",
       "      <th>1</th>\n",
       "      <td>2</td>\n",
       "      <td>4</td>\n",
       "      <td>6</td>\n",
       "      <td>8</td>\n",
       "      <td>10</td>\n",
       "      <td>12</td>\n",
       "      <td>14</td>\n",
       "      <td>16</td>\n",
       "      <td>18</td>\n",
       "      <td>20</td>\n",
       "    </tr>\n",
       "    <tr>\n",
       "      <th>2</th>\n",
       "      <td>10</td>\n",
       "      <td>20</td>\n",
       "      <td>30</td>\n",
       "      <td>40</td>\n",
       "      <td>50</td>\n",
       "      <td>60</td>\n",
       "      <td>70</td>\n",
       "      <td>80</td>\n",
       "      <td>90</td>\n",
       "      <td>100</td>\n",
       "    </tr>\n",
       "  </tbody>\n",
       "</table>\n",
       "</div>"
      ],
      "text/plain": [
       "   co1  co2  co3  co4  co5  co6  co7  co8  co9  co10\n",
       "0    1    3    5    7    9   11   13   15   17    19\n",
       "1    2    4    6    8   10   12   14   16   18    20\n",
       "2   10   20   30   40   50   60   70   80   90   100"
      ]
     },
     "execution_count": 37,
     "metadata": {},
     "output_type": "execute_result"
    }
   ],
   "source": [
    "import pandas as pd\n",
    "\n",
    "## 데이터프레임 생성\n",
    "\n",
    "## 수식 함수 \n",
    "\n",
    "df = pd.DataFrame(\n",
    "    [\n",
    "        range(1,21,2),\n",
    "        range(2,21,2),\n",
    "        range(10,101,10)\n",
    "    ],\n",
    "    \n",
    "    columns=[f'co{i}' for i in range(1,11)]\n",
    ")\n",
    "df"
   ]
  },
  {
   "cell_type": "markdown",
   "id": "c1d46cf6",
   "metadata": {},
   "source": [
    "## 행추출"
   ]
  },
  {
   "cell_type": "code",
   "execution_count": 38,
   "id": "b7ca165d",
   "metadata": {},
   "outputs": [
    {
     "data": {
      "text/plain": [
       "(co1      1\n",
       " co2      3\n",
       " co3      5\n",
       " co4      7\n",
       " co5      9\n",
       " co6     11\n",
       " co7     13\n",
       " co8     15\n",
       " co9     17\n",
       " co10    19\n",
       " Name: 0, dtype: int64,\n",
       " co1      1\n",
       " co2      3\n",
       " co3      5\n",
       " co4      7\n",
       " co5      9\n",
       " co6     11\n",
       " co7     13\n",
       " co8     15\n",
       " co9     17\n",
       " co10    19\n",
       " Name: 0, dtype: int64)"
      ]
     },
     "execution_count": 38,
     "metadata": {},
     "output_type": "execute_result"
    }
   ],
   "source": [
    "df.loc[0],df.iloc[0]"
   ]
  },
  {
   "cell_type": "code",
   "execution_count": 39,
   "id": "5cb65724",
   "metadata": {},
   "outputs": [
    {
     "data": {
      "text/plain": [
       "(co1      10\n",
       " co2      20\n",
       " co3      30\n",
       " co4      40\n",
       " co5      50\n",
       " co6      60\n",
       " co7      70\n",
       " co8      80\n",
       " co9      90\n",
       " co10    100\n",
       " Name: 2, dtype: int64,\n",
       " co1      10\n",
       " co2      20\n",
       " co3      30\n",
       " co4      40\n",
       " co5      50\n",
       " co6      60\n",
       " co7      70\n",
       " co8      80\n",
       " co9      90\n",
       " co10    100\n",
       " Name: 2, dtype: int64,\n",
       " co1      10\n",
       " co2      20\n",
       " co3      30\n",
       " co4      40\n",
       " co5      50\n",
       " co6      60\n",
       " co7      70\n",
       " co8      80\n",
       " co9      90\n",
       " co10    100\n",
       " Name: 2, dtype: int64)"
      ]
     },
     "execution_count": 39,
     "metadata": {},
     "output_type": "execute_result"
    }
   ],
   "source": [
    "df.loc[2],df.iloc[-1],df.iloc[2]"
   ]
  },
  {
   "cell_type": "markdown",
   "id": "179709ab",
   "metadata": {},
   "source": [
    "### 연속적"
   ]
  },
  {
   "cell_type": "code",
   "execution_count": 40,
   "id": "f93737cb",
   "metadata": {},
   "outputs": [
    {
     "data": {
      "text/plain": [
       "(   co1  co2  co3  co4  co5  co6  co7  co8  co9  co10\n",
       " 0    1    3    5    7    9   11   13   15   17    19\n",
       " 1    2    4    6    8   10   12   14   16   18    20,\n",
       "    co1  co2  co3  co4  co5  co6  co7  co8  co9  co10\n",
       " 0    1    3    5    7    9   11   13   15   17    19\n",
       " 1    2    4    6    8   10   12   14   16   18    20,\n",
       "    co1  co2  co3  co4  co5  co6  co7  co8  co9  co10\n",
       " 0    1    3    5    7    9   11   13   15   17    19\n",
       " 1    2    4    6    8   10   12   14   16   18    20)"
      ]
     },
     "execution_count": 40,
     "metadata": {},
     "output_type": "execute_result"
    }
   ],
   "source": [
    "df.iloc[:-1,:],df.loc[:1,:],df[:2]"
   ]
  },
  {
   "cell_type": "markdown",
   "id": "4d604e86",
   "metadata": {},
   "source": [
    "### 데이타프레임으로 보기\n",
    "- series를 DF로 보아용\n",
    "- **serise가 DF보다 데이터 처리 속도가 빠르다. 데이터 크기가 작아서 그래용"
   ]
  },
  {
   "cell_type": "code",
   "execution_count": 41,
   "id": "b146ba62",
   "metadata": {},
   "outputs": [
    {
     "data": {
      "text/plain": [
       "(   co2\n",
       " 0    3\n",
       " 1    4\n",
       " 2   20,\n",
       "    co2\n",
       " 0    3\n",
       " 1    4\n",
       " 2   20,\n",
       "    co2\n",
       " 0    3\n",
       " 1    4\n",
       " 2   20)"
      ]
     },
     "execution_count": 41,
     "metadata": {},
     "output_type": "execute_result"
    }
   ],
   "source": [
    "df[['co2']],df.loc[:,['co2']],df.iloc[:,[1]]"
   ]
  },
  {
   "cell_type": "markdown",
   "id": "cd0ed1d8",
   "metadata": {},
   "source": [
    "## 기준값 넣기"
   ]
  },
  {
   "cell_type": "markdown",
   "id": "d345674b",
   "metadata": {},
   "source": [
    "### 행"
   ]
  },
  {
   "cell_type": "markdown",
   "id": "e88c1c85",
   "metadata": {},
   "source": [
    "### 상위"
   ]
  },
  {
   "cell_type": "code",
   "execution_count": 44,
   "id": "85281068",
   "metadata": {
    "scrolled": true
   },
   "outputs": [
    {
     "data": {
      "text/html": [
       "<div>\n",
       "<style scoped>\n",
       "    .dataframe tbody tr th:only-of-type {\n",
       "        vertical-align: middle;\n",
       "    }\n",
       "\n",
       "    .dataframe tbody tr th {\n",
       "        vertical-align: top;\n",
       "    }\n",
       "\n",
       "    .dataframe thead th {\n",
       "        text-align: right;\n",
       "    }\n",
       "</style>\n",
       "<table border=\"1\" class=\"dataframe\">\n",
       "  <thead>\n",
       "    <tr style=\"text-align: right;\">\n",
       "      <th></th>\n",
       "      <th>co1</th>\n",
       "      <th>co2</th>\n",
       "      <th>co3</th>\n",
       "      <th>co4</th>\n",
       "      <th>co5</th>\n",
       "      <th>co6</th>\n",
       "      <th>co7</th>\n",
       "      <th>co8</th>\n",
       "      <th>co9</th>\n",
       "      <th>co10</th>\n",
       "    </tr>\n",
       "  </thead>\n",
       "  <tbody>\n",
       "    <tr>\n",
       "      <th>0</th>\n",
       "      <td>1</td>\n",
       "      <td>3</td>\n",
       "      <td>5</td>\n",
       "      <td>7</td>\n",
       "      <td>9</td>\n",
       "      <td>11</td>\n",
       "      <td>13</td>\n",
       "      <td>15</td>\n",
       "      <td>17</td>\n",
       "      <td>19</td>\n",
       "    </tr>\n",
       "    <tr>\n",
       "      <th>1</th>\n",
       "      <td>2</td>\n",
       "      <td>4</td>\n",
       "      <td>6</td>\n",
       "      <td>8</td>\n",
       "      <td>10</td>\n",
       "      <td>12</td>\n",
       "      <td>14</td>\n",
       "      <td>16</td>\n",
       "      <td>18</td>\n",
       "      <td>20</td>\n",
       "    </tr>\n",
       "  </tbody>\n",
       "</table>\n",
       "</div>"
      ],
      "text/plain": [
       "   co1  co2  co3  co4  co5  co6  co7  co8  co9  co10\n",
       "0    1    3    5    7    9   11   13   15   17    19\n",
       "1    2    4    6    8   10   12   14   16   18    20"
      ]
     },
     "execution_count": 44,
     "metadata": {},
     "output_type": "execute_result"
    }
   ],
   "source": [
    "df.head(2)"
   ]
  },
  {
   "cell_type": "markdown",
   "id": "c87c3820",
   "metadata": {},
   "source": [
    "### 하위"
   ]
  },
  {
   "cell_type": "code",
   "execution_count": 45,
   "id": "cfc1f12e",
   "metadata": {},
   "outputs": [
    {
     "data": {
      "text/html": [
       "<div>\n",
       "<style scoped>\n",
       "    .dataframe tbody tr th:only-of-type {\n",
       "        vertical-align: middle;\n",
       "    }\n",
       "\n",
       "    .dataframe tbody tr th {\n",
       "        vertical-align: top;\n",
       "    }\n",
       "\n",
       "    .dataframe thead th {\n",
       "        text-align: right;\n",
       "    }\n",
       "</style>\n",
       "<table border=\"1\" class=\"dataframe\">\n",
       "  <thead>\n",
       "    <tr style=\"text-align: right;\">\n",
       "      <th></th>\n",
       "      <th>co1</th>\n",
       "      <th>co2</th>\n",
       "      <th>co3</th>\n",
       "      <th>co4</th>\n",
       "      <th>co5</th>\n",
       "      <th>co6</th>\n",
       "      <th>co7</th>\n",
       "      <th>co8</th>\n",
       "      <th>co9</th>\n",
       "      <th>co10</th>\n",
       "    </tr>\n",
       "  </thead>\n",
       "  <tbody>\n",
       "    <tr>\n",
       "      <th>2</th>\n",
       "      <td>10</td>\n",
       "      <td>20</td>\n",
       "      <td>30</td>\n",
       "      <td>40</td>\n",
       "      <td>50</td>\n",
       "      <td>60</td>\n",
       "      <td>70</td>\n",
       "      <td>80</td>\n",
       "      <td>90</td>\n",
       "      <td>100</td>\n",
       "    </tr>\n",
       "  </tbody>\n",
       "</table>\n",
       "</div>"
      ],
      "text/plain": [
       "   co1  co2  co3  co4  co5  co6  co7  co8  co9  co10\n",
       "2   10   20   30   40   50   60   70   80   90   100"
      ]
     },
     "execution_count": 45,
     "metadata": {},
     "output_type": "execute_result"
    }
   ],
   "source": [
    "df.tail(1)"
   ]
  },
  {
   "cell_type": "code",
   "execution_count": null,
   "id": "e7352346",
   "metadata": {},
   "outputs": [],
   "source": []
  }
 ],
 "metadata": {
  "kernelspec": {
   "display_name": "ex_kernel",
   "language": "python",
   "name": "ex"
  },
  "language_info": {
   "codemirror_mode": {
    "name": "ipython",
    "version": 3
   },
   "file_extension": ".py",
   "mimetype": "text/x-python",
   "name": "python",
   "nbconvert_exporter": "python",
   "pygments_lexer": "ipython3",
   "version": "3.8.10"
  },
  "toc": {
   "base_numbering": 1,
   "nav_menu": {},
   "number_sections": true,
   "sideBar": true,
   "skip_h1_title": false,
   "title_cell": "Table of Contents",
   "title_sidebar": "Contents",
   "toc_cell": false,
   "toc_position": {
    "height": "calc(100% - 180px)",
    "left": "10px",
    "top": "150px",
    "width": "268px"
   },
   "toc_section_display": true,
   "toc_window_display": true
  }
 },
 "nbformat": 4,
 "nbformat_minor": 5
}
