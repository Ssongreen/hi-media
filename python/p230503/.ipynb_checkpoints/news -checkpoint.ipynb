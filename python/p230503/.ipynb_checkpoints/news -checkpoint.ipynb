{
 "cells": [
  {
   "cell_type": "code",
   "execution_count": 2,
   "id": "7a014e3f",
   "metadata": {},
   "outputs": [
    {
     "name": "stdout",
     "output_type": "stream",
     "text": [
      "                                 제목   \n",
      "0     [속보] 법무부 “론스타 배상금 6억여원 감액 통지”  \\\n",
      "1  ‘내일이 총선이라면’ 국힘 32.3% vs 민주 30.2%   \n",
      "2           미 은행 대출 깐깐해져…산업 전반 신용경색   \n",
      "3             기시다 “尹 신뢰… 새로운 시대 열것”   \n",
      "4           [단독] 한전, 민간발전사 손실 떠 안는다   \n",
      "5       빅데이터 기업 팔란티어 또 흑자 [3분 미국주식]   \n",
      "6              전기료 ㎾h당 7원 인상안 유력 거론   \n",
      "7            몰려오는 수증기… 올여름 물폭탄 쏟아지나   \n",
      "8                적자 수렁 한전… 취준생만 새우등   \n",
      "9              간호사 단체 “우리도 단체행동” 맞불   \n",
      "\n",
      "                                                  링크  \n",
      "0  https://news.kmib.co.kr/article/view.asp?arcid...  \n",
      "1  https://news.kmib.co.kr/article/view.asp?arcid...  \n",
      "2  https://news.kmib.co.kr/article/view.asp?arcid...  \n",
      "3  https://news.kmib.co.kr/article/view.asp?arcid...  \n",
      "4  https://news.kmib.co.kr/article/view.asp?arcid...  \n",
      "5  https://news.kmib.co.kr/article/view.asp?arcid...  \n",
      "6  https://news.kmib.co.kr/article/view.asp?arcid...  \n",
      "7  https://news.kmib.co.kr/article/view.asp?arcid...  \n",
      "8  https://news.kmib.co.kr/article/view.asp?arcid...  \n",
      "9  https://news.kmib.co.kr/article/view.asp?arcid...  \n",
      "작업종료\n"
     ]
    }
   ],
   "source": [
    "from selenium import webdriver\n",
    "from selenium.webdriver.common.keys import Keys\n",
    "from selenium.webdriver.common.by import By\n",
    "from selenium import webdriver\n",
    "from time import sleep\n",
    "import urllib.request as request\n",
    "import requests\n",
    "import re\n",
    "import pandas as pd\n",
    "\n",
    "url = \"https://www.kmib.co.kr/news/index.asp\"\n",
    "options = webdriver.ChromeOptions()\n",
    "options.add_argument('headless')\n",
    "options.add_argument(\"--window-size=1920,1020\")\n",
    "driver = webdriver.Chrome(options=options)\n",
    "driver.get(url)\n",
    "sleep(2)\n",
    "total = []\n",
    "\n",
    "for i in range(1,11):\n",
    "    element = driver.find_elements(By.XPATH, f'/html/body/div/div[3]/div/div/div[1]/div/div[1]/div[1]/div/div/dl/dd[1]/a[{i}]')\n",
    "    title = element[0].text\n",
    "    href = element[0].get_attribute('href')\n",
    "    total.append([title,href])\n",
    "    table = pd.DataFrame(total,columns=[\"제목\",\"링크\"])\n",
    "print(table)    \n",
    "table.to_csv(r'C:\\Users\\hi-sinchon\\Desktop\\새 폴더\\news_title.csv', index=False, encoding='UTF-8')\n",
    "driver.close()\n",
    "print(\"작업종료\")"
   ]
  }
 ],
 "metadata": {
  "kernelspec": {
   "display_name": "ex_kernel",
   "language": "python",
   "name": "ex"
  },
  "language_info": {
   "codemirror_mode": {
    "name": "ipython",
    "version": 3
   },
   "file_extension": ".py",
   "mimetype": "text/x-python",
   "name": "python",
   "nbconvert_exporter": "python",
   "pygments_lexer": "ipython3",
   "version": "3.8.10"
  },
  "toc": {
   "base_numbering": 1,
   "nav_menu": {},
   "number_sections": true,
   "sideBar": true,
   "skip_h1_title": false,
   "title_cell": "Table of Contents",
   "title_sidebar": "Contents",
   "toc_cell": false,
   "toc_position": {},
   "toc_section_display": true,
   "toc_window_display": false
  }
 },
 "nbformat": 4,
 "nbformat_minor": 5
}
