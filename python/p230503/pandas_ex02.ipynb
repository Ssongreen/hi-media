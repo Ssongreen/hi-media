{
 "cells": [
  {
   "cell_type": "markdown",
   "id": "8a7a47d5",
   "metadata": {},
   "source": [
    "# 판다스"
   ]
  },
  {
   "cell_type": "code",
   "execution_count": 2,
   "id": "c0e5d6f4",
   "metadata": {},
   "outputs": [],
   "source": [
    "import pandas as pd\n",
    "\n",
    "## 수식 함수 \n",
    "\n",
    "df = pd.DataFrame(\n",
    "    [\n",
    "        range(1,21,2),\n",
    "        range(2,21,2),\n",
    "        range(10,101,10)\n",
    "    ],\n",
    "    ['row1','row2','row3'],\n",
    "    [f'co{i}' for i in range(1,11)]\n",
    ")\n",
    "df"
   ]
  },
  {
   "cell_type": "markdown",
   "id": "b8afbb5a",
   "metadata": {},
   "source": [
    "## 용어\n"
   ]
  },
  {
   "cell_type": "markdown",
   "id": "fc566738",
   "metadata": {},
   "source": [
    "### 행, 열 정보"
   ]
  },
  {
   "cell_type": "code",
   "execution_count": 6,
   "id": "ada6ee3e",
   "metadata": {},
   "outputs": [
    {
     "data": {
      "text/plain": [
       "(3, 10)"
      ]
     },
     "execution_count": 6,
     "metadata": {},
     "output_type": "execute_result"
    }
   ],
   "source": [
    "df.shape"
   ]
  },
  {
   "cell_type": "code",
   "execution_count": 12,
   "id": "8c63439b",
   "metadata": {},
   "outputs": [
    {
     "data": {
      "text/plain": [
       "tuple"
      ]
     },
     "execution_count": 12,
     "metadata": {},
     "output_type": "execute_result"
    }
   ],
   "source": [
    "type(df.shape)"
   ]
  },
  {
   "cell_type": "code",
   "execution_count": 8,
   "id": "e2b2afc0",
   "metadata": {},
   "outputs": [
    {
     "data": {
      "text/plain": [
       "3"
      ]
     },
     "execution_count": 8,
     "metadata": {},
     "output_type": "execute_result"
    }
   ],
   "source": [
    "df.shape[0]"
   ]
  },
  {
   "cell_type": "code",
   "execution_count": 9,
   "id": "63808a94",
   "metadata": {},
   "outputs": [
    {
     "data": {
      "text/plain": [
       "10"
      ]
     },
     "execution_count": 9,
     "metadata": {},
     "output_type": "execute_result"
    }
   ],
   "source": [
    "df.shape[1]"
   ]
  },
  {
   "cell_type": "code",
   "execution_count": 10,
   "id": "da8a2c22",
   "metadata": {},
   "outputs": [
    {
     "data": {
      "text/plain": [
       "Index(['co1', 'co2', 'co3', 'co4', 'co5', 'co6', 'co7', 'co8', 'co9', 'co10'], dtype='object')"
      ]
     },
     "execution_count": 10,
     "metadata": {},
     "output_type": "execute_result"
    }
   ],
   "source": [
    "df.columns"
   ]
  },
  {
   "cell_type": "code",
   "execution_count": 11,
   "id": "02da7074",
   "metadata": {},
   "outputs": [
    {
     "data": {
      "text/plain": [
       "pandas.core.indexes.base.Index"
      ]
     },
     "execution_count": 11,
     "metadata": {},
     "output_type": "execute_result"
    }
   ],
   "source": [
    "type(df.columns)"
   ]
  },
  {
   "cell_type": "code",
   "execution_count": 20,
   "id": "efcb6a9c",
   "metadata": {},
   "outputs": [
    {
     "data": {
      "text/plain": [
       "'co1'"
      ]
     },
     "execution_count": 20,
     "metadata": {},
     "output_type": "execute_result"
    }
   ],
   "source": [
    "df.columns[0]"
   ]
  },
  {
   "cell_type": "markdown",
   "id": "ed1e10d8",
   "metadata": {},
   "source": [
    "### 리스트로 관리 되는 인덱스 리스트이다."
   ]
  },
  {
   "cell_type": "code",
   "execution_count": 26,
   "id": "dc1c8df8",
   "metadata": {},
   "outputs": [],
   "source": [
    "for co in df.columns:\n",
    "    print(co)"
   ]
  },
  {
   "cell_type": "code",
   "execution_count": 22,
   "id": "97cd83e8",
   "metadata": {},
   "outputs": [
    {
     "data": {
      "text/plain": [
       "Index(['row1', 'row2', 'row3'], dtype='object')"
      ]
     },
     "execution_count": 22,
     "metadata": {},
     "output_type": "execute_result"
    }
   ],
   "source": [
    "df.index"
   ]
  },
  {
   "cell_type": "code",
   "execution_count": 28,
   "id": "ccd5e0d7",
   "metadata": {},
   "outputs": [
    {
     "data": {
      "text/plain": [
       "'row1'"
      ]
     },
     "execution_count": 28,
     "metadata": {},
     "output_type": "execute_result"
    }
   ],
   "source": [
    "df.index[0]"
   ]
  },
  {
   "cell_type": "markdown",
   "id": "b39cfb4f",
   "metadata": {},
   "source": [
    "### vriable"
   ]
  },
  {
   "cell_type": "code",
   "execution_count": 5,
   "id": "37f5b761",
   "metadata": {},
   "outputs": [
    {
     "data": {
      "text/plain": [
       "co1     int64\n",
       "co2     int64\n",
       "co3     int64\n",
       "co4     int64\n",
       "co5     int64\n",
       "co6     int64\n",
       "co7     int64\n",
       "co8     int64\n",
       "co9     int64\n",
       "co10    int64\n",
       "dtype: object"
      ]
     },
     "execution_count": 5,
     "metadata": {},
     "output_type": "execute_result"
    }
   ],
   "source": [
    "df.dtypes ##타입은 int에용 파이썬은 64byte를 사용"
   ]
  },
  {
   "cell_type": "markdown",
   "id": "edeb43d6",
   "metadata": {},
   "source": [
    "### 행의 index 자주 보는 형태이다"
   ]
  },
  {
   "cell_type": "code",
   "execution_count": 7,
   "id": "0d1916a2",
   "metadata": {},
   "outputs": [
    {
     "name": "stdout",
     "output_type": "stream",
     "text": [
      "<class 'pandas.core.frame.DataFrame'>\n",
      "Index: 3 entries, row1 to row3\n",
      "Data columns (total 10 columns):\n",
      " #   Column  Non-Null Count  Dtype\n",
      "---  ------  --------------  -----\n",
      " 0   co1     3 non-null      int64\n",
      " 1   co2     3 non-null      int64\n",
      " 2   co3     3 non-null      int64\n",
      " 3   co4     3 non-null      int64\n",
      " 4   co5     3 non-null      int64\n",
      " 5   co6     3 non-null      int64\n",
      " 6   co7     3 non-null      int64\n",
      " 7   co8     3 non-null      int64\n",
      " 8   co9     3 non-null      int64\n",
      " 9   co10    3 non-null      int64\n",
      "dtypes: int64(10)\n",
      "memory usage: 372.0+ bytes\n"
     ]
    }
   ],
   "source": [
    "df.info() ## 결측치"
   ]
  },
  {
   "cell_type": "markdown",
   "id": "6b486fd4",
   "metadata": {},
   "source": [
    "## 컬럼명 추출"
   ]
  },
  {
   "cell_type": "code",
   "execution_count": 13,
   "id": "6c818f10",
   "metadata": {},
   "outputs": [
    {
     "data": {
      "text/plain": [
       "row1     3\n",
       "row2     4\n",
       "row3    20\n",
       "Name: co2, dtype: int64"
      ]
     },
     "execution_count": 13,
     "metadata": {},
     "output_type": "execute_result"
    }
   ],
   "source": [
    "df['co2']"
   ]
  },
  {
   "cell_type": "markdown",
   "id": "1337e1ec",
   "metadata": {},
   "source": [
    "### 행 타입 "
   ]
  },
  {
   "cell_type": "code",
   "execution_count": 12,
   "id": "fb7e0288",
   "metadata": {},
   "outputs": [
    {
     "data": {
      "text/plain": [
       "pandas.core.series.Series"
      ]
     },
     "execution_count": 12,
     "metadata": {},
     "output_type": "execute_result"
    }
   ],
   "source": [
    "type(df['co2'])"
   ]
  },
  {
   "cell_type": "code",
   "execution_count": 15,
   "id": "7475b5ad",
   "metadata": {},
   "outputs": [
    {
     "data": {
      "text/plain": [
       "row1     19\n",
       "row2     20\n",
       "row3    100\n",
       "Name: co10, dtype: int64"
      ]
     },
     "execution_count": 15,
     "metadata": {},
     "output_type": "execute_result"
    }
   ],
   "source": [
    "df['co10']"
   ]
  },
  {
   "cell_type": "code",
   "execution_count": 40,
   "id": "79a29cc7",
   "metadata": {},
   "outputs": [
    {
     "data": {
      "text/plain": [
       "(row1     3\n",
       " row2     4\n",
       " row3    20\n",
       " Name: co2, dtype: int64,\n",
       " row1     19\n",
       " row2     20\n",
       " row3    100\n",
       " Name: co10, dtype: int64)"
      ]
     },
     "execution_count": 40,
     "metadata": {},
     "output_type": "execute_result"
    }
   ],
   "source": [
    "df['co2'], df['co10']"
   ]
  },
  {
   "cell_type": "markdown",
   "id": "de0e4a72",
   "metadata": {},
   "source": [
    "### 두가지 이상 추출법 "
   ]
  },
  {
   "cell_type": "code",
   "execution_count": 39,
   "id": "9688ce6b",
   "metadata": {},
   "outputs": [
    {
     "data": {
      "text/html": [
       "<div>\n",
       "<style scoped>\n",
       "    .dataframe tbody tr th:only-of-type {\n",
       "        vertical-align: middle;\n",
       "    }\n",
       "\n",
       "    .dataframe tbody tr th {\n",
       "        vertical-align: top;\n",
       "    }\n",
       "\n",
       "    .dataframe thead th {\n",
       "        text-align: right;\n",
       "    }\n",
       "</style>\n",
       "<table border=\"1\" class=\"dataframe\">\n",
       "  <thead>\n",
       "    <tr style=\"text-align: right;\">\n",
       "      <th></th>\n",
       "      <th>co2</th>\n",
       "      <th>co10</th>\n",
       "      <th>co5</th>\n",
       "    </tr>\n",
       "  </thead>\n",
       "  <tbody>\n",
       "    <tr>\n",
       "      <th>row1</th>\n",
       "      <td>3</td>\n",
       "      <td>19</td>\n",
       "      <td>9</td>\n",
       "    </tr>\n",
       "    <tr>\n",
       "      <th>row2</th>\n",
       "      <td>4</td>\n",
       "      <td>20</td>\n",
       "      <td>10</td>\n",
       "    </tr>\n",
       "    <tr>\n",
       "      <th>row3</th>\n",
       "      <td>20</td>\n",
       "      <td>100</td>\n",
       "      <td>50</td>\n",
       "    </tr>\n",
       "  </tbody>\n",
       "</table>\n",
       "</div>"
      ],
      "text/plain": [
       "      co2  co10  co5\n",
       "row1    3    19    9\n",
       "row2    4    20   10\n",
       "row3   20   100   50"
      ]
     },
     "execution_count": 39,
     "metadata": {},
     "output_type": "execute_result"
    }
   ],
   "source": [
    "df[['co2', 'co10', 'co5']]"
   ]
  },
  {
   "cell_type": "code",
   "execution_count": 68,
   "id": "26515308",
   "metadata": {},
   "outputs": [
    {
     "data": {
      "text/html": [
       "<div>\n",
       "<style scoped>\n",
       "    .dataframe tbody tr th:only-of-type {\n",
       "        vertical-align: middle;\n",
       "    }\n",
       "\n",
       "    .dataframe tbody tr th {\n",
       "        vertical-align: top;\n",
       "    }\n",
       "\n",
       "    .dataframe thead th {\n",
       "        text-align: right;\n",
       "    }\n",
       "</style>\n",
       "<table border=\"1\" class=\"dataframe\">\n",
       "  <thead>\n",
       "    <tr style=\"text-align: right;\">\n",
       "      <th></th>\n",
       "      <th>co1</th>\n",
       "      <th>co2</th>\n",
       "      <th>co3</th>\n",
       "    </tr>\n",
       "  </thead>\n",
       "  <tbody>\n",
       "    <tr>\n",
       "      <th>row1</th>\n",
       "      <td>1</td>\n",
       "      <td>3</td>\n",
       "      <td>5</td>\n",
       "    </tr>\n",
       "    <tr>\n",
       "      <th>row2</th>\n",
       "      <td>2</td>\n",
       "      <td>4</td>\n",
       "      <td>6</td>\n",
       "    </tr>\n",
       "    <tr>\n",
       "      <th>row3</th>\n",
       "      <td>10</td>\n",
       "      <td>20</td>\n",
       "      <td>30</td>\n",
       "    </tr>\n",
       "  </tbody>\n",
       "</table>\n",
       "</div>"
      ],
      "text/plain": [
       "      co1  co2  co3\n",
       "row1    1    3    5\n",
       "row2    2    4    6\n",
       "row3   10   20   30"
      ]
     },
     "execution_count": 68,
     "metadata": {},
     "output_type": "execute_result"
    }
   ],
   "source": [
    "df[['co1','co2','co3']]"
   ]
  },
  {
   "cell_type": "markdown",
   "id": "f3088f38",
   "metadata": {},
   "source": [
    "## row 추출"
   ]
  },
  {
   "cell_type": "markdown",
   "id": "dc10a257",
   "metadata": {},
   "source": [
    "### 슬라이싱으로 추출 해요"
   ]
  },
  {
   "cell_type": "code",
   "execution_count": 57,
   "id": "c8817834",
   "metadata": {},
   "outputs": [
    {
     "data": {
      "text/html": [
       "<div>\n",
       "<style scoped>\n",
       "    .dataframe tbody tr th:only-of-type {\n",
       "        vertical-align: middle;\n",
       "    }\n",
       "\n",
       "    .dataframe tbody tr th {\n",
       "        vertical-align: top;\n",
       "    }\n",
       "\n",
       "    .dataframe thead th {\n",
       "        text-align: right;\n",
       "    }\n",
       "</style>\n",
       "<table border=\"1\" class=\"dataframe\">\n",
       "  <thead>\n",
       "    <tr style=\"text-align: right;\">\n",
       "      <th></th>\n",
       "      <th>co1</th>\n",
       "      <th>co2</th>\n",
       "      <th>co3</th>\n",
       "      <th>co4</th>\n",
       "      <th>co5</th>\n",
       "      <th>co6</th>\n",
       "      <th>co7</th>\n",
       "      <th>co8</th>\n",
       "      <th>co9</th>\n",
       "      <th>co10</th>\n",
       "    </tr>\n",
       "  </thead>\n",
       "  <tbody>\n",
       "    <tr>\n",
       "      <th>row1</th>\n",
       "      <td>1</td>\n",
       "      <td>3</td>\n",
       "      <td>5</td>\n",
       "      <td>7</td>\n",
       "      <td>9</td>\n",
       "      <td>11</td>\n",
       "      <td>13</td>\n",
       "      <td>15</td>\n",
       "      <td>17</td>\n",
       "      <td>19</td>\n",
       "    </tr>\n",
       "  </tbody>\n",
       "</table>\n",
       "</div>"
      ],
      "text/plain": [
       "      co1  co2  co3  co4  co5  co6  co7  co8  co9  co10\n",
       "row1    1    3    5    7    9   11   13   15   17    19"
      ]
     },
     "execution_count": 57,
     "metadata": {},
     "output_type": "execute_result"
    }
   ],
   "source": [
    "df[:'row1']"
   ]
  },
  {
   "cell_type": "code",
   "execution_count": 62,
   "id": "3504651d",
   "metadata": {},
   "outputs": [
    {
     "data": {
      "text/html": [
       "<div>\n",
       "<style scoped>\n",
       "    .dataframe tbody tr th:only-of-type {\n",
       "        vertical-align: middle;\n",
       "    }\n",
       "\n",
       "    .dataframe tbody tr th {\n",
       "        vertical-align: top;\n",
       "    }\n",
       "\n",
       "    .dataframe thead th {\n",
       "        text-align: right;\n",
       "    }\n",
       "</style>\n",
       "<table border=\"1\" class=\"dataframe\">\n",
       "  <thead>\n",
       "    <tr style=\"text-align: right;\">\n",
       "      <th></th>\n",
       "      <th>co1</th>\n",
       "      <th>co2</th>\n",
       "      <th>co3</th>\n",
       "      <th>co4</th>\n",
       "      <th>co5</th>\n",
       "      <th>co6</th>\n",
       "      <th>co7</th>\n",
       "      <th>co8</th>\n",
       "      <th>co9</th>\n",
       "      <th>co10</th>\n",
       "    </tr>\n",
       "  </thead>\n",
       "  <tbody>\n",
       "    <tr>\n",
       "      <th>row1</th>\n",
       "      <td>1</td>\n",
       "      <td>3</td>\n",
       "      <td>5</td>\n",
       "      <td>7</td>\n",
       "      <td>9</td>\n",
       "      <td>11</td>\n",
       "      <td>13</td>\n",
       "      <td>15</td>\n",
       "      <td>17</td>\n",
       "      <td>19</td>\n",
       "    </tr>\n",
       "  </tbody>\n",
       "</table>\n",
       "</div>"
      ],
      "text/plain": [
       "      co1  co2  co3  co4  co5  co6  co7  co8  co9  co10\n",
       "row1    1    3    5    7    9   11   13   15   17    19"
      ]
     },
     "execution_count": 62,
     "metadata": {},
     "output_type": "execute_result"
    }
   ],
   "source": [
    "df[:1] #정수형태에는 끝값이 제외가 됩니다. (슬라이싱 할때)"
   ]
  },
  {
   "cell_type": "markdown",
   "id": "0d43a82e",
   "metadata": {},
   "source": [
    "### 문제 마지막 행추출"
   ]
  },
  {
   "cell_type": "code",
   "execution_count": 69,
   "id": "3829b127",
   "metadata": {},
   "outputs": [
    {
     "data": {
      "text/plain": [
       "row3    20\n",
       "Name: co2, dtype: int64"
      ]
     },
     "execution_count": 69,
     "metadata": {},
     "output_type": "execute_result"
    }
   ],
   "source": [
    "df[-1:]"
   ]
  },
  {
   "cell_type": "markdown",
   "id": "7aa2e25c",
   "metadata": {},
   "source": [
    "## 특정 행 열"
   ]
  },
  {
   "cell_type": "markdown",
   "id": "f8b3ad38",
   "metadata": {},
   "source": [
    "### 열 에서 행"
   ]
  },
  {
   "cell_type": "code",
   "execution_count": 74,
   "id": "62f76d1e",
   "metadata": {},
   "outputs": [
    {
     "data": {
      "text/html": [
       "<div>\n",
       "<style scoped>\n",
       "    .dataframe tbody tr th:only-of-type {\n",
       "        vertical-align: middle;\n",
       "    }\n",
       "\n",
       "    .dataframe tbody tr th {\n",
       "        vertical-align: top;\n",
       "    }\n",
       "\n",
       "    .dataframe thead th {\n",
       "        text-align: right;\n",
       "    }\n",
       "</style>\n",
       "<table border=\"1\" class=\"dataframe\">\n",
       "  <thead>\n",
       "    <tr style=\"text-align: right;\">\n",
       "      <th></th>\n",
       "      <th>co4</th>\n",
       "      <th>co5</th>\n",
       "    </tr>\n",
       "  </thead>\n",
       "  <tbody>\n",
       "    <tr>\n",
       "      <th>row1</th>\n",
       "      <td>7</td>\n",
       "      <td>9</td>\n",
       "    </tr>\n",
       "    <tr>\n",
       "      <th>row2</th>\n",
       "      <td>8</td>\n",
       "      <td>10</td>\n",
       "    </tr>\n",
       "  </tbody>\n",
       "</table>\n",
       "</div>"
      ],
      "text/plain": [
       "      co4  co5\n",
       "row1    7    9\n",
       "row2    8   10"
      ]
     },
     "execution_count": 74,
     "metadata": {},
     "output_type": "execute_result"
    }
   ],
   "source": [
    "df[:-1][['co4','co5']]\n",
    "df[:'row2'][['co4','co5']]"
   ]
  },
  {
   "cell_type": "markdown",
   "id": "8c293749",
   "metadata": {},
   "source": [
    "### 행에서 열"
   ]
  },
  {
   "cell_type": "code",
   "execution_count": 72,
   "id": "5ea89433",
   "metadata": {},
   "outputs": [
    {
     "data": {
      "text/html": [
       "<div>\n",
       "<style scoped>\n",
       "    .dataframe tbody tr th:only-of-type {\n",
       "        vertical-align: middle;\n",
       "    }\n",
       "\n",
       "    .dataframe tbody tr th {\n",
       "        vertical-align: top;\n",
       "    }\n",
       "\n",
       "    .dataframe thead th {\n",
       "        text-align: right;\n",
       "    }\n",
       "</style>\n",
       "<table border=\"1\" class=\"dataframe\">\n",
       "  <thead>\n",
       "    <tr style=\"text-align: right;\">\n",
       "      <th></th>\n",
       "      <th>co4</th>\n",
       "      <th>co6</th>\n",
       "    </tr>\n",
       "  </thead>\n",
       "  <tbody>\n",
       "    <tr>\n",
       "      <th>row1</th>\n",
       "      <td>7</td>\n",
       "      <td>11</td>\n",
       "    </tr>\n",
       "    <tr>\n",
       "      <th>row2</th>\n",
       "      <td>8</td>\n",
       "      <td>12</td>\n",
       "    </tr>\n",
       "  </tbody>\n",
       "</table>\n",
       "</div>"
      ],
      "text/plain": [
       "      co4  co6\n",
       "row1    7   11\n",
       "row2    8   12"
      ]
     },
     "execution_count": 72,
     "metadata": {},
     "output_type": "execute_result"
    }
   ],
   "source": [
    "df[['co4','co6']][:-1]"
   ]
  },
  {
   "cell_type": "markdown",
   "id": "668fe757",
   "metadata": {},
   "source": [
    "### 많이 사용하는 식"
   ]
  },
  {
   "cell_type": "markdown",
   "id": "09258499",
   "metadata": {},
   "source": [
    "- 열 추출 \n",
    "    - 하나의 열 : 데이터 프레임[열이름]\n",
    "    - 여러개 열 : 데이터 프레임[[열이름1, 열이름2]]\n",
    "    \n",
    "- 행 추출\n",
    "    - 하나의 행     : 데이터 프레임[행이름1    : 행이름1] 슬라이싱\n",
    "    - 연속된 여러행 : 데이터 프레임[행이름시작 : 행이름끝]\n",
    "      \n",
    "    - 하나의 행     : 데이터 프레임[0          :        1] 슬라이싱\n",
    "    - 연속된 여러행 : 데이터 프레임[index(처음부터) : index(끝값)]"
   ]
  },
  {
   "cell_type": "code",
   "execution_count": null,
   "id": "6952c38d",
   "metadata": {},
   "outputs": [],
   "source": []
  },
  {
   "cell_type": "code",
   "execution_count": null,
   "id": "0188f98b",
   "metadata": {},
   "outputs": [],
   "source": []
  },
  {
   "cell_type": "code",
   "execution_count": null,
   "id": "bc2d66cc",
   "metadata": {},
   "outputs": [],
   "source": []
  },
  {
   "cell_type": "code",
   "execution_count": null,
   "id": "86890777",
   "metadata": {},
   "outputs": [],
   "source": []
  },
  {
   "cell_type": "code",
   "execution_count": null,
   "id": "794e30c7",
   "metadata": {},
   "outputs": [],
   "source": []
  },
  {
   "cell_type": "code",
   "execution_count": null,
   "id": "e55383f2",
   "metadata": {},
   "outputs": [],
   "source": []
  },
  {
   "cell_type": "code",
   "execution_count": null,
   "id": "69d9b869",
   "metadata": {},
   "outputs": [],
   "source": []
  }
 ],
 "metadata": {
  "kernelspec": {
   "display_name": "ex_kernel",
   "language": "python",
   "name": "ex"
  },
  "language_info": {
   "codemirror_mode": {
    "name": "ipython",
    "version": 3
   },
   "file_extension": ".py",
   "mimetype": "text/x-python",
   "name": "python",
   "nbconvert_exporter": "python",
   "pygments_lexer": "ipython3",
   "version": "3.8.10"
  },
  "toc": {
   "base_numbering": 1,
   "nav_menu": {},
   "number_sections": true,
   "sideBar": true,
   "skip_h1_title": false,
   "title_cell": "Table of Contents",
   "title_sidebar": "Contents",
   "toc_cell": false,
   "toc_position": {
    "height": "calc(100% - 180px)",
    "left": "10px",
    "top": "150px",
    "width": "339px"
   },
   "toc_section_display": true,
   "toc_window_display": true
  }
 },
 "nbformat": 4,
 "nbformat_minor": 5
}
