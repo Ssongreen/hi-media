{
 "cells": [
  {
   "cell_type": "code",
   "execution_count": null,
   "id": "1caed74c",
   "metadata": {},
   "outputs": [
    {
     "name": "stdout",
     "output_type": "stream",
     "text": [
      "d:/theater_img/20230526/인어공주.jpg 다운로드 완료\n",
      "d:/theater_img/20230526/분노의 질주 라이드 오어 다이.jpg 다운로드 완료\n",
      "d:/theater_img/20230526/가디언즈 오브 갤럭시 Volume 3.jpg 다운로드 완료\n",
      "d:/theater_img/20230526/남은 인생 10년.jpg 다운로드 완료\n",
      "d:/theater_img/20230526/아기공룡 둘리  얼음별 대모험 리마스터링.jpg 다운로드 완료\n",
      "d:/theater_img/20230526/슈퍼 마리오 브라더스.jpg 다운로드 완료\n",
      "d:/theater_img/20230526/극장판 짱구는 못말려 동물소환 닌자 배꼽수비대.jpg 다운로드 완료\n",
      "d:/theater_img/20230526/스즈메의 문단속.jpg 다운로드 완료\n",
      "d:/theater_img/20230526/사슴의 왕.jpg 다운로드 완료\n",
      "d:/theater_img/20230526/슬픔의 삼각형.jpg 다운로드 완료\n",
      "d:/theater_img/20230526/메리 마이 데드 바디.jpg 다운로드 완료\n",
      "d:/theater_img/20230526/스프린터.jpg 다운로드 완료\n",
      "d:/theater_img/20230526/문재인입니다.jpg 다운로드 완료\n",
      "d:/theater_img/20230526/존 윅 4.jpg 다운로드 완료\n",
      "d:/theater_img/20230526/드림.jpg 다운로드 완료\n",
      "d:/theater_img/20230526/카일리 블루스.jpg 다운로드 완료\n",
      "d:/theater_img/20230526/리바운드.jpg 다운로드 완료\n",
      "d:/theater_img/20230526/옥수역귀신.jpg 다운로드 완료\n",
      "d:/theater_img/20230526/토리와 로키타.jpg 다운로드 완료\n",
      "d:/theater_img/20230526/킬링 로맨스.jpg 다운로드 완료\n",
      "d:/theater_img/20230526/줄리아의 인생극장.jpg 다운로드 완료\n",
      "d:/theater_img/20230526/내 아내 이야기.jpg 다운로드 완료\n"
     ]
    }
   ],
   "source": [
    "import json\n",
    "import requests\n",
    "from bs4 import BeautifulSoup \n",
    "import pandas as pd\n",
    "import json\n",
    "import urllib.request as request\n",
    "import os\n",
    "from datetime import datetime as date\n",
    "import re\n",
    "\n",
    "headers = {\"user-agent\": \"Mozilla/5.0 (Windows NT 10.0; Win64; x64) AppleWebKit/537.36 (KHTML, like Gecko) Chrome/112.0.0.0 Safari/537.36\"}\n",
    "\n",
    "today = str(date.now().date()).replace(\"-\",\"\")\n",
    "folder_path = f\"d:/theater_img/{today}/\" \n",
    "os.makedirs(folder_path, exist_ok=True)\n",
    "\n",
    "movie_info = []\n",
    "for x in range(1,3):\n",
    "    url = f\"https://movie.daum.net/api/premovie?page={x}&size=20&flag=Y\"\n",
    "    httpjson = requests.get(url)\n",
    "    httpjson.text\n",
    "    movies =json.loads(httpjson.text)\n",
    "    movies=movies['contents']\n",
    "\n",
    "    for i, movie in enumerate(movies):\n",
    "        name = movies[i]['titleKorean']\n",
    "        img = movies[i]['mainPhoto']['imageUrl']\n",
    "        movie_info.append((name, img))\n",
    "        name = re.sub(r'[<>:\"/\\\\|?*]', '', name)\n",
    "        save_path = f\"{folder_path}{name}.jpg\"\n",
    "        request.urlretrieve(img, save_path)\n",
    "        print(f\"{save_path} 다운로드 완료\")\n",
    "print(\"이미지 다운로드가 완료\")"
   ]
  },
  {
   "cell_type": "code",
   "execution_count": null,
   "id": "97bf4f06",
   "metadata": {},
   "outputs": [],
   "source": []
  },
  {
   "cell_type": "code",
   "execution_count": null,
   "id": "e1c97b1f",
   "metadata": {},
   "outputs": [],
   "source": []
  }
 ],
 "metadata": {
  "kernelspec": {
   "display_name": "ex_kernel",
   "language": "python",
   "name": "ex"
  },
  "language_info": {
   "codemirror_mode": {
    "name": "ipython",
    "version": 3
   },
   "file_extension": ".py",
   "mimetype": "text/x-python",
   "name": "python",
   "nbconvert_exporter": "python",
   "pygments_lexer": "ipython3",
   "version": "3.8.10"
  },
  "toc": {
   "base_numbering": 1,
   "nav_menu": {},
   "number_sections": true,
   "sideBar": true,
   "skip_h1_title": false,
   "title_cell": "Table of Contents",
   "title_sidebar": "Contents",
   "toc_cell": false,
   "toc_position": {},
   "toc_section_display": true,
   "toc_window_display": false
  }
 },
 "nbformat": 4,
 "nbformat_minor": 5
}
