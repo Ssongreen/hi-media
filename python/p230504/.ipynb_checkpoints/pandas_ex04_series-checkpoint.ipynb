{
 "cells": [
  {
   "cell_type": "markdown",
   "id": "1147951e",
   "metadata": {},
   "source": [
    "# series\n"
   ]
  },
  {
   "cell_type": "code",
   "execution_count": null,
   "id": "96ab8480",
   "metadata": {},
   "outputs": [],
   "source": [
    "## 시리즈 생성"
   ]
  },
  {
   "cell_type": "code",
   "execution_count": 51,
   "id": "f1220193",
   "metadata": {},
   "outputs": [],
   "source": [
    "import pandas as pd"
   ]
  },
  {
   "cell_type": "code",
   "execution_count": 5,
   "id": "095e8e4a",
   "metadata": {},
   "outputs": [
    {
     "data": {
      "text/plain": [
       "0    10\n",
       "1    20\n",
       "2    30\n",
       "3    40\n",
       "dtype: int64"
      ]
     },
     "execution_count": 5,
     "metadata": {},
     "output_type": "execute_result"
    }
   ],
   "source": [
    "se = pd.Series([10,20,30,40])\n",
    "se"
   ]
  },
  {
   "cell_type": "code",
   "execution_count": 6,
   "id": "e0ac5686",
   "metadata": {},
   "outputs": [
    {
     "data": {
      "text/plain": [
       "pandas.core.series.Series"
      ]
     },
     "execution_count": 6,
     "metadata": {},
     "output_type": "execute_result"
    }
   ],
   "source": [
    "type(se)"
   ]
  },
  {
   "cell_type": "code",
   "execution_count": null,
   "id": "93a69366",
   "metadata": {},
   "outputs": [],
   "source": [
    "# series에서는 같아요\n",
    "se.dtype\n",
    "se.dtypes"
   ]
  },
  {
   "cell_type": "markdown",
   "id": "de9bc0d4",
   "metadata": {},
   "source": [
    "## 인덱스"
   ]
  },
  {
   "cell_type": "code",
   "execution_count": 7,
   "id": "1105734f",
   "metadata": {},
   "outputs": [
    {
     "data": {
      "text/plain": [
       "RangeIndex(start=0, stop=4, step=1)"
      ]
     },
     "execution_count": 7,
     "metadata": {},
     "output_type": "execute_result"
    }
   ],
   "source": [
    "se.index"
   ]
  },
  {
   "cell_type": "markdown",
   "id": "7dfbaca0",
   "metadata": {},
   "source": [
    "### 인덱싱 통해 가능"
   ]
  },
  {
   "cell_type": "code",
   "execution_count": 8,
   "id": "509b9d74",
   "metadata": {},
   "outputs": [
    {
     "data": {
      "text/plain": [
       "1"
      ]
     },
     "execution_count": 8,
     "metadata": {},
     "output_type": "execute_result"
    }
   ],
   "source": [
    "se.index[1]"
   ]
  },
  {
   "cell_type": "markdown",
   "id": "a76d8af9",
   "metadata": {},
   "source": [
    "### 슬라이싱 가능"
   ]
  },
  {
   "cell_type": "code",
   "execution_count": 10,
   "id": "ec1d9866",
   "metadata": {},
   "outputs": [
    {
     "data": {
      "text/plain": [
       "RangeIndex(start=1, stop=4, step=1)"
      ]
     },
     "execution_count": 10,
     "metadata": {},
     "output_type": "execute_result"
    }
   ],
   "source": [
    "se.index[1:]"
   ]
  },
  {
   "cell_type": "markdown",
   "id": "5e9349f4",
   "metadata": {},
   "source": [
    "### 인덱스 변경"
   ]
  },
  {
   "cell_type": "markdown",
   "id": "16eb9fc5",
   "metadata": {},
   "source": [
    "#### 인덱스 일부 변경 "
   ]
  },
  {
   "cell_type": "code",
   "execution_count": 14,
   "id": "d660de0a",
   "metadata": {},
   "outputs": [],
   "source": [
    "se.rename({1: 'one'},inplace=True)"
   ]
  },
  {
   "cell_type": "code",
   "execution_count": 15,
   "id": "e2153a5f",
   "metadata": {},
   "outputs": [
    {
     "data": {
      "text/plain": [
       "Index([0, 'one', 2, 3], dtype='object')"
      ]
     },
     "execution_count": 15,
     "metadata": {},
     "output_type": "execute_result"
    }
   ],
   "source": [
    "se.index"
   ]
  },
  {
   "cell_type": "markdown",
   "id": "510e49f3",
   "metadata": {},
   "source": [
    "#### 전체변경 "
   ]
  },
  {
   "cell_type": "code",
   "execution_count": 20,
   "id": "194c2b52",
   "metadata": {},
   "outputs": [
    {
     "data": {
      "text/plain": [
       "하나    10\n",
       "둘     20\n",
       "삼     30\n",
       "넷     40\n",
       "dtype: int64"
      ]
     },
     "execution_count": 20,
     "metadata": {},
     "output_type": "execute_result"
    }
   ],
   "source": [
    "se.index= ['하나','둘','삼','넷']\n",
    "se\n"
   ]
  },
  {
   "cell_type": "code",
   "execution_count": 25,
   "id": "d5fa2378",
   "metadata": {},
   "outputs": [
    {
     "data": {
      "text/plain": [
       "10"
      ]
     },
     "execution_count": 25,
     "metadata": {},
     "output_type": "execute_result"
    }
   ],
   "source": [
    "# 첫번 째 값 추출\n",
    "se['하나']\n",
    "se[0]"
   ]
  },
  {
   "cell_type": "code",
   "execution_count": 23,
   "id": "7a560654",
   "metadata": {},
   "outputs": [
    {
     "data": {
      "text/plain": [
       "10"
      ]
     },
     "execution_count": 23,
     "metadata": {},
     "output_type": "execute_result"
    }
   ],
   "source": [
    "se.loc['하나']"
   ]
  },
  {
   "cell_type": "code",
   "execution_count": 24,
   "id": "3617f3ac",
   "metadata": {},
   "outputs": [
    {
     "data": {
      "text/plain": [
       "20"
      ]
     },
     "execution_count": 24,
     "metadata": {},
     "output_type": "execute_result"
    }
   ],
   "source": [
    "se.iloc[1]"
   ]
  },
  {
   "cell_type": "code",
   "execution_count": 29,
   "id": "7914a34e",
   "metadata": {},
   "outputs": [
    {
     "data": {
      "text/plain": [
       "40"
      ]
     },
     "execution_count": 29,
     "metadata": {},
     "output_type": "execute_result"
    }
   ],
   "source": [
    "se[-1]\n",
    "se.loc['넷']\n",
    "se.iloc[-1]"
   ]
  },
  {
   "cell_type": "code",
   "execution_count": 34,
   "id": "1eee55b6",
   "metadata": {},
   "outputs": [
    {
     "data": {
      "text/plain": [
       "하나    10\n",
       "둘     20\n",
       "dtype: int64"
      ]
     },
     "execution_count": 34,
     "metadata": {},
     "output_type": "execute_result"
    }
   ],
   "source": [
    "se[:'둘']"
   ]
  },
  {
   "cell_type": "code",
   "execution_count": 36,
   "id": "e4e2d03a",
   "metadata": {},
   "outputs": [
    {
     "data": {
      "text/plain": [
       "0    10\n",
       "1    20\n",
       "2    30\n",
       "3    40\n",
       "dtype: int64"
      ]
     },
     "execution_count": 36,
     "metadata": {},
     "output_type": "execute_result"
    }
   ],
   "source": [
    "## 인덱스 변경\n",
    "se.index = range(4)\n"
   ]
  },
  {
   "cell_type": "code",
   "execution_count": 37,
   "id": "2980bdb0",
   "metadata": {},
   "outputs": [
    {
     "data": {
      "text/plain": [
       "40"
      ]
     },
     "execution_count": 37,
     "metadata": {},
     "output_type": "execute_result"
    }
   ],
   "source": [
    "# 첫번쨰 값\n",
    "se[3]"
   ]
  },
  {
   "cell_type": "code",
   "execution_count": 38,
   "id": "ca2de6a0",
   "metadata": {
    "collapsed": true
   },
   "outputs": [
    {
     "ename": "KeyError",
     "evalue": "-1",
     "output_type": "error",
     "traceback": [
      "\u001b[1;31m---------------------------------------------------------------------------\u001b[0m",
      "\u001b[1;31mValueError\u001b[0m                                Traceback (most recent call last)",
      "File \u001b[1;32m~\\anaconda3\\envs\\ex\\lib\\site-packages\\pandas\\core\\indexes\\range.py:345\u001b[0m, in \u001b[0;36mRangeIndex.get_loc\u001b[1;34m(self, key)\u001b[0m\n\u001b[0;32m    344\u001b[0m \u001b[38;5;28;01mtry\u001b[39;00m:\n\u001b[1;32m--> 345\u001b[0m     \u001b[38;5;28;01mreturn\u001b[39;00m \u001b[38;5;28;43mself\u001b[39;49m\u001b[38;5;241;43m.\u001b[39;49m\u001b[43m_range\u001b[49m\u001b[38;5;241;43m.\u001b[39;49m\u001b[43mindex\u001b[49m\u001b[43m(\u001b[49m\u001b[43mnew_key\u001b[49m\u001b[43m)\u001b[49m\n\u001b[0;32m    346\u001b[0m \u001b[38;5;28;01mexcept\u001b[39;00m \u001b[38;5;167;01mValueError\u001b[39;00m \u001b[38;5;28;01mas\u001b[39;00m err:\n",
      "\u001b[1;31mValueError\u001b[0m: -1 is not in range",
      "\nThe above exception was the direct cause of the following exception:\n",
      "\u001b[1;31mKeyError\u001b[0m                                  Traceback (most recent call last)",
      "Cell \u001b[1;32mIn[38], line 1\u001b[0m\n\u001b[1;32m----> 1\u001b[0m \u001b[43mse\u001b[49m\u001b[43m[\u001b[49m\u001b[38;5;241;43m-\u001b[39;49m\u001b[38;5;241;43m1\u001b[39;49m\u001b[43m]\u001b[49m\n",
      "File \u001b[1;32m~\\anaconda3\\envs\\ex\\lib\\site-packages\\pandas\\core\\series.py:1007\u001b[0m, in \u001b[0;36mSeries.__getitem__\u001b[1;34m(self, key)\u001b[0m\n\u001b[0;32m   1004\u001b[0m     \u001b[38;5;28;01mreturn\u001b[39;00m \u001b[38;5;28mself\u001b[39m\u001b[38;5;241m.\u001b[39m_values[key]\n\u001b[0;32m   1006\u001b[0m \u001b[38;5;28;01melif\u001b[39;00m key_is_scalar:\n\u001b[1;32m-> 1007\u001b[0m     \u001b[38;5;28;01mreturn\u001b[39;00m \u001b[38;5;28;43mself\u001b[39;49m\u001b[38;5;241;43m.\u001b[39;49m\u001b[43m_get_value\u001b[49m\u001b[43m(\u001b[49m\u001b[43mkey\u001b[49m\u001b[43m)\u001b[49m\n\u001b[0;32m   1009\u001b[0m \u001b[38;5;28;01mif\u001b[39;00m is_hashable(key):\n\u001b[0;32m   1010\u001b[0m     \u001b[38;5;66;03m# Otherwise index.get_value will raise InvalidIndexError\u001b[39;00m\n\u001b[0;32m   1011\u001b[0m     \u001b[38;5;28;01mtry\u001b[39;00m:\n\u001b[0;32m   1012\u001b[0m         \u001b[38;5;66;03m# For labels that don't resolve as scalars like tuples and frozensets\u001b[39;00m\n",
      "File \u001b[1;32m~\\anaconda3\\envs\\ex\\lib\\site-packages\\pandas\\core\\series.py:1116\u001b[0m, in \u001b[0;36mSeries._get_value\u001b[1;34m(self, label, takeable)\u001b[0m\n\u001b[0;32m   1113\u001b[0m     \u001b[38;5;28;01mreturn\u001b[39;00m \u001b[38;5;28mself\u001b[39m\u001b[38;5;241m.\u001b[39m_values[label]\n\u001b[0;32m   1115\u001b[0m \u001b[38;5;66;03m# Similar to Index.get_value, but we do not fall back to positional\u001b[39;00m\n\u001b[1;32m-> 1116\u001b[0m loc \u001b[38;5;241m=\u001b[39m \u001b[38;5;28;43mself\u001b[39;49m\u001b[38;5;241;43m.\u001b[39;49m\u001b[43mindex\u001b[49m\u001b[38;5;241;43m.\u001b[39;49m\u001b[43mget_loc\u001b[49m\u001b[43m(\u001b[49m\u001b[43mlabel\u001b[49m\u001b[43m)\u001b[49m\n\u001b[0;32m   1118\u001b[0m \u001b[38;5;28;01mif\u001b[39;00m is_integer(loc):\n\u001b[0;32m   1119\u001b[0m     \u001b[38;5;28;01mreturn\u001b[39;00m \u001b[38;5;28mself\u001b[39m\u001b[38;5;241m.\u001b[39m_values[loc]\n",
      "File \u001b[1;32m~\\anaconda3\\envs\\ex\\lib\\site-packages\\pandas\\core\\indexes\\range.py:347\u001b[0m, in \u001b[0;36mRangeIndex.get_loc\u001b[1;34m(self, key)\u001b[0m\n\u001b[0;32m    345\u001b[0m         \u001b[38;5;28;01mreturn\u001b[39;00m \u001b[38;5;28mself\u001b[39m\u001b[38;5;241m.\u001b[39m_range\u001b[38;5;241m.\u001b[39mindex(new_key)\n\u001b[0;32m    346\u001b[0m     \u001b[38;5;28;01mexcept\u001b[39;00m \u001b[38;5;167;01mValueError\u001b[39;00m \u001b[38;5;28;01mas\u001b[39;00m err:\n\u001b[1;32m--> 347\u001b[0m         \u001b[38;5;28;01mraise\u001b[39;00m \u001b[38;5;167;01mKeyError\u001b[39;00m(key) \u001b[38;5;28;01mfrom\u001b[39;00m \u001b[38;5;21;01merr\u001b[39;00m\n\u001b[0;32m    348\u001b[0m \u001b[38;5;28;01mif\u001b[39;00m \u001b[38;5;28misinstance\u001b[39m(key, Hashable):\n\u001b[0;32m    349\u001b[0m     \u001b[38;5;28;01mraise\u001b[39;00m \u001b[38;5;167;01mKeyError\u001b[39;00m(key)\n",
      "\u001b[1;31mKeyError\u001b[0m: -1"
     ]
    }
   ],
   "source": [
    "se[-1]"
   ]
  },
  {
   "cell_type": "markdown",
   "id": "cacea2cb",
   "metadata": {},
   "source": [
    "## 값만 추출"
   ]
  },
  {
   "cell_type": "code",
   "execution_count": 44,
   "id": "ca41106a",
   "metadata": {},
   "outputs": [
    {
     "data": {
      "text/plain": [
       "array([10, 20, 30, 40], dtype=int64)"
      ]
     },
     "execution_count": 44,
     "metadata": {},
     "output_type": "execute_result"
    }
   ],
   "source": [
    "se.values"
   ]
  },
  {
   "cell_type": "markdown",
   "id": "c6e5a52e",
   "metadata": {},
   "source": [
    "### 타입 (배열)"
   ]
  },
  {
   "cell_type": "code",
   "execution_count": 45,
   "id": "9ee49d13",
   "metadata": {},
   "outputs": [
    {
     "data": {
      "text/plain": [
       "numpy.ndarray"
      ]
     },
     "execution_count": 45,
     "metadata": {},
     "output_type": "execute_result"
    }
   ],
   "source": [
    "type(se.values)"
   ]
  },
  {
   "cell_type": "code",
   "execution_count": 46,
   "id": "6f587e3a",
   "metadata": {},
   "outputs": [
    {
     "data": {
      "text/plain": [
       "10    1\n",
       "20    1\n",
       "30    1\n",
       "40    1\n",
       "Name: count, dtype: int64"
      ]
     },
     "execution_count": 46,
     "metadata": {},
     "output_type": "execute_result"
    }
   ],
   "source": [
    "# 해당이 시리즈에 값이 몇개가 있는지 보여준다.\n",
    "se.value_counts() "
   ]
  },
  {
   "cell_type": "markdown",
   "id": "013780ff",
   "metadata": {},
   "source": [
    "## 시리즈 연산\n",
    "### 시리즈 생성 인덱스 다를때"
   ]
  },
  {
   "cell_type": "code",
   "execution_count": 56,
   "id": "e2060141",
   "metadata": {},
   "outputs": [],
   "source": [
    "s1 = pd.Series([2, 4, 6], index=['n1', 'n2', 'n3'])\n",
    "# s2 = pd.Series([1, 5, 3], index=['n1', 'n2', 'n3'])\n",
    "s2 = pd.Series([1, 5, 3], index=['n1', 'n3', 'n2'])\n"
   ]
  },
  {
   "cell_type": "code",
   "execution_count": 64,
   "id": "dabf8c87",
   "metadata": {},
   "outputs": [
    {
     "data": {
      "text/plain": [
       "n1     3\n",
       "n2     7\n",
       "n3    11\n",
       "dtype: int64"
      ]
     },
     "execution_count": 64,
     "metadata": {},
     "output_type": "execute_result"
    }
   ],
   "source": [
    "s1 + s2"
   ]
  },
  {
   "cell_type": "markdown",
   "id": "bd9f6dae",
   "metadata": {},
   "source": [
    "## 연산"
   ]
  },
  {
   "cell_type": "code",
   "execution_count": 57,
   "id": "cb1ffb49",
   "metadata": {},
   "outputs": [
    {
     "data": {
      "text/plain": [
       "n1    2\n",
       "n2    4\n",
       "n3    6\n",
       "dtype: int64"
      ]
     },
     "execution_count": 57,
     "metadata": {},
     "output_type": "execute_result"
    }
   ],
   "source": [
    "s1"
   ]
  },
  {
   "cell_type": "code",
   "execution_count": 58,
   "id": "c65d3ebf",
   "metadata": {},
   "outputs": [
    {
     "data": {
      "text/plain": [
       "n1    1\n",
       "n3    5\n",
       "n2    3\n",
       "dtype: int64"
      ]
     },
     "execution_count": 58,
     "metadata": {},
     "output_type": "execute_result"
    }
   ],
   "source": [
    "s2"
   ]
  },
  {
   "cell_type": "markdown",
   "id": "05e0f659",
   "metadata": {},
   "source": [
    "## 시리즈 : 없는 인덱스"
   ]
  },
  {
   "cell_type": "code",
   "execution_count": 60,
   "id": "39e15b71",
   "metadata": {},
   "outputs": [],
   "source": [
    "s3 = pd.Series([2, 4, 6], index=['n1', 'n2', 'n3'])\n",
    "s4 = pd.Series([1, 5, 3], index=['n1', 'n3', 'n5'])"
   ]
  },
  {
   "cell_type": "code",
   "execution_count": 61,
   "id": "8f4180d1",
   "metadata": {},
   "outputs": [
    {
     "data": {
      "text/plain": [
       "n1    2\n",
       "n2    4\n",
       "n3    6\n",
       "dtype: int64"
      ]
     },
     "execution_count": 61,
     "metadata": {},
     "output_type": "execute_result"
    }
   ],
   "source": [
    "s3"
   ]
  },
  {
   "cell_type": "code",
   "execution_count": 62,
   "id": "e1ee84e7",
   "metadata": {},
   "outputs": [
    {
     "data": {
      "text/plain": [
       "n1    1\n",
       "n3    5\n",
       "n5    3\n",
       "dtype: int64"
      ]
     },
     "execution_count": 62,
     "metadata": {},
     "output_type": "execute_result"
    }
   ],
   "source": [
    "s4"
   ]
  },
  {
   "cell_type": "code",
   "execution_count": 63,
   "id": "0faab3ac",
   "metadata": {},
   "outputs": [
    {
     "data": {
      "text/plain": [
       "n1     3.0\n",
       "n2     NaN\n",
       "n3    11.0\n",
       "n5     NaN\n",
       "dtype: float64"
      ]
     },
     "execution_count": 63,
     "metadata": {},
     "output_type": "execute_result"
    }
   ],
   "source": [
    "s3 + s4"
   ]
  },
  {
   "cell_type": "code",
   "execution_count": null,
   "id": "660205ba",
   "metadata": {},
   "outputs": [],
   "source": []
  },
  {
   "cell_type": "code",
   "execution_count": null,
   "id": "3df79bad",
   "metadata": {},
   "outputs": [],
   "source": []
  },
  {
   "cell_type": "code",
   "execution_count": null,
   "id": "0c5f2813",
   "metadata": {},
   "outputs": [],
   "source": []
  }
 ],
 "metadata": {
  "kernelspec": {
   "display_name": "ex_kernel",
   "language": "python",
   "name": "ex"
  },
  "language_info": {
   "codemirror_mode": {
    "name": "ipython",
    "version": 3
   },
   "file_extension": ".py",
   "mimetype": "text/x-python",
   "name": "python",
   "nbconvert_exporter": "python",
   "pygments_lexer": "ipython3",
   "version": "3.8.10"
  },
  "toc": {
   "base_numbering": 1,
   "nav_menu": {},
   "number_sections": true,
   "sideBar": true,
   "skip_h1_title": false,
   "title_cell": "Table of Contents",
   "title_sidebar": "Contents",
   "toc_cell": false,
   "toc_position": {
    "height": "calc(100% - 180px)",
    "left": "10px",
    "top": "150px",
    "width": "212px"
   },
   "toc_section_display": true,
   "toc_window_display": true
  }
 },
 "nbformat": 4,
 "nbformat_minor": 5
}
