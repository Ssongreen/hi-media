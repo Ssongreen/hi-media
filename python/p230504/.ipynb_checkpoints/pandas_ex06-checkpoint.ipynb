{
 "cells": [
  {
   "cell_type": "code",
   "execution_count": 2,
   "id": "df777816",
   "metadata": {},
   "outputs": [
    {
     "data": {
      "text/html": [
       "<div>\n",
       "<style scoped>\n",
       "    .dataframe tbody tr th:only-of-type {\n",
       "        vertical-align: middle;\n",
       "    }\n",
       "\n",
       "    .dataframe tbody tr th {\n",
       "        vertical-align: top;\n",
       "    }\n",
       "\n",
       "    .dataframe thead th {\n",
       "        text-align: right;\n",
       "    }\n",
       "</style>\n",
       "<table border=\"1\" class=\"dataframe\">\n",
       "  <thead>\n",
       "    <tr style=\"text-align: right;\">\n",
       "      <th></th>\n",
       "      <th>city</th>\n",
       "      <th>total1</th>\n",
       "      <th>total2</th>\n",
       "    </tr>\n",
       "  </thead>\n",
       "  <tbody>\n",
       "    <tr>\n",
       "      <th>0</th>\n",
       "      <td>서울</td>\n",
       "      <td>1258358</td>\n",
       "      <td>12600</td>\n",
       "    </tr>\n",
       "    <tr>\n",
       "      <th>1</th>\n",
       "      <td>경기도</td>\n",
       "      <td>35162</td>\n",
       "      <td>35100</td>\n",
       "    </tr>\n",
       "    <tr>\n",
       "      <th>2</th>\n",
       "      <td>제주</td>\n",
       "      <td>26272</td>\n",
       "      <td>26200</td>\n",
       "    </tr>\n",
       "    <tr>\n",
       "      <th>3</th>\n",
       "      <td>부산</td>\n",
       "      <td>3416</td>\n",
       "      <td>77006</td>\n",
       "    </tr>\n",
       "  </tbody>\n",
       "</table>\n",
       "</div>"
      ],
      "text/plain": [
       "  city   total1  total2\n",
       "0   서울  1258358   12600\n",
       "1  경기도    35162   35100\n",
       "2   제주    26272   26200\n",
       "3   부산     3416   77006"
      ]
     },
     "execution_count": 2,
     "metadata": {},
     "output_type": "execute_result"
    }
   ],
   "source": [
    "import pandas as pd\n",
    "\n",
    "data = {\n",
    "    'city' : ['서울','경기도','제주','부산'],\n",
    "    'total1' : [1258358,35162,26272,3416],\n",
    "    'total2' : [12600,35100,26200,77006]\n",
    "    \n",
    "}\n",
    "data_frame = pd.DataFrame(data)\n",
    "data_frame"
   ]
  },
  {
   "cell_type": "code",
   "execution_count": 3,
   "id": "171b8b54",
   "metadata": {},
   "outputs": [
    {
     "data": {
      "text/plain": [
       "city      object\n",
       "total1     int64\n",
       "total2     int64\n",
       "dtype: object"
      ]
     },
     "execution_count": 3,
     "metadata": {},
     "output_type": "execute_result"
    }
   ],
   "source": [
    "data_frame.dtypes"
   ]
  },
  {
   "cell_type": "markdown",
   "id": "69505236",
   "metadata": {},
   "source": [
    "# dtype 변경"
   ]
  },
  {
   "cell_type": "markdown",
   "id": "f39c4fc2",
   "metadata": {},
   "source": [
    "## apply 함수\n",
    "- 문법 데이터프레임['컬럼명'].apply(파이썬 기본자료형)\n",
    "- 대입해야지만 저장가능해요"
   ]
  },
  {
   "cell_type": "code",
   "execution_count": 6,
   "id": "32a1bac7",
   "metadata": {
    "scrolled": true
   },
   "outputs": [
    {
     "data": {
      "text/plain": [
       "0    1258358\n",
       "1      35162\n",
       "2      26272\n",
       "3       3416\n",
       "Name: total1, dtype: object"
      ]
     },
     "execution_count": 6,
     "metadata": {},
     "output_type": "execute_result"
    }
   ],
   "source": [
    "## total1 -> object 변경\n",
    "data_frame.total1.apply(str)"
   ]
  },
  {
   "cell_type": "code",
   "execution_count": 7,
   "id": "80a51b34",
   "metadata": {
    "scrolled": true
   },
   "outputs": [
    {
     "data": {
      "text/plain": [
       "'1258358'"
      ]
     },
     "execution_count": 7,
     "metadata": {},
     "output_type": "execute_result"
    }
   ],
   "source": [
    "## total1 -> object 변경\n",
    "data_frame.total1.apply(str)[0]"
   ]
  },
  {
   "cell_type": "code",
   "execution_count": 9,
   "id": "62b048bf",
   "metadata": {},
   "outputs": [
    {
     "data": {
      "text/plain": [
       "city      object\n",
       "total1    object\n",
       "total2     int64\n",
       "dtype: object"
      ]
     },
     "execution_count": 9,
     "metadata": {},
     "output_type": "execute_result"
    }
   ],
   "source": [
    "data_frame.total1 = data_frame.total1.apply(str)\n",
    "data_frame.dtypes"
   ]
  },
  {
   "cell_type": "markdown",
   "id": "ad240d75",
   "metadata": {},
   "source": [
    "### 여러 컬럼"
   ]
  },
  {
   "cell_type": "code",
   "execution_count": null,
   "id": "53ee3153",
   "metadata": {},
   "outputs": [],
   "source": []
  },
  {
   "cell_type": "code",
   "execution_count": 38,
   "id": "cda64217",
   "metadata": {},
   "outputs": [
    {
     "data": {
      "text/html": [
       "<div>\n",
       "<style scoped>\n",
       "    .dataframe tbody tr th:only-of-type {\n",
       "        vertical-align: middle;\n",
       "    }\n",
       "\n",
       "    .dataframe tbody tr th {\n",
       "        vertical-align: top;\n",
       "    }\n",
       "\n",
       "    .dataframe thead th {\n",
       "        text-align: right;\n",
       "    }\n",
       "</style>\n",
       "<table border=\"1\" class=\"dataframe\">\n",
       "  <thead>\n",
       "    <tr style=\"text-align: right;\">\n",
       "      <th></th>\n",
       "      <th>total1</th>\n",
       "      <th>total2</th>\n",
       "    </tr>\n",
       "  </thead>\n",
       "  <tbody>\n",
       "    <tr>\n",
       "      <th>0</th>\n",
       "      <td>1258358</td>\n",
       "      <td>12600</td>\n",
       "    </tr>\n",
       "    <tr>\n",
       "      <th>1</th>\n",
       "      <td>35162</td>\n",
       "      <td>35100</td>\n",
       "    </tr>\n",
       "    <tr>\n",
       "      <th>2</th>\n",
       "      <td>26272</td>\n",
       "      <td>26200</td>\n",
       "    </tr>\n",
       "    <tr>\n",
       "      <th>3</th>\n",
       "      <td>3416</td>\n",
       "      <td>77006</td>\n",
       "    </tr>\n",
       "  </tbody>\n",
       "</table>\n",
       "</div>"
      ],
      "text/plain": [
       "    total1  total2\n",
       "0  1258358   12600\n",
       "1    35162   35100\n",
       "2    26272   26200\n",
       "3     3416   77006"
      ]
     },
     "execution_count": 38,
     "metadata": {},
     "output_type": "execute_result"
    }
   ],
   "source": [
    "## total1, total2 를 flaot\n",
    "#apply는 자료형이 하나만 변경되용\n",
    "#apply(pd.to_numeric)는 자기 생각한 대로 자료 변경\n",
    "data_frame[['total1','total2']].apply(pd.to_numeric)"
   ]
  },
  {
   "cell_type": "markdown",
   "id": "b18b0a72",
   "metadata": {},
   "source": [
    "## astype 함수\n",
    "- 변경이 자유롭고 자주 쓰는 함수쓰\n",
    "- 문법 \n",
    "    - 시리즈.astype('type')\n",
    "    - dataFrame.astype({컬럼명:'type', 여러게})"
   ]
  },
  {
   "cell_type": "code",
   "execution_count": 42,
   "id": "16fd41c4",
   "metadata": {},
   "outputs": [
    {
     "data": {
      "text/plain": [
       "city      object\n",
       "total1    object\n",
       "total2     int64\n",
       "dtype: object"
      ]
     },
     "execution_count": 42,
     "metadata": {},
     "output_type": "execute_result"
    }
   ],
   "source": [
    "data_frame.dtypes"
   ]
  },
  {
   "cell_type": "code",
   "execution_count": 50,
   "id": "7e942c94",
   "metadata": {},
   "outputs": [
    {
     "data": {
      "text/plain": [
       "0    1.0\n",
       "1    3.0\n",
       "2    6.0\n",
       "dtype: float16"
      ]
     },
     "execution_count": 50,
     "metadata": {},
     "output_type": "execute_result"
    }
   ],
   "source": [
    "pd.Series([1,3,6]).astype('float16')"
   ]
  },
  {
   "cell_type": "code",
   "execution_count": 43,
   "id": "509d6cd5",
   "metadata": {},
   "outputs": [
    {
     "data": {
      "text/plain": [
       "0    1258358.0\n",
       "1      35162.0\n",
       "2      26272.0\n",
       "3       3416.0\n",
       "Name: total1, dtype: float64"
      ]
     },
     "execution_count": 43,
     "metadata": {},
     "output_type": "execute_result"
    }
   ],
   "source": [
    "data_frame.total1.astype(float)"
   ]
  },
  {
   "cell_type": "code",
   "execution_count": 49,
   "id": "c6c5a8ac",
   "metadata": {},
   "outputs": [
    {
     "name": "stderr",
     "output_type": "stream",
     "text": [
      "C:\\Users\\hi-sinchon\\anaconda3\\envs\\ex\\lib\\site-packages\\pandas\\core\\dtypes\\astype.py:138: RuntimeWarning: overflow encountered in cast\n",
      "  return arr.astype(dtype, copy=True)\n"
     ]
    },
    {
     "data": {
      "text/plain": [
       "0        inf\n",
       "1    35168.0\n",
       "2    26272.0\n",
       "3     3416.0\n",
       "Name: total1, dtype: float16"
      ]
     },
     "execution_count": 49,
     "metadata": {},
     "output_type": "execute_result"
    }
   ],
   "source": [
    "#infinite \n",
    "data_frame.total1.astype('float16')"
   ]
  },
  {
   "cell_type": "code",
   "execution_count": 44,
   "id": "6170dfe0",
   "metadata": {},
   "outputs": [
    {
     "data": {
      "text/plain": [
       "0    1258358.0\n",
       "1      35162.0\n",
       "2      26272.0\n",
       "3       3416.0\n",
       "Name: total1, dtype: float32"
      ]
     },
     "execution_count": 44,
     "metadata": {},
     "output_type": "execute_result"
    }
   ],
   "source": [
    "data_frame.total1.astype('float32')"
   ]
  },
  {
   "cell_type": "code",
   "execution_count": 45,
   "id": "eb518a5a",
   "metadata": {},
   "outputs": [
    {
     "data": {
      "text/plain": [
       "0    1258358.0\n",
       "1      35162.0\n",
       "2      26272.0\n",
       "3       3416.0\n",
       "Name: total1, dtype: float64"
      ]
     },
     "execution_count": 45,
     "metadata": {},
     "output_type": "execute_result"
    }
   ],
   "source": [
    "data_frame.total1.astype('float64')"
   ]
  },
  {
   "cell_type": "code",
   "execution_count": 51,
   "id": "86bfcaa2",
   "metadata": {},
   "outputs": [
    {
     "data": {
      "text/plain": [
       "0    1258358\n",
       "1      35162\n",
       "2      26272\n",
       "3       3416\n",
       "Name: total1, dtype: int32"
      ]
     },
     "execution_count": 51,
     "metadata": {},
     "output_type": "execute_result"
    }
   ],
   "source": [
    "data_frame.total1.astype(int)"
   ]
  },
  {
   "cell_type": "code",
   "execution_count": 58,
   "id": "dc055d5c",
   "metadata": {},
   "outputs": [
    {
     "data": {
      "text/plain": [
       "0    1258358\n",
       "1      35162\n",
       "2      26272\n",
       "3       3416\n",
       "Name: total1, dtype: int64"
      ]
     },
     "execution_count": 58,
     "metadata": {},
     "output_type": "execute_result"
    }
   ],
   "source": [
    "data_frame.total1.astype('int64')"
   ]
  },
  {
   "cell_type": "markdown",
   "id": "08edd087",
   "metadata": {},
   "source": [
    "# **데이터 값은 값에 맞춰서 만들어요"
   ]
  },
  {
   "cell_type": "code",
   "execution_count": 60,
   "id": "ccd05545",
   "metadata": {},
   "outputs": [
    {
     "data": {
      "text/plain": [
       "city      object\n",
       "total1    object\n",
       "total2     int64\n",
       "dtype: object"
      ]
     },
     "execution_count": 60,
     "metadata": {},
     "output_type": "execute_result"
    }
   ],
   "source": [
    "data_frame.dtypes"
   ]
  },
  {
   "cell_type": "code",
   "execution_count": 62,
   "id": "90927fb4",
   "metadata": {
    "scrolled": true
   },
   "outputs": [
    {
     "data": {
      "text/plain": [
       "city       object\n",
       "total1    float64\n",
       "total2    float64\n",
       "dtype: object"
      ]
     },
     "execution_count": 62,
     "metadata": {},
     "output_type": "execute_result"
    }
   ],
   "source": [
    "data_frame.astype({'total1':'float','total2':float}).dtypes"
   ]
  },
  {
   "cell_type": "code",
   "execution_count": 63,
   "id": "1caea1bb",
   "metadata": {
    "scrolled": true
   },
   "outputs": [
    {
     "data": {
      "text/plain": [
       "city       object\n",
       "total1    float32\n",
       "total2     object\n",
       "dtype: object"
      ]
     },
     "execution_count": 63,
     "metadata": {},
     "output_type": "execute_result"
    }
   ],
   "source": [
    "data_frame.astype({'total1':'float32','total2':str}).dtypes"
   ]
  },
  {
   "cell_type": "code",
   "execution_count": 64,
   "id": "e9b1d42c",
   "metadata": {},
   "outputs": [
    {
     "data": {
      "text/html": [
       "<div>\n",
       "<style scoped>\n",
       "    .dataframe tbody tr th:only-of-type {\n",
       "        vertical-align: middle;\n",
       "    }\n",
       "\n",
       "    .dataframe tbody tr th {\n",
       "        vertical-align: top;\n",
       "    }\n",
       "\n",
       "    .dataframe thead th {\n",
       "        text-align: right;\n",
       "    }\n",
       "</style>\n",
       "<table border=\"1\" class=\"dataframe\">\n",
       "  <thead>\n",
       "    <tr style=\"text-align: right;\">\n",
       "      <th></th>\n",
       "      <th>city</th>\n",
       "      <th>total1</th>\n",
       "      <th>total2</th>\n",
       "    </tr>\n",
       "  </thead>\n",
       "  <tbody>\n",
       "    <tr>\n",
       "      <th>0</th>\n",
       "      <td>서울</td>\n",
       "      <td>1258358</td>\n",
       "      <td>12600</td>\n",
       "    </tr>\n",
       "    <tr>\n",
       "      <th>1</th>\n",
       "      <td>경기도</td>\n",
       "      <td>35162</td>\n",
       "      <td>35100</td>\n",
       "    </tr>\n",
       "    <tr>\n",
       "      <th>2</th>\n",
       "      <td>제주</td>\n",
       "      <td>26272</td>\n",
       "      <td>26200</td>\n",
       "    </tr>\n",
       "    <tr>\n",
       "      <th>3</th>\n",
       "      <td>부산</td>\n",
       "      <td>3416</td>\n",
       "      <td>77006</td>\n",
       "    </tr>\n",
       "  </tbody>\n",
       "</table>\n",
       "</div>"
      ],
      "text/plain": [
       "  city   total1  total2\n",
       "0   서울  1258358   12600\n",
       "1  경기도    35162   35100\n",
       "2   제주    26272   26200\n",
       "3   부산     3416   77006"
      ]
     },
     "execution_count": 64,
     "metadata": {},
     "output_type": "execute_result"
    }
   ],
   "source": [
    "#경기의 total1 값을 없음 변경\n",
    "data_frame"
   ]
  },
  {
   "cell_type": "code",
   "execution_count": 75,
   "id": "3c94d35b",
   "metadata": {},
   "outputs": [
    {
     "data": {
      "text/plain": [
       "dtype('O')"
      ]
     },
     "execution_count": 75,
     "metadata": {},
     "output_type": "execute_result"
    }
   ],
   "source": [
    "data_frame.loc[1,'total1'] = '없음'\n",
    "data_frame.total1.dtype"
   ]
  },
  {
   "cell_type": "markdown",
   "id": "8f69ccef",
   "metadata": {},
   "source": [
    "## 실제 값중에서 문자열이 불규칙하게 있을 때 결측치으로 보여지게 되용"
   ]
  },
  {
   "cell_type": "code",
   "execution_count": 82,
   "id": "727a7b32",
   "metadata": {},
   "outputs": [
    {
     "data": {
      "text/plain": [
       "0    1258358.0\n",
       "1          NaN\n",
       "2      26272.0\n",
       "3       3416.0\n",
       "Name: total1, dtype: float64"
      ]
     },
     "execution_count": 82,
     "metadata": {},
     "output_type": "execute_result"
    }
   ],
   "source": [
    "data_frame.total1.apply(pd.to_numeric, errors='coerce')"
   ]
  },
  {
   "cell_type": "code",
   "execution_count": 78,
   "id": "2226c305",
   "metadata": {
    "collapsed": true
   },
   "outputs": [
    {
     "name": "stdout",
     "output_type": "stream",
     "text": [
      "Help on method apply in module pandas.core.frame:\n",
      "\n",
      "apply(func: 'AggFuncType', axis: 'Axis' = 0, raw: 'bool' = False, result_type: \"Literal[('expand', 'reduce', 'broadcast')] | None\" = None, args=(), **kwargs) method of pandas.core.frame.DataFrame instance\n",
      "    Apply a function along an axis of the DataFrame.\n",
      "    \n",
      "    Objects passed to the function are Series objects whose index is\n",
      "    either the DataFrame's index (``axis=0``) or the DataFrame's columns\n",
      "    (``axis=1``). By default (``result_type=None``), the final return type\n",
      "    is inferred from the return type of the applied function. Otherwise,\n",
      "    it depends on the `result_type` argument.\n",
      "    \n",
      "    Parameters\n",
      "    ----------\n",
      "    func : function\n",
      "        Function to apply to each column or row.\n",
      "    axis : {0 or 'index', 1 or 'columns'}, default 0\n",
      "        Axis along which the function is applied:\n",
      "    \n",
      "        * 0 or 'index': apply function to each column.\n",
      "        * 1 or 'columns': apply function to each row.\n",
      "    \n",
      "    raw : bool, default False\n",
      "        Determines if row or column is passed as a Series or ndarray object:\n",
      "    \n",
      "        * ``False`` : passes each row or column as a Series to the\n",
      "          function.\n",
      "        * ``True`` : the passed function will receive ndarray objects\n",
      "          instead.\n",
      "          If you are just applying a NumPy reduction function this will\n",
      "          achieve much better performance.\n",
      "    \n",
      "    result_type : {'expand', 'reduce', 'broadcast', None}, default None\n",
      "        These only act when ``axis=1`` (columns):\n",
      "    \n",
      "        * 'expand' : list-like results will be turned into columns.\n",
      "        * 'reduce' : returns a Series if possible rather than expanding\n",
      "          list-like results. This is the opposite of 'expand'.\n",
      "        * 'broadcast' : results will be broadcast to the original shape\n",
      "          of the DataFrame, the original index and columns will be\n",
      "          retained.\n",
      "    \n",
      "        The default behaviour (None) depends on the return value of the\n",
      "        applied function: list-like results will be returned as a Series\n",
      "        of those. However if the apply function returns a Series these\n",
      "        are expanded to columns.\n",
      "    args : tuple\n",
      "        Positional arguments to pass to `func` in addition to the\n",
      "        array/series.\n",
      "    **kwargs\n",
      "        Additional keyword arguments to pass as keywords arguments to\n",
      "        `func`.\n",
      "    \n",
      "    Returns\n",
      "    -------\n",
      "    Series or DataFrame\n",
      "        Result of applying ``func`` along the given axis of the\n",
      "        DataFrame.\n",
      "    \n",
      "    See Also\n",
      "    --------\n",
      "    DataFrame.applymap: For elementwise operations.\n",
      "    DataFrame.aggregate: Only perform aggregating type operations.\n",
      "    DataFrame.transform: Only perform transforming type operations.\n",
      "    \n",
      "    Notes\n",
      "    -----\n",
      "    Functions that mutate the passed object can produce unexpected\n",
      "    behavior or errors and are not supported. See :ref:`gotchas.udf-mutation`\n",
      "    for more details.\n",
      "    \n",
      "    Examples\n",
      "    --------\n",
      "    >>> df = pd.DataFrame([[4, 9]] * 3, columns=['A', 'B'])\n",
      "    >>> df\n",
      "       A  B\n",
      "    0  4  9\n",
      "    1  4  9\n",
      "    2  4  9\n",
      "    \n",
      "    Using a numpy universal function (in this case the same as\n",
      "    ``np.sqrt(df)``):\n",
      "    \n",
      "    >>> df.apply(np.sqrt)\n",
      "         A    B\n",
      "    0  2.0  3.0\n",
      "    1  2.0  3.0\n",
      "    2  2.0  3.0\n",
      "    \n",
      "    Using a reducing function on either axis\n",
      "    \n",
      "    >>> df.apply(np.sum, axis=0)\n",
      "    A    12\n",
      "    B    27\n",
      "    dtype: int64\n",
      "    \n",
      "    >>> df.apply(np.sum, axis=1)\n",
      "    0    13\n",
      "    1    13\n",
      "    2    13\n",
      "    dtype: int64\n",
      "    \n",
      "    Returning a list-like will result in a Series\n",
      "    \n",
      "    >>> df.apply(lambda x: [1, 2], axis=1)\n",
      "    0    [1, 2]\n",
      "    1    [1, 2]\n",
      "    2    [1, 2]\n",
      "    dtype: object\n",
      "    \n",
      "    Passing ``result_type='expand'`` will expand list-like results\n",
      "    to columns of a Dataframe\n",
      "    \n",
      "    >>> df.apply(lambda x: [1, 2], axis=1, result_type='expand')\n",
      "       0  1\n",
      "    0  1  2\n",
      "    1  1  2\n",
      "    2  1  2\n",
      "    \n",
      "    Returning a Series inside the function is similar to passing\n",
      "    ``result_type='expand'``. The resulting column names\n",
      "    will be the Series index.\n",
      "    \n",
      "    >>> df.apply(lambda x: pd.Series([1, 2], index=['foo', 'bar']), axis=1)\n",
      "       foo  bar\n",
      "    0    1    2\n",
      "    1    1    2\n",
      "    2    1    2\n",
      "    \n",
      "    Passing ``result_type='broadcast'`` will ensure the same shape\n",
      "    result, whether list-like or scalar is returned by the function,\n",
      "    and broadcast it along the axis. The resulting column names will\n",
      "    be the originals.\n",
      "    \n",
      "    >>> df.apply(lambda x: [1, 2], axis=1, result_type='broadcast')\n",
      "       A  B\n",
      "    0  1  2\n",
      "    1  1  2\n",
      "    2  1  2\n",
      "\n"
     ]
    }
   ],
   "source": [
    "help(data_frame.apply)"
   ]
  },
  {
   "cell_type": "code",
   "execution_count": null,
   "id": "1d467c78",
   "metadata": {},
   "outputs": [],
   "source": []
  },
  {
   "cell_type": "code",
   "execution_count": null,
   "id": "a5c7db4b",
   "metadata": {},
   "outputs": [],
   "source": []
  },
  {
   "cell_type": "code",
   "execution_count": null,
   "id": "6a531aa7",
   "metadata": {},
   "outputs": [],
   "source": []
  }
 ],
 "metadata": {
  "kernelspec": {
   "display_name": "ex_kernel",
   "language": "python",
   "name": "ex"
  },
  "language_info": {
   "codemirror_mode": {
    "name": "ipython",
    "version": 3
   },
   "file_extension": ".py",
   "mimetype": "text/x-python",
   "name": "python",
   "nbconvert_exporter": "python",
   "pygments_lexer": "ipython3",
   "version": "3.8.10"
  },
  "toc": {
   "base_numbering": 1,
   "nav_menu": {},
   "number_sections": true,
   "sideBar": true,
   "skip_h1_title": false,
   "title_cell": "Table of Contents",
   "title_sidebar": "Contents",
   "toc_cell": false,
   "toc_position": {
    "height": "calc(100% - 180px)",
    "left": "10px",
    "top": "150px",
    "width": "280px"
   },
   "toc_section_display": true,
   "toc_window_display": true
  }
 },
 "nbformat": 4,
 "nbformat_minor": 5
}
