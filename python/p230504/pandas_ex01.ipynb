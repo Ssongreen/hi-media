{
 "cells": [
  {
   "cell_type": "markdown",
   "id": "9eab24e3",
   "metadata": {},
   "source": [
    "# 위치"
   ]
  },
  {
   "cell_type": "code",
   "execution_count": 38,
   "id": "81561851",
   "metadata": {},
   "outputs": [
    {
     "data": {
      "text/html": [
       "<div>\n",
       "<style scoped>\n",
       "    .dataframe tbody tr th:only-of-type {\n",
       "        vertical-align: middle;\n",
       "    }\n",
       "\n",
       "    .dataframe tbody tr th {\n",
       "        vertical-align: top;\n",
       "    }\n",
       "\n",
       "    .dataframe thead th {\n",
       "        text-align: right;\n",
       "    }\n",
       "</style>\n",
       "<table border=\"1\" class=\"dataframe\">\n",
       "  <thead>\n",
       "    <tr style=\"text-align: right;\">\n",
       "      <th></th>\n",
       "      <th>co1</th>\n",
       "      <th>co2</th>\n",
       "      <th>co3</th>\n",
       "      <th>co4</th>\n",
       "      <th>co5</th>\n",
       "      <th>co6</th>\n",
       "      <th>co7</th>\n",
       "      <th>co8</th>\n",
       "      <th>co9</th>\n",
       "      <th>co10</th>\n",
       "    </tr>\n",
       "  </thead>\n",
       "  <tbody>\n",
       "    <tr>\n",
       "      <th>0</th>\n",
       "      <td>1</td>\n",
       "      <td>3</td>\n",
       "      <td>5</td>\n",
       "      <td>7</td>\n",
       "      <td>9</td>\n",
       "      <td>11</td>\n",
       "      <td>13</td>\n",
       "      <td>15</td>\n",
       "      <td>17</td>\n",
       "      <td>19</td>\n",
       "    </tr>\n",
       "    <tr>\n",
       "      <th>1</th>\n",
       "      <td>2</td>\n",
       "      <td>4</td>\n",
       "      <td>6</td>\n",
       "      <td>8</td>\n",
       "      <td>10</td>\n",
       "      <td>12</td>\n",
       "      <td>14</td>\n",
       "      <td>16</td>\n",
       "      <td>18</td>\n",
       "      <td>20</td>\n",
       "    </tr>\n",
       "    <tr>\n",
       "      <th>2</th>\n",
       "      <td>10</td>\n",
       "      <td>20</td>\n",
       "      <td>30</td>\n",
       "      <td>40</td>\n",
       "      <td>50</td>\n",
       "      <td>60</td>\n",
       "      <td>70</td>\n",
       "      <td>80</td>\n",
       "      <td>90</td>\n",
       "      <td>100</td>\n",
       "    </tr>\n",
       "  </tbody>\n",
       "</table>\n",
       "</div>"
      ],
      "text/plain": [
       "   co1  co2  co3  co4  co5  co6  co7  co8  co9  co10\n",
       "0    1    3    5    7    9   11   13   15   17    19\n",
       "1    2    4    6    8   10   12   14   16   18    20\n",
       "2   10   20   30   40   50   60   70   80   90   100"
      ]
     },
     "execution_count": 38,
     "metadata": {},
     "output_type": "execute_result"
    }
   ],
   "source": [
    "import pandas as pd\n",
    "\n",
    "\n",
    "df = pd.DataFrame(\n",
    "    [\n",
    "        range(1,21,2),\n",
    "        range(2,21,2),\n",
    "        range(10,101,10)\n",
    "    ],\n",
    "    \n",
    "    columns=[f'co{i}' for i in range(1,11)]\n",
    ")\n",
    "df"
   ]
  },
  {
   "cell_type": "markdown",
   "id": "5260df28",
   "metadata": {},
   "source": [
    "## 행의 위치"
   ]
  },
  {
   "cell_type": "markdown",
   "id": "a778d4fc",
   "metadata": {},
   "source": [
    "### 인덱스 1행의 위치"
   ]
  },
  {
   "cell_type": "code",
   "execution_count": 39,
   "id": "c3909765",
   "metadata": {},
   "outputs": [
    {
     "data": {
      "text/plain": [
       "1"
      ]
     },
     "execution_count": 39,
     "metadata": {},
     "output_type": "execute_result"
    }
   ],
   "source": [
    "df.index.get_loc(1)"
   ]
  },
  {
   "cell_type": "markdown",
   "id": "1e07d6e2",
   "metadata": {},
   "source": [
    "### 컬럼 co2의 위치 "
   ]
  },
  {
   "cell_type": "code",
   "execution_count": 40,
   "id": "48c5fac5",
   "metadata": {},
   "outputs": [
    {
     "data": {
      "text/plain": [
       "1"
      ]
     },
     "execution_count": 40,
     "metadata": {},
     "output_type": "execute_result"
    }
   ],
   "source": [
    "df.columns.get_loc('co2')"
   ]
  },
  {
   "cell_type": "markdown",
   "id": "531d44c6",
   "metadata": {},
   "source": [
    "## 이름 변경"
   ]
  },
  {
   "cell_type": "markdown",
   "id": "9e311cb8",
   "metadata": {},
   "source": [
    "### 행 이름 변경"
   ]
  },
  {
   "cell_type": "code",
   "execution_count": 41,
   "id": "7d8570a3",
   "metadata": {},
   "outputs": [
    {
     "data": {
      "text/plain": [
       "RangeIndex(start=0, stop=3, step=1)"
      ]
     },
     "execution_count": 41,
     "metadata": {},
     "output_type": "execute_result"
    }
   ],
   "source": [
    "df.index"
   ]
  },
  {
   "cell_type": "code",
   "execution_count": 42,
   "id": "c741aa68",
   "metadata": {},
   "outputs": [
    {
     "data": {
      "text/html": [
       "<div>\n",
       "<style scoped>\n",
       "    .dataframe tbody tr th:only-of-type {\n",
       "        vertical-align: middle;\n",
       "    }\n",
       "\n",
       "    .dataframe tbody tr th {\n",
       "        vertical-align: top;\n",
       "    }\n",
       "\n",
       "    .dataframe thead th {\n",
       "        text-align: right;\n",
       "    }\n",
       "</style>\n",
       "<table border=\"1\" class=\"dataframe\">\n",
       "  <thead>\n",
       "    <tr style=\"text-align: right;\">\n",
       "      <th></th>\n",
       "      <th>co1</th>\n",
       "      <th>new</th>\n",
       "      <th>co3</th>\n",
       "      <th>co4</th>\n",
       "      <th>co5</th>\n",
       "      <th>co6</th>\n",
       "      <th>co7</th>\n",
       "      <th>co8</th>\n",
       "      <th>co9</th>\n",
       "      <th>co10</th>\n",
       "    </tr>\n",
       "  </thead>\n",
       "  <tbody>\n",
       "    <tr>\n",
       "      <th>0</th>\n",
       "      <td>1</td>\n",
       "      <td>3</td>\n",
       "      <td>5</td>\n",
       "      <td>7</td>\n",
       "      <td>9</td>\n",
       "      <td>11</td>\n",
       "      <td>13</td>\n",
       "      <td>15</td>\n",
       "      <td>17</td>\n",
       "      <td>19</td>\n",
       "    </tr>\n",
       "    <tr>\n",
       "      <th>1</th>\n",
       "      <td>2</td>\n",
       "      <td>4</td>\n",
       "      <td>6</td>\n",
       "      <td>8</td>\n",
       "      <td>10</td>\n",
       "      <td>12</td>\n",
       "      <td>14</td>\n",
       "      <td>16</td>\n",
       "      <td>18</td>\n",
       "      <td>20</td>\n",
       "    </tr>\n",
       "    <tr>\n",
       "      <th>2</th>\n",
       "      <td>10</td>\n",
       "      <td>20</td>\n",
       "      <td>30</td>\n",
       "      <td>40</td>\n",
       "      <td>50</td>\n",
       "      <td>60</td>\n",
       "      <td>70</td>\n",
       "      <td>80</td>\n",
       "      <td>90</td>\n",
       "      <td>100</td>\n",
       "    </tr>\n",
       "  </tbody>\n",
       "</table>\n",
       "</div>"
      ],
      "text/plain": [
       "   co1  new  co3  co4  co5  co6  co7  co8  co9  co10\n",
       "0    1    3    5    7    9   11   13   15   17    19\n",
       "1    2    4    6    8   10   12   14   16   18    20\n",
       "2   10   20   30   40   50   60   70   80   90   100"
      ]
     },
     "execution_count": 42,
     "metadata": {},
     "output_type": "execute_result"
    }
   ],
   "source": [
    "#인덱스 1의 이름을 new로 변경\n",
    "## 1 - > new \n",
    "df.rename(columns={\"co2\": \"new\"})"
   ]
  },
  {
   "cell_type": "code",
   "execution_count": 43,
   "id": "885a8239",
   "metadata": {
    "collapsed": true
   },
   "outputs": [
    {
     "name": "stdout",
     "output_type": "stream",
     "text": [
      "Help on method rename in module pandas.core.frame:\n",
      "\n",
      "rename(mapper: 'Renamer | None' = None, *, index: 'Renamer | None' = None, columns: 'Renamer | None' = None, axis: 'Axis | None' = None, copy: 'bool | None' = None, inplace: 'bool' = False, level: 'Level' = None, errors: 'IgnoreRaise' = 'ignore') -> 'DataFrame | None' method of pandas.core.frame.DataFrame instance\n",
      "    Rename columns or index labels.\n",
      "    \n",
      "    Function / dict values must be unique (1-to-1). Labels not contained in\n",
      "    a dict / Series will be left as-is. Extra labels listed don't throw an\n",
      "    error.\n",
      "    \n",
      "    See the :ref:`user guide <basics.rename>` for more.\n",
      "    \n",
      "    Parameters\n",
      "    ----------\n",
      "    mapper : dict-like or function\n",
      "        Dict-like or function transformations to apply to\n",
      "        that axis' values. Use either ``mapper`` and ``axis`` to\n",
      "        specify the axis to target with ``mapper``, or ``index`` and\n",
      "        ``columns``.\n",
      "    index : dict-like or function\n",
      "        Alternative to specifying axis (``mapper, axis=0``\n",
      "        is equivalent to ``index=mapper``).\n",
      "    columns : dict-like or function\n",
      "        Alternative to specifying axis (``mapper, axis=1``\n",
      "        is equivalent to ``columns=mapper``).\n",
      "    axis : {0 or 'index', 1 or 'columns'}, default 0\n",
      "        Axis to target with ``mapper``. Can be either the axis name\n",
      "        ('index', 'columns') or number (0, 1). The default is 'index'.\n",
      "    copy : bool, default True\n",
      "        Also copy underlying data.\n",
      "    inplace : bool, default False\n",
      "        Whether to modify the DataFrame rather than creating a new one.\n",
      "        If True then value of copy is ignored.\n",
      "    level : int or level name, default None\n",
      "        In case of a MultiIndex, only rename labels in the specified\n",
      "        level.\n",
      "    errors : {'ignore', 'raise'}, default 'ignore'\n",
      "        If 'raise', raise a `KeyError` when a dict-like `mapper`, `index`,\n",
      "        or `columns` contains labels that are not present in the Index\n",
      "        being transformed.\n",
      "        If 'ignore', existing keys will be renamed and extra keys will be\n",
      "        ignored.\n",
      "    \n",
      "    Returns\n",
      "    -------\n",
      "    DataFrame or None\n",
      "        DataFrame with the renamed axis labels or None if ``inplace=True``.\n",
      "    \n",
      "    Raises\n",
      "    ------\n",
      "    KeyError\n",
      "        If any of the labels is not found in the selected axis and\n",
      "        \"errors='raise'\".\n",
      "    \n",
      "    See Also\n",
      "    --------\n",
      "    DataFrame.rename_axis : Set the name of the axis.\n",
      "    \n",
      "    Examples\n",
      "    --------\n",
      "    ``DataFrame.rename`` supports two calling conventions\n",
      "    \n",
      "    * ``(index=index_mapper, columns=columns_mapper, ...)``\n",
      "    * ``(mapper, axis={'index', 'columns'}, ...)``\n",
      "    \n",
      "    We *highly* recommend using keyword arguments to clarify your\n",
      "    intent.\n",
      "    \n",
      "    Rename columns using a mapping:\n",
      "    \n",
      "    >>> df = pd.DataFrame({\"A\": [1, 2, 3], \"B\": [4, 5, 6]})\n",
      "    >>> df.rename(columns={\"A\": \"a\", \"B\": \"c\"})\n",
      "       a  c\n",
      "    0  1  4\n",
      "    1  2  5\n",
      "    2  3  6\n",
      "    \n",
      "    Rename index using a mapping:\n",
      "    \n",
      "    >>> df.rename(index={0: \"x\", 1: \"y\", 2: \"z\"})\n",
      "       A  B\n",
      "    x  1  4\n",
      "    y  2  5\n",
      "    z  3  6\n",
      "    \n",
      "    Cast index labels to a different type:\n",
      "    \n",
      "    >>> df.index\n",
      "    RangeIndex(start=0, stop=3, step=1)\n",
      "    >>> df.rename(index=str).index\n",
      "    Index(['0', '1', '2'], dtype='object')\n",
      "    \n",
      "    >>> df.rename(columns={\"A\": \"a\", \"B\": \"b\", \"C\": \"c\"}, errors=\"raise\")\n",
      "    Traceback (most recent call last):\n",
      "    KeyError: ['C'] not found in axis\n",
      "    \n",
      "    Using axis-style parameters:\n",
      "    \n",
      "    >>> df.rename(str.lower, axis='columns')\n",
      "       a  b\n",
      "    0  1  4\n",
      "    1  2  5\n",
      "    2  3  6\n",
      "    \n",
      "    >>> df.rename({1: 2, 2: 4}, axis='index')\n",
      "       A  B\n",
      "    0  1  4\n",
      "    2  2  5\n",
      "    4  3  6\n",
      "\n"
     ]
    }
   ],
   "source": [
    "help(df.rename)"
   ]
  },
  {
   "cell_type": "code",
   "execution_count": 44,
   "id": "22d42b5d",
   "metadata": {},
   "outputs": [
    {
     "data": {
      "text/html": [
       "<div>\n",
       "<style scoped>\n",
       "    .dataframe tbody tr th:only-of-type {\n",
       "        vertical-align: middle;\n",
       "    }\n",
       "\n",
       "    .dataframe tbody tr th {\n",
       "        vertical-align: top;\n",
       "    }\n",
       "\n",
       "    .dataframe thead th {\n",
       "        text-align: right;\n",
       "    }\n",
       "</style>\n",
       "<table border=\"1\" class=\"dataframe\">\n",
       "  <thead>\n",
       "    <tr style=\"text-align: right;\">\n",
       "      <th></th>\n",
       "      <th>co1</th>\n",
       "      <th>co2</th>\n",
       "      <th>co3</th>\n",
       "      <th>co4</th>\n",
       "      <th>co5</th>\n",
       "      <th>co6</th>\n",
       "      <th>co7</th>\n",
       "      <th>co8</th>\n",
       "      <th>co9</th>\n",
       "      <th>co10</th>\n",
       "    </tr>\n",
       "  </thead>\n",
       "  <tbody>\n",
       "    <tr>\n",
       "      <th>newjeans</th>\n",
       "      <td>1</td>\n",
       "      <td>3</td>\n",
       "      <td>5</td>\n",
       "      <td>7</td>\n",
       "      <td>9</td>\n",
       "      <td>11</td>\n",
       "      <td>13</td>\n",
       "      <td>15</td>\n",
       "      <td>17</td>\n",
       "      <td>19</td>\n",
       "    </tr>\n",
       "    <tr>\n",
       "      <th>1</th>\n",
       "      <td>2</td>\n",
       "      <td>4</td>\n",
       "      <td>6</td>\n",
       "      <td>8</td>\n",
       "      <td>10</td>\n",
       "      <td>12</td>\n",
       "      <td>14</td>\n",
       "      <td>16</td>\n",
       "      <td>18</td>\n",
       "      <td>20</td>\n",
       "    </tr>\n",
       "    <tr>\n",
       "      <th>2</th>\n",
       "      <td>10</td>\n",
       "      <td>20</td>\n",
       "      <td>30</td>\n",
       "      <td>40</td>\n",
       "      <td>50</td>\n",
       "      <td>60</td>\n",
       "      <td>70</td>\n",
       "      <td>80</td>\n",
       "      <td>90</td>\n",
       "      <td>100</td>\n",
       "    </tr>\n",
       "  </tbody>\n",
       "</table>\n",
       "</div>"
      ],
      "text/plain": [
       "          co1  co2  co3  co4  co5  co6  co7  co8  co9  co10\n",
       "newjeans    1    3    5    7    9   11   13   15   17    19\n",
       "1           2    4    6    8   10   12   14   16   18    20\n",
       "2          10   20   30   40   50   60   70   80   90   100"
      ]
     },
     "execution_count": 44,
     "metadata": {},
     "output_type": "execute_result"
    }
   ],
   "source": [
    "df.rename(index={0:\"newjeans\"})"
   ]
  },
  {
   "cell_type": "code",
   "execution_count": 45,
   "id": "41e289ba",
   "metadata": {},
   "outputs": [
    {
     "data": {
      "text/html": [
       "<div>\n",
       "<style scoped>\n",
       "    .dataframe tbody tr th:only-of-type {\n",
       "        vertical-align: middle;\n",
       "    }\n",
       "\n",
       "    .dataframe tbody tr th {\n",
       "        vertical-align: top;\n",
       "    }\n",
       "\n",
       "    .dataframe thead th {\n",
       "        text-align: right;\n",
       "    }\n",
       "</style>\n",
       "<table border=\"1\" class=\"dataframe\">\n",
       "  <thead>\n",
       "    <tr style=\"text-align: right;\">\n",
       "      <th></th>\n",
       "      <th>co1</th>\n",
       "      <th>co2</th>\n",
       "      <th>co3</th>\n",
       "      <th>co4</th>\n",
       "      <th>co5</th>\n",
       "      <th>co6</th>\n",
       "      <th>co7</th>\n",
       "      <th>co8</th>\n",
       "      <th>co9</th>\n",
       "      <th>co10</th>\n",
       "    </tr>\n",
       "  </thead>\n",
       "  <tbody>\n",
       "    <tr>\n",
       "      <th>0</th>\n",
       "      <td>1</td>\n",
       "      <td>3</td>\n",
       "      <td>5</td>\n",
       "      <td>7</td>\n",
       "      <td>9</td>\n",
       "      <td>11</td>\n",
       "      <td>13</td>\n",
       "      <td>15</td>\n",
       "      <td>17</td>\n",
       "      <td>19</td>\n",
       "    </tr>\n",
       "    <tr>\n",
       "      <th>1</th>\n",
       "      <td>2</td>\n",
       "      <td>4</td>\n",
       "      <td>6</td>\n",
       "      <td>8</td>\n",
       "      <td>10</td>\n",
       "      <td>12</td>\n",
       "      <td>14</td>\n",
       "      <td>16</td>\n",
       "      <td>18</td>\n",
       "      <td>20</td>\n",
       "    </tr>\n",
       "    <tr>\n",
       "      <th>2</th>\n",
       "      <td>10</td>\n",
       "      <td>20</td>\n",
       "      <td>30</td>\n",
       "      <td>40</td>\n",
       "      <td>50</td>\n",
       "      <td>60</td>\n",
       "      <td>70</td>\n",
       "      <td>80</td>\n",
       "      <td>90</td>\n",
       "      <td>100</td>\n",
       "    </tr>\n",
       "  </tbody>\n",
       "</table>\n",
       "</div>"
      ],
      "text/plain": [
       "   co1  co2  co3  co4  co5  co6  co7  co8  co9  co10\n",
       "0    1    3    5    7    9   11   13   15   17    19\n",
       "1    2    4    6    8   10   12   14   16   18    20\n",
       "2   10   20   30   40   50   60   70   80   90   100"
      ]
     },
     "execution_count": 45,
     "metadata": {},
     "output_type": "execute_result"
    }
   ],
   "source": [
    "df"
   ]
  },
  {
   "cell_type": "code",
   "execution_count": 46,
   "id": "7b57c7ea",
   "metadata": {},
   "outputs": [],
   "source": [
    "#인덱스 1의 이름을 new1 2의 이름을 new2로 변경\n",
    "#원본 적용 하라우\n",
    "df.rename(index={1:\"new1\",2:\"new2\"}, inplace=True)"
   ]
  },
  {
   "cell_type": "markdown",
   "id": "2d332c5c",
   "metadata": {},
   "source": [
    "### 열 이름 "
   ]
  },
  {
   "cell_type": "code",
   "execution_count": 47,
   "id": "0db6eb13",
   "metadata": {},
   "outputs": [
    {
     "data": {
      "text/html": [
       "<div>\n",
       "<style scoped>\n",
       "    .dataframe tbody tr th:only-of-type {\n",
       "        vertical-align: middle;\n",
       "    }\n",
       "\n",
       "    .dataframe tbody tr th {\n",
       "        vertical-align: top;\n",
       "    }\n",
       "\n",
       "    .dataframe thead th {\n",
       "        text-align: right;\n",
       "    }\n",
       "</style>\n",
       "<table border=\"1\" class=\"dataframe\">\n",
       "  <thead>\n",
       "    <tr style=\"text-align: right;\">\n",
       "      <th></th>\n",
       "      <th>co1</th>\n",
       "      <th>two</th>\n",
       "      <th>co3</th>\n",
       "      <th>co4</th>\n",
       "      <th>co5</th>\n",
       "      <th>co6</th>\n",
       "      <th>co7</th>\n",
       "      <th>co8</th>\n",
       "      <th>co9</th>\n",
       "      <th>co10</th>\n",
       "    </tr>\n",
       "  </thead>\n",
       "  <tbody>\n",
       "    <tr>\n",
       "      <th>0</th>\n",
       "      <td>1</td>\n",
       "      <td>3</td>\n",
       "      <td>5</td>\n",
       "      <td>7</td>\n",
       "      <td>9</td>\n",
       "      <td>11</td>\n",
       "      <td>13</td>\n",
       "      <td>15</td>\n",
       "      <td>17</td>\n",
       "      <td>19</td>\n",
       "    </tr>\n",
       "    <tr>\n",
       "      <th>new1</th>\n",
       "      <td>2</td>\n",
       "      <td>4</td>\n",
       "      <td>6</td>\n",
       "      <td>8</td>\n",
       "      <td>10</td>\n",
       "      <td>12</td>\n",
       "      <td>14</td>\n",
       "      <td>16</td>\n",
       "      <td>18</td>\n",
       "      <td>20</td>\n",
       "    </tr>\n",
       "    <tr>\n",
       "      <th>new2</th>\n",
       "      <td>10</td>\n",
       "      <td>20</td>\n",
       "      <td>30</td>\n",
       "      <td>40</td>\n",
       "      <td>50</td>\n",
       "      <td>60</td>\n",
       "      <td>70</td>\n",
       "      <td>80</td>\n",
       "      <td>90</td>\n",
       "      <td>100</td>\n",
       "    </tr>\n",
       "  </tbody>\n",
       "</table>\n",
       "</div>"
      ],
      "text/plain": [
       "      co1  two  co3  co4  co5  co6  co7  co8  co9  co10\n",
       "0       1    3    5    7    9   11   13   15   17    19\n",
       "new1    2    4    6    8   10   12   14   16   18    20\n",
       "new2   10   20   30   40   50   60   70   80   90   100"
      ]
     },
     "execution_count": 47,
     "metadata": {},
     "output_type": "execute_result"
    }
   ],
   "source": [
    "df.rename(columns={'co2':'two'})"
   ]
  },
  {
   "cell_type": "markdown",
   "id": "f6651513",
   "metadata": {},
   "source": [
    "#### 컬럼 전체 변경"
   ]
  },
  {
   "cell_type": "code",
   "execution_count": 58,
   "id": "a36fe4e7",
   "metadata": {},
   "outputs": [],
   "source": [
    "df.columns = ['하나','둘','삼','넷','오','여섯','칠','여덟','아홉','십']"
   ]
  },
  {
   "cell_type": "code",
   "execution_count": 59,
   "id": "cdbbd3f5",
   "metadata": {},
   "outputs": [
    {
     "data": {
      "text/html": [
       "<div>\n",
       "<style scoped>\n",
       "    .dataframe tbody tr th:only-of-type {\n",
       "        vertical-align: middle;\n",
       "    }\n",
       "\n",
       "    .dataframe tbody tr th {\n",
       "        vertical-align: top;\n",
       "    }\n",
       "\n",
       "    .dataframe thead th {\n",
       "        text-align: right;\n",
       "    }\n",
       "</style>\n",
       "<table border=\"1\" class=\"dataframe\">\n",
       "  <thead>\n",
       "    <tr style=\"text-align: right;\">\n",
       "      <th></th>\n",
       "      <th>하나</th>\n",
       "      <th>둘</th>\n",
       "      <th>삼</th>\n",
       "      <th>넷</th>\n",
       "      <th>오</th>\n",
       "      <th>여섯</th>\n",
       "      <th>칠</th>\n",
       "      <th>여덟</th>\n",
       "      <th>아홉</th>\n",
       "      <th>십</th>\n",
       "    </tr>\n",
       "  </thead>\n",
       "  <tbody>\n",
       "    <tr>\n",
       "      <th>0</th>\n",
       "      <td>1</td>\n",
       "      <td>3</td>\n",
       "      <td>5</td>\n",
       "      <td>7</td>\n",
       "      <td>9</td>\n",
       "      <td>11</td>\n",
       "      <td>13</td>\n",
       "      <td>15</td>\n",
       "      <td>17</td>\n",
       "      <td>19</td>\n",
       "    </tr>\n",
       "    <tr>\n",
       "      <th>new1</th>\n",
       "      <td>2</td>\n",
       "      <td>4</td>\n",
       "      <td>6</td>\n",
       "      <td>8</td>\n",
       "      <td>10</td>\n",
       "      <td>12</td>\n",
       "      <td>14</td>\n",
       "      <td>16</td>\n",
       "      <td>18</td>\n",
       "      <td>20</td>\n",
       "    </tr>\n",
       "    <tr>\n",
       "      <th>new2</th>\n",
       "      <td>10</td>\n",
       "      <td>20</td>\n",
       "      <td>30</td>\n",
       "      <td>40</td>\n",
       "      <td>50</td>\n",
       "      <td>60</td>\n",
       "      <td>70</td>\n",
       "      <td>80</td>\n",
       "      <td>90</td>\n",
       "      <td>100</td>\n",
       "    </tr>\n",
       "  </tbody>\n",
       "</table>\n",
       "</div>"
      ],
      "text/plain": [
       "      하나   둘   삼   넷   오  여섯   칠  여덟  아홉    십\n",
       "0      1   3   5   7   9  11  13  15  17   19\n",
       "new1   2   4   6   8  10  12  14  16  18   20\n",
       "new2  10  20  30  40  50  60  70  80  90  100"
      ]
     },
     "execution_count": 59,
     "metadata": {},
     "output_type": "execute_result"
    }
   ],
   "source": [
    "df"
   ]
  },
  {
   "cell_type": "code",
   "execution_count": null,
   "id": "bb1b67c2",
   "metadata": {},
   "outputs": [],
   "source": [
    "df = df.rename(columns={'co1': '하나', 'co2': '둘', 'co3': '삼', 'co4': '넷', 'co5': '오', 'co6': '여섯', 'co7': '칠', 'co8': '여덟', 'co9': '아홉', 'co10': '십'})\n",
    "df"
   ]
  },
  {
   "cell_type": "code",
   "execution_count": null,
   "id": "8692cf6b",
   "metadata": {},
   "outputs": [],
   "source": []
  },
  {
   "cell_type": "code",
   "execution_count": null,
   "id": "7b096247",
   "metadata": {},
   "outputs": [],
   "source": []
  },
  {
   "cell_type": "code",
   "execution_count": null,
   "id": "4b581bfb",
   "metadata": {},
   "outputs": [],
   "source": []
  },
  {
   "cell_type": "code",
   "execution_count": null,
   "id": "7cd6d731",
   "metadata": {},
   "outputs": [],
   "source": []
  },
  {
   "cell_type": "code",
   "execution_count": null,
   "id": "cdb8eb46",
   "metadata": {},
   "outputs": [],
   "source": []
  },
  {
   "cell_type": "code",
   "execution_count": null,
   "id": "8289e6ed",
   "metadata": {},
   "outputs": [],
   "source": []
  },
  {
   "cell_type": "code",
   "execution_count": null,
   "id": "8692b660",
   "metadata": {},
   "outputs": [],
   "source": []
  },
  {
   "cell_type": "code",
   "execution_count": null,
   "id": "aa2aa494",
   "metadata": {},
   "outputs": [],
   "source": []
  }
 ],
 "metadata": {
  "kernelspec": {
   "display_name": "ex_kernel",
   "language": "python",
   "name": "ex"
  },
  "language_info": {
   "codemirror_mode": {
    "name": "ipython",
    "version": 3
   },
   "file_extension": ".py",
   "mimetype": "text/x-python",
   "name": "python",
   "nbconvert_exporter": "python",
   "pygments_lexer": "ipython3",
   "version": "3.8.10"
  },
  "toc": {
   "base_numbering": 1,
   "nav_menu": {},
   "number_sections": true,
   "sideBar": true,
   "skip_h1_title": false,
   "title_cell": "Table of Contents",
   "title_sidebar": "Contents",
   "toc_cell": false,
   "toc_position": {
    "height": "calc(100% - 180px)",
    "left": "10px",
    "top": "150px",
    "width": "255px"
   },
   "toc_section_display": true,
   "toc_window_display": true
  }
 },
 "nbformat": 4,
 "nbformat_minor": 5
}
