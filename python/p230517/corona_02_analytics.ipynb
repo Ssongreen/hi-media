{
 "cells": [
  {
   "cell_type": "code",
   "execution_count": 1,
   "id": "d60f4c16",
   "metadata": {},
   "outputs": [],
   "source": [
    "import pandas as pd\n",
    "import matplotlib.pyplot as plt\n",
    "import numpy as np\n",
    "import seaborn as sns\n"
   ]
  },
  {
   "cell_type": "markdown",
   "id": "1bfe24e9",
   "metadata": {},
   "source": [
    "# 파일 읽어 오기"
   ]
  },
  {
   "cell_type": "code",
   "execution_count": 53,
   "id": "b7de683b",
   "metadata": {},
   "outputs": [
    {
     "data": {
      "text/html": [
       "<div>\n",
       "<style scoped>\n",
       "    .dataframe tbody tr th:only-of-type {\n",
       "        vertical-align: middle;\n",
       "    }\n",
       "\n",
       "    .dataframe tbody tr th {\n",
       "        vertical-align: top;\n",
       "    }\n",
       "\n",
       "    .dataframe thead th {\n",
       "        text-align: right;\n",
       "    }\n",
       "</style>\n",
       "<table border=\"1\" class=\"dataframe\">\n",
       "  <thead>\n",
       "    <tr style=\"text-align: right;\">\n",
       "      <th></th>\n",
       "      <th>기준일</th>\n",
       "      <th>확진자수</th>\n",
       "      <th>누적확진자수</th>\n",
       "      <th>누적사망자수</th>\n",
       "      <th>사망자수</th>\n",
       "      <th>누적의심신고검사자수</th>\n",
       "    </tr>\n",
       "  </thead>\n",
       "  <tbody>\n",
       "    <tr>\n",
       "      <th>0</th>\n",
       "      <td>2020-01-20</td>\n",
       "      <td>1</td>\n",
       "      <td>1</td>\n",
       "      <td>0</td>\n",
       "      <td>0</td>\n",
       "      <td>4</td>\n",
       "    </tr>\n",
       "    <tr>\n",
       "      <th>1</th>\n",
       "      <td>2020-01-21</td>\n",
       "      <td>0</td>\n",
       "      <td>1</td>\n",
       "      <td>0</td>\n",
       "      <td>0</td>\n",
       "      <td>15</td>\n",
       "    </tr>\n",
       "    <tr>\n",
       "      <th>2</th>\n",
       "      <td>2020-01-22</td>\n",
       "      <td>0</td>\n",
       "      <td>1</td>\n",
       "      <td>0</td>\n",
       "      <td>0</td>\n",
       "      <td>21</td>\n",
       "    </tr>\n",
       "    <tr>\n",
       "      <th>3</th>\n",
       "      <td>2020-01-23</td>\n",
       "      <td>0</td>\n",
       "      <td>1</td>\n",
       "      <td>0</td>\n",
       "      <td>0</td>\n",
       "      <td>25</td>\n",
       "    </tr>\n",
       "    <tr>\n",
       "      <th>4</th>\n",
       "      <td>2020-01-24</td>\n",
       "      <td>1</td>\n",
       "      <td>2</td>\n",
       "      <td>0</td>\n",
       "      <td>0</td>\n",
       "      <td>29</td>\n",
       "    </tr>\n",
       "    <tr>\n",
       "      <th>...</th>\n",
       "      <td>...</td>\n",
       "      <td>...</td>\n",
       "      <td>...</td>\n",
       "      <td>...</td>\n",
       "      <td>...</td>\n",
       "      <td>...</td>\n",
       "    </tr>\n",
       "    <tr>\n",
       "      <th>737</th>\n",
       "      <td>2022-01-27</td>\n",
       "      <td>14514</td>\n",
       "      <td>777483</td>\n",
       "      <td>6654</td>\n",
       "      <td>34</td>\n",
       "      <td>21196354</td>\n",
       "    </tr>\n",
       "    <tr>\n",
       "      <th>738</th>\n",
       "      <td>2022-01-28</td>\n",
       "      <td>16093</td>\n",
       "      <td>793576</td>\n",
       "      <td>6678</td>\n",
       "      <td>24</td>\n",
       "      <td>21269304</td>\n",
       "    </tr>\n",
       "    <tr>\n",
       "      <th>739</th>\n",
       "      <td>2022-01-29</td>\n",
       "      <td>17513</td>\n",
       "      <td>811089</td>\n",
       "      <td>6712</td>\n",
       "      <td>34</td>\n",
       "      <td>21377393</td>\n",
       "    </tr>\n",
       "    <tr>\n",
       "      <th>740</th>\n",
       "      <td>2022-01-30</td>\n",
       "      <td>17522</td>\n",
       "      <td>828611</td>\n",
       "      <td>6732</td>\n",
       "      <td>20</td>\n",
       "      <td>21448119</td>\n",
       "    </tr>\n",
       "    <tr>\n",
       "      <th>741</th>\n",
       "      <td>2022-01-31</td>\n",
       "      <td>17077</td>\n",
       "      <td>845688</td>\n",
       "      <td>6755</td>\n",
       "      <td>23</td>\n",
       "      <td>21518073</td>\n",
       "    </tr>\n",
       "  </tbody>\n",
       "</table>\n",
       "<p>742 rows × 6 columns</p>\n",
       "</div>"
      ],
      "text/plain": [
       "            기준일   확진자수  누적확진자수  누적사망자수  사망자수  누적의심신고검사자수\n",
       "0    2020-01-20      1       1       0     0           4\n",
       "1    2020-01-21      0       1       0     0          15\n",
       "2    2020-01-22      0       1       0     0          21\n",
       "3    2020-01-23      0       1       0     0          25\n",
       "4    2020-01-24      1       2       0     0          29\n",
       "..          ...    ...     ...     ...   ...         ...\n",
       "737  2022-01-27  14514  777483    6654    34    21196354\n",
       "738  2022-01-28  16093  793576    6678    24    21269304\n",
       "739  2022-01-29  17513  811089    6712    34    21377393\n",
       "740  2022-01-30  17522  828611    6732    20    21448119\n",
       "741  2022-01-31  17077  845688    6755    23    21518073\n",
       "\n",
       "[742 rows x 6 columns]"
      ]
     },
     "execution_count": 53,
     "metadata": {},
     "output_type": "execute_result"
    }
   ],
   "source": [
    "c_t = pd.read_csv('corona_table.csv')\n",
    "c_t"
   ]
  },
  {
   "cell_type": "code",
   "execution_count": 4,
   "id": "f6966f25",
   "metadata": {},
   "outputs": [
    {
     "name": "stdout",
     "output_type": "stream",
     "text": [
      "<class 'pandas.core.frame.DataFrame'>\n",
      "RangeIndex: 742 entries, 0 to 741\n",
      "Data columns (total 6 columns):\n",
      " #   Column      Non-Null Count  Dtype \n",
      "---  ------      --------------  ----- \n",
      " 0   기준일         742 non-null    object\n",
      " 1   확진자수        742 non-null    int64 \n",
      " 2   누적확진자수      742 non-null    int64 \n",
      " 3   누적사망자수      742 non-null    int64 \n",
      " 4   사망자수        742 non-null    int64 \n",
      " 5   누적의심신고검사자수  742 non-null    int64 \n",
      "dtypes: int64(5), object(1)\n",
      "memory usage: 34.9+ KB\n"
     ]
    }
   ],
   "source": [
    "#datetime은 문자열로 저장\n",
    "c_t.info()"
   ]
  },
  {
   "cell_type": "code",
   "execution_count": 5,
   "id": "45189038",
   "metadata": {
    "scrolled": true
   },
   "outputs": [
    {
     "data": {
      "text/html": [
       "<div>\n",
       "<style scoped>\n",
       "    .dataframe tbody tr th:only-of-type {\n",
       "        vertical-align: middle;\n",
       "    }\n",
       "\n",
       "    .dataframe tbody tr th {\n",
       "        vertical-align: top;\n",
       "    }\n",
       "\n",
       "    .dataframe thead th {\n",
       "        text-align: right;\n",
       "    }\n",
       "</style>\n",
       "<table border=\"1\" class=\"dataframe\">\n",
       "  <thead>\n",
       "    <tr style=\"text-align: right;\">\n",
       "      <th></th>\n",
       "      <th>확진자수</th>\n",
       "      <th>누적확진자수</th>\n",
       "      <th>누적사망자수</th>\n",
       "      <th>사망자수</th>\n",
       "      <th>누적의심신고검사자수</th>\n",
       "    </tr>\n",
       "  </thead>\n",
       "  <tbody>\n",
       "    <tr>\n",
       "      <th>count</th>\n",
       "      <td>742.000000</td>\n",
       "      <td>742.000000</td>\n",
       "      <td>742.000000</td>\n",
       "      <td>742.000000</td>\n",
       "      <td>7.420000e+02</td>\n",
       "    </tr>\n",
       "    <tr>\n",
       "      <th>mean</th>\n",
       "      <td>1139.741240</td>\n",
       "      <td>145006.866577</td>\n",
       "      <td>1513.570081</td>\n",
       "      <td>9.103774</td>\n",
       "      <td>7.039078e+06</td>\n",
       "    </tr>\n",
       "    <tr>\n",
       "      <th>std</th>\n",
       "      <td>2025.965124</td>\n",
       "      <td>183545.051560</td>\n",
       "      <td>1519.515163</td>\n",
       "      <td>15.627539</td>\n",
       "      <td>6.250732e+06</td>\n",
       "    </tr>\n",
       "    <tr>\n",
       "      <th>min</th>\n",
       "      <td>0.000000</td>\n",
       "      <td>1.000000</td>\n",
       "      <td>0.000000</td>\n",
       "      <td>0.000000</td>\n",
       "      <td>4.000000e+00</td>\n",
       "    </tr>\n",
       "    <tr>\n",
       "      <th>25%</th>\n",
       "      <td>77.250000</td>\n",
       "      <td>14007.250000</td>\n",
       "      <td>298.000000</td>\n",
       "      <td>1.000000</td>\n",
       "      <td>1.512404e+06</td>\n",
       "    </tr>\n",
       "    <tr>\n",
       "      <th>50%</th>\n",
       "      <td>461.000000</td>\n",
       "      <td>75687.500000</td>\n",
       "      <td>1365.500000</td>\n",
       "      <td>3.000000</td>\n",
       "      <td>5.399422e+06</td>\n",
       "    </tr>\n",
       "    <tr>\n",
       "      <th>75%</th>\n",
       "      <td>1419.250000</td>\n",
       "      <td>196368.500000</td>\n",
       "      <td>2088.000000</td>\n",
       "      <td>8.000000</td>\n",
       "      <td>1.167160e+07</td>\n",
       "    </tr>\n",
       "    <tr>\n",
       "      <th>max</th>\n",
       "      <td>17522.000000</td>\n",
       "      <td>845688.000000</td>\n",
       "      <td>6755.000000</td>\n",
       "      <td>109.000000</td>\n",
       "      <td>2.151807e+07</td>\n",
       "    </tr>\n",
       "  </tbody>\n",
       "</table>\n",
       "</div>"
      ],
      "text/plain": [
       "               확진자수         누적확진자수       누적사망자수        사망자수    누적의심신고검사자수\n",
       "count    742.000000     742.000000   742.000000  742.000000  7.420000e+02\n",
       "mean    1139.741240  145006.866577  1513.570081    9.103774  7.039078e+06\n",
       "std     2025.965124  183545.051560  1519.515163   15.627539  6.250732e+06\n",
       "min        0.000000       1.000000     0.000000    0.000000  4.000000e+00\n",
       "25%       77.250000   14007.250000   298.000000    1.000000  1.512404e+06\n",
       "50%      461.000000   75687.500000  1365.500000    3.000000  5.399422e+06\n",
       "75%     1419.250000  196368.500000  2088.000000    8.000000  1.167160e+07\n",
       "max    17522.000000  845688.000000  6755.000000  109.000000  2.151807e+07"
      ]
     },
     "execution_count": 5,
     "metadata": {},
     "output_type": "execute_result"
    }
   ],
   "source": [
    "c_t.describe()"
   ]
  },
  {
   "cell_type": "markdown",
   "id": "b9a1b0f8",
   "metadata": {},
   "source": [
    "## 기준일 타입 변경"
   ]
  },
  {
   "cell_type": "code",
   "execution_count": 6,
   "id": "79aa0fa1",
   "metadata": {},
   "outputs": [],
   "source": [
    "c_t.기준일=c_t.기준일.astype('datetime64[ns]')"
   ]
  },
  {
   "cell_type": "code",
   "execution_count": 7,
   "id": "88acf7d1",
   "metadata": {},
   "outputs": [
    {
     "data": {
      "text/plain": [
       "기준일           datetime64[ns]\n",
       "확진자수                   int64\n",
       "누적확진자수                 int64\n",
       "누적사망자수                 int64\n",
       "사망자수                   int64\n",
       "누적의심신고검사자수             int64\n",
       "dtype: object"
      ]
     },
     "execution_count": 7,
     "metadata": {},
     "output_type": "execute_result"
    }
   ],
   "source": [
    "c_t.dtypes"
   ]
  },
  {
   "cell_type": "code",
   "execution_count": 8,
   "id": "bd7f65d1",
   "metadata": {},
   "outputs": [
    {
     "data": {
      "text/html": [
       "<div>\n",
       "<style scoped>\n",
       "    .dataframe tbody tr th:only-of-type {\n",
       "        vertical-align: middle;\n",
       "    }\n",
       "\n",
       "    .dataframe tbody tr th {\n",
       "        vertical-align: top;\n",
       "    }\n",
       "\n",
       "    .dataframe thead th {\n",
       "        text-align: right;\n",
       "    }\n",
       "</style>\n",
       "<table border=\"1\" class=\"dataframe\">\n",
       "  <thead>\n",
       "    <tr style=\"text-align: right;\">\n",
       "      <th></th>\n",
       "      <th>기준일</th>\n",
       "      <th>확진자수</th>\n",
       "      <th>누적확진자수</th>\n",
       "      <th>누적사망자수</th>\n",
       "      <th>사망자수</th>\n",
       "      <th>누적의심신고검사자수</th>\n",
       "    </tr>\n",
       "  </thead>\n",
       "  <tbody>\n",
       "    <tr>\n",
       "      <th>740</th>\n",
       "      <td>2022-01-30</td>\n",
       "      <td>17522</td>\n",
       "      <td>828611</td>\n",
       "      <td>6732</td>\n",
       "      <td>20</td>\n",
       "      <td>21448119</td>\n",
       "    </tr>\n",
       "  </tbody>\n",
       "</table>\n",
       "</div>"
      ],
      "text/plain": [
       "           기준일   확진자수  누적확진자수  누적사망자수  사망자수  누적의심신고검사자수\n",
       "740 2022-01-30  17522  828611    6732    20    21448119"
      ]
     },
     "execution_count": 8,
     "metadata": {},
     "output_type": "execute_result"
    }
   ],
   "source": [
    "#확진자가 가장 많이 발생한 날\n",
    "c_t.sort_values(by='확진자수')[-1:]"
   ]
  },
  {
   "cell_type": "code",
   "execution_count": 9,
   "id": "68a1e87c",
   "metadata": {},
   "outputs": [
    {
     "data": {
      "text/html": [
       "<div>\n",
       "<style scoped>\n",
       "    .dataframe tbody tr th:only-of-type {\n",
       "        vertical-align: middle;\n",
       "    }\n",
       "\n",
       "    .dataframe tbody tr th {\n",
       "        vertical-align: top;\n",
       "    }\n",
       "\n",
       "    .dataframe thead th {\n",
       "        text-align: right;\n",
       "    }\n",
       "</style>\n",
       "<table border=\"1\" class=\"dataframe\">\n",
       "  <thead>\n",
       "    <tr style=\"text-align: right;\">\n",
       "      <th></th>\n",
       "      <th>기준일</th>\n",
       "      <th>확진자수</th>\n",
       "      <th>누적확진자수</th>\n",
       "      <th>누적사망자수</th>\n",
       "      <th>사망자수</th>\n",
       "      <th>누적의심신고검사자수</th>\n",
       "    </tr>\n",
       "  </thead>\n",
       "  <tbody>\n",
       "    <tr>\n",
       "      <th>702</th>\n",
       "      <td>2021-12-23</td>\n",
       "      <td>6914</td>\n",
       "      <td>589961</td>\n",
       "      <td>5015</td>\n",
       "      <td>109</td>\n",
       "      <td>18859285</td>\n",
       "    </tr>\n",
       "  </tbody>\n",
       "</table>\n",
       "</div>"
      ],
      "text/plain": [
       "           기준일  확진자수  누적확진자수  누적사망자수  사망자수  누적의심신고검사자수\n",
       "702 2021-12-23  6914  589961    5015   109    18859285"
      ]
     },
     "execution_count": 9,
     "metadata": {},
     "output_type": "execute_result"
    }
   ],
   "source": [
    "c_t.sort_values(by='사망자수')[-1:]"
   ]
  },
  {
   "cell_type": "markdown",
   "id": "e8f83bd7",
   "metadata": {},
   "source": [
    "2020년 1월 20일 ~ 2022년 1월 31일 기간 중 \n",
    "확진자 수가 가장 높았던 날은 2022년 1월 30일 17,522명이고,\n",
    "사망자 수가 가장 높았던 날은 2021년 12월 23일 109명이었다."
   ]
  },
  {
   "cell_type": "code",
   "execution_count": 10,
   "id": "7b0d6fec",
   "metadata": {},
   "outputs": [
    {
     "data": {
      "image/png": "[encoded data removed]",
      "text/plain": [
       "<Figure size 1500x700 with 1 Axes>"
      ]
     },
     "metadata": {},
     "output_type": "display_data"
    }
   ],
   "source": [
    "#일별 확진자수 시각화\n",
    "plt.rcParams['font.family'] = 'D2coding'\n",
    "plt.rcParams['axes.unicode_minus'] = False\n",
    "c_t.plot(\n",
    "    x='기준일',\n",
    "    y='확진자수',\n",
    "    figsize=(15,7),\n",
    "    legend=False,\n",
    "    rot=25,\n",
    "    title='날짜별 확진자수',\n",
    "    xlabel='날짜',\n",
    "    ylabel='확진자수 (명)',\n",
    "    colormap='hot',\n",
    ")\n",
    "# x축 눈금 레이블 : 가운데 정렬\n",
    "# ha = ['right,'left','center']\n",
    "plt.xticks(ha='right')\n",
    "plt.show()"
   ]
  },
  {
   "cell_type": "code",
   "execution_count": 11,
   "id": "bca8e650",
   "metadata": {},
   "outputs": [
    {
     "data": {
      "text/plain": [
       "<Axes: xlabel='기준일', ylabel='확진자수'>"
      ]
     },
     "execution_count": 11,
     "metadata": {},
     "output_type": "execute_result"
    },
    {
     "data": {
      "image/png": "[encoded data removed]",
      "text/plain": [
       "<Figure size 640x480 with 1 Axes>"
      ]
     },
     "metadata": {},
     "output_type": "display_data"
    }
   ],
   "source": [
    "sns.lineplot(\n",
    "    c_t,\n",
    "    x='기준일',\n",
    "    y='확진자수'\n",
    ")"
   ]
  },
  {
   "cell_type": "code",
   "execution_count": 12,
   "id": "90870146",
   "metadata": {},
   "outputs": [
    {
     "data": {
      "text/plain": [
       "<Axes: xlabel='기준일', ylabel='사망자수'>"
      ]
     },
     "execution_count": 12,
     "metadata": {},
     "output_type": "execute_result"
    },
    {
     "data": {
      "image/png": "[encoded data removed]",
      "text/plain": [
       "<Figure size 640x480 with 1 Axes>"
      ]
     },
     "metadata": {},
     "output_type": "display_data"
    }
   ],
   "source": [
    "sns.lineplot(\n",
    "    c_t,\n",
    "    x='기준일',\n",
    "    y='사망자수',\n",
    ")"
   ]
  },
  {
   "cell_type": "code",
   "execution_count": 13,
   "id": "0bb83b96",
   "metadata": {},
   "outputs": [
    {
     "data": {
      "text/plain": [
       "<Axes: xlabel='기준일'>"
      ]
     },
     "execution_count": 13,
     "metadata": {},
     "output_type": "execute_result"
    },
    {
     "data": {
      "image/png": "[encoded data removed]",
      "text/plain": [
       "<Figure size 640x480 with 1 Axes>"
      ]
     },
     "metadata": {},
     "output_type": "display_data"
    }
   ],
   "source": [
    "c_t.plot(\n",
    "    x='기준일',\n",
    "    y='사망자수',\n",
    ")"
   ]
  },
  {
   "cell_type": "code",
   "execution_count": 14,
   "id": "25642698",
   "metadata": {},
   "outputs": [
    {
     "data": {
      "text/plain": [
       "<Axes: >"
      ]
     },
     "execution_count": 14,
     "metadata": {},
     "output_type": "execute_result"
    },
    {
     "data": {
      "image/png": "[encoded data removed]",
      "text/plain": [
       "<Figure size 640x480 with 1 Axes>"
      ]
     },
     "metadata": {},
     "output_type": "display_data"
    }
   ],
   "source": [
    "#날짜별 확진자 수와 사망자 수\n",
    "c_t[['확진자수','사망자수']].plot()"
   ]
  },
  {
   "cell_type": "code",
   "execution_count": 15,
   "id": "c030980c",
   "metadata": {
    "scrolled": false
   },
   "outputs": [
    {
     "data": {
      "text/plain": [
       "<Axes: title={'center': '날짜별 확진자수와 사망자수'}, xlabel='날짜'>"
      ]
     },
     "execution_count": 15,
     "metadata": {},
     "output_type": "execute_result"
    },
    {
     "data": {
      "image/png": "[encoded data removed]",
      "text/plain": [
       "<Figure size 1500x600 with 2 Axes>"
      ]
     },
     "metadata": {},
     "output_type": "display_data"
    }
   ],
   "source": [
    "c_t[['기준일','확진자수','사망자수']].plot(\n",
    "    x='기준일',\n",
    "    figsize=(15,6),\n",
    "    color=['olive','gold'],\n",
    "    secondary_y='사망자수',\n",
    "    xlabel = '날짜',\n",
    "    title = '날짜별 확진자수와 사망자수'\n",
    "    \n",
    ")"
   ]
  },
  {
   "cell_type": "code",
   "execution_count": 16,
   "id": "fb2f3238",
   "metadata": {},
   "outputs": [
    {
     "data": {
      "text/plain": [
       "0      2020\n",
       "1      2020\n",
       "2      2020\n",
       "3      2020\n",
       "4      2020\n",
       "       ... \n",
       "737    2022\n",
       "738    2022\n",
       "739    2022\n",
       "740    2022\n",
       "741    2022\n",
       "Name: 기준일, Length: 742, dtype: int32"
      ]
     },
     "execution_count": 16,
     "metadata": {},
     "output_type": "execute_result"
    }
   ],
   "source": [
    "c_t.기준일.dt.year"
   ]
  },
  {
   "cell_type": "code",
   "execution_count": 17,
   "id": "4ddaa009",
   "metadata": {},
   "outputs": [
    {
     "data": {
      "text/plain": [
       "0      1\n",
       "1      1\n",
       "2      1\n",
       "3      1\n",
       "4      1\n",
       "      ..\n",
       "737    1\n",
       "738    1\n",
       "739    1\n",
       "740    1\n",
       "741    1\n",
       "Name: 기준일, Length: 742, dtype: int32"
      ]
     },
     "execution_count": 17,
     "metadata": {},
     "output_type": "execute_result"
    }
   ],
   "source": [
    "c_t.기준일.dt.month"
   ]
  },
  {
   "cell_type": "code",
   "execution_count": 18,
   "id": "531d128d",
   "metadata": {},
   "outputs": [
    {
     "data": {
      "text/plain": [
       "0      20\n",
       "1      21\n",
       "2      22\n",
       "3      23\n",
       "4      24\n",
       "       ..\n",
       "737    27\n",
       "738    28\n",
       "739    29\n",
       "740    30\n",
       "741    31\n",
       "Name: 기준일, Length: 742, dtype: int32"
      ]
     },
     "execution_count": 18,
     "metadata": {},
     "output_type": "execute_result"
    }
   ],
   "source": [
    "c_t.기준일.dt.day"
   ]
  },
  {
   "cell_type": "code",
   "execution_count": 19,
   "id": "6c04be8d",
   "metadata": {},
   "outputs": [],
   "source": [
    "g_y=c_t.groupby(c_t.기준일.dt.year)"
   ]
  },
  {
   "cell_type": "code",
   "execution_count": 20,
   "id": "0fde3698",
   "metadata": {
    "scrolled": false
   },
   "outputs": [
    {
     "name": "stdout",
     "output_type": "stream",
     "text": [
      "(2020,            기준일  확진자수  누적확진자수  누적사망자수  사망자수  누적의심신고검사자수\n",
      "0   2020-01-20     1       1       0     0           4\n",
      "1   2020-01-21     0       1       0     0          15\n",
      "2   2020-01-22     0       1       0     0          21\n",
      "3   2020-01-23     0       1       0     0          25\n",
      "4   2020-01-24     1       2       0     0          29\n",
      "..         ...   ...     ...     ...   ...         ...\n",
      "341 2020-12-27   970   56859     808    15     4006406\n",
      "342 2020-12-28   806   57665     819    11     4038300\n",
      "343 2020-12-29  1044   58709     859    40     4098173\n",
      "344 2020-12-30  1050   59759     879    20     4159516\n",
      "345 2020-12-31   967   60726     900    21     4213874\n",
      "\n",
      "[346 rows x 6 columns])\n",
      "(2021,            기준일  확진자수  누적확진자수  누적사망자수  사망자수  누적의심신고검사자수\n",
      "346 2021-01-01  1027   61753     917    17     4269312\n",
      "347 2021-01-02   820   62573     942    25     4302792\n",
      "348 2021-01-03   657   63230     962    20     4340832\n",
      "349 2021-01-04  1020   64250     981    19     4376602\n",
      "350 2021-01-05   714   64964    1007    26     4439354\n",
      "..         ...   ...     ...     ...   ...         ...\n",
      "706 2021-12-27  4203  611650    5300    55    19082135\n",
      "707 2021-12-28  3864  615514    5346    46    19141481\n",
      "708 2021-12-29  5407  620921    5382    36    19196738\n",
      "709 2021-12-30  5034  625955    5455    73    19251165\n",
      "710 2021-12-31  4873  630828    5563   108    19309072\n",
      "\n",
      "[365 rows x 6 columns])\n",
      "(2022,            기준일   확진자수  누적확진자수  누적사망자수  사망자수  누적의심신고검사자수\n",
      "711 2022-01-01   4415  635243    5625    62    19364122\n",
      "712 2022-01-02   3831  639074    5694    69    19456900\n",
      "713 2022-01-03   3125  642199    5730    36    19546883\n",
      "714 2022-01-04   3021  645220    5781    51    19671880\n",
      "715 2022-01-05   4441  649661    5838    57    19778824\n",
      "716 2022-01-06   4122  653783    5887    49    19875047\n",
      "717 2022-01-07   3713  657496    5932    45    19971712\n",
      "718 2022-01-08   3507  661003    5986    54    20046220\n",
      "719 2022-01-09   3371  664374    6037    51    20099870\n",
      "720 2022-01-10   3005  667379    6071    34    20148476\n",
      "721 2022-01-11   3092  670471    6114    43    20215297\n",
      "722 2022-01-12   4383  674854    6166    52    20277357\n",
      "723 2022-01-13   4164  679018    6210    44    20329715\n",
      "724 2022-01-14   4538  683556    6259    49    20389154\n",
      "725 2022-01-15   4419  687975    6281    22    20446099\n",
      "726 2022-01-16   4189  692164    6310    29    20489023\n",
      "727 2022-01-17   3854  696018    6333    23    20527722\n",
      "728 2022-01-18   4062  700080    6378    45    20588481\n",
      "729 2022-01-19   5803  705883    6452    74    20649522\n",
      "730 2022-01-20   6600  712483    6480    28    20709568\n",
      "731 2022-01-21   6766  719249    6501    21    20765930\n",
      "732 2022-01-22   7004  726253    6529    28    20838500\n",
      "733 2022-01-23   7626  733879    6540    11    20892539\n",
      "734 2022-01-24   7511  741390    6565    25    20943638\n",
      "735 2022-01-25   8570  749960    6588    23    21026346\n",
      "736 2022-01-26  13009  762969    6620    32    21110639\n",
      "737 2022-01-27  14514  777483    6654    34    21196354\n",
      "738 2022-01-28  16093  793576    6678    24    21269304\n",
      "739 2022-01-29  17513  811089    6712    34    21377393\n",
      "740 2022-01-30  17522  828611    6732    20    21448119\n",
      "741 2022-01-31  17077  845688    6755    23    21518073)\n"
     ]
    }
   ],
   "source": [
    "for i in g_y:\n",
    "    print(i)"
   ]
  },
  {
   "cell_type": "code",
   "execution_count": 21,
   "id": "1b4c6634",
   "metadata": {},
   "outputs": [
    {
     "data": {
      "text/html": [
       "<div>\n",
       "<style scoped>\n",
       "    .dataframe tbody tr th:only-of-type {\n",
       "        vertical-align: middle;\n",
       "    }\n",
       "\n",
       "    .dataframe tbody tr th {\n",
       "        vertical-align: top;\n",
       "    }\n",
       "\n",
       "    .dataframe thead th {\n",
       "        text-align: right;\n",
       "    }\n",
       "</style>\n",
       "<table border=\"1\" class=\"dataframe\">\n",
       "  <thead>\n",
       "    <tr style=\"text-align: right;\">\n",
       "      <th></th>\n",
       "      <th>기준일</th>\n",
       "      <th>확진자수</th>\n",
       "      <th>누적확진자수</th>\n",
       "      <th>누적사망자수</th>\n",
       "      <th>사망자수</th>\n",
       "      <th>누적의심신고검사자수</th>\n",
       "    </tr>\n",
       "  </thead>\n",
       "  <tbody>\n",
       "    <tr>\n",
       "      <th>0</th>\n",
       "      <td>2020-01-20</td>\n",
       "      <td>1</td>\n",
       "      <td>1</td>\n",
       "      <td>0</td>\n",
       "      <td>0</td>\n",
       "      <td>4</td>\n",
       "    </tr>\n",
       "    <tr>\n",
       "      <th>1</th>\n",
       "      <td>2020-01-21</td>\n",
       "      <td>0</td>\n",
       "      <td>1</td>\n",
       "      <td>0</td>\n",
       "      <td>0</td>\n",
       "      <td>15</td>\n",
       "    </tr>\n",
       "    <tr>\n",
       "      <th>2</th>\n",
       "      <td>2020-01-22</td>\n",
       "      <td>0</td>\n",
       "      <td>1</td>\n",
       "      <td>0</td>\n",
       "      <td>0</td>\n",
       "      <td>21</td>\n",
       "    </tr>\n",
       "    <tr>\n",
       "      <th>3</th>\n",
       "      <td>2020-01-23</td>\n",
       "      <td>0</td>\n",
       "      <td>1</td>\n",
       "      <td>0</td>\n",
       "      <td>0</td>\n",
       "      <td>25</td>\n",
       "    </tr>\n",
       "    <tr>\n",
       "      <th>4</th>\n",
       "      <td>2020-01-24</td>\n",
       "      <td>1</td>\n",
       "      <td>2</td>\n",
       "      <td>0</td>\n",
       "      <td>0</td>\n",
       "      <td>29</td>\n",
       "    </tr>\n",
       "    <tr>\n",
       "      <th>...</th>\n",
       "      <td>...</td>\n",
       "      <td>...</td>\n",
       "      <td>...</td>\n",
       "      <td>...</td>\n",
       "      <td>...</td>\n",
       "      <td>...</td>\n",
       "    </tr>\n",
       "    <tr>\n",
       "      <th>341</th>\n",
       "      <td>2020-12-27</td>\n",
       "      <td>970</td>\n",
       "      <td>56859</td>\n",
       "      <td>808</td>\n",
       "      <td>15</td>\n",
       "      <td>4006406</td>\n",
       "    </tr>\n",
       "    <tr>\n",
       "      <th>342</th>\n",
       "      <td>2020-12-28</td>\n",
       "      <td>806</td>\n",
       "      <td>57665</td>\n",
       "      <td>819</td>\n",
       "      <td>11</td>\n",
       "      <td>4038300</td>\n",
       "    </tr>\n",
       "    <tr>\n",
       "      <th>343</th>\n",
       "      <td>2020-12-29</td>\n",
       "      <td>1044</td>\n",
       "      <td>58709</td>\n",
       "      <td>859</td>\n",
       "      <td>40</td>\n",
       "      <td>4098173</td>\n",
       "    </tr>\n",
       "    <tr>\n",
       "      <th>344</th>\n",
       "      <td>2020-12-30</td>\n",
       "      <td>1050</td>\n",
       "      <td>59759</td>\n",
       "      <td>879</td>\n",
       "      <td>20</td>\n",
       "      <td>4159516</td>\n",
       "    </tr>\n",
       "    <tr>\n",
       "      <th>345</th>\n",
       "      <td>2020-12-31</td>\n",
       "      <td>967</td>\n",
       "      <td>60726</td>\n",
       "      <td>900</td>\n",
       "      <td>21</td>\n",
       "      <td>4213874</td>\n",
       "    </tr>\n",
       "  </tbody>\n",
       "</table>\n",
       "<p>346 rows × 6 columns</p>\n",
       "</div>"
      ],
      "text/plain": [
       "           기준일  확진자수  누적확진자수  누적사망자수  사망자수  누적의심신고검사자수\n",
       "0   2020-01-20     1       1       0     0           4\n",
       "1   2020-01-21     0       1       0     0          15\n",
       "2   2020-01-22     0       1       0     0          21\n",
       "3   2020-01-23     0       1       0     0          25\n",
       "4   2020-01-24     1       2       0     0          29\n",
       "..         ...   ...     ...     ...   ...         ...\n",
       "341 2020-12-27   970   56859     808    15     4006406\n",
       "342 2020-12-28   806   57665     819    11     4038300\n",
       "343 2020-12-29  1044   58709     859    40     4098173\n",
       "344 2020-12-30  1050   59759     879    20     4159516\n",
       "345 2020-12-31   967   60726     900    21     4213874\n",
       "\n",
       "[346 rows x 6 columns]"
      ]
     },
     "execution_count": 21,
     "metadata": {},
     "output_type": "execute_result"
    }
   ],
   "source": [
    "g_y.get_group(2020)"
   ]
  },
  {
   "cell_type": "code",
   "execution_count": 22,
   "id": "48c4f52a",
   "metadata": {},
   "outputs": [
    {
     "data": {
      "text/plain": [
       "{2020: array([  0,   1,   2,   3,   4,   5,   6,   7,   8,   9,  10,  11,  12,\n",
       "         13,  14,  15,  16,  17,  18,  19,  20,  21,  22,  23,  24,  25,\n",
       "         26,  27,  28,  29,  30,  31,  32,  33,  34,  35,  36,  37,  38,\n",
       "         39,  40,  41,  42,  43,  44,  45,  46,  47,  48,  49,  50,  51,\n",
       "         52,  53,  54,  55,  56,  57,  58,  59,  60,  61,  62,  63,  64,\n",
       "         65,  66,  67,  68,  69,  70,  71,  72,  73,  74,  75,  76,  77,\n",
       "         78,  79,  80,  81,  82,  83,  84,  85,  86,  87,  88,  89,  90,\n",
       "         91,  92,  93,  94,  95,  96,  97,  98,  99, 100, 101, 102, 103,\n",
       "        104, 105, 106, 107, 108, 109, 110, 111, 112, 113, 114, 115, 116,\n",
       "        117, 118, 119, 120, 121, 122, 123, 124, 125, 126, 127, 128, 129,\n",
       "        130, 131, 132, 133, 134, 135, 136, 137, 138, 139, 140, 141, 142,\n",
       "        143, 144, 145, 146, 147, 148, 149, 150, 151, 152, 153, 154, 155,\n",
       "        156, 157, 158, 159, 160, 161, 162, 163, 164, 165, 166, 167, 168,\n",
       "        169, 170, 171, 172, 173, 174, 175, 176, 177, 178, 179, 180, 181,\n",
       "        182, 183, 184, 185, 186, 187, 188, 189, 190, 191, 192, 193, 194,\n",
       "        195, 196, 197, 198, 199, 200, 201, 202, 203, 204, 205, 206, 207,\n",
       "        208, 209, 210, 211, 212, 213, 214, 215, 216, 217, 218, 219, 220,\n",
       "        221, 222, 223, 224, 225, 226, 227, 228, 229, 230, 231, 232, 233,\n",
       "        234, 235, 236, 237, 238, 239, 240, 241, 242, 243, 244, 245, 246,\n",
       "        247, 248, 249, 250, 251, 252, 253, 254, 255, 256, 257, 258, 259,\n",
       "        260, 261, 262, 263, 264, 265, 266, 267, 268, 269, 270, 271, 272,\n",
       "        273, 274, 275, 276, 277, 278, 279, 280, 281, 282, 283, 284, 285,\n",
       "        286, 287, 288, 289, 290, 291, 292, 293, 294, 295, 296, 297, 298,\n",
       "        299, 300, 301, 302, 303, 304, 305, 306, 307, 308, 309, 310, 311,\n",
       "        312, 313, 314, 315, 316, 317, 318, 319, 320, 321, 322, 323, 324,\n",
       "        325, 326, 327, 328, 329, 330, 331, 332, 333, 334, 335, 336, 337,\n",
       "        338, 339, 340, 341, 342, 343, 344, 345], dtype=int64),\n",
       " 2021: array([346, 347, 348, 349, 350, 351, 352, 353, 354, 355, 356, 357, 358,\n",
       "        359, 360, 361, 362, 363, 364, 365, 366, 367, 368, 369, 370, 371,\n",
       "        372, 373, 374, 375, 376, 377, 378, 379, 380, 381, 382, 383, 384,\n",
       "        385, 386, 387, 388, 389, 390, 391, 392, 393, 394, 395, 396, 397,\n",
       "        398, 399, 400, 401, 402, 403, 404, 405, 406, 407, 408, 409, 410,\n",
       "        411, 412, 413, 414, 415, 416, 417, 418, 419, 420, 421, 422, 423,\n",
       "        424, 425, 426, 427, 428, 429, 430, 431, 432, 433, 434, 435, 436,\n",
       "        437, 438, 439, 440, 441, 442, 443, 444, 445, 446, 447, 448, 449,\n",
       "        450, 451, 452, 453, 454, 455, 456, 457, 458, 459, 460, 461, 462,\n",
       "        463, 464, 465, 466, 467, 468, 469, 470, 471, 472, 473, 474, 475,\n",
       "        476, 477, 478, 479, 480, 481, 482, 483, 484, 485, 486, 487, 488,\n",
       "        489, 490, 491, 492, 493, 494, 495, 496, 497, 498, 499, 500, 501,\n",
       "        502, 503, 504, 505, 506, 507, 508, 509, 510, 511, 512, 513, 514,\n",
       "        515, 516, 517, 518, 519, 520, 521, 522, 523, 524, 525, 526, 527,\n",
       "        528, 529, 530, 531, 532, 533, 534, 535, 536, 537, 538, 539, 540,\n",
       "        541, 542, 543, 544, 545, 546, 547, 548, 549, 550, 551, 552, 553,\n",
       "        554, 555, 556, 557, 558, 559, 560, 561, 562, 563, 564, 565, 566,\n",
       "        567, 568, 569, 570, 571, 572, 573, 574, 575, 576, 577, 578, 579,\n",
       "        580, 581, 582, 583, 584, 585, 586, 587, 588, 589, 590, 591, 592,\n",
       "        593, 594, 595, 596, 597, 598, 599, 600, 601, 602, 603, 604, 605,\n",
       "        606, 607, 608, 609, 610, 611, 612, 613, 614, 615, 616, 617, 618,\n",
       "        619, 620, 621, 622, 623, 624, 625, 626, 627, 628, 629, 630, 631,\n",
       "        632, 633, 634, 635, 636, 637, 638, 639, 640, 641, 642, 643, 644,\n",
       "        645, 646, 647, 648, 649, 650, 651, 652, 653, 654, 655, 656, 657,\n",
       "        658, 659, 660, 661, 662, 663, 664, 665, 666, 667, 668, 669, 670,\n",
       "        671, 672, 673, 674, 675, 676, 677, 678, 679, 680, 681, 682, 683,\n",
       "        684, 685, 686, 687, 688, 689, 690, 691, 692, 693, 694, 695, 696,\n",
       "        697, 698, 699, 700, 701, 702, 703, 704, 705, 706, 707, 708, 709,\n",
       "        710], dtype=int64),\n",
       " 2022: array([711, 712, 713, 714, 715, 716, 717, 718, 719, 720, 721, 722, 723,\n",
       "        724, 725, 726, 727, 728, 729, 730, 731, 732, 733, 734, 735, 736,\n",
       "        737, 738, 739, 740, 741], dtype=int64)}"
      ]
     },
     "execution_count": 22,
     "metadata": {},
     "output_type": "execute_result"
    }
   ],
   "source": [
    "g_y.indices"
   ]
  },
  {
   "cell_type": "code",
   "execution_count": 23,
   "id": "482a3843",
   "metadata": {},
   "outputs": [],
   "source": [
    "#년합을 numeric_only=True 로 문자 제거로 한다."
   ]
  },
  {
   "cell_type": "code",
   "execution_count": 24,
   "id": "47e29962",
   "metadata": {},
   "outputs": [
    {
     "data": {
      "text/html": [
       "<div>\n",
       "<style scoped>\n",
       "    .dataframe tbody tr th:only-of-type {\n",
       "        vertical-align: middle;\n",
       "    }\n",
       "\n",
       "    .dataframe tbody tr th {\n",
       "        vertical-align: top;\n",
       "    }\n",
       "\n",
       "    .dataframe thead th {\n",
       "        text-align: right;\n",
       "    }\n",
       "</style>\n",
       "<table border=\"1\" class=\"dataframe\">\n",
       "  <thead>\n",
       "    <tr style=\"text-align: right;\">\n",
       "      <th></th>\n",
       "      <th>확진자수</th>\n",
       "      <th>사망자수</th>\n",
       "    </tr>\n",
       "    <tr>\n",
       "      <th>기준일</th>\n",
       "      <th></th>\n",
       "      <th></th>\n",
       "    </tr>\n",
       "  </thead>\n",
       "  <tbody>\n",
       "    <tr>\n",
       "      <th>2020</th>\n",
       "      <td>60726</td>\n",
       "      <td>900</td>\n",
       "    </tr>\n",
       "    <tr>\n",
       "      <th>2021</th>\n",
       "      <td>570102</td>\n",
       "      <td>4663</td>\n",
       "    </tr>\n",
       "    <tr>\n",
       "      <th>2022</th>\n",
       "      <td>214860</td>\n",
       "      <td>1192</td>\n",
       "    </tr>\n",
       "  </tbody>\n",
       "</table>\n",
       "</div>"
      ],
      "text/plain": [
       "        확진자수  사망자수\n",
       "기준일               \n",
       "2020   60726   900\n",
       "2021  570102  4663\n",
       "2022  214860  1192"
      ]
     },
     "execution_count": 24,
     "metadata": {},
     "output_type": "execute_result"
    }
   ],
   "source": [
    "g_y.sum(numeric_only=True)[['확진자수','사망자수']]"
   ]
  },
  {
   "cell_type": "code",
   "execution_count": 25,
   "id": "1171f6f6",
   "metadata": {},
   "outputs": [
    {
     "data": {
      "text/html": [
       "<div>\n",
       "<style scoped>\n",
       "    .dataframe tbody tr th:only-of-type {\n",
       "        vertical-align: middle;\n",
       "    }\n",
       "\n",
       "    .dataframe tbody tr th {\n",
       "        vertical-align: top;\n",
       "    }\n",
       "\n",
       "    .dataframe thead th {\n",
       "        text-align: right;\n",
       "    }\n",
       "</style>\n",
       "<table border=\"1\" class=\"dataframe\">\n",
       "  <thead>\n",
       "    <tr style=\"text-align: right;\">\n",
       "      <th></th>\n",
       "      <th>확진자수</th>\n",
       "      <th>사망자수</th>\n",
       "    </tr>\n",
       "    <tr>\n",
       "      <th>기준일</th>\n",
       "      <th></th>\n",
       "      <th></th>\n",
       "    </tr>\n",
       "  </thead>\n",
       "  <tbody>\n",
       "    <tr>\n",
       "      <th>1</th>\n",
       "      <td>232342</td>\n",
       "      <td>1712</td>\n",
       "    </tr>\n",
       "    <tr>\n",
       "      <th>2</th>\n",
       "      <td>14387</td>\n",
       "      <td>199</td>\n",
       "    </tr>\n",
       "    <tr>\n",
       "      <th>3</th>\n",
       "      <td>20270</td>\n",
       "      <td>274</td>\n",
       "    </tr>\n",
       "    <tr>\n",
       "      <th>4</th>\n",
       "      <td>19906</td>\n",
       "      <td>182</td>\n",
       "    </tr>\n",
       "    <tr>\n",
       "      <th>5</th>\n",
       "      <td>19034</td>\n",
       "      <td>154</td>\n",
       "    </tr>\n",
       "    <tr>\n",
       "      <th>6</th>\n",
       "      <td>17954</td>\n",
       "      <td>71</td>\n",
       "    </tr>\n",
       "    <tr>\n",
       "      <th>7</th>\n",
       "      <td>42880</td>\n",
       "      <td>96</td>\n",
       "    </tr>\n",
       "    <tr>\n",
       "      <th>8</th>\n",
       "      <td>58720</td>\n",
       "      <td>213</td>\n",
       "    </tr>\n",
       "    <tr>\n",
       "      <th>9</th>\n",
       "      <td>63728</td>\n",
       "      <td>285</td>\n",
       "    </tr>\n",
       "    <tr>\n",
       "      <th>10</th>\n",
       "      <td>56121</td>\n",
       "      <td>419</td>\n",
       "    </tr>\n",
       "    <tr>\n",
       "      <th>11</th>\n",
       "      <td>90213</td>\n",
       "      <td>837</td>\n",
       "    </tr>\n",
       "    <tr>\n",
       "      <th>12</th>\n",
       "      <td>210133</td>\n",
       "      <td>2313</td>\n",
       "    </tr>\n",
       "  </tbody>\n",
       "</table>\n",
       "</div>"
      ],
      "text/plain": [
       "       확진자수  사망자수\n",
       "기준일              \n",
       "1    232342  1712\n",
       "2     14387   199\n",
       "3     20270   274\n",
       "4     19906   182\n",
       "5     19034   154\n",
       "6     17954    71\n",
       "7     42880    96\n",
       "8     58720   213\n",
       "9     63728   285\n",
       "10    56121   419\n",
       "11    90213   837\n",
       "12   210133  2313"
      ]
     },
     "execution_count": 25,
     "metadata": {},
     "output_type": "execute_result"
    }
   ],
   "source": [
    "# 월별 합\n",
    "c_t.groupby(c_t.기준일.dt.month).sum(numeric_only=True)[['확진자수','사망자수']]"
   ]
  },
  {
   "cell_type": "code",
   "execution_count": 26,
   "id": "48ae4a03",
   "metadata": {},
   "outputs": [],
   "source": [
    "g_m=c_t.groupby(c_t.기준일.dt.month)"
   ]
  },
  {
   "cell_type": "code",
   "execution_count": 27,
   "id": "e15a09a1",
   "metadata": {},
   "outputs": [
    {
     "data": {
      "text/html": [
       "<div>\n",
       "<style scoped>\n",
       "    .dataframe tbody tr th:only-of-type {\n",
       "        vertical-align: middle;\n",
       "    }\n",
       "\n",
       "    .dataframe tbody tr th {\n",
       "        vertical-align: top;\n",
       "    }\n",
       "\n",
       "    .dataframe thead th {\n",
       "        text-align: right;\n",
       "    }\n",
       "</style>\n",
       "<table border=\"1\" class=\"dataframe\">\n",
       "  <thead>\n",
       "    <tr style=\"text-align: right;\">\n",
       "      <th></th>\n",
       "      <th>확진자수</th>\n",
       "      <th>누적확진자수</th>\n",
       "      <th>누적사망자수</th>\n",
       "      <th>사망자수</th>\n",
       "      <th>누적의심신고검사자수</th>\n",
       "    </tr>\n",
       "    <tr>\n",
       "      <th>기준일</th>\n",
       "      <th></th>\n",
       "      <th></th>\n",
       "      <th></th>\n",
       "      <th></th>\n",
       "      <th></th>\n",
       "    </tr>\n",
       "  </thead>\n",
       "  <tbody>\n",
       "    <tr>\n",
       "      <th>1</th>\n",
       "      <td>232342</td>\n",
       "      <td>24111724</td>\n",
       "      <td>231918</td>\n",
       "      <td>1712</td>\n",
       "      <td>789492003</td>\n",
       "    </tr>\n",
       "  </tbody>\n",
       "</table>\n",
       "</div>"
      ],
      "text/plain": [
       "       확진자수    누적확진자수  누적사망자수  사망자수  누적의심신고검사자수\n",
       "기준일                                            \n",
       "1    232342  24111724  231918  1712   789492003"
      ]
     },
     "execution_count": 27,
     "metadata": {},
     "output_type": "execute_result"
    }
   ],
   "source": [
    "g_m.sum(numeric_only=True).sort_values(by='확진자수',ascending=False)[:1]"
   ]
  },
  {
   "cell_type": "code",
   "execution_count": 61,
   "id": "cca86416",
   "metadata": {},
   "outputs": [
    {
     "data": {
      "text/html": [
       "<div>\n",
       "<style scoped>\n",
       "    .dataframe tbody tr th:only-of-type {\n",
       "        vertical-align: middle;\n",
       "    }\n",
       "\n",
       "    .dataframe tbody tr th {\n",
       "        vertical-align: top;\n",
       "    }\n",
       "\n",
       "    .dataframe thead th {\n",
       "        text-align: right;\n",
       "    }\n",
       "</style>\n",
       "<table border=\"1\" class=\"dataframe\">\n",
       "  <thead>\n",
       "    <tr style=\"text-align: right;\">\n",
       "      <th></th>\n",
       "      <th>확진자수</th>\n",
       "      <th>누적확진자수</th>\n",
       "      <th>누적사망자수</th>\n",
       "      <th>사망자수</th>\n",
       "      <th>누적의심신고검사자수</th>\n",
       "    </tr>\n",
       "    <tr>\n",
       "      <th>기준일</th>\n",
       "      <th></th>\n",
       "      <th></th>\n",
       "      <th></th>\n",
       "      <th></th>\n",
       "      <th></th>\n",
       "    </tr>\n",
       "  </thead>\n",
       "  <tbody>\n",
       "    <tr>\n",
       "      <th>12</th>\n",
       "      <td>210133</td>\n",
       "      <td>18264020</td>\n",
       "      <td>161284</td>\n",
       "      <td>2313</td>\n",
       "      <td>679190252</td>\n",
       "    </tr>\n",
       "  </tbody>\n",
       "</table>\n",
       "</div>"
      ],
      "text/plain": [
       "       확진자수    누적확진자수  누적사망자수  사망자수  누적의심신고검사자수\n",
       "기준일                                            \n",
       "12   210133  18264020  161284  2313   679190252"
      ]
     },
     "execution_count": 61,
     "metadata": {},
     "output_type": "execute_result"
    }
   ],
   "source": [
    "g_m.sum(numeric_only=True).sort_values(by='사망자수',ascending=False)[:1]"
   ]
  },
  {
   "cell_type": "markdown",
   "id": "1368b79d",
   "metadata": {},
   "source": [
    "## 년 월별 \n",
    "- 형식 지정하기"
   ]
  },
  {
   "cell_type": "code",
   "execution_count": 28,
   "id": "be4633d2",
   "metadata": {},
   "outputs": [
    {
     "data": {
      "text/plain": [
       "0      20\n",
       "1      20\n",
       "2      20\n",
       "3      20\n",
       "4      20\n",
       "       ..\n",
       "737    22\n",
       "738    22\n",
       "739    22\n",
       "740    22\n",
       "741    22\n",
       "Name: 기준일, Length: 742, dtype: object"
      ]
     },
     "execution_count": 28,
     "metadata": {},
     "output_type": "execute_result"
    }
   ],
   "source": [
    "c_t.기준일.dt.strftime('%y')"
   ]
  },
  {
   "cell_type": "code",
   "execution_count": 29,
   "id": "43bb9cdb",
   "metadata": {},
   "outputs": [
    {
     "data": {
      "text/plain": [
       "0      2020\n",
       "1      2020\n",
       "2      2020\n",
       "3      2020\n",
       "4      2020\n",
       "       ... \n",
       "737    2022\n",
       "738    2022\n",
       "739    2022\n",
       "740    2022\n",
       "741    2022\n",
       "Name: 기준일, Length: 742, dtype: object"
      ]
     },
     "execution_count": 29,
     "metadata": {},
     "output_type": "execute_result"
    }
   ],
   "source": [
    "c_t.기준일.dt.strftime('%Y')"
   ]
  },
  {
   "cell_type": "code",
   "execution_count": 30,
   "id": "4813f057",
   "metadata": {},
   "outputs": [
    {
     "data": {
      "text/plain": [
       "0      01\n",
       "1      01\n",
       "2      01\n",
       "3      01\n",
       "4      01\n",
       "       ..\n",
       "737    01\n",
       "738    01\n",
       "739    01\n",
       "740    01\n",
       "741    01\n",
       "Name: 기준일, Length: 742, dtype: object"
      ]
     },
     "execution_count": 30,
     "metadata": {},
     "output_type": "execute_result"
    }
   ],
   "source": [
    "c_t.기준일.dt.strftime('%m')"
   ]
  },
  {
   "cell_type": "code",
   "execution_count": 31,
   "id": "8f96ead0",
   "metadata": {},
   "outputs": [
    {
     "data": {
      "text/plain": [
       "0      20\n",
       "1      21\n",
       "2      22\n",
       "3      23\n",
       "4      24\n",
       "       ..\n",
       "737    27\n",
       "738    28\n",
       "739    29\n",
       "740    30\n",
       "741    31\n",
       "Name: 기준일, Length: 742, dtype: object"
      ]
     },
     "execution_count": 31,
     "metadata": {},
     "output_type": "execute_result"
    }
   ],
   "source": [
    "c_t.기준일.dt.strftime('%d')"
   ]
  },
  {
   "cell_type": "code",
   "execution_count": 32,
   "id": "42f3b756",
   "metadata": {},
   "outputs": [
    {
     "data": {
      "text/plain": [
       "0      01/20/20\n",
       "1      01/21/20\n",
       "2      01/22/20\n",
       "3      01/23/20\n",
       "4      01/24/20\n",
       "         ...   \n",
       "737    01/27/22\n",
       "738    01/28/22\n",
       "739    01/29/22\n",
       "740    01/30/22\n",
       "741    01/31/22\n",
       "Name: 기준일, Length: 742, dtype: object"
      ]
     },
     "execution_count": 32,
     "metadata": {},
     "output_type": "execute_result"
    }
   ],
   "source": [
    "c_t.기준일.dt.strftime('%D')"
   ]
  },
  {
   "cell_type": "code",
   "execution_count": 33,
   "id": "b10844d4",
   "metadata": {},
   "outputs": [
    {
     "data": {
      "text/plain": [
       "0      202001\n",
       "1      202001\n",
       "2      202001\n",
       "3      202001\n",
       "4      202001\n",
       "        ...  \n",
       "737    202201\n",
       "738    202201\n",
       "739    202201\n",
       "740    202201\n",
       "741    202201\n",
       "Name: 기준일, Length: 742, dtype: object"
      ]
     },
     "execution_count": 33,
     "metadata": {},
     "output_type": "execute_result"
    }
   ],
   "source": [
    "c_t.기준일.dt.strftime('%Y%m')"
   ]
  },
  {
   "cell_type": "code",
   "execution_count": 45,
   "id": "7d99828a",
   "metadata": {},
   "outputs": [],
   "source": [
    "g_y_m =c_t.groupby(c_t.기준일.dt.strftime('%Y/%m'))"
   ]
  },
  {
   "cell_type": "code",
   "execution_count": 46,
   "id": "c2151553",
   "metadata": {
    "collapsed": true
   },
   "outputs": [
    {
     "data": {
      "text/plain": [
       "기준일\n",
       "2020/01    12\n",
       "2020/02    29\n",
       "2020/03    31\n",
       "2020/04    30\n",
       "2020/05    30\n",
       "2020/06    30\n",
       "2020/07    31\n",
       "2020/08    31\n",
       "2020/09    30\n",
       "2020/10    31\n",
       "2020/11    30\n",
       "2020/12    31\n",
       "2021/01    31\n",
       "2021/02    28\n",
       "2021/03    31\n",
       "2021/04    30\n",
       "2021/05    31\n",
       "2021/06    30\n",
       "2021/07    31\n",
       "2021/08    31\n",
       "2021/09    30\n",
       "2021/10    31\n",
       "2021/11    30\n",
       "2021/12    31\n",
       "2022/01    31\n",
       "dtype: int64"
      ]
     },
     "execution_count": 46,
     "metadata": {},
     "output_type": "execute_result"
    }
   ],
   "source": [
    "g_y_m.size()"
   ]
  },
  {
   "cell_type": "code",
   "execution_count": 47,
   "id": "f573371e",
   "metadata": {},
   "outputs": [],
   "source": [
    "#년-월 기준으로 사망자수가 가장 높았던 "
   ]
  },
  {
   "cell_type": "code",
   "execution_count": 63,
   "id": "d1e041dc",
   "metadata": {},
   "outputs": [
    {
     "data": {
      "text/html": [
       "<div>\n",
       "<style scoped>\n",
       "    .dataframe tbody tr th:only-of-type {\n",
       "        vertical-align: middle;\n",
       "    }\n",
       "\n",
       "    .dataframe tbody tr th {\n",
       "        vertical-align: top;\n",
       "    }\n",
       "\n",
       "    .dataframe thead th {\n",
       "        text-align: right;\n",
       "    }\n",
       "</style>\n",
       "<table border=\"1\" class=\"dataframe\">\n",
       "  <thead>\n",
       "    <tr style=\"text-align: right;\">\n",
       "      <th></th>\n",
       "      <th>확진자수</th>\n",
       "      <th>누적확진자수</th>\n",
       "      <th>누적사망자수</th>\n",
       "      <th>사망자수</th>\n",
       "      <th>누적의심신고검사자수</th>\n",
       "    </tr>\n",
       "    <tr>\n",
       "      <th>기준일</th>\n",
       "      <th></th>\n",
       "      <th></th>\n",
       "      <th></th>\n",
       "      <th></th>\n",
       "      <th></th>\n",
       "    </tr>\n",
       "  </thead>\n",
       "  <tbody>\n",
       "    <tr>\n",
       "      <th>2022/01</th>\n",
       "      <td>214860</td>\n",
       "      <td>21908081</td>\n",
       "      <td>194438</td>\n",
       "      <td>1192</td>\n",
       "      <td>634968707</td>\n",
       "    </tr>\n",
       "  </tbody>\n",
       "</table>\n",
       "</div>"
      ],
      "text/plain": [
       "           확진자수    누적확진자수  누적사망자수  사망자수  누적의심신고검사자수\n",
       "기준일                                                \n",
       "2022/01  214860  21908081  194438  1192   634968707"
      ]
     },
     "execution_count": 63,
     "metadata": {},
     "output_type": "execute_result"
    }
   ],
   "source": [
    "g_y_m.sum(numeric_only=True).sort_values(by='확진자수',ascending=False)[:1]"
   ]
  },
  {
   "cell_type": "code",
   "execution_count": 64,
   "id": "097bf52d",
   "metadata": {
    "scrolled": true
   },
   "outputs": [
    {
     "data": {
      "text/html": [
       "<div>\n",
       "<style scoped>\n",
       "    .dataframe tbody tr th:only-of-type {\n",
       "        vertical-align: middle;\n",
       "    }\n",
       "\n",
       "    .dataframe tbody tr th {\n",
       "        vertical-align: top;\n",
       "    }\n",
       "\n",
       "    .dataframe thead th {\n",
       "        text-align: right;\n",
       "    }\n",
       "</style>\n",
       "<table border=\"1\" class=\"dataframe\">\n",
       "  <thead>\n",
       "    <tr style=\"text-align: right;\">\n",
       "      <th></th>\n",
       "      <th>확진자수</th>\n",
       "      <th>누적확진자수</th>\n",
       "      <th>누적사망자수</th>\n",
       "      <th>사망자수</th>\n",
       "      <th>누적의심신고검사자수</th>\n",
       "    </tr>\n",
       "    <tr>\n",
       "      <th>기준일</th>\n",
       "      <th></th>\n",
       "      <th></th>\n",
       "      <th></th>\n",
       "      <th></th>\n",
       "      <th></th>\n",
       "    </tr>\n",
       "  </thead>\n",
       "  <tbody>\n",
       "    <tr>\n",
       "      <th>2021/12</th>\n",
       "      <td>183606</td>\n",
       "      <td>16828211</td>\n",
       "      <td>140974</td>\n",
       "      <td>1939</td>\n",
       "      <td>568932067</td>\n",
       "    </tr>\n",
       "  </tbody>\n",
       "</table>\n",
       "</div>"
      ],
      "text/plain": [
       "           확진자수    누적확진자수  누적사망자수  사망자수  누적의심신고검사자수\n",
       "기준일                                                \n",
       "2021/12  183606  16828211  140974  1939   568932067"
      ]
     },
     "execution_count": 64,
     "metadata": {},
     "output_type": "execute_result"
    }
   ],
   "source": [
    "g_y_m.sum(numeric_only=True).sort_values(by='사망자수',ascending=False)[:1]"
   ]
  },
  {
   "cell_type": "code",
   "execution_count": null,
   "id": "a208d7f0",
   "metadata": {},
   "outputs": [],
   "source": [
    "확진자 수가 가장 높았던 달은 2022년 1월로 214860명이고,\n",
    "사망자 수가 가장 높았던 달은 2021년 12월 1939명이다."
   ]
  },
  {
   "cell_type": "code",
   "execution_count": 48,
   "id": "fc93a170",
   "metadata": {
    "scrolled": true
   },
   "outputs": [
    {
     "data": {
      "text/plain": [
       "25"
      ]
     },
     "execution_count": 48,
     "metadata": {},
     "output_type": "execute_result"
    }
   ],
   "source": [
    "len(g_y_m.indices)"
   ]
  },
  {
   "cell_type": "code",
   "execution_count": 65,
   "id": "ae308c73",
   "metadata": {},
   "outputs": [
    {
     "ename": "TypeError",
     "evalue": "'range' object is not callable",
     "output_type": "error",
     "traceback": [
      "\u001b[1;31m---------------------------------------------------------------------------\u001b[0m",
      "\u001b[1;31mTypeError\u001b[0m                                 Traceback (most recent call last)",
      "Cell \u001b[1;32mIn[65], line 9\u001b[0m\n\u001b[0;32m      1\u001b[0m g_y_m[[\u001b[38;5;124m'\u001b[39m\u001b[38;5;124m확진자수\u001b[39m\u001b[38;5;124m'\u001b[39m,\u001b[38;5;124m'\u001b[39m\u001b[38;5;124m사망자수\u001b[39m\u001b[38;5;124m'\u001b[39m]]\u001b[38;5;241m.\u001b[39msum(numeric_only\u001b[38;5;241m=\u001b[39m\u001b[38;5;28;01mTrue\u001b[39;00m)\u001b[38;5;241m.\u001b[39mplot(\n\u001b[0;32m      2\u001b[0m     figsize\u001b[38;5;241m=\u001b[39m(\u001b[38;5;241m15\u001b[39m,\u001b[38;5;241m6\u001b[39m),\n\u001b[0;32m      3\u001b[0m     color\u001b[38;5;241m=\u001b[39m[\u001b[38;5;124m'\u001b[39m\u001b[38;5;124molive\u001b[39m\u001b[38;5;124m'\u001b[39m,\u001b[38;5;124m'\u001b[39m\u001b[38;5;124mgold\u001b[39m\u001b[38;5;124m'\u001b[39m],\n\u001b[1;32m   (...)\u001b[0m\n\u001b[0;32m      7\u001b[0m     rot\u001b[38;5;241m=\u001b[39m\u001b[38;5;241m25\u001b[39m,\n\u001b[0;32m      8\u001b[0m )\n\u001b[1;32m----> 9\u001b[0m \u001b[43mplt\u001b[49m\u001b[38;5;241;43m.\u001b[39;49m\u001b[43mxticks\u001b[49m\u001b[43m(\u001b[49m\u001b[38;5;28;43mrange\u001b[39;49m\u001b[43m(\u001b[49m\u001b[38;5;28;43mlen\u001b[39;49m\u001b[43m(\u001b[49m\u001b[43mg_y_m\u001b[49m\u001b[38;5;241;43m.\u001b[39;49m\u001b[43mindices\u001b[49m\u001b[43m)\u001b[49m\u001b[43m)\u001b[49m\u001b[43m,\u001b[49m\u001b[43m \u001b[49m\u001b[43mlabels\u001b[49m\u001b[38;5;241;43m=\u001b[39;49m\u001b[43mg_y_m\u001b[49m\u001b[38;5;241;43m.\u001b[39;49m\u001b[43mindices\u001b[49m\u001b[43m)\u001b[49m\n\u001b[0;32m     10\u001b[0m \u001b[38;5;66;03m# plt.show() \u001b[39;00m\n",
      "\u001b[1;31mTypeError\u001b[0m: 'range' object is not callable"
     ]
    },
    {
     "data": {
      "image/png": "[encoded data removed]",
      "text/plain": [
       "<Figure size 1500x600 with 2 Axes>"
      ]
     },
     "metadata": {},
     "output_type": "display_data"
    }
   ],
   "source": [
    "g_y_m[['확진자수','사망자수']].sum(numeric_only=True).plot(\n",
    "    figsize=(15,6),\n",
    "    color=['olive','gold'],\n",
    "    secondary_y='사망자수',\n",
    "    xlabel = '년-월별',\n",
    "    title = '월별 확진자수와 사망자수',\n",
    "    rot=25,\n",
    ")\n",
    "plt.xticks(range(len(g_y_m.indices)), labels=g_y_m.indices)\n",
    "# plt.show() "
   ]
  },
  {
   "cell_type": "code",
   "execution_count": null,
   "id": "1881f411",
   "metadata": {},
   "outputs": [],
   "source": [
    "## 월별 확진자 수와 사망자 수가 높았던 날 행 추출"
   ]
  },
  {
   "cell_type": "code",
   "execution_count": null,
   "id": "69990ec4",
   "metadata": {},
   "outputs": [],
   "source": []
  },
  {
   "cell_type": "markdown",
   "id": "282d0c0a",
   "metadata": {},
   "source": [
    "2020년 1월 20일 ~ 2022년 1월 31일 기간 중 \n",
    "\n",
    "확진자 수가 가장 높았던 날은 2022년 1월 30일 17,522명이고,\n",
    "사망자 수가 가장 높았던 날은 2021년 12월 23일 109명이었다.\n",
    "\n",
    "확진자 수가 가장 높았던 달은 2022년 1월로 214860명이고,\n",
    "사망자 수가 가장 높았던 달은 2021년 12월 1939명이다."
   ]
  },
  {
   "cell_type": "code",
   "execution_count": null,
   "id": "ac912673",
   "metadata": {},
   "outputs": [],
   "source": []
  },
  {
   "cell_type": "code",
   "execution_count": null,
   "id": "67731de6",
   "metadata": {},
   "outputs": [],
   "source": []
  },
  {
   "cell_type": "code",
   "execution_count": null,
   "id": "3c59d77a",
   "metadata": {},
   "outputs": [],
   "source": []
  }
 ],
 "metadata": {
  "kernelspec": {
   "display_name": "ex_kernel",
   "language": "python",
   "name": "ex"
  },
  "language_info": {
   "codemirror_mode": {
    "name": "ipython",
    "version": 3
   },
   "file_extension": ".py",
   "mimetype": "text/x-python",
   "name": "python",
   "nbconvert_exporter": "python",
   "pygments_lexer": "ipython3",
   "version": "3.8.10"
  },
  "toc": {
   "base_numbering": 1,
   "nav_menu": {},
   "number_sections": true,
   "sideBar": true,
   "skip_h1_title": false,
   "title_cell": "Table of Contents",
   "title_sidebar": "Contents",
   "toc_cell": false,
   "toc_position": {},
   "toc_section_display": true,
   "toc_window_display": false
  }
 },
 "nbformat": 4,
 "nbformat_minor": 5
}
