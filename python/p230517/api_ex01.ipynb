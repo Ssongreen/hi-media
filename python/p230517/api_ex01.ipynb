{
 "cells": [
  {
   "cell_type": "markdown",
   "id": "835b057d",
   "metadata": {},
   "source": [
    "#연금"
   ]
  },
  {
   "cell_type": "code",
   "execution_count": 1,
   "id": "206dd4a6",
   "metadata": {},
   "outputs": [],
   "source": [
    "import requests"
   ]
  },
  {
   "cell_type": "code",
   "execution_count": 6,
   "id": "e1141ecc",
   "metadata": {},
   "outputs": [
    {
     "name": "stdout",
     "output_type": "stream",
     "text": [
      "b'<?xml version=\"1.0\" encoding=\"UTF-8\" standalone=\"yes\"?><response><header><resultCode>00</resultCode><resultMsg>NORMAL SERVICE.</resultMsg></header><body><item><avgFnlPrvsAmt>996693</avgFnlPrvsAmt><avgPrvsPrdMcnt>1</avgPrvsPrdMcnt><avgTotPrvsAmt>1221287</avgTotPrvsAmt><totPrsnCnt>9</totPrsnCnt><whlPymtCtstPrvsRate>0.02</whlPymtCtstPrvsRate></item></body></response>'\n"
     ]
    }
   ],
   "source": [
    "url = 'http://apis.data.go.kr/B552015/NpsReciptInfoProvdService/getReciptSttusInfoSearch'\n",
    "\n",
    "service_key = 'Zx92cxvOccFv7GV3RSr/3eyh9y/QUJp50opmRhYJ0aSNA9/PStwNjYn+eoLsWsbhxe91eXP3cSQfVWYDaTYZjA=='\n",
    "\n",
    "params ={'serviceKey' : service_key, 'ldong_addr_mgpl_dg_cd' : '11', 'ldong_addr_mgpl_sggu_cd' : '11110', 'ldong_addr_mgpl_sggu_emd_cd' : '11110101', 'crtr_age' : '67', 'sex_dvcd' : 'M', 'pay_clss_cd' : '10' }\n",
    "\n",
    "response = requests.get(url, params=params)\n",
    "print(response.content)"
   ]
  },
  {
   "cell_type": "code",
   "execution_count": 7,
   "id": "4dce8024",
   "metadata": {},
   "outputs": [
    {
     "data": {
      "text/plain": [
       "<Response [200]>"
      ]
     },
     "execution_count": 7,
     "metadata": {},
     "output_type": "execute_result"
    }
   ],
   "source": [
    "response"
   ]
  },
  {
   "cell_type": "markdown",
   "id": "bc775d69",
   "metadata": {},
   "source": [
    "## 파일 변환 xml - > html 변환"
   ]
  },
  {
   "cell_type": "code",
   "execution_count": 8,
   "id": "77b1a4b4",
   "metadata": {},
   "outputs": [
    {
     "data": {
      "text/plain": [
       "'<?xml version=\"1.0\" encoding=\"UTF-8\" standalone=\"yes\"?><response><header><resultCode>00</resultCode><resultMsg>NORMAL SERVICE.</resultMsg></header><body><item><avgFnlPrvsAmt>996693</avgFnlPrvsAmt><avgPrvsPrdMcnt>1</avgPrvsPrdMcnt><avgTotPrvsAmt>1221287</avgTotPrvsAmt><totPrsnCnt>9</totPrsnCnt><whlPymtCtstPrvsRate>0.02</whlPymtCtstPrvsRate></item></body></response>'"
      ]
     },
     "execution_count": 8,
     "metadata": {},
     "output_type": "execute_result"
    }
   ],
   "source": [
    "response.text"
   ]
  },
  {
   "cell_type": "code",
   "execution_count": 12,
   "id": "e47f6bb6",
   "metadata": {},
   "outputs": [],
   "source": [
    "#객층 구조로 변경\n",
    "from bs4 import BeautifulSoup\n",
    "\n",
    "xml = BeautifulSoup(response.text,features='xml')"
   ]
  },
  {
   "cell_type": "code",
   "execution_count": 14,
   "id": "b8a79eb7",
   "metadata": {},
   "outputs": [],
   "source": [
    "xml.responseMsg"
   ]
  },
  {
   "cell_type": "markdown",
   "id": "22a94d64",
   "metadata": {},
   "source": [
    "## 파일 변환 str-> json"
   ]
  },
  {
   "cell_type": "code",
   "execution_count": 15,
   "id": "8aa5d0f7",
   "metadata": {},
   "outputs": [
    {
     "name": "stdout",
     "output_type": "stream",
     "text": [
      "Collecting xmltodict\n",
      "  Downloading xmltodict-0.13.0-py2.py3-none-any.whl (10.0 kB)\n",
      "Installing collected packages: xmltodict\n",
      "Successfully installed xmltodict-0.13.0\n"
     ]
    }
   ],
   "source": [
    "# xml - > dict로 변환 하는 것\n",
    "!pip install xmltodict"
   ]
  },
  {
   "cell_type": "code",
   "execution_count": 16,
   "id": "ec347a90",
   "metadata": {},
   "outputs": [],
   "source": [
    "import xmltodict\n",
    "# 문자열로 넣기 -> dict 로 변경\n",
    "\n",
    "parsing_dict = xmltodict.parse(response.text)"
   ]
  },
  {
   "cell_type": "code",
   "execution_count": 18,
   "id": "b5bd2b0f",
   "metadata": {},
   "outputs": [
    {
     "data": {
      "text/plain": [
       "dict_keys(['response'])"
      ]
     },
     "execution_count": 18,
     "metadata": {},
     "output_type": "execute_result"
    }
   ],
   "source": [
    "parsing_dict.keys()"
   ]
  },
  {
   "cell_type": "code",
   "execution_count": 20,
   "id": "ddefbf77",
   "metadata": {},
   "outputs": [
    {
     "data": {
      "text/plain": [
       "dict_keys(['header', 'body'])"
      ]
     },
     "execution_count": 20,
     "metadata": {},
     "output_type": "execute_result"
    }
   ],
   "source": [
    "parsing_dict['response'].keys()"
   ]
  },
  {
   "cell_type": "code",
   "execution_count": 23,
   "id": "ab3a01e2",
   "metadata": {},
   "outputs": [
    {
     "data": {
      "text/plain": [
       "{'item': {'avgFnlPrvsAmt': '996693',\n",
       "  'avgPrvsPrdMcnt': '1',\n",
       "  'avgTotPrvsAmt': '1221287',\n",
       "  'totPrsnCnt': '9',\n",
       "  'whlPymtCtstPrvsRate': '0.02'}}"
      ]
     },
     "execution_count": 23,
     "metadata": {},
     "output_type": "execute_result"
    }
   ],
   "source": [
    "parsing_dict['response']['body']"
   ]
  },
  {
   "cell_type": "code",
   "execution_count": 24,
   "id": "fea78ce3",
   "metadata": {},
   "outputs": [
    {
     "data": {
      "text/plain": [
       "{'avgFnlPrvsAmt': '996693',\n",
       " 'avgPrvsPrdMcnt': '1',\n",
       " 'avgTotPrvsAmt': '1221287',\n",
       " 'totPrsnCnt': '9',\n",
       " 'whlPymtCtstPrvsRate': '0.02'}"
      ]
     },
     "execution_count": 24,
     "metadata": {},
     "output_type": "execute_result"
    }
   ],
   "source": [
    "parsing_dict['response']['body']['item']"
   ]
  },
  {
   "cell_type": "code",
   "execution_count": null,
   "id": "f3cca9c7",
   "metadata": {},
   "outputs": [],
   "source": []
  },
  {
   "cell_type": "code",
   "execution_count": null,
   "id": "33f3cea8",
   "metadata": {},
   "outputs": [],
   "source": []
  },
  {
   "cell_type": "code",
   "execution_count": null,
   "id": "1f07538f",
   "metadata": {},
   "outputs": [],
   "source": []
  },
  {
   "cell_type": "code",
   "execution_count": null,
   "id": "8d647fa2",
   "metadata": {},
   "outputs": [],
   "source": []
  },
  {
   "cell_type": "code",
   "execution_count": null,
   "id": "eab62db8",
   "metadata": {},
   "outputs": [],
   "source": []
  }
 ],
 "metadata": {
  "kernelspec": {
   "display_name": "ex_kernel",
   "language": "python",
   "name": "ex"
  },
  "language_info": {
   "codemirror_mode": {
    "name": "ipython",
    "version": 3
   },
   "file_extension": ".py",
   "mimetype": "text/x-python",
   "name": "python",
   "nbconvert_exporter": "python",
   "pygments_lexer": "ipython3",
   "version": "3.8.10"
  },
  "toc": {
   "base_numbering": 1,
   "nav_menu": {},
   "number_sections": true,
   "sideBar": true,
   "skip_h1_title": false,
   "title_cell": "Table of Contents",
   "title_sidebar": "Contents",
   "toc_cell": false,
   "toc_position": {},
   "toc_section_display": true,
   "toc_window_display": false
  }
 },
 "nbformat": 4,
 "nbformat_minor": 5
}
