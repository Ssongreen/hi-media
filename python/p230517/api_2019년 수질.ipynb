{
 "cells": [
  {
   "cell_type": "code",
   "execution_count": null,
   "id": "206dd4a6",
   "metadata": {},
   "outputs": [],
   "source": []
  },
  {
   "cell_type": "code",
   "execution_count": 1,
   "id": "e1141ecc",
   "metadata": {
    "scrolled": true
   },
   "outputs": [
    {
     "name": "stdout",
     "output_type": "stream",
     "text": [
      "b'<?xml version=\"1.0\" encoding=\"UTF-8\"?><response>\\n  <header>\\n    <resultCode>00</resultCode>\\n    <resultMsg>NORMAL SERVIE</resultMsg>\\n  </header>\\n  <body>\\n    <items>\\n  <item>\\n    <num>1</num>\\n    <oceanCode>01</oceanCode>\\n    <oceanNm>\\xeb\\x8f\\x99\\xed\\x95\\xb4</oceanNm>\\n    <eclgyZoneAreaCode>0</eclgyZoneAreaCode>\\n    <eclgyZoneAreaNm>\\xeb\\x8f\\x99\\xed\\x95\\xb4</eclgyZoneAreaNm>\\n    <stnpntCode>0101H1</stnpntCode>\\n    <stnpntKoreanNm>\\xea\\xb1\\xb0\\xec\\xa7\\x84 H1</stnpntKoreanNm>\\n    <obsrYear>2019</obsrYear>\\n    <obsrMt>02</obsrMt>\\n    <obsrDe>2019-02-17</obsrDe>\\n    <wethr>\\xeb\\xa7\\x91\\xec\\x9d\\x8c</wethr>\\n    <wtrtmpSfclyr>4.92</wtrtmpSfclyr>\\n    <wtrtmpBtmlyr>4.89</wtrtmpBtmlyr>\\n    <salntSfclyr>33.88</salntSfclyr>\\n    <salntBtmlyr>33.88</salntBtmlyr>\\n    <phDnstySfclyr>8.19</phDnstySfclyr>\\n    <phDnstyBtmlyr>8.21</phDnstyBtmlyr>\\n    <doxySfclyr>9.96</doxySfclyr>\\n    <doxyBtmlyr>9.7</doxyBtmlyr>\\n    <choxdmSfclyr>1.12</choxdmSfclyr>\\n    <choxdmBtmlyr>1.2</choxdmBtmlyr>\\n    <nh4nSfclyr>45.9</nh4nSfclyr>\\n    <nh4nBtmlyr>37.8</nh4nBtmlyr>\\n    <no2nSfclyr>3.4</no2nSfclyr>\\n    <no2nBtmlyr>3.7</no2nBtmlyr>\\n    <no3nSfclyr>125</no3nSfclyr>\\n    <no3nBtmlyr>124.2</no3nBtmlyr>\\n    <dinSfclyr>174.3</dinSfclyr>\\n    <dinBtmlyr>165.7</dinBtmlyr>\\n    <totnSfclyr>286.6</totnSfclyr>\\n    <totnBtmlyr>294.1</totnBtmlyr>\\n    <dipSfclyr>21.4</dipSfclyr>\\n    <dipBtmlyr>22</dipBtmlyr>\\n    <totpSfclyr>33.9</totpSfclyr>\\n    <totpBtmlyr>33.4</totpBtmlyr>\\n    <slcacdSiSfclyr>343.9</slcacdSiSfclyr>\\n    <slcacdSiBtmlyr>340.1</slcacdSiBtmlyr>\\n    <fltngMttrSfclyr>4</fltngMttrSfclyr>\\n    <fltngMttrBtmlyr>3.5</fltngMttrBtmlyr>\\n    <clrplaSfclyr>0.28</clrplaSfclyr>\\n    <clrplaBtmlyr>0.14</clrplaBtmlyr>\\n    <eclgyZoneAreaScore>38</eclgyZoneAreaScore>\\n    <eclgyZoneAreaGrad>3</eclgyZoneAreaGrad>\\n  </item>\\n  <item>\\n    <num>2</num>\\n    <oceanCode>01</oceanCode>\\n    <oceanNm>\\xeb\\x8f\\x99\\xed\\x95\\xb4</oceanNm>\\n    <eclgyZoneAreaCode>0</eclgyZoneAreaCode>\\n    <eclgyZoneAreaNm>\\xeb\\x8f\\x99\\xed\\x95\\xb4</eclgyZoneAreaNm>\\n    <stnpntCode>010102</stnpntCode>\\n    <stnpntKoreanNm>\\xea\\xb1\\xb0\\xec\\xa7\\x84 02</stnpntKoreanNm>\\n    <obsrYear>2019</obsrYear>\\n    <obsrMt>02</obsrMt>\\n    <obsrDe>2019-02-17</obsrDe>\\n    <wethr>\\xeb\\xa7\\x91\\xec\\x9d\\x8c</wethr>\\n    <wtrtmpSfclyr>5.22</wtrtmpSfclyr>\\n    <wtrtmpBtmlyr>5.02</wtrtmpBtmlyr>\\n    <salntSfclyr>34.09</salntSfclyr>\\n    <salntBtmlyr>34.1</salntBtmlyr>\\n    <phDnstySfclyr>8.18</phDnstySfclyr>\\n    <phDnstyBtmlyr>8.19</phDnstyBtmlyr>\\n    <doxySfclyr>9.65</doxySfclyr>\\n    <doxyBtmlyr>9.59</doxyBtmlyr>\\n    <choxdmSfclyr>0.58</choxdmSfclyr>\\n    <choxdmBtmlyr>1.13</choxdmBtmlyr>\\n    <nh4nSfclyr>5.7</nh4nSfclyr>\\n    <nh4nBtmlyr>4.9</nh4nBtmlyr>\\n    <no2nSfclyr>3.2</no2nSfclyr>\\n    <no2nBtmlyr>3.6</no2nBtmlyr>\\n    <no3nSfclyr>119.7</no3nSfclyr>\\n    <no3nBtmlyr>100.5</no3nBtmlyr>\\n    <dinSfclyr>128.6</dinSfclyr>\\n    <dinBtmlyr>108.9</dinBtmlyr>\\n    <totnSfclyr>218.3</totnSfclyr>\\n    <totnBtmlyr>222.4</totnBtmlyr>\\n    <dipSfclyr>22.3</dipSfclyr>\\n    <dipBtmlyr>21.9</dipBtmlyr>\\n    <totpSfclyr>30</totpSfclyr>\\n    <totpBtmlyr>30.2</totpBtmlyr>\\n    <slcacdSiSfclyr>387.5</slcacdSiSfclyr>\\n    <slcacdSiBtmlyr>386.4</slcacdSiBtmlyr>\\n    <fltngMttrSfclyr>13</fltngMttrSfclyr>\\n    <fltngMttrBtmlyr>11</fltngMttrBtmlyr>\\n    <clrplaSfclyr>0.47</clrplaSfclyr>\\n    <clrplaBtmlyr>0.48</clrplaBtmlyr>\\n    <eclgyZoneAreaScore>33</eclgyZoneAreaScore>\\n    <eclgyZoneAreaGrad>2</eclgyZoneAreaGrad>\\n  </item>\\n  <item>\\n    <num>3</num>\\n    <oceanCode>01</oceanCode>\\n    <oceanNm>\\xeb\\x8f\\x99\\xed\\x95\\xb4</oceanNm>\\n    <eclgyZoneAreaCode>0</eclgyZoneAreaCode>\\n    <eclgyZoneAreaNm>\\xeb\\x8f\\x99\\xed\\x95\\xb4</eclgyZoneAreaNm>\\n    <stnpntCode>010101</stnpntCode>\\n    <stnpntKoreanNm>\\xea\\xb1\\xb0\\xec\\xa7\\x84 01</stnpntKoreanNm>\\n    <obsrYear>2019</obsrYear>\\n    <obsrMt>02</obsrMt>\\n    <obsrDe>2019-02-17</obsrDe>\\n    <wethr>\\xeb\\xa7\\x91\\xec\\x9d\\x8c</wethr>\\n    <wtrtmpSfclyr>6.64</wtrtmpSfclyr>\\n    <wtrtmpBtmlyr>1.27</wtrtmpBtmlyr>\\n    <salntSfclyr>34.19</salntSfclyr>\\n    <salntBtmlyr>33.99</salntBtmlyr>\\n    <phDnstySfclyr>8.15</phDnstySfclyr>\\n    <phDnstyBtmlyr>8.02</phDnstyBtmlyr>\\n    <doxySfclyr>9.46</doxySfclyr>\\n    <doxyBtmlyr>9.95</doxyBtmlyr>\\n    <choxdmSfclyr>0.51</choxdmSfclyr>\\n    <choxdmBtmlyr>1.09</choxdmBtmlyr>\\n    <nh4nSfclyr>3.2</nh4nSfclyr>\\n    <nh4nBtmlyr>1.6</nh4nBtmlyr>\\n    <no2nSfclyr>3.3</no2nSfclyr>\\n    <no2nBtmlyr>1.9</no2nBtmlyr>\\n    <no3nSfclyr>97.8</no3nSfclyr>\\n    <no3nBtmlyr>144.6</no3nBtmlyr>\\n    <dinSfclyr>104.3</dinSfclyr>\\n    <dinBtmlyr>148.1</dinBtmlyr>\\n    <totnSfclyr>186.5</totnSfclyr>\\n    <totnBtmlyr>272.7</totnBtmlyr>\\n    <dipSfclyr>17.6</dipSfclyr>\\n    <dipBtmlyr>31.8</dipBtmlyr>\\n    <totpSfclyr>27.8</totpSfclyr>\\n    <totpBtmlyr>38.7</totpBtmlyr>\\n    <slcacdSiSfclyr>340.2</slcacdSiSfclyr>\\n    <slcacdSiBtmlyr>513.9</slcacdSiBtmlyr>\\n    <fltngMttrSfclyr>2.2</fltngMttrSfclyr>\\n    <fltngMttrBtmlyr>2.4</fltngMttrBtmlyr>\\n    <clrplaSfclyr>0.96</clrplaSfclyr>\\n    <clrplaBtmlyr>0.11</clrplaBtmlyr>\\n    <eclgyZoneAreaScore>30</eclgyZoneAreaScore>\\n    <eclgyZoneAreaGrad>2</eclgyZoneAreaGrad>\\n  </item>\\n  <item>\\n    <num>4</num>\\n    <oceanCode>01</oceanCode>\\n    <oceanNm>\\xeb\\x8f\\x99\\xed\\x95\\xb4</oceanNm>\\n    <eclgyZoneAreaCode>0</eclgyZoneAreaCode>\\n    <eclgyZoneAreaNm>\\xeb\\x8f\\x99\\xed\\x95\\xb4</eclgyZoneAreaNm>\\n    <stnpntCode>010101</stnpntCode>\\n    <stnpntKoreanNm>\\xea\\xb1\\xb0\\xec\\xa7\\x84 01</stnpntKoreanNm>\\n    <obsrYear>2019</obsrYear>\\n    <obsrMt>05</obsrMt>\\n    <obsrDe>2019-05-02</obsrDe>\\n    <wethr>\\xeb\\xa7\\x91\\xec\\x9d\\x8c</wethr>\\n    <wtrtmpSfclyr>13.34</wtrtmpSfclyr>\\n    <wtrtmpBtmlyr>2.82</wtrtmpBtmlyr>\\n    <salntSfclyr>34.04</salntSfclyr>\\n    <salntBtmlyr>34.05</salntBtmlyr>\\n    <phDnstySfclyr>8.19</phDnstySfclyr>\\n    <phDnstyBtmlyr>7.81</phDnstyBtmlyr>\\n    <doxySfclyr>9.04</doxySfclyr>\\n    <doxyBtmlyr>8.2</doxyBtmlyr>\\n    <choxdmSfclyr>1.37</choxdmSfclyr>\\n    <choxdmBtmlyr>1.4</choxdmBtmlyr>\\n    <nh4nSfclyr>11</nh4nSfclyr>\\n    <nh4nBtmlyr>31.2</nh4nBtmlyr>\\n    <no2nSfclyr>0.2</no2nSfclyr>\\n    <no2nBtmlyr>1.5</no2nBtmlyr>\\n    <no3nSfclyr>6.6</no3nSfclyr>\\n    <no3nBtmlyr>225.5</no3nBtmlyr>\\n    <dinSfclyr>17.7</dinSfclyr>\\n    <dinBtmlyr>258.2</dinBtmlyr>\\n    <totnSfclyr>111.5</totnSfclyr>\\n    <totnBtmlyr>338.8</totnBtmlyr>\\n    <dipSfclyr>2.3</dipSfclyr>\\n    <dipBtmlyr>44.8</dipBtmlyr>\\n    <totpSfclyr>11.9</totpSfclyr>\\n    <totpBtmlyr>49.7</totpBtmlyr>\\n    <slcacdSiSfclyr>71.2</slcacdSiSfclyr>\\n    <slcacdSiBtmlyr>744.4</slcacdSiBtmlyr>\\n    <fltngMttrSfclyr>4.2</fltngMttrSfclyr>\\n    <fltngMttrBtmlyr>8.9</fltngMttrBtmlyr>\\n    <clrplaSfclyr>0.78</clrplaSfclyr>\\n    <clrplaBtmlyr>0.2</clrplaBtmlyr>\\n    <eclgyZoneAreaScore>46</eclgyZoneAreaScore>\\n    <eclgyZoneAreaGrad>3</eclgyZoneAreaGrad>\\n  </item>\\n  <item>\\n    <num>5</num>\\n    <oceanCode>01</oceanCode>\\n    <oceanNm>\\xeb\\x8f\\x99\\xed\\x95\\xb4</oceanNm>\\n    <eclgyZoneAreaCode>0</eclgyZoneAreaCode>\\n    <eclgyZoneAreaNm>\\xeb\\x8f\\x99\\xed\\x95\\xb4</eclgyZoneAreaNm>\\n    <stnpntCode>010102</stnpntCode>\\n    <stnpntKoreanNm>\\xea\\xb1\\xb0\\xec\\xa7\\x84 02</stnpntKoreanNm>\\n    <obsrYear>2019</obsrYear>\\n    <obsrMt>05</obsrMt>\\n    <obsrDe>2019-05-02</obsrDe>\\n    <wethr>\\xeb\\xa7\\x91\\xec\\x9d\\x8c</wethr>\\n    <wtrtmpSfclyr>13.7</wtrtmpSfclyr>\\n    <wtrtmpBtmlyr>13.89</wtrtmpBtmlyr>\\n    <salntSfclyr>33.84</salntSfclyr>\\n    <salntBtmlyr>33.79</salntBtmlyr>\\n    <phDnstySfclyr>8.17</phDnstySfclyr>\\n    <phDnstyBtmlyr>8.16</phDnstyBtmlyr>\\n    <doxySfclyr>9.15</doxySfclyr>\\n    <doxyBtmlyr>9.43</doxyBtmlyr>\\n    <choxdmSfclyr>1.26</choxdmSfclyr>\\n    <choxdmBtmlyr>1.39</choxdmBtmlyr>\\n    <nh4nSfclyr>7.2</nh4nSfclyr>\\n    <nh4nBtmlyr>15.2</nh4nBtmlyr>\\n    <no2nSfclyr>0.2</no2nSfclyr>\\n    <no2nBtmlyr>1</no2nBtmlyr>\\n    <no3nSfclyr>4.2</no3nSfclyr>\\n    <no3nBtmlyr>14.3</no3nBtmlyr>\\n    <dinSfclyr>11.6</dinSfclyr>\\n    <dinBtmlyr>30.4</dinBtmlyr>\\n    <totnSfclyr>129.3</totnSfclyr>\\n    <totnBtmlyr>145.1</totnBtmlyr>\\n    <dipSfclyr>1.6</dipSfclyr>\\n    <dipBtmlyr>5.1</dipBtmlyr>\\n    <totpSfclyr>12.6</totpSfclyr>\\n    <totpBtmlyr>17.5</totpBtmlyr>\\n    <slcacdSiSfclyr>120.5</slcacdSiSfclyr>\\n    <slcacdSiBtmlyr>151.6</slcacdSiBtmlyr>\\n    <fltngMttrSfclyr>5.6</fltngMttrSfclyr>\\n    <fltngMttrBtmlyr>6.3</fltngMttrBtmlyr>\\n    <clrplaSfclyr>1.76</clrplaSfclyr>\\n    <clrplaBtmlyr>0.95</clrplaBtmlyr>\\n    <eclgyZoneAreaScore>29</eclgyZoneAreaScore>\\n    <eclgyZoneAreaGrad>2</eclgyZoneAreaGrad>\\n  </item>\\n</items>\\n    <numOfRows>10</numOfRows>\\n    <pageNo>1</pageNo>\\n    <totalCount>5</totalCount>\\n  </body>\\n</response>\\n'\n"
     ]
    }
   ],
   "source": [
    "# Python3 샘플 코드 #\n",
    "import requests\n",
    "service_key = 'Zx92cxvOccFv7GV3RSr/3eyh9y/QUJp50opmRhYJ0aSNA9/PStwNjYn+eoLsWsbhxe91eXP3cSQfVWYDaTYZjA=='\n",
    "\n",
    "url = 'http://apis.data.go.kr/B553931/service/OceansNemoService1/getOceansNemo1'\n",
    "params ={'serviceKey' : service_key , 'pageNo' : '1', 'numOfRows' : '10', 'resultType' : 'xml', 'OCEAN_NM' : '동해', 'ECLGY_ZONE_AREA_NM' : '동해', 'STNPNT_KOREAN_NM' : '거진', 'sdate' : '20190201', 'edate' : '20190531' }\n",
    "\n",
    "response = requests.get(url, params=params)\n",
    "print(response.content)"
   ]
  },
  {
   "cell_type": "code",
   "execution_count": 2,
   "id": "4dce8024",
   "metadata": {},
   "outputs": [
    {
     "data": {
      "text/plain": [
       "<Response [200]>"
      ]
     },
     "execution_count": 2,
     "metadata": {},
     "output_type": "execute_result"
    }
   ],
   "source": [
    "response"
   ]
  },
  {
   "cell_type": "markdown",
   "id": "bc775d69",
   "metadata": {},
   "source": [
    "## 파일 변환 xml - > html 변환"
   ]
  },
  {
   "cell_type": "code",
   "execution_count": 3,
   "id": "77b1a4b4",
   "metadata": {},
   "outputs": [
    {
     "data": {
      "text/plain": [
       "'<?xml version=\"1.0\" encoding=\"UTF-8\"?><response>\\n  <header>\\n    <resultCode>00</resultCode>\\n    <resultMsg>NORMAL SERVIE</resultMsg>\\n  </header>\\n  <body>\\n    <items>\\n  <item>\\n    <num>1</num>\\n    <oceanCode>01</oceanCode>\\n    <oceanNm>동해</oceanNm>\\n    <eclgyZoneAreaCode>0</eclgyZoneAreaCode>\\n    <eclgyZoneAreaNm>동해</eclgyZoneAreaNm>\\n    <stnpntCode>0101H1</stnpntCode>\\n    <stnpntKoreanNm>거진 H1</stnpntKoreanNm>\\n    <obsrYear>2019</obsrYear>\\n    <obsrMt>02</obsrMt>\\n    <obsrDe>2019-02-17</obsrDe>\\n    <wethr>맑음</wethr>\\n    <wtrtmpSfclyr>4.92</wtrtmpSfclyr>\\n    <wtrtmpBtmlyr>4.89</wtrtmpBtmlyr>\\n    <salntSfclyr>33.88</salntSfclyr>\\n    <salntBtmlyr>33.88</salntBtmlyr>\\n    <phDnstySfclyr>8.19</phDnstySfclyr>\\n    <phDnstyBtmlyr>8.21</phDnstyBtmlyr>\\n    <doxySfclyr>9.96</doxySfclyr>\\n    <doxyBtmlyr>9.7</doxyBtmlyr>\\n    <choxdmSfclyr>1.12</choxdmSfclyr>\\n    <choxdmBtmlyr>1.2</choxdmBtmlyr>\\n    <nh4nSfclyr>45.9</nh4nSfclyr>\\n    <nh4nBtmlyr>37.8</nh4nBtmlyr>\\n    <no2nSfclyr>3.4</no2nSfclyr>\\n    <no2nBtmlyr>3.7</no2nBtmlyr>\\n    <no3nSfclyr>125</no3nSfclyr>\\n    <no3nBtmlyr>124.2</no3nBtmlyr>\\n    <dinSfclyr>174.3</dinSfclyr>\\n    <dinBtmlyr>165.7</dinBtmlyr>\\n    <totnSfclyr>286.6</totnSfclyr>\\n    <totnBtmlyr>294.1</totnBtmlyr>\\n    <dipSfclyr>21.4</dipSfclyr>\\n    <dipBtmlyr>22</dipBtmlyr>\\n    <totpSfclyr>33.9</totpSfclyr>\\n    <totpBtmlyr>33.4</totpBtmlyr>\\n    <slcacdSiSfclyr>343.9</slcacdSiSfclyr>\\n    <slcacdSiBtmlyr>340.1</slcacdSiBtmlyr>\\n    <fltngMttrSfclyr>4</fltngMttrSfclyr>\\n    <fltngMttrBtmlyr>3.5</fltngMttrBtmlyr>\\n    <clrplaSfclyr>0.28</clrplaSfclyr>\\n    <clrplaBtmlyr>0.14</clrplaBtmlyr>\\n    <eclgyZoneAreaScore>38</eclgyZoneAreaScore>\\n    <eclgyZoneAreaGrad>3</eclgyZoneAreaGrad>\\n  </item>\\n  <item>\\n    <num>2</num>\\n    <oceanCode>01</oceanCode>\\n    <oceanNm>동해</oceanNm>\\n    <eclgyZoneAreaCode>0</eclgyZoneAreaCode>\\n    <eclgyZoneAreaNm>동해</eclgyZoneAreaNm>\\n    <stnpntCode>010102</stnpntCode>\\n    <stnpntKoreanNm>거진 02</stnpntKoreanNm>\\n    <obsrYear>2019</obsrYear>\\n    <obsrMt>02</obsrMt>\\n    <obsrDe>2019-02-17</obsrDe>\\n    <wethr>맑음</wethr>\\n    <wtrtmpSfclyr>5.22</wtrtmpSfclyr>\\n    <wtrtmpBtmlyr>5.02</wtrtmpBtmlyr>\\n    <salntSfclyr>34.09</salntSfclyr>\\n    <salntBtmlyr>34.1</salntBtmlyr>\\n    <phDnstySfclyr>8.18</phDnstySfclyr>\\n    <phDnstyBtmlyr>8.19</phDnstyBtmlyr>\\n    <doxySfclyr>9.65</doxySfclyr>\\n    <doxyBtmlyr>9.59</doxyBtmlyr>\\n    <choxdmSfclyr>0.58</choxdmSfclyr>\\n    <choxdmBtmlyr>1.13</choxdmBtmlyr>\\n    <nh4nSfclyr>5.7</nh4nSfclyr>\\n    <nh4nBtmlyr>4.9</nh4nBtmlyr>\\n    <no2nSfclyr>3.2</no2nSfclyr>\\n    <no2nBtmlyr>3.6</no2nBtmlyr>\\n    <no3nSfclyr>119.7</no3nSfclyr>\\n    <no3nBtmlyr>100.5</no3nBtmlyr>\\n    <dinSfclyr>128.6</dinSfclyr>\\n    <dinBtmlyr>108.9</dinBtmlyr>\\n    <totnSfclyr>218.3</totnSfclyr>\\n    <totnBtmlyr>222.4</totnBtmlyr>\\n    <dipSfclyr>22.3</dipSfclyr>\\n    <dipBtmlyr>21.9</dipBtmlyr>\\n    <totpSfclyr>30</totpSfclyr>\\n    <totpBtmlyr>30.2</totpBtmlyr>\\n    <slcacdSiSfclyr>387.5</slcacdSiSfclyr>\\n    <slcacdSiBtmlyr>386.4</slcacdSiBtmlyr>\\n    <fltngMttrSfclyr>13</fltngMttrSfclyr>\\n    <fltngMttrBtmlyr>11</fltngMttrBtmlyr>\\n    <clrplaSfclyr>0.47</clrplaSfclyr>\\n    <clrplaBtmlyr>0.48</clrplaBtmlyr>\\n    <eclgyZoneAreaScore>33</eclgyZoneAreaScore>\\n    <eclgyZoneAreaGrad>2</eclgyZoneAreaGrad>\\n  </item>\\n  <item>\\n    <num>3</num>\\n    <oceanCode>01</oceanCode>\\n    <oceanNm>동해</oceanNm>\\n    <eclgyZoneAreaCode>0</eclgyZoneAreaCode>\\n    <eclgyZoneAreaNm>동해</eclgyZoneAreaNm>\\n    <stnpntCode>010101</stnpntCode>\\n    <stnpntKoreanNm>거진 01</stnpntKoreanNm>\\n    <obsrYear>2019</obsrYear>\\n    <obsrMt>02</obsrMt>\\n    <obsrDe>2019-02-17</obsrDe>\\n    <wethr>맑음</wethr>\\n    <wtrtmpSfclyr>6.64</wtrtmpSfclyr>\\n    <wtrtmpBtmlyr>1.27</wtrtmpBtmlyr>\\n    <salntSfclyr>34.19</salntSfclyr>\\n    <salntBtmlyr>33.99</salntBtmlyr>\\n    <phDnstySfclyr>8.15</phDnstySfclyr>\\n    <phDnstyBtmlyr>8.02</phDnstyBtmlyr>\\n    <doxySfclyr>9.46</doxySfclyr>\\n    <doxyBtmlyr>9.95</doxyBtmlyr>\\n    <choxdmSfclyr>0.51</choxdmSfclyr>\\n    <choxdmBtmlyr>1.09</choxdmBtmlyr>\\n    <nh4nSfclyr>3.2</nh4nSfclyr>\\n    <nh4nBtmlyr>1.6</nh4nBtmlyr>\\n    <no2nSfclyr>3.3</no2nSfclyr>\\n    <no2nBtmlyr>1.9</no2nBtmlyr>\\n    <no3nSfclyr>97.8</no3nSfclyr>\\n    <no3nBtmlyr>144.6</no3nBtmlyr>\\n    <dinSfclyr>104.3</dinSfclyr>\\n    <dinBtmlyr>148.1</dinBtmlyr>\\n    <totnSfclyr>186.5</totnSfclyr>\\n    <totnBtmlyr>272.7</totnBtmlyr>\\n    <dipSfclyr>17.6</dipSfclyr>\\n    <dipBtmlyr>31.8</dipBtmlyr>\\n    <totpSfclyr>27.8</totpSfclyr>\\n    <totpBtmlyr>38.7</totpBtmlyr>\\n    <slcacdSiSfclyr>340.2</slcacdSiSfclyr>\\n    <slcacdSiBtmlyr>513.9</slcacdSiBtmlyr>\\n    <fltngMttrSfclyr>2.2</fltngMttrSfclyr>\\n    <fltngMttrBtmlyr>2.4</fltngMttrBtmlyr>\\n    <clrplaSfclyr>0.96</clrplaSfclyr>\\n    <clrplaBtmlyr>0.11</clrplaBtmlyr>\\n    <eclgyZoneAreaScore>30</eclgyZoneAreaScore>\\n    <eclgyZoneAreaGrad>2</eclgyZoneAreaGrad>\\n  </item>\\n  <item>\\n    <num>4</num>\\n    <oceanCode>01</oceanCode>\\n    <oceanNm>동해</oceanNm>\\n    <eclgyZoneAreaCode>0</eclgyZoneAreaCode>\\n    <eclgyZoneAreaNm>동해</eclgyZoneAreaNm>\\n    <stnpntCode>010101</stnpntCode>\\n    <stnpntKoreanNm>거진 01</stnpntKoreanNm>\\n    <obsrYear>2019</obsrYear>\\n    <obsrMt>05</obsrMt>\\n    <obsrDe>2019-05-02</obsrDe>\\n    <wethr>맑음</wethr>\\n    <wtrtmpSfclyr>13.34</wtrtmpSfclyr>\\n    <wtrtmpBtmlyr>2.82</wtrtmpBtmlyr>\\n    <salntSfclyr>34.04</salntSfclyr>\\n    <salntBtmlyr>34.05</salntBtmlyr>\\n    <phDnstySfclyr>8.19</phDnstySfclyr>\\n    <phDnstyBtmlyr>7.81</phDnstyBtmlyr>\\n    <doxySfclyr>9.04</doxySfclyr>\\n    <doxyBtmlyr>8.2</doxyBtmlyr>\\n    <choxdmSfclyr>1.37</choxdmSfclyr>\\n    <choxdmBtmlyr>1.4</choxdmBtmlyr>\\n    <nh4nSfclyr>11</nh4nSfclyr>\\n    <nh4nBtmlyr>31.2</nh4nBtmlyr>\\n    <no2nSfclyr>0.2</no2nSfclyr>\\n    <no2nBtmlyr>1.5</no2nBtmlyr>\\n    <no3nSfclyr>6.6</no3nSfclyr>\\n    <no3nBtmlyr>225.5</no3nBtmlyr>\\n    <dinSfclyr>17.7</dinSfclyr>\\n    <dinBtmlyr>258.2</dinBtmlyr>\\n    <totnSfclyr>111.5</totnSfclyr>\\n    <totnBtmlyr>338.8</totnBtmlyr>\\n    <dipSfclyr>2.3</dipSfclyr>\\n    <dipBtmlyr>44.8</dipBtmlyr>\\n    <totpSfclyr>11.9</totpSfclyr>\\n    <totpBtmlyr>49.7</totpBtmlyr>\\n    <slcacdSiSfclyr>71.2</slcacdSiSfclyr>\\n    <slcacdSiBtmlyr>744.4</slcacdSiBtmlyr>\\n    <fltngMttrSfclyr>4.2</fltngMttrSfclyr>\\n    <fltngMttrBtmlyr>8.9</fltngMttrBtmlyr>\\n    <clrplaSfclyr>0.78</clrplaSfclyr>\\n    <clrplaBtmlyr>0.2</clrplaBtmlyr>\\n    <eclgyZoneAreaScore>46</eclgyZoneAreaScore>\\n    <eclgyZoneAreaGrad>3</eclgyZoneAreaGrad>\\n  </item>\\n  <item>\\n    <num>5</num>\\n    <oceanCode>01</oceanCode>\\n    <oceanNm>동해</oceanNm>\\n    <eclgyZoneAreaCode>0</eclgyZoneAreaCode>\\n    <eclgyZoneAreaNm>동해</eclgyZoneAreaNm>\\n    <stnpntCode>010102</stnpntCode>\\n    <stnpntKoreanNm>거진 02</stnpntKoreanNm>\\n    <obsrYear>2019</obsrYear>\\n    <obsrMt>05</obsrMt>\\n    <obsrDe>2019-05-02</obsrDe>\\n    <wethr>맑음</wethr>\\n    <wtrtmpSfclyr>13.7</wtrtmpSfclyr>\\n    <wtrtmpBtmlyr>13.89</wtrtmpBtmlyr>\\n    <salntSfclyr>33.84</salntSfclyr>\\n    <salntBtmlyr>33.79</salntBtmlyr>\\n    <phDnstySfclyr>8.17</phDnstySfclyr>\\n    <phDnstyBtmlyr>8.16</phDnstyBtmlyr>\\n    <doxySfclyr>9.15</doxySfclyr>\\n    <doxyBtmlyr>9.43</doxyBtmlyr>\\n    <choxdmSfclyr>1.26</choxdmSfclyr>\\n    <choxdmBtmlyr>1.39</choxdmBtmlyr>\\n    <nh4nSfclyr>7.2</nh4nSfclyr>\\n    <nh4nBtmlyr>15.2</nh4nBtmlyr>\\n    <no2nSfclyr>0.2</no2nSfclyr>\\n    <no2nBtmlyr>1</no2nBtmlyr>\\n    <no3nSfclyr>4.2</no3nSfclyr>\\n    <no3nBtmlyr>14.3</no3nBtmlyr>\\n    <dinSfclyr>11.6</dinSfclyr>\\n    <dinBtmlyr>30.4</dinBtmlyr>\\n    <totnSfclyr>129.3</totnSfclyr>\\n    <totnBtmlyr>145.1</totnBtmlyr>\\n    <dipSfclyr>1.6</dipSfclyr>\\n    <dipBtmlyr>5.1</dipBtmlyr>\\n    <totpSfclyr>12.6</totpSfclyr>\\n    <totpBtmlyr>17.5</totpBtmlyr>\\n    <slcacdSiSfclyr>120.5</slcacdSiSfclyr>\\n    <slcacdSiBtmlyr>151.6</slcacdSiBtmlyr>\\n    <fltngMttrSfclyr>5.6</fltngMttrSfclyr>\\n    <fltngMttrBtmlyr>6.3</fltngMttrBtmlyr>\\n    <clrplaSfclyr>1.76</clrplaSfclyr>\\n    <clrplaBtmlyr>0.95</clrplaBtmlyr>\\n    <eclgyZoneAreaScore>29</eclgyZoneAreaScore>\\n    <eclgyZoneAreaGrad>2</eclgyZoneAreaGrad>\\n  </item>\\n</items>\\n    <numOfRows>10</numOfRows>\\n    <pageNo>1</pageNo>\\n    <totalCount>5</totalCount>\\n  </body>\\n</response>\\n'"
      ]
     },
     "execution_count": 3,
     "metadata": {},
     "output_type": "execute_result"
    }
   ],
   "source": [
    "response.text"
   ]
  },
  {
   "cell_type": "code",
   "execution_count": 4,
   "id": "e47f6bb6",
   "metadata": {},
   "outputs": [],
   "source": [
    "#객층 구조로 변경\n",
    "from bs4 import BeautifulSoup\n",
    "\n",
    "xml = BeautifulSoup(response.text,features='xml')"
   ]
  },
  {
   "cell_type": "code",
   "execution_count": 5,
   "id": "b8a79eb7",
   "metadata": {},
   "outputs": [],
   "source": [
    "xml.responseMsg"
   ]
  },
  {
   "cell_type": "markdown",
   "id": "22a94d64",
   "metadata": {},
   "source": [
    "## 파일 변환 str-> json"
   ]
  },
  {
   "cell_type": "code",
   "execution_count": 6,
   "id": "ec347a90",
   "metadata": {},
   "outputs": [],
   "source": [
    "import xmltodict\n",
    "# 문자열로 넣기 -> dict 로 변경\n",
    "\n",
    "parsing_dict = xmltodict.parse(response.text)"
   ]
  },
  {
   "cell_type": "code",
   "execution_count": 7,
   "id": "b5bd2b0f",
   "metadata": {},
   "outputs": [
    {
     "data": {
      "text/plain": [
       "dict_keys(['response'])"
      ]
     },
     "execution_count": 7,
     "metadata": {},
     "output_type": "execute_result"
    }
   ],
   "source": [
    "parsing_dict.keys()"
   ]
  },
  {
   "cell_type": "code",
   "execution_count": 8,
   "id": "ddefbf77",
   "metadata": {
    "scrolled": true
   },
   "outputs": [
    {
     "data": {
      "text/plain": [
       "dict_keys(['header', 'body'])"
      ]
     },
     "execution_count": 8,
     "metadata": {},
     "output_type": "execute_result"
    }
   ],
   "source": [
    "parsing_dict['response'].keys()"
   ]
  },
  {
   "cell_type": "markdown",
   "id": "de8d5cfe",
   "metadata": {},
   "source": [
    "# 전처리"
   ]
  },
  {
   "cell_type": "code",
   "execution_count": 11,
   "id": "ab3a01e2",
   "metadata": {},
   "outputs": [],
   "source": [
    "import pandas as pd\n",
    "\n",
    "water_environment=pd.DataFrame(parsing_dict['response']['body']['items']['item'])"
   ]
  },
  {
   "cell_type": "code",
   "execution_count": 12,
   "id": "f3cca9c7",
   "metadata": {
    "collapsed": true
   },
   "outputs": [
    {
     "name": "stdout",
     "output_type": "stream",
     "text": [
      "<class 'pandas.core.frame.DataFrame'>\n",
      "RangeIndex: 5 entries, 0 to 4\n",
      "Data columns (total 43 columns):\n",
      " #   Column              Non-Null Count  Dtype \n",
      "---  ------              --------------  ----- \n",
      " 0   num                 5 non-null      object\n",
      " 1   oceanCode           5 non-null      object\n",
      " 2   oceanNm             5 non-null      object\n",
      " 3   eclgyZoneAreaCode   5 non-null      object\n",
      " 4   eclgyZoneAreaNm     5 non-null      object\n",
      " 5   stnpntCode          5 non-null      object\n",
      " 6   stnpntKoreanNm      5 non-null      object\n",
      " 7   obsrYear            5 non-null      object\n",
      " 8   obsrMt              5 non-null      object\n",
      " 9   obsrDe              5 non-null      object\n",
      " 10  wethr               5 non-null      object\n",
      " 11  wtrtmpSfclyr        5 non-null      object\n",
      " 12  wtrtmpBtmlyr        5 non-null      object\n",
      " 13  salntSfclyr         5 non-null      object\n",
      " 14  salntBtmlyr         5 non-null      object\n",
      " 15  phDnstySfclyr       5 non-null      object\n",
      " 16  phDnstyBtmlyr       5 non-null      object\n",
      " 17  doxySfclyr          5 non-null      object\n",
      " 18  doxyBtmlyr          5 non-null      object\n",
      " 19  choxdmSfclyr        5 non-null      object\n",
      " 20  choxdmBtmlyr        5 non-null      object\n",
      " 21  nh4nSfclyr          5 non-null      object\n",
      " 22  nh4nBtmlyr          5 non-null      object\n",
      " 23  no2nSfclyr          5 non-null      object\n",
      " 24  no2nBtmlyr          5 non-null      object\n",
      " 25  no3nSfclyr          5 non-null      object\n",
      " 26  no3nBtmlyr          5 non-null      object\n",
      " 27  dinSfclyr           5 non-null      object\n",
      " 28  dinBtmlyr           5 non-null      object\n",
      " 29  totnSfclyr          5 non-null      object\n",
      " 30  totnBtmlyr          5 non-null      object\n",
      " 31  dipSfclyr           5 non-null      object\n",
      " 32  dipBtmlyr           5 non-null      object\n",
      " 33  totpSfclyr          5 non-null      object\n",
      " 34  totpBtmlyr          5 non-null      object\n",
      " 35  slcacdSiSfclyr      5 non-null      object\n",
      " 36  slcacdSiBtmlyr      5 non-null      object\n",
      " 37  fltngMttrSfclyr     5 non-null      object\n",
      " 38  fltngMttrBtmlyr     5 non-null      object\n",
      " 39  clrplaSfclyr        5 non-null      object\n",
      " 40  clrplaBtmlyr        5 non-null      object\n",
      " 41  eclgyZoneAreaScore  5 non-null      object\n",
      " 42  eclgyZoneAreaGrad   5 non-null      object\n",
      "dtypes: object(43)\n",
      "memory usage: 1.8+ KB\n"
     ]
    }
   ],
   "source": [
    "water_environment.info()"
   ]
  },
  {
   "cell_type": "code",
   "execution_count": 13,
   "id": "f06309d0",
   "metadata": {},
   "outputs": [
    {
     "data": {
      "text/plain": [
       "0    2019-02-17\n",
       "1    2019-02-17\n",
       "2    2019-02-17\n",
       "3    2019-05-02\n",
       "4    2019-05-02\n",
       "Name: obsrDe, dtype: object"
      ]
     },
     "execution_count": 13,
     "metadata": {},
     "output_type": "execute_result"
    }
   ],
   "source": [
    "water_environment"
   ]
  },
  {
   "cell_type": "code",
   "execution_count": 20,
   "id": "1f07538f",
   "metadata": {},
   "outputs": [],
   "source": [
    "w_e=water_environment[['oceanNm','eclgyZoneAreaNm','stnpntKoreanNm','obsrDe','wethr','wtrtmpSfclyr','salntSfclyr','phDnstySfclyr','doxySfclyr','choxdmSfclyr']]"
   ]
  },
  {
   "cell_type": "code",
   "execution_count": 22,
   "id": "29205222",
   "metadata": {},
   "outputs": [],
   "source": [
    "water_environment =w_e.rename(columns={'oceanNm':'해역명','eclgyZoneAreaNm':'생태구지역명','stnpntKoreanNm':'정점명','obsrDe':'관측일자','wethr':'날씨','wtrtmpSfclyr':'수온표층','salntSfclyr':'염분표층','phDnstySfclyr':'수소이온농도표층','doxySfclyr':'용존산소량표층','choxdmSfclyr':'화학적산소요구량표층'})"
   ]
  },
  {
   "cell_type": "code",
   "execution_count": 23,
   "id": "5e7225c6",
   "metadata": {},
   "outputs": [],
   "source": [
    "water_environment.to_csv('2019년 수질.csv',index=False)"
   ]
  },
  {
   "cell_type": "code",
   "execution_count": null,
   "id": "eab62db8",
   "metadata": {},
   "outputs": [],
   "source": []
  }
 ],
 "metadata": {
  "kernelspec": {
   "display_name": "ex_kernel",
   "language": "python",
   "name": "ex"
  },
  "language_info": {
   "codemirror_mode": {
    "name": "ipython",
    "version": 3
   },
   "file_extension": ".py",
   "mimetype": "text/x-python",
   "name": "python",
   "nbconvert_exporter": "python",
   "pygments_lexer": "ipython3",
   "version": "3.8.10"
  },
  "toc": {
   "base_numbering": 1,
   "nav_menu": {},
   "number_sections": true,
   "sideBar": true,
   "skip_h1_title": false,
   "title_cell": "Table of Contents",
   "title_sidebar": "Contents",
   "toc_cell": false,
   "toc_position": {},
   "toc_section_display": true,
   "toc_window_display": false
  }
 },
 "nbformat": 4,
 "nbformat_minor": 5
}
