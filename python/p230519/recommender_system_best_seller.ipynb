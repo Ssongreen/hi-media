{
 "cells": [
  {
   "cell_type": "code",
   "execution_count": 70,
   "id": "efa55349",
   "metadata": {},
   "outputs": [],
   "source": [
    "import pandas as pd\n",
    "import numpy as np"
   ]
  },
  {
   "cell_type": "markdown",
   "id": "11b41c26",
   "metadata": {},
   "source": [
    "# 파일 읽기 (전처리)\n",
    "- 파일을 읽어 올때 , sep 구분, names 컬럼 명 헤드 설정"
   ]
  },
  {
   "cell_type": "markdown",
   "id": "73f87ef0",
   "metadata": {},
   "source": [
    "## u.user : 사용자"
   ]
  },
  {
   "cell_type": "code",
   "execution_count": 2,
   "id": "86eee534",
   "metadata": {},
   "outputs": [
    {
     "data": {
      "text/html": [
       "<div>\n",
       "<style scoped>\n",
       "    .dataframe tbody tr th:only-of-type {\n",
       "        vertical-align: middle;\n",
       "    }\n",
       "\n",
       "    .dataframe tbody tr th {\n",
       "        vertical-align: top;\n",
       "    }\n",
       "\n",
       "    .dataframe thead th {\n",
       "        text-align: right;\n",
       "    }\n",
       "</style>\n",
       "<table border=\"1\" class=\"dataframe\">\n",
       "  <thead>\n",
       "    <tr style=\"text-align: right;\">\n",
       "      <th></th>\n",
       "      <th>user_id</th>\n",
       "      <th>age</th>\n",
       "      <th>gender</th>\n",
       "      <th>job</th>\n",
       "      <th>zip_code</th>\n",
       "    </tr>\n",
       "  </thead>\n",
       "  <tbody>\n",
       "    <tr>\n",
       "      <th>0</th>\n",
       "      <td>1</td>\n",
       "      <td>24</td>\n",
       "      <td>M</td>\n",
       "      <td>technician</td>\n",
       "      <td>85711</td>\n",
       "    </tr>\n",
       "    <tr>\n",
       "      <th>1</th>\n",
       "      <td>2</td>\n",
       "      <td>53</td>\n",
       "      <td>F</td>\n",
       "      <td>other</td>\n",
       "      <td>94043</td>\n",
       "    </tr>\n",
       "    <tr>\n",
       "      <th>2</th>\n",
       "      <td>3</td>\n",
       "      <td>23</td>\n",
       "      <td>M</td>\n",
       "      <td>writer</td>\n",
       "      <td>32067</td>\n",
       "    </tr>\n",
       "  </tbody>\n",
       "</table>\n",
       "</div>"
      ],
      "text/plain": [
       "   user_id  age gender         job zip_code\n",
       "0        1   24      M  technician    85711\n",
       "1        2   53      F       other    94043\n",
       "2        3   23      M      writer    32067"
      ]
     },
     "execution_count": 2,
     "metadata": {},
     "output_type": "execute_result"
    }
   ],
   "source": [
    "user_col = ['user_id','age','gender','job','zip_code']\n",
    "# user_col = ['아이디','나이','성별','직업','우편번호']\n",
    "\n",
    "users = pd.read_csv('u.user',sep='|', names=user_col)\n",
    "users[:3]"
   ]
  },
  {
   "cell_type": "markdown",
   "id": "3fe1c6b5",
   "metadata": {},
   "source": [
    "## 아이디를 인덱스로 변경"
   ]
  },
  {
   "cell_type": "code",
   "execution_count": 3,
   "id": "2711a763",
   "metadata": {},
   "outputs": [],
   "source": [
    "#컬럼 확인"
   ]
  },
  {
   "cell_type": "code",
   "execution_count": 4,
   "id": "8f05ce5d",
   "metadata": {},
   "outputs": [
    {
     "data": {
      "text/plain": [
       "Index(['user_id', 'age', 'gender', 'job', 'zip_code'], dtype='object')"
      ]
     },
     "execution_count": 4,
     "metadata": {},
     "output_type": "execute_result"
    }
   ],
   "source": [
    "users.columns"
   ]
  },
  {
   "cell_type": "code",
   "execution_count": 5,
   "id": "cb159c42",
   "metadata": {},
   "outputs": [],
   "source": [
    "#인덱스로 변경"
   ]
  },
  {
   "cell_type": "code",
   "execution_count": 6,
   "id": "5ab23c24",
   "metadata": {},
   "outputs": [
    {
     "data": {
      "text/html": [
       "<div>\n",
       "<style scoped>\n",
       "    .dataframe tbody tr th:only-of-type {\n",
       "        vertical-align: middle;\n",
       "    }\n",
       "\n",
       "    .dataframe tbody tr th {\n",
       "        vertical-align: top;\n",
       "    }\n",
       "\n",
       "    .dataframe thead th {\n",
       "        text-align: right;\n",
       "    }\n",
       "</style>\n",
       "<table border=\"1\" class=\"dataframe\">\n",
       "  <thead>\n",
       "    <tr style=\"text-align: right;\">\n",
       "      <th></th>\n",
       "      <th>age</th>\n",
       "      <th>gender</th>\n",
       "      <th>job</th>\n",
       "      <th>zip_code</th>\n",
       "    </tr>\n",
       "    <tr>\n",
       "      <th>user_id</th>\n",
       "      <th></th>\n",
       "      <th></th>\n",
       "      <th></th>\n",
       "      <th></th>\n",
       "    </tr>\n",
       "  </thead>\n",
       "  <tbody>\n",
       "    <tr>\n",
       "      <th>1</th>\n",
       "      <td>24</td>\n",
       "      <td>M</td>\n",
       "      <td>technician</td>\n",
       "      <td>85711</td>\n",
       "    </tr>\n",
       "    <tr>\n",
       "      <th>2</th>\n",
       "      <td>53</td>\n",
       "      <td>F</td>\n",
       "      <td>other</td>\n",
       "      <td>94043</td>\n",
       "    </tr>\n",
       "    <tr>\n",
       "      <th>3</th>\n",
       "      <td>23</td>\n",
       "      <td>M</td>\n",
       "      <td>writer</td>\n",
       "      <td>32067</td>\n",
       "    </tr>\n",
       "  </tbody>\n",
       "</table>\n",
       "</div>"
      ],
      "text/plain": [
       "         age gender         job zip_code\n",
       "user_id                                 \n",
       "1         24      M  technician    85711\n",
       "2         53      F       other    94043\n",
       "3         23      M      writer    32067"
      ]
     },
     "execution_count": 6,
     "metadata": {},
     "output_type": "execute_result"
    }
   ],
   "source": [
    "users.set_index('user_id',inplace=True)\n",
    "users[:3]"
   ]
  },
  {
   "cell_type": "code",
   "execution_count": 7,
   "id": "2bc19514",
   "metadata": {},
   "outputs": [
    {
     "name": "stdout",
     "output_type": "stream",
     "text": [
      "<class 'pandas.core.frame.DataFrame'>\n",
      "Index: 943 entries, 1 to 943\n",
      "Data columns (total 4 columns):\n",
      " #   Column    Non-Null Count  Dtype \n",
      "---  ------    --------------  ----- \n",
      " 0   age       943 non-null    int64 \n",
      " 1   gender    943 non-null    object\n",
      " 2   job       943 non-null    object\n",
      " 3   zip_code  943 non-null    object\n",
      "dtypes: int64(1), object(3)\n",
      "memory usage: 36.8+ KB\n"
     ]
    }
   ],
   "source": [
    "users.info()"
   ]
  },
  {
   "cell_type": "code",
   "execution_count": 8,
   "id": "c9153e4d",
   "metadata": {},
   "outputs": [],
   "source": [
    "## 파일 저장, users.csv"
   ]
  },
  {
   "cell_type": "code",
   "execution_count": 9,
   "id": "f8a08530",
   "metadata": {},
   "outputs": [],
   "source": [
    "users.to_csv('users.csv', encoding='UTF-8')"
   ]
  },
  {
   "cell_type": "markdown",
   "id": "f8391a88",
   "metadata": {},
   "source": [
    "## u.item : 영화 정보\n",
    "- 영화 아이디, 제목, 개봉 날짜, 장르, "
   ]
  },
  {
   "cell_type": "code",
   "execution_count": 12,
   "id": "4753dc42",
   "metadata": {},
   "outputs": [
    {
     "data": {
      "text/html": [
       "<div>\n",
       "<style scoped>\n",
       "    .dataframe tbody tr th:only-of-type {\n",
       "        vertical-align: middle;\n",
       "    }\n",
       "\n",
       "    .dataframe tbody tr th {\n",
       "        vertical-align: top;\n",
       "    }\n",
       "\n",
       "    .dataframe thead th {\n",
       "        text-align: right;\n",
       "    }\n",
       "</style>\n",
       "<table border=\"1\" class=\"dataframe\">\n",
       "  <thead>\n",
       "    <tr style=\"text-align: right;\">\n",
       "      <th></th>\n",
       "      <th>movie_id</th>\n",
       "      <th>title</th>\n",
       "      <th>release date</th>\n",
       "      <th>a</th>\n",
       "      <th>imdb url</th>\n",
       "      <th>b</th>\n",
       "      <th>action</th>\n",
       "      <th>adventure</th>\n",
       "      <th>animation</th>\n",
       "      <th>children</th>\n",
       "      <th>...</th>\n",
       "      <th>fantasy</th>\n",
       "      <th>film-noir</th>\n",
       "      <th>horror</th>\n",
       "      <th>musical</th>\n",
       "      <th>mystery</th>\n",
       "      <th>romance</th>\n",
       "      <th>sci-fi</th>\n",
       "      <th>thriller</th>\n",
       "      <th>war</th>\n",
       "      <th>western</th>\n",
       "    </tr>\n",
       "  </thead>\n",
       "  <tbody>\n",
       "    <tr>\n",
       "      <th>0</th>\n",
       "      <td>1</td>\n",
       "      <td>Toy Story (1995)</td>\n",
       "      <td>01-Jan-1995</td>\n",
       "      <td>NaN</td>\n",
       "      <td>http://us.imdb.com/M/title-exact?Toy%20Story%2...</td>\n",
       "      <td>0</td>\n",
       "      <td>0</td>\n",
       "      <td>0</td>\n",
       "      <td>1</td>\n",
       "      <td>1</td>\n",
       "      <td>...</td>\n",
       "      <td>0</td>\n",
       "      <td>0</td>\n",
       "      <td>0</td>\n",
       "      <td>0</td>\n",
       "      <td>0</td>\n",
       "      <td>0</td>\n",
       "      <td>0</td>\n",
       "      <td>0</td>\n",
       "      <td>0</td>\n",
       "      <td>0</td>\n",
       "    </tr>\n",
       "    <tr>\n",
       "      <th>1</th>\n",
       "      <td>2</td>\n",
       "      <td>GoldenEye (1995)</td>\n",
       "      <td>01-Jan-1995</td>\n",
       "      <td>NaN</td>\n",
       "      <td>http://us.imdb.com/M/title-exact?GoldenEye%20(...</td>\n",
       "      <td>0</td>\n",
       "      <td>1</td>\n",
       "      <td>1</td>\n",
       "      <td>0</td>\n",
       "      <td>0</td>\n",
       "      <td>...</td>\n",
       "      <td>0</td>\n",
       "      <td>0</td>\n",
       "      <td>0</td>\n",
       "      <td>0</td>\n",
       "      <td>0</td>\n",
       "      <td>0</td>\n",
       "      <td>0</td>\n",
       "      <td>1</td>\n",
       "      <td>0</td>\n",
       "      <td>0</td>\n",
       "    </tr>\n",
       "    <tr>\n",
       "      <th>2</th>\n",
       "      <td>3</td>\n",
       "      <td>Four Rooms (1995)</td>\n",
       "      <td>01-Jan-1995</td>\n",
       "      <td>NaN</td>\n",
       "      <td>http://us.imdb.com/M/title-exact?Four%20Rooms%...</td>\n",
       "      <td>0</td>\n",
       "      <td>0</td>\n",
       "      <td>0</td>\n",
       "      <td>0</td>\n",
       "      <td>0</td>\n",
       "      <td>...</td>\n",
       "      <td>0</td>\n",
       "      <td>0</td>\n",
       "      <td>0</td>\n",
       "      <td>0</td>\n",
       "      <td>0</td>\n",
       "      <td>0</td>\n",
       "      <td>0</td>\n",
       "      <td>1</td>\n",
       "      <td>0</td>\n",
       "      <td>0</td>\n",
       "    </tr>\n",
       "  </tbody>\n",
       "</table>\n",
       "<p>3 rows × 24 columns</p>\n",
       "</div>"
      ],
      "text/plain": [
       "   movie_id              title release date   a   \n",
       "0         1   Toy Story (1995)  01-Jan-1995 NaN  \\\n",
       "1         2   GoldenEye (1995)  01-Jan-1995 NaN   \n",
       "2         3  Four Rooms (1995)  01-Jan-1995 NaN   \n",
       "\n",
       "                                            imdb url  b  action  adventure   \n",
       "0  http://us.imdb.com/M/title-exact?Toy%20Story%2...  0       0          0  \\\n",
       "1  http://us.imdb.com/M/title-exact?GoldenEye%20(...  0       1          1   \n",
       "2  http://us.imdb.com/M/title-exact?Four%20Rooms%...  0       0          0   \n",
       "\n",
       "   animation  children  ...  fantasy  film-noir  horror  musical  mystery   \n",
       "0          1         1  ...        0          0       0        0        0  \\\n",
       "1          0         0  ...        0          0       0        0        0   \n",
       "2          0         0  ...        0          0       0        0        0   \n",
       "\n",
       "   romance  sci-fi  thriller  war  western  \n",
       "0        0       0         0    0        0  \n",
       "1        0       0         1    0        0  \n",
       "2        0       0         1    0        0  \n",
       "\n",
       "[3 rows x 24 columns]"
      ]
     },
     "execution_count": 12,
     "metadata": {},
     "output_type": "execute_result"
    }
   ],
   "source": [
    "item_col = ['movie_id', 'title', 'release date', 'a', 'imdb url', 'b', 'action',\n",
    "            'adventure', 'animation', 'children', 'comedy', 'crime', 'documentary',\n",
    "            'drama', 'fantasy', 'film-noir', 'horror', 'musical', 'mystery', 'romance',\n",
    "            'sci-fi', 'thriller', 'war', 'western']\n",
    "\n",
    "movies = pd.read_csv('u.item',encoding='latin-1',sep='|',names=item_col)\n",
    "movies[:3]"
   ]
  },
  {
   "cell_type": "code",
   "execution_count": 13,
   "id": "8e81c727",
   "metadata": {
    "scrolled": true
   },
   "outputs": [
    {
     "name": "stdout",
     "output_type": "stream",
     "text": [
      "<class 'pandas.core.frame.DataFrame'>\n",
      "RangeIndex: 1682 entries, 0 to 1681\n",
      "Data columns (total 24 columns):\n",
      " #   Column        Non-Null Count  Dtype  \n",
      "---  ------        --------------  -----  \n",
      " 0   movie_id      1682 non-null   int64  \n",
      " 1   title         1682 non-null   object \n",
      " 2   release date  1681 non-null   object \n",
      " 3   a             0 non-null      float64\n",
      " 4   imdb url      1679 non-null   object \n",
      " 5   b             1682 non-null   int64  \n",
      " 6   action        1682 non-null   int64  \n",
      " 7   adventure     1682 non-null   int64  \n",
      " 8   animation     1682 non-null   int64  \n",
      " 9   children      1682 non-null   int64  \n",
      " 10  comedy        1682 non-null   int64  \n",
      " 11  crime         1682 non-null   int64  \n",
      " 12  documentary   1682 non-null   int64  \n",
      " 13  drama         1682 non-null   int64  \n",
      " 14  fantasy       1682 non-null   int64  \n",
      " 15  film-noir     1682 non-null   int64  \n",
      " 16  horror        1682 non-null   int64  \n",
      " 17  musical       1682 non-null   int64  \n",
      " 18  mystery       1682 non-null   int64  \n",
      " 19  romance       1682 non-null   int64  \n",
      " 20  sci-fi        1682 non-null   int64  \n",
      " 21  thriller      1682 non-null   int64  \n",
      " 22  war           1682 non-null   int64  \n",
      " 23  western       1682 non-null   int64  \n",
      "dtypes: float64(1), int64(20), object(3)\n",
      "memory usage: 315.5+ KB\n"
     ]
    }
   ],
   "source": [
    "movies.info()"
   ]
  },
  {
   "cell_type": "code",
   "execution_count": 17,
   "id": "5b1680fd",
   "metadata": {},
   "outputs": [],
   "source": [
    "movies.drop(columns=(['a','b']),inplace=True)"
   ]
  },
  {
   "cell_type": "code",
   "execution_count": 23,
   "id": "d0891d93",
   "metadata": {
    "scrolled": true
   },
   "outputs": [
    {
     "name": "stdout",
     "output_type": "stream",
     "text": [
      "<class 'pandas.core.frame.DataFrame'>\n",
      "RangeIndex: 1682 entries, 0 to 1681\n",
      "Data columns (total 22 columns):\n",
      " #   Column        Non-Null Count  Dtype \n",
      "---  ------        --------------  ----- \n",
      " 0   movie_id      1682 non-null   int64 \n",
      " 1   title         1682 non-null   object\n",
      " 2   release date  1681 non-null   object\n",
      " 3   imdb url      1679 non-null   object\n",
      " 4   action        1682 non-null   int64 \n",
      " 5   adventure     1682 non-null   int64 \n",
      " 6   animation     1682 non-null   int64 \n",
      " 7   children      1682 non-null   int64 \n",
      " 8   comedy        1682 non-null   int64 \n",
      " 9   crime         1682 non-null   int64 \n",
      " 10  documentary   1682 non-null   int64 \n",
      " 11  drama         1682 non-null   int64 \n",
      " 12  fantasy       1682 non-null   int64 \n",
      " 13  film-noir     1682 non-null   int64 \n",
      " 14  horror        1682 non-null   int64 \n",
      " 15  musical       1682 non-null   int64 \n",
      " 16  mystery       1682 non-null   int64 \n",
      " 17  romance       1682 non-null   int64 \n",
      " 18  sci-fi        1682 non-null   int64 \n",
      " 19  thriller      1682 non-null   int64 \n",
      " 20  war           1682 non-null   int64 \n",
      " 21  western       1682 non-null   int64 \n",
      "dtypes: int64(19), object(3)\n",
      "memory usage: 289.2+ KB\n"
     ]
    }
   ],
   "source": [
    "movies.info()"
   ]
  },
  {
   "cell_type": "code",
   "execution_count": 24,
   "id": "ec8e88b3",
   "metadata": {},
   "outputs": [],
   "source": [
    "movies.set_index('movie_id',inplace=True)"
   ]
  },
  {
   "cell_type": "code",
   "execution_count": 32,
   "id": "cb391458",
   "metadata": {},
   "outputs": [],
   "source": [
    "movies.to_csv('movies.csv', encoding='UTF-8')"
   ]
  },
  {
   "cell_type": "markdown",
   "id": "ea514ba4",
   "metadata": {},
   "source": [
    "## 영화 평점 : u.data\n",
    "- 사용자 아이디, 영화 아이디, 평점, timestamp \n",
    "- timestamp : 연도 날짜 시간"
   ]
  },
  {
   "cell_type": "code",
   "execution_count": 40,
   "id": "2de4fdc6",
   "metadata": {},
   "outputs": [
    {
     "data": {
      "text/html": [
       "<div>\n",
       "<style scoped>\n",
       "    .dataframe tbody tr th:only-of-type {\n",
       "        vertical-align: middle;\n",
       "    }\n",
       "\n",
       "    .dataframe tbody tr th {\n",
       "        vertical-align: top;\n",
       "    }\n",
       "\n",
       "    .dataframe thead th {\n",
       "        text-align: right;\n",
       "    }\n",
       "</style>\n",
       "<table border=\"1\" class=\"dataframe\">\n",
       "  <thead>\n",
       "    <tr style=\"text-align: right;\">\n",
       "      <th></th>\n",
       "      <th>user_id</th>\n",
       "      <th>movie_id</th>\n",
       "      <th>rating</th>\n",
       "      <th>timestamp</th>\n",
       "    </tr>\n",
       "  </thead>\n",
       "  <tbody>\n",
       "    <tr>\n",
       "      <th>0</th>\n",
       "      <td>196</td>\n",
       "      <td>242</td>\n",
       "      <td>3</td>\n",
       "      <td>881250949</td>\n",
       "    </tr>\n",
       "    <tr>\n",
       "      <th>1</th>\n",
       "      <td>186</td>\n",
       "      <td>302</td>\n",
       "      <td>3</td>\n",
       "      <td>891717742</td>\n",
       "    </tr>\n",
       "    <tr>\n",
       "      <th>2</th>\n",
       "      <td>22</td>\n",
       "      <td>377</td>\n",
       "      <td>1</td>\n",
       "      <td>878887116</td>\n",
       "    </tr>\n",
       "  </tbody>\n",
       "</table>\n",
       "</div>"
      ],
      "text/plain": [
       "   user_id  movie_id  rating  timestamp\n",
       "0      196       242       3  881250949\n",
       "1      186       302       3  891717742\n",
       "2       22       377       1  878887116"
      ]
     },
     "execution_count": 40,
     "metadata": {},
     "output_type": "execute_result"
    }
   ],
   "source": [
    "data_col = ['user_id','movie_id','rating','timestamp']\n",
    "\n",
    "ratings = pd.read_csv('u.data',sep='\\t',names=data_col)\n",
    "ratings[:3]"
   ]
  },
  {
   "cell_type": "code",
   "execution_count": 42,
   "id": "fc88b8d9",
   "metadata": {},
   "outputs": [],
   "source": [
    "ratings.set_index('user_id',inplace=True)"
   ]
  },
  {
   "cell_type": "code",
   "execution_count": 44,
   "id": "2a79871a",
   "metadata": {},
   "outputs": [],
   "source": [
    "ratings.sort_index(inplace=True)"
   ]
  },
  {
   "cell_type": "code",
   "execution_count": 51,
   "id": "cdfc0dd2",
   "metadata": {},
   "outputs": [],
   "source": [
    "ratings.to_csv('ratings.csv', encoding='utf-8')"
   ]
  },
  {
   "cell_type": "markdown",
   "id": "08ce7685",
   "metadata": {},
   "source": [
    "# 추천 방식\n",
    "- bestseller 가장 인기 있는 제품 상품을 추천\n",
    "- 사용자 개인 정보가 없을 떄 사용\n",
    "\n",
    "- 각 영화의 평점 평균을 구함, 평균값이 높은 것을 순서대로 추천"
   ]
  },
  {
   "cell_type": "code",
   "execution_count": 116,
   "id": "bc874a84",
   "metadata": {},
   "outputs": [
    {
     "data": {
      "text/plain": [
       "movie_id\n",
       "814     5.0\n",
       "1599    5.0\n",
       "1201    5.0\n",
       "1122    5.0\n",
       "1653    5.0\n",
       "       ... \n",
       "1568    1.0\n",
       "1567    1.0\n",
       "1566    1.0\n",
       "1565    1.0\n",
       "852     1.0\n",
       "Name: rating, Length: 1682, dtype: float64"
      ]
     },
     "execution_count": 116,
     "metadata": {},
     "output_type": "execute_result"
    }
   ],
   "source": [
    "m_m=ratings.groupby('movie_id')['rating'].mean().sort_values(ascending=False)\n",
    "m_m"
   ]
  },
  {
   "cell_type": "code",
   "execution_count": 117,
   "id": "4ce14b42",
   "metadata": {},
   "outputs": [],
   "source": [
    "# best-seller 추천\n",
    "# 함수 정의"
   ]
  },
  {
   "cell_type": "code",
   "execution_count": 130,
   "id": "83fbb123",
   "metadata": {},
   "outputs": [],
   "source": [
    "def recom_movie(n_items):\n",
    "    movie_sort = m_m[:n_items]\n",
    "    recommend = movies.loc[movie_sort.index].title\n",
    "    return recommend"
   ]
  },
  {
   "cell_type": "code",
   "execution_count": 131,
   "id": "7ff4b3a5",
   "metadata": {},
   "outputs": [
    {
     "data": {
      "text/plain": [
       "movie_id\n",
       "814                         Great Day in Harlem, A (1994)\n",
       "1599                        Someone Else's America (1995)\n",
       "1201           Marlene Dietrich: Shadow and Light (1996) \n",
       "1122                       They Made Me a Criminal (1939)\n",
       "1653    Entertaining Angels: The Dorothy Day Story (1996)\n",
       "1293                                      Star Kid (1997)\n",
       "1500                            Santa with Muscles (1996)\n",
       "1189                                   Prefontaine (1997)\n",
       "1536                                 Aiqing wansui (1994)\n",
       "1467                 Saint of Fort Washington, The (1993)\n",
       "1449                               Pather Panchali (1955)\n",
       "119                Maya Lin: A Strong Clear Vision (1994)\n",
       "1398                                          Anna (1996)\n",
       "1642                             Some Mother's Son (1996)\n",
       "1594                                       Everest (1998)\n",
       "Name: title, dtype: object"
      ]
     },
     "execution_count": 131,
     "metadata": {},
     "output_type": "execute_result"
    }
   ],
   "source": [
    "# 함수 호출 \n",
    "recom_movie(15)"
   ]
  },
  {
   "cell_type": "code",
   "execution_count": null,
   "id": "0de4c69e",
   "metadata": {},
   "outputs": [],
   "source": []
  },
  {
   "cell_type": "code",
   "execution_count": null,
   "id": "ef01ba32",
   "metadata": {},
   "outputs": [],
   "source": []
  },
  {
   "cell_type": "code",
   "execution_count": null,
   "id": "277da1a2",
   "metadata": {},
   "outputs": [],
   "source": []
  },
  {
   "cell_type": "code",
   "execution_count": null,
   "id": "707eaee3",
   "metadata": {},
   "outputs": [],
   "source": []
  },
  {
   "cell_type": "code",
   "execution_count": null,
   "id": "d99ca46d",
   "metadata": {},
   "outputs": [],
   "source": []
  },
  {
   "cell_type": "code",
   "execution_count": null,
   "id": "f579918b",
   "metadata": {},
   "outputs": [],
   "source": []
  },
  {
   "cell_type": "code",
   "execution_count": null,
   "id": "35abb237",
   "metadata": {},
   "outputs": [],
   "source": []
  },
  {
   "cell_type": "code",
   "execution_count": null,
   "id": "33ffe07e",
   "metadata": {},
   "outputs": [],
   "source": []
  },
  {
   "cell_type": "code",
   "execution_count": null,
   "id": "669c72db",
   "metadata": {},
   "outputs": [],
   "source": []
  },
  {
   "cell_type": "code",
   "execution_count": null,
   "id": "f23028e6",
   "metadata": {},
   "outputs": [],
   "source": []
  }
 ],
 "metadata": {
  "kernelspec": {
   "display_name": "ex_kernel",
   "language": "python",
   "name": "ex"
  },
  "language_info": {
   "codemirror_mode": {
    "name": "ipython",
    "version": 3
   },
   "file_extension": ".py",
   "mimetype": "text/x-python",
   "name": "python",
   "nbconvert_exporter": "python",
   "pygments_lexer": "ipython3",
   "version": "3.8.10"
  },
  "toc": {
   "base_numbering": 1,
   "nav_menu": {},
   "number_sections": true,
   "sideBar": true,
   "skip_h1_title": false,
   "title_cell": "Table of Contents",
   "title_sidebar": "Contents",
   "toc_cell": false,
   "toc_position": {
    "height": "calc(100% - 180px)",
    "left": "10px",
    "top": "150px",
    "width": "253px"
   },
   "toc_section_display": true,
   "toc_window_display": true
  }
 },
 "nbformat": 4,
 "nbformat_minor": 5
}
