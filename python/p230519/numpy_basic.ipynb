{
 "cells": [
  {
   "cell_type": "code",
   "execution_count": 35,
   "id": "42daead3",
   "metadata": {},
   "outputs": [],
   "source": [
    "import numpy as np"
   ]
  },
  {
   "cell_type": "markdown",
   "id": "13c1d73a",
   "metadata": {},
   "source": [
    "- numpy\n",
    "    - Numerical Python\n",
    "    - 파이썬의 고성능 과학 계산용 패키지\n",
    "    - Matrix와 Vector와 같은 Array 연산\n",
    "    - list 비해 속도가 빠름, 메모리 효율적 사용\n",
    "    - 반복문 없이 배열 연산 가능\n",
    "    - 선형대수와 관련된 다양한 기능 제공\n",
    "    - C,C++ 포트란 등의 언어와 적합"
   ]
  },
  {
   "cell_type": "markdown",
   "id": "b255fce5",
   "metadata": {},
   "source": [
    "# 차원에 따른 이름\n",
    "차원 | 이름 | 예제\n",
    "-|-|-\n",
    "0| scalar | 7\n",
    "1| vector | [10,20]\n",
    "2| matrix | [[10,20],[30,40]]\n",
    "3| 3-tensor|[[[1,3,5][7,9,11]],[[2,4,6],[8,10,12]]]\n",
    "n| n-nesor|"
   ]
  },
  {
   "cell_type": "markdown",
   "id": "1c34693a",
   "metadata": {},
   "source": [
    "## 스칼라 (상수)"
   ]
  },
  {
   "cell_type": "code",
   "execution_count": 36,
   "id": "eb6e374d",
   "metadata": {},
   "outputs": [
    {
     "data": {
      "text/plain": [
       "True"
      ]
     },
     "execution_count": 36,
     "metadata": {},
     "output_type": "execute_result"
    }
   ],
   "source": [
    "np.isscalar(3)"
   ]
  },
  {
   "cell_type": "code",
   "execution_count": 37,
   "id": "ddbe83eb",
   "metadata": {},
   "outputs": [
    {
     "data": {
      "text/plain": [
       "True"
      ]
     },
     "execution_count": 37,
     "metadata": {},
     "output_type": "execute_result"
    }
   ],
   "source": [
    "np.isscalar('h1')"
   ]
  },
  {
   "cell_type": "code",
   "execution_count": 38,
   "id": "4a15fad7",
   "metadata": {},
   "outputs": [
    {
     "data": {
      "text/plain": [
       "True"
      ]
     },
     "execution_count": 38,
     "metadata": {},
     "output_type": "execute_result"
    }
   ],
   "source": [
    "np.isscalar(True)"
   ]
  },
  {
   "cell_type": "code",
   "execution_count": 39,
   "id": "fe9a0813",
   "metadata": {},
   "outputs": [],
   "source": [
    "# 리스트는 상수 x "
   ]
  },
  {
   "cell_type": "code",
   "execution_count": 40,
   "id": "3d45b0bc",
   "metadata": {},
   "outputs": [
    {
     "data": {
      "text/plain": [
       "False"
      ]
     },
     "execution_count": 40,
     "metadata": {},
     "output_type": "execute_result"
    }
   ],
   "source": [
    "np.isscalar([4])"
   ]
  },
  {
   "cell_type": "code",
   "execution_count": 41,
   "id": "b27eeef5",
   "metadata": {},
   "outputs": [],
   "source": [
    "# 배열도 상수 x "
   ]
  },
  {
   "cell_type": "code",
   "execution_count": 42,
   "id": "09ac24f4",
   "metadata": {},
   "outputs": [
    {
     "data": {
      "text/plain": [
       "False"
      ]
     },
     "execution_count": 42,
     "metadata": {},
     "output_type": "execute_result"
    }
   ],
   "source": [
    "np.isscalar(np.array([1,2]))"
   ]
  },
  {
   "cell_type": "markdown",
   "id": "56e290c7",
   "metadata": {},
   "source": [
    "## 벡터(Vector)\n",
    "- 크기와 방향을 갖는 물리량\n",
    "- 공간에서 갖는 한점\n",
    "- 1차원 배열\n",
    "- 선"
   ]
  },
  {
   "cell_type": "code",
   "execution_count": 43,
   "id": "67fd7bdf",
   "metadata": {},
   "outputs": [
    {
     "name": "stdout",
     "output_type": "stream",
     "text": [
      "[0 1 2 3 4]\n",
      "<class 'numpy.ndarray'>\n",
      "5\n",
      "5\n",
      "(5,)\n",
      "int32\n",
      "20\n"
     ]
    }
   ],
   "source": [
    "ar = np.arange(5)\n",
    "print(ar)\n",
    "print(type(ar))\n",
    "print(ar.size) # 전체 요소의 개수\n",
    "print(len(ar)) # 해당 축 요소의 개수\n",
    "print(ar.shape) # 크기(길이)가 1차원 배열 (벡터)\n",
    "print(ar.dtype) #32bit\n",
    "print(ar.nbytes) #"
   ]
  },
  {
   "cell_type": "markdown",
   "id": "b1ae0618",
   "metadata": {},
   "source": [
    "## 매트릭스 (matrix)\n",
    "- 행과 열 : 행렬\n",
    "- 2차원 배열 : 1차원 배열 여러개\n",
    "- 여러 개의 벡터 (벡터를 원소를 갖음)\n",
    "- 면\n",
    "- axis0, axis1"
   ]
  },
  {
   "cell_type": "code",
   "execution_count": 44,
   "id": "f27ede80",
   "metadata": {},
   "outputs": [
    {
     "data": {
      "text/plain": [
       "array([0, 1, 2, 3, 4])"
      ]
     },
     "execution_count": 44,
     "metadata": {},
     "output_type": "execute_result"
    }
   ],
   "source": [
    "ar"
   ]
  },
  {
   "cell_type": "code",
   "execution_count": 45,
   "id": "5f37c1a3",
   "metadata": {},
   "outputs": [
    {
     "name": "stdout",
     "output_type": "stream",
     "text": [
      "[[0 1 2 3 4]\n",
      " [0 1 2 3 4]]\n",
      "10\n",
      "2\n",
      "5\n",
      "(2, 5)\n",
      "int32\n",
      "40\n"
     ]
    }
   ],
   "source": [
    "ar2 = np.array([ar, ar])\n",
    "print(ar2)\n",
    "print(ar2.size)\n",
    "print(len(ar2)) #행 2개\n",
    "print(len(ar2[0])) #열 5개\n",
    "print(ar2.shape) #크기가 2x5인 2차원 배열(matrix)\n",
    "print(ar2.dtype)\n",
    "print(ar2.nbytes) #메모리 사용률"
   ]
  },
  {
   "cell_type": "markdown",
   "id": "9b7789e5",
   "metadata": {},
   "source": [
    "## 텐서(tenser)\n",
    "- 행, 열, 깊이/차원 \n",
    "- 3차원 배열 : 2차원 배열 여러개"
   ]
  },
  {
   "cell_type": "code",
   "execution_count": null,
   "id": "13be27e9",
   "metadata": {},
   "outputs": [],
   "source": [
    "#데이터를 화면작업을 보여주기 분석이 된 결과는 시각화 나 표, 알고리즘 시스템"
   ]
  },
  {
   "cell_type": "code",
   "execution_count": 53,
   "id": "5e9d12b3",
   "metadata": {},
   "outputs": [
    {
     "name": "stdout",
     "output_type": "stream",
     "text": [
      "[[[0 1 2 3 4]\n",
      "  [0 1 2 3 4]]\n",
      "\n",
      " [[0 1 2 3 4]\n",
      "  [0 1 2 3 4]]\n",
      "\n",
      " [[0 1 2 3 4]\n",
      "  [0 1 2 3 4]]]\n",
      "30\n",
      "3\n",
      "2\n",
      "(3, 2, 5)\n",
      "int32\n",
      "120\n"
     ]
    }
   ],
   "source": [
    "ar3 = np.array([ar2,ar2,ar2])\n",
    "print(ar3)\n",
    "print(ar3.size)\n",
    "print(len(ar3))\n",
    "print(len(ar3[0]))\n",
    "print(ar3.shape)\n",
    "print(ar3.dtype)\n",
    "print(ar3.nbytes)"
   ]
  },
  {
   "cell_type": "markdown",
   "id": "7447d180",
   "metadata": {},
   "source": [
    "# dtype"
   ]
  },
  {
   "cell_type": "markdown",
   "id": "52d4caf4",
   "metadata": {},
   "source": [
    "# numpy type\n",
    "- int : 정수\n",
    "- uint : 부호없는 정수\n",
    "- float : 실수\n",
    "- complex : 복소수 - 실수, 허수\n",
    "- bool : 논리"
   ]
  },
  {
   "cell_type": "code",
   "execution_count": 72,
   "id": "f9ba4585",
   "metadata": {},
   "outputs": [
    {
     "data": {
      "text/plain": [
       "dtype('int32')"
      ]
     },
     "execution_count": 72,
     "metadata": {},
     "output_type": "execute_result"
    }
   ],
   "source": [
    "ar.dtype"
   ]
  },
  {
   "cell_type": "markdown",
   "id": "5d62fe23",
   "metadata": {},
   "source": [
    "## int"
   ]
  },
  {
   "cell_type": "code",
   "execution_count": 59,
   "id": "c2752837",
   "metadata": {},
   "outputs": [
    {
     "data": {
      "text/plain": [
       "array([0, 1, 2, 3, 4], dtype=int64)"
      ]
     },
     "execution_count": 59,
     "metadata": {},
     "output_type": "execute_result"
    }
   ],
   "source": [
    "ar.astype('int8') # 8bit\n",
    "ar.astype('int16') # 16bit\n",
    "ar.astype('int32') # 32bit\n",
    "ar.astype('int64')# 64bit\n",
    "# ar.astype('int128')# 128bit"
   ]
  },
  {
   "cell_type": "code",
   "execution_count": 76,
   "id": "22f3672a",
   "metadata": {},
   "outputs": [
    {
     "data": {
      "text/plain": [
       "dtype('int64')"
      ]
     },
     "execution_count": 76,
     "metadata": {},
     "output_type": "execute_result"
    }
   ],
   "source": [
    "ar.astype('int64')[-1].dtype"
   ]
  },
  {
   "cell_type": "code",
   "execution_count": 78,
   "id": "0b3a800b",
   "metadata": {},
   "outputs": [
    {
     "data": {
      "text/plain": [
       "numpy.int64"
      ]
     },
     "execution_count": 78,
     "metadata": {},
     "output_type": "execute_result"
    }
   ],
   "source": [
    "type(ar.astype('int64')[-1])"
   ]
  },
  {
   "cell_type": "markdown",
   "id": "ba206518",
   "metadata": {},
   "source": [
    "## unsigned int"
   ]
  },
  {
   "cell_type": "code",
   "execution_count": 60,
   "id": "d8951563",
   "metadata": {},
   "outputs": [
    {
     "data": {
      "text/plain": [
       "array([0, 1, 2, 3, 4], dtype=uint64)"
      ]
     },
     "execution_count": 60,
     "metadata": {},
     "output_type": "execute_result"
    }
   ],
   "source": [
    "ar.astype('uint8') # 8bit\n",
    "ar.astype('uint16') # 16bit\n",
    "ar.astype('uint32') # 32bit\n",
    "ar.astype('uint64')# 64bit\n",
    "# ar.astype('uint128')# 128bit"
   ]
  },
  {
   "cell_type": "markdown",
   "id": "6bc55339",
   "metadata": {},
   "source": [
    "## float"
   ]
  },
  {
   "cell_type": "code",
   "execution_count": 63,
   "id": "5113fda2",
   "metadata": {},
   "outputs": [
    {
     "data": {
      "text/plain": [
       "array([0., 1., 2., 3., 4.])"
      ]
     },
     "execution_count": 63,
     "metadata": {},
     "output_type": "execute_result"
    }
   ],
   "source": [
    "# ar.astype('float8') # 8bit\n",
    "ar.astype('float16') \n",
    "ar.astype('float32') \n",
    "ar.astype('float64') # default"
   ]
  },
  {
   "cell_type": "markdown",
   "id": "1cd07cbe",
   "metadata": {},
   "source": [
    "## str"
   ]
  },
  {
   "cell_type": "code",
   "execution_count": null,
   "id": "a86e4f3a",
   "metadata": {},
   "outputs": [],
   "source": [
    "# U는 최대 길이"
   ]
  },
  {
   "cell_type": "code",
   "execution_count": 66,
   "id": "94ba67ae",
   "metadata": {},
   "outputs": [
    {
     "data": {
      "text/plain": [
       "dtype('<U2')"
      ]
     },
     "execution_count": 66,
     "metadata": {},
     "output_type": "execute_result"
    }
   ],
   "source": [
    "ar_str = np.array(['hi'])\n",
    "ar_str.dtype"
   ]
  },
  {
   "cell_type": "code",
   "execution_count": 67,
   "id": "ade9cc69",
   "metadata": {},
   "outputs": [
    {
     "data": {
      "text/plain": [
       "dtype('<U5')"
      ]
     },
     "execution_count": 67,
     "metadata": {},
     "output_type": "execute_result"
    }
   ],
   "source": [
    "ar_str = np.array(['hello'])\n",
    "ar_str.dtype"
   ]
  },
  {
   "cell_type": "code",
   "execution_count": 68,
   "id": "6f504075",
   "metadata": {},
   "outputs": [
    {
     "data": {
      "text/plain": [
       "dtype('<U17')"
      ]
     },
     "execution_count": 68,
     "metadata": {},
     "output_type": "execute_result"
    }
   ],
   "source": [
    "ar_str = np.array(['how r you doing ?'])\n",
    "ar_str.dtype"
   ]
  },
  {
   "cell_type": "code",
   "execution_count": 71,
   "id": "848e862a",
   "metadata": {},
   "outputs": [
    {
     "data": {
      "text/plain": [
       "dtype('<U17')"
      ]
     },
     "execution_count": 71,
     "metadata": {},
     "output_type": "execute_result"
    }
   ],
   "source": [
    "ar_str = np.array(['that sth','how r you doing ?'])\n",
    "ar_str.dtype #배열 스칼라중에 가장 긴 길이"
   ]
  },
  {
   "cell_type": "code",
   "execution_count": 79,
   "id": "4a2f78c9",
   "metadata": {
    "scrolled": true
   },
   "outputs": [
    {
     "data": {
      "text/plain": [
       "array([[0, 0],\n",
       "       [1, 1],\n",
       "       [2, 2],\n",
       "       [3, 3],\n",
       "       [4, 4]])"
      ]
     },
     "execution_count": 79,
     "metadata": {},
     "output_type": "execute_result"
    }
   ],
   "source": [
    "ar2.transpose()"
   ]
  },
  {
   "cell_type": "code",
   "execution_count": 82,
   "id": "25a79f15",
   "metadata": {
    "scrolled": false
   },
   "outputs": [
    {
     "data": {
      "text/plain": [
       "(5, 2)"
      ]
     },
     "execution_count": 82,
     "metadata": {},
     "output_type": "execute_result"
    }
   ],
   "source": [
    "ar2.transpose().shape"
   ]
  },
  {
   "cell_type": "code",
   "execution_count": 83,
   "id": "bf900192",
   "metadata": {
    "scrolled": true
   },
   "outputs": [
    {
     "data": {
      "text/plain": [
       "array([[0, 0],\n",
       "       [1, 1],\n",
       "       [2, 2],\n",
       "       [3, 3],\n",
       "       [4, 4]])"
      ]
     },
     "execution_count": 83,
     "metadata": {},
     "output_type": "execute_result"
    }
   ],
   "source": [
    "ar2.T"
   ]
  },
  {
   "cell_type": "code",
   "execution_count": 81,
   "id": "ec8f9dc9",
   "metadata": {
    "scrolled": true
   },
   "outputs": [
    {
     "data": {
      "text/plain": [
       "(5, 2)"
      ]
     },
     "execution_count": 81,
     "metadata": {},
     "output_type": "execute_result"
    }
   ],
   "source": [
    "ar2.T.shape"
   ]
  },
  {
   "cell_type": "markdown",
   "id": "2f6f6670",
   "metadata": {},
   "source": [
    "## 다차원 배열을 1차원 배열로"
   ]
  },
  {
   "cell_type": "code",
   "execution_count": 85,
   "id": "7b51a49d",
   "metadata": {},
   "outputs": [
    {
     "data": {
      "text/plain": [
       "array([0, 1, 2, 3, 4, 0, 1, 2, 3, 4])"
      ]
     },
     "execution_count": 85,
     "metadata": {},
     "output_type": "execute_result"
    }
   ],
   "source": [
    "ar2.reshape(-1)"
   ]
  },
  {
   "cell_type": "code",
   "execution_count": 86,
   "id": "1ee7613f",
   "metadata": {},
   "outputs": [
    {
     "data": {
      "text/plain": [
       "array([0, 1, 2, 3, 4, 0, 1, 2, 3, 4])"
      ]
     },
     "execution_count": 86,
     "metadata": {},
     "output_type": "execute_result"
    }
   ],
   "source": [
    "ar2.flatten()"
   ]
  },
  {
   "cell_type": "code",
   "execution_count": 87,
   "id": "636a19d7",
   "metadata": {},
   "outputs": [
    {
     "data": {
      "text/plain": [
       "array([0, 1, 2, 3, 4, 0, 1, 2, 3, 4])"
      ]
     },
     "execution_count": 87,
     "metadata": {},
     "output_type": "execute_result"
    }
   ],
   "source": [
    "ar2.ravel()"
   ]
  },
  {
   "cell_type": "code",
   "execution_count": null,
   "id": "72e7138e",
   "metadata": {},
   "outputs": [],
   "source": []
  },
  {
   "cell_type": "code",
   "execution_count": null,
   "id": "cb88b553",
   "metadata": {},
   "outputs": [],
   "source": []
  },
  {
   "cell_type": "code",
   "execution_count": null,
   "id": "f0a94901",
   "metadata": {},
   "outputs": [],
   "source": []
  },
  {
   "cell_type": "code",
   "execution_count": null,
   "id": "7d9a4cfe",
   "metadata": {},
   "outputs": [],
   "source": []
  },
  {
   "cell_type": "code",
   "execution_count": null,
   "id": "8d1952bc",
   "metadata": {},
   "outputs": [],
   "source": []
  },
  {
   "cell_type": "code",
   "execution_count": null,
   "id": "3ea7f295",
   "metadata": {},
   "outputs": [],
   "source": []
  },
  {
   "cell_type": "code",
   "execution_count": null,
   "id": "8e95e8cd",
   "metadata": {},
   "outputs": [],
   "source": []
  },
  {
   "cell_type": "code",
   "execution_count": null,
   "id": "131799fc",
   "metadata": {},
   "outputs": [],
   "source": []
  },
  {
   "cell_type": "code",
   "execution_count": null,
   "id": "a34be7ee",
   "metadata": {},
   "outputs": [],
   "source": []
  }
 ],
 "metadata": {
  "kernelspec": {
   "display_name": "ex_kernel",
   "language": "python",
   "name": "ex"
  },
  "language_info": {
   "codemirror_mode": {
    "name": "ipython",
    "version": 3
   },
   "file_extension": ".py",
   "mimetype": "text/x-python",
   "name": "python",
   "nbconvert_exporter": "python",
   "pygments_lexer": "ipython3",
   "version": "3.8.10"
  },
  "toc": {
   "base_numbering": 1,
   "nav_menu": {},
   "number_sections": true,
   "sideBar": true,
   "skip_h1_title": false,
   "title_cell": "Table of Contents",
   "title_sidebar": "Contents",
   "toc_cell": false,
   "toc_position": {
    "height": "calc(100% - 180px)",
    "left": "10px",
    "top": "150px",
    "width": "331px"
   },
   "toc_section_display": true,
   "toc_window_display": true
  }
 },
 "nbformat": 4,
 "nbformat_minor": 5
}
