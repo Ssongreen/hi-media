{
 "cells": [
  {
   "cell_type": "markdown",
   "id": "11cebf18",
   "metadata": {},
   "source": [
    "# 추천 방식\n",
    "- bestseller 가장 인기 있는 제품 상품을 추천\n",
    "- 사용자 개인 정보가 없을 떄 사용\n",
    "- 사용자 집단별 추천"
   ]
  },
  {
   "cell_type": "code",
   "execution_count": 1,
   "id": "0da6f017",
   "metadata": {},
   "outputs": [],
   "source": [
    "import pandas as pd"
   ]
  },
  {
   "cell_type": "code",
   "execution_count": null,
   "id": "0864fb34",
   "metadata": {},
   "outputs": [],
   "source": []
  },
  {
   "cell_type": "code",
   "execution_count": 2,
   "id": "e5a19410",
   "metadata": {
    "scrolled": true
   },
   "outputs": [
    {
     "data": {
      "text/html": [
       "<div>\n",
       "<style scoped>\n",
       "    .dataframe tbody tr th:only-of-type {\n",
       "        vertical-align: middle;\n",
       "    }\n",
       "\n",
       "    .dataframe tbody tr th {\n",
       "        vertical-align: top;\n",
       "    }\n",
       "\n",
       "    .dataframe thead th {\n",
       "        text-align: right;\n",
       "    }\n",
       "</style>\n",
       "<table border=\"1\" class=\"dataframe\">\n",
       "  <thead>\n",
       "    <tr style=\"text-align: right;\">\n",
       "      <th></th>\n",
       "      <th>user_id</th>\n",
       "      <th>movie_id</th>\n",
       "      <th>rating</th>\n",
       "      <th>timestamp</th>\n",
       "    </tr>\n",
       "  </thead>\n",
       "  <tbody>\n",
       "    <tr>\n",
       "      <th>0</th>\n",
       "      <td>1</td>\n",
       "      <td>55</td>\n",
       "      <td>5</td>\n",
       "      <td>875072688</td>\n",
       "    </tr>\n",
       "    <tr>\n",
       "      <th>1</th>\n",
       "      <td>1</td>\n",
       "      <td>203</td>\n",
       "      <td>4</td>\n",
       "      <td>878542231</td>\n",
       "    </tr>\n",
       "    <tr>\n",
       "      <th>2</th>\n",
       "      <td>1</td>\n",
       "      <td>183</td>\n",
       "      <td>5</td>\n",
       "      <td>875072262</td>\n",
       "    </tr>\n",
       "  </tbody>\n",
       "</table>\n",
       "</div>"
      ],
      "text/plain": [
       "   user_id  movie_id  rating  timestamp\n",
       "0        1        55       5  875072688\n",
       "1        1       203       4  878542231\n",
       "2        1       183       5  875072262"
      ]
     },
     "execution_count": 2,
     "metadata": {},
     "output_type": "execute_result"
    }
   ],
   "source": [
    "#평점\n",
    "ratings = pd.read_csv('ratings.csv')\n",
    "ratings[:3]"
   ]
  },
  {
   "cell_type": "code",
   "execution_count": 3,
   "id": "f9ff712d",
   "metadata": {},
   "outputs": [
    {
     "data": {
      "text/html": [
       "<div>\n",
       "<style scoped>\n",
       "    .dataframe tbody tr th:only-of-type {\n",
       "        vertical-align: middle;\n",
       "    }\n",
       "\n",
       "    .dataframe tbody tr th {\n",
       "        vertical-align: top;\n",
       "    }\n",
       "\n",
       "    .dataframe thead th {\n",
       "        text-align: right;\n",
       "    }\n",
       "</style>\n",
       "<table border=\"1\" class=\"dataframe\">\n",
       "  <thead>\n",
       "    <tr style=\"text-align: right;\">\n",
       "      <th></th>\n",
       "      <th>user_id</th>\n",
       "      <th>movie_id</th>\n",
       "      <th>rating</th>\n",
       "    </tr>\n",
       "  </thead>\n",
       "  <tbody>\n",
       "    <tr>\n",
       "      <th>0</th>\n",
       "      <td>1</td>\n",
       "      <td>55</td>\n",
       "      <td>5</td>\n",
       "    </tr>\n",
       "    <tr>\n",
       "      <th>1</th>\n",
       "      <td>1</td>\n",
       "      <td>203</td>\n",
       "      <td>4</td>\n",
       "    </tr>\n",
       "    <tr>\n",
       "      <th>2</th>\n",
       "      <td>1</td>\n",
       "      <td>183</td>\n",
       "      <td>5</td>\n",
       "    </tr>\n",
       "  </tbody>\n",
       "</table>\n",
       "</div>"
      ],
      "text/plain": [
       "   user_id  movie_id  rating\n",
       "0        1        55       5\n",
       "1        1       203       4\n",
       "2        1       183       5"
      ]
     },
     "execution_count": 3,
     "metadata": {},
     "output_type": "execute_result"
    }
   ],
   "source": [
    "#컬럼 삭제 : timestamp\n",
    "ratings.drop('timestamp',axis=1,inplace=True)\n",
    "ratings[:3]"
   ]
  },
  {
   "cell_type": "code",
   "execution_count": 4,
   "id": "03188f06",
   "metadata": {},
   "outputs": [
    {
     "data": {
      "text/html": [
       "<div>\n",
       "<style scoped>\n",
       "    .dataframe tbody tr th:only-of-type {\n",
       "        vertical-align: middle;\n",
       "    }\n",
       "\n",
       "    .dataframe tbody tr th {\n",
       "        vertical-align: top;\n",
       "    }\n",
       "\n",
       "    .dataframe thead th {\n",
       "        text-align: right;\n",
       "    }\n",
       "</style>\n",
       "<table border=\"1\" class=\"dataframe\">\n",
       "  <thead>\n",
       "    <tr style=\"text-align: right;\">\n",
       "      <th></th>\n",
       "      <th>user_id</th>\n",
       "      <th>age</th>\n",
       "      <th>gender</th>\n",
       "      <th>job</th>\n",
       "      <th>zip_code</th>\n",
       "    </tr>\n",
       "  </thead>\n",
       "  <tbody>\n",
       "    <tr>\n",
       "      <th>0</th>\n",
       "      <td>1</td>\n",
       "      <td>24</td>\n",
       "      <td>M</td>\n",
       "      <td>technician</td>\n",
       "      <td>85711</td>\n",
       "    </tr>\n",
       "    <tr>\n",
       "      <th>1</th>\n",
       "      <td>2</td>\n",
       "      <td>53</td>\n",
       "      <td>F</td>\n",
       "      <td>other</td>\n",
       "      <td>94043</td>\n",
       "    </tr>\n",
       "    <tr>\n",
       "      <th>2</th>\n",
       "      <td>3</td>\n",
       "      <td>23</td>\n",
       "      <td>M</td>\n",
       "      <td>writer</td>\n",
       "      <td>32067</td>\n",
       "    </tr>\n",
       "  </tbody>\n",
       "</table>\n",
       "</div>"
      ],
      "text/plain": [
       "   user_id  age gender         job zip_code\n",
       "0        1   24      M  technician    85711\n",
       "1        2   53      F       other    94043\n",
       "2        3   23      M      writer    32067"
      ]
     },
     "execution_count": 4,
     "metadata": {},
     "output_type": "execute_result"
    }
   ],
   "source": [
    "#사용자\n",
    "users = pd.read_csv('users.csv')\n",
    "users[:3]"
   ]
  },
  {
   "cell_type": "code",
   "execution_count": 5,
   "id": "a7daa51d",
   "metadata": {},
   "outputs": [
    {
     "data": {
      "text/html": [
       "<div>\n",
       "<style scoped>\n",
       "    .dataframe tbody tr th:only-of-type {\n",
       "        vertical-align: middle;\n",
       "    }\n",
       "\n",
       "    .dataframe tbody tr th {\n",
       "        vertical-align: top;\n",
       "    }\n",
       "\n",
       "    .dataframe thead th {\n",
       "        text-align: right;\n",
       "    }\n",
       "</style>\n",
       "<table border=\"1\" class=\"dataframe\">\n",
       "  <thead>\n",
       "    <tr style=\"text-align: right;\">\n",
       "      <th></th>\n",
       "      <th>movie_id</th>\n",
       "      <th>title</th>\n",
       "      <th>release date</th>\n",
       "      <th>imdb url</th>\n",
       "      <th>action</th>\n",
       "      <th>adventure</th>\n",
       "      <th>animation</th>\n",
       "      <th>children</th>\n",
       "      <th>comedy</th>\n",
       "      <th>crime</th>\n",
       "      <th>...</th>\n",
       "      <th>fantasy</th>\n",
       "      <th>film-noir</th>\n",
       "      <th>horror</th>\n",
       "      <th>musical</th>\n",
       "      <th>mystery</th>\n",
       "      <th>romance</th>\n",
       "      <th>sci-fi</th>\n",
       "      <th>thriller</th>\n",
       "      <th>war</th>\n",
       "      <th>western</th>\n",
       "    </tr>\n",
       "  </thead>\n",
       "  <tbody>\n",
       "    <tr>\n",
       "      <th>0</th>\n",
       "      <td>1</td>\n",
       "      <td>Toy Story (1995)</td>\n",
       "      <td>01-Jan-1995</td>\n",
       "      <td>http://us.imdb.com/M/title-exact?Toy%20Story%2...</td>\n",
       "      <td>0</td>\n",
       "      <td>0</td>\n",
       "      <td>1</td>\n",
       "      <td>1</td>\n",
       "      <td>1</td>\n",
       "      <td>0</td>\n",
       "      <td>...</td>\n",
       "      <td>0</td>\n",
       "      <td>0</td>\n",
       "      <td>0</td>\n",
       "      <td>0</td>\n",
       "      <td>0</td>\n",
       "      <td>0</td>\n",
       "      <td>0</td>\n",
       "      <td>0</td>\n",
       "      <td>0</td>\n",
       "      <td>0</td>\n",
       "    </tr>\n",
       "    <tr>\n",
       "      <th>1</th>\n",
       "      <td>2</td>\n",
       "      <td>GoldenEye (1995)</td>\n",
       "      <td>01-Jan-1995</td>\n",
       "      <td>http://us.imdb.com/M/title-exact?GoldenEye%20(...</td>\n",
       "      <td>1</td>\n",
       "      <td>1</td>\n",
       "      <td>0</td>\n",
       "      <td>0</td>\n",
       "      <td>0</td>\n",
       "      <td>0</td>\n",
       "      <td>...</td>\n",
       "      <td>0</td>\n",
       "      <td>0</td>\n",
       "      <td>0</td>\n",
       "      <td>0</td>\n",
       "      <td>0</td>\n",
       "      <td>0</td>\n",
       "      <td>0</td>\n",
       "      <td>1</td>\n",
       "      <td>0</td>\n",
       "      <td>0</td>\n",
       "    </tr>\n",
       "    <tr>\n",
       "      <th>2</th>\n",
       "      <td>3</td>\n",
       "      <td>Four Rooms (1995)</td>\n",
       "      <td>01-Jan-1995</td>\n",
       "      <td>http://us.imdb.com/M/title-exact?Four%20Rooms%...</td>\n",
       "      <td>0</td>\n",
       "      <td>0</td>\n",
       "      <td>0</td>\n",
       "      <td>0</td>\n",
       "      <td>0</td>\n",
       "      <td>0</td>\n",
       "      <td>...</td>\n",
       "      <td>0</td>\n",
       "      <td>0</td>\n",
       "      <td>0</td>\n",
       "      <td>0</td>\n",
       "      <td>0</td>\n",
       "      <td>0</td>\n",
       "      <td>0</td>\n",
       "      <td>1</td>\n",
       "      <td>0</td>\n",
       "      <td>0</td>\n",
       "    </tr>\n",
       "  </tbody>\n",
       "</table>\n",
       "<p>3 rows × 22 columns</p>\n",
       "</div>"
      ],
      "text/plain": [
       "   movie_id              title release date   \n",
       "0         1   Toy Story (1995)  01-Jan-1995  \\\n",
       "1         2   GoldenEye (1995)  01-Jan-1995   \n",
       "2         3  Four Rooms (1995)  01-Jan-1995   \n",
       "\n",
       "                                            imdb url  action  adventure   \n",
       "0  http://us.imdb.com/M/title-exact?Toy%20Story%2...       0          0  \\\n",
       "1  http://us.imdb.com/M/title-exact?GoldenEye%20(...       1          1   \n",
       "2  http://us.imdb.com/M/title-exact?Four%20Rooms%...       0          0   \n",
       "\n",
       "   animation  children  comedy  crime  ...  fantasy  film-noir  horror   \n",
       "0          1         1       1      0  ...        0          0       0  \\\n",
       "1          0         0       0      0  ...        0          0       0   \n",
       "2          0         0       0      0  ...        0          0       0   \n",
       "\n",
       "   musical  mystery  romance  sci-fi  thriller  war  western  \n",
       "0        0        0        0       0         0    0        0  \n",
       "1        0        0        0       0         1    0        0  \n",
       "2        0        0        0       0         1    0        0  \n",
       "\n",
       "[3 rows x 22 columns]"
      ]
     },
     "execution_count": 5,
     "metadata": {},
     "output_type": "execute_result"
    }
   ],
   "source": [
    "#영화 정보\n",
    "movies = pd.read_csv('movies.csv')\n",
    "movies[:3]"
   ]
  },
  {
   "cell_type": "code",
   "execution_count": 6,
   "id": "68814402",
   "metadata": {
    "scrolled": true
   },
   "outputs": [
    {
     "data": {
      "text/html": [
       "<div>\n",
       "<style scoped>\n",
       "    .dataframe tbody tr th:only-of-type {\n",
       "        vertical-align: middle;\n",
       "    }\n",
       "\n",
       "    .dataframe tbody tr th {\n",
       "        vertical-align: top;\n",
       "    }\n",
       "\n",
       "    .dataframe thead th {\n",
       "        text-align: right;\n",
       "    }\n",
       "</style>\n",
       "<table border=\"1\" class=\"dataframe\">\n",
       "  <thead>\n",
       "    <tr style=\"text-align: right;\">\n",
       "      <th></th>\n",
       "      <th>movie_id</th>\n",
       "      <th>title</th>\n",
       "    </tr>\n",
       "  </thead>\n",
       "  <tbody>\n",
       "    <tr>\n",
       "      <th>0</th>\n",
       "      <td>1</td>\n",
       "      <td>Toy Story (1995)</td>\n",
       "    </tr>\n",
       "    <tr>\n",
       "      <th>1</th>\n",
       "      <td>2</td>\n",
       "      <td>GoldenEye (1995)</td>\n",
       "    </tr>\n",
       "    <tr>\n",
       "      <th>2</th>\n",
       "      <td>3</td>\n",
       "      <td>Four Rooms (1995)</td>\n",
       "    </tr>\n",
       "  </tbody>\n",
       "</table>\n",
       "</div>"
      ],
      "text/plain": [
       "   movie_id              title\n",
       "0         1   Toy Story (1995)\n",
       "1         2   GoldenEye (1995)\n",
       "2         3  Four Rooms (1995)"
      ]
     },
     "execution_count": 6,
     "metadata": {},
     "output_type": "execute_result"
    }
   ],
   "source": [
    "#컬럼 정리 : movie_id, title만 사용\n",
    "movies=movies[['movie_id','title']]\n",
    "movies[:3]"
   ]
  },
  {
   "cell_type": "markdown",
   "id": "dbb7f9f1",
   "metadata": {},
   "source": [
    "# 데이터 셋 분리\n",
    "- Train data\n",
    "    - 모델을 학습하기 위한 데이터 셋\n",
    "    - 학습은 최적의 파라미터를 찾는 것\n",
    "    - 학습을 위한 데이터 \n",
    "- Test data\n",
    "    - 모델의 '최종 성능'을 평가하기 위한 데이터 셋\n",
    "    - 모델 학습에 관여하지 않음\n",
    "- Train data로 학습하고, Test data로 최종 성능 평가."
   ]
  },
  {
   "cell_type": "code",
   "execution_count": 8,
   "id": "78ec2c97",
   "metadata": {
    "collapsed": true
   },
   "outputs": [
    {
     "name": "stdout",
     "output_type": "stream",
     "text": [
      "Collecting scikit-learn\n",
      "  Downloading scikit_learn-1.2.2-cp38-cp38-win_amd64.whl (8.3 MB)\n",
      "     ---------------------------------------- 0.0/8.3 MB ? eta -:--:--\n",
      "     -- ------------------------------------- 0.6/8.3 MB 12.0 MB/s eta 0:00:01\n",
      "     ----- ---------------------------------- 1.1/8.3 MB 12.0 MB/s eta 0:00:01\n",
      "     -------- ------------------------------- 1.7/8.3 MB 11.8 MB/s eta 0:00:01\n",
      "     ---------- ----------------------------- 2.2/8.3 MB 12.6 MB/s eta 0:00:01\n",
      "     -------------- ------------------------- 2.9/8.3 MB 12.4 MB/s eta 0:00:01\n",
      "     ----------------- ---------------------- 3.7/8.3 MB 12.3 MB/s eta 0:00:01\n",
      "     --------------------- ------------------ 4.4/8.3 MB 12.2 MB/s eta 0:00:01\n",
      "     ----------------------- ---------------- 4.9/8.3 MB 12.1 MB/s eta 0:00:01\n",
      "     -------------------------- ------------- 5.5/8.3 MB 12.0 MB/s eta 0:00:01\n",
      "     ---------------------------- ----------- 6.0/8.3 MB 12.0 MB/s eta 0:00:01\n",
      "     ------------------------------- -------- 6.6/8.3 MB 12.0 MB/s eta 0:00:01\n",
      "     ---------------------------------- ----- 7.1/8.3 MB 12.0 MB/s eta 0:00:01\n",
      "     ------------------------------------- -- 7.7/8.3 MB 12.0 MB/s eta 0:00:01\n",
      "     ---------------------------------------  8.2/8.3 MB 12.0 MB/s eta 0:00:01\n",
      "     ---------------------------------------- 8.3/8.3 MB 11.5 MB/s eta 0:00:00\n",
      "Requirement already satisfied: numpy>=1.17.3 in c:\\users\\hi-sinchon\\anaconda3\\envs\\ex\\lib\\site-packages (from scikit-learn) (1.24.3)\n",
      "Collecting joblib>=1.1.1\n",
      "  Downloading joblib-1.2.0-py3-none-any.whl (297 kB)\n",
      "     ---------------------------------------- 0.0/298.0 kB ? eta -:--:--\n",
      "     ------------------------------------- 298.0/298.0 kB 19.2 MB/s eta 0:00:00\n",
      "Collecting scipy>=1.3.2\n",
      "  Downloading scipy-1.10.1-cp38-cp38-win_amd64.whl (42.2 MB)\n",
      "     ---------------------------------------- 0.0/42.2 MB ? eta -:--:--\n",
      "      --------------------------------------- 0.7/42.2 MB 14.2 MB/s eta 0:00:03\n",
      "     - -------------------------------------- 1.1/42.2 MB 11.7 MB/s eta 0:00:04\n",
      "     - -------------------------------------- 1.6/42.2 MB 11.6 MB/s eta 0:00:04\n",
      "     -- ------------------------------------- 2.2/42.2 MB 11.6 MB/s eta 0:00:04\n",
      "     -- ------------------------------------- 2.7/42.2 MB 11.6 MB/s eta 0:00:04\n",
      "     --- ------------------------------------ 3.3/42.2 MB 11.6 MB/s eta 0:00:04\n",
      "     --- ------------------------------------ 3.8/42.2 MB 11.6 MB/s eta 0:00:04\n",
      "     ---- ----------------------------------- 4.4/42.2 MB 11.6 MB/s eta 0:00:04\n",
      "     ---- ----------------------------------- 4.9/42.2 MB 11.6 MB/s eta 0:00:04\n",
      "     ---- ----------------------------------- 5.2/42.2 MB 11.6 MB/s eta 0:00:04\n",
      "     ---- ----------------------------------- 5.2/42.2 MB 11.6 MB/s eta 0:00:04\n",
      "     ---- ----------------------------------- 5.2/42.2 MB 11.6 MB/s eta 0:00:04\n",
      "     ----- ---------------------------------- 5.4/42.2 MB 8.9 MB/s eta 0:00:05\n",
      "     ----- ---------------------------------- 6.0/42.2 MB 9.1 MB/s eta 0:00:04\n",
      "     ------ --------------------------------- 6.6/42.2 MB 9.3 MB/s eta 0:00:04\n",
      "     ------ --------------------------------- 7.1/42.2 MB 9.5 MB/s eta 0:00:04\n",
      "     ------- -------------------------------- 7.6/42.2 MB 9.6 MB/s eta 0:00:04\n",
      "     ------- -------------------------------- 8.2/42.2 MB 9.7 MB/s eta 0:00:04\n",
      "     -------- ------------------------------- 8.7/42.2 MB 9.8 MB/s eta 0:00:04\n",
      "     -------- ------------------------------- 9.3/42.2 MB 10.1 MB/s eta 0:00:04\n",
      "     --------- ----------------------------- 10.0/42.2 MB 10.1 MB/s eta 0:00:04\n",
      "     --------- ----------------------------- 10.7/42.2 MB 10.1 MB/s eta 0:00:04\n",
      "     ---------- ---------------------------- 11.2/42.2 MB 10.1 MB/s eta 0:00:04\n",
      "     ---------- ---------------------------- 11.8/42.2 MB 10.2 MB/s eta 0:00:03\n",
      "     ----------- --------------------------- 12.3/42.2 MB 10.2 MB/s eta 0:00:03\n",
      "     ----------- --------------------------- 12.8/42.2 MB 10.2 MB/s eta 0:00:03\n",
      "     ------------ -------------------------- 13.4/42.2 MB 10.2 MB/s eta 0:00:03\n",
      "     ------------ -------------------------- 13.9/42.2 MB 10.2 MB/s eta 0:00:03\n",
      "     ------------- ------------------------- 14.5/42.2 MB 10.2 MB/s eta 0:00:03\n",
      "     ------------- ------------------------- 15.0/42.2 MB 10.1 MB/s eta 0:00:03\n",
      "     -------------- ------------------------ 15.6/42.2 MB 11.7 MB/s eta 0:00:03\n",
      "     -------------- ------------------------ 16.1/42.2 MB 11.7 MB/s eta 0:00:03\n",
      "     --------------- ----------------------- 16.7/42.2 MB 11.7 MB/s eta 0:00:03\n",
      "     --------------- ----------------------- 17.2/42.2 MB 11.7 MB/s eta 0:00:03\n",
      "     ---------------- ---------------------- 17.8/42.2 MB 11.7 MB/s eta 0:00:03\n",
      "     ---------------- ---------------------- 18.3/42.2 MB 11.7 MB/s eta 0:00:03\n",
      "     ----------------- --------------------- 18.9/42.2 MB 11.7 MB/s eta 0:00:02\n",
      "     ----------------- --------------------- 18.9/42.2 MB 11.7 MB/s eta 0:00:02\n",
      "     ----------------- --------------------- 18.9/42.2 MB 11.7 MB/s eta 0:00:02\n",
      "     ----------------- --------------------- 19.3/42.2 MB 10.4 MB/s eta 0:00:03\n",
      "     ------------------ -------------------- 19.8/42.2 MB 10.4 MB/s eta 0:00:03\n",
      "     ------------------ -------------------- 20.4/42.2 MB 10.4 MB/s eta 0:00:03\n",
      "     ------------------- ------------------- 20.9/42.2 MB 10.4 MB/s eta 0:00:03\n",
      "     ------------------- ------------------- 21.4/42.2 MB 10.4 MB/s eta 0:00:03\n",
      "     -------------------- ------------------ 22.1/42.2 MB 10.6 MB/s eta 0:00:02\n",
      "     --------------------- ----------------- 22.9/42.2 MB 10.6 MB/s eta 0:00:02\n",
      "     --------------------- ----------------- 23.4/42.2 MB 10.6 MB/s eta 0:00:02\n",
      "     ---------------------- ---------------- 24.0/42.2 MB 10.6 MB/s eta 0:00:02\n",
      "     ---------------------- ---------------- 24.5/42.2 MB 10.6 MB/s eta 0:00:02\n",
      "     ----------------------- --------------- 25.0/42.2 MB 10.6 MB/s eta 0:00:02\n",
      "     ----------------------- --------------- 25.6/42.2 MB 10.6 MB/s eta 0:00:02\n",
      "     ------------------------ -------------- 26.1/42.2 MB 10.6 MB/s eta 0:00:02\n",
      "     ------------------------ -------------- 26.6/42.2 MB 10.4 MB/s eta 0:00:02\n",
      "     ------------------------- ------------- 27.2/42.2 MB 10.4 MB/s eta 0:00:02\n",
      "     ------------------------- ------------- 27.7/42.2 MB 10.4 MB/s eta 0:00:02\n",
      "     -------------------------- ------------ 28.3/42.2 MB 10.4 MB/s eta 0:00:02\n",
      "     -------------------------- ------------ 28.8/42.2 MB 10.4 MB/s eta 0:00:02\n",
      "     --------------------------- ----------- 29.4/42.2 MB 11.7 MB/s eta 0:00:02\n",
      "     --------------------------- ----------- 29.9/42.2 MB 11.7 MB/s eta 0:00:02\n",
      "     ---------------------------- ---------- 30.4/42.2 MB 11.7 MB/s eta 0:00:02\n",
      "     ---------------------------- ---------- 31.0/42.2 MB 11.7 MB/s eta 0:00:01\n",
      "     ----------------------------- --------- 31.5/42.2 MB 11.9 MB/s eta 0:00:01\n",
      "     ----------------------------- --------- 32.2/42.2 MB 11.9 MB/s eta 0:00:01\n",
      "     ------------------------------ -------- 33.0/42.2 MB 11.9 MB/s eta 0:00:01\n",
      "     ------------------------------ -------- 33.5/42.2 MB 11.9 MB/s eta 0:00:01\n",
      "     ------------------------------- ------- 34.0/42.2 MB 11.9 MB/s eta 0:00:01\n",
      "     ------------------------------- ------- 34.6/42.2 MB 11.9 MB/s eta 0:00:01\n",
      "     -------------------------------- ------ 35.2/42.2 MB 11.9 MB/s eta 0:00:01\n",
      "     -------------------------------- ------ 35.6/42.2 MB 11.7 MB/s eta 0:00:01\n",
      "     --------------------------------- ----- 35.9/42.2 MB 11.5 MB/s eta 0:00:01\n",
      "     --------------------------------- ----- 36.4/42.2 MB 11.3 MB/s eta 0:00:01\n",
      "     ---------------------------------- ---- 37.0/42.2 MB 11.3 MB/s eta 0:00:01\n",
      "     ---------------------------------- ---- 37.5/42.2 MB 11.5 MB/s eta 0:00:01\n",
      "     ----------------------------------- --- 38.1/42.2 MB 11.3 MB/s eta 0:00:01\n",
      "     ----------------------------------- --- 38.6/42.2 MB 11.3 MB/s eta 0:00:01\n",
      "     ------------------------------------ -- 39.1/42.2 MB 11.3 MB/s eta 0:00:01\n",
      "     ------------------------------------ -- 39.7/42.2 MB 11.3 MB/s eta 0:00:01\n",
      "     ------------------------------------- - 40.2/42.2 MB 11.3 MB/s eta 0:00:01\n",
      "     ------------------------------------- - 40.7/42.2 MB 11.3 MB/s eta 0:00:01\n",
      "     --------------------------------------  41.3/42.2 MB 11.3 MB/s eta 0:00:01\n",
      "     --------------------------------------  41.9/42.2 MB 11.3 MB/s eta 0:00:01\n",
      "     --------------------------------------  42.2/42.2 MB 11.3 MB/s eta 0:00:01\n",
      "     --------------------------------------- 42.2/42.2 MB 10.6 MB/s eta 0:00:00\n",
      "Collecting threadpoolctl>=2.0.0\n",
      "  Downloading threadpoolctl-3.1.0-py3-none-any.whl (14 kB)\n",
      "Installing collected packages: threadpoolctl, scipy, joblib, scikit-learn\n",
      "Successfully installed joblib-1.2.0 scikit-learn-1.2.2 scipy-1.10.1 threadpoolctl-3.1.0\n",
      "Note: you may need to restart the kernel to use updated packages.\n"
     ]
    }
   ],
   "source": [
    "pip install scikit-learn"
   ]
  },
  {
   "cell_type": "code",
   "execution_count": 9,
   "id": "19a813d2",
   "metadata": {},
   "outputs": [],
   "source": [
    "from sklearn.model_selection import train_test_split"
   ]
  },
  {
   "cell_type": "code",
   "execution_count": null,
   "id": "2dda3bf8",
   "metadata": {},
   "outputs": [],
   "source": [
    "'''\n",
    "주어진 코드는 scikit-learn 라이브러리의 train_test_split() 함수를 사용하여 데이터셋을 학습용과 테스트용으로 분할하는 방법을 보여줍니다.\n",
    "\n",
    "아래는 코드의 설명입니다:\n",
    "\n",
    "x = ratings.copy(): 이 코드는 ratings 데이터셋의 복사본을 생성하고 변수 x에 할당합니다. 이 단계는 원본 데이터셋이 변경되지 않도록 보장하기 위해 수행됩니다.\n",
    "\n",
    "y = ratings.user_id: 이 코드는 ratings 데이터셋의 \"user_id\" 열의 값을 변수 y에 할당합니다. 이 열은 우리가 예측하고자 하는 대상 변수 또는 레이블을 나타냅니다.\n",
    "\n",
    "x_train, x_test, y_train, y_test = train_test_split(x, y, test_size=0.25, stratify=y): 이 코드는 데이터셋을 학습용과 테스트용으로 분할합니다. train_test_split() 함수는 몇 가지 인수를 사용합니다:\n",
    "\n",
    "x와 y: 각각 데이터셋과 대상 변수입니다.\n",
    "test_size=0.25: 이는 데이터의 25%를 테스트용으로 할당하고, 나머지 75%를 학습용으로 사용하도록 지정합니다.\n",
    "stratify=y: 이 인자는 학습용과 테스트용 데이터셋에서 대상 변수의 분포를 원본 데이터셋과 유사하게 유지하도록 합니다. 이는 데이터셋이 불균형하거나 대상 변수가 여러 클래스를 가지는 경우에 유용합니다.\n",
    "이 함수는 네 개의 데이터셋을 반환합니다:\n",
    "\n",
    "x_train: 원본 데이터의 75%인 학습용 데이터셋입니다.\n",
    "x_test: 원본 데이터의 나머지 25%인 테스트용 데이터셋입니다.\n",
    "y_train: 학습용 데이터셋에 해당하는 대상 변수 (사용자 ID)입니다.\n",
    "y_test: 테스트용 데이터셋에 해당하는 대상 변수 (사용자 ID)입니다.\n",
    "데이터셋을 학습용과 테스트용으로 분할함으로써, 학습 데이터로 머신러닝 모델을 훈련하고 테스트 데이터로 모델의 성능을 평가하여 새로운 데이터에 대한 일반화 능력을 평가할 수 있습니다.\n",
    "'''"
   ]
  },
  {
   "cell_type": "code",
   "execution_count": 15,
   "id": "d64793ee",
   "metadata": {},
   "outputs": [],
   "source": [
    "x = ratings.copy()\n",
    "y = ratings.user_id\n",
    "# x_train : 학습용 데이터\n",
    "# x_test : 정확도 검증용\n",
    "# y_train, y_test: 사용자 ID\n",
    "x_train, x_test, y_train, y_test =train_test_split(x,y, test_size=0.25, stratify=y) "
   ]
  },
  {
   "cell_type": "code",
   "execution_count": 16,
   "id": "502707a3",
   "metadata": {},
   "outputs": [
    {
     "data": {
      "text/plain": [
       "(100000, 3)"
      ]
     },
     "execution_count": 16,
     "metadata": {},
     "output_type": "execute_result"
    }
   ],
   "source": [
    "x.shape"
   ]
  },
  {
   "cell_type": "code",
   "execution_count": 17,
   "id": "1ae98c65",
   "metadata": {},
   "outputs": [
    {
     "data": {
      "text/plain": [
       "(75000, 3)"
      ]
     },
     "execution_count": 17,
     "metadata": {},
     "output_type": "execute_result"
    }
   ],
   "source": [
    "x_train.shape"
   ]
  },
  {
   "cell_type": "code",
   "execution_count": 18,
   "id": "990d1380",
   "metadata": {},
   "outputs": [
    {
     "data": {
      "text/plain": [
       "(25000, 3)"
      ]
     },
     "execution_count": 18,
     "metadata": {},
     "output_type": "execute_result"
    }
   ],
   "source": [
    "x_test.shape"
   ]
  },
  {
   "cell_type": "code",
   "execution_count": 20,
   "id": "726c272c",
   "metadata": {},
   "outputs": [
    {
     "data": {
      "text/plain": [
       "(75000,)"
      ]
     },
     "execution_count": 20,
     "metadata": {},
     "output_type": "execute_result"
    }
   ],
   "source": [
    "y_train.shape"
   ]
  },
  {
   "cell_type": "code",
   "execution_count": 19,
   "id": "6a7604ca",
   "metadata": {},
   "outputs": [
    {
     "data": {
      "text/plain": [
       "(25000,)"
      ]
     },
     "execution_count": 19,
     "metadata": {},
     "output_type": "execute_result"
    }
   ],
   "source": [
    "y_test.shape"
   ]
  },
  {
   "cell_type": "code",
   "execution_count": null,
   "id": "ba16f400",
   "metadata": {},
   "outputs": [],
   "source": []
  },
  {
   "cell_type": "code",
   "execution_count": null,
   "id": "4f40dbdd",
   "metadata": {},
   "outputs": [],
   "source": []
  }
 ],
 "metadata": {
  "kernelspec": {
   "display_name": "ex_kernel",
   "language": "python",
   "name": "ex"
  },
  "language_info": {
   "codemirror_mode": {
    "name": "ipython",
    "version": 3
   },
   "file_extension": ".py",
   "mimetype": "text/x-python",
   "name": "python",
   "nbconvert_exporter": "python",
   "pygments_lexer": "ipython3",
   "version": "3.8.10"
  },
  "toc": {
   "base_numbering": 1,
   "nav_menu": {},
   "number_sections": true,
   "sideBar": true,
   "skip_h1_title": false,
   "title_cell": "Table of Contents",
   "title_sidebar": "Contents",
   "toc_cell": false,
   "toc_position": {},
   "toc_section_display": true,
   "toc_window_display": false
  }
 },
 "nbformat": 4,
 "nbformat_minor": 5
}
