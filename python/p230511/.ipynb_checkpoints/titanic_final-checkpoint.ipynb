{
 "cells": [
  {
   "cell_type": "code",
   "execution_count": 1,
   "id": "76d90696",
   "metadata": {},
   "outputs": [],
   "source": [
    "import pandas as pd\n",
    "\n",
    "url = 'https://web.stanford.edu/class/archive/cs/cs109/cs109.1166/stuff/titanic.csv'\n",
    "titanic = pd.read_csv(url)\n",
    "\n",
    "# url 정보를 받아서 할 수 있어요"
   ]
  },
  {
   "cell_type": "code",
   "execution_count": 2,
   "id": "c8161736",
   "metadata": {},
   "outputs": [
    {
     "name": "stdout",
     "output_type": "stream",
     "text": [
      "<class 'pandas.core.frame.DataFrame'>\n",
      "RangeIndex: 887 entries, 0 to 886\n",
      "Data columns (total 8 columns):\n",
      " #   Column                   Non-Null Count  Dtype  \n",
      "---  ------                   --------------  -----  \n",
      " 0   Survived                 887 non-null    int64  \n",
      " 1   Pclass                   887 non-null    int64  \n",
      " 2   Name                     887 non-null    object \n",
      " 3   Sex                      887 non-null    object \n",
      " 4   Age                      887 non-null    float64\n",
      " 5   Siblings/Spouses Aboard  887 non-null    int64  \n",
      " 6   Parents/Children Aboard  887 non-null    int64  \n",
      " 7   Fare                     887 non-null    float64\n",
      "dtypes: float64(2), int64(4), object(2)\n",
      "memory usage: 55.6+ KB\n"
     ]
    }
   ],
   "source": [
    "#정보 확인\n",
    "titanic.info()"
   ]
  },
  {
   "cell_type": "code",
   "execution_count": 3,
   "id": "63704bdd",
   "metadata": {},
   "outputs": [
    {
     "data": {
      "text/plain": [
       "342"
      ]
     },
     "execution_count": 3,
     "metadata": {},
     "output_type": "execute_result"
    }
   ],
   "source": [
    "titanic.Survived.sum()"
   ]
  },
  {
   "cell_type": "code",
   "execution_count": 4,
   "id": "9486bb05",
   "metadata": {},
   "outputs": [
    {
     "data": {
      "text/plain": [
       "Index(['Survived', 'Pclass', 'Name', 'Sex', 'Age', 'Siblings/Spouses Aboard',\n",
       "       'Parents/Children Aboard', 'Fare'],\n",
       "      dtype='object')"
      ]
     },
     "execution_count": 4,
     "metadata": {},
     "output_type": "execute_result"
    }
   ],
   "source": [
    "#데이터 파악\n",
    "titanic.columns"
   ]
  },
  {
   "cell_type": "code",
   "execution_count": 5,
   "id": "5c3f2432",
   "metadata": {},
   "outputs": [
    {
     "data": {
      "text/plain": [
       "Survived                   0\n",
       "Pclass                     0\n",
       "Name                       0\n",
       "Sex                        0\n",
       "Age                        0\n",
       "Siblings/Spouses Aboard    0\n",
       "Parents/Children Aboard    0\n",
       "Fare                       0\n",
       "dtype: int64"
      ]
     },
     "execution_count": 5,
     "metadata": {},
     "output_type": "execute_result"
    }
   ],
   "source": [
    "#전처리 과정이 제일 시간이많이 소요 되용\n",
    "#결측치 확인\n",
    "titanic.isnull().value_counts()\n",
    "titanic.isnull().sum()"
   ]
  },
  {
   "cell_type": "code",
   "execution_count": 6,
   "id": "5c03278e",
   "metadata": {},
   "outputs": [],
   "source": [
    "#컬럼명 변경\n",
    "titanic.rename(columns={'Sex':'Gender'},inplace=True)"
   ]
  },
  {
   "cell_type": "markdown",
   "id": "a92bad74",
   "metadata": {},
   "source": [
    "## csv파일로 저장"
   ]
  },
  {
   "cell_type": "code",
   "execution_count": 7,
   "id": "5c084b86",
   "metadata": {},
   "outputs": [
    {
     "name": "stdout",
     "output_type": "stream",
     "text": [
      "저장완료\n"
     ]
    }
   ],
   "source": [
    "titanic.to_csv('titanic.csv', index=False, encoding='utf-8')\n",
    "print('저장완료')"
   ]
  },
  {
   "cell_type": "markdown",
   "id": "df88dd62",
   "metadata": {},
   "source": [
    "# csv 읽어오기"
   ]
  },
  {
   "cell_type": "code",
   "execution_count": 8,
   "id": "0a2506ad",
   "metadata": {
    "scrolled": true
   },
   "outputs": [],
   "source": [
    "tatanic = pd.read_csv('titanic.csv')"
   ]
  },
  {
   "cell_type": "code",
   "execution_count": 9,
   "id": "d39fc4f6",
   "metadata": {
    "scrolled": true
   },
   "outputs": [
    {
     "data": {
      "text/plain": [
       "'\\n가설 \\n- 무엇을 분석할 것인가?\\n'"
      ]
     },
     "execution_count": 9,
     "metadata": {},
     "output_type": "execute_result"
    }
   ],
   "source": [
    "'''\n",
    "가설 \n",
    "- 무엇을 분석할 것인가?\n",
    "'''"
   ]
  },
  {
   "cell_type": "code",
   "execution_count": 10,
   "id": "e496def8",
   "metadata": {},
   "outputs": [],
   "source": [
    "#남여 생존자 비율중 성별 비율\n",
    "#1pclass에 생존 비율 ? 다른 pcalss 보다 높다?\n",
    "#사망자는 주로 고령자 많았다?"
   ]
  },
  {
   "cell_type": "markdown",
   "id": "ec9cc24f",
   "metadata": {},
   "source": [
    "## 생존자의 성별 비율"
   ]
  },
  {
   "cell_type": "code",
   "execution_count": 11,
   "id": "bbe3dffc",
   "metadata": {},
   "outputs": [
    {
     "data": {
      "text/plain": [
       "Gender  Survived\n",
       "female  0            81\n",
       "        1           233\n",
       "male    0           464\n",
       "        1           109\n",
       "dtype: int64"
      ]
     },
     "execution_count": 11,
     "metadata": {},
     "output_type": "execute_result"
    }
   ],
   "source": [
    "titanic_gender_survived = titanic.groupby(['Gender','Survived'])\n",
    "titanic_gender_survived.size()"
   ]
  },
  {
   "cell_type": "markdown",
   "id": "04dd4423",
   "metadata": {},
   "source": [
    "## 방법1"
   ]
  },
  {
   "cell_type": "code",
   "execution_count": 12,
   "id": "209e4739",
   "metadata": {},
   "outputs": [
    {
     "data": {
      "text/plain": [
       "Gender\n",
       "female    68.128655\n",
       "male      31.871345\n",
       "dtype: float64"
      ]
     },
     "execution_count": 12,
     "metadata": {},
     "output_type": "execute_result"
    }
   ],
   "source": [
    "\n",
    "##생존자 데이터\n",
    "#성별 인원 수\n",
    "survived_gender = titanic[titanic.Survived == 1].groupby(['Gender']).size()\n",
    "\n",
    "#생존자의 비율\n",
    "survived_gender / survived_gender.sum() *100"
   ]
  },
  {
   "cell_type": "markdown",
   "id": "ce4dc5ff",
   "metadata": {},
   "source": [
    "## 방법2"
   ]
  },
  {
   "cell_type": "code",
   "execution_count": 13,
   "id": "05196dec",
   "metadata": {},
   "outputs": [
    {
     "data": {
      "text/plain": [
       "Gender  Survived\n",
       "female  0           25.796178\n",
       "        1           74.203822\n",
       "male    0           80.977312\n",
       "        1           19.022688\n",
       "Name: proportion, dtype: float64"
      ]
     },
     "execution_count": 13,
     "metadata": {},
     "output_type": "execute_result"
    }
   ],
   "source": [
    "#비율 value_counts(normalize=True) \n",
    "titanic[titanic.Survived== 1].Gender.value_counts(normalize=True) *100\n",
    "\n",
    "#표현 차이 성별 안 생존자를 나누는게 편해요\n",
    "g_s = titanic.groupby('Gender').Survived.value_counts(normalize=True).sort_index() * 100 \n",
    "g_s"
   ]
  },
  {
   "cell_type": "code",
   "execution_count": 14,
   "id": "38b4e32d",
   "metadata": {},
   "outputs": [
    {
     "data": {
      "text/html": [
       "<div>\n",
       "<style scoped>\n",
       "    .dataframe tbody tr th:only-of-type {\n",
       "        vertical-align: middle;\n",
       "    }\n",
       "\n",
       "    .dataframe tbody tr th {\n",
       "        vertical-align: top;\n",
       "    }\n",
       "\n",
       "    .dataframe thead th {\n",
       "        text-align: right;\n",
       "    }\n",
       "</style>\n",
       "<table border=\"1\" class=\"dataframe\">\n",
       "  <thead>\n",
       "    <tr style=\"text-align: right;\">\n",
       "      <th>Survived</th>\n",
       "      <th>0</th>\n",
       "      <th>1</th>\n",
       "    </tr>\n",
       "    <tr>\n",
       "      <th>Gender</th>\n",
       "      <th></th>\n",
       "      <th></th>\n",
       "    </tr>\n",
       "  </thead>\n",
       "  <tbody>\n",
       "    <tr>\n",
       "      <th>female</th>\n",
       "      <td>25.796178</td>\n",
       "      <td>74.203822</td>\n",
       "    </tr>\n",
       "    <tr>\n",
       "      <th>male</th>\n",
       "      <td>80.977312</td>\n",
       "      <td>19.022688</td>\n",
       "    </tr>\n",
       "  </tbody>\n",
       "</table>\n",
       "</div>"
      ],
      "text/plain": [
       "Survived          0          1\n",
       "Gender                        \n",
       "female    25.796178  74.203822\n",
       "male      80.977312  19.022688"
      ]
     },
     "execution_count": 14,
     "metadata": {},
     "output_type": "execute_result"
    }
   ],
   "source": [
    "# 데이터를 펼쳐요\n",
    "g_s.unstack()"
   ]
  },
  {
   "cell_type": "code",
   "execution_count": 15,
   "id": "51ed0ecd",
   "metadata": {},
   "outputs": [
    {
     "data": {
      "text/html": [
       "<div>\n",
       "<style scoped>\n",
       "    .dataframe tbody tr th:only-of-type {\n",
       "        vertical-align: middle;\n",
       "    }\n",
       "\n",
       "    .dataframe tbody tr th {\n",
       "        vertical-align: top;\n",
       "    }\n",
       "\n",
       "    .dataframe thead th {\n",
       "        text-align: right;\n",
       "    }\n",
       "</style>\n",
       "<table border=\"1\" class=\"dataframe\">\n",
       "  <thead>\n",
       "    <tr style=\"text-align: right;\">\n",
       "      <th>Gender</th>\n",
       "      <th>female</th>\n",
       "      <th>male</th>\n",
       "    </tr>\n",
       "    <tr>\n",
       "      <th>Survived</th>\n",
       "      <th></th>\n",
       "      <th></th>\n",
       "    </tr>\n",
       "  </thead>\n",
       "  <tbody>\n",
       "    <tr>\n",
       "      <th>0</th>\n",
       "      <td>25.796178</td>\n",
       "      <td>80.977312</td>\n",
       "    </tr>\n",
       "    <tr>\n",
       "      <th>1</th>\n",
       "      <td>74.203822</td>\n",
       "      <td>19.022688</td>\n",
       "    </tr>\n",
       "  </tbody>\n",
       "</table>\n",
       "</div>"
      ],
      "text/plain": [
       "Gender       female       male\n",
       "Survived                      \n",
       "0         25.796178  80.977312\n",
       "1         74.203822  19.022688"
      ]
     },
     "execution_count": 15,
     "metadata": {},
     "output_type": "execute_result"
    }
   ],
   "source": [
    "g_s.unstack('Gender')"
   ]
  },
  {
   "cell_type": "code",
   "execution_count": 16,
   "id": "da06e2f8",
   "metadata": {},
   "outputs": [
    {
     "data": {
      "text/html": [
       "<div>\n",
       "<style scoped>\n",
       "    .dataframe tbody tr th:only-of-type {\n",
       "        vertical-align: middle;\n",
       "    }\n",
       "\n",
       "    .dataframe tbody tr th {\n",
       "        vertical-align: top;\n",
       "    }\n",
       "\n",
       "    .dataframe thead th {\n",
       "        text-align: right;\n",
       "    }\n",
       "</style>\n",
       "<table border=\"1\" class=\"dataframe\">\n",
       "  <thead>\n",
       "    <tr style=\"text-align: right;\">\n",
       "      <th>Gender</th>\n",
       "      <th>female</th>\n",
       "      <th>male</th>\n",
       "    </tr>\n",
       "    <tr>\n",
       "      <th>Survived</th>\n",
       "      <th></th>\n",
       "      <th></th>\n",
       "    </tr>\n",
       "  </thead>\n",
       "  <tbody>\n",
       "    <tr>\n",
       "      <th>0</th>\n",
       "      <td>25.796178</td>\n",
       "      <td>80.977312</td>\n",
       "    </tr>\n",
       "    <tr>\n",
       "      <th>1</th>\n",
       "      <td>74.203822</td>\n",
       "      <td>19.022688</td>\n",
       "    </tr>\n",
       "  </tbody>\n",
       "</table>\n",
       "</div>"
      ],
      "text/plain": [
       "Gender       female       male\n",
       "Survived                      \n",
       "0         25.796178  80.977312\n",
       "1         74.203822  19.022688"
      ]
     },
     "execution_count": 16,
     "metadata": {},
     "output_type": "execute_result"
    }
   ],
   "source": [
    "#흩어지게 하고\n",
    "g_s.unstack(0)"
   ]
  },
  {
   "cell_type": "code",
   "execution_count": 17,
   "id": "c257dd62",
   "metadata": {},
   "outputs": [
    {
     "data": {
      "text/plain": [
       "Survived  Gender\n",
       "0         female    25.796178\n",
       "          male      80.977312\n",
       "1         female    74.203822\n",
       "          male      19.022688\n",
       "dtype: float64"
      ]
     },
     "execution_count": 17,
     "metadata": {},
     "output_type": "execute_result"
    }
   ],
   "source": [
    "#다시 인덱스로 오게 하여 stack 해영\n",
    "g_s.unstack(0).stack()"
   ]
  },
  {
   "cell_type": "code",
   "execution_count": 18,
   "id": "f86bf546",
   "metadata": {},
   "outputs": [
    {
     "data": {
      "text/plain": [
       "Survived  Gender\n",
       "0         female    25.796178\n",
       "          male      80.977312\n",
       "1         female    74.203822\n",
       "          male      19.022688\n",
       "Name: proportion, dtype: float64"
      ]
     },
     "execution_count": 18,
     "metadata": {},
     "output_type": "execute_result"
    }
   ],
   "source": [
    "#행 인덱스 순서를 바꿔용\n",
    "g_s.swaplevel().sort_index()"
   ]
  },
  {
   "cell_type": "markdown",
   "id": "b023a12e",
   "metadata": {},
   "source": [
    "## 시각화를 하기"
   ]
  },
  {
   "cell_type": "code",
   "execution_count": 19,
   "id": "2e24f3f7",
   "metadata": {},
   "outputs": [
    {
     "data": {
      "image/png": "[encoded data removed]",
      "text/plain": [
       "<Figure size 500x500 with 1 Axes>"
      ]
     },
     "metadata": {},
     "output_type": "display_data"
    }
   ],
   "source": [
    "import matplotlib.pyplot as plt\n",
    "\n",
    "data = survived_gender\n",
    "plt.rcParams['font.family'] = 'malgun gothic'\n",
    "plt.rcParams['axes.unicode_minus'] = False\n",
    "plt.rc('font',size=15)\n",
    "plt.figure(figsize=(5,5)) #전체 사이즈 \n",
    "\n",
    "_,_, pie= plt.pie(data,\n",
    "       labels=['여자 생존자','남자 생존자'],\n",
    "       autopct='%.0f%%',\n",
    "        explode=[0.23,0],\n",
    "        shadow=True,\n",
    "        colors=['Tomato','DodgerBlue'],\n",
    "        wedgeprops={'width': 0.6, 'linewidth':2},\n",
    "       )\n",
    "plt.title('생존자')\n",
    "for i in pie:\n",
    "    i.set_color('w')\n",
    "\n",
    "# plt.show()#show 가있으면 저장이 안되용\n",
    "\n",
    "plt.savefig('생존자 성비 비율.jpg',dpi= 100)#파일명, dpi를 하세용"
   ]
  },
  {
   "cell_type": "code",
   "execution_count": 20,
   "id": "07772629",
   "metadata": {
    "scrolled": false
   },
   "outputs": [
    {
     "data": {
      "text/plain": [
       "Gender\n",
       "female    233\n",
       "male      109\n",
       "dtype: int64"
      ]
     },
     "execution_count": 20,
     "metadata": {},
     "output_type": "execute_result"
    }
   ],
   "source": [
    "survived_gender"
   ]
  },
  {
   "cell_type": "markdown",
   "id": "c88b40da",
   "metadata": {},
   "source": [
    "### 결론\n",
    "- 가설1 성비 비율이 같을 것이다? \n",
    "    - 생존자 342명 중 여자는 233명(68%), 남자는 109명으로 여자가 남자의 2배 이상으로 나타냈다."
   ]
  },
  {
   "cell_type": "markdown",
   "id": "a4ebf5d7",
   "metadata": {},
   "source": [
    "# 1pclass에 생존 비율 ? 다른 pcalss 보다 높다?"
   ]
  },
  {
   "cell_type": "markdown",
   "id": "01e08825",
   "metadata": {},
   "source": [
    "### 분석"
   ]
  },
  {
   "cell_type": "code",
   "execution_count": 21,
   "id": "aa2d85d9",
   "metadata": {
    "scrolled": true
   },
   "outputs": [
    {
     "data": {
      "text/plain": [
       "Pclass\n",
       "1     80\n",
       "2     97\n",
       "3    368\n",
       "dtype: int64"
      ]
     },
     "execution_count": 21,
     "metadata": {},
     "output_type": "execute_result"
    }
   ],
   "source": [
    "survived_pclass = titanic[titanic.Survived == 1].groupby(['Pclass']).size()\n",
    "survived_pclass\n",
    "dead_pclass = titanic[titanic.Survived == 0].groupby(['Pclass']).size()\n",
    "dead_pclass"
   ]
  },
  {
   "cell_type": "code",
   "execution_count": 22,
   "id": "03edba7d",
   "metadata": {},
   "outputs": [
    {
     "data": {
      "text/plain": [
       "Survived\n",
       "0    37.037037\n",
       "1    62.962963\n",
       "Name: proportion, dtype: float64"
      ]
     },
     "execution_count": 22,
     "metadata": {},
     "output_type": "execute_result"
    }
   ],
   "source": [
    "pclass_p = titanic.groupby('Pclass').Survived.value_counts(normalize=True).sort_index() * 100 \n",
    "pclass_p[1]"
   ]
  },
  {
   "cell_type": "code",
   "execution_count": 23,
   "id": "d007da65",
   "metadata": {
    "scrolled": true
   },
   "outputs": [
    {
     "data": {
      "image/png": "[encoded data removed]",
      "text/plain": [
       "<Figure size 640x480 with 3 Axes>"
      ]
     },
     "metadata": {},
     "output_type": "display_data"
    }
   ],
   "source": [
    "plt.rcParams['font.family'] = 'malgun gothic'\n",
    "plt.rcParams['axes.unicode_minus'] = False\n",
    "\n",
    "fig, ax = plt.subplots(1, 3)\n",
    "\n",
    "ax[0].pie(pclass_p[1],\n",
    "          labels=['사망자', '생존자'],\n",
    "          autopct='%.0f%%',\n",
    "          shadow=True,\n",
    "          startangle=90,\n",
    "          colors=['Tomato', 'DodgerBlue'],\n",
    "          wedgeprops={'width': 0.6, 'linewidth': 2}\n",
    "          )\n",
    "ax[0].set_title('1등실')\n",
    "\n",
    "ax[1].pie(pclass_p[2],\n",
    "          labels=['사망자', '생존자'],\n",
    "          autopct='%.0f%%',\n",
    "          shadow=True,\n",
    "          startangle=90,\n",
    "          colors=['Tomato', 'DodgerBlue'],\n",
    "          wedgeprops={'width': 0.6, 'linewidth': 2}\n",
    "          )\n",
    "ax[1].set_title('2등실')\n",
    "\n",
    "ax[2].pie(pclass_p[3],\n",
    "          labels=['사망자', '생존자'],\n",
    "          autopct='%.0f%%',\n",
    "          shadow=True,\n",
    "          startangle=90,\n",
    "          colors=['Tomato', 'DodgerBlue'],\n",
    "          wedgeprops={'width': 0.6, 'linewidth': 2}\n",
    "          )\n",
    "ax[2].set_title('3등실')\n",
    "\n",
    "# plt.show()\n",
    "plt.savefig('티켓별 생존자 비율.jpg')"
   ]
  },
  {
   "cell_type": "markdown",
   "id": "d2c9f197",
   "metadata": {},
   "source": [
    "- 가설2 티켓 별로 생존자가 다르며, 1등석이 가장 높을 것이다.\n",
    "    - 탑승인원 887명중 생존자 342명, \n",
    "    - 1등석 216명 중 136명(63%) 생존\n",
    "    - 2등석 184명 중  87명(47%) 생존 \n",
    "    - 3등석 487명 중 119명(24%) 생존\n",
    "    - 1등석이 63%로 많은 생존률이었고 티켓별로 생존률이 높았다."
   ]
  },
  {
   "cell_type": "code",
   "execution_count": 24,
   "id": "44b714e1",
   "metadata": {},
   "outputs": [],
   "source": [
    "#문제 풀이"
   ]
  },
  {
   "cell_type": "code",
   "execution_count": 25,
   "id": "42b75663",
   "metadata": {},
   "outputs": [
    {
     "data": {
      "text/html": [
       "<div>\n",
       "<style scoped>\n",
       "    .dataframe tbody tr th:only-of-type {\n",
       "        vertical-align: middle;\n",
       "    }\n",
       "\n",
       "    .dataframe tbody tr th {\n",
       "        vertical-align: top;\n",
       "    }\n",
       "\n",
       "    .dataframe thead th {\n",
       "        text-align: right;\n",
       "    }\n",
       "</style>\n",
       "<table border=\"1\" class=\"dataframe\">\n",
       "  <thead>\n",
       "    <tr style=\"text-align: right;\">\n",
       "      <th>Survived</th>\n",
       "      <th>0</th>\n",
       "      <th>1</th>\n",
       "    </tr>\n",
       "    <tr>\n",
       "      <th>Pclass</th>\n",
       "      <th></th>\n",
       "      <th></th>\n",
       "    </tr>\n",
       "  </thead>\n",
       "  <tbody>\n",
       "    <tr>\n",
       "      <th>1</th>\n",
       "      <td>80</td>\n",
       "      <td>136</td>\n",
       "    </tr>\n",
       "    <tr>\n",
       "      <th>2</th>\n",
       "      <td>97</td>\n",
       "      <td>87</td>\n",
       "    </tr>\n",
       "    <tr>\n",
       "      <th>3</th>\n",
       "      <td>368</td>\n",
       "      <td>119</td>\n",
       "    </tr>\n",
       "  </tbody>\n",
       "</table>\n",
       "</div>"
      ],
      "text/plain": [
       "Survived    0    1\n",
       "Pclass            \n",
       "1          80  136\n",
       "2          97   87\n",
       "3         368  119"
      ]
     },
     "execution_count": 25,
     "metadata": {},
     "output_type": "execute_result"
    }
   ],
   "source": [
    "g_pclass = titanic.groupby(['Pclass','Survived']).size().unstack()\n",
    "g_pclass"
   ]
  },
  {
   "cell_type": "code",
   "execution_count": 26,
   "id": "8c82cf67",
   "metadata": {},
   "outputs": [
    {
     "data": {
      "text/html": [
       "<div>\n",
       "<style scoped>\n",
       "    .dataframe tbody tr th:only-of-type {\n",
       "        vertical-align: middle;\n",
       "    }\n",
       "\n",
       "    .dataframe tbody tr th {\n",
       "        vertical-align: top;\n",
       "    }\n",
       "\n",
       "    .dataframe thead th {\n",
       "        text-align: right;\n",
       "    }\n",
       "</style>\n",
       "<table border=\"1\" class=\"dataframe\">\n",
       "  <thead>\n",
       "    <tr style=\"text-align: right;\">\n",
       "      <th>Survived</th>\n",
       "      <th>0</th>\n",
       "      <th>1</th>\n",
       "      <th>합</th>\n",
       "    </tr>\n",
       "    <tr>\n",
       "      <th>Pclass</th>\n",
       "      <th></th>\n",
       "      <th></th>\n",
       "      <th></th>\n",
       "    </tr>\n",
       "  </thead>\n",
       "  <tbody>\n",
       "    <tr>\n",
       "      <th>1</th>\n",
       "      <td>80</td>\n",
       "      <td>136</td>\n",
       "      <td>216</td>\n",
       "    </tr>\n",
       "    <tr>\n",
       "      <th>2</th>\n",
       "      <td>97</td>\n",
       "      <td>87</td>\n",
       "      <td>184</td>\n",
       "    </tr>\n",
       "    <tr>\n",
       "      <th>3</th>\n",
       "      <td>368</td>\n",
       "      <td>119</td>\n",
       "      <td>487</td>\n",
       "    </tr>\n",
       "  </tbody>\n",
       "</table>\n",
       "</div>"
      ],
      "text/plain": [
       "Survived    0    1    합\n",
       "Pclass                 \n",
       "1          80  136  216\n",
       "2          97   87  184\n",
       "3         368  119  487"
      ]
     },
     "execution_count": 26,
     "metadata": {},
     "output_type": "execute_result"
    }
   ],
   "source": [
    "g_pclass['합'] = g_pclass.sum(axis=1)\n",
    "g_pclass"
   ]
  },
  {
   "cell_type": "code",
   "execution_count": 27,
   "id": "07a968bc",
   "metadata": {},
   "outputs": [
    {
     "data": {
      "text/html": [
       "<div>\n",
       "<style scoped>\n",
       "    .dataframe tbody tr th:only-of-type {\n",
       "        vertical-align: middle;\n",
       "    }\n",
       "\n",
       "    .dataframe tbody tr th {\n",
       "        vertical-align: top;\n",
       "    }\n",
       "\n",
       "    .dataframe thead th {\n",
       "        text-align: right;\n",
       "    }\n",
       "</style>\n",
       "<table border=\"1\" class=\"dataframe\">\n",
       "  <thead>\n",
       "    <tr style=\"text-align: right;\">\n",
       "      <th>Survived</th>\n",
       "      <th>0</th>\n",
       "      <th>1</th>\n",
       "      <th>합</th>\n",
       "      <th>생존자 비율</th>\n",
       "    </tr>\n",
       "    <tr>\n",
       "      <th>Pclass</th>\n",
       "      <th></th>\n",
       "      <th></th>\n",
       "      <th></th>\n",
       "      <th></th>\n",
       "    </tr>\n",
       "  </thead>\n",
       "  <tbody>\n",
       "    <tr>\n",
       "      <th>1</th>\n",
       "      <td>80</td>\n",
       "      <td>136</td>\n",
       "      <td>216</td>\n",
       "      <td>0.370370</td>\n",
       "    </tr>\n",
       "    <tr>\n",
       "      <th>2</th>\n",
       "      <td>97</td>\n",
       "      <td>87</td>\n",
       "      <td>184</td>\n",
       "      <td>0.527174</td>\n",
       "    </tr>\n",
       "    <tr>\n",
       "      <th>3</th>\n",
       "      <td>368</td>\n",
       "      <td>119</td>\n",
       "      <td>487</td>\n",
       "      <td>0.755647</td>\n",
       "    </tr>\n",
       "  </tbody>\n",
       "</table>\n",
       "</div>"
      ],
      "text/plain": [
       "Survived    0    1    합    생존자 비율\n",
       "Pclass                           \n",
       "1          80  136  216  0.370370\n",
       "2          97   87  184  0.527174\n",
       "3         368  119  487  0.755647"
      ]
     },
     "execution_count": 27,
     "metadata": {},
     "output_type": "execute_result"
    }
   ],
   "source": [
    "g_pclass['생존자 비율'] = g_pclass[0]/ g_pclass.합\n",
    "g_pclass"
   ]
  },
  {
   "cell_type": "code",
   "execution_count": 28,
   "id": "7563f10a",
   "metadata": {},
   "outputs": [],
   "source": [
    "g_pclass['사망자비율'] = g_pclass[1]/ g_pclass.합"
   ]
  },
  {
   "cell_type": "markdown",
   "id": "6c36738a",
   "metadata": {},
   "source": [
    "#### 행 열을 바꾸는 것이 transpose()이에용 T 대문자 로 가능"
   ]
  },
  {
   "cell_type": "code",
   "execution_count": 29,
   "id": "f77e148d",
   "metadata": {},
   "outputs": [
    {
     "data": {
      "text/html": [
       "<div>\n",
       "<style scoped>\n",
       "    .dataframe tbody tr th:only-of-type {\n",
       "        vertical-align: middle;\n",
       "    }\n",
       "\n",
       "    .dataframe tbody tr th {\n",
       "        vertical-align: top;\n",
       "    }\n",
       "\n",
       "    .dataframe thead th {\n",
       "        text-align: right;\n",
       "    }\n",
       "</style>\n",
       "<table border=\"1\" class=\"dataframe\">\n",
       "  <thead>\n",
       "    <tr style=\"text-align: right;\">\n",
       "      <th>Pclass</th>\n",
       "      <th>1</th>\n",
       "      <th>2</th>\n",
       "      <th>3</th>\n",
       "    </tr>\n",
       "    <tr>\n",
       "      <th>Survived</th>\n",
       "      <th></th>\n",
       "      <th></th>\n",
       "      <th></th>\n",
       "    </tr>\n",
       "  </thead>\n",
       "  <tbody>\n",
       "    <tr>\n",
       "      <th>0</th>\n",
       "      <td>80</td>\n",
       "      <td>97</td>\n",
       "      <td>368</td>\n",
       "    </tr>\n",
       "    <tr>\n",
       "      <th>1</th>\n",
       "      <td>136</td>\n",
       "      <td>87</td>\n",
       "      <td>119</td>\n",
       "    </tr>\n",
       "  </tbody>\n",
       "</table>\n",
       "</div>"
      ],
      "text/plain": [
       "Pclass      1   2    3\n",
       "Survived              \n",
       "0          80  97  368\n",
       "1         136  87  119"
      ]
     },
     "execution_count": 29,
     "metadata": {},
     "output_type": "execute_result"
    }
   ],
   "source": [
    "g_pclass[[0,1]].transpose()\n",
    "g_pclass[[0,1]].T"
   ]
  },
  {
   "cell_type": "markdown",
   "id": "0c59ebb1",
   "metadata": {},
   "source": [
    "### 시각화"
   ]
  },
  {
   "cell_type": "code",
   "execution_count": 30,
   "id": "a157ce74",
   "metadata": {
    "scrolled": true
   },
   "outputs": [
    {
     "data": {
      "image/png": "[encoded data removed]",
      "text/plain": [
       "<Figure size 800x800 with 3 Axes>"
      ]
     },
     "metadata": {},
     "output_type": "display_data"
    }
   ],
   "source": [
    "plt.rc('font',size=10)\n",
    "plt.rc('axes',titlesize=12)\n",
    "# plt.figure(figsize=(8,8)) #가로 세로\n",
    "\n",
    "g_pclass[[0,1]].T.plot(\n",
    "    kind='pie',\n",
    "    subplots=True,\n",
    "    figsize=(8,8),\n",
    "    ylabel='',# 빈문자로 넣으면 지울 수 있음\n",
    "    legend=False,\n",
    "    autopct='%.f%%',\n",
    "    labels=['사망자','생존자'],\n",
    "    counterclock=False,\n",
    "    colors=['Violet','MediumSeaGreen'],\n",
    "    title=['1등실','2등실','3등실'],\n",
    "    explode=[0,0.1],\n",
    "    shadow=True,\n",
    ")\n",
    "\n",
    "plt.savefig('각 등실의 생존자와 사망자 비율.jpg')"
   ]
  },
  {
   "cell_type": "markdown",
   "id": "b263958d",
   "metadata": {},
   "source": [
    "### 결론\n",
    "- 가설2 1등실 승객의 생존율이 높았을 것이다.\n",
    "    - 1등실 승객 216명 중 136명이 생존하여, 1등실 승객은 약 63%가 생존하였다.\n",
    "    - 2등실 승객 184명 중  87명이 생존하여, 2등실 승객은 약 47%가 생존하였다.\n",
    "    - 3등실 승객 487명 중 119명이 생존하여, 3등실 승객은 약 24%가 생존하였다.    \n",
    "\n",
    "    - 생존율은 1등실 약 63%로 가장 높았다."
   ]
  },
  {
   "cell_type": "markdown",
   "id": "033e3555",
   "metadata": {},
   "source": [
    "# 가설 3 사망자는 고령자가 많았을 것이다. \n",
    "-  “고령자”란 55세 이상인 사람을 말합니다\n",
    "- 「고용상 연령차별금지 및 고령자고용촉진에 관한 법률」 제2조제1호  \n",
    "- 「고용상 연령차별금지 및 고령자고용촉진에 관한 법률 시행령」 제2조제1항"
   ]
  },
  {
   "cell_type": "markdown",
   "id": "0aa3b585",
   "metadata": {},
   "source": [
    "## 연속형 continuous values -> 범주형 categorical values "
   ]
  },
  {
   "cell_type": "code",
   "execution_count": 31,
   "id": "f871e53b",
   "metadata": {},
   "outputs": [],
   "source": [
    "# 방법1 직접하기, \n",
    "# 레이블링 기존의 값에서 다른 이름 부여 \n",
    "# 범주 나누기 55세 미만, 55세 이상"
   ]
  },
  {
   "cell_type": "code",
   "execution_count": 32,
   "id": "8ea55038",
   "metadata": {},
   "outputs": [
    {
     "data": {
      "text/plain": [
       "80.0"
      ]
     },
     "execution_count": 32,
     "metadata": {},
     "output_type": "execute_result"
    }
   ],
   "source": [
    "titanic.Age.max() #최소 나이"
   ]
  },
  {
   "cell_type": "code",
   "execution_count": 33,
   "id": "f8127c3e",
   "metadata": {},
   "outputs": [
    {
     "data": {
      "text/plain": [
       "0.42"
      ]
     },
     "execution_count": 33,
     "metadata": {},
     "output_type": "execute_result"
    }
   ],
   "source": [
    "titanic.Age.min() #최대 나이"
   ]
  },
  {
   "cell_type": "code",
   "execution_count": 34,
   "id": "3ca9fb66",
   "metadata": {},
   "outputs": [
    {
     "data": {
      "text/plain": [
       "count    887.000000\n",
       "mean      29.471443\n",
       "std       14.121908\n",
       "min        0.420000\n",
       "25%       20.250000\n",
       "50%       28.000000\n",
       "75%       38.000000\n",
       "max       80.000000\n",
       "Name: Age, dtype: float64"
      ]
     },
     "execution_count": 34,
     "metadata": {},
     "output_type": "execute_result"
    }
   ],
   "source": [
    "titanic.describe()['Age']"
   ]
  },
  {
   "cell_type": "markdown",
   "id": "df5f67f0",
   "metadata": {},
   "source": [
    "### 데이터 프레임(serise 가능) \n",
    "- aggregate : 집합, 집합체\n",
    "- 함수명을 문자열로 넣기\n",
    "\n",
    "- 데이터프레임.agg(['함수명1','함수명2','함수명3'])\n",
    "- 데이터프레임.agg({'컬럼명1':'함수명1','컬럼명2':'함수명2'})\n",
    "- 데이터프레임.agg({'컬럼명1': ['함수명1','함수명2'],'컬럼명2':'함수명2'})"
   ]
  },
  {
   "cell_type": "code",
   "execution_count": 35,
   "id": "ee7e526d",
   "metadata": {
    "scrolled": false
   },
   "outputs": [
    {
     "data": {
      "text/plain": [
       "max    80.00\n",
       "min     0.42\n",
       "Name: Age, dtype: float64"
      ]
     },
     "execution_count": 35,
     "metadata": {},
     "output_type": "execute_result"
    }
   ],
   "source": [
    "titanic.Age.agg(['max','min'])"
   ]
  },
  {
   "cell_type": "code",
   "execution_count": 36,
   "id": "309aa2c3",
   "metadata": {},
   "outputs": [
    {
     "data": {
      "text/html": [
       "<div>\n",
       "<style scoped>\n",
       "    .dataframe tbody tr th:only-of-type {\n",
       "        vertical-align: middle;\n",
       "    }\n",
       "\n",
       "    .dataframe tbody tr th {\n",
       "        vertical-align: top;\n",
       "    }\n",
       "\n",
       "    .dataframe thead th {\n",
       "        text-align: right;\n",
       "    }\n",
       "</style>\n",
       "<table border=\"1\" class=\"dataframe\">\n",
       "  <thead>\n",
       "    <tr style=\"text-align: right;\">\n",
       "      <th></th>\n",
       "      <th>Survived</th>\n",
       "      <th>Pclass</th>\n",
       "      <th>Name</th>\n",
       "      <th>Gender</th>\n",
       "      <th>Age</th>\n",
       "      <th>Siblings/Spouses Aboard</th>\n",
       "      <th>Parents/Children Aboard</th>\n",
       "      <th>Fare</th>\n",
       "    </tr>\n",
       "  </thead>\n",
       "  <tbody>\n",
       "    <tr>\n",
       "      <th>max</th>\n",
       "      <td>1</td>\n",
       "      <td>3</td>\n",
       "      <td>the Countess. of (Lucy Noel Martha Dyer-Edward...</td>\n",
       "      <td>male</td>\n",
       "      <td>80.00</td>\n",
       "      <td>8</td>\n",
       "      <td>6</td>\n",
       "      <td>512.3292</td>\n",
       "    </tr>\n",
       "    <tr>\n",
       "      <th>min</th>\n",
       "      <td>0</td>\n",
       "      <td>1</td>\n",
       "      <td>Capt. Edward Gifford Crosby</td>\n",
       "      <td>female</td>\n",
       "      <td>0.42</td>\n",
       "      <td>0</td>\n",
       "      <td>0</td>\n",
       "      <td>0.0000</td>\n",
       "    </tr>\n",
       "  </tbody>\n",
       "</table>\n",
       "</div>"
      ],
      "text/plain": [
       "     Survived  Pclass                                               Name   \n",
       "max         1       3  the Countess. of (Lucy Noel Martha Dyer-Edward...  \\\n",
       "min         0       1                        Capt. Edward Gifford Crosby   \n",
       "\n",
       "     Gender    Age  Siblings/Spouses Aboard  Parents/Children Aboard      Fare  \n",
       "max    male  80.00                        8                        6  512.3292  \n",
       "min  female   0.42                        0                        0    0.0000  "
      ]
     },
     "execution_count": 36,
     "metadata": {},
     "output_type": "execute_result"
    }
   ],
   "source": [
    "titanic.agg(['max','min'])"
   ]
  },
  {
   "cell_type": "code",
   "execution_count": 37,
   "id": "dad69419",
   "metadata": {},
   "outputs": [
    {
     "data": {
      "text/html": [
       "<div>\n",
       "<style scoped>\n",
       "    .dataframe tbody tr th:only-of-type {\n",
       "        vertical-align: middle;\n",
       "    }\n",
       "\n",
       "    .dataframe tbody tr th {\n",
       "        vertical-align: top;\n",
       "    }\n",
       "\n",
       "    .dataframe thead th {\n",
       "        text-align: right;\n",
       "    }\n",
       "</style>\n",
       "<table border=\"1\" class=\"dataframe\">\n",
       "  <thead>\n",
       "    <tr style=\"text-align: right;\">\n",
       "      <th></th>\n",
       "      <th>Age</th>\n",
       "    </tr>\n",
       "  </thead>\n",
       "  <tbody>\n",
       "    <tr>\n",
       "      <th>max</th>\n",
       "      <td>80.00</td>\n",
       "    </tr>\n",
       "    <tr>\n",
       "      <th>min</th>\n",
       "      <td>0.42</td>\n",
       "    </tr>\n",
       "  </tbody>\n",
       "</table>\n",
       "</div>"
      ],
      "text/plain": [
       "       Age\n",
       "max  80.00\n",
       "min   0.42"
      ]
     },
     "execution_count": 37,
     "metadata": {},
     "output_type": "execute_result"
    }
   ],
   "source": [
    "titanic.agg({'Age':['max','min']})"
   ]
  },
  {
   "cell_type": "code",
   "execution_count": 38,
   "id": "8aef08fe",
   "metadata": {},
   "outputs": [
    {
     "data": {
      "text/html": [
       "<div>\n",
       "<style scoped>\n",
       "    .dataframe tbody tr th:only-of-type {\n",
       "        vertical-align: middle;\n",
       "    }\n",
       "\n",
       "    .dataframe tbody tr th {\n",
       "        vertical-align: top;\n",
       "    }\n",
       "\n",
       "    .dataframe thead th {\n",
       "        text-align: right;\n",
       "    }\n",
       "</style>\n",
       "<table border=\"1\" class=\"dataframe\">\n",
       "  <thead>\n",
       "    <tr style=\"text-align: right;\">\n",
       "      <th></th>\n",
       "      <th>Age</th>\n",
       "      <th>Fare</th>\n",
       "    </tr>\n",
       "  </thead>\n",
       "  <tbody>\n",
       "    <tr>\n",
       "      <th>max</th>\n",
       "      <td>80.00</td>\n",
       "      <td>NaN</td>\n",
       "    </tr>\n",
       "    <tr>\n",
       "      <th>min</th>\n",
       "      <td>0.42</td>\n",
       "      <td>NaN</td>\n",
       "    </tr>\n",
       "    <tr>\n",
       "      <th>var</th>\n",
       "      <td>NaN</td>\n",
       "      <td>2478.251546</td>\n",
       "    </tr>\n",
       "    <tr>\n",
       "      <th>mean</th>\n",
       "      <td>NaN</td>\n",
       "      <td>32.305420</td>\n",
       "    </tr>\n",
       "  </tbody>\n",
       "</table>\n",
       "</div>"
      ],
      "text/plain": [
       "        Age         Fare\n",
       "max   80.00          NaN\n",
       "min    0.42          NaN\n",
       "var     NaN  2478.251546\n",
       "mean    NaN    32.305420"
      ]
     },
     "execution_count": 38,
     "metadata": {},
     "output_type": "execute_result"
    }
   ],
   "source": [
    "titanic.agg({'Age':['max','min'],'Fare':['var','mean']})"
   ]
  },
  {
   "cell_type": "code",
   "execution_count": 39,
   "id": "18ebda3a",
   "metadata": {},
   "outputs": [
    {
     "data": {
      "text/html": [
       "<div>\n",
       "<style scoped>\n",
       "    .dataframe tbody tr th:only-of-type {\n",
       "        vertical-align: middle;\n",
       "    }\n",
       "\n",
       "    .dataframe tbody tr th {\n",
       "        vertical-align: top;\n",
       "    }\n",
       "\n",
       "    .dataframe thead th {\n",
       "        text-align: right;\n",
       "    }\n",
       "</style>\n",
       "<table border=\"1\" class=\"dataframe\">\n",
       "  <thead>\n",
       "    <tr style=\"text-align: right;\">\n",
       "      <th></th>\n",
       "      <th>max</th>\n",
       "      <th>min</th>\n",
       "      <th>var</th>\n",
       "      <th>mean</th>\n",
       "    </tr>\n",
       "  </thead>\n",
       "  <tbody>\n",
       "    <tr>\n",
       "      <th>Age</th>\n",
       "      <td>80.0</td>\n",
       "      <td>0.42</td>\n",
       "      <td>NaN</td>\n",
       "      <td>NaN</td>\n",
       "    </tr>\n",
       "    <tr>\n",
       "      <th>Fare</th>\n",
       "      <td>NaN</td>\n",
       "      <td>NaN</td>\n",
       "      <td>2478.251546</td>\n",
       "      <td>32.30542</td>\n",
       "    </tr>\n",
       "  </tbody>\n",
       "</table>\n",
       "</div>"
      ],
      "text/plain": [
       "       max   min          var      mean\n",
       "Age   80.0  0.42          NaN       NaN\n",
       "Fare   NaN   NaN  2478.251546  32.30542"
      ]
     },
     "execution_count": 39,
     "metadata": {},
     "output_type": "execute_result"
    }
   ],
   "source": [
    "#열, 행 바꾸기\n",
    "titanic.agg({'Age':['max','min'],'Fare':['var','mean']}).T"
   ]
  },
  {
   "cell_type": "code",
   "execution_count": 40,
   "id": "84bf21d3",
   "metadata": {},
   "outputs": [
    {
     "data": {
      "text/plain": [
       "Age   max       80.000000\n",
       "      min        0.420000\n",
       "      var             NaN\n",
       "      mean            NaN\n",
       "Fare  max             NaN\n",
       "      min             NaN\n",
       "      var     2478.251546\n",
       "      mean      32.305420\n",
       "dtype: float64"
      ]
     },
     "execution_count": 40,
     "metadata": {},
     "output_type": "execute_result"
    }
   ],
   "source": [
    "titanic.agg({'Age':['max','min'],'Fare':['var','mean']}).unstack()"
   ]
  },
  {
   "cell_type": "code",
   "execution_count": 41,
   "id": "639e2a47",
   "metadata": {},
   "outputs": [],
   "source": [
    "# 방법 1 직접 레이블링\n",
    "# 레이블링 : 분류된 데이터나 정보에 이름(label)을 붙이는 것\n",
    "# 55세 미만 : A\n",
    "# 55세 이상 : B\n",
    "\n",
    "#AgeBand 컬럼추가, 값은 0으로 \n",
    "titanic['AgeBand'] = 0"
   ]
  },
  {
   "cell_type": "code",
   "execution_count": 42,
   "id": "4ffd3ace",
   "metadata": {},
   "outputs": [
    {
     "name": "stdout",
     "output_type": "stream",
     "text": [
      "<class 'pandas.core.frame.DataFrame'>\n",
      "RangeIndex: 887 entries, 0 to 886\n",
      "Data columns (total 9 columns):\n",
      " #   Column                   Non-Null Count  Dtype  \n",
      "---  ------                   --------------  -----  \n",
      " 0   Survived                 887 non-null    int64  \n",
      " 1   Pclass                   887 non-null    int64  \n",
      " 2   Name                     887 non-null    object \n",
      " 3   Gender                   887 non-null    object \n",
      " 4   Age                      887 non-null    float64\n",
      " 5   Siblings/Spouses Aboard  887 non-null    int64  \n",
      " 6   Parents/Children Aboard  887 non-null    int64  \n",
      " 7   Fare                     887 non-null    float64\n",
      " 8   AgeBand                  887 non-null    int64  \n",
      "dtypes: float64(2), int64(5), object(2)\n",
      "memory usage: 62.5+ KB\n"
     ]
    }
   ],
   "source": [
    "titanic.info()"
   ]
  },
  {
   "cell_type": "code",
   "execution_count": 43,
   "id": "21ef846f",
   "metadata": {},
   "outputs": [
    {
     "data": {
      "text/plain": [
       "0      0\n",
       "1      0\n",
       "2      0\n",
       "3      0\n",
       "4      0\n",
       "      ..\n",
       "882    0\n",
       "883    0\n",
       "884    0\n",
       "885    0\n",
       "886    0\n",
       "Name: AgeBand, Length: 887, dtype: object"
      ]
     },
     "execution_count": 43,
     "metadata": {},
     "output_type": "execute_result"
    }
   ],
   "source": [
    "titanic.AgeBand.astype(str)"
   ]
  },
  {
   "cell_type": "code",
   "execution_count": 44,
   "id": "4c5d256a",
   "metadata": {},
   "outputs": [
    {
     "data": {
      "text/html": [
       "<div>\n",
       "<style scoped>\n",
       "    .dataframe tbody tr th:only-of-type {\n",
       "        vertical-align: middle;\n",
       "    }\n",
       "\n",
       "    .dataframe tbody tr th {\n",
       "        vertical-align: top;\n",
       "    }\n",
       "\n",
       "    .dataframe thead th {\n",
       "        text-align: right;\n",
       "    }\n",
       "</style>\n",
       "<table border=\"1\" class=\"dataframe\">\n",
       "  <thead>\n",
       "    <tr style=\"text-align: right;\">\n",
       "      <th></th>\n",
       "      <th>Survived</th>\n",
       "      <th>Pclass</th>\n",
       "      <th>Name</th>\n",
       "      <th>Gender</th>\n",
       "      <th>Age</th>\n",
       "      <th>Siblings/Spouses Aboard</th>\n",
       "      <th>Parents/Children Aboard</th>\n",
       "      <th>Fare</th>\n",
       "      <th>AgeBand</th>\n",
       "    </tr>\n",
       "  </thead>\n",
       "  <tbody>\n",
       "    <tr>\n",
       "      <th>11</th>\n",
       "      <td>1</td>\n",
       "      <td>1</td>\n",
       "      <td>Miss. Elizabeth Bonnell</td>\n",
       "      <td>female</td>\n",
       "      <td>58.0</td>\n",
       "      <td>0</td>\n",
       "      <td>0</td>\n",
       "      <td>26.5500</td>\n",
       "      <td>B</td>\n",
       "    </tr>\n",
       "    <tr>\n",
       "      <th>15</th>\n",
       "      <td>1</td>\n",
       "      <td>2</td>\n",
       "      <td>Mrs. (Mary D Kingcome) Hewlett</td>\n",
       "      <td>female</td>\n",
       "      <td>55.0</td>\n",
       "      <td>0</td>\n",
       "      <td>0</td>\n",
       "      <td>16.0000</td>\n",
       "      <td>B</td>\n",
       "    </tr>\n",
       "    <tr>\n",
       "      <th>33</th>\n",
       "      <td>0</td>\n",
       "      <td>2</td>\n",
       "      <td>Mr. Edward H Wheadon</td>\n",
       "      <td>male</td>\n",
       "      <td>66.0</td>\n",
       "      <td>0</td>\n",
       "      <td>0</td>\n",
       "      <td>10.5000</td>\n",
       "      <td>B</td>\n",
       "    </tr>\n",
       "    <tr>\n",
       "      <th>53</th>\n",
       "      <td>0</td>\n",
       "      <td>1</td>\n",
       "      <td>Mr. Engelhart Cornelius Ostby</td>\n",
       "      <td>male</td>\n",
       "      <td>65.0</td>\n",
       "      <td>0</td>\n",
       "      <td>1</td>\n",
       "      <td>61.9792</td>\n",
       "      <td>B</td>\n",
       "    </tr>\n",
       "    <tr>\n",
       "      <th>63</th>\n",
       "      <td>0</td>\n",
       "      <td>1</td>\n",
       "      <td>Mr. Albert A Stewart</td>\n",
       "      <td>male</td>\n",
       "      <td>64.0</td>\n",
       "      <td>0</td>\n",
       "      <td>0</td>\n",
       "      <td>27.7208</td>\n",
       "      <td>B</td>\n",
       "    </tr>\n",
       "    <tr>\n",
       "      <th>93</th>\n",
       "      <td>0</td>\n",
       "      <td>3</td>\n",
       "      <td>Mr. Daniel Coxon</td>\n",
       "      <td>male</td>\n",
       "      <td>59.0</td>\n",
       "      <td>0</td>\n",
       "      <td>0</td>\n",
       "      <td>7.2500</td>\n",
       "      <td>B</td>\n",
       "    </tr>\n",
       "    <tr>\n",
       "      <th>95</th>\n",
       "      <td>0</td>\n",
       "      <td>1</td>\n",
       "      <td>Mr. George B Goldschmidt</td>\n",
       "      <td>male</td>\n",
       "      <td>71.0</td>\n",
       "      <td>0</td>\n",
       "      <td>0</td>\n",
       "      <td>34.6542</td>\n",
       "      <td>B</td>\n",
       "    </tr>\n",
       "    <tr>\n",
       "      <th>115</th>\n",
       "      <td>0</td>\n",
       "      <td>3</td>\n",
       "      <td>Mr. Patrick Connors</td>\n",
       "      <td>male</td>\n",
       "      <td>70.5</td>\n",
       "      <td>0</td>\n",
       "      <td>0</td>\n",
       "      <td>7.7500</td>\n",
       "      <td>B</td>\n",
       "    </tr>\n",
       "    <tr>\n",
       "      <th>151</th>\n",
       "      <td>0</td>\n",
       "      <td>3</td>\n",
       "      <td>Mr. Alfonzo Meo</td>\n",
       "      <td>male</td>\n",
       "      <td>55.5</td>\n",
       "      <td>0</td>\n",
       "      <td>0</td>\n",
       "      <td>8.0500</td>\n",
       "      <td>B</td>\n",
       "    </tr>\n",
       "    <tr>\n",
       "      <th>167</th>\n",
       "      <td>0</td>\n",
       "      <td>1</td>\n",
       "      <td>Mr. John D Baumann</td>\n",
       "      <td>male</td>\n",
       "      <td>60.0</td>\n",
       "      <td>0</td>\n",
       "      <td>0</td>\n",
       "      <td>25.9250</td>\n",
       "      <td>B</td>\n",
       "    </tr>\n",
       "    <tr>\n",
       "      <th>169</th>\n",
       "      <td>0</td>\n",
       "      <td>1</td>\n",
       "      <td>Mr. Wyckoff Van der hoef</td>\n",
       "      <td>male</td>\n",
       "      <td>61.0</td>\n",
       "      <td>0</td>\n",
       "      <td>0</td>\n",
       "      <td>33.5000</td>\n",
       "      <td>B</td>\n",
       "    </tr>\n",
       "    <tr>\n",
       "      <th>173</th>\n",
       "      <td>0</td>\n",
       "      <td>1</td>\n",
       "      <td>Mr. James Clinch Smith</td>\n",
       "      <td>male</td>\n",
       "      <td>56.0</td>\n",
       "      <td>0</td>\n",
       "      <td>0</td>\n",
       "      <td>30.6958</td>\n",
       "      <td>B</td>\n",
       "    </tr>\n",
       "    <tr>\n",
       "      <th>194</th>\n",
       "      <td>1</td>\n",
       "      <td>1</td>\n",
       "      <td>Miss. Elise Lurette</td>\n",
       "      <td>female</td>\n",
       "      <td>58.0</td>\n",
       "      <td>0</td>\n",
       "      <td>0</td>\n",
       "      <td>146.5208</td>\n",
       "      <td>B</td>\n",
       "    </tr>\n",
       "    <tr>\n",
       "      <th>231</th>\n",
       "      <td>0</td>\n",
       "      <td>2</td>\n",
       "      <td>Mr. Ernst Adolf Sjostedt</td>\n",
       "      <td>male</td>\n",
       "      <td>59.0</td>\n",
       "      <td>0</td>\n",
       "      <td>0</td>\n",
       "      <td>13.5000</td>\n",
       "      <td>B</td>\n",
       "    </tr>\n",
       "    <tr>\n",
       "      <th>251</th>\n",
       "      <td>0</td>\n",
       "      <td>1</td>\n",
       "      <td>Mr. William Thomas Stead</td>\n",
       "      <td>male</td>\n",
       "      <td>62.0</td>\n",
       "      <td>0</td>\n",
       "      <td>0</td>\n",
       "      <td>26.5500</td>\n",
       "      <td>B</td>\n",
       "    </tr>\n",
       "    <tr>\n",
       "      <th>266</th>\n",
       "      <td>1</td>\n",
       "      <td>1</td>\n",
       "      <td>Mrs. William Thompson (Edith Junkins) Graham</td>\n",
       "      <td>female</td>\n",
       "      <td>58.0</td>\n",
       "      <td>0</td>\n",
       "      <td>1</td>\n",
       "      <td>153.4625</td>\n",
       "      <td>B</td>\n",
       "    </tr>\n",
       "    <tr>\n",
       "      <th>273</th>\n",
       "      <td>1</td>\n",
       "      <td>1</td>\n",
       "      <td>Miss. Kornelia Theodosia Andrews</td>\n",
       "      <td>female</td>\n",
       "      <td>63.0</td>\n",
       "      <td>1</td>\n",
       "      <td>0</td>\n",
       "      <td>77.9583</td>\n",
       "      <td>B</td>\n",
       "    </tr>\n",
       "    <tr>\n",
       "      <th>278</th>\n",
       "      <td>0</td>\n",
       "      <td>3</td>\n",
       "      <td>Mr. Frank Duane</td>\n",
       "      <td>male</td>\n",
       "      <td>65.0</td>\n",
       "      <td>0</td>\n",
       "      <td>0</td>\n",
       "      <td>7.7500</td>\n",
       "      <td>B</td>\n",
       "    </tr>\n",
       "    <tr>\n",
       "      <th>282</th>\n",
       "      <td>0</td>\n",
       "      <td>1</td>\n",
       "      <td>Mr. Richard William Smith</td>\n",
       "      <td>male</td>\n",
       "      <td>57.0</td>\n",
       "      <td>0</td>\n",
       "      <td>0</td>\n",
       "      <td>26.0000</td>\n",
       "      <td>B</td>\n",
       "    </tr>\n",
       "    <tr>\n",
       "      <th>324</th>\n",
       "      <td>0</td>\n",
       "      <td>3</td>\n",
       "      <td>Mr. Johan Hansen Nysveen</td>\n",
       "      <td>male</td>\n",
       "      <td>61.0</td>\n",
       "      <td>0</td>\n",
       "      <td>0</td>\n",
       "      <td>6.2375</td>\n",
       "      <td>B</td>\n",
       "    </tr>\n",
       "    <tr>\n",
       "      <th>364</th>\n",
       "      <td>1</td>\n",
       "      <td>1</td>\n",
       "      <td>Mrs. Frank Manley (Anna Sophia Atkinson) Warren</td>\n",
       "      <td>female</td>\n",
       "      <td>60.0</td>\n",
       "      <td>1</td>\n",
       "      <td>0</td>\n",
       "      <td>75.2500</td>\n",
       "      <td>B</td>\n",
       "    </tr>\n",
       "    <tr>\n",
       "      <th>435</th>\n",
       "      <td>0</td>\n",
       "      <td>1</td>\n",
       "      <td>Mr. Mark Fortune</td>\n",
       "      <td>male</td>\n",
       "      <td>64.0</td>\n",
       "      <td>1</td>\n",
       "      <td>4</td>\n",
       "      <td>263.0000</td>\n",
       "      <td>B</td>\n",
       "    </tr>\n",
       "    <tr>\n",
       "      <th>453</th>\n",
       "      <td>0</td>\n",
       "      <td>1</td>\n",
       "      <td>Mr. Francis Davis Millet</td>\n",
       "      <td>male</td>\n",
       "      <td>65.0</td>\n",
       "      <td>0</td>\n",
       "      <td>0</td>\n",
       "      <td>26.5500</td>\n",
       "      <td>B</td>\n",
       "    </tr>\n",
       "    <tr>\n",
       "      <th>464</th>\n",
       "      <td>0</td>\n",
       "      <td>1</td>\n",
       "      <td>Mr. John Montgomery Smart</td>\n",
       "      <td>male</td>\n",
       "      <td>56.0</td>\n",
       "      <td>0</td>\n",
       "      <td>0</td>\n",
       "      <td>26.5500</td>\n",
       "      <td>B</td>\n",
       "    </tr>\n",
       "    <tr>\n",
       "      <th>480</th>\n",
       "      <td>1</td>\n",
       "      <td>3</td>\n",
       "      <td>Mrs. (Hedwig) Turkula</td>\n",
       "      <td>female</td>\n",
       "      <td>63.0</td>\n",
       "      <td>0</td>\n",
       "      <td>0</td>\n",
       "      <td>9.5875</td>\n",
       "      <td>B</td>\n",
       "    </tr>\n",
       "    <tr>\n",
       "      <th>484</th>\n",
       "      <td>0</td>\n",
       "      <td>1</td>\n",
       "      <td>Mr. Edward Austin Kent</td>\n",
       "      <td>male</td>\n",
       "      <td>58.0</td>\n",
       "      <td>0</td>\n",
       "      <td>0</td>\n",
       "      <td>29.7000</td>\n",
       "      <td>B</td>\n",
       "    </tr>\n",
       "    <tr>\n",
       "      <th>489</th>\n",
       "      <td>0</td>\n",
       "      <td>1</td>\n",
       "      <td>Mr. Harry Markland Molson</td>\n",
       "      <td>male</td>\n",
       "      <td>55.0</td>\n",
       "      <td>0</td>\n",
       "      <td>0</td>\n",
       "      <td>30.5000</td>\n",
       "      <td>B</td>\n",
       "    </tr>\n",
       "    <tr>\n",
       "      <th>490</th>\n",
       "      <td>0</td>\n",
       "      <td>1</td>\n",
       "      <td>Mr. Ramon Artagaveytia</td>\n",
       "      <td>male</td>\n",
       "      <td>71.0</td>\n",
       "      <td>0</td>\n",
       "      <td>0</td>\n",
       "      <td>49.5042</td>\n",
       "      <td>B</td>\n",
       "    </tr>\n",
       "    <tr>\n",
       "      <th>494</th>\n",
       "      <td>0</td>\n",
       "      <td>3</td>\n",
       "      <td>Mr. Frederick William Shellard</td>\n",
       "      <td>male</td>\n",
       "      <td>55.0</td>\n",
       "      <td>0</td>\n",
       "      <td>0</td>\n",
       "      <td>15.1000</td>\n",
       "      <td>B</td>\n",
       "    </tr>\n",
       "    <tr>\n",
       "      <th>508</th>\n",
       "      <td>0</td>\n",
       "      <td>3</td>\n",
       "      <td>Mr. James Webber</td>\n",
       "      <td>male</td>\n",
       "      <td>66.0</td>\n",
       "      <td>0</td>\n",
       "      <td>0</td>\n",
       "      <td>8.0500</td>\n",
       "      <td>B</td>\n",
       "    </tr>\n",
       "    <tr>\n",
       "      <th>535</th>\n",
       "      <td>0</td>\n",
       "      <td>3</td>\n",
       "      <td>Mr. Samuel Beard Risien</td>\n",
       "      <td>male</td>\n",
       "      <td>69.0</td>\n",
       "      <td>0</td>\n",
       "      <td>0</td>\n",
       "      <td>14.5000</td>\n",
       "      <td>B</td>\n",
       "    </tr>\n",
       "    <tr>\n",
       "      <th>542</th>\n",
       "      <td>0</td>\n",
       "      <td>1</td>\n",
       "      <td>Mr. Arthur Ernest Nicholson</td>\n",
       "      <td>male</td>\n",
       "      <td>64.0</td>\n",
       "      <td>0</td>\n",
       "      <td>0</td>\n",
       "      <td>26.0000</td>\n",
       "      <td>B</td>\n",
       "    </tr>\n",
       "    <tr>\n",
       "      <th>552</th>\n",
       "      <td>0</td>\n",
       "      <td>1</td>\n",
       "      <td>Mr. George Wright</td>\n",
       "      <td>male</td>\n",
       "      <td>62.0</td>\n",
       "      <td>0</td>\n",
       "      <td>0</td>\n",
       "      <td>26.5500</td>\n",
       "      <td>B</td>\n",
       "    </tr>\n",
       "    <tr>\n",
       "      <th>561</th>\n",
       "      <td>0</td>\n",
       "      <td>3</td>\n",
       "      <td>Miss. (Marion Ogden) Meanwell</td>\n",
       "      <td>female</td>\n",
       "      <td>62.0</td>\n",
       "      <td>0</td>\n",
       "      <td>0</td>\n",
       "      <td>8.0500</td>\n",
       "      <td>B</td>\n",
       "    </tr>\n",
       "    <tr>\n",
       "      <th>567</th>\n",
       "      <td>1</td>\n",
       "      <td>2</td>\n",
       "      <td>Mr. George Harris</td>\n",
       "      <td>male</td>\n",
       "      <td>62.0</td>\n",
       "      <td>0</td>\n",
       "      <td>0</td>\n",
       "      <td>10.5000</td>\n",
       "      <td>B</td>\n",
       "    </tr>\n",
       "    <tr>\n",
       "      <th>584</th>\n",
       "      <td>1</td>\n",
       "      <td>1</td>\n",
       "      <td>Mr. Maxmillian Frolicher-Stehli</td>\n",
       "      <td>male</td>\n",
       "      <td>60.0</td>\n",
       "      <td>1</td>\n",
       "      <td>1</td>\n",
       "      <td>79.2000</td>\n",
       "      <td>B</td>\n",
       "    </tr>\n",
       "    <tr>\n",
       "      <th>622</th>\n",
       "      <td>0</td>\n",
       "      <td>1</td>\n",
       "      <td>Mr. Frederick Sutton</td>\n",
       "      <td>male</td>\n",
       "      <td>61.0</td>\n",
       "      <td>0</td>\n",
       "      <td>0</td>\n",
       "      <td>32.3208</td>\n",
       "      <td>B</td>\n",
       "    </tr>\n",
       "    <tr>\n",
       "      <th>623</th>\n",
       "      <td>0</td>\n",
       "      <td>2</td>\n",
       "      <td>Rev. Charles Leonard Kirkland</td>\n",
       "      <td>male</td>\n",
       "      <td>57.0</td>\n",
       "      <td>0</td>\n",
       "      <td>0</td>\n",
       "      <td>12.3500</td>\n",
       "      <td>B</td>\n",
       "    </tr>\n",
       "    <tr>\n",
       "      <th>627</th>\n",
       "      <td>1</td>\n",
       "      <td>1</td>\n",
       "      <td>Mr. Algernon Henry Wilson Barkworth</td>\n",
       "      <td>male</td>\n",
       "      <td>80.0</td>\n",
       "      <td>0</td>\n",
       "      <td>0</td>\n",
       "      <td>30.0000</td>\n",
       "      <td>B</td>\n",
       "    </tr>\n",
       "    <tr>\n",
       "      <th>644</th>\n",
       "      <td>1</td>\n",
       "      <td>1</td>\n",
       "      <td>Col. Oberst Alfons Simonius-Blumer</td>\n",
       "      <td>male</td>\n",
       "      <td>56.0</td>\n",
       "      <td>0</td>\n",
       "      <td>0</td>\n",
       "      <td>35.5000</td>\n",
       "      <td>B</td>\n",
       "    </tr>\n",
       "    <tr>\n",
       "      <th>656</th>\n",
       "      <td>0</td>\n",
       "      <td>1</td>\n",
       "      <td>Mr. Arthur Webster Newell</td>\n",
       "      <td>male</td>\n",
       "      <td>58.0</td>\n",
       "      <td>0</td>\n",
       "      <td>2</td>\n",
       "      <td>113.2750</td>\n",
       "      <td>B</td>\n",
       "    </tr>\n",
       "    <tr>\n",
       "      <th>669</th>\n",
       "      <td>0</td>\n",
       "      <td>2</td>\n",
       "      <td>Mr. Henry Michael Mitchell</td>\n",
       "      <td>male</td>\n",
       "      <td>70.0</td>\n",
       "      <td>0</td>\n",
       "      <td>0</td>\n",
       "      <td>10.5000</td>\n",
       "      <td>B</td>\n",
       "    </tr>\n",
       "    <tr>\n",
       "      <th>681</th>\n",
       "      <td>0</td>\n",
       "      <td>2</td>\n",
       "      <td>Mr. Thomas William Solomon Brown</td>\n",
       "      <td>male</td>\n",
       "      <td>60.0</td>\n",
       "      <td>1</td>\n",
       "      <td>1</td>\n",
       "      <td>39.0000</td>\n",
       "      <td>B</td>\n",
       "    </tr>\n",
       "    <tr>\n",
       "      <th>691</th>\n",
       "      <td>0</td>\n",
       "      <td>1</td>\n",
       "      <td>Col. John Weir</td>\n",
       "      <td>male</td>\n",
       "      <td>60.0</td>\n",
       "      <td>0</td>\n",
       "      <td>0</td>\n",
       "      <td>26.5500</td>\n",
       "      <td>B</td>\n",
       "    </tr>\n",
       "    <tr>\n",
       "      <th>741</th>\n",
       "      <td>0</td>\n",
       "      <td>1</td>\n",
       "      <td>Capt. Edward Gifford Crosby</td>\n",
       "      <td>male</td>\n",
       "      <td>70.0</td>\n",
       "      <td>1</td>\n",
       "      <td>1</td>\n",
       "      <td>71.0000</td>\n",
       "      <td>B</td>\n",
       "    </tr>\n",
       "    <tr>\n",
       "      <th>768</th>\n",
       "      <td>0</td>\n",
       "      <td>2</td>\n",
       "      <td>Mrs. (Mary) Mack</td>\n",
       "      <td>female</td>\n",
       "      <td>57.0</td>\n",
       "      <td>0</td>\n",
       "      <td>0</td>\n",
       "      <td>10.5000</td>\n",
       "      <td>B</td>\n",
       "    </tr>\n",
       "    <tr>\n",
       "      <th>825</th>\n",
       "      <td>1</td>\n",
       "      <td>1</td>\n",
       "      <td>Mrs. George Nelson (Martha Evelyn) Stone</td>\n",
       "      <td>female</td>\n",
       "      <td>62.0</td>\n",
       "      <td>0</td>\n",
       "      <td>0</td>\n",
       "      <td>80.0000</td>\n",
       "      <td>B</td>\n",
       "    </tr>\n",
       "    <tr>\n",
       "      <th>847</th>\n",
       "      <td>0</td>\n",
       "      <td>3</td>\n",
       "      <td>Mr. Johan Svensson</td>\n",
       "      <td>male</td>\n",
       "      <td>74.0</td>\n",
       "      <td>0</td>\n",
       "      <td>0</td>\n",
       "      <td>7.7750</td>\n",
       "      <td>B</td>\n",
       "    </tr>\n",
       "    <tr>\n",
       "      <th>875</th>\n",
       "      <td>1</td>\n",
       "      <td>1</td>\n",
       "      <td>Mrs. Thomas Jr (Lily Alexenia Wilson) Potter</td>\n",
       "      <td>female</td>\n",
       "      <td>56.0</td>\n",
       "      <td>0</td>\n",
       "      <td>1</td>\n",
       "      <td>83.1583</td>\n",
       "      <td>B</td>\n",
       "    </tr>\n",
       "  </tbody>\n",
       "</table>\n",
       "</div>"
      ],
      "text/plain": [
       "     Survived  Pclass                                             Name   \n",
       "11          1       1                          Miss. Elizabeth Bonnell  \\\n",
       "15          1       2                   Mrs. (Mary D Kingcome) Hewlett   \n",
       "33          0       2                             Mr. Edward H Wheadon   \n",
       "53          0       1                    Mr. Engelhart Cornelius Ostby   \n",
       "63          0       1                             Mr. Albert A Stewart   \n",
       "93          0       3                                 Mr. Daniel Coxon   \n",
       "95          0       1                         Mr. George B Goldschmidt   \n",
       "115         0       3                              Mr. Patrick Connors   \n",
       "151         0       3                                  Mr. Alfonzo Meo   \n",
       "167         0       1                               Mr. John D Baumann   \n",
       "169         0       1                         Mr. Wyckoff Van der hoef   \n",
       "173         0       1                           Mr. James Clinch Smith   \n",
       "194         1       1                              Miss. Elise Lurette   \n",
       "231         0       2                         Mr. Ernst Adolf Sjostedt   \n",
       "251         0       1                         Mr. William Thomas Stead   \n",
       "266         1       1     Mrs. William Thompson (Edith Junkins) Graham   \n",
       "273         1       1                 Miss. Kornelia Theodosia Andrews   \n",
       "278         0       3                                  Mr. Frank Duane   \n",
       "282         0       1                        Mr. Richard William Smith   \n",
       "324         0       3                         Mr. Johan Hansen Nysveen   \n",
       "364         1       1  Mrs. Frank Manley (Anna Sophia Atkinson) Warren   \n",
       "435         0       1                                 Mr. Mark Fortune   \n",
       "453         0       1                         Mr. Francis Davis Millet   \n",
       "464         0       1                        Mr. John Montgomery Smart   \n",
       "480         1       3                            Mrs. (Hedwig) Turkula   \n",
       "484         0       1                           Mr. Edward Austin Kent   \n",
       "489         0       1                        Mr. Harry Markland Molson   \n",
       "490         0       1                           Mr. Ramon Artagaveytia   \n",
       "494         0       3                   Mr. Frederick William Shellard   \n",
       "508         0       3                                 Mr. James Webber   \n",
       "535         0       3                          Mr. Samuel Beard Risien   \n",
       "542         0       1                      Mr. Arthur Ernest Nicholson   \n",
       "552         0       1                                Mr. George Wright   \n",
       "561         0       3                    Miss. (Marion Ogden) Meanwell   \n",
       "567         1       2                                Mr. George Harris   \n",
       "584         1       1                  Mr. Maxmillian Frolicher-Stehli   \n",
       "622         0       1                             Mr. Frederick Sutton   \n",
       "623         0       2                    Rev. Charles Leonard Kirkland   \n",
       "627         1       1              Mr. Algernon Henry Wilson Barkworth   \n",
       "644         1       1               Col. Oberst Alfons Simonius-Blumer   \n",
       "656         0       1                        Mr. Arthur Webster Newell   \n",
       "669         0       2                       Mr. Henry Michael Mitchell   \n",
       "681         0       2                 Mr. Thomas William Solomon Brown   \n",
       "691         0       1                                   Col. John Weir   \n",
       "741         0       1                      Capt. Edward Gifford Crosby   \n",
       "768         0       2                                 Mrs. (Mary) Mack   \n",
       "825         1       1         Mrs. George Nelson (Martha Evelyn) Stone   \n",
       "847         0       3                               Mr. Johan Svensson   \n",
       "875         1       1     Mrs. Thomas Jr (Lily Alexenia Wilson) Potter   \n",
       "\n",
       "     Gender   Age  Siblings/Spouses Aboard  Parents/Children Aboard      Fare   \n",
       "11   female  58.0                        0                        0   26.5500  \\\n",
       "15   female  55.0                        0                        0   16.0000   \n",
       "33     male  66.0                        0                        0   10.5000   \n",
       "53     male  65.0                        0                        1   61.9792   \n",
       "63     male  64.0                        0                        0   27.7208   \n",
       "93     male  59.0                        0                        0    7.2500   \n",
       "95     male  71.0                        0                        0   34.6542   \n",
       "115    male  70.5                        0                        0    7.7500   \n",
       "151    male  55.5                        0                        0    8.0500   \n",
       "167    male  60.0                        0                        0   25.9250   \n",
       "169    male  61.0                        0                        0   33.5000   \n",
       "173    male  56.0                        0                        0   30.6958   \n",
       "194  female  58.0                        0                        0  146.5208   \n",
       "231    male  59.0                        0                        0   13.5000   \n",
       "251    male  62.0                        0                        0   26.5500   \n",
       "266  female  58.0                        0                        1  153.4625   \n",
       "273  female  63.0                        1                        0   77.9583   \n",
       "278    male  65.0                        0                        0    7.7500   \n",
       "282    male  57.0                        0                        0   26.0000   \n",
       "324    male  61.0                        0                        0    6.2375   \n",
       "364  female  60.0                        1                        0   75.2500   \n",
       "435    male  64.0                        1                        4  263.0000   \n",
       "453    male  65.0                        0                        0   26.5500   \n",
       "464    male  56.0                        0                        0   26.5500   \n",
       "480  female  63.0                        0                        0    9.5875   \n",
       "484    male  58.0                        0                        0   29.7000   \n",
       "489    male  55.0                        0                        0   30.5000   \n",
       "490    male  71.0                        0                        0   49.5042   \n",
       "494    male  55.0                        0                        0   15.1000   \n",
       "508    male  66.0                        0                        0    8.0500   \n",
       "535    male  69.0                        0                        0   14.5000   \n",
       "542    male  64.0                        0                        0   26.0000   \n",
       "552    male  62.0                        0                        0   26.5500   \n",
       "561  female  62.0                        0                        0    8.0500   \n",
       "567    male  62.0                        0                        0   10.5000   \n",
       "584    male  60.0                        1                        1   79.2000   \n",
       "622    male  61.0                        0                        0   32.3208   \n",
       "623    male  57.0                        0                        0   12.3500   \n",
       "627    male  80.0                        0                        0   30.0000   \n",
       "644    male  56.0                        0                        0   35.5000   \n",
       "656    male  58.0                        0                        2  113.2750   \n",
       "669    male  70.0                        0                        0   10.5000   \n",
       "681    male  60.0                        1                        1   39.0000   \n",
       "691    male  60.0                        0                        0   26.5500   \n",
       "741    male  70.0                        1                        1   71.0000   \n",
       "768  female  57.0                        0                        0   10.5000   \n",
       "825  female  62.0                        0                        0   80.0000   \n",
       "847    male  74.0                        0                        0    7.7750   \n",
       "875  female  56.0                        0                        1   83.1583   \n",
       "\n",
       "    AgeBand  \n",
       "11        B  \n",
       "15        B  \n",
       "33        B  \n",
       "53        B  \n",
       "63        B  \n",
       "93        B  \n",
       "95        B  \n",
       "115       B  \n",
       "151       B  \n",
       "167       B  \n",
       "169       B  \n",
       "173       B  \n",
       "194       B  \n",
       "231       B  \n",
       "251       B  \n",
       "266       B  \n",
       "273       B  \n",
       "278       B  \n",
       "282       B  \n",
       "324       B  \n",
       "364       B  \n",
       "435       B  \n",
       "453       B  \n",
       "464       B  \n",
       "480       B  \n",
       "484       B  \n",
       "489       B  \n",
       "490       B  \n",
       "494       B  \n",
       "508       B  \n",
       "535       B  \n",
       "542       B  \n",
       "552       B  \n",
       "561       B  \n",
       "567       B  \n",
       "584       B  \n",
       "622       B  \n",
       "623       B  \n",
       "627       B  \n",
       "644       B  \n",
       "656       B  \n",
       "669       B  \n",
       "681       B  \n",
       "691       B  \n",
       "741       B  \n",
       "768       B  \n",
       "825       B  \n",
       "847       B  \n",
       "875       B  "
      ]
     },
     "execution_count": 44,
     "metadata": {},
     "output_type": "execute_result"
    }
   ],
   "source": [
    "titanic.loc[titanic.Age < 55, 'AgeBand'] = 'A'\n",
    "\n",
    "titanic.loc[titanic.Age >= 55, 'AgeBand'] ='B'\n",
    "\n",
    "titanic[titanic['Age']>=55]"
   ]
  },
  {
   "cell_type": "code",
   "execution_count": 45,
   "id": "3bc9f431",
   "metadata": {},
   "outputs": [
    {
     "data": {
      "text/plain": [
       "AgeBand\n",
       "A    838\n",
       "B     49\n",
       "Name: count, dtype: int64"
      ]
     },
     "execution_count": 45,
     "metadata": {},
     "output_type": "execute_result"
    }
   ],
   "source": [
    "#55세 미만, 55세 이상 승객수\n",
    "titanic.AgeBand.value_counts()"
   ]
  },
  {
   "cell_type": "code",
   "execution_count": 46,
   "id": "17f194bb",
   "metadata": {},
   "outputs": [],
   "source": [
    "##[방법2] cut() 함수"
   ]
  },
  {
   "cell_type": "code",
   "execution_count": 47,
   "id": "8fd2d35f",
   "metadata": {},
   "outputs": [],
   "source": [
    "data = pd.DataFrame({'짝수':[2,4,6]})"
   ]
  },
  {
   "cell_type": "code",
   "execution_count": 48,
   "id": "70de9619",
   "metadata": {},
   "outputs": [
    {
     "data": {
      "text/plain": [
       "0    NaN\n",
       "1      A\n",
       "2    NaN\n",
       "Name: 짝수, dtype: category\n",
       "Categories (1, object): ['A']"
      ]
     },
     "execution_count": 48,
     "metadata": {},
     "output_type": "execute_result"
    }
   ],
   "source": [
    "#[시:끝]\n",
    "#포함 제외\n",
    "# 아래 4,5 포함이라고 볼 수 있다.\n",
    "#구간에 맞춰서 labels = 구간 설정\n",
    "pd.cut(data.짝수, bins=[3,5], labels=['A'])"
   ]
  },
  {
   "cell_type": "code",
   "execution_count": 49,
   "id": "44f079b4",
   "metadata": {},
   "outputs": [
    {
     "data": {
      "text/plain": [
       "0      A\n",
       "1      B\n",
       "2    NaN\n",
       "Name: 짝수, dtype: category\n",
       "Categories (2, object): ['A' < 'B']"
      ]
     },
     "execution_count": 49,
     "metadata": {},
     "output_type": "execute_result"
    }
   ],
   "source": [
    "#[시:끝]\n",
    "#포함 제외\n",
    "# 아래 두구간 1번 구간 2~3, 2번 구간 4,5 포함이라고 볼 수 있다. 앞쪽은 포함된 상태\n",
    "#구간에 맞춰서 labels = 구간 설정, \n",
    "pd.cut(data.짝수, bins=[1,3,5], labels=['A','B'])"
   ]
  },
  {
   "cell_type": "code",
   "execution_count": 50,
   "id": "a8651b61",
   "metadata": {},
   "outputs": [
    {
     "data": {
      "text/plain": [
       "0    A\n",
       "1    B\n",
       "2    B\n",
       "Name: 짝수, dtype: category\n",
       "Categories (2, object): ['A' < 'B']"
      ]
     },
     "execution_count": 50,
     "metadata": {},
     "output_type": "execute_result"
    }
   ],
   "source": [
    "#[시:끝]\n",
    "#포함 제외\n",
    "# 아래 두구간 1번 구간 2~3, 2번 구간 4,6 포함이라고 볼 수 있다. 앞쪽은 포함된 상태\n",
    "#구간에 맞춰서 labels = 구간 설정, \n",
    "#타입이 카테고리로 변경된다.\n",
    "pd.cut(data.짝수, bins=[1,3,6], labels=['A','B'])"
   ]
  },
  {
   "cell_type": "code",
   "execution_count": 51,
   "id": "af140f85",
   "metadata": {},
   "outputs": [],
   "source": [
    "titanic['AgeCut'] = 0"
   ]
  },
  {
   "cell_type": "code",
   "execution_count": 52,
   "id": "6b2e4d59",
   "metadata": {
    "scrolled": true
   },
   "outputs": [
    {
     "data": {
      "text/plain": [
       "min     0.42\n",
       "max    80.00\n",
       "Name: Age, dtype: float64"
      ]
     },
     "execution_count": 52,
     "metadata": {},
     "output_type": "execute_result"
    }
   ],
   "source": [
    "titanic.agg(['min','max'])['Age']"
   ]
  },
  {
   "cell_type": "code",
   "execution_count": 53,
   "id": "0bdd8d53",
   "metadata": {},
   "outputs": [],
   "source": [
    "titanic['AgeCut']= pd.cut(titanic.Age, bins=[-1,54,80],labels=['A','B'])"
   ]
  },
  {
   "cell_type": "code",
   "execution_count": 54,
   "id": "58b8ba72",
   "metadata": {},
   "outputs": [
    {
     "data": {
      "text/html": [
       "<div>\n",
       "<style scoped>\n",
       "    .dataframe tbody tr th:only-of-type {\n",
       "        vertical-align: middle;\n",
       "    }\n",
       "\n",
       "    .dataframe tbody tr th {\n",
       "        vertical-align: top;\n",
       "    }\n",
       "\n",
       "    .dataframe thead th {\n",
       "        text-align: right;\n",
       "    }\n",
       "</style>\n",
       "<table border=\"1\" class=\"dataframe\">\n",
       "  <thead>\n",
       "    <tr style=\"text-align: right;\">\n",
       "      <th></th>\n",
       "      <th>Survived</th>\n",
       "      <th>Pclass</th>\n",
       "      <th>Name</th>\n",
       "      <th>Gender</th>\n",
       "      <th>Age</th>\n",
       "      <th>Siblings/Spouses Aboard</th>\n",
       "      <th>Parents/Children Aboard</th>\n",
       "      <th>Fare</th>\n",
       "      <th>AgeBand</th>\n",
       "      <th>AgeCut</th>\n",
       "    </tr>\n",
       "  </thead>\n",
       "  <tbody>\n",
       "    <tr>\n",
       "      <th>6</th>\n",
       "      <td>0</td>\n",
       "      <td>1</td>\n",
       "      <td>Mr. Timothy J McCarthy</td>\n",
       "      <td>male</td>\n",
       "      <td>54.0</td>\n",
       "      <td>0</td>\n",
       "      <td>0</td>\n",
       "      <td>51.8625</td>\n",
       "      <td>A</td>\n",
       "      <td>A</td>\n",
       "    </tr>\n",
       "    <tr>\n",
       "      <th>15</th>\n",
       "      <td>1</td>\n",
       "      <td>2</td>\n",
       "      <td>Mrs. (Mary D Kingcome) Hewlett</td>\n",
       "      <td>female</td>\n",
       "      <td>55.0</td>\n",
       "      <td>0</td>\n",
       "      <td>0</td>\n",
       "      <td>16.0000</td>\n",
       "      <td>B</td>\n",
       "      <td>B</td>\n",
       "    </tr>\n",
       "    <tr>\n",
       "      <th>123</th>\n",
       "      <td>0</td>\n",
       "      <td>1</td>\n",
       "      <td>Mr. Percival Wayland White</td>\n",
       "      <td>male</td>\n",
       "      <td>54.0</td>\n",
       "      <td>0</td>\n",
       "      <td>1</td>\n",
       "      <td>77.2875</td>\n",
       "      <td>A</td>\n",
       "      <td>A</td>\n",
       "    </tr>\n",
       "    <tr>\n",
       "      <th>173</th>\n",
       "      <td>0</td>\n",
       "      <td>1</td>\n",
       "      <td>Mr. James Clinch Smith</td>\n",
       "      <td>male</td>\n",
       "      <td>56.0</td>\n",
       "      <td>0</td>\n",
       "      <td>0</td>\n",
       "      <td>30.6958</td>\n",
       "      <td>B</td>\n",
       "      <td>B</td>\n",
       "    </tr>\n",
       "    <tr>\n",
       "      <th>248</th>\n",
       "      <td>0</td>\n",
       "      <td>2</td>\n",
       "      <td>Rev. Ernest Courtenay Carter</td>\n",
       "      <td>male</td>\n",
       "      <td>54.0</td>\n",
       "      <td>1</td>\n",
       "      <td>0</td>\n",
       "      <td>26.0000</td>\n",
       "      <td>A</td>\n",
       "      <td>A</td>\n",
       "    </tr>\n",
       "    <tr>\n",
       "      <th>315</th>\n",
       "      <td>0</td>\n",
       "      <td>2</td>\n",
       "      <td>Dr. Ernest Moraweck</td>\n",
       "      <td>male</td>\n",
       "      <td>54.0</td>\n",
       "      <td>0</td>\n",
       "      <td>0</td>\n",
       "      <td>14.0000</td>\n",
       "      <td>A</td>\n",
       "      <td>A</td>\n",
       "    </tr>\n",
       "    <tr>\n",
       "      <th>422</th>\n",
       "      <td>0</td>\n",
       "      <td>3</td>\n",
       "      <td>Mr. Phillippe Wiseman</td>\n",
       "      <td>male</td>\n",
       "      <td>54.0</td>\n",
       "      <td>0</td>\n",
       "      <td>0</td>\n",
       "      <td>7.2500</td>\n",
       "      <td>A</td>\n",
       "      <td>A</td>\n",
       "    </tr>\n",
       "    <tr>\n",
       "      <th>464</th>\n",
       "      <td>0</td>\n",
       "      <td>1</td>\n",
       "      <td>Mr. John Montgomery Smart</td>\n",
       "      <td>male</td>\n",
       "      <td>56.0</td>\n",
       "      <td>0</td>\n",
       "      <td>0</td>\n",
       "      <td>26.5500</td>\n",
       "      <td>B</td>\n",
       "      <td>B</td>\n",
       "    </tr>\n",
       "    <tr>\n",
       "      <th>489</th>\n",
       "      <td>0</td>\n",
       "      <td>1</td>\n",
       "      <td>Mr. Harry Markland Molson</td>\n",
       "      <td>male</td>\n",
       "      <td>55.0</td>\n",
       "      <td>0</td>\n",
       "      <td>0</td>\n",
       "      <td>30.5000</td>\n",
       "      <td>B</td>\n",
       "      <td>B</td>\n",
       "    </tr>\n",
       "    <tr>\n",
       "      <th>493</th>\n",
       "      <td>1</td>\n",
       "      <td>1</td>\n",
       "      <td>Miss. Elizabeth Mussey Eustis</td>\n",
       "      <td>female</td>\n",
       "      <td>54.0</td>\n",
       "      <td>1</td>\n",
       "      <td>0</td>\n",
       "      <td>78.2667</td>\n",
       "      <td>A</td>\n",
       "      <td>A</td>\n",
       "    </tr>\n",
       "    <tr>\n",
       "      <th>494</th>\n",
       "      <td>0</td>\n",
       "      <td>3</td>\n",
       "      <td>Mr. Frederick William Shellard</td>\n",
       "      <td>male</td>\n",
       "      <td>55.0</td>\n",
       "      <td>0</td>\n",
       "      <td>0</td>\n",
       "      <td>15.1000</td>\n",
       "      <td>B</td>\n",
       "      <td>B</td>\n",
       "    </tr>\n",
       "    <tr>\n",
       "      <th>510</th>\n",
       "      <td>1</td>\n",
       "      <td>1</td>\n",
       "      <td>Mrs. Martin (Elizabeth L. Barrett) Rothschild</td>\n",
       "      <td>female</td>\n",
       "      <td>54.0</td>\n",
       "      <td>1</td>\n",
       "      <td>0</td>\n",
       "      <td>59.4000</td>\n",
       "      <td>A</td>\n",
       "      <td>A</td>\n",
       "    </tr>\n",
       "    <tr>\n",
       "      <th>568</th>\n",
       "      <td>1</td>\n",
       "      <td>1</td>\n",
       "      <td>Mrs. Edward Dale (Charlotte Lamson) Appleton</td>\n",
       "      <td>female</td>\n",
       "      <td>53.0</td>\n",
       "      <td>2</td>\n",
       "      <td>0</td>\n",
       "      <td>51.4792</td>\n",
       "      <td>A</td>\n",
       "      <td>A</td>\n",
       "    </tr>\n",
       "    <tr>\n",
       "      <th>579</th>\n",
       "      <td>0</td>\n",
       "      <td>2</td>\n",
       "      <td>Mr. William James Downton</td>\n",
       "      <td>male</td>\n",
       "      <td>54.0</td>\n",
       "      <td>0</td>\n",
       "      <td>0</td>\n",
       "      <td>26.0000</td>\n",
       "      <td>A</td>\n",
       "      <td>A</td>\n",
       "    </tr>\n",
       "    <tr>\n",
       "      <th>644</th>\n",
       "      <td>1</td>\n",
       "      <td>1</td>\n",
       "      <td>Col. Oberst Alfons Simonius-Blumer</td>\n",
       "      <td>male</td>\n",
       "      <td>56.0</td>\n",
       "      <td>0</td>\n",
       "      <td>0</td>\n",
       "      <td>35.5000</td>\n",
       "      <td>B</td>\n",
       "      <td>B</td>\n",
       "    </tr>\n",
       "    <tr>\n",
       "      <th>770</th>\n",
       "      <td>1</td>\n",
       "      <td>2</td>\n",
       "      <td>Mrs. Elizabeth (Eliza Needs) Hocking</td>\n",
       "      <td>female</td>\n",
       "      <td>54.0</td>\n",
       "      <td>1</td>\n",
       "      <td>3</td>\n",
       "      <td>23.0000</td>\n",
       "      <td>A</td>\n",
       "      <td>A</td>\n",
       "    </tr>\n",
       "    <tr>\n",
       "      <th>875</th>\n",
       "      <td>1</td>\n",
       "      <td>1</td>\n",
       "      <td>Mrs. Thomas Jr (Lily Alexenia Wilson) Potter</td>\n",
       "      <td>female</td>\n",
       "      <td>56.0</td>\n",
       "      <td>0</td>\n",
       "      <td>1</td>\n",
       "      <td>83.1583</td>\n",
       "      <td>B</td>\n",
       "      <td>B</td>\n",
       "    </tr>\n",
       "  </tbody>\n",
       "</table>\n",
       "</div>"
      ],
      "text/plain": [
       "     Survived  Pclass                                           Name  Gender   \n",
       "6           0       1                         Mr. Timothy J McCarthy    male  \\\n",
       "15          1       2                 Mrs. (Mary D Kingcome) Hewlett  female   \n",
       "123         0       1                     Mr. Percival Wayland White    male   \n",
       "173         0       1                         Mr. James Clinch Smith    male   \n",
       "248         0       2                   Rev. Ernest Courtenay Carter    male   \n",
       "315         0       2                            Dr. Ernest Moraweck    male   \n",
       "422         0       3                          Mr. Phillippe Wiseman    male   \n",
       "464         0       1                      Mr. John Montgomery Smart    male   \n",
       "489         0       1                      Mr. Harry Markland Molson    male   \n",
       "493         1       1                  Miss. Elizabeth Mussey Eustis  female   \n",
       "494         0       3                 Mr. Frederick William Shellard    male   \n",
       "510         1       1  Mrs. Martin (Elizabeth L. Barrett) Rothschild  female   \n",
       "568         1       1   Mrs. Edward Dale (Charlotte Lamson) Appleton  female   \n",
       "579         0       2                      Mr. William James Downton    male   \n",
       "644         1       1             Col. Oberst Alfons Simonius-Blumer    male   \n",
       "770         1       2           Mrs. Elizabeth (Eliza Needs) Hocking  female   \n",
       "875         1       1   Mrs. Thomas Jr (Lily Alexenia Wilson) Potter  female   \n",
       "\n",
       "      Age  Siblings/Spouses Aboard  Parents/Children Aboard     Fare AgeBand   \n",
       "6    54.0                        0                        0  51.8625       A  \\\n",
       "15   55.0                        0                        0  16.0000       B   \n",
       "123  54.0                        0                        1  77.2875       A   \n",
       "173  56.0                        0                        0  30.6958       B   \n",
       "248  54.0                        1                        0  26.0000       A   \n",
       "315  54.0                        0                        0  14.0000       A   \n",
       "422  54.0                        0                        0   7.2500       A   \n",
       "464  56.0                        0                        0  26.5500       B   \n",
       "489  55.0                        0                        0  30.5000       B   \n",
       "493  54.0                        1                        0  78.2667       A   \n",
       "494  55.0                        0                        0  15.1000       B   \n",
       "510  54.0                        1                        0  59.4000       A   \n",
       "568  53.0                        2                        0  51.4792       A   \n",
       "579  54.0                        0                        0  26.0000       A   \n",
       "644  56.0                        0                        0  35.5000       B   \n",
       "770  54.0                        1                        3  23.0000       A   \n",
       "875  56.0                        0                        1  83.1583       B   \n",
       "\n",
       "    AgeCut  \n",
       "6        A  \n",
       "15       B  \n",
       "123      A  \n",
       "173      B  \n",
       "248      A  \n",
       "315      A  \n",
       "422      A  \n",
       "464      B  \n",
       "489      B  \n",
       "493      A  \n",
       "494      B  \n",
       "510      A  \n",
       "568      A  \n",
       "579      A  \n",
       "644      B  \n",
       "770      A  \n",
       "875      B  "
      ]
     },
     "execution_count": 54,
     "metadata": {},
     "output_type": "execute_result"
    }
   ],
   "source": [
    "# 값 확인하기 경계가 되는 값을 확인하기 isin() 안 값에 확인하기\n",
    "titanic[titanic.Age.isin([53,54,55,56])]"
   ]
  },
  {
   "cell_type": "code",
   "execution_count": 55,
   "id": "da1b8e8b",
   "metadata": {},
   "outputs": [],
   "source": [
    "#사망자 추출 545명 중\n",
    "#to_frame() 으로 만들어줘요\n",
    "g_agecut = titanic[titanic.Survived==0].groupby('AgeCut').size().to_frame()\n"
   ]
  },
  {
   "cell_type": "code",
   "execution_count": 56,
   "id": "ea3d3a12",
   "metadata": {
    "scrolled": true
   },
   "outputs": [],
   "source": [
    "#컬럼에 추가\n",
    "g_agecut['late'] = g_agecut / g_agecut.sum()"
   ]
  },
  {
   "cell_type": "code",
   "execution_count": 57,
   "id": "d742d93c",
   "metadata": {},
   "outputs": [],
   "source": [
    "#행의 합\n",
    "g_agecut.loc['합']= g_agecut.sum()"
   ]
  },
  {
   "cell_type": "code",
   "execution_count": 58,
   "id": "127db62c",
   "metadata": {},
   "outputs": [],
   "source": [
    "g_agecut[0]= g_agecut[0].astype(int)"
   ]
  },
  {
   "cell_type": "code",
   "execution_count": 59,
   "id": "fff0f189",
   "metadata": {},
   "outputs": [
    {
     "data": {
      "text/plain": [
       "AgeCut\n",
       "A    509\n",
       "B     36\n",
       "Name: 0, dtype: int32"
      ]
     },
     "execution_count": 59,
     "metadata": {},
     "output_type": "execute_result"
    }
   ],
   "source": [
    "g_agecut[:2][0]"
   ]
  },
  {
   "cell_type": "markdown",
   "id": "dbd8abf9",
   "metadata": {},
   "source": [
    "### 시각화"
   ]
  },
  {
   "cell_type": "code",
   "execution_count": 60,
   "id": "9c2c117a",
   "metadata": {
    "scrolled": true
   },
   "outputs": [
    {
     "data": {
      "image/png": "[encoded data removed]",
      "text/plain": [
       "<Figure size 500x500 with 1 Axes>"
      ]
     },
     "metadata": {},
     "output_type": "display_data"
    }
   ],
   "source": [
    "plt.rc('font',size=13)\n",
    "plt.rc('axes',titlesize=15)\n",
    "# plt.figure(figsize=(8,8)) #가로 세로\n",
    "\n",
    "g_agecut[:2][0].T.plot(\n",
    "    kind='pie',\n",
    "    subplots=True,\n",
    "    figsize=(5,5),\n",
    "    ylabel='',# 빈문자로 넣으면 지울 수 있음\n",
    "    legend=False,\n",
    "    autopct='%.f%%',\n",
    "    labels=['55세 미만','55세 이상'],\n",
    "    counterclock=False,\n",
    "    colors=['#dcffed','#64a5ff'],\n",
    "    title=['사망자 중 고령자비율'],\n",
    "    explode=[0,0.3],\n",
    "    shadow=True,\n",
    ")\n",
    "\n",
    "plt.savefig('사망자 중 고령자 비율.jpg')"
   ]
  },
  {
   "cell_type": "markdown",
   "id": "5848fc6a",
   "metadata": {},
   "source": [
    "### 결론 \n",
    "- 가설 3 사망자는 고령자가 많았을 것이다.\n",
    "    - 사망자 총 545명 중 고령자는 36명(약 7%)으로 나타났다.\n",
    "    - 사망자의 대부분은 고령자가 아닌 55세 미만(약 93%)으로 나타났다."
   ]
  }
 ],
 "metadata": {
  "kernelspec": {
   "display_name": "ex_kernel",
   "language": "python",
   "name": "ex"
  },
  "language_info": {
   "codemirror_mode": {
    "name": "ipython",
    "version": 3
   },
   "file_extension": ".py",
   "mimetype": "text/x-python",
   "name": "python",
   "nbconvert_exporter": "python",
   "pygments_lexer": "ipython3",
   "version": "3.8.10"
  },
  "toc": {
   "base_numbering": 1,
   "nav_menu": {},
   "number_sections": true,
   "sideBar": true,
   "skip_h1_title": false,
   "title_cell": "Table of Contents",
   "title_sidebar": "Contents",
   "toc_cell": false,
   "toc_position": {
    "height": "calc(100% - 180px)",
    "left": "10px",
    "top": "150px",
    "width": "292px"
   },
   "toc_section_display": true,
   "toc_window_display": true
  }
 },
 "nbformat": 4,
 "nbformat_minor": 5
}
