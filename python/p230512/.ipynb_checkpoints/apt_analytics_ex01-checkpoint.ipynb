{
 "cells": [
  {
   "cell_type": "markdown",
   "id": "86e31bd0",
   "metadata": {},
   "source": [
    "!start ."
   ]
  },
  {
   "cell_type": "code",
   "execution_count": 43,
   "id": "ef736a15",
   "metadata": {},
   "outputs": [],
   "source": [
    "import pandas as pd\n",
    "import numpy as np\n",
    "import matplotlib.pyplot as plt"
   ]
  },
  {
   "cell_type": "markdown",
   "id": "e5479dea",
   "metadata": {},
   "source": [
    "# 파일 읽어 오기"
   ]
  },
  {
   "cell_type": "code",
   "execution_count": 44,
   "id": "6c8570cb",
   "metadata": {
    "scrolled": false
   },
   "outputs": [
    {
     "data": {
      "text/html": [
       "<div>\n",
       "<style scoped>\n",
       "    .dataframe tbody tr th:only-of-type {\n",
       "        vertical-align: middle;\n",
       "    }\n",
       "\n",
       "    .dataframe tbody tr th {\n",
       "        vertical-align: top;\n",
       "    }\n",
       "\n",
       "    .dataframe thead th {\n",
       "        text-align: right;\n",
       "    }\n",
       "</style>\n",
       "<table border=\"1\" class=\"dataframe\">\n",
       "  <thead>\n",
       "    <tr style=\"text-align: right;\">\n",
       "      <th></th>\n",
       "      <th>지역명</th>\n",
       "      <th>규모구분</th>\n",
       "      <th>연도</th>\n",
       "      <th>월</th>\n",
       "      <th>분양가격(제곱미터)</th>\n",
       "    </tr>\n",
       "  </thead>\n",
       "  <tbody>\n",
       "    <tr>\n",
       "      <th>0</th>\n",
       "      <td>서울</td>\n",
       "      <td>모든면적</td>\n",
       "      <td>2015.0</td>\n",
       "      <td>10.0</td>\n",
       "      <td>5841</td>\n",
       "    </tr>\n",
       "    <tr>\n",
       "      <th>1</th>\n",
       "      <td>서울</td>\n",
       "      <td>전용면적 60제곱미터이하</td>\n",
       "      <td>2015.0</td>\n",
       "      <td>10.0</td>\n",
       "      <td>5652</td>\n",
       "    </tr>\n",
       "  </tbody>\n",
       "</table>\n",
       "</div>"
      ],
      "text/plain": [
       "  지역명           규모구분      연도     월 분양가격(제곱미터)\n",
       "0  서울           모든면적  2015.0  10.0       5841\n",
       "1  서울  전용면적 60제곱미터이하  2015.0  10.0       5652"
      ]
     },
     "execution_count": 44,
     "metadata": {},
     "output_type": "execute_result"
    }
   ],
   "source": [
    "data = pd.read_csv('주택도시보증공사_전국 신규 민간아파트 분양가격 동향_20220131.csv', encoding='cp949')\n",
    "apt_price = pd.DataFrame(data)\n",
    "apt_price[:2]"
   ]
  },
  {
   "cell_type": "code",
   "execution_count": null,
   "id": "b5393052",
   "metadata": {},
   "outputs": [],
   "source": []
  },
  {
   "cell_type": "markdown",
   "id": "0006dcaa",
   "metadata": {},
   "source": [
    "# 정보 확인"
   ]
  },
  {
   "cell_type": "code",
   "execution_count": 45,
   "id": "0a36380d",
   "metadata": {
    "scrolled": true
   },
   "outputs": [
    {
     "data": {
      "text/html": [
       "<div>\n",
       "<style scoped>\n",
       "    .dataframe tbody tr th:only-of-type {\n",
       "        vertical-align: middle;\n",
       "    }\n",
       "\n",
       "    .dataframe tbody tr th {\n",
       "        vertical-align: top;\n",
       "    }\n",
       "\n",
       "    .dataframe thead th {\n",
       "        text-align: right;\n",
       "    }\n",
       "</style>\n",
       "<table border=\"1\" class=\"dataframe\">\n",
       "  <thead>\n",
       "    <tr style=\"text-align: right;\">\n",
       "      <th></th>\n",
       "      <th>연도</th>\n",
       "      <th>월</th>\n",
       "    </tr>\n",
       "  </thead>\n",
       "  <tbody>\n",
       "    <tr>\n",
       "      <th>count</th>\n",
       "      <td>6460.000000</td>\n",
       "      <td>6460.000000</td>\n",
       "    </tr>\n",
       "    <tr>\n",
       "      <th>mean</th>\n",
       "      <td>2018.407895</td>\n",
       "      <td>6.605263</td>\n",
       "    </tr>\n",
       "    <tr>\n",
       "      <th>std</th>\n",
       "      <td>1.843892</td>\n",
       "      <td>3.536101</td>\n",
       "    </tr>\n",
       "    <tr>\n",
       "      <th>min</th>\n",
       "      <td>2015.000000</td>\n",
       "      <td>1.000000</td>\n",
       "    </tr>\n",
       "    <tr>\n",
       "      <th>25%</th>\n",
       "      <td>2017.000000</td>\n",
       "      <td>3.750000</td>\n",
       "    </tr>\n",
       "    <tr>\n",
       "      <th>50%</th>\n",
       "      <td>2018.000000</td>\n",
       "      <td>7.000000</td>\n",
       "    </tr>\n",
       "    <tr>\n",
       "      <th>75%</th>\n",
       "      <td>2020.000000</td>\n",
       "      <td>10.000000</td>\n",
       "    </tr>\n",
       "    <tr>\n",
       "      <th>max</th>\n",
       "      <td>2022.000000</td>\n",
       "      <td>12.000000</td>\n",
       "    </tr>\n",
       "  </tbody>\n",
       "</table>\n",
       "</div>"
      ],
      "text/plain": [
       "                연도            월\n",
       "count  6460.000000  6460.000000\n",
       "mean   2018.407895     6.605263\n",
       "std       1.843892     3.536101\n",
       "min    2015.000000     1.000000\n",
       "25%    2017.000000     3.750000\n",
       "50%    2018.000000     7.000000\n",
       "75%    2020.000000    10.000000\n",
       "max    2022.000000    12.000000"
      ]
     },
     "execution_count": 45,
     "metadata": {},
     "output_type": "execute_result"
    }
   ],
   "source": [
    "apt_price.describe()"
   ]
  },
  {
   "cell_type": "code",
   "execution_count": 46,
   "id": "2d517381",
   "metadata": {
    "scrolled": false
   },
   "outputs": [
    {
     "name": "stdout",
     "output_type": "stream",
     "text": [
      "<class 'pandas.core.frame.DataFrame'>\n",
      "RangeIndex: 7140 entries, 0 to 7139\n",
      "Data columns (total 5 columns):\n",
      " #   Column      Non-Null Count  Dtype  \n",
      "---  ------      --------------  -----  \n",
      " 0   지역명         6460 non-null   object \n",
      " 1   규모구분        6460 non-null   object \n",
      " 2   연도          6460 non-null   float64\n",
      " 3   월           6460 non-null   float64\n",
      " 4   분양가격(제곱미터)  5976 non-null   object \n",
      "dtypes: float64(2), object(3)\n",
      "memory usage: 279.0+ KB\n"
     ]
    }
   ],
   "source": [
    "apt_price.info()"
   ]
  },
  {
   "cell_type": "markdown",
   "id": "f641105b",
   "metadata": {},
   "source": [
    "# 모든 값이 결측치 확인 및 제거"
   ]
  },
  {
   "cell_type": "code",
   "execution_count": 47,
   "id": "edc9150b",
   "metadata": {
    "scrolled": false
   },
   "outputs": [
    {
     "data": {
      "text/plain": [
       "지역명            680\n",
       "규모구분           680\n",
       "연도             680\n",
       "월              680\n",
       "분양가격(제곱미터)    1164\n",
       "dtype: int64"
      ]
     },
     "execution_count": 47,
     "metadata": {},
     "output_type": "execute_result"
    }
   ],
   "source": [
    "apt_price.isnull().sum()"
   ]
  },
  {
   "cell_type": "markdown",
   "id": "f80861e7",
   "metadata": {},
   "source": [
    "## 모든 결측치 확인"
   ]
  },
  {
   "cell_type": "code",
   "execution_count": 48,
   "id": "315b4550",
   "metadata": {},
   "outputs": [
    {
     "data": {
      "text/plain": [
       "1164"
      ]
     },
     "execution_count": 48,
     "metadata": {},
     "output_type": "execute_result"
    }
   ],
   "source": [
    "apt_price.isnull().value_counts()[1:3].sum()"
   ]
  },
  {
   "cell_type": "code",
   "execution_count": 49,
   "id": "9e4b418d",
   "metadata": {},
   "outputs": [
    {
     "data": {
      "text/html": [
       "<div>\n",
       "<style scoped>\n",
       "    .dataframe tbody tr th:only-of-type {\n",
       "        vertical-align: middle;\n",
       "    }\n",
       "\n",
       "    .dataframe tbody tr th {\n",
       "        vertical-align: top;\n",
       "    }\n",
       "\n",
       "    .dataframe thead th {\n",
       "        text-align: right;\n",
       "    }\n",
       "</style>\n",
       "<table border=\"1\" class=\"dataframe\">\n",
       "  <thead>\n",
       "    <tr style=\"text-align: right;\">\n",
       "      <th></th>\n",
       "      <th>지역명</th>\n",
       "      <th>규모구분</th>\n",
       "      <th>연도</th>\n",
       "      <th>월</th>\n",
       "      <th>분양가격(제곱미터)</th>\n",
       "    </tr>\n",
       "  </thead>\n",
       "  <tbody>\n",
       "    <tr>\n",
       "      <th>368</th>\n",
       "      <td>광주</td>\n",
       "      <td>전용면적 85제곱미터초과 102제곱미터이하</td>\n",
       "      <td>2016.0</td>\n",
       "      <td>2.0</td>\n",
       "      <td>NaN</td>\n",
       "    </tr>\n",
       "    <tr>\n",
       "      <th>369</th>\n",
       "      <td>광주</td>\n",
       "      <td>전용면적 102제곱미터초과</td>\n",
       "      <td>2016.0</td>\n",
       "      <td>2.0</td>\n",
       "      <td>NaN</td>\n",
       "    </tr>\n",
       "    <tr>\n",
       "      <th>374</th>\n",
       "      <td>대전</td>\n",
       "      <td>전용면적 102제곱미터초과</td>\n",
       "      <td>2016.0</td>\n",
       "      <td>2.0</td>\n",
       "      <td>NaN</td>\n",
       "    </tr>\n",
       "    <tr>\n",
       "      <th>388</th>\n",
       "      <td>강원</td>\n",
       "      <td>전용면적 85제곱미터초과 102제곱미터이하</td>\n",
       "      <td>2016.0</td>\n",
       "      <td>2.0</td>\n",
       "      <td>NaN</td>\n",
       "    </tr>\n",
       "    <tr>\n",
       "      <th>421</th>\n",
       "      <td>제주</td>\n",
       "      <td>전용면적 60제곱미터이하</td>\n",
       "      <td>2016.0</td>\n",
       "      <td>2.0</td>\n",
       "      <td>NaN</td>\n",
       "    </tr>\n",
       "    <tr>\n",
       "      <th>...</th>\n",
       "      <td>...</td>\n",
       "      <td>...</td>\n",
       "      <td>...</td>\n",
       "      <td>...</td>\n",
       "      <td>...</td>\n",
       "    </tr>\n",
       "    <tr>\n",
       "      <th>7135</th>\n",
       "      <td>NaN</td>\n",
       "      <td>NaN</td>\n",
       "      <td>NaN</td>\n",
       "      <td>NaN</td>\n",
       "      <td>NaN</td>\n",
       "    </tr>\n",
       "    <tr>\n",
       "      <th>7136</th>\n",
       "      <td>NaN</td>\n",
       "      <td>NaN</td>\n",
       "      <td>NaN</td>\n",
       "      <td>NaN</td>\n",
       "      <td>NaN</td>\n",
       "    </tr>\n",
       "    <tr>\n",
       "      <th>7137</th>\n",
       "      <td>NaN</td>\n",
       "      <td>NaN</td>\n",
       "      <td>NaN</td>\n",
       "      <td>NaN</td>\n",
       "      <td>NaN</td>\n",
       "    </tr>\n",
       "    <tr>\n",
       "      <th>7138</th>\n",
       "      <td>NaN</td>\n",
       "      <td>NaN</td>\n",
       "      <td>NaN</td>\n",
       "      <td>NaN</td>\n",
       "      <td>NaN</td>\n",
       "    </tr>\n",
       "    <tr>\n",
       "      <th>7139</th>\n",
       "      <td>NaN</td>\n",
       "      <td>NaN</td>\n",
       "      <td>NaN</td>\n",
       "      <td>NaN</td>\n",
       "      <td>NaN</td>\n",
       "    </tr>\n",
       "  </tbody>\n",
       "</table>\n",
       "<p>1164 rows × 5 columns</p>\n",
       "</div>"
      ],
      "text/plain": [
       "      지역명                     규모구분      연도    월 분양가격(제곱미터)\n",
       "368    광주  전용면적 85제곱미터초과 102제곱미터이하  2016.0  2.0        NaN\n",
       "369    광주           전용면적 102제곱미터초과  2016.0  2.0        NaN\n",
       "374    대전           전용면적 102제곱미터초과  2016.0  2.0        NaN\n",
       "388    강원  전용면적 85제곱미터초과 102제곱미터이하  2016.0  2.0        NaN\n",
       "421    제주            전용면적 60제곱미터이하  2016.0  2.0        NaN\n",
       "...   ...                      ...     ...  ...        ...\n",
       "7135  NaN                      NaN     NaN  NaN        NaN\n",
       "7136  NaN                      NaN     NaN  NaN        NaN\n",
       "7137  NaN                      NaN     NaN  NaN        NaN\n",
       "7138  NaN                      NaN     NaN  NaN        NaN\n",
       "7139  NaN                      NaN     NaN  NaN        NaN\n",
       "\n",
       "[1164 rows x 5 columns]"
      ]
     },
     "execution_count": 49,
     "metadata": {},
     "output_type": "execute_result"
    }
   ],
   "source": [
    "apt_price[apt_price['분양가격(제곱미터)'].isnull()]"
   ]
  },
  {
   "cell_type": "markdown",
   "id": "2837482d",
   "metadata": {},
   "source": [
    "# 전처리 작업"
   ]
  },
  {
   "cell_type": "markdown",
   "id": "fbd6873f",
   "metadata": {},
   "source": [
    "## 컬럼명 변경\n",
    "    - 분양 가격(제곱미터) =>분양가격\n",
    "    - 규모구분 -> 전용 면적"
   ]
  },
  {
   "cell_type": "code",
   "execution_count": 50,
   "id": "355c272c",
   "metadata": {},
   "outputs": [],
   "source": [
    "apt_price.rename(columns={'분양가격(제곱미터)': '분양가격','규모구분':'전용면적'}, \n",
    "                 inplace=True)"
   ]
  },
  {
   "cell_type": "code",
   "execution_count": 51,
   "id": "851ee440",
   "metadata": {},
   "outputs": [
    {
     "data": {
      "text/plain": [
       "Index(['지역명', '전용면적', '연도', '월', '분양가격'], dtype='object')"
      ]
     },
     "execution_count": 51,
     "metadata": {},
     "output_type": "execute_result"
    }
   ],
   "source": [
    "apt_price.columns"
   ]
  },
  {
   "cell_type": "markdown",
   "id": "4232fa6d",
   "metadata": {},
   "source": [
    "## 결측치 처리"
   ]
  },
  {
   "cell_type": "code",
   "execution_count": 52,
   "id": "0efc8b7d",
   "metadata": {},
   "outputs": [],
   "source": [
    "apt_price.dropna(axis=0,how='all',inplace=True)"
   ]
  },
  {
   "cell_type": "code",
   "execution_count": 53,
   "id": "fdc02f4f",
   "metadata": {},
   "outputs": [
    {
     "data": {
      "text/plain": [
       "지역명       0\n",
       "전용면적      0\n",
       "연도        0\n",
       "월         0\n",
       "분양가격    484\n",
       "dtype: int64"
      ]
     },
     "execution_count": 53,
     "metadata": {},
     "output_type": "execute_result"
    }
   ],
   "source": [
    "##결측치 개수 확인\n",
    "apt_price.isnull().sum()"
   ]
  },
  {
   "cell_type": "code",
   "execution_count": 54,
   "id": "1c5abd39",
   "metadata": {},
   "outputs": [
    {
     "data": {
      "text/plain": [
       "지역명     6460\n",
       "전용면적    6460\n",
       "연도      6460\n",
       "월       6460\n",
       "분양가격    5976\n",
       "dtype: int64"
      ]
     },
     "execution_count": 54,
     "metadata": {},
     "output_type": "execute_result"
    }
   ],
   "source": [
    "#결측치 제외한 개수 확인\n",
    "apt_price.notnull().sum()"
   ]
  },
  {
   "cell_type": "markdown",
   "id": "7f82805b",
   "metadata": {},
   "source": [
    "### 변경할 컬럼을 복사 컬럼을 만든다."
   ]
  },
  {
   "cell_type": "code",
   "execution_count": 55,
   "id": "d1464b67",
   "metadata": {},
   "outputs": [],
   "source": [
    "apt_price['분양가격_복사'] = apt_price['분양가격']"
   ]
  },
  {
   "cell_type": "code",
   "execution_count": 56,
   "id": "aec74807",
   "metadata": {},
   "outputs": [
    {
     "data": {
      "text/html": [
       "<div>\n",
       "<style scoped>\n",
       "    .dataframe tbody tr th:only-of-type {\n",
       "        vertical-align: middle;\n",
       "    }\n",
       "\n",
       "    .dataframe tbody tr th {\n",
       "        vertical-align: top;\n",
       "    }\n",
       "\n",
       "    .dataframe thead th {\n",
       "        text-align: right;\n",
       "    }\n",
       "</style>\n",
       "<table border=\"1\" class=\"dataframe\">\n",
       "  <thead>\n",
       "    <tr style=\"text-align: right;\">\n",
       "      <th></th>\n",
       "      <th>지역명</th>\n",
       "      <th>전용면적</th>\n",
       "      <th>연도</th>\n",
       "      <th>월</th>\n",
       "      <th>분양가격</th>\n",
       "      <th>분양가격_복사</th>\n",
       "    </tr>\n",
       "  </thead>\n",
       "  <tbody>\n",
       "    <tr>\n",
       "      <th>0</th>\n",
       "      <td>서울</td>\n",
       "      <td>모든면적</td>\n",
       "      <td>2015.0</td>\n",
       "      <td>10.0</td>\n",
       "      <td>5841</td>\n",
       "      <td>5841</td>\n",
       "    </tr>\n",
       "    <tr>\n",
       "      <th>1</th>\n",
       "      <td>서울</td>\n",
       "      <td>전용면적 60제곱미터이하</td>\n",
       "      <td>2015.0</td>\n",
       "      <td>10.0</td>\n",
       "      <td>5652</td>\n",
       "      <td>5652</td>\n",
       "    </tr>\n",
       "    <tr>\n",
       "      <th>2</th>\n",
       "      <td>서울</td>\n",
       "      <td>전용면적 60제곱미터초과 85제곱미터이하</td>\n",
       "      <td>2015.0</td>\n",
       "      <td>10.0</td>\n",
       "      <td>5882</td>\n",
       "      <td>5882</td>\n",
       "    </tr>\n",
       "    <tr>\n",
       "      <th>3</th>\n",
       "      <td>서울</td>\n",
       "      <td>전용면적 85제곱미터초과 102제곱미터이하</td>\n",
       "      <td>2015.0</td>\n",
       "      <td>10.0</td>\n",
       "      <td>5721</td>\n",
       "      <td>5721</td>\n",
       "    </tr>\n",
       "    <tr>\n",
       "      <th>4</th>\n",
       "      <td>서울</td>\n",
       "      <td>전용면적 102제곱미터초과</td>\n",
       "      <td>2015.0</td>\n",
       "      <td>10.0</td>\n",
       "      <td>5879</td>\n",
       "      <td>5879</td>\n",
       "    </tr>\n",
       "    <tr>\n",
       "      <th>...</th>\n",
       "      <td>...</td>\n",
       "      <td>...</td>\n",
       "      <td>...</td>\n",
       "      <td>...</td>\n",
       "      <td>...</td>\n",
       "      <td>...</td>\n",
       "    </tr>\n",
       "    <tr>\n",
       "      <th>6455</th>\n",
       "      <td>제주</td>\n",
       "      <td>모든면적</td>\n",
       "      <td>2022.0</td>\n",
       "      <td>1.0</td>\n",
       "      <td>6574</td>\n",
       "      <td>6574</td>\n",
       "    </tr>\n",
       "    <tr>\n",
       "      <th>6456</th>\n",
       "      <td>제주</td>\n",
       "      <td>전용면적 60제곱미터이하</td>\n",
       "      <td>2022.0</td>\n",
       "      <td>1.0</td>\n",
       "      <td>2862</td>\n",
       "      <td>2862</td>\n",
       "    </tr>\n",
       "    <tr>\n",
       "      <th>6457</th>\n",
       "      <td>제주</td>\n",
       "      <td>전용면적 60제곱미터초과 85제곱미터이하</td>\n",
       "      <td>2022.0</td>\n",
       "      <td>1.0</td>\n",
       "      <td>6516</td>\n",
       "      <td>6516</td>\n",
       "    </tr>\n",
       "    <tr>\n",
       "      <th>6458</th>\n",
       "      <td>제주</td>\n",
       "      <td>전용면적 85제곱미터초과 102제곱미터이하</td>\n",
       "      <td>2022.0</td>\n",
       "      <td>1.0</td>\n",
       "      <td>5924</td>\n",
       "      <td>5924</td>\n",
       "    </tr>\n",
       "    <tr>\n",
       "      <th>6459</th>\n",
       "      <td>제주</td>\n",
       "      <td>전용면적 102제곱미터초과</td>\n",
       "      <td>2022.0</td>\n",
       "      <td>1.0</td>\n",
       "      <td>6493</td>\n",
       "      <td>6493</td>\n",
       "    </tr>\n",
       "  </tbody>\n",
       "</table>\n",
       "<p>6460 rows × 6 columns</p>\n",
       "</div>"
      ],
      "text/plain": [
       "     지역명                     전용면적      연도     월  분양가격 분양가격_복사\n",
       "0     서울                     모든면적  2015.0  10.0  5841    5841\n",
       "1     서울            전용면적 60제곱미터이하  2015.0  10.0  5652    5652\n",
       "2     서울   전용면적 60제곱미터초과 85제곱미터이하  2015.0  10.0  5882    5882\n",
       "3     서울  전용면적 85제곱미터초과 102제곱미터이하  2015.0  10.0  5721    5721\n",
       "4     서울           전용면적 102제곱미터초과  2015.0  10.0  5879    5879\n",
       "...   ..                      ...     ...   ...   ...     ...\n",
       "6455  제주                     모든면적  2022.0   1.0  6574    6574\n",
       "6456  제주            전용면적 60제곱미터이하  2022.0   1.0  2862    2862\n",
       "6457  제주   전용면적 60제곱미터초과 85제곱미터이하  2022.0   1.0  6516    6516\n",
       "6458  제주  전용면적 85제곱미터초과 102제곱미터이하  2022.0   1.0  5924    5924\n",
       "6459  제주           전용면적 102제곱미터초과  2022.0   1.0  6493    6493\n",
       "\n",
       "[6460 rows x 6 columns]"
      ]
     },
     "execution_count": 56,
     "metadata": {},
     "output_type": "execute_result"
    }
   ],
   "source": [
    "apt_price"
   ]
  },
  {
   "cell_type": "markdown",
   "id": "bec21cb1",
   "metadata": {},
   "source": [
    "### 분양가격_복사 컬럼 : 결측치 0으로 변경"
   ]
  },
  {
   "cell_type": "code",
   "execution_count": 57,
   "id": "52a1d829",
   "metadata": {},
   "outputs": [
    {
     "data": {
      "text/plain": [
       "484"
      ]
     },
     "execution_count": 57,
     "metadata": {},
     "output_type": "execute_result"
    }
   ],
   "source": [
    "apt_price['분양가격_복사'].isnull().value_counts()[1]"
   ]
  },
  {
   "cell_type": "code",
   "execution_count": 58,
   "id": "37512187",
   "metadata": {},
   "outputs": [
    {
     "data": {
      "text/plain": [
       "0       5841\n",
       "1       5652\n",
       "2       5882\n",
       "3       5721\n",
       "4       5879\n",
       "        ... \n",
       "6455    6574\n",
       "6456    2862\n",
       "6457    6516\n",
       "6458    5924\n",
       "6459    6493\n",
       "Name: 분양가격_복사, Length: 6460, dtype: object"
      ]
     },
     "execution_count": 58,
     "metadata": {},
     "output_type": "execute_result"
    }
   ],
   "source": [
    "apt_price['분양가격_복사'].str.strip()"
   ]
  },
  {
   "cell_type": "code",
   "execution_count": 59,
   "id": "c832f289",
   "metadata": {},
   "outputs": [
    {
     "data": {
      "text/plain": [
       "484"
      ]
     },
     "execution_count": 59,
     "metadata": {},
     "output_type": "execute_result"
    }
   ],
   "source": [
    "apt_price['분양가격_복사'].isnull().sum()"
   ]
  },
  {
   "cell_type": "code",
   "execution_count": 60,
   "id": "b6dcf2c2",
   "metadata": {},
   "outputs": [
    {
     "data": {
      "text/html": [
       "<div>\n",
       "<style scoped>\n",
       "    .dataframe tbody tr th:only-of-type {\n",
       "        vertical-align: middle;\n",
       "    }\n",
       "\n",
       "    .dataframe tbody tr th {\n",
       "        vertical-align: top;\n",
       "    }\n",
       "\n",
       "    .dataframe thead th {\n",
       "        text-align: right;\n",
       "    }\n",
       "</style>\n",
       "<table border=\"1\" class=\"dataframe\">\n",
       "  <thead>\n",
       "    <tr style=\"text-align: right;\">\n",
       "      <th></th>\n",
       "      <th>지역명</th>\n",
       "      <th>전용면적</th>\n",
       "      <th>연도</th>\n",
       "      <th>월</th>\n",
       "      <th>분양가격</th>\n",
       "      <th>분양가격_복사</th>\n",
       "    </tr>\n",
       "  </thead>\n",
       "  <tbody>\n",
       "  </tbody>\n",
       "</table>\n",
       "</div>"
      ],
      "text/plain": [
       "Empty DataFrame\n",
       "Columns: [지역명, 전용면적, 연도, 월, 분양가격, 분양가격_복사]\n",
       "Index: []"
      ]
     },
     "execution_count": 60,
     "metadata": {},
     "output_type": "execute_result"
    }
   ],
   "source": [
    "#0값이 있는지 부터 확인\n",
    "apt_price[apt_price['분양가격'] == 0]"
   ]
  },
  {
   "cell_type": "code",
   "execution_count": 61,
   "id": "49e8a4e4",
   "metadata": {},
   "outputs": [
    {
     "data": {
      "text/plain": [
       "36"
      ]
     },
     "execution_count": 61,
     "metadata": {},
     "output_type": "execute_result"
    }
   ],
   "source": [
    "#공백 보기 \n",
    "apt_price.분양가격_복사.str.contains(' ').sum()"
   ]
  },
  {
   "cell_type": "code",
   "execution_count": 62,
   "id": "b74932e6",
   "metadata": {},
   "outputs": [
    {
     "data": {
      "text/html": [
       "<div>\n",
       "<style scoped>\n",
       "    .dataframe tbody tr th:only-of-type {\n",
       "        vertical-align: middle;\n",
       "    }\n",
       "\n",
       "    .dataframe tbody tr th {\n",
       "        vertical-align: top;\n",
       "    }\n",
       "\n",
       "    .dataframe thead th {\n",
       "        text-align: right;\n",
       "    }\n",
       "</style>\n",
       "<table border=\"1\" class=\"dataframe\">\n",
       "  <thead>\n",
       "    <tr style=\"text-align: right;\">\n",
       "      <th></th>\n",
       "      <th>지역명</th>\n",
       "      <th>전용면적</th>\n",
       "      <th>연도</th>\n",
       "      <th>월</th>\n",
       "      <th>분양가격</th>\n",
       "      <th>분양가격_복사</th>\n",
       "    </tr>\n",
       "  </thead>\n",
       "  <tbody>\n",
       "    <tr>\n",
       "      <th>28</th>\n",
       "      <td>광주</td>\n",
       "      <td>전용면적 85제곱미터초과 102제곱미터이하</td>\n",
       "      <td>2015.0</td>\n",
       "      <td>10.0</td>\n",
       "      <td></td>\n",
       "      <td></td>\n",
       "    </tr>\n",
       "    <tr>\n",
       "      <th>29</th>\n",
       "      <td>광주</td>\n",
       "      <td>전용면적 102제곱미터초과</td>\n",
       "      <td>2015.0</td>\n",
       "      <td>10.0</td>\n",
       "      <td></td>\n",
       "      <td></td>\n",
       "    </tr>\n",
       "    <tr>\n",
       "      <th>34</th>\n",
       "      <td>대전</td>\n",
       "      <td>전용면적 102제곱미터초과</td>\n",
       "      <td>2015.0</td>\n",
       "      <td>10.0</td>\n",
       "      <td></td>\n",
       "      <td></td>\n",
       "    </tr>\n",
       "    <tr>\n",
       "      <th>81</th>\n",
       "      <td>제주</td>\n",
       "      <td>전용면적 60제곱미터이하</td>\n",
       "      <td>2015.0</td>\n",
       "      <td>10.0</td>\n",
       "      <td></td>\n",
       "      <td></td>\n",
       "    </tr>\n",
       "    <tr>\n",
       "      <th>113</th>\n",
       "      <td>광주</td>\n",
       "      <td>전용면적 85제곱미터초과 102제곱미터이하</td>\n",
       "      <td>2015.0</td>\n",
       "      <td>11.0</td>\n",
       "      <td></td>\n",
       "      <td></td>\n",
       "    </tr>\n",
       "    <tr>\n",
       "      <th>114</th>\n",
       "      <td>광주</td>\n",
       "      <td>전용면적 102제곱미터초과</td>\n",
       "      <td>2015.0</td>\n",
       "      <td>11.0</td>\n",
       "      <td></td>\n",
       "      <td></td>\n",
       "    </tr>\n",
       "    <tr>\n",
       "      <th>119</th>\n",
       "      <td>대전</td>\n",
       "      <td>전용면적 102제곱미터초과</td>\n",
       "      <td>2015.0</td>\n",
       "      <td>11.0</td>\n",
       "      <td></td>\n",
       "      <td></td>\n",
       "    </tr>\n",
       "    <tr>\n",
       "      <th>166</th>\n",
       "      <td>제주</td>\n",
       "      <td>전용면적 60제곱미터이하</td>\n",
       "      <td>2015.0</td>\n",
       "      <td>11.0</td>\n",
       "      <td></td>\n",
       "      <td></td>\n",
       "    </tr>\n",
       "    <tr>\n",
       "      <th>198</th>\n",
       "      <td>광주</td>\n",
       "      <td>전용면적 85제곱미터초과 102제곱미터이하</td>\n",
       "      <td>2015.0</td>\n",
       "      <td>12.0</td>\n",
       "      <td></td>\n",
       "      <td></td>\n",
       "    </tr>\n",
       "    <tr>\n",
       "      <th>199</th>\n",
       "      <td>광주</td>\n",
       "      <td>전용면적 102제곱미터초과</td>\n",
       "      <td>2015.0</td>\n",
       "      <td>12.0</td>\n",
       "      <td></td>\n",
       "      <td></td>\n",
       "    </tr>\n",
       "    <tr>\n",
       "      <th>204</th>\n",
       "      <td>대전</td>\n",
       "      <td>전용면적 102제곱미터초과</td>\n",
       "      <td>2015.0</td>\n",
       "      <td>12.0</td>\n",
       "      <td></td>\n",
       "      <td></td>\n",
       "    </tr>\n",
       "    <tr>\n",
       "      <th>251</th>\n",
       "      <td>제주</td>\n",
       "      <td>전용면적 60제곱미터이하</td>\n",
       "      <td>2015.0</td>\n",
       "      <td>12.0</td>\n",
       "      <td></td>\n",
       "      <td></td>\n",
       "    </tr>\n",
       "    <tr>\n",
       "      <th>283</th>\n",
       "      <td>광주</td>\n",
       "      <td>전용면적 85제곱미터초과 102제곱미터이하</td>\n",
       "      <td>2016.0</td>\n",
       "      <td>1.0</td>\n",
       "      <td></td>\n",
       "      <td></td>\n",
       "    </tr>\n",
       "    <tr>\n",
       "      <th>284</th>\n",
       "      <td>광주</td>\n",
       "      <td>전용면적 102제곱미터초과</td>\n",
       "      <td>2016.0</td>\n",
       "      <td>1.0</td>\n",
       "      <td></td>\n",
       "      <td></td>\n",
       "    </tr>\n",
       "    <tr>\n",
       "      <th>289</th>\n",
       "      <td>대전</td>\n",
       "      <td>전용면적 102제곱미터초과</td>\n",
       "      <td>2016.0</td>\n",
       "      <td>1.0</td>\n",
       "      <td></td>\n",
       "      <td></td>\n",
       "    </tr>\n",
       "    <tr>\n",
       "      <th>336</th>\n",
       "      <td>제주</td>\n",
       "      <td>전용면적 60제곱미터이하</td>\n",
       "      <td>2016.0</td>\n",
       "      <td>1.0</td>\n",
       "      <td></td>\n",
       "      <td></td>\n",
       "    </tr>\n",
       "    <tr>\n",
       "      <th>6039</th>\n",
       "      <td>서울</td>\n",
       "      <td>전용면적 102제곱미터초과</td>\n",
       "      <td>2021.0</td>\n",
       "      <td>9.0</td>\n",
       "      <td></td>\n",
       "      <td></td>\n",
       "    </tr>\n",
       "    <tr>\n",
       "      <th>6063</th>\n",
       "      <td>광주</td>\n",
       "      <td>전용면적 85제곱미터초과 102제곱미터이하</td>\n",
       "      <td>2021.0</td>\n",
       "      <td>9.0</td>\n",
       "      <td></td>\n",
       "      <td></td>\n",
       "    </tr>\n",
       "    <tr>\n",
       "      <th>6068</th>\n",
       "      <td>대전</td>\n",
       "      <td>전용면적 85제곱미터초과 102제곱미터이하</td>\n",
       "      <td>2021.0</td>\n",
       "      <td>9.0</td>\n",
       "      <td></td>\n",
       "      <td></td>\n",
       "    </tr>\n",
       "    <tr>\n",
       "      <th>6069</th>\n",
       "      <td>대전</td>\n",
       "      <td>전용면적 102제곱미터초과</td>\n",
       "      <td>2021.0</td>\n",
       "      <td>9.0</td>\n",
       "      <td></td>\n",
       "      <td></td>\n",
       "    </tr>\n",
       "    <tr>\n",
       "      <th>6074</th>\n",
       "      <td>울산</td>\n",
       "      <td>전용면적 102제곱미터초과</td>\n",
       "      <td>2021.0</td>\n",
       "      <td>9.0</td>\n",
       "      <td></td>\n",
       "      <td></td>\n",
       "    </tr>\n",
       "    <tr>\n",
       "      <th>6103</th>\n",
       "      <td>전남</td>\n",
       "      <td>전용면적 85제곱미터초과 102제곱미터이하</td>\n",
       "      <td>2021.0</td>\n",
       "      <td>9.0</td>\n",
       "      <td></td>\n",
       "      <td></td>\n",
       "    </tr>\n",
       "    <tr>\n",
       "      <th>6116</th>\n",
       "      <td>제주</td>\n",
       "      <td>전용면적 60제곱미터이하</td>\n",
       "      <td>2021.0</td>\n",
       "      <td>9.0</td>\n",
       "      <td></td>\n",
       "      <td></td>\n",
       "    </tr>\n",
       "    <tr>\n",
       "      <th>6118</th>\n",
       "      <td>제주</td>\n",
       "      <td>전용면적 85제곱미터초과 102제곱미터이하</td>\n",
       "      <td>2021.0</td>\n",
       "      <td>9.0</td>\n",
       "      <td></td>\n",
       "      <td></td>\n",
       "    </tr>\n",
       "    <tr>\n",
       "      <th>6124</th>\n",
       "      <td>서울</td>\n",
       "      <td>전용면적 102제곱미터초과</td>\n",
       "      <td>2021.0</td>\n",
       "      <td>10.0</td>\n",
       "      <td></td>\n",
       "      <td></td>\n",
       "    </tr>\n",
       "    <tr>\n",
       "      <th>6148</th>\n",
       "      <td>광주</td>\n",
       "      <td>전용면적 85제곱미터초과 102제곱미터이하</td>\n",
       "      <td>2021.0</td>\n",
       "      <td>10.0</td>\n",
       "      <td></td>\n",
       "      <td></td>\n",
       "    </tr>\n",
       "    <tr>\n",
       "      <th>6153</th>\n",
       "      <td>대전</td>\n",
       "      <td>전용면적 85제곱미터초과 102제곱미터이하</td>\n",
       "      <td>2021.0</td>\n",
       "      <td>10.0</td>\n",
       "      <td></td>\n",
       "      <td></td>\n",
       "    </tr>\n",
       "    <tr>\n",
       "      <th>6154</th>\n",
       "      <td>대전</td>\n",
       "      <td>전용면적 102제곱미터초과</td>\n",
       "      <td>2021.0</td>\n",
       "      <td>10.0</td>\n",
       "      <td></td>\n",
       "      <td></td>\n",
       "    </tr>\n",
       "    <tr>\n",
       "      <th>6159</th>\n",
       "      <td>울산</td>\n",
       "      <td>전용면적 102제곱미터초과</td>\n",
       "      <td>2021.0</td>\n",
       "      <td>10.0</td>\n",
       "      <td></td>\n",
       "      <td></td>\n",
       "    </tr>\n",
       "    <tr>\n",
       "      <th>6188</th>\n",
       "      <td>전남</td>\n",
       "      <td>전용면적 85제곱미터초과 102제곱미터이하</td>\n",
       "      <td>2021.0</td>\n",
       "      <td>10.0</td>\n",
       "      <td></td>\n",
       "      <td></td>\n",
       "    </tr>\n",
       "    <tr>\n",
       "      <th>6201</th>\n",
       "      <td>제주</td>\n",
       "      <td>전용면적 60제곱미터이하</td>\n",
       "      <td>2021.0</td>\n",
       "      <td>10.0</td>\n",
       "      <td></td>\n",
       "      <td></td>\n",
       "    </tr>\n",
       "    <tr>\n",
       "      <th>6403</th>\n",
       "      <td>광주</td>\n",
       "      <td>전용면적 85제곱미터초과 102제곱미터이하</td>\n",
       "      <td>2022.0</td>\n",
       "      <td>1.0</td>\n",
       "      <td></td>\n",
       "      <td></td>\n",
       "    </tr>\n",
       "    <tr>\n",
       "      <th>6408</th>\n",
       "      <td>대전</td>\n",
       "      <td>전용면적 85제곱미터초과 102제곱미터이하</td>\n",
       "      <td>2022.0</td>\n",
       "      <td>1.0</td>\n",
       "      <td></td>\n",
       "      <td></td>\n",
       "    </tr>\n",
       "    <tr>\n",
       "      <th>6409</th>\n",
       "      <td>대전</td>\n",
       "      <td>전용면적 102제곱미터초과</td>\n",
       "      <td>2022.0</td>\n",
       "      <td>1.0</td>\n",
       "      <td></td>\n",
       "      <td></td>\n",
       "    </tr>\n",
       "    <tr>\n",
       "      <th>6414</th>\n",
       "      <td>울산</td>\n",
       "      <td>전용면적 102제곱미터초과</td>\n",
       "      <td>2022.0</td>\n",
       "      <td>1.0</td>\n",
       "      <td></td>\n",
       "      <td></td>\n",
       "    </tr>\n",
       "    <tr>\n",
       "      <th>6443</th>\n",
       "      <td>전남</td>\n",
       "      <td>전용면적 85제곱미터초과 102제곱미터이하</td>\n",
       "      <td>2022.0</td>\n",
       "      <td>1.0</td>\n",
       "      <td></td>\n",
       "      <td></td>\n",
       "    </tr>\n",
       "  </tbody>\n",
       "</table>\n",
       "</div>"
      ],
      "text/plain": [
       "     지역명                     전용면적      연도     월 분양가격 분양가격_복사\n",
       "28    광주  전용면적 85제곱미터초과 102제곱미터이하  2015.0  10.0             \n",
       "29    광주           전용면적 102제곱미터초과  2015.0  10.0             \n",
       "34    대전           전용면적 102제곱미터초과  2015.0  10.0             \n",
       "81    제주            전용면적 60제곱미터이하  2015.0  10.0             \n",
       "113   광주  전용면적 85제곱미터초과 102제곱미터이하  2015.0  11.0             \n",
       "114   광주           전용면적 102제곱미터초과  2015.0  11.0             \n",
       "119   대전           전용면적 102제곱미터초과  2015.0  11.0             \n",
       "166   제주            전용면적 60제곱미터이하  2015.0  11.0             \n",
       "198   광주  전용면적 85제곱미터초과 102제곱미터이하  2015.0  12.0             \n",
       "199   광주           전용면적 102제곱미터초과  2015.0  12.0             \n",
       "204   대전           전용면적 102제곱미터초과  2015.0  12.0             \n",
       "251   제주            전용면적 60제곱미터이하  2015.0  12.0             \n",
       "283   광주  전용면적 85제곱미터초과 102제곱미터이하  2016.0   1.0             \n",
       "284   광주           전용면적 102제곱미터초과  2016.0   1.0             \n",
       "289   대전           전용면적 102제곱미터초과  2016.0   1.0             \n",
       "336   제주            전용면적 60제곱미터이하  2016.0   1.0             \n",
       "6039  서울           전용면적 102제곱미터초과  2021.0   9.0             \n",
       "6063  광주  전용면적 85제곱미터초과 102제곱미터이하  2021.0   9.0             \n",
       "6068  대전  전용면적 85제곱미터초과 102제곱미터이하  2021.0   9.0             \n",
       "6069  대전           전용면적 102제곱미터초과  2021.0   9.0             \n",
       "6074  울산           전용면적 102제곱미터초과  2021.0   9.0             \n",
       "6103  전남  전용면적 85제곱미터초과 102제곱미터이하  2021.0   9.0             \n",
       "6116  제주            전용면적 60제곱미터이하  2021.0   9.0             \n",
       "6118  제주  전용면적 85제곱미터초과 102제곱미터이하  2021.0   9.0             \n",
       "6124  서울           전용면적 102제곱미터초과  2021.0  10.0             \n",
       "6148  광주  전용면적 85제곱미터초과 102제곱미터이하  2021.0  10.0             \n",
       "6153  대전  전용면적 85제곱미터초과 102제곱미터이하  2021.0  10.0             \n",
       "6154  대전           전용면적 102제곱미터초과  2021.0  10.0             \n",
       "6159  울산           전용면적 102제곱미터초과  2021.0  10.0             \n",
       "6188  전남  전용면적 85제곱미터초과 102제곱미터이하  2021.0  10.0             \n",
       "6201  제주            전용면적 60제곱미터이하  2021.0  10.0             \n",
       "6403  광주  전용면적 85제곱미터초과 102제곱미터이하  2022.0   1.0             \n",
       "6408  대전  전용면적 85제곱미터초과 102제곱미터이하  2022.0   1.0             \n",
       "6409  대전           전용면적 102제곱미터초과  2022.0   1.0             \n",
       "6414  울산           전용면적 102제곱미터초과  2022.0   1.0             \n",
       "6443  전남  전용면적 85제곱미터초과 102제곱미터이하  2022.0   1.0             "
      ]
     },
     "execution_count": 62,
     "metadata": {},
     "output_type": "execute_result"
    }
   ],
   "source": [
    "#마스크를 보고 싶어요 로우에 결측치가 있기에 실행 안되기에 결측치를 보지 않고 나타내줘\n",
    "apt_price[apt_price.분양가격_복사.str.contains(' ',na=False)]"
   ]
  },
  {
   "cell_type": "code",
   "execution_count": 63,
   "id": "f6e01240",
   "metadata": {},
   "outputs": [],
   "source": [
    "apt_price['분양가격_복사']= apt_price['분양가격_복사'].replace(np.nan, float(0)).replace(' ','').replace('  ','').replace('','0')"
   ]
  },
  {
   "cell_type": "code",
   "execution_count": 64,
   "id": "0756ed5c",
   "metadata": {},
   "outputs": [
    {
     "data": {
      "text/plain": [
       "0"
      ]
     },
     "execution_count": 64,
     "metadata": {},
     "output_type": "execute_result"
    }
   ],
   "source": [
    "apt_price['분양가격_복사'].isnull().sum()"
   ]
  },
  {
   "cell_type": "code",
   "execution_count": 65,
   "id": "b2481245",
   "metadata": {},
   "outputs": [
    {
     "data": {
      "text/html": [
       "<div>\n",
       "<style scoped>\n",
       "    .dataframe tbody tr th:only-of-type {\n",
       "        vertical-align: middle;\n",
       "    }\n",
       "\n",
       "    .dataframe tbody tr th {\n",
       "        vertical-align: top;\n",
       "    }\n",
       "\n",
       "    .dataframe thead th {\n",
       "        text-align: right;\n",
       "    }\n",
       "</style>\n",
       "<table border=\"1\" class=\"dataframe\">\n",
       "  <thead>\n",
       "    <tr style=\"text-align: right;\">\n",
       "      <th></th>\n",
       "      <th>지역명</th>\n",
       "      <th>전용면적</th>\n",
       "      <th>연도</th>\n",
       "      <th>월</th>\n",
       "      <th>분양가격</th>\n",
       "      <th>분양가격_복사</th>\n",
       "    </tr>\n",
       "  </thead>\n",
       "  <tbody>\n",
       "    <tr>\n",
       "      <th>368</th>\n",
       "      <td>광주</td>\n",
       "      <td>전용면적 85제곱미터초과 102제곱미터이하</td>\n",
       "      <td>2016.0</td>\n",
       "      <td>2.0</td>\n",
       "      <td>NaN</td>\n",
       "      <td>0.0</td>\n",
       "    </tr>\n",
       "    <tr>\n",
       "      <th>369</th>\n",
       "      <td>광주</td>\n",
       "      <td>전용면적 102제곱미터초과</td>\n",
       "      <td>2016.0</td>\n",
       "      <td>2.0</td>\n",
       "      <td>NaN</td>\n",
       "      <td>0.0</td>\n",
       "    </tr>\n",
       "    <tr>\n",
       "      <th>374</th>\n",
       "      <td>대전</td>\n",
       "      <td>전용면적 102제곱미터초과</td>\n",
       "      <td>2016.0</td>\n",
       "      <td>2.0</td>\n",
       "      <td>NaN</td>\n",
       "      <td>0.0</td>\n",
       "    </tr>\n",
       "    <tr>\n",
       "      <th>388</th>\n",
       "      <td>강원</td>\n",
       "      <td>전용면적 85제곱미터초과 102제곱미터이하</td>\n",
       "      <td>2016.0</td>\n",
       "      <td>2.0</td>\n",
       "      <td>NaN</td>\n",
       "      <td>0.0</td>\n",
       "    </tr>\n",
       "    <tr>\n",
       "      <th>421</th>\n",
       "      <td>제주</td>\n",
       "      <td>전용면적 60제곱미터이하</td>\n",
       "      <td>2016.0</td>\n",
       "      <td>2.0</td>\n",
       "      <td>NaN</td>\n",
       "      <td>0.0</td>\n",
       "    </tr>\n",
       "    <tr>\n",
       "      <th>...</th>\n",
       "      <td>...</td>\n",
       "      <td>...</td>\n",
       "      <td>...</td>\n",
       "      <td>...</td>\n",
       "      <td>...</td>\n",
       "      <td>...</td>\n",
       "    </tr>\n",
       "    <tr>\n",
       "      <th>6318</th>\n",
       "      <td>광주</td>\n",
       "      <td>전용면적 85제곱미터초과 102제곱미터이하</td>\n",
       "      <td>2021.0</td>\n",
       "      <td>12.0</td>\n",
       "      <td>NaN</td>\n",
       "      <td>0.0</td>\n",
       "    </tr>\n",
       "    <tr>\n",
       "      <th>6323</th>\n",
       "      <td>대전</td>\n",
       "      <td>전용면적 85제곱미터초과 102제곱미터이하</td>\n",
       "      <td>2021.0</td>\n",
       "      <td>12.0</td>\n",
       "      <td>NaN</td>\n",
       "      <td>0.0</td>\n",
       "    </tr>\n",
       "    <tr>\n",
       "      <th>6324</th>\n",
       "      <td>대전</td>\n",
       "      <td>전용면적 102제곱미터초과</td>\n",
       "      <td>2021.0</td>\n",
       "      <td>12.0</td>\n",
       "      <td>NaN</td>\n",
       "      <td>0.0</td>\n",
       "    </tr>\n",
       "    <tr>\n",
       "      <th>6329</th>\n",
       "      <td>울산</td>\n",
       "      <td>전용면적 102제곱미터초과</td>\n",
       "      <td>2021.0</td>\n",
       "      <td>12.0</td>\n",
       "      <td>NaN</td>\n",
       "      <td>0.0</td>\n",
       "    </tr>\n",
       "    <tr>\n",
       "      <th>6358</th>\n",
       "      <td>전남</td>\n",
       "      <td>전용면적 85제곱미터초과 102제곱미터이하</td>\n",
       "      <td>2021.0</td>\n",
       "      <td>12.0</td>\n",
       "      <td>NaN</td>\n",
       "      <td>0.0</td>\n",
       "    </tr>\n",
       "  </tbody>\n",
       "</table>\n",
       "<p>484 rows × 6 columns</p>\n",
       "</div>"
      ],
      "text/plain": [
       "     지역명                     전용면적      연도     월 분양가격 분양가격_복사\n",
       "368   광주  전용면적 85제곱미터초과 102제곱미터이하  2016.0   2.0  NaN     0.0\n",
       "369   광주           전용면적 102제곱미터초과  2016.0   2.0  NaN     0.0\n",
       "374   대전           전용면적 102제곱미터초과  2016.0   2.0  NaN     0.0\n",
       "388   강원  전용면적 85제곱미터초과 102제곱미터이하  2016.0   2.0  NaN     0.0\n",
       "421   제주            전용면적 60제곱미터이하  2016.0   2.0  NaN     0.0\n",
       "...   ..                      ...     ...   ...  ...     ...\n",
       "6318  광주  전용면적 85제곱미터초과 102제곱미터이하  2021.0  12.0  NaN     0.0\n",
       "6323  대전  전용면적 85제곱미터초과 102제곱미터이하  2021.0  12.0  NaN     0.0\n",
       "6324  대전           전용면적 102제곱미터초과  2021.0  12.0  NaN     0.0\n",
       "6329  울산           전용면적 102제곱미터초과  2021.0  12.0  NaN     0.0\n",
       "6358  전남  전용면적 85제곱미터초과 102제곱미터이하  2021.0  12.0  NaN     0.0\n",
       "\n",
       "[484 rows x 6 columns]"
      ]
     },
     "execution_count": 65,
     "metadata": {},
     "output_type": "execute_result"
    }
   ],
   "source": [
    "apt_price[apt_price['분양가격'].isnull()]"
   ]
  },
  {
   "cell_type": "markdown",
   "id": "deb4c683",
   "metadata": {},
   "source": [
    "### 타입 변경\n",
    "- 연도, 월 , 분양가격 복사 -> int"
   ]
  },
  {
   "cell_type": "code",
   "execution_count": 66,
   "id": "1aca4468",
   "metadata": {
    "scrolled": true
   },
   "outputs": [
    {
     "data": {
      "text/plain": [
       "지역명         object\n",
       "전용면적        object\n",
       "연도         float64\n",
       "월          float64\n",
       "분양가격        object\n",
       "분양가격_복사     object\n",
       "dtype: object"
      ]
     },
     "execution_count": 66,
     "metadata": {},
     "output_type": "execute_result"
    }
   ],
   "source": [
    "apt_price.dtypes"
   ]
  },
  {
   "cell_type": "code",
   "execution_count": 67,
   "id": "336fa493",
   "metadata": {},
   "outputs": [],
   "source": [
    "apt_price= apt_price.astype({'연도':int,'월':int})"
   ]
  },
  {
   "cell_type": "code",
   "execution_count": 68,
   "id": "9e6ab217",
   "metadata": {
    "scrolled": false
   },
   "outputs": [
    {
     "data": {
      "text/plain": [
       "지역명        object\n",
       "전용면적       object\n",
       "연도          int32\n",
       "월           int32\n",
       "분양가격       object\n",
       "분양가격_복사    object\n",
       "dtype: object"
      ]
     },
     "execution_count": 68,
     "metadata": {},
     "output_type": "execute_result"
    }
   ],
   "source": [
    "apt_price.dtypes"
   ]
  },
  {
   "cell_type": "code",
   "execution_count": 69,
   "id": "e0b9b0fa",
   "metadata": {
    "scrolled": true
   },
   "outputs": [
    {
     "name": "stdout",
     "output_type": "stream",
     "text": [
      "<class 'pandas.core.series.Series'>\n",
      "Index: 6460 entries, 0 to 6459\n",
      "Series name: 분양가격_복사\n",
      "Non-Null Count  Dtype \n",
      "--------------  ----- \n",
      "6460 non-null   object\n",
      "dtypes: object(1)\n",
      "memory usage: 100.9+ KB\n"
     ]
    }
   ],
   "source": [
    "apt_price['분양가격_복사'].info()"
   ]
  },
  {
   "cell_type": "code",
   "execution_count": 70,
   "id": "194d212d",
   "metadata": {},
   "outputs": [
    {
     "data": {
      "text/plain": [
       "count     6460.0\n",
       "unique    2315.0\n",
       "top          0.0\n",
       "freq       484.0\n",
       "Name: 분양가격_복사, dtype: float64"
      ]
     },
     "execution_count": 70,
     "metadata": {},
     "output_type": "execute_result"
    }
   ],
   "source": [
    "apt_price['분양가격_복사'].describe()"
   ]
  },
  {
   "cell_type": "code",
   "execution_count": 71,
   "id": "528391a2",
   "metadata": {},
   "outputs": [
    {
     "data": {
      "text/plain": [
       "0"
      ]
     },
     "execution_count": 71,
     "metadata": {},
     "output_type": "execute_result"
    }
   ],
   "source": [
    "#공백 보기 \n",
    "apt_price.분양가격_복사.str.contains(' ').sum()"
   ]
  },
  {
   "cell_type": "code",
   "execution_count": 72,
   "id": "f7eaf342",
   "metadata": {},
   "outputs": [
    {
     "data": {
      "text/html": [
       "<div>\n",
       "<style scoped>\n",
       "    .dataframe tbody tr th:only-of-type {\n",
       "        vertical-align: middle;\n",
       "    }\n",
       "\n",
       "    .dataframe tbody tr th {\n",
       "        vertical-align: top;\n",
       "    }\n",
       "\n",
       "    .dataframe thead th {\n",
       "        text-align: right;\n",
       "    }\n",
       "</style>\n",
       "<table border=\"1\" class=\"dataframe\">\n",
       "  <thead>\n",
       "    <tr style=\"text-align: right;\">\n",
       "      <th></th>\n",
       "      <th>지역명</th>\n",
       "      <th>전용면적</th>\n",
       "      <th>연도</th>\n",
       "      <th>월</th>\n",
       "      <th>분양가격</th>\n",
       "      <th>분양가격_복사</th>\n",
       "    </tr>\n",
       "  </thead>\n",
       "  <tbody>\n",
       "  </tbody>\n",
       "</table>\n",
       "</div>"
      ],
      "text/plain": [
       "Empty DataFrame\n",
       "Columns: [지역명, 전용면적, 연도, 월, 분양가격, 분양가격_복사]\n",
       "Index: []"
      ]
     },
     "execution_count": 72,
     "metadata": {},
     "output_type": "execute_result"
    }
   ],
   "source": [
    "#마스크를 보고 싶어요 로우에 결측치가 있기에 실행 안되기에 결측치를 보지 않고 나타내줘\n",
    "apt_price[apt_price.분양가격_복사.str.contains(' ',na=False)]"
   ]
  },
  {
   "cell_type": "code",
   "execution_count": 73,
   "id": "1c9c9841",
   "metadata": {},
   "outputs": [],
   "source": [
    "apt_price= apt_price.astype({'분양가격_복사':int})"
   ]
  },
  {
   "cell_type": "code",
   "execution_count": 74,
   "id": "4fdeb20b",
   "metadata": {},
   "outputs": [
    {
     "name": "stdout",
     "output_type": "stream",
     "text": [
      "<class 'pandas.core.series.Series'>\n",
      "Index: 6460 entries, 0 to 6459\n",
      "Series name: 분양가격_복사\n",
      "Non-Null Count  Dtype\n",
      "--------------  -----\n",
      "6460 non-null   int32\n",
      "dtypes: int32(1)\n",
      "memory usage: 75.7 KB\n"
     ]
    }
   ],
   "source": [
    "apt_price['분양가격_복사'].info()"
   ]
  },
  {
   "cell_type": "markdown",
   "id": "71bd912a",
   "metadata": {},
   "source": [
    "## 전용면적 컬럼 데이터 변경\n",
    "\n",
    "- 변경 전 : 변경 후\n",
    "- 모든 면적 : 모든 면적\n",
    "- 전용면적 60제곱미터이하 : 60\n",
    "- 전용면적 60초과 85이하 : 60~80\n",
    "- 전용면적 85초과 102이하 : 85~102\n",
    "- 전용면적 102초과        : 102"
   ]
  },
  {
   "cell_type": "code",
   "execution_count": 75,
   "id": "5dee8d34",
   "metadata": {},
   "outputs": [],
   "source": [
    "#다른 방법\n",
    "apt_price.전용면적 = apt_price.전용면적.str.replace('전용면적','').str.replace('제곱미터이하','').str.replace('제곱미터초과','~').str.replace(' ','')"
   ]
  },
  {
   "cell_type": "code",
   "execution_count": 76,
   "id": "88fea42a",
   "metadata": {},
   "outputs": [],
   "source": [
    "# apt_price.loc[apt_price['전용면적'] == '전용면적 60제곱미터이하', '전용면적'] = 60\n",
    "# apt_price.loc[apt_price['전용면적'] == '전용면적 60제곱미터초과 85제곱미터이하', '전용면적'] = '60~80'\n",
    "# apt_price.loc[apt_price['전용면적'] == '전용면적 85제곱미터초과 102제곱미터이하', '전용면적'] = '85~102'\n",
    "# apt_price.loc[apt_price['전용면적'] == '전용면적 102제곱미터초과', '전용면적'] = 102~"
   ]
  },
  {
   "cell_type": "code",
   "execution_count": 77,
   "id": "1d1e769f",
   "metadata": {
    "scrolled": true
   },
   "outputs": [
    {
     "data": {
      "text/html": [
       "<div>\n",
       "<style scoped>\n",
       "    .dataframe tbody tr th:only-of-type {\n",
       "        vertical-align: middle;\n",
       "    }\n",
       "\n",
       "    .dataframe tbody tr th {\n",
       "        vertical-align: top;\n",
       "    }\n",
       "\n",
       "    .dataframe thead th {\n",
       "        text-align: right;\n",
       "    }\n",
       "</style>\n",
       "<table border=\"1\" class=\"dataframe\">\n",
       "  <thead>\n",
       "    <tr style=\"text-align: right;\">\n",
       "      <th></th>\n",
       "      <th>지역명</th>\n",
       "      <th>전용면적</th>\n",
       "      <th>연도</th>\n",
       "      <th>월</th>\n",
       "      <th>분양가격</th>\n",
       "      <th>분양가격_복사</th>\n",
       "    </tr>\n",
       "  </thead>\n",
       "  <tbody>\n",
       "    <tr>\n",
       "      <th>0</th>\n",
       "      <td>서울</td>\n",
       "      <td>모든면적</td>\n",
       "      <td>2015</td>\n",
       "      <td>10</td>\n",
       "      <td>5841</td>\n",
       "      <td>5841</td>\n",
       "    </tr>\n",
       "    <tr>\n",
       "      <th>1</th>\n",
       "      <td>서울</td>\n",
       "      <td>60</td>\n",
       "      <td>2015</td>\n",
       "      <td>10</td>\n",
       "      <td>5652</td>\n",
       "      <td>5652</td>\n",
       "    </tr>\n",
       "    <tr>\n",
       "      <th>2</th>\n",
       "      <td>서울</td>\n",
       "      <td>60~85</td>\n",
       "      <td>2015</td>\n",
       "      <td>10</td>\n",
       "      <td>5882</td>\n",
       "      <td>5882</td>\n",
       "    </tr>\n",
       "    <tr>\n",
       "      <th>3</th>\n",
       "      <td>서울</td>\n",
       "      <td>85~102</td>\n",
       "      <td>2015</td>\n",
       "      <td>10</td>\n",
       "      <td>5721</td>\n",
       "      <td>5721</td>\n",
       "    </tr>\n",
       "    <tr>\n",
       "      <th>4</th>\n",
       "      <td>서울</td>\n",
       "      <td>102~</td>\n",
       "      <td>2015</td>\n",
       "      <td>10</td>\n",
       "      <td>5879</td>\n",
       "      <td>5879</td>\n",
       "    </tr>\n",
       "    <tr>\n",
       "      <th>5</th>\n",
       "      <td>인천</td>\n",
       "      <td>모든면적</td>\n",
       "      <td>2015</td>\n",
       "      <td>10</td>\n",
       "      <td>3163</td>\n",
       "      <td>3163</td>\n",
       "    </tr>\n",
       "  </tbody>\n",
       "</table>\n",
       "</div>"
      ],
      "text/plain": [
       "  지역명    전용면적    연도   월  분양가격  분양가격_복사\n",
       "0  서울    모든면적  2015  10  5841     5841\n",
       "1  서울      60  2015  10  5652     5652\n",
       "2  서울   60~85  2015  10  5882     5882\n",
       "3  서울  85~102  2015  10  5721     5721\n",
       "4  서울    102~  2015  10  5879     5879\n",
       "5  인천    모든면적  2015  10  3163     3163"
      ]
     },
     "execution_count": 77,
     "metadata": {},
     "output_type": "execute_result"
    }
   ],
   "source": [
    "apt_price[:6]"
   ]
  },
  {
   "cell_type": "markdown",
   "id": "0d49c9a2",
   "metadata": {},
   "source": [
    "### 컬럼 정리 \n",
    "- 삭제 : 분양가격\n",
    "- 분양가격_복사 : 컬럼명 변경(분양가격)"
   ]
  },
  {
   "cell_type": "code",
   "execution_count": 78,
   "id": "2772b52c",
   "metadata": {},
   "outputs": [
    {
     "data": {
      "text/plain": [
       "지역명        520\n",
       "전용면적       520\n",
       "연도         520\n",
       "월          520\n",
       "분양가격        36\n",
       "분양가격_복사    520\n",
       "dtype: int64"
      ]
     },
     "execution_count": 78,
     "metadata": {},
     "output_type": "execute_result"
    }
   ],
   "source": [
    "#분양가격 복사 확인\n",
    "apt_price[apt_price.분양가격_복사 == 0].count()"
   ]
  },
  {
   "cell_type": "code",
   "execution_count": 79,
   "id": "6a2d9597",
   "metadata": {},
   "outputs": [],
   "source": [
    "#삭제 분양가격\n",
    "apt_price.drop(columns=('분양가격'),inplace=True)"
   ]
  },
  {
   "cell_type": "code",
   "execution_count": 80,
   "id": "345ce387",
   "metadata": {},
   "outputs": [],
   "source": [
    "#컬럼명 변경\n",
    "apt_price.rename(columns={'분양가격_복사':'분양가격'},inplace=True)"
   ]
  },
  {
   "cell_type": "code",
   "execution_count": 81,
   "id": "c3635de1",
   "metadata": {},
   "outputs": [
    {
     "data": {
      "text/html": [
       "<div>\n",
       "<style scoped>\n",
       "    .dataframe tbody tr th:only-of-type {\n",
       "        vertical-align: middle;\n",
       "    }\n",
       "\n",
       "    .dataframe tbody tr th {\n",
       "        vertical-align: top;\n",
       "    }\n",
       "\n",
       "    .dataframe thead th {\n",
       "        text-align: right;\n",
       "    }\n",
       "</style>\n",
       "<table border=\"1\" class=\"dataframe\">\n",
       "  <thead>\n",
       "    <tr style=\"text-align: right;\">\n",
       "      <th></th>\n",
       "      <th>지역명</th>\n",
       "      <th>전용면적</th>\n",
       "      <th>연도</th>\n",
       "      <th>월</th>\n",
       "      <th>분양가격</th>\n",
       "    </tr>\n",
       "  </thead>\n",
       "  <tbody>\n",
       "    <tr>\n",
       "      <th>0</th>\n",
       "      <td>서울</td>\n",
       "      <td>모든면적</td>\n",
       "      <td>2015</td>\n",
       "      <td>10</td>\n",
       "      <td>5841</td>\n",
       "    </tr>\n",
       "    <tr>\n",
       "      <th>1</th>\n",
       "      <td>서울</td>\n",
       "      <td>60</td>\n",
       "      <td>2015</td>\n",
       "      <td>10</td>\n",
       "      <td>5652</td>\n",
       "    </tr>\n",
       "    <tr>\n",
       "      <th>2</th>\n",
       "      <td>서울</td>\n",
       "      <td>60~85</td>\n",
       "      <td>2015</td>\n",
       "      <td>10</td>\n",
       "      <td>5882</td>\n",
       "    </tr>\n",
       "    <tr>\n",
       "      <th>3</th>\n",
       "      <td>서울</td>\n",
       "      <td>85~102</td>\n",
       "      <td>2015</td>\n",
       "      <td>10</td>\n",
       "      <td>5721</td>\n",
       "    </tr>\n",
       "    <tr>\n",
       "      <th>4</th>\n",
       "      <td>서울</td>\n",
       "      <td>102~</td>\n",
       "      <td>2015</td>\n",
       "      <td>10</td>\n",
       "      <td>5879</td>\n",
       "    </tr>\n",
       "    <tr>\n",
       "      <th>...</th>\n",
       "      <td>...</td>\n",
       "      <td>...</td>\n",
       "      <td>...</td>\n",
       "      <td>...</td>\n",
       "      <td>...</td>\n",
       "    </tr>\n",
       "    <tr>\n",
       "      <th>6455</th>\n",
       "      <td>제주</td>\n",
       "      <td>모든면적</td>\n",
       "      <td>2022</td>\n",
       "      <td>1</td>\n",
       "      <td>6574</td>\n",
       "    </tr>\n",
       "    <tr>\n",
       "      <th>6456</th>\n",
       "      <td>제주</td>\n",
       "      <td>60</td>\n",
       "      <td>2022</td>\n",
       "      <td>1</td>\n",
       "      <td>2862</td>\n",
       "    </tr>\n",
       "    <tr>\n",
       "      <th>6457</th>\n",
       "      <td>제주</td>\n",
       "      <td>60~85</td>\n",
       "      <td>2022</td>\n",
       "      <td>1</td>\n",
       "      <td>6516</td>\n",
       "    </tr>\n",
       "    <tr>\n",
       "      <th>6458</th>\n",
       "      <td>제주</td>\n",
       "      <td>85~102</td>\n",
       "      <td>2022</td>\n",
       "      <td>1</td>\n",
       "      <td>5924</td>\n",
       "    </tr>\n",
       "    <tr>\n",
       "      <th>6459</th>\n",
       "      <td>제주</td>\n",
       "      <td>102~</td>\n",
       "      <td>2022</td>\n",
       "      <td>1</td>\n",
       "      <td>6493</td>\n",
       "    </tr>\n",
       "  </tbody>\n",
       "</table>\n",
       "<p>6460 rows × 5 columns</p>\n",
       "</div>"
      ],
      "text/plain": [
       "     지역명    전용면적    연도   월  분양가격\n",
       "0     서울    모든면적  2015  10  5841\n",
       "1     서울      60  2015  10  5652\n",
       "2     서울   60~85  2015  10  5882\n",
       "3     서울  85~102  2015  10  5721\n",
       "4     서울    102~  2015  10  5879\n",
       "...   ..     ...   ...  ..   ...\n",
       "6455  제주    모든면적  2022   1  6574\n",
       "6456  제주      60  2022   1  2862\n",
       "6457  제주   60~85  2022   1  6516\n",
       "6458  제주  85~102  2022   1  5924\n",
       "6459  제주    102~  2022   1  6493\n",
       "\n",
       "[6460 rows x 5 columns]"
      ]
     },
     "execution_count": 81,
     "metadata": {},
     "output_type": "execute_result"
    }
   ],
   "source": [
    "apt_price"
   ]
  },
  {
   "cell_type": "markdown",
   "id": "665e3aa2",
   "metadata": {},
   "source": [
    "### csv 파일 저장\n",
    "- 파일명 : apt_price.csv\n",
    "- 인덱스 삭제\n",
    "- 인코딩 utf- 8"
   ]
  },
  {
   "cell_type": "code",
   "execution_count": 82,
   "id": "fcb0166b",
   "metadata": {},
   "outputs": [],
   "source": [
    "apt_price.to_csv('apt_price.csv',index=False,encoding='UTF-8')"
   ]
  },
  {
   "cell_type": "code",
   "execution_count": 83,
   "id": "1372d6b1",
   "metadata": {},
   "outputs": [],
   "source": [
    "apt_price.to_csv('apt_price_1.csv',index=False,encoding='EUC-kr')"
   ]
  },
  {
   "cell_type": "code",
   "execution_count": null,
   "id": "0c84c754",
   "metadata": {},
   "outputs": [],
   "source": []
  }
 ],
 "metadata": {
  "kernelspec": {
   "display_name": "ex_kernel",
   "language": "python",
   "name": "ex"
  },
  "language_info": {
   "codemirror_mode": {
    "name": "ipython",
    "version": 3
   },
   "file_extension": ".py",
   "mimetype": "text/x-python",
   "name": "python",
   "nbconvert_exporter": "python",
   "pygments_lexer": "ipython3",
   "version": "3.8.10"
  },
  "toc": {
   "base_numbering": 1,
   "nav_menu": {},
   "number_sections": true,
   "sideBar": true,
   "skip_h1_title": false,
   "title_cell": "Table of Contents",
   "title_sidebar": "Contents",
   "toc_cell": false,
   "toc_position": {},
   "toc_section_display": true,
   "toc_window_display": false
  }
 },
 "nbformat": 4,
 "nbformat_minor": 5
}
