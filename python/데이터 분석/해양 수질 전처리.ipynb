{
 "cells": [
  {
   "cell_type": "code",
   "execution_count": 1,
   "id": "4d61345b",
   "metadata": {},
   "outputs": [],
   "source": [
    "import pandas as pd\n",
    "import numpy as np\n",
    "import matplotlib.pyplot as plt\n",
    "import seaborn as sns\n",
    "import re"
   ]
  },
  {
   "cell_type": "code",
   "execution_count": 2,
   "id": "83b52fa0",
   "metadata": {},
   "outputs": [],
   "source": [
    "#파일 읽어 오기"
   ]
  },
  {
   "cell_type": "code",
   "execution_count": 3,
   "id": "ab693d26",
   "metadata": {},
   "outputs": [],
   "source": [
    "ocean_2018 = pd.read_csv('완-해양환경측정망 연안별 평균(2018).csv',encoding='cp949')\n",
    "ocean_2019 = pd.read_csv('완-해양환경측정망 연안별 평균(2019).csv',encoding='cp949')\n",
    "ocean_2020 = pd.read_csv('해양환경측정(2020).csv',encoding='cp949')"
   ]
  },
  {
   "cell_type": "code",
   "execution_count": 4,
   "id": "19c3b2dc",
   "metadata": {},
   "outputs": [
    {
     "data": {
      "text/html": [
       "<div>\n",
       "<style scoped>\n",
       "    .dataframe tbody tr th:only-of-type {\n",
       "        vertical-align: middle;\n",
       "    }\n",
       "\n",
       "    .dataframe tbody tr th {\n",
       "        vertical-align: top;\n",
       "    }\n",
       "\n",
       "    .dataframe thead th {\n",
       "        text-align: right;\n",
       "    }\n",
       "</style>\n",
       "<table border=\"1\" class=\"dataframe\">\n",
       "  <thead>\n",
       "    <tr style=\"text-align: right;\">\n",
       "      <th></th>\n",
       "      <th>해역</th>\n",
       "      <th>연안명칭</th>\n",
       "      <th>no.</th>\n",
       "      <th>수온(℃)표층</th>\n",
       "      <th>수온(℃)저층</th>\n",
       "      <th>염분표층</th>\n",
       "      <th>염분저층</th>\n",
       "      <th>pH표층</th>\n",
       "      <th>pH저층</th>\n",
       "      <th>DO(㎎/L)표층</th>\n",
       "      <th>...</th>\n",
       "      <th>T-P( mg/L )저층</th>\n",
       "      <th>SiO2-Si( mg/L )표층</th>\n",
       "      <th>SiO2-Si( mg/L )저층</th>\n",
       "      <th>SS( mg/L )표층</th>\n",
       "      <th>SS( mg/L )저층</th>\n",
       "      <th>Chl-a(㎍/L)표층</th>\n",
       "      <th>Chl-a(㎍/L)저층</th>\n",
       "      <th>유분(㎎/L)표층</th>\n",
       "      <th>투명도(m)표층</th>\n",
       "      <th>대장균군(MPN/100ml)표층</th>\n",
       "    </tr>\n",
       "  </thead>\n",
       "  <tbody>\n",
       "    <tr>\n",
       "      <th>0</th>\n",
       "      <td>동해</td>\n",
       "      <td>거진연안</td>\n",
       "      <td>Avg.</td>\n",
       "      <td>13.660312</td>\n",
       "      <td>9.033175</td>\n",
       "      <td>33.561675</td>\n",
       "      <td>33.803213</td>\n",
       "      <td>8.156250</td>\n",
       "      <td>8.153750</td>\n",
       "      <td>9.311068</td>\n",
       "      <td>...</td>\n",
       "      <td>22.405250</td>\n",
       "      <td>169.365000</td>\n",
       "      <td>211.841000</td>\n",
       "      <td>5.968750</td>\n",
       "      <td>5.991667</td>\n",
       "      <td>0.915750</td>\n",
       "      <td>0.852175</td>\n",
       "      <td>0</td>\n",
       "      <td>9.15000</td>\n",
       "      <td>0</td>\n",
       "    </tr>\n",
       "    <tr>\n",
       "      <th>1</th>\n",
       "      <td>동해</td>\n",
       "      <td>속초연안</td>\n",
       "      <td>Avg.</td>\n",
       "      <td>14.881844</td>\n",
       "      <td>9.745025</td>\n",
       "      <td>33.527875</td>\n",
       "      <td>33.958981</td>\n",
       "      <td>8.198125</td>\n",
       "      <td>8.180625</td>\n",
       "      <td>8.999973</td>\n",
       "      <td>...</td>\n",
       "      <td>19.518375</td>\n",
       "      <td>109.779125</td>\n",
       "      <td>203.474125</td>\n",
       "      <td>6.607292</td>\n",
       "      <td>4.947917</td>\n",
       "      <td>1.202138</td>\n",
       "      <td>0.649962</td>\n",
       "      <td>0</td>\n",
       "      <td>9.16875</td>\n",
       "      <td>0</td>\n",
       "    </tr>\n",
       "    <tr>\n",
       "      <th>2</th>\n",
       "      <td>동해</td>\n",
       "      <td>양양연안</td>\n",
       "      <td>Avg.</td>\n",
       "      <td>14.976744</td>\n",
       "      <td>9.194581</td>\n",
       "      <td>33.646212</td>\n",
       "      <td>34.006912</td>\n",
       "      <td>8.181250</td>\n",
       "      <td>8.135000</td>\n",
       "      <td>9.007500</td>\n",
       "      <td>...</td>\n",
       "      <td>22.676500</td>\n",
       "      <td>120.326250</td>\n",
       "      <td>242.707500</td>\n",
       "      <td>4.405208</td>\n",
       "      <td>4.315625</td>\n",
       "      <td>0.939512</td>\n",
       "      <td>0.472825</td>\n",
       "      <td>0</td>\n",
       "      <td>9.92500</td>\n",
       "      <td>0</td>\n",
       "    </tr>\n",
       "  </tbody>\n",
       "</table>\n",
       "<p>3 rows × 36 columns</p>\n",
       "</div>"
      ],
      "text/plain": [
       "   해역  연안명칭   no.    수온(℃)표층   수온(℃)저층       염분표층       염분저층      pH표층   \n",
       "0  동해  거진연안  Avg.  13.660312  9.033175  33.561675  33.803213  8.156250  \\\n",
       "1  동해  속초연안  Avg.  14.881844  9.745025  33.527875  33.958981  8.198125   \n",
       "2  동해  양양연안  Avg.  14.976744  9.194581  33.646212  34.006912  8.181250   \n",
       "\n",
       "       pH저층  DO(㎎/L)표층  ...  T-P( mg/L )저층  SiO2-Si( mg/L )표층   \n",
       "0  8.153750   9.311068  ...      22.405250         169.365000  \\\n",
       "1  8.180625   8.999973  ...      19.518375         109.779125   \n",
       "2  8.135000   9.007500  ...      22.676500         120.326250   \n",
       "\n",
       "   SiO2-Si( mg/L )저층  SS( mg/L )표층  SS( mg/L )저층  Chl-a(㎍/L)표층  Chl-a(㎍/L)저층   \n",
       "0         211.841000      5.968750      5.991667      0.915750      0.852175  \\\n",
       "1         203.474125      6.607292      4.947917      1.202138      0.649962   \n",
       "2         242.707500      4.405208      4.315625      0.939512      0.472825   \n",
       "\n",
       "   유분(㎎/L)표층  투명도(m)표층  대장균군(MPN/100ml)표층  \n",
       "0          0   9.15000                  0  \n",
       "1          0   9.16875                  0  \n",
       "2          0   9.92500                  0  \n",
       "\n",
       "[3 rows x 36 columns]"
      ]
     },
     "execution_count": 4,
     "metadata": {},
     "output_type": "execute_result"
    }
   ],
   "source": [
    "ocean_2018[:3]"
   ]
  },
  {
   "cell_type": "code",
   "execution_count": 5,
   "id": "9a41fe0f",
   "metadata": {},
   "outputs": [
    {
     "name": "stdout",
     "output_type": "stream",
     "text": [
      "<class 'pandas.core.frame.DataFrame'>\n",
      "RangeIndex: 105 entries, 0 to 104\n",
      "Data columns (total 36 columns):\n",
      " #   Column             Non-Null Count  Dtype  \n",
      "---  ------             --------------  -----  \n",
      " 0   해역                 105 non-null    object \n",
      " 1   연안명칭               105 non-null    object \n",
      " 2   no.                105 non-null    object \n",
      " 3   수온(℃)표층            105 non-null    float64\n",
      " 4   수온(℃)저층            105 non-null    float64\n",
      " 5   염분표층               105 non-null    float64\n",
      " 6   염분저층               105 non-null    float64\n",
      " 7   pH표층               105 non-null    float64\n",
      " 8   pH저층               105 non-null    float64\n",
      " 9   DO(㎎/L)표층          105 non-null    float64\n",
      " 10  DO(㎎/L)저층          105 non-null    float64\n",
      " 11  COD(㎎/L)표층         105 non-null    float64\n",
      " 12  COD(㎎/L)저층         105 non-null    float64\n",
      " 13  NH4-N(㎎/L)표층       105 non-null    float64\n",
      " 14  NH4-N(㎎/L)저층       105 non-null    float64\n",
      " 15  NO2-N(㎎/L)표층       105 non-null    float64\n",
      " 16  NO2-N(㎎/L)저층       105 non-null    float64\n",
      " 17  NO3-N(㎎/L)표층       105 non-null    float64\n",
      " 18  NO3-N(㎎/L)저층       105 non-null    float64\n",
      " 19  DIN( mg/L )표층      105 non-null    float64\n",
      " 20  DIN( mg/L )저층      105 non-null    float64\n",
      " 21  T-N( mg/L )표층      105 non-null    float64\n",
      " 22  T-N( mg/L )저층      105 non-null    float64\n",
      " 23  DIP( mg/L )표층      105 non-null    float64\n",
      " 24  DIP( mg/L )저층      105 non-null    float64\n",
      " 25  T-P( mg/L )표층      105 non-null    float64\n",
      " 26  T-P( mg/L )저층      105 non-null    float64\n",
      " 27  SiO2-Si( mg/L )표층  105 non-null    float64\n",
      " 28  SiO2-Si( mg/L )저층  105 non-null    float64\n",
      " 29  SS( mg/L )표층       105 non-null    float64\n",
      " 30  SS( mg/L )저층       105 non-null    float64\n",
      " 31  Chl-a(㎍/L)표층       105 non-null    float64\n",
      " 32  Chl-a(㎍/L)저층       105 non-null    float64\n",
      " 33  유분(㎎/L)표층          105 non-null    int64  \n",
      " 34  투명도(m)표층           105 non-null    float64\n",
      " 35  대장균군(MPN/100ml)표층  105 non-null    int64  \n",
      "dtypes: float64(31), int64(2), object(3)\n",
      "memory usage: 29.7+ KB\n"
     ]
    }
   ],
   "source": [
    "ocean_2018.info()"
   ]
  },
  {
   "cell_type": "code",
   "execution_count": 6,
   "id": "3c59e0d9",
   "metadata": {},
   "outputs": [
    {
     "name": "stdout",
     "output_type": "stream",
     "text": [
      "<class 'pandas.core.frame.DataFrame'>\n",
      "RangeIndex: 105 entries, 0 to 104\n",
      "Data columns (total 36 columns):\n",
      " #   Column             Non-Null Count  Dtype  \n",
      "---  ------             --------------  -----  \n",
      " 0   해역                 105 non-null    object \n",
      " 1   연안명칭               105 non-null    object \n",
      " 2   no.                105 non-null    object \n",
      " 3   수온(℃)표층            105 non-null    float64\n",
      " 4   수온(℃)저층            105 non-null    float64\n",
      " 5   염분표층               105 non-null    float64\n",
      " 6   염분저층               105 non-null    float64\n",
      " 7   pH표층               105 non-null    float64\n",
      " 8   pH저층               105 non-null    float64\n",
      " 9   DO(㎎/L)표층          105 non-null    float64\n",
      " 10  DO(㎎/L)저층          105 non-null    float64\n",
      " 11  COD(㎎/L)표층         105 non-null    float64\n",
      " 12  COD(㎎/L)저층         105 non-null    float64\n",
      " 13  NH4-N(㎍/L)표층       105 non-null    float64\n",
      " 14  NH4-N(㎍/L)저층       105 non-null    float64\n",
      " 15  NO2-N(㎍/L)표층       105 non-null    float64\n",
      " 16  NO2-N(㎎/L)저층       105 non-null    float64\n",
      " 17  NO3-N(㎎/L)표층       105 non-null    float64\n",
      " 18  NO3-N(㎎/L)저층       105 non-null    float64\n",
      " 19  DIN( ㎍/L )표층       105 non-null    float64\n",
      " 20  DIN( ㎍/L )저층       105 non-null    float64\n",
      " 21  T-N( ㎍/L )표층       105 non-null    float64\n",
      " 22  T-N( ㎍/L )저층       105 non-null    float64\n",
      " 23  DIP( ㎍/L )표층       105 non-null    float64\n",
      " 24  DIP( ㎍/L )저층       105 non-null    float64\n",
      " 25  T-P( ㎍/L )표층       105 non-null    float64\n",
      " 26  T-P( ㎍/L )저층       105 non-null    float64\n",
      " 27  SiO2-Si( ㎍/L )표층   105 non-null    float64\n",
      " 28  SiO2-Si( ㎍/L )저층   105 non-null    float64\n",
      " 29  SS( ㎍/L )표층        105 non-null    float64\n",
      " 30  SS( mg/L )저층       105 non-null    float64\n",
      " 31  Chl-a(㎍/L)표층       105 non-null    float64\n",
      " 32  Chl-a(㎍/L)저층       105 non-null    float64\n",
      " 33  유분(㎎/L)표층          105 non-null    int64  \n",
      " 34  투명도(m)표층           105 non-null    float64\n",
      " 35  대장균군(MPN/100ml)표층  105 non-null    int64  \n",
      "dtypes: float64(31), int64(2), object(3)\n",
      "memory usage: 29.7+ KB\n"
     ]
    }
   ],
   "source": [
    "ocean_2019.info()"
   ]
  },
  {
   "cell_type": "code",
   "execution_count": 7,
   "id": "efcc3318",
   "metadata": {},
   "outputs": [
    {
     "name": "stdout",
     "output_type": "stream",
     "text": [
      "<class 'pandas.core.frame.DataFrame'>\n",
      "RangeIndex: 99 entries, 0 to 98\n",
      "Data columns (total 35 columns):\n",
      " #   Column                       Non-Null Count  Dtype  \n",
      "---  ------                       --------------  -----  \n",
      " 0   조사년도                         99 non-null     int64  \n",
      " 1   해역                           99 non-null     object \n",
      " 2   연안명칭                         99 non-null     object \n",
      " 3   평균                           99 non-null     object \n",
      " 4   수온(C)표층                      99 non-null     float64\n",
      " 5   수온(C)저층                      99 non-null     float64\n",
      " 6   염분 표층                        99 non-null     float64\n",
      " 7   염분 저층                        99 non-null     float64\n",
      " 8   수소이온농도(ph) 표층                99 non-null     float64\n",
      " 9   수소이온농도(ph) 저층                99 non-null     float64\n",
      " 10  용존산소량(DO)(L당mg)표층            99 non-null     float64\n",
      " 11  용존산소량(DO)(L당mg)저층            99 non-null     float64\n",
      " 12  화학적산소요구량(COD)(L당mg)표층        99 non-null     float64\n",
      " 13  화학적산소요구량(COD)(L당mg)저층        99 non-null     float64\n",
      " 14  암모니아성질소(NH4-N)( L당 마이크로g)표층  99 non-null     float64\n",
      " 15  암모니아성질소(NH4-N)( L당 마이크로g)저층  99 non-null     float64\n",
      " 16  아질산염질소(NO2-N)( L당 마이크로g)표층   99 non-null     float64\n",
      " 17  아질산염질소(NO2-N)( L당 마이크로g)저층   99 non-null     float64\n",
      " 18  질산성질소(NO3-N)(L당 마이크로g)표층     99 non-null     float64\n",
      " 19  질산성질소(NO3-N)(L당 마이크로g)저층     99 non-null     float64\n",
      " 20  용존무기질소(DIN)( L당 마이크로g)표층     99 non-null     float64\n",
      " 21  용존무기질소(DIN)( L당 마이크로g)저층     99 non-null     float64\n",
      " 22  총질소(T-N)( L당 마이크로g)표층        99 non-null     float64\n",
      " 23  총질소(T-N)( L당 마이크로g)저층        99 non-null     float64\n",
      " 24  용존무기인(DIP)( L당 마이크로g)표층      99 non-null     float64\n",
      " 25  용존무기인(DIP)( L당 마이크로g)저층      99 non-null     float64\n",
      " 26  총인(T-P)( L당 마이크로g)표층         99 non-null     float64\n",
      " 27  총인(T-P)( L당 마이크로g)저층         99 non-null     float64\n",
      " 28  SiO2-Si( L당 마이크로g)표층         99 non-null     float64\n",
      " 29  SiO2-Si( L당 마이크로g)저층         99 non-null     float64\n",
      " 30  부유물질량(SS)(L당mg)표층            99 non-null     float64\n",
      " 31  부유물질량(SS)(L당mg)저층            99 non-null     float64\n",
      " 32  클로로필-a(L당 마이크로g)표층           99 non-null     float64\n",
      " 33  클로로필-a(L당 마이크로g)저층           99 non-null     float64\n",
      " 34  투명도(m)표층                     99 non-null     float64\n",
      "dtypes: float64(31), int64(1), object(3)\n",
      "memory usage: 27.2+ KB\n"
     ]
    }
   ],
   "source": [
    "ocean_2020.info()"
   ]
  },
  {
   "cell_type": "code",
   "execution_count": 8,
   "id": "c1567681",
   "metadata": {},
   "outputs": [
    {
     "data": {
      "text/plain": [
       "array([ True,  True,  True,  True,  True,  True,  True,  True,  True,\n",
       "        True,  True,  True,  True, False, False, False,  True,  True,\n",
       "        True, False, False, False, False, False, False, False, False,\n",
       "       False, False, False,  True,  True,  True,  True,  True,  True])"
      ]
     },
     "execution_count": 8,
     "metadata": {},
     "output_type": "execute_result"
    }
   ],
   "source": [
    "ocean_2018.columns == ocean_2019.columns"
   ]
  },
  {
   "cell_type": "code",
   "execution_count": 9,
   "id": "54127f69",
   "metadata": {},
   "outputs": [],
   "source": [
    "ocean_2018.rename(columns={'수온(℃)표층':'수온','pH표층':'수소이온농도','DO(㎎/L)표층':'용존산소'},inplace=True)"
   ]
  },
  {
   "cell_type": "code",
   "execution_count": 10,
   "id": "d33218f0",
   "metadata": {},
   "outputs": [],
   "source": [
    "ocean_2018=ocean_2018[['해역','연안명칭','수온','수소이온농도','용존산소']]"
   ]
  },
  {
   "cell_type": "code",
   "execution_count": 11,
   "id": "8507098f",
   "metadata": {},
   "outputs": [
    {
     "name": "stdout",
     "output_type": "stream",
     "text": [
      "<class 'pandas.core.frame.DataFrame'>\n",
      "RangeIndex: 105 entries, 0 to 104\n",
      "Data columns (total 5 columns):\n",
      " #   Column  Non-Null Count  Dtype  \n",
      "---  ------  --------------  -----  \n",
      " 0   해역      105 non-null    object \n",
      " 1   연안명칭    105 non-null    object \n",
      " 2   수온      105 non-null    float64\n",
      " 3   수소이온농도  105 non-null    float64\n",
      " 4   용존산소    105 non-null    float64\n",
      "dtypes: float64(3), object(2)\n",
      "memory usage: 4.2+ KB\n"
     ]
    }
   ],
   "source": [
    "ocean_2018.info()"
   ]
  },
  {
   "cell_type": "code",
   "execution_count": 12,
   "id": "b178c519",
   "metadata": {},
   "outputs": [],
   "source": [
    "ocean_2019.rename(columns={'수온(℃)표층':'수온','pH표층':'수소이온농도','DO(㎎/L)표층':'용존산소'},inplace=True)"
   ]
  },
  {
   "cell_type": "code",
   "execution_count": 13,
   "id": "3bd85728",
   "metadata": {},
   "outputs": [],
   "source": [
    "ocean_2019=ocean_2019[['해역','연안명칭','수온','수소이온농도','용존산소']]"
   ]
  },
  {
   "cell_type": "code",
   "execution_count": 14,
   "id": "6ba06346",
   "metadata": {
    "scrolled": true
   },
   "outputs": [
    {
     "data": {
      "text/html": [
       "<div>\n",
       "<style scoped>\n",
       "    .dataframe tbody tr th:only-of-type {\n",
       "        vertical-align: middle;\n",
       "    }\n",
       "\n",
       "    .dataframe tbody tr th {\n",
       "        vertical-align: top;\n",
       "    }\n",
       "\n",
       "    .dataframe thead th {\n",
       "        text-align: right;\n",
       "    }\n",
       "</style>\n",
       "<table border=\"1\" class=\"dataframe\">\n",
       "  <thead>\n",
       "    <tr style=\"text-align: right;\">\n",
       "      <th></th>\n",
       "      <th>해역</th>\n",
       "      <th>연안명칭</th>\n",
       "      <th>수온</th>\n",
       "      <th>수소이온농도</th>\n",
       "      <th>용존산소</th>\n",
       "    </tr>\n",
       "  </thead>\n",
       "  <tbody>\n",
       "    <tr>\n",
       "      <th>95</th>\n",
       "      <td>동해</td>\n",
       "      <td>동해중부</td>\n",
       "      <td>0.000000</td>\n",
       "      <td>0.000000</td>\n",
       "      <td>0.000000</td>\n",
       "    </tr>\n",
       "    <tr>\n",
       "      <th>96</th>\n",
       "      <td>동해</td>\n",
       "      <td>동해남부</td>\n",
       "      <td>0.000000</td>\n",
       "      <td>0.000000</td>\n",
       "      <td>0.000000</td>\n",
       "    </tr>\n",
       "    <tr>\n",
       "      <th>97</th>\n",
       "      <td>남해</td>\n",
       "      <td>남해동부</td>\n",
       "      <td>0.000000</td>\n",
       "      <td>0.000000</td>\n",
       "      <td>0.000000</td>\n",
       "    </tr>\n",
       "    <tr>\n",
       "      <th>98</th>\n",
       "      <td>남해</td>\n",
       "      <td>남해서부</td>\n",
       "      <td>0.000000</td>\n",
       "      <td>0.000000</td>\n",
       "      <td>0.000000</td>\n",
       "    </tr>\n",
       "    <tr>\n",
       "      <th>99</th>\n",
       "      <td>서해</td>\n",
       "      <td>서해남부</td>\n",
       "      <td>0.000000</td>\n",
       "      <td>0.000000</td>\n",
       "      <td>0.000000</td>\n",
       "    </tr>\n",
       "    <tr>\n",
       "      <th>100</th>\n",
       "      <td>서해</td>\n",
       "      <td>서해중부</td>\n",
       "      <td>0.000000</td>\n",
       "      <td>0.000000</td>\n",
       "      <td>0.000000</td>\n",
       "    </tr>\n",
       "    <tr>\n",
       "      <th>101</th>\n",
       "      <td>서해</td>\n",
       "      <td>섬진강</td>\n",
       "      <td>16.925526</td>\n",
       "      <td>8.144250</td>\n",
       "      <td>8.846868</td>\n",
       "    </tr>\n",
       "    <tr>\n",
       "      <th>102</th>\n",
       "      <td>서해</td>\n",
       "      <td>낙동강하구</td>\n",
       "      <td>17.737398</td>\n",
       "      <td>8.071250</td>\n",
       "      <td>8.675529</td>\n",
       "    </tr>\n",
       "    <tr>\n",
       "      <th>103</th>\n",
       "      <td>연안</td>\n",
       "      <td>진해만</td>\n",
       "      <td>17.617909</td>\n",
       "      <td>8.229318</td>\n",
       "      <td>8.766862</td>\n",
       "    </tr>\n",
       "    <tr>\n",
       "      <th>104</th>\n",
       "      <td>특별관리</td>\n",
       "      <td>진해만</td>\n",
       "      <td>17.071275</td>\n",
       "      <td>8.271250</td>\n",
       "      <td>8.179707</td>\n",
       "    </tr>\n",
       "  </tbody>\n",
       "</table>\n",
       "</div>"
      ],
      "text/plain": [
       "       해역   연안명칭         수온    수소이온농도      용존산소\n",
       "95     동해   동해중부   0.000000  0.000000  0.000000\n",
       "96     동해   동해남부   0.000000  0.000000  0.000000\n",
       "97     남해   남해동부   0.000000  0.000000  0.000000\n",
       "98     남해   남해서부   0.000000  0.000000  0.000000\n",
       "99     서해   서해남부   0.000000  0.000000  0.000000\n",
       "100    서해   서해중부   0.000000  0.000000  0.000000\n",
       "101    서해    섬진강  16.925526  8.144250  8.846868\n",
       "102    서해  낙동강하구  17.737398  8.071250  8.675529\n",
       "103    연안    진해만  17.617909  8.229318  8.766862\n",
       "104  특별관리    진해만  17.071275  8.271250  8.179707"
      ]
     },
     "execution_count": 14,
     "metadata": {},
     "output_type": "execute_result"
    }
   ],
   "source": [
    "ocean_2019[-10:]"
   ]
  },
  {
   "cell_type": "code",
   "execution_count": 20,
   "id": "c1476546",
   "metadata": {},
   "outputs": [],
   "source": [
    "ocean_2020.rename(columns={'수온(C)표층':'수온','수소이온농도(ph) 표층':'수소이온농도','용존산소량(DO)(L당mg)표층':'용존산소'},inplace=True)"
   ]
  },
  {
   "cell_type": "code",
   "execution_count": 21,
   "id": "ffefcad7",
   "metadata": {
    "collapsed": true
   },
   "outputs": [
    {
     "data": {
      "text/html": [
       "<div>\n",
       "<style scoped>\n",
       "    .dataframe tbody tr th:only-of-type {\n",
       "        vertical-align: middle;\n",
       "    }\n",
       "\n",
       "    .dataframe tbody tr th {\n",
       "        vertical-align: top;\n",
       "    }\n",
       "\n",
       "    .dataframe thead th {\n",
       "        text-align: right;\n",
       "    }\n",
       "</style>\n",
       "<table border=\"1\" class=\"dataframe\">\n",
       "  <thead>\n",
       "    <tr style=\"text-align: right;\">\n",
       "      <th></th>\n",
       "      <th>조사년도</th>\n",
       "      <th>해역</th>\n",
       "      <th>연안명칭</th>\n",
       "      <th>평균</th>\n",
       "      <th>수온</th>\n",
       "      <th>수온(C)저층</th>\n",
       "      <th>염분 표층</th>\n",
       "      <th>염분 저층</th>\n",
       "      <th>수소이온농도</th>\n",
       "      <th>수소이온농도(ph) 저층</th>\n",
       "      <th>...</th>\n",
       "      <th>용존무기인(DIP)( L당 마이크로g)저층</th>\n",
       "      <th>총인(T-P)( L당 마이크로g)표층</th>\n",
       "      <th>총인(T-P)( L당 마이크로g)저층</th>\n",
       "      <th>SiO2-Si( L당 마이크로g)표층</th>\n",
       "      <th>SiO2-Si( L당 마이크로g)저층</th>\n",
       "      <th>부유물질량(SS)(L당mg)표층</th>\n",
       "      <th>부유물질량(SS)(L당mg)저층</th>\n",
       "      <th>클로로필-a(L당 마이크로g)표층</th>\n",
       "      <th>클로로필-a(L당 마이크로g)저층</th>\n",
       "      <th>투명도(m)표층</th>\n",
       "    </tr>\n",
       "  </thead>\n",
       "  <tbody>\n",
       "    <tr>\n",
       "      <th>0</th>\n",
       "      <td>2020</td>\n",
       "      <td>동해</td>\n",
       "      <td>거진연안</td>\n",
       "      <td>Avg.</td>\n",
       "      <td>16.06</td>\n",
       "      <td>13.37</td>\n",
       "      <td>32.99</td>\n",
       "      <td>33.79</td>\n",
       "      <td>8.18</td>\n",
       "      <td>8.14</td>\n",
       "      <td>...</td>\n",
       "      <td>9.39</td>\n",
       "      <td>21.76</td>\n",
       "      <td>20.75</td>\n",
       "      <td>212.61</td>\n",
       "      <td>229.29</td>\n",
       "      <td>5.07</td>\n",
       "      <td>4.53</td>\n",
       "      <td>2.09</td>\n",
       "      <td>1.58</td>\n",
       "      <td>6.06</td>\n",
       "    </tr>\n",
       "    <tr>\n",
       "      <th>1</th>\n",
       "      <td>2020</td>\n",
       "      <td>동해</td>\n",
       "      <td>속초연안</td>\n",
       "      <td>Avg.</td>\n",
       "      <td>15.78</td>\n",
       "      <td>14.03</td>\n",
       "      <td>33.49</td>\n",
       "      <td>33.79</td>\n",
       "      <td>8.19</td>\n",
       "      <td>8.21</td>\n",
       "      <td>...</td>\n",
       "      <td>7.17</td>\n",
       "      <td>16.23</td>\n",
       "      <td>18.85</td>\n",
       "      <td>182.56</td>\n",
       "      <td>192.34</td>\n",
       "      <td>4.60</td>\n",
       "      <td>3.27</td>\n",
       "      <td>2.28</td>\n",
       "      <td>1.99</td>\n",
       "      <td>9.18</td>\n",
       "    </tr>\n",
       "    <tr>\n",
       "      <th>2</th>\n",
       "      <td>2020</td>\n",
       "      <td>동해</td>\n",
       "      <td>양양연안</td>\n",
       "      <td>Avg.</td>\n",
       "      <td>15.75</td>\n",
       "      <td>13.00</td>\n",
       "      <td>33.55</td>\n",
       "      <td>33.88</td>\n",
       "      <td>8.19</td>\n",
       "      <td>8.16</td>\n",
       "      <td>...</td>\n",
       "      <td>9.49</td>\n",
       "      <td>16.03</td>\n",
       "      <td>20.36</td>\n",
       "      <td>168.11</td>\n",
       "      <td>221.89</td>\n",
       "      <td>6.08</td>\n",
       "      <td>3.79</td>\n",
       "      <td>1.99</td>\n",
       "      <td>1.72</td>\n",
       "      <td>8.82</td>\n",
       "    </tr>\n",
       "  </tbody>\n",
       "</table>\n",
       "<p>3 rows × 35 columns</p>\n",
       "</div>"
      ],
      "text/plain": [
       "   조사년도  해역  연안명칭    평균     수온  수온(C)저층  염분 표층  염분 저층  수소이온농도  수소이온농도(ph) 저층   \n",
       "0  2020  동해  거진연안  Avg.  16.06    13.37  32.99  33.79    8.18           8.14  \\\n",
       "1  2020  동해  속초연안  Avg.  15.78    14.03  33.49  33.79    8.19           8.21   \n",
       "2  2020  동해  양양연안  Avg.  15.75    13.00  33.55  33.88    8.19           8.16   \n",
       "\n",
       "   ...  용존무기인(DIP)( L당 마이크로g)저층  총인(T-P)( L당 마이크로g)표층  총인(T-P)( L당 마이크로g)저층   \n",
       "0  ...                     9.39                 21.76                 20.75  \\\n",
       "1  ...                     7.17                 16.23                 18.85   \n",
       "2  ...                     9.49                 16.03                 20.36   \n",
       "\n",
       "   SiO2-Si( L당 마이크로g)표층  SiO2-Si( L당 마이크로g)저층  부유물질량(SS)(L당mg)표층   \n",
       "0                212.61                229.29               5.07  \\\n",
       "1                182.56                192.34               4.60   \n",
       "2                168.11                221.89               6.08   \n",
       "\n",
       "   부유물질량(SS)(L당mg)저층  클로로필-a(L당 마이크로g)표층  클로로필-a(L당 마이크로g)저층  투명도(m)표층  \n",
       "0               4.53                2.09                1.58      6.06  \n",
       "1               3.27                2.28                1.99      9.18  \n",
       "2               3.79                1.99                1.72      8.82  \n",
       "\n",
       "[3 rows x 35 columns]"
      ]
     },
     "execution_count": 21,
     "metadata": {},
     "output_type": "execute_result"
    }
   ],
   "source": [
    "ocean_2020[:3]"
   ]
  },
  {
   "cell_type": "code",
   "execution_count": 22,
   "id": "4ec1dcea",
   "metadata": {
    "collapsed": true
   },
   "outputs": [
    {
     "data": {
      "text/plain": [
       "Index(['조사년도', '해역', '연안명칭', '평균', '수온', '수온(C)저층', '염분 표층', '염분 저층', '수소이온농도',\n",
       "       '수소이온농도(ph) 저층', '용존산소', '용존산소량(DO)(L당mg)저층', '화학적산소요구량(COD)(L당mg)표층',\n",
       "       '화학적산소요구량(COD)(L당mg)저층', '암모니아성질소(NH4-N)( L당 마이크로g)표층',\n",
       "       '암모니아성질소(NH4-N)( L당 마이크로g)저층', '아질산염질소(NO2-N)( L당 마이크로g)표층',\n",
       "       '아질산염질소(NO2-N)( L당 마이크로g)저층', '질산성질소(NO3-N)(L당 마이크로g)표층',\n",
       "       '질산성질소(NO3-N)(L당 마이크로g)저층', '용존무기질소(DIN)( L당 마이크로g)표층',\n",
       "       '용존무기질소(DIN)( L당 마이크로g)저층', '총질소(T-N)( L당 마이크로g)표층',\n",
       "       '총질소(T-N)( L당 마이크로g)저층', '용존무기인(DIP)( L당 마이크로g)표층',\n",
       "       '용존무기인(DIP)( L당 마이크로g)저층', '총인(T-P)( L당 마이크로g)표층',\n",
       "       '총인(T-P)( L당 마이크로g)저층', 'SiO2-Si( L당 마이크로g)표층', 'SiO2-Si( L당 마이크로g)저층',\n",
       "       '부유물질량(SS)(L당mg)표층', '부유물질량(SS)(L당mg)저층', '클로로필-a(L당 마이크로g)표층',\n",
       "       '클로로필-a(L당 마이크로g)저층', '투명도(m)표층'],\n",
       "      dtype='object')"
      ]
     },
     "execution_count": 22,
     "metadata": {},
     "output_type": "execute_result"
    }
   ],
   "source": [
    "ocean_2020.columns"
   ]
  },
  {
   "cell_type": "code",
   "execution_count": 24,
   "id": "0e04df63",
   "metadata": {
    "scrolled": true
   },
   "outputs": [],
   "source": [
    "ocean_2020=ocean_2020[['해역','연안명칭','수온','수소이온농도','용존산소']]"
   ]
  },
  {
   "cell_type": "code",
   "execution_count": 26,
   "id": "9705f183",
   "metadata": {},
   "outputs": [],
   "source": [
    "ocean= pd.concat([ocean_2018, ocean_2019, ocean_2020])"
   ]
  },
  {
   "cell_type": "code",
   "execution_count": 31,
   "id": "6a2476b6",
   "metadata": {},
   "outputs": [
    {
     "name": "stdout",
     "output_type": "stream",
     "text": [
      "<class 'pandas.core.frame.DataFrame'>\n",
      "Index: 309 entries, 0 to 98\n",
      "Data columns (total 5 columns):\n",
      " #   Column  Non-Null Count  Dtype  \n",
      "---  ------  --------------  -----  \n",
      " 0   해역      309 non-null    object \n",
      " 1   연안명칭    309 non-null    object \n",
      " 2   수온      309 non-null    float64\n",
      " 3   수소이온농도  309 non-null    float64\n",
      " 4   용존산소    309 non-null    float64\n",
      "dtypes: float64(3), object(2)\n",
      "memory usage: 14.5+ KB\n"
     ]
    }
   ],
   "source": [
    "ocean.info()"
   ]
  },
  {
   "cell_type": "code",
   "execution_count": 30,
   "id": "659c4f30",
   "metadata": {},
   "outputs": [],
   "source": [
    "ocean.to_csv('해안수질.csv',encoding='UTF-8',index=False)"
   ]
  },
  {
   "cell_type": "code",
   "execution_count": 36,
   "id": "160320b4",
   "metadata": {},
   "outputs": [
    {
     "data": {
      "text/plain": [
       "해역        0\n",
       "연안명칭      0\n",
       "수온        0\n",
       "수소이온농도    0\n",
       "용존산소      0\n",
       "dtype: int64"
      ]
     },
     "execution_count": 36,
     "metadata": {},
     "output_type": "execute_result"
    }
   ],
   "source": [
    "o_o=pd.read_csv('해안수질.csv')\n",
    "o_o.isnull().sum()"
   ]
  },
  {
   "cell_type": "code",
   "execution_count": null,
   "id": "da589680",
   "metadata": {},
   "outputs": [],
   "source": []
  },
  {
   "cell_type": "code",
   "execution_count": null,
   "id": "3f7c47ac",
   "metadata": {},
   "outputs": [],
   "source": []
  },
  {
   "cell_type": "code",
   "execution_count": null,
   "id": "0dce40ad",
   "metadata": {},
   "outputs": [],
   "source": []
  },
  {
   "cell_type": "code",
   "execution_count": null,
   "id": "5ff8df41",
   "metadata": {},
   "outputs": [],
   "source": []
  },
  {
   "cell_type": "code",
   "execution_count": null,
   "id": "1c2ca93e",
   "metadata": {},
   "outputs": [],
   "source": []
  }
 ],
 "metadata": {
  "kernelspec": {
   "display_name": "ex_kernel",
   "language": "python",
   "name": "ex"
  },
  "language_info": {
   "codemirror_mode": {
    "name": "ipython",
    "version": 3
   },
   "file_extension": ".py",
   "mimetype": "text/x-python",
   "name": "python",
   "nbconvert_exporter": "python",
   "pygments_lexer": "ipython3",
   "version": "3.8.10"
  },
  "toc": {
   "base_numbering": 1,
   "nav_menu": {},
   "number_sections": true,
   "sideBar": true,
   "skip_h1_title": false,
   "title_cell": "Table of Contents",
   "title_sidebar": "Contents",
   "toc_cell": false,
   "toc_position": {},
   "toc_section_display": true,
   "toc_window_display": false
  }
 },
 "nbformat": 4,
 "nbformat_minor": 5
}
