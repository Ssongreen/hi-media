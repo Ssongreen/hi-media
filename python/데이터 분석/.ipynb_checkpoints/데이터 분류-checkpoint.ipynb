{
 "cells": [
  {
   "cell_type": "code",
   "execution_count": 2,
   "id": "27eca3d6",
   "metadata": {
    "collapsed": true
   },
   "outputs": [
    {
     "name": "stdout",
     "output_type": "stream",
     "text": [
      "b'<?xml version=\"1.0\" encoding=\"UTF-8\"?><response>\\n  <header>\\n    <resultCode>00</resultCode>\\n    <resultMsg>NORMAL SERVIE</resultMsg>\\n  </header>\\n  <body>\\n    <items>\\n  <item>\\n    <num>1</num>\\n    <oceanCode>01</oceanCode>\\n    <oceanNm>\\xeb\\x8f\\x99\\xed\\x95\\xb4</oceanNm>\\n    <eclgyZoneAreaCode>0</eclgyZoneAreaCode>\\n    <eclgyZoneAreaNm>\\xeb\\x8f\\x99\\xed\\x95\\xb4</eclgyZoneAreaNm>\\n    <stnpntCode>0101H1</stnpntCode>\\n    <stnpntKoreanNm>\\xea\\xb1\\xb0\\xec\\xa7\\x84 H1</stnpntKoreanNm>\\n    <obsrYear>2019</obsrYear>\\n    <obsrMt>02</obsrMt>\\n    <obsrDe>2019-02-17</obsrDe>\\n    <wethr>\\xeb\\xa7\\x91\\xec\\x9d\\x8c</wethr>\\n    <wtrtmpSfclyr>4.92</wtrtmpSfclyr>\\n    <wtrtmpBtmlyr>4.89</wtrtmpBtmlyr>\\n    <salntSfclyr>33.88</salntSfclyr>\\n    <salntBtmlyr>33.88</salntBtmlyr>\\n    <phDnstySfclyr>8.19</phDnstySfclyr>\\n    <phDnstyBtmlyr>8.21</phDnstyBtmlyr>\\n    <doxySfclyr>9.96</doxySfclyr>\\n    <doxyBtmlyr>9.7</doxyBtmlyr>\\n    <choxdmSfclyr>1.12</choxdmSfclyr>\\n    <choxdmBtmlyr>1.2</choxdmBtmlyr>\\n    <nh4nSfclyr>45.9</nh4nSfclyr>\\n    <nh4nBtmlyr>37.8</nh4nBtmlyr>\\n    <no2nSfclyr>3.4</no2nSfclyr>\\n    <no2nBtmlyr>3.7</no2nBtmlyr>\\n    <no3nSfclyr>125</no3nSfclyr>\\n    <no3nBtmlyr>124.2</no3nBtmlyr>\\n    <dinSfclyr>174.3</dinSfclyr>\\n    <dinBtmlyr>165.7</dinBtmlyr>\\n    <totnSfclyr>286.6</totnSfclyr>\\n    <totnBtmlyr>294.1</totnBtmlyr>\\n    <dipSfclyr>21.4</dipSfclyr>\\n    <dipBtmlyr>22</dipBtmlyr>\\n    <totpSfclyr>33.9</totpSfclyr>\\n    <totpBtmlyr>33.4</totpBtmlyr>\\n    <slcacdSiSfclyr>343.9</slcacdSiSfclyr>\\n    <slcacdSiBtmlyr>340.1</slcacdSiBtmlyr>\\n    <fltngMttrSfclyr>4</fltngMttrSfclyr>\\n    <fltngMttrBtmlyr>3.5</fltngMttrBtmlyr>\\n    <clrplaSfclyr>0.28</clrplaSfclyr>\\n    <clrplaBtmlyr>0.14</clrplaBtmlyr>\\n    <eclgyZoneAreaScore>38</eclgyZoneAreaScore>\\n    <eclgyZoneAreaGrad>3</eclgyZoneAreaGrad>\\n  </item>\\n  <item>\\n    <num>2</num>\\n    <oceanCode>01</oceanCode>\\n    <oceanNm>\\xeb\\x8f\\x99\\xed\\x95\\xb4</oceanNm>\\n    <eclgyZoneAreaCode>0</eclgyZoneAreaCode>\\n    <eclgyZoneAreaNm>\\xeb\\x8f\\x99\\xed\\x95\\xb4</eclgyZoneAreaNm>\\n    <stnpntCode>010102</stnpntCode>\\n    <stnpntKoreanNm>\\xea\\xb1\\xb0\\xec\\xa7\\x84 02</stnpntKoreanNm>\\n    <obsrYear>2019</obsrYear>\\n    <obsrMt>02</obsrMt>\\n    <obsrDe>2019-02-17</obsrDe>\\n    <wethr>\\xeb\\xa7\\x91\\xec\\x9d\\x8c</wethr>\\n    <wtrtmpSfclyr>5.22</wtrtmpSfclyr>\\n    <wtrtmpBtmlyr>5.02</wtrtmpBtmlyr>\\n    <salntSfclyr>34.09</salntSfclyr>\\n    <salntBtmlyr>34.1</salntBtmlyr>\\n    <phDnstySfclyr>8.18</phDnstySfclyr>\\n    <phDnstyBtmlyr>8.19</phDnstyBtmlyr>\\n    <doxySfclyr>9.65</doxySfclyr>\\n    <doxyBtmlyr>9.59</doxyBtmlyr>\\n    <choxdmSfclyr>0.58</choxdmSfclyr>\\n    <choxdmBtmlyr>1.13</choxdmBtmlyr>\\n    <nh4nSfclyr>5.7</nh4nSfclyr>\\n    <nh4nBtmlyr>4.9</nh4nBtmlyr>\\n    <no2nSfclyr>3.2</no2nSfclyr>\\n    <no2nBtmlyr>3.6</no2nBtmlyr>\\n    <no3nSfclyr>119.7</no3nSfclyr>\\n    <no3nBtmlyr>100.5</no3nBtmlyr>\\n    <dinSfclyr>128.6</dinSfclyr>\\n    <dinBtmlyr>108.9</dinBtmlyr>\\n    <totnSfclyr>218.3</totnSfclyr>\\n    <totnBtmlyr>222.4</totnBtmlyr>\\n    <dipSfclyr>22.3</dipSfclyr>\\n    <dipBtmlyr>21.9</dipBtmlyr>\\n    <totpSfclyr>30</totpSfclyr>\\n    <totpBtmlyr>30.2</totpBtmlyr>\\n    <slcacdSiSfclyr>387.5</slcacdSiSfclyr>\\n    <slcacdSiBtmlyr>386.4</slcacdSiBtmlyr>\\n    <fltngMttrSfclyr>13</fltngMttrSfclyr>\\n    <fltngMttrBtmlyr>11</fltngMttrBtmlyr>\\n    <clrplaSfclyr>0.47</clrplaSfclyr>\\n    <clrplaBtmlyr>0.48</clrplaBtmlyr>\\n    <eclgyZoneAreaScore>33</eclgyZoneAreaScore>\\n    <eclgyZoneAreaGrad>2</eclgyZoneAreaGrad>\\n  </item>\\n  <item>\\n    <num>3</num>\\n    <oceanCode>01</oceanCode>\\n    <oceanNm>\\xeb\\x8f\\x99\\xed\\x95\\xb4</oceanNm>\\n    <eclgyZoneAreaCode>0</eclgyZoneAreaCode>\\n    <eclgyZoneAreaNm>\\xeb\\x8f\\x99\\xed\\x95\\xb4</eclgyZoneAreaNm>\\n    <stnpntCode>010101</stnpntCode>\\n    <stnpntKoreanNm>\\xea\\xb1\\xb0\\xec\\xa7\\x84 01</stnpntKoreanNm>\\n    <obsrYear>2019</obsrYear>\\n    <obsrMt>02</obsrMt>\\n    <obsrDe>2019-02-17</obsrDe>\\n    <wethr>\\xeb\\xa7\\x91\\xec\\x9d\\x8c</wethr>\\n    <wtrtmpSfclyr>6.64</wtrtmpSfclyr>\\n    <wtrtmpBtmlyr>1.27</wtrtmpBtmlyr>\\n    <salntSfclyr>34.19</salntSfclyr>\\n    <salntBtmlyr>33.99</salntBtmlyr>\\n    <phDnstySfclyr>8.15</phDnstySfclyr>\\n    <phDnstyBtmlyr>8.02</phDnstyBtmlyr>\\n    <doxySfclyr>9.46</doxySfclyr>\\n    <doxyBtmlyr>9.95</doxyBtmlyr>\\n    <choxdmSfclyr>0.51</choxdmSfclyr>\\n    <choxdmBtmlyr>1.09</choxdmBtmlyr>\\n    <nh4nSfclyr>3.2</nh4nSfclyr>\\n    <nh4nBtmlyr>1.6</nh4nBtmlyr>\\n    <no2nSfclyr>3.3</no2nSfclyr>\\n    <no2nBtmlyr>1.9</no2nBtmlyr>\\n    <no3nSfclyr>97.8</no3nSfclyr>\\n    <no3nBtmlyr>144.6</no3nBtmlyr>\\n    <dinSfclyr>104.3</dinSfclyr>\\n    <dinBtmlyr>148.1</dinBtmlyr>\\n    <totnSfclyr>186.5</totnSfclyr>\\n    <totnBtmlyr>272.7</totnBtmlyr>\\n    <dipSfclyr>17.6</dipSfclyr>\\n    <dipBtmlyr>31.8</dipBtmlyr>\\n    <totpSfclyr>27.8</totpSfclyr>\\n    <totpBtmlyr>38.7</totpBtmlyr>\\n    <slcacdSiSfclyr>340.2</slcacdSiSfclyr>\\n    <slcacdSiBtmlyr>513.9</slcacdSiBtmlyr>\\n    <fltngMttrSfclyr>2.2</fltngMttrSfclyr>\\n    <fltngMttrBtmlyr>2.4</fltngMttrBtmlyr>\\n    <clrplaSfclyr>0.96</clrplaSfclyr>\\n    <clrplaBtmlyr>0.11</clrplaBtmlyr>\\n    <eclgyZoneAreaScore>30</eclgyZoneAreaScore>\\n    <eclgyZoneAreaGrad>2</eclgyZoneAreaGrad>\\n  </item>\\n  <item>\\n    <num>4</num>\\n    <oceanCode>01</oceanCode>\\n    <oceanNm>\\xeb\\x8f\\x99\\xed\\x95\\xb4</oceanNm>\\n    <eclgyZoneAreaCode>0</eclgyZoneAreaCode>\\n    <eclgyZoneAreaNm>\\xeb\\x8f\\x99\\xed\\x95\\xb4</eclgyZoneAreaNm>\\n    <stnpntCode>010101</stnpntCode>\\n    <stnpntKoreanNm>\\xea\\xb1\\xb0\\xec\\xa7\\x84 01</stnpntKoreanNm>\\n    <obsrYear>2019</obsrYear>\\n    <obsrMt>05</obsrMt>\\n    <obsrDe>2019-05-02</obsrDe>\\n    <wethr>\\xeb\\xa7\\x91\\xec\\x9d\\x8c</wethr>\\n    <wtrtmpSfclyr>13.34</wtrtmpSfclyr>\\n    <wtrtmpBtmlyr>2.82</wtrtmpBtmlyr>\\n    <salntSfclyr>34.04</salntSfclyr>\\n    <salntBtmlyr>34.05</salntBtmlyr>\\n    <phDnstySfclyr>8.19</phDnstySfclyr>\\n    <phDnstyBtmlyr>7.81</phDnstyBtmlyr>\\n    <doxySfclyr>9.04</doxySfclyr>\\n    <doxyBtmlyr>8.2</doxyBtmlyr>\\n    <choxdmSfclyr>1.37</choxdmSfclyr>\\n    <choxdmBtmlyr>1.4</choxdmBtmlyr>\\n    <nh4nSfclyr>11</nh4nSfclyr>\\n    <nh4nBtmlyr>31.2</nh4nBtmlyr>\\n    <no2nSfclyr>0.2</no2nSfclyr>\\n    <no2nBtmlyr>1.5</no2nBtmlyr>\\n    <no3nSfclyr>6.6</no3nSfclyr>\\n    <no3nBtmlyr>225.5</no3nBtmlyr>\\n    <dinSfclyr>17.7</dinSfclyr>\\n    <dinBtmlyr>258.2</dinBtmlyr>\\n    <totnSfclyr>111.5</totnSfclyr>\\n    <totnBtmlyr>338.8</totnBtmlyr>\\n    <dipSfclyr>2.3</dipSfclyr>\\n    <dipBtmlyr>44.8</dipBtmlyr>\\n    <totpSfclyr>11.9</totpSfclyr>\\n    <totpBtmlyr>49.7</totpBtmlyr>\\n    <slcacdSiSfclyr>71.2</slcacdSiSfclyr>\\n    <slcacdSiBtmlyr>744.4</slcacdSiBtmlyr>\\n    <fltngMttrSfclyr>4.2</fltngMttrSfclyr>\\n    <fltngMttrBtmlyr>8.9</fltngMttrBtmlyr>\\n    <clrplaSfclyr>0.78</clrplaSfclyr>\\n    <clrplaBtmlyr>0.2</clrplaBtmlyr>\\n    <eclgyZoneAreaScore>46</eclgyZoneAreaScore>\\n    <eclgyZoneAreaGrad>3</eclgyZoneAreaGrad>\\n  </item>\\n  <item>\\n    <num>5</num>\\n    <oceanCode>01</oceanCode>\\n    <oceanNm>\\xeb\\x8f\\x99\\xed\\x95\\xb4</oceanNm>\\n    <eclgyZoneAreaCode>0</eclgyZoneAreaCode>\\n    <eclgyZoneAreaNm>\\xeb\\x8f\\x99\\xed\\x95\\xb4</eclgyZoneAreaNm>\\n    <stnpntCode>010102</stnpntCode>\\n    <stnpntKoreanNm>\\xea\\xb1\\xb0\\xec\\xa7\\x84 02</stnpntKoreanNm>\\n    <obsrYear>2019</obsrYear>\\n    <obsrMt>05</obsrMt>\\n    <obsrDe>2019-05-02</obsrDe>\\n    <wethr>\\xeb\\xa7\\x91\\xec\\x9d\\x8c</wethr>\\n    <wtrtmpSfclyr>13.7</wtrtmpSfclyr>\\n    <wtrtmpBtmlyr>13.89</wtrtmpBtmlyr>\\n    <salntSfclyr>33.84</salntSfclyr>\\n    <salntBtmlyr>33.79</salntBtmlyr>\\n    <phDnstySfclyr>8.17</phDnstySfclyr>\\n    <phDnstyBtmlyr>8.16</phDnstyBtmlyr>\\n    <doxySfclyr>9.15</doxySfclyr>\\n    <doxyBtmlyr>9.43</doxyBtmlyr>\\n    <choxdmSfclyr>1.26</choxdmSfclyr>\\n    <choxdmBtmlyr>1.39</choxdmBtmlyr>\\n    <nh4nSfclyr>7.2</nh4nSfclyr>\\n    <nh4nBtmlyr>15.2</nh4nBtmlyr>\\n    <no2nSfclyr>0.2</no2nSfclyr>\\n    <no2nBtmlyr>1</no2nBtmlyr>\\n    <no3nSfclyr>4.2</no3nSfclyr>\\n    <no3nBtmlyr>14.3</no3nBtmlyr>\\n    <dinSfclyr>11.6</dinSfclyr>\\n    <dinBtmlyr>30.4</dinBtmlyr>\\n    <totnSfclyr>129.3</totnSfclyr>\\n    <totnBtmlyr>145.1</totnBtmlyr>\\n    <dipSfclyr>1.6</dipSfclyr>\\n    <dipBtmlyr>5.1</dipBtmlyr>\\n    <totpSfclyr>12.6</totpSfclyr>\\n    <totpBtmlyr>17.5</totpBtmlyr>\\n    <slcacdSiSfclyr>120.5</slcacdSiSfclyr>\\n    <slcacdSiBtmlyr>151.6</slcacdSiBtmlyr>\\n    <fltngMttrSfclyr>5.6</fltngMttrSfclyr>\\n    <fltngMttrBtmlyr>6.3</fltngMttrBtmlyr>\\n    <clrplaSfclyr>1.76</clrplaSfclyr>\\n    <clrplaBtmlyr>0.95</clrplaBtmlyr>\\n    <eclgyZoneAreaScore>29</eclgyZoneAreaScore>\\n    <eclgyZoneAreaGrad>2</eclgyZoneAreaGrad>\\n  </item>\\n</items>\\n    <numOfRows>10</numOfRows>\\n    <pageNo>1</pageNo>\\n    <totalCount>5</totalCount>\\n  </body>\\n</response>\\n'\n"
     ]
    }
   ],
   "source": [
    "# Python3 샘플 코드 #\n",
    "\n",
    "\n",
    "import requests\n",
    "\n",
    "url = 'http://apis.data.go.kr/B553931/service/OceansNemoService1/getOceansNemo1'\n",
    "\n",
    "serviceKey=r'Zx92cxvOccFv7GV3RSr/3eyh9y/QUJp50opmRhYJ0aSNA9/PStwNjYn+eoLsWsbhxe91eXP3cSQfVWYDaTYZjA=='\n",
    "\n",
    "\n",
    "params ={'serviceKey' : serviceKey, 'pageNo' : '1', 'numOfRows' : '10', 'resultType' : 'xml', 'OCEAN_NM' : '동해', 'ECLGY_ZONE_AREA_NM' : '동해', 'STNPNT_KOREAN_NM' : '거진', 'sdate' : '20190201', 'edate' : '20190531' }\n",
    "\n",
    "response = requests.get(url, params=params)\n",
    "print(response.content)"
   ]
  },
  {
   "cell_type": "code",
   "execution_count": 5,
   "id": "d0cde005",
   "metadata": {},
   "outputs": [
    {
     "data": {
      "text/plain": [
       "<Response [200]>"
      ]
     },
     "execution_count": 5,
     "metadata": {},
     "output_type": "execute_result"
    }
   ],
   "source": [
    "response"
   ]
  },
  {
   "cell_type": "code",
   "execution_count": 6,
   "id": "2aee6c44",
   "metadata": {
    "collapsed": true
   },
   "outputs": [
    {
     "data": {
      "text/plain": [
       "'<?xml version=\"1.0\" encoding=\"UTF-8\"?><response>\\n  <header>\\n    <resultCode>00</resultCode>\\n    <resultMsg>NORMAL SERVIE</resultMsg>\\n  </header>\\n  <body>\\n    <items>\\n  <item>\\n    <num>1</num>\\n    <oceanCode>01</oceanCode>\\n    <oceanNm>동해</oceanNm>\\n    <eclgyZoneAreaCode>0</eclgyZoneAreaCode>\\n    <eclgyZoneAreaNm>동해</eclgyZoneAreaNm>\\n    <stnpntCode>0101H1</stnpntCode>\\n    <stnpntKoreanNm>거진 H1</stnpntKoreanNm>\\n    <obsrYear>2019</obsrYear>\\n    <obsrMt>02</obsrMt>\\n    <obsrDe>2019-02-17</obsrDe>\\n    <wethr>맑음</wethr>\\n    <wtrtmpSfclyr>4.92</wtrtmpSfclyr>\\n    <wtrtmpBtmlyr>4.89</wtrtmpBtmlyr>\\n    <salntSfclyr>33.88</salntSfclyr>\\n    <salntBtmlyr>33.88</salntBtmlyr>\\n    <phDnstySfclyr>8.19</phDnstySfclyr>\\n    <phDnstyBtmlyr>8.21</phDnstyBtmlyr>\\n    <doxySfclyr>9.96</doxySfclyr>\\n    <doxyBtmlyr>9.7</doxyBtmlyr>\\n    <choxdmSfclyr>1.12</choxdmSfclyr>\\n    <choxdmBtmlyr>1.2</choxdmBtmlyr>\\n    <nh4nSfclyr>45.9</nh4nSfclyr>\\n    <nh4nBtmlyr>37.8</nh4nBtmlyr>\\n    <no2nSfclyr>3.4</no2nSfclyr>\\n    <no2nBtmlyr>3.7</no2nBtmlyr>\\n    <no3nSfclyr>125</no3nSfclyr>\\n    <no3nBtmlyr>124.2</no3nBtmlyr>\\n    <dinSfclyr>174.3</dinSfclyr>\\n    <dinBtmlyr>165.7</dinBtmlyr>\\n    <totnSfclyr>286.6</totnSfclyr>\\n    <totnBtmlyr>294.1</totnBtmlyr>\\n    <dipSfclyr>21.4</dipSfclyr>\\n    <dipBtmlyr>22</dipBtmlyr>\\n    <totpSfclyr>33.9</totpSfclyr>\\n    <totpBtmlyr>33.4</totpBtmlyr>\\n    <slcacdSiSfclyr>343.9</slcacdSiSfclyr>\\n    <slcacdSiBtmlyr>340.1</slcacdSiBtmlyr>\\n    <fltngMttrSfclyr>4</fltngMttrSfclyr>\\n    <fltngMttrBtmlyr>3.5</fltngMttrBtmlyr>\\n    <clrplaSfclyr>0.28</clrplaSfclyr>\\n    <clrplaBtmlyr>0.14</clrplaBtmlyr>\\n    <eclgyZoneAreaScore>38</eclgyZoneAreaScore>\\n    <eclgyZoneAreaGrad>3</eclgyZoneAreaGrad>\\n  </item>\\n  <item>\\n    <num>2</num>\\n    <oceanCode>01</oceanCode>\\n    <oceanNm>동해</oceanNm>\\n    <eclgyZoneAreaCode>0</eclgyZoneAreaCode>\\n    <eclgyZoneAreaNm>동해</eclgyZoneAreaNm>\\n    <stnpntCode>010102</stnpntCode>\\n    <stnpntKoreanNm>거진 02</stnpntKoreanNm>\\n    <obsrYear>2019</obsrYear>\\n    <obsrMt>02</obsrMt>\\n    <obsrDe>2019-02-17</obsrDe>\\n    <wethr>맑음</wethr>\\n    <wtrtmpSfclyr>5.22</wtrtmpSfclyr>\\n    <wtrtmpBtmlyr>5.02</wtrtmpBtmlyr>\\n    <salntSfclyr>34.09</salntSfclyr>\\n    <salntBtmlyr>34.1</salntBtmlyr>\\n    <phDnstySfclyr>8.18</phDnstySfclyr>\\n    <phDnstyBtmlyr>8.19</phDnstyBtmlyr>\\n    <doxySfclyr>9.65</doxySfclyr>\\n    <doxyBtmlyr>9.59</doxyBtmlyr>\\n    <choxdmSfclyr>0.58</choxdmSfclyr>\\n    <choxdmBtmlyr>1.13</choxdmBtmlyr>\\n    <nh4nSfclyr>5.7</nh4nSfclyr>\\n    <nh4nBtmlyr>4.9</nh4nBtmlyr>\\n    <no2nSfclyr>3.2</no2nSfclyr>\\n    <no2nBtmlyr>3.6</no2nBtmlyr>\\n    <no3nSfclyr>119.7</no3nSfclyr>\\n    <no3nBtmlyr>100.5</no3nBtmlyr>\\n    <dinSfclyr>128.6</dinSfclyr>\\n    <dinBtmlyr>108.9</dinBtmlyr>\\n    <totnSfclyr>218.3</totnSfclyr>\\n    <totnBtmlyr>222.4</totnBtmlyr>\\n    <dipSfclyr>22.3</dipSfclyr>\\n    <dipBtmlyr>21.9</dipBtmlyr>\\n    <totpSfclyr>30</totpSfclyr>\\n    <totpBtmlyr>30.2</totpBtmlyr>\\n    <slcacdSiSfclyr>387.5</slcacdSiSfclyr>\\n    <slcacdSiBtmlyr>386.4</slcacdSiBtmlyr>\\n    <fltngMttrSfclyr>13</fltngMttrSfclyr>\\n    <fltngMttrBtmlyr>11</fltngMttrBtmlyr>\\n    <clrplaSfclyr>0.47</clrplaSfclyr>\\n    <clrplaBtmlyr>0.48</clrplaBtmlyr>\\n    <eclgyZoneAreaScore>33</eclgyZoneAreaScore>\\n    <eclgyZoneAreaGrad>2</eclgyZoneAreaGrad>\\n  </item>\\n  <item>\\n    <num>3</num>\\n    <oceanCode>01</oceanCode>\\n    <oceanNm>동해</oceanNm>\\n    <eclgyZoneAreaCode>0</eclgyZoneAreaCode>\\n    <eclgyZoneAreaNm>동해</eclgyZoneAreaNm>\\n    <stnpntCode>010101</stnpntCode>\\n    <stnpntKoreanNm>거진 01</stnpntKoreanNm>\\n    <obsrYear>2019</obsrYear>\\n    <obsrMt>02</obsrMt>\\n    <obsrDe>2019-02-17</obsrDe>\\n    <wethr>맑음</wethr>\\n    <wtrtmpSfclyr>6.64</wtrtmpSfclyr>\\n    <wtrtmpBtmlyr>1.27</wtrtmpBtmlyr>\\n    <salntSfclyr>34.19</salntSfclyr>\\n    <salntBtmlyr>33.99</salntBtmlyr>\\n    <phDnstySfclyr>8.15</phDnstySfclyr>\\n    <phDnstyBtmlyr>8.02</phDnstyBtmlyr>\\n    <doxySfclyr>9.46</doxySfclyr>\\n    <doxyBtmlyr>9.95</doxyBtmlyr>\\n    <choxdmSfclyr>0.51</choxdmSfclyr>\\n    <choxdmBtmlyr>1.09</choxdmBtmlyr>\\n    <nh4nSfclyr>3.2</nh4nSfclyr>\\n    <nh4nBtmlyr>1.6</nh4nBtmlyr>\\n    <no2nSfclyr>3.3</no2nSfclyr>\\n    <no2nBtmlyr>1.9</no2nBtmlyr>\\n    <no3nSfclyr>97.8</no3nSfclyr>\\n    <no3nBtmlyr>144.6</no3nBtmlyr>\\n    <dinSfclyr>104.3</dinSfclyr>\\n    <dinBtmlyr>148.1</dinBtmlyr>\\n    <totnSfclyr>186.5</totnSfclyr>\\n    <totnBtmlyr>272.7</totnBtmlyr>\\n    <dipSfclyr>17.6</dipSfclyr>\\n    <dipBtmlyr>31.8</dipBtmlyr>\\n    <totpSfclyr>27.8</totpSfclyr>\\n    <totpBtmlyr>38.7</totpBtmlyr>\\n    <slcacdSiSfclyr>340.2</slcacdSiSfclyr>\\n    <slcacdSiBtmlyr>513.9</slcacdSiBtmlyr>\\n    <fltngMttrSfclyr>2.2</fltngMttrSfclyr>\\n    <fltngMttrBtmlyr>2.4</fltngMttrBtmlyr>\\n    <clrplaSfclyr>0.96</clrplaSfclyr>\\n    <clrplaBtmlyr>0.11</clrplaBtmlyr>\\n    <eclgyZoneAreaScore>30</eclgyZoneAreaScore>\\n    <eclgyZoneAreaGrad>2</eclgyZoneAreaGrad>\\n  </item>\\n  <item>\\n    <num>4</num>\\n    <oceanCode>01</oceanCode>\\n    <oceanNm>동해</oceanNm>\\n    <eclgyZoneAreaCode>0</eclgyZoneAreaCode>\\n    <eclgyZoneAreaNm>동해</eclgyZoneAreaNm>\\n    <stnpntCode>010101</stnpntCode>\\n    <stnpntKoreanNm>거진 01</stnpntKoreanNm>\\n    <obsrYear>2019</obsrYear>\\n    <obsrMt>05</obsrMt>\\n    <obsrDe>2019-05-02</obsrDe>\\n    <wethr>맑음</wethr>\\n    <wtrtmpSfclyr>13.34</wtrtmpSfclyr>\\n    <wtrtmpBtmlyr>2.82</wtrtmpBtmlyr>\\n    <salntSfclyr>34.04</salntSfclyr>\\n    <salntBtmlyr>34.05</salntBtmlyr>\\n    <phDnstySfclyr>8.19</phDnstySfclyr>\\n    <phDnstyBtmlyr>7.81</phDnstyBtmlyr>\\n    <doxySfclyr>9.04</doxySfclyr>\\n    <doxyBtmlyr>8.2</doxyBtmlyr>\\n    <choxdmSfclyr>1.37</choxdmSfclyr>\\n    <choxdmBtmlyr>1.4</choxdmBtmlyr>\\n    <nh4nSfclyr>11</nh4nSfclyr>\\n    <nh4nBtmlyr>31.2</nh4nBtmlyr>\\n    <no2nSfclyr>0.2</no2nSfclyr>\\n    <no2nBtmlyr>1.5</no2nBtmlyr>\\n    <no3nSfclyr>6.6</no3nSfclyr>\\n    <no3nBtmlyr>225.5</no3nBtmlyr>\\n    <dinSfclyr>17.7</dinSfclyr>\\n    <dinBtmlyr>258.2</dinBtmlyr>\\n    <totnSfclyr>111.5</totnSfclyr>\\n    <totnBtmlyr>338.8</totnBtmlyr>\\n    <dipSfclyr>2.3</dipSfclyr>\\n    <dipBtmlyr>44.8</dipBtmlyr>\\n    <totpSfclyr>11.9</totpSfclyr>\\n    <totpBtmlyr>49.7</totpBtmlyr>\\n    <slcacdSiSfclyr>71.2</slcacdSiSfclyr>\\n    <slcacdSiBtmlyr>744.4</slcacdSiBtmlyr>\\n    <fltngMttrSfclyr>4.2</fltngMttrSfclyr>\\n    <fltngMttrBtmlyr>8.9</fltngMttrBtmlyr>\\n    <clrplaSfclyr>0.78</clrplaSfclyr>\\n    <clrplaBtmlyr>0.2</clrplaBtmlyr>\\n    <eclgyZoneAreaScore>46</eclgyZoneAreaScore>\\n    <eclgyZoneAreaGrad>3</eclgyZoneAreaGrad>\\n  </item>\\n  <item>\\n    <num>5</num>\\n    <oceanCode>01</oceanCode>\\n    <oceanNm>동해</oceanNm>\\n    <eclgyZoneAreaCode>0</eclgyZoneAreaCode>\\n    <eclgyZoneAreaNm>동해</eclgyZoneAreaNm>\\n    <stnpntCode>010102</stnpntCode>\\n    <stnpntKoreanNm>거진 02</stnpntKoreanNm>\\n    <obsrYear>2019</obsrYear>\\n    <obsrMt>05</obsrMt>\\n    <obsrDe>2019-05-02</obsrDe>\\n    <wethr>맑음</wethr>\\n    <wtrtmpSfclyr>13.7</wtrtmpSfclyr>\\n    <wtrtmpBtmlyr>13.89</wtrtmpBtmlyr>\\n    <salntSfclyr>33.84</salntSfclyr>\\n    <salntBtmlyr>33.79</salntBtmlyr>\\n    <phDnstySfclyr>8.17</phDnstySfclyr>\\n    <phDnstyBtmlyr>8.16</phDnstyBtmlyr>\\n    <doxySfclyr>9.15</doxySfclyr>\\n    <doxyBtmlyr>9.43</doxyBtmlyr>\\n    <choxdmSfclyr>1.26</choxdmSfclyr>\\n    <choxdmBtmlyr>1.39</choxdmBtmlyr>\\n    <nh4nSfclyr>7.2</nh4nSfclyr>\\n    <nh4nBtmlyr>15.2</nh4nBtmlyr>\\n    <no2nSfclyr>0.2</no2nSfclyr>\\n    <no2nBtmlyr>1</no2nBtmlyr>\\n    <no3nSfclyr>4.2</no3nSfclyr>\\n    <no3nBtmlyr>14.3</no3nBtmlyr>\\n    <dinSfclyr>11.6</dinSfclyr>\\n    <dinBtmlyr>30.4</dinBtmlyr>\\n    <totnSfclyr>129.3</totnSfclyr>\\n    <totnBtmlyr>145.1</totnBtmlyr>\\n    <dipSfclyr>1.6</dipSfclyr>\\n    <dipBtmlyr>5.1</dipBtmlyr>\\n    <totpSfclyr>12.6</totpSfclyr>\\n    <totpBtmlyr>17.5</totpBtmlyr>\\n    <slcacdSiSfclyr>120.5</slcacdSiSfclyr>\\n    <slcacdSiBtmlyr>151.6</slcacdSiBtmlyr>\\n    <fltngMttrSfclyr>5.6</fltngMttrSfclyr>\\n    <fltngMttrBtmlyr>6.3</fltngMttrBtmlyr>\\n    <clrplaSfclyr>1.76</clrplaSfclyr>\\n    <clrplaBtmlyr>0.95</clrplaBtmlyr>\\n    <eclgyZoneAreaScore>29</eclgyZoneAreaScore>\\n    <eclgyZoneAreaGrad>2</eclgyZoneAreaGrad>\\n  </item>\\n</items>\\n    <numOfRows>10</numOfRows>\\n    <pageNo>1</pageNo>\\n    <totalCount>5</totalCount>\\n  </body>\\n</response>\\n'"
      ]
     },
     "execution_count": 6,
     "metadata": {},
     "output_type": "execute_result"
    }
   ],
   "source": []
  },
  {
   "cell_type": "code",
   "execution_count": 7,
   "id": "34cf9a7b",
   "metadata": {},
   "outputs": [],
   "source": [
    "from bs4 import BeautifulSoup\n",
    "import xmltodict\n",
    "xml = BeautifulSoup(response.text,features='xml')"
   ]
  },
  {
   "cell_type": "code",
   "execution_count": 8,
   "id": "f409994d",
   "metadata": {},
   "outputs": [],
   "source": [
    "xml.responseMsg"
   ]
  },
  {
   "cell_type": "code",
   "execution_count": 12,
   "id": "697a9aa0",
   "metadata": {},
   "outputs": [],
   "source": [
    "import xmltodict\n",
    "# 문자열로 넣기 -> dict 로 변경\n",
    "\n",
    "parsing_dict = xmltodict.parse(response.text)"
   ]
  },
  {
   "cell_type": "code",
   "execution_count": 13,
   "id": "c29df7d1",
   "metadata": {},
   "outputs": [
    {
     "data": {
      "text/plain": [
       "dict_keys(['response'])"
      ]
     },
     "execution_count": 13,
     "metadata": {},
     "output_type": "execute_result"
    }
   ],
   "source": [
    "parsing_dict.keys()"
   ]
  },
  {
   "cell_type": "code",
   "execution_count": 14,
   "id": "cc5ba48c",
   "metadata": {},
   "outputs": [
    {
     "data": {
      "text/plain": [
       "dict_keys(['header', 'body'])"
      ]
     },
     "execution_count": 14,
     "metadata": {},
     "output_type": "execute_result"
    }
   ],
   "source": [
    "parsing_dict['response'].keys()"
   ]
  },
  {
   "cell_type": "code",
   "execution_count": 22,
   "id": "0bd2ba18",
   "metadata": {
    "collapsed": true
   },
   "outputs": [
    {
     "data": {
      "text/plain": [
       "[{'num': '1',\n",
       "  'oceanCode': '01',\n",
       "  'oceanNm': '동해',\n",
       "  'eclgyZoneAreaCode': '0',\n",
       "  'eclgyZoneAreaNm': '동해',\n",
       "  'stnpntCode': '0101H1',\n",
       "  'stnpntKoreanNm': '거진 H1',\n",
       "  'obsrYear': '2019',\n",
       "  'obsrMt': '02',\n",
       "  'obsrDe': '2019-02-17',\n",
       "  'wethr': '맑음',\n",
       "  'wtrtmpSfclyr': '4.92',\n",
       "  'wtrtmpBtmlyr': '4.89',\n",
       "  'salntSfclyr': '33.88',\n",
       "  'salntBtmlyr': '33.88',\n",
       "  'phDnstySfclyr': '8.19',\n",
       "  'phDnstyBtmlyr': '8.21',\n",
       "  'doxySfclyr': '9.96',\n",
       "  'doxyBtmlyr': '9.7',\n",
       "  'choxdmSfclyr': '1.12',\n",
       "  'choxdmBtmlyr': '1.2',\n",
       "  'nh4nSfclyr': '45.9',\n",
       "  'nh4nBtmlyr': '37.8',\n",
       "  'no2nSfclyr': '3.4',\n",
       "  'no2nBtmlyr': '3.7',\n",
       "  'no3nSfclyr': '125',\n",
       "  'no3nBtmlyr': '124.2',\n",
       "  'dinSfclyr': '174.3',\n",
       "  'dinBtmlyr': '165.7',\n",
       "  'totnSfclyr': '286.6',\n",
       "  'totnBtmlyr': '294.1',\n",
       "  'dipSfclyr': '21.4',\n",
       "  'dipBtmlyr': '22',\n",
       "  'totpSfclyr': '33.9',\n",
       "  'totpBtmlyr': '33.4',\n",
       "  'slcacdSiSfclyr': '343.9',\n",
       "  'slcacdSiBtmlyr': '340.1',\n",
       "  'fltngMttrSfclyr': '4',\n",
       "  'fltngMttrBtmlyr': '3.5',\n",
       "  'clrplaSfclyr': '0.28',\n",
       "  'clrplaBtmlyr': '0.14',\n",
       "  'eclgyZoneAreaScore': '38',\n",
       "  'eclgyZoneAreaGrad': '3'},\n",
       " {'num': '2',\n",
       "  'oceanCode': '01',\n",
       "  'oceanNm': '동해',\n",
       "  'eclgyZoneAreaCode': '0',\n",
       "  'eclgyZoneAreaNm': '동해',\n",
       "  'stnpntCode': '010102',\n",
       "  'stnpntKoreanNm': '거진 02',\n",
       "  'obsrYear': '2019',\n",
       "  'obsrMt': '02',\n",
       "  'obsrDe': '2019-02-17',\n",
       "  'wethr': '맑음',\n",
       "  'wtrtmpSfclyr': '5.22',\n",
       "  'wtrtmpBtmlyr': '5.02',\n",
       "  'salntSfclyr': '34.09',\n",
       "  'salntBtmlyr': '34.1',\n",
       "  'phDnstySfclyr': '8.18',\n",
       "  'phDnstyBtmlyr': '8.19',\n",
       "  'doxySfclyr': '9.65',\n",
       "  'doxyBtmlyr': '9.59',\n",
       "  'choxdmSfclyr': '0.58',\n",
       "  'choxdmBtmlyr': '1.13',\n",
       "  'nh4nSfclyr': '5.7',\n",
       "  'nh4nBtmlyr': '4.9',\n",
       "  'no2nSfclyr': '3.2',\n",
       "  'no2nBtmlyr': '3.6',\n",
       "  'no3nSfclyr': '119.7',\n",
       "  'no3nBtmlyr': '100.5',\n",
       "  'dinSfclyr': '128.6',\n",
       "  'dinBtmlyr': '108.9',\n",
       "  'totnSfclyr': '218.3',\n",
       "  'totnBtmlyr': '222.4',\n",
       "  'dipSfclyr': '22.3',\n",
       "  'dipBtmlyr': '21.9',\n",
       "  'totpSfclyr': '30',\n",
       "  'totpBtmlyr': '30.2',\n",
       "  'slcacdSiSfclyr': '387.5',\n",
       "  'slcacdSiBtmlyr': '386.4',\n",
       "  'fltngMttrSfclyr': '13',\n",
       "  'fltngMttrBtmlyr': '11',\n",
       "  'clrplaSfclyr': '0.47',\n",
       "  'clrplaBtmlyr': '0.48',\n",
       "  'eclgyZoneAreaScore': '33',\n",
       "  'eclgyZoneAreaGrad': '2'},\n",
       " {'num': '3',\n",
       "  'oceanCode': '01',\n",
       "  'oceanNm': '동해',\n",
       "  'eclgyZoneAreaCode': '0',\n",
       "  'eclgyZoneAreaNm': '동해',\n",
       "  'stnpntCode': '010101',\n",
       "  'stnpntKoreanNm': '거진 01',\n",
       "  'obsrYear': '2019',\n",
       "  'obsrMt': '02',\n",
       "  'obsrDe': '2019-02-17',\n",
       "  'wethr': '맑음',\n",
       "  'wtrtmpSfclyr': '6.64',\n",
       "  'wtrtmpBtmlyr': '1.27',\n",
       "  'salntSfclyr': '34.19',\n",
       "  'salntBtmlyr': '33.99',\n",
       "  'phDnstySfclyr': '8.15',\n",
       "  'phDnstyBtmlyr': '8.02',\n",
       "  'doxySfclyr': '9.46',\n",
       "  'doxyBtmlyr': '9.95',\n",
       "  'choxdmSfclyr': '0.51',\n",
       "  'choxdmBtmlyr': '1.09',\n",
       "  'nh4nSfclyr': '3.2',\n",
       "  'nh4nBtmlyr': '1.6',\n",
       "  'no2nSfclyr': '3.3',\n",
       "  'no2nBtmlyr': '1.9',\n",
       "  'no3nSfclyr': '97.8',\n",
       "  'no3nBtmlyr': '144.6',\n",
       "  'dinSfclyr': '104.3',\n",
       "  'dinBtmlyr': '148.1',\n",
       "  'totnSfclyr': '186.5',\n",
       "  'totnBtmlyr': '272.7',\n",
       "  'dipSfclyr': '17.6',\n",
       "  'dipBtmlyr': '31.8',\n",
       "  'totpSfclyr': '27.8',\n",
       "  'totpBtmlyr': '38.7',\n",
       "  'slcacdSiSfclyr': '340.2',\n",
       "  'slcacdSiBtmlyr': '513.9',\n",
       "  'fltngMttrSfclyr': '2.2',\n",
       "  'fltngMttrBtmlyr': '2.4',\n",
       "  'clrplaSfclyr': '0.96',\n",
       "  'clrplaBtmlyr': '0.11',\n",
       "  'eclgyZoneAreaScore': '30',\n",
       "  'eclgyZoneAreaGrad': '2'},\n",
       " {'num': '4',\n",
       "  'oceanCode': '01',\n",
       "  'oceanNm': '동해',\n",
       "  'eclgyZoneAreaCode': '0',\n",
       "  'eclgyZoneAreaNm': '동해',\n",
       "  'stnpntCode': '010101',\n",
       "  'stnpntKoreanNm': '거진 01',\n",
       "  'obsrYear': '2019',\n",
       "  'obsrMt': '05',\n",
       "  'obsrDe': '2019-05-02',\n",
       "  'wethr': '맑음',\n",
       "  'wtrtmpSfclyr': '13.34',\n",
       "  'wtrtmpBtmlyr': '2.82',\n",
       "  'salntSfclyr': '34.04',\n",
       "  'salntBtmlyr': '34.05',\n",
       "  'phDnstySfclyr': '8.19',\n",
       "  'phDnstyBtmlyr': '7.81',\n",
       "  'doxySfclyr': '9.04',\n",
       "  'doxyBtmlyr': '8.2',\n",
       "  'choxdmSfclyr': '1.37',\n",
       "  'choxdmBtmlyr': '1.4',\n",
       "  'nh4nSfclyr': '11',\n",
       "  'nh4nBtmlyr': '31.2',\n",
       "  'no2nSfclyr': '0.2',\n",
       "  'no2nBtmlyr': '1.5',\n",
       "  'no3nSfclyr': '6.6',\n",
       "  'no3nBtmlyr': '225.5',\n",
       "  'dinSfclyr': '17.7',\n",
       "  'dinBtmlyr': '258.2',\n",
       "  'totnSfclyr': '111.5',\n",
       "  'totnBtmlyr': '338.8',\n",
       "  'dipSfclyr': '2.3',\n",
       "  'dipBtmlyr': '44.8',\n",
       "  'totpSfclyr': '11.9',\n",
       "  'totpBtmlyr': '49.7',\n",
       "  'slcacdSiSfclyr': '71.2',\n",
       "  'slcacdSiBtmlyr': '744.4',\n",
       "  'fltngMttrSfclyr': '4.2',\n",
       "  'fltngMttrBtmlyr': '8.9',\n",
       "  'clrplaSfclyr': '0.78',\n",
       "  'clrplaBtmlyr': '0.2',\n",
       "  'eclgyZoneAreaScore': '46',\n",
       "  'eclgyZoneAreaGrad': '3'},\n",
       " {'num': '5',\n",
       "  'oceanCode': '01',\n",
       "  'oceanNm': '동해',\n",
       "  'eclgyZoneAreaCode': '0',\n",
       "  'eclgyZoneAreaNm': '동해',\n",
       "  'stnpntCode': '010102',\n",
       "  'stnpntKoreanNm': '거진 02',\n",
       "  'obsrYear': '2019',\n",
       "  'obsrMt': '05',\n",
       "  'obsrDe': '2019-05-02',\n",
       "  'wethr': '맑음',\n",
       "  'wtrtmpSfclyr': '13.7',\n",
       "  'wtrtmpBtmlyr': '13.89',\n",
       "  'salntSfclyr': '33.84',\n",
       "  'salntBtmlyr': '33.79',\n",
       "  'phDnstySfclyr': '8.17',\n",
       "  'phDnstyBtmlyr': '8.16',\n",
       "  'doxySfclyr': '9.15',\n",
       "  'doxyBtmlyr': '9.43',\n",
       "  'choxdmSfclyr': '1.26',\n",
       "  'choxdmBtmlyr': '1.39',\n",
       "  'nh4nSfclyr': '7.2',\n",
       "  'nh4nBtmlyr': '15.2',\n",
       "  'no2nSfclyr': '0.2',\n",
       "  'no2nBtmlyr': '1',\n",
       "  'no3nSfclyr': '4.2',\n",
       "  'no3nBtmlyr': '14.3',\n",
       "  'dinSfclyr': '11.6',\n",
       "  'dinBtmlyr': '30.4',\n",
       "  'totnSfclyr': '129.3',\n",
       "  'totnBtmlyr': '145.1',\n",
       "  'dipSfclyr': '1.6',\n",
       "  'dipBtmlyr': '5.1',\n",
       "  'totpSfclyr': '12.6',\n",
       "  'totpBtmlyr': '17.5',\n",
       "  'slcacdSiSfclyr': '120.5',\n",
       "  'slcacdSiBtmlyr': '151.6',\n",
       "  'fltngMttrSfclyr': '5.6',\n",
       "  'fltngMttrBtmlyr': '6.3',\n",
       "  'clrplaSfclyr': '1.76',\n",
       "  'clrplaBtmlyr': '0.95',\n",
       "  'eclgyZoneAreaScore': '29',\n",
       "  'eclgyZoneAreaGrad': '2'}]"
      ]
     },
     "execution_count": 22,
     "metadata": {},
     "output_type": "execute_result"
    }
   ],
   "source": [
    "data = parsing_dict['response']['body']['items']['item']\n",
    "data"
   ]
  },
  {
   "cell_type": "code",
   "execution_count": 23,
   "id": "703cff30",
   "metadata": {},
   "outputs": [],
   "source": [
    "import pandas as pd\n",
    "\n",
    "marine environment = pd.DataFrame(data)"
   ]
  },
  {
   "cell_type": "code",
   "execution_count": 24,
   "id": "44710283",
   "metadata": {
    "collapsed": true
   },
   "outputs": [
    {
     "name": "stdout",
     "output_type": "stream",
     "text": [
      "<class 'pandas.core.frame.DataFrame'>\n",
      "RangeIndex: 5 entries, 0 to 4\n",
      "Data columns (total 43 columns):\n",
      " #   Column              Non-Null Count  Dtype \n",
      "---  ------              --------------  ----- \n",
      " 0   num                 5 non-null      object\n",
      " 1   oceanCode           5 non-null      object\n",
      " 2   oceanNm             5 non-null      object\n",
      " 3   eclgyZoneAreaCode   5 non-null      object\n",
      " 4   eclgyZoneAreaNm     5 non-null      object\n",
      " 5   stnpntCode          5 non-null      object\n",
      " 6   stnpntKoreanNm      5 non-null      object\n",
      " 7   obsrYear            5 non-null      object\n",
      " 8   obsrMt              5 non-null      object\n",
      " 9   obsrDe              5 non-null      object\n",
      " 10  wethr               5 non-null      object\n",
      " 11  wtrtmpSfclyr        5 non-null      object\n",
      " 12  wtrtmpBtmlyr        5 non-null      object\n",
      " 13  salntSfclyr         5 non-null      object\n",
      " 14  salntBtmlyr         5 non-null      object\n",
      " 15  phDnstySfclyr       5 non-null      object\n",
      " 16  phDnstyBtmlyr       5 non-null      object\n",
      " 17  doxySfclyr          5 non-null      object\n",
      " 18  doxyBtmlyr          5 non-null      object\n",
      " 19  choxdmSfclyr        5 non-null      object\n",
      " 20  choxdmBtmlyr        5 non-null      object\n",
      " 21  nh4nSfclyr          5 non-null      object\n",
      " 22  nh4nBtmlyr          5 non-null      object\n",
      " 23  no2nSfclyr          5 non-null      object\n",
      " 24  no2nBtmlyr          5 non-null      object\n",
      " 25  no3nSfclyr          5 non-null      object\n",
      " 26  no3nBtmlyr          5 non-null      object\n",
      " 27  dinSfclyr           5 non-null      object\n",
      " 28  dinBtmlyr           5 non-null      object\n",
      " 29  totnSfclyr          5 non-null      object\n",
      " 30  totnBtmlyr          5 non-null      object\n",
      " 31  dipSfclyr           5 non-null      object\n",
      " 32  dipBtmlyr           5 non-null      object\n",
      " 33  totpSfclyr          5 non-null      object\n",
      " 34  totpBtmlyr          5 non-null      object\n",
      " 35  slcacdSiSfclyr      5 non-null      object\n",
      " 36  slcacdSiBtmlyr      5 non-null      object\n",
      " 37  fltngMttrSfclyr     5 non-null      object\n",
      " 38  fltngMttrBtmlyr     5 non-null      object\n",
      " 39  clrplaSfclyr        5 non-null      object\n",
      " 40  clrplaBtmlyr        5 non-null      object\n",
      " 41  eclgyZoneAreaScore  5 non-null      object\n",
      " 42  eclgyZoneAreaGrad   5 non-null      object\n",
      "dtypes: object(43)\n",
      "memory usage: 1.8+ KB\n"
     ]
    }
   ],
   "source": [
    "df.info()"
   ]
  },
  {
   "cell_type": "code",
   "execution_count": null,
   "id": "2a438605",
   "metadata": {},
   "outputs": [],
   "source": []
  },
  {
   "cell_type": "code",
   "execution_count": null,
   "id": "a6fa6539",
   "metadata": {},
   "outputs": [],
   "source": []
  },
  {
   "cell_type": "code",
   "execution_count": null,
   "id": "6a427206",
   "metadata": {},
   "outputs": [],
   "source": []
  },
  {
   "cell_type": "code",
   "execution_count": null,
   "id": "94973fb9",
   "metadata": {},
   "outputs": [],
   "source": []
  }
 ],
 "metadata": {
  "kernelspec": {
   "display_name": "ex_kernel",
   "language": "python",
   "name": "green"
  },
  "language_info": {
   "codemirror_mode": {
    "name": "ipython",
    "version": 3
   },
   "file_extension": ".py",
   "mimetype": "text/x-python",
   "name": "python",
   "nbconvert_exporter": "python",
   "pygments_lexer": "ipython3",
   "version": "3.8.10"
  }
 },
 "nbformat": 4,
 "nbformat_minor": 5
}
