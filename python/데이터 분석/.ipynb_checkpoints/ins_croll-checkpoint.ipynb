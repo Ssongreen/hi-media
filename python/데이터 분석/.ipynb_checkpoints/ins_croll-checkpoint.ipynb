{
 "cells": [
  {
   "cell_type": "code",
   "execution_count": 1,
   "id": "e3597154",
   "metadata": {},
   "outputs": [],
   "source": [
    "import re\n",
    "from selenium import webdriver\n",
    "from selenium.webdriver.common.by import By\n",
    "from selenium.webdriver.common.keys import Keys\n",
    "from time import sleep\n",
    "import pandas as pd"
   ]
  },
  {
   "cell_type": "code",
   "execution_count": 12,
   "id": "e4d3cb44",
   "metadata": {},
   "outputs": [
    {
     "ename": "NoSuchElementException",
     "evalue": "Message: no such element: Unable to locate element: {\"method\":\"xpath\",\"selector\":\"/html/body/div[2]/div/div/div[3]/div/div/div[1]/div/div[3]/div/div/div/div/div[1]/div/div/div[2]/button\"}\n  (Session info: chrome=113.0.5672.127)\nStacktrace:\nBacktrace:\n\tGetHandleVerifier [0x007B8893+48451]\n\t(No symbol) [0x0074B8A1]\n\t(No symbol) [0x00655058]\n\t(No symbol) [0x00680467]\n\t(No symbol) [0x0068069B]\n\t(No symbol) [0x006ADD92]\n\t(No symbol) [0x0069A304]\n\t(No symbol) [0x006AC482]\n\t(No symbol) [0x0069A0B6]\n\t(No symbol) [0x00677E08]\n\t(No symbol) [0x00678F2D]\n\tGetHandleVerifier [0x00A18E3A+2540266]\n\tGetHandleVerifier [0x00A58959+2801161]\n\tGetHandleVerifier [0x00A5295C+2776588]\n\tGetHandleVerifier [0x00842280+612144]\n\t(No symbol) [0x00754F6C]\n\t(No symbol) [0x007511D8]\n\t(No symbol) [0x007512BB]\n\t(No symbol) [0x00744857]\n\tBaseThreadInitThunk [0x76837D59+25]\n\tRtlInitializeExceptionChain [0x772FB74B+107]\n\tRtlClearBits [0x772FB6CF+191]\n",
     "output_type": "error",
     "traceback": [
      "\u001b[1;31m---------------------------------------------------------------------------\u001b[0m",
      "\u001b[1;31mNoSuchElementException\u001b[0m                    Traceback (most recent call last)",
      "Cell \u001b[1;32mIn[12], line 40\u001b[0m\n\u001b[0;32m     38\u001b[0m \u001b[38;5;28;01mpass\u001b[39;00m\n\u001b[0;32m     39\u001b[0m \u001b[38;5;66;03m#다음 넘어가기\u001b[39;00m\n\u001b[1;32m---> 40\u001b[0m \u001b[38;5;28;01mif\u001b[39;00m \u001b[43mdriver\u001b[49m\u001b[38;5;241;43m.\u001b[39;49m\u001b[43mfind_element\u001b[49m\u001b[43m(\u001b[49m\u001b[43mBy\u001b[49m\u001b[38;5;241;43m.\u001b[39;49m\u001b[43mXPATH\u001b[49m\u001b[43m,\u001b[49m\u001b[43m \u001b[49m\u001b[43mnext_path\u001b[49m\u001b[43m)\u001b[49m\u001b[38;5;241m.\u001b[39mclick():\n\u001b[0;32m     41\u001b[0m     driver\u001b[38;5;241m.\u001b[39mfind_element(By\u001b[38;5;241m.\u001b[39mXPATH, next_path)\u001b[38;5;241m.\u001b[39mclick()\n\u001b[0;32m     42\u001b[0m \u001b[38;5;28;01melse\u001b[39;00m:\n",
      "File \u001b[1;32m~\\anaconda3\\envs\\ex\\lib\\site-packages\\selenium\\webdriver\\remote\\webdriver.py:831\u001b[0m, in \u001b[0;36mWebDriver.find_element\u001b[1;34m(self, by, value)\u001b[0m\n\u001b[0;32m    828\u001b[0m     by \u001b[38;5;241m=\u001b[39m By\u001b[38;5;241m.\u001b[39mCSS_SELECTOR\n\u001b[0;32m    829\u001b[0m     value \u001b[38;5;241m=\u001b[39m \u001b[38;5;124mf\u001b[39m\u001b[38;5;124m'\u001b[39m\u001b[38;5;124m[name=\u001b[39m\u001b[38;5;124m\"\u001b[39m\u001b[38;5;132;01m{\u001b[39;00mvalue\u001b[38;5;132;01m}\u001b[39;00m\u001b[38;5;124m\"\u001b[39m\u001b[38;5;124m]\u001b[39m\u001b[38;5;124m'\u001b[39m\n\u001b[1;32m--> 831\u001b[0m \u001b[38;5;28;01mreturn\u001b[39;00m \u001b[38;5;28;43mself\u001b[39;49m\u001b[38;5;241;43m.\u001b[39;49m\u001b[43mexecute\u001b[49m\u001b[43m(\u001b[49m\u001b[43mCommand\u001b[49m\u001b[38;5;241;43m.\u001b[39;49m\u001b[43mFIND_ELEMENT\u001b[49m\u001b[43m,\u001b[49m\u001b[43m \u001b[49m\u001b[43m{\u001b[49m\u001b[38;5;124;43m\"\u001b[39;49m\u001b[38;5;124;43musing\u001b[39;49m\u001b[38;5;124;43m\"\u001b[39;49m\u001b[43m:\u001b[49m\u001b[43m \u001b[49m\u001b[43mby\u001b[49m\u001b[43m,\u001b[49m\u001b[43m \u001b[49m\u001b[38;5;124;43m\"\u001b[39;49m\u001b[38;5;124;43mvalue\u001b[39;49m\u001b[38;5;124;43m\"\u001b[39;49m\u001b[43m:\u001b[49m\u001b[43m \u001b[49m\u001b[43mvalue\u001b[49m\u001b[43m}\u001b[49m\u001b[43m)\u001b[49m[\u001b[38;5;124m\"\u001b[39m\u001b[38;5;124mvalue\u001b[39m\u001b[38;5;124m\"\u001b[39m]\n",
      "File \u001b[1;32m~\\anaconda3\\envs\\ex\\lib\\site-packages\\selenium\\webdriver\\remote\\webdriver.py:440\u001b[0m, in \u001b[0;36mWebDriver.execute\u001b[1;34m(self, driver_command, params)\u001b[0m\n\u001b[0;32m    438\u001b[0m response \u001b[38;5;241m=\u001b[39m \u001b[38;5;28mself\u001b[39m\u001b[38;5;241m.\u001b[39mcommand_executor\u001b[38;5;241m.\u001b[39mexecute(driver_command, params)\n\u001b[0;32m    439\u001b[0m \u001b[38;5;28;01mif\u001b[39;00m response:\n\u001b[1;32m--> 440\u001b[0m     \u001b[38;5;28;43mself\u001b[39;49m\u001b[38;5;241;43m.\u001b[39;49m\u001b[43merror_handler\u001b[49m\u001b[38;5;241;43m.\u001b[39;49m\u001b[43mcheck_response\u001b[49m\u001b[43m(\u001b[49m\u001b[43mresponse\u001b[49m\u001b[43m)\u001b[49m\n\u001b[0;32m    441\u001b[0m     response[\u001b[38;5;124m\"\u001b[39m\u001b[38;5;124mvalue\u001b[39m\u001b[38;5;124m\"\u001b[39m] \u001b[38;5;241m=\u001b[39m \u001b[38;5;28mself\u001b[39m\u001b[38;5;241m.\u001b[39m_unwrap_value(response\u001b[38;5;241m.\u001b[39mget(\u001b[38;5;124m\"\u001b[39m\u001b[38;5;124mvalue\u001b[39m\u001b[38;5;124m\"\u001b[39m, \u001b[38;5;28;01mNone\u001b[39;00m))\n\u001b[0;32m    442\u001b[0m     \u001b[38;5;28;01mreturn\u001b[39;00m response\n",
      "File \u001b[1;32m~\\anaconda3\\envs\\ex\\lib\\site-packages\\selenium\\webdriver\\remote\\errorhandler.py:245\u001b[0m, in \u001b[0;36mErrorHandler.check_response\u001b[1;34m(self, response)\u001b[0m\n\u001b[0;32m    243\u001b[0m         alert_text \u001b[38;5;241m=\u001b[39m value[\u001b[38;5;124m\"\u001b[39m\u001b[38;5;124malert\u001b[39m\u001b[38;5;124m\"\u001b[39m]\u001b[38;5;241m.\u001b[39mget(\u001b[38;5;124m\"\u001b[39m\u001b[38;5;124mtext\u001b[39m\u001b[38;5;124m\"\u001b[39m)\n\u001b[0;32m    244\u001b[0m     \u001b[38;5;28;01mraise\u001b[39;00m exception_class(message, screen, stacktrace, alert_text)  \u001b[38;5;66;03m# type: ignore[call-arg]  # mypy is not smart enough here\u001b[39;00m\n\u001b[1;32m--> 245\u001b[0m \u001b[38;5;28;01mraise\u001b[39;00m exception_class(message, screen, stacktrace)\n",
      "\u001b[1;31mNoSuchElementException\u001b[0m: Message: no such element: Unable to locate element: {\"method\":\"xpath\",\"selector\":\"/html/body/div[2]/div/div/div[3]/div/div/div[1]/div/div[3]/div/div/div/div/div[1]/div/div/div[2]/button\"}\n  (Session info: chrome=113.0.5672.127)\nStacktrace:\nBacktrace:\n\tGetHandleVerifier [0x007B8893+48451]\n\t(No symbol) [0x0074B8A1]\n\t(No symbol) [0x00655058]\n\t(No symbol) [0x00680467]\n\t(No symbol) [0x0068069B]\n\t(No symbol) [0x006ADD92]\n\t(No symbol) [0x0069A304]\n\t(No symbol) [0x006AC482]\n\t(No symbol) [0x0069A0B6]\n\t(No symbol) [0x00677E08]\n\t(No symbol) [0x00678F2D]\n\tGetHandleVerifier [0x00A18E3A+2540266]\n\tGetHandleVerifier [0x00A58959+2801161]\n\tGetHandleVerifier [0x00A5295C+2776588]\n\tGetHandleVerifier [0x00842280+612144]\n\t(No symbol) [0x00754F6C]\n\t(No symbol) [0x007511D8]\n\t(No symbol) [0x007512BB]\n\t(No symbol) [0x00744857]\n\tBaseThreadInitThunk [0x76837D59+25]\n\tRtlInitializeExceptionChain [0x772FB74B+107]\n\tRtlClearBits [0x772FB6CF+191]\n"
     ]
    }
   ],
   "source": [
    "url = 'https://www.instagram.com/accounts/login/?__coig_restricted=1'\n",
    "\n",
    "options = webdriver.ChromeOptions()\n",
    "options.add_argument('--start-maximized')\n",
    "driver = webdriver.Chrome(options=options)\n",
    "driver.get(url)\n",
    "sleep(2)\n",
    "id = 'so6824@naver.com'\n",
    "pd = 'so13461346'\n",
    "id_path = '//*[@id=\"loginForm\"]/div/div[1]/div/label/input'\n",
    "pass_path ='//*[@id=\"loginForm\"]/div/div[2]/div/label/input'\n",
    "login_path ='//*[@id=\"loginForm\"]/div/div[3]'\n",
    "driver.find_element(By.XPATH, id_path).send_keys(id)\n",
    "driver.find_element(By.XPATH, pass_path).send_keys(pd)\n",
    "driver.find_element(By.XPATH, login_path).click()\n",
    "sleep(5)\n",
    "\n",
    "url1 = f'https://www.instagram.com/explore/tags/카페/'\n",
    "driver.get(url1)\n",
    "sleep(12)\n",
    "data = []\n",
    "\n",
    "driver.find_element(By.XPATH, f'/html/body/div[2]/div/div/div[2]/div/div/div/div[1]/div[1]/div[2]/section/main/article/div[1]/div/div/div[1]/div[1]/a').click()\n",
    "sleep(2)\n",
    "like_path='/html/body/div[2]/div/div/div[3]/div/div/div[1]/div/div[3]/div/div/div/div/div[2]/div/article/div/div[2]/div/div/div[2]/section[2]/div/div/span/a/span/span'\n",
    "next_path='/html/body/div[2]/div/div/div[3]/div/div/div[1]/div/div[3]/div/div/div/div/div[1]/div/div/div[2]/button'\n",
    "for x in range(1, 9):\n",
    "    element = driver.find_element(By.XPATH, '/html/body/div[2]/div/div/div[3]/div/div/div[1]/div/div[3]/div/div/div/div/div[2]/div/article/div/div[2]/div/div/div[1]/div/header/div[2]/div[1]/div[1]/div/div/span/div/div/a')\n",
    "\n",
    "    # Define or replace 'like_path' with the correct XPath expression\n",
    "    like_path = '/html/body/div[2]/div/div/div[3]/div/div/div[1]/div/div[3]/div/div/div/div/div[2]/div/article/div/div[2]/div/div/div[2]/section[2]/div/div/span/a/span/span'\n",
    "\n",
    "    # Check if the element is found using the 'like_path' XPath expression\n",
    "    if driver.find_element(By.XPATH, like_path):\n",
    "        like = driver.find_element(By.XPATH, like_path)\n",
    "    else:\n",
    "        like = driver.find_element(By.XPATH, '/html/body/div[2]/div/div/div[3]/div/div/div[1]/div/div[3]/div/div/div/div/div[2]/div/article/div/div[2]/div/div/div[2]/section[2]/div/div/span/a[2]/span')\n",
    "    pass\n",
    "    #다음 넘어가기\n",
    "    if driver.find_element(By.XPATH, next_path).click():\n",
    "        driver.find_element(By.XPATH, next_path).click()\n",
    "    else:\n",
    "                driver.find_element(By.XPATH,'/html/body/div[2]/div/div/div[3]/div/div/div[1]/div/div[3]/div/div/div/div/div[1]/div/div/div/button').click()\n",
    "    pass\n",
    "    print('이름',element)\n",
    "    print('좋아요',like)"
   ]
  },
  {
   "cell_type": "code",
   "execution_count": 3,
   "id": "e538e139",
   "metadata": {
    "collapsed": true
   },
   "outputs": [
    {
     "ename": "NameError",
     "evalue": "name 'html' is not defined",
     "output_type": "error",
     "traceback": [
      "\u001b[1;31m---------------------------------------------------------------------------\u001b[0m",
      "\u001b[1;31mNameError\u001b[0m                                 Traceback (most recent call last)",
      "Cell \u001b[1;32mIn[3], line 1\u001b[0m\n\u001b[1;32m----> 1\u001b[0m \u001b[43mhtml\u001b[49m\u001b[38;5;241m/\u001b[39mbody\u001b[38;5;241m/\u001b[39mdiv[\u001b[38;5;241m2\u001b[39m]\u001b[38;5;241m/\u001b[39mdiv\u001b[38;5;241m/\u001b[39mdiv\u001b[38;5;241m/\u001b[39mdiv[\u001b[38;5;241m3\u001b[39m]\u001b[38;5;241m/\u001b[39mdiv\u001b[38;5;241m/\u001b[39mdiv\u001b[38;5;241m/\u001b[39mdiv[\u001b[38;5;241m1\u001b[39m]\u001b[38;5;241m/\u001b[39mdiv\u001b[38;5;241m/\u001b[39mdiv[\u001b[38;5;241m3\u001b[39m]\u001b[38;5;241m/\u001b[39mdiv\u001b[38;5;241m/\u001b[39mdiv\u001b[38;5;241m/\u001b[39mdiv\u001b[38;5;241m/\u001b[39mdiv\u001b[38;5;241m/\u001b[39mdiv[\u001b[38;5;241m1\u001b[39m]\u001b[38;5;241m/\u001b[39mdiv\u001b[38;5;241m/\u001b[39mdiv\u001b[38;5;241m/\u001b[39mdiv[\u001b[38;5;241m2\u001b[39m]\u001b[38;5;241m/\u001b[39mbutton()\n",
      "\u001b[1;31mNameError\u001b[0m: name 'html' is not defined"
     ]
    }
   ],
   "source": [
    "/html/body/div[2]/div/div/div[3]/div/div/div[1]/div/div[3]/div/div/div/div/div[1]/div/div/div[2]/button\n",
    "/html/body/div[2]/div/div/div[3]/div/div/div[1]/div/div[3]/div/div/div/div/div[1]/div/div/div/button\n",
    "/html/body/div[2]/div/div/div[3]/div/div/div[1]/div/div[3]/div/div/div/div/div[1]/div/div/div[2]/button\n",
    "/html/body/div[2]/div/div/div[3]/div/div/div[1]/div/div[3]/div/div/div/div/div[1]/div/div/div[1]/button"
   ]
  },
  {
   "cell_type": "code",
   "execution_count": null,
   "id": "76eb1c8e",
   "metadata": {},
   "outputs": [],
   "source": []
  }
 ],
 "metadata": {
  "kernelspec": {
   "display_name": "ex_kernel",
   "language": "python",
   "name": "ex"
  },
  "language_info": {
   "codemirror_mode": {
    "name": "ipython",
    "version": 3
   },
   "file_extension": ".py",
   "mimetype": "text/x-python",
   "name": "python",
   "nbconvert_exporter": "python",
   "pygments_lexer": "ipython3",
   "version": "3.8.10"
  },
  "toc": {
   "base_numbering": 1,
   "nav_menu": {},
   "number_sections": true,
   "sideBar": true,
   "skip_h1_title": false,
   "title_cell": "Table of Contents",
   "title_sidebar": "Contents",
   "toc_cell": false,
   "toc_position": {},
   "toc_section_display": true,
   "toc_window_display": false
  }
 },
 "nbformat": 4,
 "nbformat_minor": 5
}
