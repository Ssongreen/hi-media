{
 "cells": [
  {
   "cell_type": "code",
   "execution_count": 1,
   "id": "752cbb96",
   "metadata": {},
   "outputs": [
    {
     "data": {
      "text/plain": [
       "'\\n문제 \\nw3school에 접속하여 검색창에 input을 입력하여 검색하고\\n창 닫은 후, 검색어 지우시오.\\n\\n'"
      ]
     },
     "execution_count": 1,
     "metadata": {},
     "output_type": "execute_result"
    }
   ],
   "source": [
    "\"\"\"\n",
    "문제 \n",
    "w3school에 접속하여 검색창에 input을 입력하여 검색하고\n",
    "창 닫은 후, 검색어 지우시오.\n",
    "- 웹브라우저 크기는 360, 800\n",
    "\"\"\""
   ]
  },
  {
   "cell_type": "code",
   "execution_count": 2,
   "id": "4f45b59f",
   "metadata": {},
   "outputs": [],
   "source": [
    "from selenium import webdriver\n",
    "from time import sleep\n",
    "from selenium.webdriver.common.by import By\n",
    "from selenium.webdriver.common.keys import Keys\n",
    "import os\n",
    "import urllib.request as request\n",
    "import requests\n",
    "from bs4 import BeautifulSoup"
   ]
  },
  {
   "cell_type": "code",
   "execution_count": 9,
   "id": "f123d441",
   "metadata": {},
   "outputs": [],
   "source": [
    "options = webdriver.ChromeOptions()\n",
    "chrome_options.add_argument(\"--window-size=360,800\")\n",
    "\n",
    "driver = webdriver.Chrome(options = options)\n",
    "driver.get('https://www.w3schools.com/')\n",
    "# search = input(\"검색어를 입력해주세요\")\n",
    "sleep(1)\n",
    "\n",
    "query_input_text = driver.find_element(By.CSS_SELECTOR, '#search2')\n",
    "query_input_text.send_keys(f\"input\\n\")\n",
    "\n",
    "# query_input_text.send_keys(f\"{search}\\n\")\n",
    "sleep(2)\n",
    "driver.find_element(By.XPATH, '//*[@id=\"___gcse_0\"]/div/div/div[1]/div[1]').click()\n",
    "sleep(2)\n",
    "\n",
    "query_input_text.clear()\n",
    "query_input_text.send_keys(\"example\")\n",
    "\n",
    "sleep(2)\n",
    "driver.quit()\n",
    "\n",
    "#sleep을 자주쓰면, 작업이 많을때 느려집니당"
   ]
  },
  {
   "cell_type": "code",
   "execution_count": null,
   "id": "e4c049c7",
   "metadata": {},
   "outputs": [],
   "source": []
  }
 ],
 "metadata": {
  "kernelspec": {
   "display_name": "ex_kernel",
   "language": "python",
   "name": "ex"
  },
  "language_info": {
   "codemirror_mode": {
    "name": "ipython",
    "version": 3
   },
   "file_extension": ".py",
   "mimetype": "text/x-python",
   "name": "python",
   "nbconvert_exporter": "python",
   "pygments_lexer": "ipython3",
   "version": "3.8.10"
  }
 },
 "nbformat": 4,
 "nbformat_minor": 5
}
