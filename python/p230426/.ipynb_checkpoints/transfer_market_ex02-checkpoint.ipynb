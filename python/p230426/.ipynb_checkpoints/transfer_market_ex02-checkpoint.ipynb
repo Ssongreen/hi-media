{
 "cells": [
  {
   "cell_type": "code",
   "execution_count": 7,
   "id": "f492ede2",
   "metadata": {
    "scrolled": true
   },
   "outputs": [
    {
     "name": "stdout",
     "output_type": "stream",
     "text": [
      "200\n",
      "200\n",
      "200\n",
      "200\n"
     ]
    }
   ],
   "source": [
    "import requests\n",
    "from urllib import request\n",
    "import pandas\n",
    "from bs4 import BeautifulSoup\n",
    "\n",
    "# 1. 웹페이지 요청\n",
    "url = \"https://www.transfermarkt.com/spieler-statistik/wertvollstespieler/marktwertetop?ajax=yw1&page=\"\n",
    "headers = {\"user-agent\": \"Mozilla/5.0 (Windows NT 10.0; Win64; x64) AppleWebKit/537.36 (KHTML, like Gecko) Chrome/112.0.0.0 Safari/537.36\"}\n",
    "\n",
    "player_list = []\n",
    "\n",
    "for i in range(1,5):\n",
    "    html = requests.get(f\"{url}{i}\", headers = headers)\n",
    "    print(html.status_code)\n",
    "    # 2. 파싱\n",
    "    soup = BeautifulSoup(html.text, \"html.parser\")\n",
    "\n",
    "    # 3. 엘리먼트 추출\n",
    "    player_info = soup.find_all(\"tr\", class_=[\"odd\",\"even\"])\n",
    "    \n",
    "    # 4. 리스트에 선수 정보 저장\n",
    "    for player_dict in player_info:\n",
    "        tbs = player_dict.find_all(\"td\")\n",
    "        \n",
    "        number   = tbs[0].text\n",
    "        name     = tbs[3].text\n",
    "        position = tbs[4].text\n",
    "        age      = tbs[5].text\n",
    "        nation   = tbs[6].find(\"img\").get(\"title\")\n",
    "        club     = tbs[7].img[\"title\"]\n",
    "        value    = tbs[8].text.strip()\n",
    "        \n",
    "        player_list.append([number,name,position,age,nation,club,value])\n",
    "\n",
    "# 5. DataFrame 생성\n",
    "df = pandas.DataFrame(player_list, columns= [\"number\",\"name\",\"position\",\"age\",\"nation\",\"club\",\"value\"])\n",
    "\n",
    "print(df)\n",
    "\n",
    "#6. csv에 저장\n",
    "df.to_csv(\"market25.csv\", index=False)\n",
    "print(\"저장했어 ?\")\n"
   ]
  }
 ],
 "metadata": {
  "kernelspec": {
   "display_name": "ex_kernel",
   "language": "python",
   "name": "ex"
  },
  "language_info": {
   "codemirror_mode": {
    "name": "ipython",
    "version": 3
   },
   "file_extension": ".py",
   "mimetype": "text/x-python",
   "name": "python",
   "nbconvert_exporter": "python",
   "pygments_lexer": "ipython3",
   "version": "3.8.10"
  }
 },
 "nbformat": 4,
 "nbformat_minor": 5
}
