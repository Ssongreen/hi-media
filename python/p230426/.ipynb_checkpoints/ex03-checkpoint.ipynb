{
 "cells": [
  {
   "cell_type": "code",
   "execution_count": 13,
   "id": "3c89e396",
   "metadata": {},
   "outputs": [
    {
     "ename": "TypeError",
     "evalue": "'NoneType' object is not subscriptable",
     "output_type": "error",
     "traceback": [
      "\u001b[1;31m---------------------------------------------------------------------------\u001b[0m",
      "\u001b[1;31mTypeError\u001b[0m                                 Traceback (most recent call last)",
      "Cell \u001b[1;32mIn[13], line 32\u001b[0m\n\u001b[0;32m     30\u001b[0m \u001b[38;5;28;01mfor\u001b[39;00m i \u001b[38;5;129;01min\u001b[39;00m \u001b[38;5;28mrange\u001b[39m(\u001b[38;5;241m0\u001b[39m, \u001b[38;5;241m3\u001b[39m): \u001b[38;5;66;03m# 2페이지부터 4페이지까지\u001b[39;00m\n\u001b[0;32m     31\u001b[0m     next_page_link \u001b[38;5;241m=\u001b[39m soup\u001b[38;5;241m.\u001b[39mfind(\u001b[38;5;124m\"\u001b[39m\u001b[38;5;124ma\u001b[39m\u001b[38;5;124m\"\u001b[39m, class_\u001b[38;5;241m=\u001b[39m\u001b[38;5;124m\"\u001b[39m\u001b[38;5;124mtm-pagination__link\u001b[39m\u001b[38;5;124m\"\u001b[39m)\n\u001b[1;32m---> 32\u001b[0m     next_page_url \u001b[38;5;241m=\u001b[39m \u001b[38;5;124m\"\u001b[39m\u001b[38;5;124mhttps://www.transfermarkt.com\u001b[39m\u001b[38;5;124m\"\u001b[39m \u001b[38;5;241m+\u001b[39m \u001b[43mnext_page_link\u001b[49m\u001b[43m[\u001b[49m\u001b[38;5;124;43m\"\u001b[39;49m\u001b[38;5;124;43mhref\u001b[39;49m\u001b[38;5;124;43m\"\u001b[39;49m\u001b[43m]\u001b[49m\n\u001b[0;32m     33\u001b[0m     response \u001b[38;5;241m=\u001b[39m requests\u001b[38;5;241m.\u001b[39mget(next_page_url)\n\u001b[0;32m     34\u001b[0m     soup \u001b[38;5;241m=\u001b[39m BeautifulSoup(response\u001b[38;5;241m.\u001b[39mcontent, \u001b[38;5;124m\"\u001b[39m\u001b[38;5;124mhtml.parser\u001b[39m\u001b[38;5;124m\"\u001b[39m)\n",
      "\u001b[1;31mTypeError\u001b[0m: 'NoneType' object is not subscriptable"
     ]
    }
   ],
   "source": [
    "import requests\n",
    "from urllib import request\n",
    "import pandas\n",
    "from bs4 import BeautifulSoup\n",
    "\n",
    "url = \"https://www.transfermarkt.com/spieler-statistik/wertvollstespieler/marktwertetop\"\n",
    "response = requests.get(url)\n",
    "\n",
    "# 첫 번째 페이지에서 데이터 추출\n",
    "soup = BeautifulSoup(response.content, \"html.parser\")\n",
    "player_info = soup.find_all(\"tr\", class_=\"player\")\n",
    "number = []\n",
    "name = []\n",
    "position = []\n",
    "age = []\n",
    "nation = []\n",
    "club = []\n",
    "value = []\n",
    "for player_dict in player_info:\n",
    "    tds = player_dict.find_all(\"td\")\n",
    "    number.append(tds[0].text)\n",
    "    name.append(tds[3].text)\n",
    "    position.append(tds[4].text)\n",
    "    age.append(tds[5].text)\n",
    "    nation.append(tds[6].find(\"img\").get(\"title\"))\n",
    "    club.append(tds[7].find(\"img\").get(\"title\"))\n",
    "    value.append(tds[8].text)\n",
    "\n",
    "# 다음 페이지로 이동하며 데이터 추출\n",
    "for i in range(0, 3): # 2페이지부터 4페이지까지\n",
    "    next_page_link = soup.find(\"a\", class_=\"tm-pagination__link\")\n",
    "    next_page_url = \"https://www.transfermarkt.com\" + next_page_link[\"href\"]\n",
    "    response = requests.get(next_page_url)\n",
    "    soup = BeautifulSoup(response.content, \"html.parser\")\n",
    "    player_info = soup.find_all(\"tr\", class_=\"player\")\n",
    "    for player_dict in player_info:\n",
    "        tds = player_dict.find_all(\"td\")\n",
    "        number.append(tds[0].text)\n",
    "        name.append(tds[3].text)\n",
    "        position.append(tds[4].text)\n",
    "        age.append(tds[5].text)\n",
    "        nation.append(tds[6].find(\"img\").get(\"title\"))\n",
    "        club.append(tds[7].find(\"img\").get(\"title\"))\n",
    "        value.append(tds[8].text)\n"
   ]
  },
  {
   "cell_type": "code",
   "execution_count": 10,
   "id": "1425e081",
   "metadata": {},
   "outputs": [
    {
     "name": "stdout",
     "output_type": "stream",
     "text": [
      "[]\n"
     ]
    }
   ],
   "source": [
    "print(number)"
   ]
  },
  {
   "cell_type": "code",
   "execution_count": null,
   "id": "5286460f",
   "metadata": {},
   "outputs": [],
   "source": []
  }
 ],
 "metadata": {
  "kernelspec": {
   "display_name": "ex_kernel",
   "language": "python",
   "name": "ex"
  },
  "language_info": {
   "codemirror_mode": {
    "name": "ipython",
    "version": 3
   },
   "file_extension": ".py",
   "mimetype": "text/x-python",
   "name": "python",
   "nbconvert_exporter": "python",
   "pygments_lexer": "ipython3",
   "version": "3.8.10"
  }
 },
 "nbformat": 4,
 "nbformat_minor": 5
}
