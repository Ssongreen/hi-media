{
 "cells": [
  {
   "cell_type": "code",
   "execution_count": 5,
   "id": "5f12d1b1",
   "metadata": {
    "collapsed": true
   },
   "outputs": [
    {
     "name": "stdout",
     "output_type": "stream",
     "text": [
      "Requirement already satisfied: selenium in c:\\users\\hi-sinchon\\anaconda3\\envs\\ex\\lib\\site-packages (4.9.0)Note: you may need to restart the kernel to use updated packages.\n",
      "\n",
      "Requirement already satisfied: trio~=0.17 in c:\\users\\hi-sinchon\\anaconda3\\envs\\ex\\lib\\site-packages (from selenium) (0.22.0)\n",
      "Requirement already satisfied: urllib3[socks]~=1.26 in c:\\users\\hi-sinchon\\anaconda3\\envs\\ex\\lib\\site-packages (from selenium) (1.26.15)\n",
      "Requirement already satisfied: trio-websocket~=0.9 in c:\\users\\hi-sinchon\\anaconda3\\envs\\ex\\lib\\site-packages (from selenium) (0.10.2)\n",
      "Requirement already satisfied: certifi>=2021.10.8 in c:\\users\\hi-sinchon\\anaconda3\\envs\\ex\\lib\\site-packages (from selenium) (2022.12.7)\n",
      "Requirement already satisfied: attrs>=19.2.0 in c:\\users\\hi-sinchon\\anaconda3\\envs\\ex\\lib\\site-packages (from trio~=0.17->selenium) (23.1.0)\n",
      "Requirement already satisfied: idna in c:\\users\\hi-sinchon\\anaconda3\\envs\\ex\\lib\\site-packages (from trio~=0.17->selenium) (3.4)\n",
      "Requirement already satisfied: outcome in c:\\users\\hi-sinchon\\anaconda3\\envs\\ex\\lib\\site-packages (from trio~=0.17->selenium) (1.2.0)\n",
      "Requirement already satisfied: exceptiongroup>=1.0.0rc9 in c:\\users\\hi-sinchon\\anaconda3\\envs\\ex\\lib\\site-packages (from trio~=0.17->selenium) (1.1.1)\n",
      "Requirement already satisfied: cffi>=1.14 in c:\\users\\hi-sinchon\\anaconda3\\envs\\ex\\lib\\site-packages (from trio~=0.17->selenium) (1.15.1)\n",
      "Requirement already satisfied: sortedcontainers in c:\\users\\hi-sinchon\\anaconda3\\envs\\ex\\lib\\site-packages (from trio~=0.17->selenium) (2.4.0)\n",
      "Requirement already satisfied: async-generator>=1.9 in c:\\users\\hi-sinchon\\anaconda3\\envs\\ex\\lib\\site-packages (from trio~=0.17->selenium) (1.10)\n",
      "Requirement already satisfied: sniffio in c:\\users\\hi-sinchon\\anaconda3\\envs\\ex\\lib\\site-packages (from trio~=0.17->selenium) (1.3.0)\n",
      "Requirement already satisfied: wsproto>=0.14 in c:\\users\\hi-sinchon\\anaconda3\\envs\\ex\\lib\\site-packages (from trio-websocket~=0.9->selenium) (1.2.0)\n",
      "Requirement already satisfied: PySocks!=1.5.7,<2.0,>=1.5.6 in c:\\users\\hi-sinchon\\anaconda3\\envs\\ex\\lib\\site-packages (from urllib3[socks]~=1.26->selenium) (1.7.1)\n",
      "Requirement already satisfied: pycparser in c:\\users\\hi-sinchon\\anaconda3\\envs\\ex\\lib\\site-packages (from cffi>=1.14->trio~=0.17->selenium) (2.21)\n",
      "Requirement already satisfied: h11<1,>=0.9.0 in c:\\users\\hi-sinchon\\anaconda3\\envs\\ex\\lib\\site-packages (from wsproto>=0.14->trio-websocket~=0.9->selenium) (0.14.0)\n"
     ]
    }
   ],
   "source": [
    "pip install selenium"
   ]
  },
  {
   "cell_type": "code",
   "execution_count": 55,
   "id": "4a9c469f",
   "metadata": {},
   "outputs": [],
   "source": [
    "from time import sleep\n",
    "from selenium import webdriver\n",
    "from selenium.webdriver.common.by import By\n",
    "from selenium.webdriver.common.keys import Keys\n",
    "from bs4 import BeautifulSoup "
   ]
  },
  {
   "cell_type": "code",
   "execution_count": 23,
   "id": "534853e9",
   "metadata": {},
   "outputs": [
    {
     "name": "stdout",
     "output_type": "stream",
     "text": [
      "1.크롬 브라우저 실행\n",
      "2. 다음 접속\n",
      "3초 쉬어요\n",
      "3.크롬 웹 브라우저 닫기\n"
     ]
    }
   ],
   "source": [
    "driver = webdriver.Chrome()\n",
    "print(\"1.크롬 브라우저 실행\")\n",
    "\n",
    "url = \"http://www.daum.net\"\n",
    "driver.get(url)\n",
    "print(\"2. 다음 접속\")\n",
    "\n",
    "sleep(3)\n",
    "print(\"3초 쉬어요\")\n",
    "\n",
    "driver.close()\n",
    "print(\"3.크롬 웹 브라우저 닫기\")"
   ]
  },
  {
   "cell_type": "code",
   "execution_count": 36,
   "id": "c21a3d47",
   "metadata": {},
   "outputs": [
    {
     "name": "stdout",
     "output_type": "stream",
     "text": [
      "new_element <class 'selenium.webdriver.remote.webelement.WebElement'>\n"
     ]
    }
   ],
   "source": [
    "# 1. 크롬 드라이버\n",
    "driver = webdriver.Chrome()\n",
    "\n",
    "#2. 웹주소\n",
    "url = \"https://www.daum.net/\"\n",
    "driver.get(url)\n",
    "\n",
    "# 3초 쉬기\n",
    "sleep(3)\n",
    "\n",
    "#3. 뉴스 탭 클릭\n",
    "news_xpath = '//*[@id=\"daumHead\"]/div[2]/div/div[1]/ul/li[3]/a'\n",
    "news_element = driver.find_element(By.XPATH, news_xpath) #find로 찾아서 By - > xpath로 주소로 넘어간다 그리고 .click()을 넣어줘요\n",
    "print(\"new_element\", type(news_element))\n",
    "\n",
    "news_element.click()\n",
    "\n",
    "# 3초 쉬기\n",
    "sleep(3)\n",
    "# 4. 웹 브라우저 닫기\n",
    "\n",
    "driver.close()"
   ]
  },
  {
   "cell_type": "code",
   "execution_count": 37,
   "id": "4b387f25",
   "metadata": {},
   "outputs": [],
   "source": [
    "#1. 크롬 드라이버\n",
    "driver = webdriver.Chrome()\n",
    "\n",
    "#2. 웹주소\n",
    "url = \"https://www.google.com/\"\n",
    "driver.get(url)\n",
    "\n",
    "# 3초 쉬기\n",
    "sleep(3)\n",
    "# 4. 웹 브라우저 닫기\n",
    "\n",
    "driver.close()"
   ]
  },
  {
   "cell_type": "code",
   "execution_count": null,
   "id": "0e5f3c71",
   "metadata": {},
   "outputs": [],
   "source": []
  },
  {
   "cell_type": "code",
   "execution_count": 64,
   "id": "8f3fe4bc",
   "metadata": {},
   "outputs": [
    {
     "name": "stdout",
     "output_type": "stream",
     "text": [
      "<selenium.webdriver.remote.webelement.WebElement (session=\"2ee145c4e69a61f6a3ccd9f914e5b3e4\", element=\"268581fe-9344-4674-beee-71dfc20b7666\")>\n"
     ]
    },
    {
     "data": {
      "text/plain": [
       "[<selenium.webdriver.remote.webelement.WebElement (session=\"2ee145c4e69a61f6a3ccd9f914e5b3e4\", element=\"8499e15a-3933-45d1-9816-420e0bacd97c\")>,\n",
       " <selenium.webdriver.remote.webelement.WebElement (session=\"2ee145c4e69a61f6a3ccd9f914e5b3e4\", element=\"25a36ba6-1233-4b1f-a027-ab3dbfcccb89\")>,\n",
       " <selenium.webdriver.remote.webelement.WebElement (session=\"2ee145c4e69a61f6a3ccd9f914e5b3e4\", element=\"7794d14c-e30e-4f7c-a73f-8a147fc8753e\")>,\n",
       " <selenium.webdriver.remote.webelement.WebElement (session=\"2ee145c4e69a61f6a3ccd9f914e5b3e4\", element=\"8d706dbc-26c4-4b95-8de5-3e9edd5fc599\")>,\n",
       " <selenium.webdriver.remote.webelement.WebElement (session=\"2ee145c4e69a61f6a3ccd9f914e5b3e4\", element=\"83197f99-6820-4f16-bb23-c1224a3a8a6d\")>,\n",
       " <selenium.webdriver.remote.webelement.WebElement (session=\"2ee145c4e69a61f6a3ccd9f914e5b3e4\", element=\"880a06cb-7faa-420e-97ce-ca74abc36edb\")>,\n",
       " <selenium.webdriver.remote.webelement.WebElement (session=\"2ee145c4e69a61f6a3ccd9f914e5b3e4\", element=\"06dc51e3-69a4-4132-a5e5-257475766eba\")>,\n",
       " <selenium.webdriver.remote.webelement.WebElement (session=\"2ee145c4e69a61f6a3ccd9f914e5b3e4\", element=\"49946302-7f7c-4a1c-a2d4-b8383c712ccf\")>,\n",
       " <selenium.webdriver.remote.webelement.WebElement (session=\"2ee145c4e69a61f6a3ccd9f914e5b3e4\", element=\"bc5a49f6-3f5b-48b8-8ea9-a0016d8a6f3d\")>,\n",
       " <selenium.webdriver.remote.webelement.WebElement (session=\"2ee145c4e69a61f6a3ccd9f914e5b3e4\", element=\"4beb193a-5df2-4f42-800f-8c0b60d13108\")>]"
      ]
     },
     "execution_count": 64,
     "metadata": {},
     "output_type": "execute_result"
    }
   ],
   "source": [
    "#1. 크롬 드라이버\n",
    "driver = webdriver.Chrome()\n",
    "\n",
    "#2. 웹 주소\n",
    "url = \"https://www.naver.com/\"\n",
    "driver.get(url)\n",
    "\n",
    "sleep(1)\n",
    "\n",
    "#3. 검색창\n",
    "query_input_text = driver.find_element(by = By.CSS_SELECTOR, value = \"#query\")\n",
    "print(query_input_text)\n",
    "\n",
    "#4. 검색어 입력\n",
    "query_input_text.send_keys(\"날씨\")\n",
    "\n",
    "sleep(2)\n",
    "\n",
    "#5. 엔터 기능 enter = return \n",
    "query_input_text.send_keys(Keys.ENTER)\n",
    "\n",
    "sleep(2)\n",
    "\n",
    "#6. 뉴스 탭 클릭\n",
    "news_path = '//*[@id=\"lnb\"]/div[1]/div/ul/li[8]/a'\n",
    "news_element = driver.find_element(By.XPATH, news_path).click()\n",
    "\n",
    "#7. 뉴스 타이틀 추출\n",
    "## 7.1 html 파일 전체 요청\n",
    "html = driver.page_source\n",
    "html\n",
    "# soup = BeautifulSoup(html, \"html.parser\")\n",
    "# soup\n",
    "\n",
    "# news_title = soup.select(\"a.news_tit\")\n",
    "# news_title\n",
    "\n",
    "# for title in news_title:\n",
    "#     print(title.text)\n",
    "\n",
    "## 7.2 특정 엘리먼트만 추출 : 뉴스 타이틀\n",
    "news_title_element = driver.find_elements(By.CSS_SELECTOR,\"a.news_tit\")\n",
    "news_title_element"
   ]
  },
  {
   "cell_type": "code",
   "execution_count": 66,
   "id": "a4220b45",
   "metadata": {},
   "outputs": [
    {
     "name": "stdout",
     "output_type": "stream",
     "text": [
      "<class 'list'>\n"
     ]
    }
   ],
   "source": [
    "print(type(news_title_element))"
   ]
  },
  {
   "cell_type": "code",
   "execution_count": 65,
   "id": "4a3ba1b6",
   "metadata": {
    "scrolled": true
   },
   "outputs": [
    {
     "name": "stdout",
     "output_type": "stream",
     "text": [
      "\"날씨가 쌀쌀해\" 잔디밭 불 지르고 몸 녹인 외국인 검거\n",
      "포근한 날씨\n",
      "\"전남친 애라서\"…영하 날씨에 남친과 여행중 아기 버린 20대\n",
      "일교차 큰 날씨 속 시원함\n",
      "[출근길 날씨] 아침에 쌀쌀…맑고 기온 일교차 커요!\n",
      "[날씨] 출근길, 어제보다 쌀쌀...낮 동안 맑고 따뜻, 큰 일교차\n",
      "[날씨] 전국 맑고 일교차 커…출근길 짙은 안개\n",
      "쌀쌀한 날씨에 돋지 않는 옻순…옥천참옻축제 '비상'\n",
      "낮에는 따뜻한 날씨\n",
      "[오늘의 날씨] 전국 맑고 쌀쌀…미세먼지 '보통'\n"
     ]
    }
   ],
   "source": [
    "for t in news_title_element:\n",
    "    print(t.text)"
   ]
  },
  {
   "cell_type": "code",
   "execution_count": null,
   "id": "a17e24fc",
   "metadata": {},
   "outputs": [],
   "source": []
  },
  {
   "cell_type": "code",
   "execution_count": null,
   "id": "7c4030c8",
   "metadata": {},
   "outputs": [],
   "source": []
  },
  {
   "cell_type": "code",
   "execution_count": null,
   "id": "59a8441e",
   "metadata": {},
   "outputs": [],
   "source": []
  }
 ],
 "metadata": {
  "kernelspec": {
   "display_name": "ex_kernel",
   "language": "python",
   "name": "ex"
  },
  "language_info": {
   "codemirror_mode": {
    "name": "ipython",
    "version": 3
   },
   "file_extension": ".py",
   "mimetype": "text/x-python",
   "name": "python",
   "nbconvert_exporter": "python",
   "pygments_lexer": "ipython3",
   "version": "3.8.10"
  }
 },
 "nbformat": 4,
 "nbformat_minor": 5
}
