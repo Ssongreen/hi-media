{
 "cells": [
  {
   "cell_type": "code",
   "execution_count": 1,
   "id": "4a982b7c",
   "metadata": {},
   "outputs": [],
   "source": [
    "import requests\n",
    "import json\n",
    "import pandas as pd"
   ]
  },
  {
   "cell_type": "code",
   "execution_count": 2,
   "id": "26d29f1d",
   "metadata": {},
   "outputs": [
    {
     "data": {
      "text/plain": [
       "200"
      ]
     },
     "execution_count": 2,
     "metadata": {},
     "output_type": "execute_result"
    }
   ],
   "source": [
    "headers = {\"user-agent\": \"Mozilla/5.0 (Windows NT 10.0; Win64; x64) AppleWebKit/537.36 (KHTML, like Gecko) Chrome/112.0.0.0 Safari/537.36\"}\n",
    "url = \"https://finance.naver.com/world/worldDayListJson.naver?symbol=NAS@IXIC&fdtc=0&page=1\"\n",
    "httpResponse = requests.get(url, headers=headers)\n",
    "httpResponse.status_code"
   ]
  },
  {
   "cell_type": "code",
   "execution_count": 3,
   "id": "030a76f6",
   "metadata": {},
   "outputs": [
    {
     "data": {
      "text/plain": [
       "'[{\"symb\":\"NAS@IXIC\",\"xymd\":\"20230525\",\"open\":12706.44,\"high\":12736.92,\"low\":12604.89,\"clos\":12698.09,\"diff\":213.93,\"rate\":1.71,\"gvol\":474915932},{\"symb\":\"NAS@IXIC\",\"xymd\":\"20230524\",\"open\":12481.9,\"high\":12529.63,\"low\":12415.85,\"clos\":12484.16,\"diff\":-76.09,\"rate\":-0.61,\"gvol\":421369526},{\"symb\":\"NAS@IXIC\",\"xymd\":\"20230523\",\"open\":12652.88,\"high\":12709.74,\"low\":12554.43,\"clos\":12560.25,\"diff\":-160.53,\"rate\":-1.26,\"gvol\":443685435},{\"symb\":\"NAS@IXIC\",\"xymd\":\"20230522\",\"open\":12664.44,\"high\":12756.23,\"low\":12655.26,\"clos\":12720.78,\"diff\":62.88,\"rate\":0.5,\"gvol\":434318056},{\"symb\":\"NAS@IXIC\",\"xymd\":\"20230519\",\"open\":12709.46,\"high\":12731.73,\"low\":12624.06,\"clos\":12657.9,\"diff\":-30.94,\"rate\":-0.24,\"gvol\":400729176},{\"symb\":\"NAS@IXIC\",\"xymd\":\"20230518\",\"open\":12513.87,\"high\":12698.5,\"low\":12512.27,\"clos\":12688.84,\"diff\":188.27,\"rate\":1.51,\"gvol\":461050192},{\"symb\":\"NAS@IXIC\",\"xymd\":\"20230517\",\"open\":12388.58,\"high\":12514.07,\"low\":12335.02,\"clos\":12500.57,\"diff\":157.52,\"rate\":1.28,\"gvol\":457940166},{\"symb\":\"NAS@IXIC\",\"xymd\":\"20230516\",\"open\":12327.05,\"high\":12403.81,\"low\":12324.52,\"clos\":12343.05,\"diff\":-22.16,\"rate\":-0.18,\"gvol\":415698858},{\"symb\":\"NAS@IXIC\",\"xymd\":\"20230515\",\"open\":12301.17,\"high\":12376.4,\"low\":12263.35,\"clos\":12365.21,\"diff\":80.47,\"rate\":0.66,\"gvol\":406293217},{\"symb\":\"NAS@IXIC\",\"xymd\":\"20230512\",\"open\":12350.52,\"high\":12364.65,\"low\":12209.58,\"clos\":12284.74,\"diff\":-43.77,\"rate\":-0.36,\"gvol\":424583738}]'"
      ]
     },
     "execution_count": 3,
     "metadata": {},
     "output_type": "execute_result"
    }
   ],
   "source": [
    "httpResponse.text\n",
    "#응답이 되지 않은 상태에용 requests는 200이 되어도 error 가 되지 않아용"
   ]
  },
  {
   "cell_type": "code",
   "execution_count": 4,
   "id": "c47d7b24",
   "metadata": {},
   "outputs": [
    {
     "data": {
      "text/plain": [
       "[{'symb': 'NAS@IXIC',\n",
       "  'xymd': '20230525',\n",
       "  'open': 12706.44,\n",
       "  'high': 12736.92,\n",
       "  'low': 12604.89,\n",
       "  'clos': 12698.09,\n",
       "  'diff': 213.93,\n",
       "  'rate': 1.71,\n",
       "  'gvol': 474915932},\n",
       " {'symb': 'NAS@IXIC',\n",
       "  'xymd': '20230524',\n",
       "  'open': 12481.9,\n",
       "  'high': 12529.63,\n",
       "  'low': 12415.85,\n",
       "  'clos': 12484.16,\n",
       "  'diff': -76.09,\n",
       "  'rate': -0.61,\n",
       "  'gvol': 421369526},\n",
       " {'symb': 'NAS@IXIC',\n",
       "  'xymd': '20230523',\n",
       "  'open': 12652.88,\n",
       "  'high': 12709.74,\n",
       "  'low': 12554.43,\n",
       "  'clos': 12560.25,\n",
       "  'diff': -160.53,\n",
       "  'rate': -1.26,\n",
       "  'gvol': 443685435},\n",
       " {'symb': 'NAS@IXIC',\n",
       "  'xymd': '20230522',\n",
       "  'open': 12664.44,\n",
       "  'high': 12756.23,\n",
       "  'low': 12655.26,\n",
       "  'clos': 12720.78,\n",
       "  'diff': 62.88,\n",
       "  'rate': 0.5,\n",
       "  'gvol': 434318056},\n",
       " {'symb': 'NAS@IXIC',\n",
       "  'xymd': '20230519',\n",
       "  'open': 12709.46,\n",
       "  'high': 12731.73,\n",
       "  'low': 12624.06,\n",
       "  'clos': 12657.9,\n",
       "  'diff': -30.94,\n",
       "  'rate': -0.24,\n",
       "  'gvol': 400729176},\n",
       " {'symb': 'NAS@IXIC',\n",
       "  'xymd': '20230518',\n",
       "  'open': 12513.87,\n",
       "  'high': 12698.5,\n",
       "  'low': 12512.27,\n",
       "  'clos': 12688.84,\n",
       "  'diff': 188.27,\n",
       "  'rate': 1.51,\n",
       "  'gvol': 461050192},\n",
       " {'symb': 'NAS@IXIC',\n",
       "  'xymd': '20230517',\n",
       "  'open': 12388.58,\n",
       "  'high': 12514.07,\n",
       "  'low': 12335.02,\n",
       "  'clos': 12500.57,\n",
       "  'diff': 157.52,\n",
       "  'rate': 1.28,\n",
       "  'gvol': 457940166},\n",
       " {'symb': 'NAS@IXIC',\n",
       "  'xymd': '20230516',\n",
       "  'open': 12327.05,\n",
       "  'high': 12403.81,\n",
       "  'low': 12324.52,\n",
       "  'clos': 12343.05,\n",
       "  'diff': -22.16,\n",
       "  'rate': -0.18,\n",
       "  'gvol': 415698858},\n",
       " {'symb': 'NAS@IXIC',\n",
       "  'xymd': '20230515',\n",
       "  'open': 12301.17,\n",
       "  'high': 12376.4,\n",
       "  'low': 12263.35,\n",
       "  'clos': 12365.21,\n",
       "  'diff': 80.47,\n",
       "  'rate': 0.66,\n",
       "  'gvol': 406293217},\n",
       " {'symb': 'NAS@IXIC',\n",
       "  'xymd': '20230512',\n",
       "  'open': 12350.52,\n",
       "  'high': 12364.65,\n",
       "  'low': 12209.58,\n",
       "  'clos': 12284.74,\n",
       "  'diff': -43.77,\n",
       "  'rate': -0.36,\n",
       "  'gvol': 424583738}]"
      ]
     },
     "execution_count": 4,
     "metadata": {},
     "output_type": "execute_result"
    }
   ],
   "source": [
    "# 3.1 json - > str loads는 str , contents는 아니다\n",
    "json.loads(httpResponse.text)\n"
   ]
  },
  {
   "cell_type": "code",
   "execution_count": 30,
   "id": "17b84c70",
   "metadata": {},
   "outputs": [
    {
     "data": {
      "text/plain": [
       "list"
      ]
     },
     "execution_count": 30,
     "metadata": {},
     "output_type": "execute_result"
    }
   ],
   "source": [
    "type(dict_data)"
   ]
  },
  {
   "cell_type": "code",
   "execution_count": 32,
   "id": "2e07cc8b",
   "metadata": {},
   "outputs": [
    {
     "data": {
      "text/plain": [
       "list"
      ]
     },
     "execution_count": 32,
     "metadata": {},
     "output_type": "execute_result"
    }
   ],
   "source": [
    "#3.2 json -> dict\n",
    "dict_data_two = httpResponse.json()\n",
    "type(dict_data_two)"
   ]
  },
  {
   "cell_type": "code",
   "execution_count": 34,
   "id": "8fbf6d17",
   "metadata": {
    "collapsed": true
   },
   "outputs": [
    {
     "data": {
      "text/html": [
       "<div>\n",
       "<style scoped>\n",
       "    .dataframe tbody tr th:only-of-type {\n",
       "        vertical-align: middle;\n",
       "    }\n",
       "\n",
       "    .dataframe tbody tr th {\n",
       "        vertical-align: top;\n",
       "    }\n",
       "\n",
       "    .dataframe thead th {\n",
       "        text-align: right;\n",
       "    }\n",
       "</style>\n",
       "<table border=\"1\" class=\"dataframe\">\n",
       "  <thead>\n",
       "    <tr style=\"text-align: right;\">\n",
       "      <th></th>\n",
       "      <th>symb</th>\n",
       "      <th>xymd</th>\n",
       "      <th>open</th>\n",
       "      <th>high</th>\n",
       "      <th>low</th>\n",
       "      <th>clos</th>\n",
       "      <th>diff</th>\n",
       "      <th>rate</th>\n",
       "      <th>gvol</th>\n",
       "    </tr>\n",
       "  </thead>\n",
       "  <tbody>\n",
       "    <tr>\n",
       "      <th>0</th>\n",
       "      <td>NAS@IXIC</td>\n",
       "      <td>20230426</td>\n",
       "      <td>11913.23</td>\n",
       "      <td>11967.99</td>\n",
       "      <td>11833.07</td>\n",
       "      <td>11854.35</td>\n",
       "      <td>55.19</td>\n",
       "      <td>0.47</td>\n",
       "      <td>541188237</td>\n",
       "    </tr>\n",
       "    <tr>\n",
       "      <th>1</th>\n",
       "      <td>NAS@IXIC</td>\n",
       "      <td>20230425</td>\n",
       "      <td>11968.81</td>\n",
       "      <td>11990.46</td>\n",
       "      <td>11798.77</td>\n",
       "      <td>11799.16</td>\n",
       "      <td>-238.04</td>\n",
       "      <td>-1.98</td>\n",
       "      <td>500793836</td>\n",
       "    </tr>\n",
       "    <tr>\n",
       "      <th>2</th>\n",
       "      <td>NAS@IXIC</td>\n",
       "      <td>20230424</td>\n",
       "      <td>12053.47</td>\n",
       "      <td>12103.58</td>\n",
       "      <td>11960.31</td>\n",
       "      <td>12037.20</td>\n",
       "      <td>-35.26</td>\n",
       "      <td>-0.29</td>\n",
       "      <td>496062344</td>\n",
       "    </tr>\n",
       "    <tr>\n",
       "      <th>3</th>\n",
       "      <td>NAS@IXIC</td>\n",
       "      <td>20230421</td>\n",
       "      <td>12046.03</td>\n",
       "      <td>12097.15</td>\n",
       "      <td>11986.82</td>\n",
       "      <td>12072.46</td>\n",
       "      <td>12.90</td>\n",
       "      <td>0.11</td>\n",
       "      <td>489284300</td>\n",
       "    </tr>\n",
       "    <tr>\n",
       "      <th>4</th>\n",
       "      <td>NAS@IXIC</td>\n",
       "      <td>20230420</td>\n",
       "      <td>12039.08</td>\n",
       "      <td>12155.96</td>\n",
       "      <td>12011.95</td>\n",
       "      <td>12059.56</td>\n",
       "      <td>-97.67</td>\n",
       "      <td>-0.80</td>\n",
       "      <td>462760322</td>\n",
       "    </tr>\n",
       "    <tr>\n",
       "      <th>5</th>\n",
       "      <td>NAS@IXIC</td>\n",
       "      <td>20230419</td>\n",
       "      <td>12063.68</td>\n",
       "      <td>12191.10</td>\n",
       "      <td>12060.17</td>\n",
       "      <td>12157.23</td>\n",
       "      <td>3.82</td>\n",
       "      <td>0.03</td>\n",
       "      <td>505169071</td>\n",
       "    </tr>\n",
       "    <tr>\n",
       "      <th>6</th>\n",
       "      <td>NAS@IXIC</td>\n",
       "      <td>20230418</td>\n",
       "      <td>12234.56</td>\n",
       "      <td>12245.43</td>\n",
       "      <td>12110.23</td>\n",
       "      <td>12153.41</td>\n",
       "      <td>-4.31</td>\n",
       "      <td>-0.04</td>\n",
       "      <td>493617967</td>\n",
       "    </tr>\n",
       "    <tr>\n",
       "      <th>7</th>\n",
       "      <td>NAS@IXIC</td>\n",
       "      <td>20230417</td>\n",
       "      <td>12108.23</td>\n",
       "      <td>12159.02</td>\n",
       "      <td>12064.10</td>\n",
       "      <td>12157.72</td>\n",
       "      <td>34.25</td>\n",
       "      <td>0.28</td>\n",
       "      <td>485927270</td>\n",
       "    </tr>\n",
       "    <tr>\n",
       "      <th>8</th>\n",
       "      <td>NAS@IXIC</td>\n",
       "      <td>20230414</td>\n",
       "      <td>12117.91</td>\n",
       "      <td>12205.72</td>\n",
       "      <td>12026.55</td>\n",
       "      <td>12123.47</td>\n",
       "      <td>-42.80</td>\n",
       "      <td>-0.35</td>\n",
       "      <td>467526838</td>\n",
       "    </tr>\n",
       "    <tr>\n",
       "      <th>9</th>\n",
       "      <td>NAS@IXIC</td>\n",
       "      <td>20230413</td>\n",
       "      <td>11997.42</td>\n",
       "      <td>12178.80</td>\n",
       "      <td>11995.94</td>\n",
       "      <td>12166.27</td>\n",
       "      <td>236.93</td>\n",
       "      <td>1.99</td>\n",
       "      <td>493255164</td>\n",
       "    </tr>\n",
       "  </tbody>\n",
       "</table>\n",
       "</div>"
      ],
      "text/plain": [
       "       symb      xymd      open      high       low      clos    diff  rate   \n",
       "0  NAS@IXIC  20230426  11913.23  11967.99  11833.07  11854.35   55.19  0.47  \\\n",
       "1  NAS@IXIC  20230425  11968.81  11990.46  11798.77  11799.16 -238.04 -1.98   \n",
       "2  NAS@IXIC  20230424  12053.47  12103.58  11960.31  12037.20  -35.26 -0.29   \n",
       "3  NAS@IXIC  20230421  12046.03  12097.15  11986.82  12072.46   12.90  0.11   \n",
       "4  NAS@IXIC  20230420  12039.08  12155.96  12011.95  12059.56  -97.67 -0.80   \n",
       "5  NAS@IXIC  20230419  12063.68  12191.10  12060.17  12157.23    3.82  0.03   \n",
       "6  NAS@IXIC  20230418  12234.56  12245.43  12110.23  12153.41   -4.31 -0.04   \n",
       "7  NAS@IXIC  20230417  12108.23  12159.02  12064.10  12157.72   34.25  0.28   \n",
       "8  NAS@IXIC  20230414  12117.91  12205.72  12026.55  12123.47  -42.80 -0.35   \n",
       "9  NAS@IXIC  20230413  11997.42  12178.80  11995.94  12166.27  236.93  1.99   \n",
       "\n",
       "        gvol  \n",
       "0  541188237  \n",
       "1  500793836  \n",
       "2  496062344  \n",
       "3  489284300  \n",
       "4  462760322  \n",
       "5  505169071  \n",
       "6  493617967  \n",
       "7  485927270  \n",
       "8  467526838  \n",
       "9  493255164  "
      ]
     },
     "execution_count": 34,
     "metadata": {},
     "output_type": "execute_result"
    }
   ],
   "source": [
    "table = pd.json_normalize(dict_data_two)\n",
    "table"
   ]
  }
 ],
 "metadata": {
  "kernelspec": {
   "display_name": "ex_kernel",
   "language": "python",
   "name": "ex"
  },
  "language_info": {
   "codemirror_mode": {
    "name": "ipython",
    "version": 3
   },
   "file_extension": ".py",
   "mimetype": "text/x-python",
   "name": "python",
   "nbconvert_exporter": "python",
   "pygments_lexer": "ipython3",
   "version": "3.8.10"
  },
  "toc": {
   "base_numbering": 1,
   "nav_menu": {},
   "number_sections": true,
   "sideBar": true,
   "skip_h1_title": false,
   "title_cell": "Table of Contents",
   "title_sidebar": "Contents",
   "toc_cell": false,
   "toc_position": {},
   "toc_section_display": true,
   "toc_window_display": false
  }
 },
 "nbformat": 4,
 "nbformat_minor": 5
}
