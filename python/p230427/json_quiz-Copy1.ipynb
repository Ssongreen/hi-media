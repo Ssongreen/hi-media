{
 "cells": [
  {
   "cell_type": "code",
   "execution_count": 10,
   "id": "bfba559e",
   "metadata": {},
   "outputs": [
    {
     "name": "stdout",
     "output_type": "stream",
     "text": [
      "200\n",
      "200\n",
      "200\n",
      "200\n",
      "200\n",
      "200\n",
      "200\n",
      "200\n",
      "200\n",
      "200\n",
      "저장??\n"
     ]
    }
   ],
   "source": [
    "import requests\n",
    "import json\n",
    "import pandas as pd\n",
    "\n",
    "headers = {\"user-agent\": \"Mozilla/5.0 (Windows NT 10.0; Win64; x64) AppleWebKit/537.36 (KHTML, like Gecko) Chrome/112.0.0.0 Safari/537.36\"}\n",
    "url = \"https://finance.naver.com/world/worldDayListJson.naver?symbol=SPI@SPX&fdtc=0&page=\"\n",
    "data = []\n",
    "\n",
    "for i in range(1,11):\n",
    "    httpResponse = requests.get(f\"{url}{i}\", headers=headers)\n",
    "    print(httpResponse.status_code)\n",
    "    data.extend(httpResponse.json())    \n",
    "    \n",
    "table = pd.DataFrame(data)\n",
    "\n",
    "table.to_csv(\"naver_sise.csv\", index=False)\n",
    "print(\"저장??\")"
   ]
  }
 ],
 "metadata": {
  "kernelspec": {
   "display_name": "ex_kernel",
   "language": "python",
   "name": "ex"
  },
  "language_info": {
   "codemirror_mode": {
    "name": "ipython",
    "version": 3
   },
   "file_extension": ".py",
   "mimetype": "text/x-python",
   "name": "python",
   "nbconvert_exporter": "python",
   "pygments_lexer": "ipython3",
   "version": "3.8.10"
  }
 },
 "nbformat": 4,
 "nbformat_minor": 5
}
