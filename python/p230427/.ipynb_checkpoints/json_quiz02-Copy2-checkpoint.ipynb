{
 "cells": [
  {
   "cell_type": "code",
   "execution_count": null,
   "id": "84a55eb4",
   "metadata": {},
   "outputs": [],
   "source": [
    "\"\"\"\n",
    "1 - 10page(200개) 뉴스 타이틀을 화면에 출력하기.\n",
    "- 출력 형태 :1. 타이틀 \n",
    "\n",
    "\"\"\"\n",
    "import json\n",
    "import requests\n",
    "from bs4 import BeautifulSoup "
   ]
  },
  {
   "cell_type": "code",
   "execution_count": 7,
   "id": "461e7cbd",
   "metadata": {},
   "outputs": [
    {
     "data": {
      "text/plain": [
       "<Response [200]>"
      ]
     },
     "execution_count": 7,
     "metadata": {},
     "output_type": "execute_result"
    }
   ],
   "source": [
    "headers = {\"user-agent\": \"Mozilla/5.0 (Windows NT 10.0; Win64; x64) AppleWebKit/537.36 (KHTML, like Gecko) Chrome/112.0.0.0 Safari/537.36\"}\n",
    "\n",
    "json_url = \"https://news.naver.com/main/mainNews.naver?sid1=101&date=%2000:00:00:00&page=1\"\n",
    "\n",
    "\n",
    "alls.text\n",
    "\n",
    "#str - > json\n",
    "\n",
    "news =alls.json()\n",
    "print(type(news))\n",
    "\n",
    "# news_two = json.loads(alls.text)\n",
    "# print(news_two)\n",
    "\n",
    "#키 추출 하기\n",
    "news.keys()\n",
    "\n",
    "news[\"airsResult\"]\n",
    "\n",
    "news_page = json.loads(news[\"airsResult\"])\n",
    "news_page\n",
    "\n",
    "news_page[\"result\"][\"101\"][5][\"title\"]\n",
    "\n",
    "for idx , result in enumerate(news_page[\"result\"][\"101\"],1):\n",
    "    print(f\"{idx}.{result['title']}\")"
   ]
  },
  {
   "cell_type": "code",
   "execution_count": null,
   "id": "d608d4c3",
   "metadata": {},
   "outputs": [],
   "source": []
  },
  {
   "cell_type": "code",
   "execution_count": null,
   "id": "97aa70ad",
   "metadata": {},
   "outputs": [],
   "source": []
  },
  {
   "cell_type": "code",
   "execution_count": null,
   "id": "3bc25c36",
   "metadata": {},
   "outputs": [],
   "source": []
  }
 ],
 "metadata": {
  "kernelspec": {
   "display_name": "ex_kernel",
   "language": "python",
   "name": "ex"
  },
  "language_info": {
   "codemirror_mode": {
    "name": "ipython",
    "version": 3
   },
   "file_extension": ".py",
   "mimetype": "text/x-python",
   "name": "python",
   "nbconvert_exporter": "python",
   "pygments_lexer": "ipython3",
   "version": "3.8.10"
  }
 },
 "nbformat": 4,
 "nbformat_minor": 5
}
