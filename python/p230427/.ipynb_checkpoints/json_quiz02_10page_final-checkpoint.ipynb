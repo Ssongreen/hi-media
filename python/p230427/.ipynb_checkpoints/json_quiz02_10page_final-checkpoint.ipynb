{
 "cells": [
  {
   "cell_type": "code",
   "execution_count": 12,
   "id": "42fce382",
   "metadata": {},
   "outputs": [
    {
     "name": "stdout",
     "output_type": "stream",
     "text": [
      "저장 ??\n"
     ]
    }
   ],
   "source": [
    "\"\"\"\n",
    "1 - 10page(200개) 뉴스 타이틀을 화면에 출력하기.\n",
    "- 출력 형태 :1. 타이틀 \n",
    "\n",
    "\"\"\"\n",
    "import json\n",
    "import requests\n",
    "from bs4 import BeautifulSoup \n",
    "import pandas as pd\n",
    "\n",
    "# 생성\n",
    "headers = {\"user-agent\": \"Mozilla/5.0 (Windows NT 10.0; Win64; x64) AppleWebKit/537.36 (KHTML, like Gecko) Chrome/112.0.0.0 Safari/537.36\"}\n",
    "json_url = \"https://news.naver.com/main/mainNews.naver?sid1=101&date=%2000:00:00:00&page=1\"\n",
    "\n",
    "news_title = []\n",
    "\n",
    "for i in range(1,11):\n",
    "    alls = requests.get(f\"{json_url}{i}\", headers = headers)\n",
    "    \n",
    "#2.변환\n",
    "# json - >dict 변환\n",
    "    news =alls.json()\n",
    "    \n",
    "#3. 뉴스 정보 리스트 추출\n",
    "    news_page = json.loads(news[\"airsResult\"])[\"result\"][\"101\"]\n",
    "    news_title.extend(news_page)\n",
    "    \n",
    "#4. 뉴스 제목 출력\n",
    "for idx, new_line in enumerate(news_title, 1):\n",
    "    f\"{idx}.{new_line['title']}\"\n",
    "#5. 뉴스 정보 리스트를 저장 (DataFrame)\n",
    "table = pd.DataFrame(news_title, columns=[\"title\"])\n",
    "table.to_csv(\"new_title.csv\", index= False , encoding=\"CP949\")\n",
    "print(\"저장 ??\")"
   ]
  },
  {
   "cell_type": "code",
   "execution_count": null,
   "id": "ad2e8ba8",
   "metadata": {},
   "outputs": [],
   "source": []
  },
  {
   "cell_type": "code",
   "execution_count": null,
   "id": "21dafc9c",
   "metadata": {},
   "outputs": [],
   "source": [
    "\"\"\"\n",
    "Python 리스트(List)에 대해서, append()와 extend()는 둘 다 리스트에 새로운 요소를 추가하는 메소드이지만, 동작 방식에서 차이가 있습니다.\n",
    "append() 메소드는 리스트의 끝에 하나의 요소를 추가합니다. 이 때 추가되는 요소는 리스트 형태로 들어올 필요가 없으며, 하나의 값(value)만 들어와도 됩니다.\n",
    "\n",
    "예시:\n",
    "my_list = [1, 2, 3]\n",
    "my_list.append(4)\n",
    "print(my_list) # [1, 2, 3, 4]\n",
    "\n",
    "my_list.append([5, 6])\n",
    "print(my_list) # [1, 2, 3, 4, [5, 6]]\n",
    "extend() 메소드는 리스트 끝에 iterable(반복 가능한) 객체의 모든 항목을 추가합니다. 이 때 추가되는 항목들은 하나의 값으로 들어오지 않고, 요소 하나하나가 리스트의 형태로 들어와야 합니다.\n",
    "\n",
    "예시:\n",
    "my_list = [1, 2, 3]\n",
    "my_list.extend([4, 5, 6])\n",
    "print(my_list) # [1, 2, 3, 4, 5, 6]\n",
    "\n",
    "my_list.extend(\"hello\")\n",
    "print(my_list) # [1, 2, 3, 4, 5, 6, 'h', 'e', 'l', 'l', 'o']\n",
    "따라서, append() 메소드는 리스트에 요소를 추가할 때 리스트 자체를 하나의 요소로 추가할 수 있지만, extend() 메소드는 리스트에 요소를 추가할 때 iterable 객체의 모든 요소를 각각 추가합니다.\n",
    "\"\"\""
   ]
  },
  {
   "cell_type": "code",
   "execution_count": null,
   "id": "4e95cbb7",
   "metadata": {},
   "outputs": [],
   "source": []
  },
  {
   "cell_type": "code",
   "execution_count": null,
   "id": "515479ff",
   "metadata": {},
   "outputs": [],
   "source": []
  }
 ],
 "metadata": {
  "kernelspec": {
   "display_name": "ex_kernel",
   "language": "python",
   "name": "ex"
  },
  "language_info": {
   "codemirror_mode": {
    "name": "ipython",
    "version": 3
   },
   "file_extension": ".py",
   "mimetype": "text/x-python",
   "name": "python",
   "nbconvert_exporter": "python",
   "pygments_lexer": "ipython3",
   "version": "3.8.10"
  }
 },
 "nbformat": 4,
 "nbformat_minor": 5
}
