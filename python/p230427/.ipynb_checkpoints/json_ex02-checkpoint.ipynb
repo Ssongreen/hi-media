{
 "cells": [
  {
   "cell_type": "code",
   "execution_count": 21,
   "id": "4a982b7c",
   "metadata": {},
   "outputs": [],
   "source": [
    "import requests\n",
    "import json\n",
    "import pandas as pd"
   ]
  },
  {
   "cell_type": "code",
   "execution_count": 36,
   "id": "26d29f1d",
   "metadata": {},
   "outputs": [
    {
     "data": {
      "text/plain": [
       "200"
      ]
     },
     "execution_count": 36,
     "metadata": {},
     "output_type": "execute_result"
    }
   ],
   "source": [
    "headers = {\"user-agent\": \"Mozilla/5.0 (Windows NT 10.0; Win64; x64) AppleWebKit/537.36 (KHTML, like Gecko) Chrome/112.0.0.0 Safari/537.36\"}\n",
    "url = \"https://finance.naver.com/world/worldDayListJson.naver?symbol=NAS@IXIC&fdtc=0&page=1\"\n",
    "httpResponse = requests.get(url, headers=headers)\n",
    "httpResponse.status_code"
   ]
  },
  {
   "cell_type": "code",
   "execution_count": 37,
   "id": "030a76f6",
   "metadata": {
    "collapsed": true
   },
   "outputs": [
    {
     "data": {
      "text/plain": [
       "'[{\"symb\":\"NAS@IXIC\",\"xymd\":\"20230426\",\"open\":11913.23,\"high\":11967.99,\"low\":11833.07,\"clos\":11854.35,\"diff\":55.19,\"rate\":0.47,\"gvol\":541188237},{\"symb\":\"NAS@IXIC\",\"xymd\":\"20230425\",\"open\":11968.81,\"high\":11990.46,\"low\":11798.77,\"clos\":11799.16,\"diff\":-238.04,\"rate\":-1.98,\"gvol\":500793836},{\"symb\":\"NAS@IXIC\",\"xymd\":\"20230424\",\"open\":12053.47,\"high\":12103.58,\"low\":11960.31,\"clos\":12037.2,\"diff\":-35.26,\"rate\":-0.29,\"gvol\":496062344},{\"symb\":\"NAS@IXIC\",\"xymd\":\"20230421\",\"open\":12046.03,\"high\":12097.15,\"low\":11986.82,\"clos\":12072.46,\"diff\":12.9,\"rate\":0.11,\"gvol\":489284300},{\"symb\":\"NAS@IXIC\",\"xymd\":\"20230420\",\"open\":12039.08,\"high\":12155.96,\"low\":12011.95,\"clos\":12059.56,\"diff\":-97.67,\"rate\":-0.8,\"gvol\":462760322},{\"symb\":\"NAS@IXIC\",\"xymd\":\"20230419\",\"open\":12063.68,\"high\":12191.1,\"low\":12060.17,\"clos\":12157.23,\"diff\":3.82,\"rate\":0.03,\"gvol\":505169071},{\"symb\":\"NAS@IXIC\",\"xymd\":\"20230418\",\"open\":12234.56,\"high\":12245.43,\"low\":12110.23,\"clos\":12153.41,\"diff\":-4.31,\"rate\":-0.04,\"gvol\":493617967},{\"symb\":\"NAS@IXIC\",\"xymd\":\"20230417\",\"open\":12108.23,\"high\":12159.02,\"low\":12064.1,\"clos\":12157.72,\"diff\":34.25,\"rate\":0.28,\"gvol\":485927270},{\"symb\":\"NAS@IXIC\",\"xymd\":\"20230414\",\"open\":12117.91,\"high\":12205.72,\"low\":12026.55,\"clos\":12123.47,\"diff\":-42.8,\"rate\":-0.35,\"gvol\":467526838},{\"symb\":\"NAS@IXIC\",\"xymd\":\"20230413\",\"open\":11997.42,\"high\":12178.8,\"low\":11995.94,\"clos\":12166.27,\"diff\":236.93,\"rate\":1.99,\"gvol\":493255164}]'"
      ]
     },
     "execution_count": 37,
     "metadata": {},
     "output_type": "execute_result"
    }
   ],
   "source": [
    "httpResponse.text\n",
    "#응답이 되지 않은 상태에용 requests는 200이 되어도 error 가 되지 않아용"
   ]
  },
  {
   "cell_type": "code",
   "execution_count": 35,
   "id": "c47d7b24",
   "metadata": {
    "collapsed": true
   },
   "outputs": [
    {
     "data": {
      "text/plain": [
       "[{'symb': 'NAS@IXIC',\n",
       "  'xymd': '20230426',\n",
       "  'open': 11913.23,\n",
       "  'high': 11967.99,\n",
       "  'low': 11833.07,\n",
       "  'clos': 11854.35,\n",
       "  'diff': 55.19,\n",
       "  'rate': 0.47,\n",
       "  'gvol': 541188237},\n",
       " {'symb': 'NAS@IXIC',\n",
       "  'xymd': '20230425',\n",
       "  'open': 11968.81,\n",
       "  'high': 11990.46,\n",
       "  'low': 11798.77,\n",
       "  'clos': 11799.16,\n",
       "  'diff': -238.04,\n",
       "  'rate': -1.98,\n",
       "  'gvol': 500793836},\n",
       " {'symb': 'NAS@IXIC',\n",
       "  'xymd': '20230424',\n",
       "  'open': 12053.47,\n",
       "  'high': 12103.58,\n",
       "  'low': 11960.31,\n",
       "  'clos': 12037.2,\n",
       "  'diff': -35.26,\n",
       "  'rate': -0.29,\n",
       "  'gvol': 496062344},\n",
       " {'symb': 'NAS@IXIC',\n",
       "  'xymd': '20230421',\n",
       "  'open': 12046.03,\n",
       "  'high': 12097.15,\n",
       "  'low': 11986.82,\n",
       "  'clos': 12072.46,\n",
       "  'diff': 12.9,\n",
       "  'rate': 0.11,\n",
       "  'gvol': 489284300},\n",
       " {'symb': 'NAS@IXIC',\n",
       "  'xymd': '20230420',\n",
       "  'open': 12039.08,\n",
       "  'high': 12155.96,\n",
       "  'low': 12011.95,\n",
       "  'clos': 12059.56,\n",
       "  'diff': -97.67,\n",
       "  'rate': -0.8,\n",
       "  'gvol': 462760322},\n",
       " {'symb': 'NAS@IXIC',\n",
       "  'xymd': '20230419',\n",
       "  'open': 12063.68,\n",
       "  'high': 12191.1,\n",
       "  'low': 12060.17,\n",
       "  'clos': 12157.23,\n",
       "  'diff': 3.82,\n",
       "  'rate': 0.03,\n",
       "  'gvol': 505169071},\n",
       " {'symb': 'NAS@IXIC',\n",
       "  'xymd': '20230418',\n",
       "  'open': 12234.56,\n",
       "  'high': 12245.43,\n",
       "  'low': 12110.23,\n",
       "  'clos': 12153.41,\n",
       "  'diff': -4.31,\n",
       "  'rate': -0.04,\n",
       "  'gvol': 493617967},\n",
       " {'symb': 'NAS@IXIC',\n",
       "  'xymd': '20230417',\n",
       "  'open': 12108.23,\n",
       "  'high': 12159.02,\n",
       "  'low': 12064.1,\n",
       "  'clos': 12157.72,\n",
       "  'diff': 34.25,\n",
       "  'rate': 0.28,\n",
       "  'gvol': 485927270},\n",
       " {'symb': 'NAS@IXIC',\n",
       "  'xymd': '20230414',\n",
       "  'open': 12117.91,\n",
       "  'high': 12205.72,\n",
       "  'low': 12026.55,\n",
       "  'clos': 12123.47,\n",
       "  'diff': -42.8,\n",
       "  'rate': -0.35,\n",
       "  'gvol': 467526838},\n",
       " {'symb': 'NAS@IXIC',\n",
       "  'xymd': '20230413',\n",
       "  'open': 11997.42,\n",
       "  'high': 12178.8,\n",
       "  'low': 11995.94,\n",
       "  'clos': 12166.27,\n",
       "  'diff': 236.93,\n",
       "  'rate': 1.99,\n",
       "  'gvol': 493255164}]"
      ]
     },
     "execution_count": 35,
     "metadata": {},
     "output_type": "execute_result"
    }
   ],
   "source": [
    "# 3.1 json - > str loads는 str , contents는 아니다\n",
    "dict_data = json.loads(httpResponse.text)\n",
    "dict_data"
   ]
  },
  {
   "cell_type": "code",
   "execution_count": 30,
   "id": "17b84c70",
   "metadata": {},
   "outputs": [
    {
     "data": {
      "text/plain": [
       "list"
      ]
     },
     "execution_count": 30,
     "metadata": {},
     "output_type": "execute_result"
    }
   ],
   "source": [
    "type(dict_data)"
   ]
  },
  {
   "cell_type": "code",
   "execution_count": 32,
   "id": "2e07cc8b",
   "metadata": {},
   "outputs": [
    {
     "data": {
      "text/plain": [
       "list"
      ]
     },
     "execution_count": 32,
     "metadata": {},
     "output_type": "execute_result"
    }
   ],
   "source": [
    "#3.2 json -> dict\n",
    "dict_data_two = httpResponse.json()\n",
    "type(dict_data_two)"
   ]
  },
  {
   "cell_type": "code",
   "execution_count": 34,
   "id": "8fbf6d17",
   "metadata": {},
   "outputs": [
    {
     "data": {
      "text/html": [
       "<div>\n",
       "<style scoped>\n",
       "    .dataframe tbody tr th:only-of-type {\n",
       "        vertical-align: middle;\n",
       "    }\n",
       "\n",
       "    .dataframe tbody tr th {\n",
       "        vertical-align: top;\n",
       "    }\n",
       "\n",
       "    .dataframe thead th {\n",
       "        text-align: right;\n",
       "    }\n",
       "</style>\n",
       "<table border=\"1\" class=\"dataframe\">\n",
       "  <thead>\n",
       "    <tr style=\"text-align: right;\">\n",
       "      <th></th>\n",
       "      <th>symb</th>\n",
       "      <th>xymd</th>\n",
       "      <th>open</th>\n",
       "      <th>high</th>\n",
       "      <th>low</th>\n",
       "      <th>clos</th>\n",
       "      <th>diff</th>\n",
       "      <th>rate</th>\n",
       "      <th>gvol</th>\n",
       "    </tr>\n",
       "  </thead>\n",
       "  <tbody>\n",
       "    <tr>\n",
       "      <th>0</th>\n",
       "      <td>NAS@IXIC</td>\n",
       "      <td>20230426</td>\n",
       "      <td>11913.23</td>\n",
       "      <td>11967.99</td>\n",
       "      <td>11833.07</td>\n",
       "      <td>11854.35</td>\n",
       "      <td>55.19</td>\n",
       "      <td>0.47</td>\n",
       "      <td>541188237</td>\n",
       "    </tr>\n",
       "    <tr>\n",
       "      <th>1</th>\n",
       "      <td>NAS@IXIC</td>\n",
       "      <td>20230425</td>\n",
       "      <td>11968.81</td>\n",
       "      <td>11990.46</td>\n",
       "      <td>11798.77</td>\n",
       "      <td>11799.16</td>\n",
       "      <td>-238.04</td>\n",
       "      <td>-1.98</td>\n",
       "      <td>500793836</td>\n",
       "    </tr>\n",
       "    <tr>\n",
       "      <th>2</th>\n",
       "      <td>NAS@IXIC</td>\n",
       "      <td>20230424</td>\n",
       "      <td>12053.47</td>\n",
       "      <td>12103.58</td>\n",
       "      <td>11960.31</td>\n",
       "      <td>12037.20</td>\n",
       "      <td>-35.26</td>\n",
       "      <td>-0.29</td>\n",
       "      <td>496062344</td>\n",
       "    </tr>\n",
       "    <tr>\n",
       "      <th>3</th>\n",
       "      <td>NAS@IXIC</td>\n",
       "      <td>20230421</td>\n",
       "      <td>12046.03</td>\n",
       "      <td>12097.15</td>\n",
       "      <td>11986.82</td>\n",
       "      <td>12072.46</td>\n",
       "      <td>12.90</td>\n",
       "      <td>0.11</td>\n",
       "      <td>489284300</td>\n",
       "    </tr>\n",
       "    <tr>\n",
       "      <th>4</th>\n",
       "      <td>NAS@IXIC</td>\n",
       "      <td>20230420</td>\n",
       "      <td>12039.08</td>\n",
       "      <td>12155.96</td>\n",
       "      <td>12011.95</td>\n",
       "      <td>12059.56</td>\n",
       "      <td>-97.67</td>\n",
       "      <td>-0.80</td>\n",
       "      <td>462760322</td>\n",
       "    </tr>\n",
       "    <tr>\n",
       "      <th>5</th>\n",
       "      <td>NAS@IXIC</td>\n",
       "      <td>20230419</td>\n",
       "      <td>12063.68</td>\n",
       "      <td>12191.10</td>\n",
       "      <td>12060.17</td>\n",
       "      <td>12157.23</td>\n",
       "      <td>3.82</td>\n",
       "      <td>0.03</td>\n",
       "      <td>505169071</td>\n",
       "    </tr>\n",
       "    <tr>\n",
       "      <th>6</th>\n",
       "      <td>NAS@IXIC</td>\n",
       "      <td>20230418</td>\n",
       "      <td>12234.56</td>\n",
       "      <td>12245.43</td>\n",
       "      <td>12110.23</td>\n",
       "      <td>12153.41</td>\n",
       "      <td>-4.31</td>\n",
       "      <td>-0.04</td>\n",
       "      <td>493617967</td>\n",
       "    </tr>\n",
       "    <tr>\n",
       "      <th>7</th>\n",
       "      <td>NAS@IXIC</td>\n",
       "      <td>20230417</td>\n",
       "      <td>12108.23</td>\n",
       "      <td>12159.02</td>\n",
       "      <td>12064.10</td>\n",
       "      <td>12157.72</td>\n",
       "      <td>34.25</td>\n",
       "      <td>0.28</td>\n",
       "      <td>485927270</td>\n",
       "    </tr>\n",
       "    <tr>\n",
       "      <th>8</th>\n",
       "      <td>NAS@IXIC</td>\n",
       "      <td>20230414</td>\n",
       "      <td>12117.91</td>\n",
       "      <td>12205.72</td>\n",
       "      <td>12026.55</td>\n",
       "      <td>12123.47</td>\n",
       "      <td>-42.80</td>\n",
       "      <td>-0.35</td>\n",
       "      <td>467526838</td>\n",
       "    </tr>\n",
       "    <tr>\n",
       "      <th>9</th>\n",
       "      <td>NAS@IXIC</td>\n",
       "      <td>20230413</td>\n",
       "      <td>11997.42</td>\n",
       "      <td>12178.80</td>\n",
       "      <td>11995.94</td>\n",
       "      <td>12166.27</td>\n",
       "      <td>236.93</td>\n",
       "      <td>1.99</td>\n",
       "      <td>493255164</td>\n",
       "    </tr>\n",
       "  </tbody>\n",
       "</table>\n",
       "</div>"
      ],
      "text/plain": [
       "       symb      xymd      open      high       low      clos    diff  rate   \n",
       "0  NAS@IXIC  20230426  11913.23  11967.99  11833.07  11854.35   55.19  0.47  \\\n",
       "1  NAS@IXIC  20230425  11968.81  11990.46  11798.77  11799.16 -238.04 -1.98   \n",
       "2  NAS@IXIC  20230424  12053.47  12103.58  11960.31  12037.20  -35.26 -0.29   \n",
       "3  NAS@IXIC  20230421  12046.03  12097.15  11986.82  12072.46   12.90  0.11   \n",
       "4  NAS@IXIC  20230420  12039.08  12155.96  12011.95  12059.56  -97.67 -0.80   \n",
       "5  NAS@IXIC  20230419  12063.68  12191.10  12060.17  12157.23    3.82  0.03   \n",
       "6  NAS@IXIC  20230418  12234.56  12245.43  12110.23  12153.41   -4.31 -0.04   \n",
       "7  NAS@IXIC  20230417  12108.23  12159.02  12064.10  12157.72   34.25  0.28   \n",
       "8  NAS@IXIC  20230414  12117.91  12205.72  12026.55  12123.47  -42.80 -0.35   \n",
       "9  NAS@IXIC  20230413  11997.42  12178.80  11995.94  12166.27  236.93  1.99   \n",
       "\n",
       "        gvol  \n",
       "0  541188237  \n",
       "1  500793836  \n",
       "2  496062344  \n",
       "3  489284300  \n",
       "4  462760322  \n",
       "5  505169071  \n",
       "6  493617967  \n",
       "7  485927270  \n",
       "8  467526838  \n",
       "9  493255164  "
      ]
     },
     "execution_count": 34,
     "metadata": {},
     "output_type": "execute_result"
    }
   ],
   "source": [
    "table = pd.json_normalize(dict_data_two)\n",
    "table"
   ]
  }
 ],
 "metadata": {
  "kernelspec": {
   "display_name": "ex_kernel",
   "language": "python",
   "name": "ex"
  },
  "language_info": {
   "codemirror_mode": {
    "name": "ipython",
    "version": 3
   },
   "file_extension": ".py",
   "mimetype": "text/x-python",
   "name": "python",
   "nbconvert_exporter": "python",
   "pygments_lexer": "ipython3",
   "version": "3.8.10"
  }
 },
 "nbformat": 4,
 "nbformat_minor": 5
}
