{
 "cells": [
  {
   "cell_type": "code",
   "execution_count": null,
   "id": "c488dd76",
   "metadata": {},
   "outputs": [],
   "source": [
    "\"\"\"\n",
    "JSON javascript Object Natation\n",
    "- 경량화의 데이터 교환 형식\n",
    "- JSON은 완벽하게 언어로 부터 독립\n",
    "- 데이터의 형태가 KEY : Value 쌍으로 이뤄짐\n",
    "- 사람이 읽고 쓰기에 쉽고, 컴퓨터가 분석하고 생성 용이\n",
    "\n",
    "\"\"\""
   ]
  },
  {
   "cell_type": "code",
   "execution_count": 1,
   "id": "0cfb6646",
   "metadata": {},
   "outputs": [],
   "source": [
    "import json"
   ]
  },
  {
   "cell_type": "code",
   "execution_count": 2,
   "id": "77e9571c",
   "metadata": {},
   "outputs": [
    {
     "name": "stdout",
     "output_type": "stream",
     "text": [
      "자료형 <class 'dict'>\n"
     ]
    }
   ],
   "source": [
    "data = {}\n",
    "print(\"자료형\", type(data))"
   ]
  },
  {
   "cell_type": "code",
   "execution_count": 3,
   "id": "2c86a5c7",
   "metadata": {},
   "outputs": [
    {
     "name": "stdout",
     "output_type": "stream",
     "text": [
      "data {'student': []}\n"
     ]
    }
   ],
   "source": [
    "# 요소 추가\n",
    "data[\"student\"] = []\n",
    "print(\"data\",data)"
   ]
  },
  {
   "cell_type": "code",
   "execution_count": 4,
   "id": "b411822a",
   "metadata": {},
   "outputs": [
    {
     "name": "stdout",
     "output_type": "stream",
     "text": [
      "student 키의 값 타입 <class 'list'>\n"
     ]
    }
   ],
   "source": [
    "print(\"student 키의 값 타입\", type(data[\"student\"]))"
   ]
  },
  {
   "cell_type": "code",
   "execution_count": 5,
   "id": "132b5fb4",
   "metadata": {},
   "outputs": [
    {
     "data": {
      "text/plain": [
       "{'student': [{'name': 'hong', 'website': 'daum.net', 'from': 'Jeju'}]}"
      ]
     },
     "execution_count": 5,
     "metadata": {},
     "output_type": "execute_result"
    }
   ],
   "source": [
    "data[\"student\"].append({\n",
    "    \"name\"    : \"hong\",\n",
    "    \"website\" : \"daum.net\",\n",
    "    \"from\"    : \"Jeju\"\n",
    "})\n",
    "data "
   ]
  },
  {
   "cell_type": "code",
   "execution_count": 6,
   "id": "1fd5b86f",
   "metadata": {},
   "outputs": [
    {
     "data": {
      "text/plain": [
       "'Jeju'"
      ]
     },
     "execution_count": 6,
     "metadata": {},
     "output_type": "execute_result"
    }
   ],
   "source": [
    "#학생 이름\n",
    "data['student'][0]['name']\n",
    "data['student'][0]['website']\n",
    "data['student'][0]['from']"
   ]
  },
  {
   "cell_type": "code",
   "execution_count": 7,
   "id": "77739ad1",
   "metadata": {},
   "outputs": [
    {
     "data": {
      "text/plain": [
       "{'student': [{'name': 'hong', 'website': 'daum.net', 'from': 'Jeju'},\n",
       "  {'name': 'park', 'website': 'google.com', 'from': 'Busan'}]}"
      ]
     },
     "execution_count": 7,
     "metadata": {},
     "output_type": "execute_result"
    }
   ],
   "source": [
    "data[\"student\"].append({\n",
    "    \"name\"    :\"park\",\n",
    "    \"website\" :\"google.com\",\n",
    "    \"from\"    :\"Busan\"\n",
    "    \n",
    "})\n",
    "data\n"
   ]
  },
  {
   "cell_type": "code",
   "execution_count": 8,
   "id": "9d69f8ac",
   "metadata": {},
   "outputs": [
    {
     "data": {
      "text/plain": [
       "{'student': [{'name': 'hong', 'website': 'daum.net', 'from': 'Jeju'},\n",
       "  {'name': 'park', 'website': 'google.com', 'from': 'Busan'},\n",
       "  {'name': 'lee', 'website': 'naver.com', 'from': 'Seoul'}]}"
      ]
     },
     "execution_count": 8,
     "metadata": {},
     "output_type": "execute_result"
    }
   ],
   "source": [
    "data[\"student\"].append({\n",
    "    \"name\"    :\"lee\",\n",
    "    \"website\" :\"naver.com\",\n",
    "    \"from\"    :\"Seoul\"\n",
    "    \n",
    "})\n",
    "data\n"
   ]
  },
  {
   "cell_type": "code",
   "execution_count": 15,
   "id": "52f16f38",
   "metadata": {},
   "outputs": [
    {
     "name": "stdout",
     "output_type": "stream",
     "text": [
      "<class 'str'>\n",
      "{\"student\": [{\"name\": \"hong\", \"website\": \"daum.net\", \"from\": \"Jeju\"}, {\"name\": \"park\", \"website\": \"google.com\", \"from\": \"Busan\"}, {\"name\": \"lee\", \"website\": \"naver.com\", \"from\": \"Seoul\"}]}\n",
      "json 파일 생성 완료\n"
     ]
    }
   ],
   "source": [
    "# [divtionary(dict) - json 파일로 변환]\n",
    "# [방법 1]\n",
    "# dict = > str => json 파일\n",
    "str_data = json.dumps(data)\n",
    "print(type(str_data))\n",
    "print(str_data)\n",
    "\n",
    "with open(\"student.json\", \"w\") as file:\n",
    "    file.write(str_data)\n",
    "print(\"json 파일 생성 완료\")"
   ]
  },
  {
   "cell_type": "code",
   "execution_count": null,
   "id": "fc39c9bd",
   "metadata": {},
   "outputs": [],
   "source": []
  },
  {
   "cell_type": "code",
   "execution_count": null,
   "id": "b61de284",
   "metadata": {},
   "outputs": [],
   "source": []
  },
  {
   "cell_type": "code",
   "execution_count": null,
   "id": "139a238b",
   "metadata": {},
   "outputs": [],
   "source": []
  },
  {
   "cell_type": "code",
   "execution_count": null,
   "id": "61105e47",
   "metadata": {},
   "outputs": [],
   "source": []
  }
 ],
 "metadata": {
  "kernelspec": {
   "display_name": "ex_kernel",
   "language": "python",
   "name": "ex"
  },
  "language_info": {
   "codemirror_mode": {
    "name": "ipython",
    "version": 3
   },
   "file_extension": ".py",
   "mimetype": "text/x-python",
   "name": "python",
   "nbconvert_exporter": "python",
   "pygments_lexer": "ipython3",
   "version": "3.8.10"
  }
 },
 "nbformat": 4,
 "nbformat_minor": 5
}
