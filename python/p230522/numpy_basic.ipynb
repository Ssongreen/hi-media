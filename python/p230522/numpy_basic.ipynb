{
 "cells": [
  {
   "cell_type": "code",
   "execution_count": 1,
   "id": "4f8ba8b3",
   "metadata": {},
   "outputs": [],
   "source": [
    "import numpy as np"
   ]
  },
  {
   "cell_type": "markdown",
   "id": "3724d4c0",
   "metadata": {},
   "source": [
    "- numpy\n",
    "    - Numerical Python\n",
    "    - 파이썬의 고성능 과학 계산용 패키지\n",
    "    - Matrix와 Vector와 같은 Array 연산\n",
    "    - list에 비해 연산 속도 빠르고, 메모리 효율적 사용\n",
    "    - 반복문 없이 배열 연산 가능\n",
    "    - 선형대수와 관련된 다양한 기능을 제공\n",
    "    - C, C++, 포트란 등의 언어 통합 가능"
   ]
  },
  {
   "cell_type": "markdown",
   "id": "f1bd7498",
   "metadata": {},
   "source": [
    "# 차원에 따른 이름\n",
    "차원 | 이름 | 예제\n",
    "- | - |-\n",
    "0 | scalar | 7\n",
    "1 | vector | [10, 20]\n",
    "2 | matrix | [[10, 20], [30, 40]]\n",
    "3 | 3-tensor | [[[1, 3, 5] [7, 9, 11]], [[2, 4, 6], [8, 10, 12]]]\n",
    "n | n-tensor | \n"
   ]
  },
  {
   "cell_type": "markdown",
   "id": "e024a1b5",
   "metadata": {},
   "source": [
    "## 스칼라 (scalar) \n",
    "- 상수"
   ]
  },
  {
   "cell_type": "code",
   "execution_count": 3,
   "id": "1f7fd885",
   "metadata": {},
   "outputs": [
    {
     "data": {
      "text/plain": [
       "True"
      ]
     },
     "execution_count": 3,
     "metadata": {},
     "output_type": "execute_result"
    }
   ],
   "source": [
    "np.isscalar(3)"
   ]
  },
  {
   "cell_type": "code",
   "execution_count": 4,
   "id": "153a1f32",
   "metadata": {},
   "outputs": [
    {
     "data": {
      "text/plain": [
       "True"
      ]
     },
     "execution_count": 4,
     "metadata": {},
     "output_type": "execute_result"
    }
   ],
   "source": [
    "np.isscalar(5.2)"
   ]
  },
  {
   "cell_type": "code",
   "execution_count": 5,
   "id": "f601089d",
   "metadata": {},
   "outputs": [
    {
     "data": {
      "text/plain": [
       "True"
      ]
     },
     "execution_count": 5,
     "metadata": {},
     "output_type": "execute_result"
    }
   ],
   "source": [
    "np.isscalar('hi')"
   ]
  },
  {
   "cell_type": "code",
   "execution_count": 6,
   "id": "3d847d06",
   "metadata": {},
   "outputs": [
    {
     "data": {
      "text/plain": [
       "True"
      ]
     },
     "execution_count": 6,
     "metadata": {},
     "output_type": "execute_result"
    }
   ],
   "source": [
    "np.isscalar(True)"
   ]
  },
  {
   "cell_type": "code",
   "execution_count": 7,
   "id": "a9fa2e33",
   "metadata": {},
   "outputs": [
    {
     "data": {
      "text/plain": [
       "False"
      ]
     },
     "execution_count": 7,
     "metadata": {},
     "output_type": "execute_result"
    }
   ],
   "source": [
    "np.isscalar([4])"
   ]
  },
  {
   "cell_type": "code",
   "execution_count": 8,
   "id": "2a4ea98b",
   "metadata": {},
   "outputs": [
    {
     "data": {
      "text/plain": [
       "False"
      ]
     },
     "execution_count": 8,
     "metadata": {},
     "output_type": "execute_result"
    }
   ],
   "source": [
    "np.isscalar(np.array([3, 4]))"
   ]
  },
  {
   "cell_type": "markdown",
   "id": "13a0c1b5",
   "metadata": {},
   "source": [
    "## 벡터 (vector)\n",
    "- 크기와 방향을 갖는 물리량\n",
    "- 공간에서 갖는 한 점\n",
    "- 1차원 배열\n",
    "- 선\n",
    "- axis0"
   ]
  },
  {
   "cell_type": "code",
   "execution_count": 15,
   "id": "69e6d770",
   "metadata": {},
   "outputs": [
    {
     "name": "stdout",
     "output_type": "stream",
     "text": [
      "[0 1 2 3 4]\n",
      "<class 'numpy.ndarray'>\n",
      "ar size : 5\n",
      "ar len : 5\n",
      "ar shape : (5,)\n",
      "ar dtype : int32\n",
      "ar nbytes : 20\n"
     ]
    }
   ],
   "source": [
    "ar = np.arange(5)\n",
    "print(ar)\n",
    "print(type(ar))\n",
    "print('ar size :', ar.size)  ## 전체 요소 개수\n",
    "print('ar len :', len(ar))   ## 해당 축 요소 개수\n",
    "print('ar shape :', ar.shape)## 크기(길이)가 5인 1차원 배열, 크기가 5인 벡터\n",
    "print('ar dtype :', ar.dtype)## int32 : 32bit -> 4byte\n",
    "print('ar nbytes :', ar.nbytes) ## 메모리 크기 : 4byte * 5개 = 20byte"
   ]
  },
  {
   "cell_type": "markdown",
   "id": "69dd86a5",
   "metadata": {},
   "source": [
    "## 매트릭스 (matrix)\n",
    "- 행과 열 : 행렬\n",
    "- 2차원 배열 : 1차원 배열 여러 개\n",
    "- 여러 개의 벡터 (벡터를 원소로 갖음)\n",
    "- 면\n",
    "- axis0, axis1"
   ]
  },
  {
   "cell_type": "code",
   "execution_count": 16,
   "id": "f0c50b34",
   "metadata": {},
   "outputs": [
    {
     "data": {
      "text/plain": [
       "array([0, 1, 2, 3, 4])"
      ]
     },
     "execution_count": 16,
     "metadata": {},
     "output_type": "execute_result"
    }
   ],
   "source": [
    "ar"
   ]
  },
  {
   "cell_type": "code",
   "execution_count": 24,
   "id": "c868bb5c",
   "metadata": {},
   "outputs": [
    {
     "name": "stdout",
     "output_type": "stream",
     "text": [
      "[[0 1 2 3 4]\n",
      " [0 1 2 3 4]]\n",
      "ar2 size : 10\n",
      "ar2 len : 2\n",
      "ar2[0] len 5\n",
      "ar2 shape : (2, 5)\n",
      "ar2 dtype : int32\n",
      "ar2 nbytes : 40\n"
     ]
    }
   ],
   "source": [
    "ar2 = np.array([ar, ar])\n",
    "print(ar2)\n",
    "print('ar2 size :', ar2.size)    ## 전체 요소 개수 : 10\n",
    "print('ar2 len :', len(ar2))     ## 해당 축의 요소 개수 : 2\n",
    "print('ar2[0] len', len(ar2[0])) ## 해당 축의 요소 개수 : 5\n",
    "print('ar2 shape :', ar2.shape)  ## 크기가 2x5인 2차원 배열(matrix)\n",
    "print('ar2 dtype :', ar2.dtype)  ## dtype: 32bit -> 4byte\n",
    "print('ar2 nbytes :', ar2.nbytes)## 메모리 크기 : 4byte * 10개 = 40byte"
   ]
  },
  {
   "cell_type": "markdown",
   "id": "d262f6be",
   "metadata": {},
   "source": [
    "## 텐서 (tensor)\n",
    "- 행, 열, 깊이/차원/높이\n",
    "- 3차원 배열 : 2차원 배열 여러 개\n",
    "- 입체\n",
    "- axis0, axis1, axis2"
   ]
  },
  {
   "cell_type": "code",
   "execution_count": 25,
   "id": "54871df9",
   "metadata": {},
   "outputs": [
    {
     "data": {
      "text/plain": [
       "array([[0, 1, 2, 3, 4],\n",
       "       [0, 1, 2, 3, 4]])"
      ]
     },
     "execution_count": 25,
     "metadata": {},
     "output_type": "execute_result"
    }
   ],
   "source": [
    "ar2"
   ]
  },
  {
   "cell_type": "code",
   "execution_count": 32,
   "id": "66f59c88",
   "metadata": {},
   "outputs": [
    {
     "name": "stdout",
     "output_type": "stream",
     "text": [
      "[[[0 1 2 3 4]\n",
      "  [0 1 2 3 4]]\n",
      "\n",
      " [[0 1 2 3 4]\n",
      "  [0 1 2 3 4]]\n",
      "\n",
      " [[0 1 2 3 4]\n",
      "  [0 1 2 3 4]]]\n",
      "ar3 size : 30\n",
      "ar3 len : 3\n",
      "ar3[0] len : 2\n",
      "ar3 shape : (3, 2, 5)\n",
      "ar3 dtype : int32\n",
      "ar3 nbytes : 120\n"
     ]
    }
   ],
   "source": [
    "ar3 = np.array([ar2, ar2, ar2])\n",
    "print(ar3)\n",
    "print('ar3 size :', ar3.size)\n",
    "print('ar3 len :', len(ar3))\n",
    "print('ar3[0] len :', len(ar3[0]))\n",
    "print('ar3 shape :', ar3.shape)\n",
    "print('ar3 dtype :', ar3.dtype)\n",
    "print('ar3 nbytes :', ar3.nbytes) ## 4byte * 30개 = 120byte"
   ]
  },
  {
   "cell_type": "markdown",
   "id": "77c8adf7",
   "metadata": {},
   "source": [
    "# numpy type\n",
    "\n",
    "- int : 정수\n",
    "- uint : 부호없는 정수\n",
    "- float : 실수\n",
    "- complex : 복소수 - 실수, 허수\n",
    "- bool : 논리"
   ]
  },
  {
   "cell_type": "code",
   "execution_count": 33,
   "id": "c8b8dc0a",
   "metadata": {},
   "outputs": [
    {
     "data": {
      "text/plain": [
       "array([0, 1, 2, 3, 4])"
      ]
     },
     "execution_count": 33,
     "metadata": {},
     "output_type": "execute_result"
    }
   ],
   "source": [
    "ar = np.arange(5)\n",
    "ar"
   ]
  },
  {
   "cell_type": "code",
   "execution_count": 34,
   "id": "72f0080a",
   "metadata": {},
   "outputs": [
    {
     "data": {
      "text/plain": [
       "dtype('int32')"
      ]
     },
     "execution_count": 34,
     "metadata": {},
     "output_type": "execute_result"
    }
   ],
   "source": [
    "ar.dtype"
   ]
  },
  {
   "cell_type": "markdown",
   "id": "39b44f07",
   "metadata": {},
   "source": [
    "## int"
   ]
  },
  {
   "cell_type": "code",
   "execution_count": 40,
   "id": "a6099fe5",
   "metadata": {},
   "outputs": [
    {
     "data": {
      "text/plain": [
       "array([0, 1, 2, 3, 4], dtype=int64)"
      ]
     },
     "execution_count": 40,
     "metadata": {},
     "output_type": "execute_result"
    }
   ],
   "source": [
    "ar.astype('int8')   ## 8bit\n",
    "ar.astype('int16')  ## 16bit\n",
    "ar.astype('int32')  ## 32bit\n",
    "ar.astype('int64')  ## 64bit\n",
    "# ar.astype('int128') ## Error!!"
   ]
  },
  {
   "cell_type": "code",
   "execution_count": 61,
   "id": "01e496d6",
   "metadata": {},
   "outputs": [
    {
     "data": {
      "text/plain": [
       "dtype('int64')"
      ]
     },
     "execution_count": 61,
     "metadata": {},
     "output_type": "execute_result"
    }
   ],
   "source": [
    "ar.astype('int64')[-1].dtype"
   ]
  },
  {
   "cell_type": "code",
   "execution_count": 62,
   "id": "89ed3f59",
   "metadata": {},
   "outputs": [
    {
     "data": {
      "text/plain": [
       "numpy.int64"
      ]
     },
     "execution_count": 62,
     "metadata": {},
     "output_type": "execute_result"
    }
   ],
   "source": [
    "type(ar.astype('int64')[-1])"
   ]
  },
  {
   "cell_type": "markdown",
   "id": "caa35341",
   "metadata": {},
   "source": [
    "## unsigned int"
   ]
  },
  {
   "cell_type": "code",
   "execution_count": 46,
   "id": "ea324bcc",
   "metadata": {},
   "outputs": [
    {
     "data": {
      "text/plain": [
       "array([0, 1, 2, 3, 4], dtype=uint64)"
      ]
     },
     "execution_count": 46,
     "metadata": {},
     "output_type": "execute_result"
    }
   ],
   "source": [
    "ar.astype('uint8')\n",
    "ar.astype('uint16')\n",
    "ar.astype('uint32')\n",
    "ar.astype('uint64')\n",
    "# ar.astype('uint128') ## Error!!"
   ]
  },
  {
   "cell_type": "markdown",
   "id": "1b80344c",
   "metadata": {},
   "source": [
    "## float"
   ]
  },
  {
   "cell_type": "code",
   "execution_count": 58,
   "id": "07a9b1be",
   "metadata": {},
   "outputs": [
    {
     "data": {
      "text/plain": [
       "array([0., 1., 2., 3., 4.])"
      ]
     },
     "execution_count": 58,
     "metadata": {},
     "output_type": "execute_result"
    }
   ],
   "source": [
    "#ar.astype('float8') ## Error!!\n",
    "ar.astype('float16')\n",
    "ar.astype('float32')\n",
    "ar.astype('float64') ## default\n",
    "# ar.astype('float128') ## Error!!"
   ]
  },
  {
   "cell_type": "markdown",
   "id": "b68594f9",
   "metadata": {},
   "source": [
    "## str"
   ]
  },
  {
   "cell_type": "code",
   "execution_count": 52,
   "id": "18c03614",
   "metadata": {},
   "outputs": [
    {
     "data": {
      "text/plain": [
       "dtype('<U2')"
      ]
     },
     "execution_count": 52,
     "metadata": {},
     "output_type": "execute_result"
    }
   ],
   "source": [
    "ar_str = np.array(['hi'])\n",
    "ar_str.dtype"
   ]
  },
  {
   "cell_type": "code",
   "execution_count": 53,
   "id": "a24f9f30",
   "metadata": {},
   "outputs": [
    {
     "data": {
      "text/plain": [
       "dtype('<U5')"
      ]
     },
     "execution_count": 53,
     "metadata": {},
     "output_type": "execute_result"
    }
   ],
   "source": [
    "ar_str = np.array(['hello'])\n",
    "ar_str.dtype"
   ]
  },
  {
   "cell_type": "code",
   "execution_count": 54,
   "id": "9d11317c",
   "metadata": {},
   "outputs": [
    {
     "data": {
      "text/plain": [
       "dtype('<U9')"
      ]
     },
     "execution_count": 54,
     "metadata": {},
     "output_type": "execute_result"
    }
   ],
   "source": [
    "ar_str = np.array(['오늘도 좋은 하루'])\n",
    "ar_str.dtype"
   ]
  },
  {
   "cell_type": "code",
   "execution_count": 57,
   "id": "0f520829",
   "metadata": {},
   "outputs": [
    {
     "data": {
      "text/plain": [
       "dtype('<U11')"
      ]
     },
     "execution_count": 57,
     "metadata": {},
     "output_type": "execute_result"
    }
   ],
   "source": [
    "ar_str = np.array(['hi', 'hello', '아하하하하하하하하하하'])\n",
    "ar_str.dtype"
   ]
  },
  {
   "cell_type": "markdown",
   "id": "7bc8e178",
   "metadata": {},
   "source": [
    "# 전치 행렬"
   ]
  },
  {
   "cell_type": "code",
   "execution_count": 63,
   "id": "40648188",
   "metadata": {},
   "outputs": [
    {
     "data": {
      "text/plain": [
       "array([[0, 1, 2, 3, 4],\n",
       "       [0, 1, 2, 3, 4]])"
      ]
     },
     "execution_count": 63,
     "metadata": {},
     "output_type": "execute_result"
    }
   ],
   "source": [
    "ar2"
   ]
  },
  {
   "cell_type": "code",
   "execution_count": 64,
   "id": "b2249aa4",
   "metadata": {},
   "outputs": [
    {
     "data": {
      "text/plain": [
       "(2, 5)"
      ]
     },
     "execution_count": 64,
     "metadata": {},
     "output_type": "execute_result"
    }
   ],
   "source": [
    "ar2.shape"
   ]
  },
  {
   "cell_type": "code",
   "execution_count": 65,
   "id": "c3478b53",
   "metadata": {},
   "outputs": [
    {
     "data": {
      "text/plain": [
       "array([[0, 0],\n",
       "       [1, 1],\n",
       "       [2, 2],\n",
       "       [3, 3],\n",
       "       [4, 4]])"
      ]
     },
     "execution_count": 65,
     "metadata": {},
     "output_type": "execute_result"
    }
   ],
   "source": [
    "ar2.transpose()"
   ]
  },
  {
   "cell_type": "code",
   "execution_count": 66,
   "id": "b8bb8c7b",
   "metadata": {},
   "outputs": [
    {
     "data": {
      "text/plain": [
       "(5, 2)"
      ]
     },
     "execution_count": 66,
     "metadata": {},
     "output_type": "execute_result"
    }
   ],
   "source": [
    "ar2.transpose().shape"
   ]
  },
  {
   "cell_type": "code",
   "execution_count": 67,
   "id": "ecd95ad1",
   "metadata": {},
   "outputs": [
    {
     "data": {
      "text/plain": [
       "array([[0, 0],\n",
       "       [1, 1],\n",
       "       [2, 2],\n",
       "       [3, 3],\n",
       "       [4, 4]])"
      ]
     },
     "execution_count": 67,
     "metadata": {},
     "output_type": "execute_result"
    }
   ],
   "source": [
    "ar2.T"
   ]
  },
  {
   "cell_type": "code",
   "execution_count": 68,
   "id": "9e7b9e9b",
   "metadata": {},
   "outputs": [
    {
     "data": {
      "text/plain": [
       "(5, 2)"
      ]
     },
     "execution_count": 68,
     "metadata": {},
     "output_type": "execute_result"
    }
   ],
   "source": [
    "ar2.T.shape"
   ]
  },
  {
   "cell_type": "markdown",
   "id": "198433a8",
   "metadata": {},
   "source": [
    "## 다차원 배열을 1차원 배열로 크기 변경(변형)"
   ]
  },
  {
   "cell_type": "code",
   "execution_count": 69,
   "id": "46fb525d",
   "metadata": {},
   "outputs": [
    {
     "data": {
      "text/plain": [
       "array([[0, 1, 2, 3, 4],\n",
       "       [0, 1, 2, 3, 4]])"
      ]
     },
     "execution_count": 69,
     "metadata": {},
     "output_type": "execute_result"
    }
   ],
   "source": [
    "ar2"
   ]
  },
  {
   "cell_type": "code",
   "execution_count": 70,
   "id": "78ded7a8",
   "metadata": {},
   "outputs": [
    {
     "data": {
      "text/plain": [
       "array([0, 1, 2, 3, 4, 0, 1, 2, 3, 4])"
      ]
     },
     "execution_count": 70,
     "metadata": {},
     "output_type": "execute_result"
    }
   ],
   "source": [
    "ar2.reshape(-1)"
   ]
  },
  {
   "cell_type": "code",
   "execution_count": 79,
   "id": "13888841",
   "metadata": {
    "collapsed": true
   },
   "outputs": [
    {
     "name": "stdout",
     "output_type": "stream",
     "text": [
      "Help on built-in function flatten:\n",
      "\n",
      "flatten(...) method of numpy.ndarray instance\n",
      "    a.flatten(order='C')\n",
      "    \n",
      "    Return a copy of the array collapsed into one dimension.\n",
      "    \n",
      "    Parameters\n",
      "    ----------\n",
      "    order : {'C', 'F', 'A', 'K'}, optional\n",
      "        'C' means to flatten in row-major (C-style) order.\n",
      "        'F' means to flatten in column-major (Fortran-\n",
      "        style) order. 'A' means to flatten in column-major\n",
      "        order if `a` is Fortran *contiguous* in memory,\n",
      "        row-major order otherwise. 'K' means to flatten\n",
      "        `a` in the order the elements occur in memory.\n",
      "        The default is 'C'.\n",
      "    \n",
      "    Returns\n",
      "    -------\n",
      "    y : ndarray\n",
      "        A copy of the input array, flattened to one dimension.\n",
      "    \n",
      "    See Also\n",
      "    --------\n",
      "    ravel : Return a flattened array.\n",
      "    flat : A 1-D flat iterator over the array.\n",
      "    \n",
      "    Examples\n",
      "    --------\n",
      "    >>> a = np.array([[1,2], [3,4]])\n",
      "    >>> a.flatten()\n",
      "    array([1, 2, 3, 4])\n",
      "    >>> a.flatten('F')\n",
      "    array([1, 3, 2, 4])\n",
      "\n"
     ]
    }
   ],
   "source": [
    "help(ar2.flatten)"
   ]
  },
  {
   "cell_type": "code",
   "execution_count": 71,
   "id": "dbc36df8",
   "metadata": {},
   "outputs": [
    {
     "data": {
      "text/plain": [
       "array([0, 1, 2, 3, 4, 0, 1, 2, 3, 4])"
      ]
     },
     "execution_count": 71,
     "metadata": {},
     "output_type": "execute_result"
    }
   ],
   "source": [
    "ar2.flatten()"
   ]
  },
  {
   "cell_type": "code",
   "execution_count": 72,
   "id": "5fe620b0",
   "metadata": {},
   "outputs": [
    {
     "data": {
      "text/plain": [
       "array([0, 1, 2, 3, 4, 0, 1, 2, 3, 4])"
      ]
     },
     "execution_count": 72,
     "metadata": {},
     "output_type": "execute_result"
    }
   ],
   "source": [
    "ar2.ravel()"
   ]
  },
  {
   "cell_type": "code",
   "execution_count": 74,
   "id": "c7854719",
   "metadata": {},
   "outputs": [
    {
     "data": {
      "text/plain": [
       "array([0, 1, 2, 3, 4, 0, 1, 2, 3, 4, 0, 1, 2, 3, 4, 0, 1, 2, 3, 4, 0, 1,\n",
       "       2, 3, 4, 0, 1, 2, 3, 4])"
      ]
     },
     "execution_count": 74,
     "metadata": {},
     "output_type": "execute_result"
    }
   ],
   "source": [
    "ar3.reshape(-1)"
   ]
  },
  {
   "cell_type": "code",
   "execution_count": 75,
   "id": "1680f820",
   "metadata": {},
   "outputs": [
    {
     "data": {
      "text/plain": [
       "array([0, 1, 2, 3, 4, 0, 1, 2, 3, 4, 0, 1, 2, 3, 4, 0, 1, 2, 3, 4, 0, 1,\n",
       "       2, 3, 4, 0, 1, 2, 3, 4])"
      ]
     },
     "execution_count": 75,
     "metadata": {},
     "output_type": "execute_result"
    }
   ],
   "source": [
    "ar3.flatten()"
   ]
  },
  {
   "cell_type": "code",
   "execution_count": 76,
   "id": "744a7fd7",
   "metadata": {},
   "outputs": [
    {
     "data": {
      "text/plain": [
       "array([0, 1, 2, 3, 4, 0, 1, 2, 3, 4, 0, 1, 2, 3, 4, 0, 1, 2, 3, 4, 0, 1,\n",
       "       2, 3, 4, 0, 1, 2, 3, 4])"
      ]
     },
     "execution_count": 76,
     "metadata": {},
     "output_type": "execute_result"
    }
   ],
   "source": [
    "ar3.ravel()"
   ]
  }
 ],
 "metadata": {
  "kernelspec": {
   "display_name": "ex_kernel",
   "language": "python",
   "name": "ex"
  },
  "language_info": {
   "codemirror_mode": {
    "name": "ipython",
    "version": 3
   },
   "file_extension": ".py",
   "mimetype": "text/x-python",
   "name": "python",
   "nbconvert_exporter": "python",
   "pygments_lexer": "ipython3",
   "version": "3.8.10"
  },
  "toc": {
   "base_numbering": 1,
   "nav_menu": {},
   "number_sections": true,
   "sideBar": true,
   "skip_h1_title": false,
   "title_cell": "Table of Contents",
   "title_sidebar": "Contents",
   "toc_cell": false,
   "toc_position": {
    "height": "calc(100% - 180px)",
    "left": "10px",
    "top": "150px",
    "width": "202.667px"
   },
   "toc_section_display": true,
   "toc_window_display": true
  }
 },
 "nbformat": 4,
 "nbformat_minor": 5
}
