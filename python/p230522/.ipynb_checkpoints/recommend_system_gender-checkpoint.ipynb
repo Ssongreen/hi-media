{
 "cells": [
  {
   "cell_type": "markdown",
   "id": "11cebf18",
   "metadata": {},
   "source": [
    "# 추천 방식\n",
    "- bestseller 가장 인기 있는 제품 상품을 추천\n",
    "- 사용자 개인 정보가 없을 떄 사용\n",
    "- 사용자 집단별 추천"
   ]
  },
  {
   "cell_type": "code",
   "execution_count": 1,
   "id": "0da6f017",
   "metadata": {},
   "outputs": [],
   "source": [
    "import pandas as pd\n",
    "import numpy as np"
   ]
  },
  {
   "cell_type": "code",
   "execution_count": null,
   "id": "0864fb34",
   "metadata": {},
   "outputs": [],
   "source": []
  },
  {
   "cell_type": "code",
   "execution_count": 2,
   "id": "e5a19410",
   "metadata": {
    "scrolled": true
   },
   "outputs": [
    {
     "data": {
      "text/html": [
       "<div>\n",
       "<style scoped>\n",
       "    .dataframe tbody tr th:only-of-type {\n",
       "        vertical-align: middle;\n",
       "    }\n",
       "\n",
       "    .dataframe tbody tr th {\n",
       "        vertical-align: top;\n",
       "    }\n",
       "\n",
       "    .dataframe thead th {\n",
       "        text-align: right;\n",
       "    }\n",
       "</style>\n",
       "<table border=\"1\" class=\"dataframe\">\n",
       "  <thead>\n",
       "    <tr style=\"text-align: right;\">\n",
       "      <th></th>\n",
       "      <th>user_id</th>\n",
       "      <th>movie_id</th>\n",
       "      <th>rating</th>\n",
       "      <th>timestamp</th>\n",
       "    </tr>\n",
       "  </thead>\n",
       "  <tbody>\n",
       "    <tr>\n",
       "      <th>0</th>\n",
       "      <td>1</td>\n",
       "      <td>55</td>\n",
       "      <td>5</td>\n",
       "      <td>875072688</td>\n",
       "    </tr>\n",
       "    <tr>\n",
       "      <th>1</th>\n",
       "      <td>1</td>\n",
       "      <td>203</td>\n",
       "      <td>4</td>\n",
       "      <td>878542231</td>\n",
       "    </tr>\n",
       "    <tr>\n",
       "      <th>2</th>\n",
       "      <td>1</td>\n",
       "      <td>183</td>\n",
       "      <td>5</td>\n",
       "      <td>875072262</td>\n",
       "    </tr>\n",
       "  </tbody>\n",
       "</table>\n",
       "</div>"
      ],
      "text/plain": [
       "   user_id  movie_id  rating  timestamp\n",
       "0        1        55       5  875072688\n",
       "1        1       203       4  878542231\n",
       "2        1       183       5  875072262"
      ]
     },
     "execution_count": 2,
     "metadata": {},
     "output_type": "execute_result"
    }
   ],
   "source": [
    "#평점\n",
    "ratings = pd.read_csv('ratings.csv')\n",
    "ratings[:3]"
   ]
  },
  {
   "cell_type": "code",
   "execution_count": 3,
   "id": "f9ff712d",
   "metadata": {},
   "outputs": [
    {
     "data": {
      "text/html": [
       "<div>\n",
       "<style scoped>\n",
       "    .dataframe tbody tr th:only-of-type {\n",
       "        vertical-align: middle;\n",
       "    }\n",
       "\n",
       "    .dataframe tbody tr th {\n",
       "        vertical-align: top;\n",
       "    }\n",
       "\n",
       "    .dataframe thead th {\n",
       "        text-align: right;\n",
       "    }\n",
       "</style>\n",
       "<table border=\"1\" class=\"dataframe\">\n",
       "  <thead>\n",
       "    <tr style=\"text-align: right;\">\n",
       "      <th></th>\n",
       "      <th>user_id</th>\n",
       "      <th>movie_id</th>\n",
       "      <th>rating</th>\n",
       "    </tr>\n",
       "  </thead>\n",
       "  <tbody>\n",
       "    <tr>\n",
       "      <th>0</th>\n",
       "      <td>1</td>\n",
       "      <td>55</td>\n",
       "      <td>5</td>\n",
       "    </tr>\n",
       "    <tr>\n",
       "      <th>1</th>\n",
       "      <td>1</td>\n",
       "      <td>203</td>\n",
       "      <td>4</td>\n",
       "    </tr>\n",
       "    <tr>\n",
       "      <th>2</th>\n",
       "      <td>1</td>\n",
       "      <td>183</td>\n",
       "      <td>5</td>\n",
       "    </tr>\n",
       "  </tbody>\n",
       "</table>\n",
       "</div>"
      ],
      "text/plain": [
       "   user_id  movie_id  rating\n",
       "0        1        55       5\n",
       "1        1       203       4\n",
       "2        1       183       5"
      ]
     },
     "execution_count": 3,
     "metadata": {},
     "output_type": "execute_result"
    }
   ],
   "source": [
    "#컬럼 삭제 : timestamp\n",
    "ratings.drop('timestamp',axis=1,inplace=True)\n",
    "ratings[:3]"
   ]
  },
  {
   "cell_type": "code",
   "execution_count": 4,
   "id": "03188f06",
   "metadata": {},
   "outputs": [
    {
     "data": {
      "text/html": [
       "<div>\n",
       "<style scoped>\n",
       "    .dataframe tbody tr th:only-of-type {\n",
       "        vertical-align: middle;\n",
       "    }\n",
       "\n",
       "    .dataframe tbody tr th {\n",
       "        vertical-align: top;\n",
       "    }\n",
       "\n",
       "    .dataframe thead th {\n",
       "        text-align: right;\n",
       "    }\n",
       "</style>\n",
       "<table border=\"1\" class=\"dataframe\">\n",
       "  <thead>\n",
       "    <tr style=\"text-align: right;\">\n",
       "      <th></th>\n",
       "      <th>user_id</th>\n",
       "      <th>age</th>\n",
       "      <th>gender</th>\n",
       "      <th>job</th>\n",
       "      <th>zip_code</th>\n",
       "    </tr>\n",
       "  </thead>\n",
       "  <tbody>\n",
       "    <tr>\n",
       "      <th>0</th>\n",
       "      <td>1</td>\n",
       "      <td>24</td>\n",
       "      <td>M</td>\n",
       "      <td>technician</td>\n",
       "      <td>85711</td>\n",
       "    </tr>\n",
       "    <tr>\n",
       "      <th>1</th>\n",
       "      <td>2</td>\n",
       "      <td>53</td>\n",
       "      <td>F</td>\n",
       "      <td>other</td>\n",
       "      <td>94043</td>\n",
       "    </tr>\n",
       "    <tr>\n",
       "      <th>2</th>\n",
       "      <td>3</td>\n",
       "      <td>23</td>\n",
       "      <td>M</td>\n",
       "      <td>writer</td>\n",
       "      <td>32067</td>\n",
       "    </tr>\n",
       "  </tbody>\n",
       "</table>\n",
       "</div>"
      ],
      "text/plain": [
       "   user_id  age gender         job zip_code\n",
       "0        1   24      M  technician    85711\n",
       "1        2   53      F       other    94043\n",
       "2        3   23      M      writer    32067"
      ]
     },
     "execution_count": 4,
     "metadata": {},
     "output_type": "execute_result"
    }
   ],
   "source": [
    "#사용자\n",
    "users = pd.read_csv('users.csv')\n",
    "users[:3]"
   ]
  },
  {
   "cell_type": "code",
   "execution_count": 5,
   "id": "a7daa51d",
   "metadata": {},
   "outputs": [
    {
     "data": {
      "text/html": [
       "<div>\n",
       "<style scoped>\n",
       "    .dataframe tbody tr th:only-of-type {\n",
       "        vertical-align: middle;\n",
       "    }\n",
       "\n",
       "    .dataframe tbody tr th {\n",
       "        vertical-align: top;\n",
       "    }\n",
       "\n",
       "    .dataframe thead th {\n",
       "        text-align: right;\n",
       "    }\n",
       "</style>\n",
       "<table border=\"1\" class=\"dataframe\">\n",
       "  <thead>\n",
       "    <tr style=\"text-align: right;\">\n",
       "      <th></th>\n",
       "      <th>movie_id</th>\n",
       "      <th>title</th>\n",
       "      <th>release date</th>\n",
       "      <th>imdb url</th>\n",
       "      <th>action</th>\n",
       "      <th>adventure</th>\n",
       "      <th>animation</th>\n",
       "      <th>children</th>\n",
       "      <th>comedy</th>\n",
       "      <th>crime</th>\n",
       "      <th>...</th>\n",
       "      <th>fantasy</th>\n",
       "      <th>film-noir</th>\n",
       "      <th>horror</th>\n",
       "      <th>musical</th>\n",
       "      <th>mystery</th>\n",
       "      <th>romance</th>\n",
       "      <th>sci-fi</th>\n",
       "      <th>thriller</th>\n",
       "      <th>war</th>\n",
       "      <th>western</th>\n",
       "    </tr>\n",
       "  </thead>\n",
       "  <tbody>\n",
       "    <tr>\n",
       "      <th>0</th>\n",
       "      <td>1</td>\n",
       "      <td>Toy Story (1995)</td>\n",
       "      <td>01-Jan-1995</td>\n",
       "      <td>http://us.imdb.com/M/title-exact?Toy%20Story%2...</td>\n",
       "      <td>0</td>\n",
       "      <td>0</td>\n",
       "      <td>1</td>\n",
       "      <td>1</td>\n",
       "      <td>1</td>\n",
       "      <td>0</td>\n",
       "      <td>...</td>\n",
       "      <td>0</td>\n",
       "      <td>0</td>\n",
       "      <td>0</td>\n",
       "      <td>0</td>\n",
       "      <td>0</td>\n",
       "      <td>0</td>\n",
       "      <td>0</td>\n",
       "      <td>0</td>\n",
       "      <td>0</td>\n",
       "      <td>0</td>\n",
       "    </tr>\n",
       "    <tr>\n",
       "      <th>1</th>\n",
       "      <td>2</td>\n",
       "      <td>GoldenEye (1995)</td>\n",
       "      <td>01-Jan-1995</td>\n",
       "      <td>http://us.imdb.com/M/title-exact?GoldenEye%20(...</td>\n",
       "      <td>1</td>\n",
       "      <td>1</td>\n",
       "      <td>0</td>\n",
       "      <td>0</td>\n",
       "      <td>0</td>\n",
       "      <td>0</td>\n",
       "      <td>...</td>\n",
       "      <td>0</td>\n",
       "      <td>0</td>\n",
       "      <td>0</td>\n",
       "      <td>0</td>\n",
       "      <td>0</td>\n",
       "      <td>0</td>\n",
       "      <td>0</td>\n",
       "      <td>1</td>\n",
       "      <td>0</td>\n",
       "      <td>0</td>\n",
       "    </tr>\n",
       "    <tr>\n",
       "      <th>2</th>\n",
       "      <td>3</td>\n",
       "      <td>Four Rooms (1995)</td>\n",
       "      <td>01-Jan-1995</td>\n",
       "      <td>http://us.imdb.com/M/title-exact?Four%20Rooms%...</td>\n",
       "      <td>0</td>\n",
       "      <td>0</td>\n",
       "      <td>0</td>\n",
       "      <td>0</td>\n",
       "      <td>0</td>\n",
       "      <td>0</td>\n",
       "      <td>...</td>\n",
       "      <td>0</td>\n",
       "      <td>0</td>\n",
       "      <td>0</td>\n",
       "      <td>0</td>\n",
       "      <td>0</td>\n",
       "      <td>0</td>\n",
       "      <td>0</td>\n",
       "      <td>1</td>\n",
       "      <td>0</td>\n",
       "      <td>0</td>\n",
       "    </tr>\n",
       "  </tbody>\n",
       "</table>\n",
       "<p>3 rows × 22 columns</p>\n",
       "</div>"
      ],
      "text/plain": [
       "   movie_id              title release date   \n",
       "0         1   Toy Story (1995)  01-Jan-1995  \\\n",
       "1         2   GoldenEye (1995)  01-Jan-1995   \n",
       "2         3  Four Rooms (1995)  01-Jan-1995   \n",
       "\n",
       "                                            imdb url  action  adventure   \n",
       "0  http://us.imdb.com/M/title-exact?Toy%20Story%2...       0          0  \\\n",
       "1  http://us.imdb.com/M/title-exact?GoldenEye%20(...       1          1   \n",
       "2  http://us.imdb.com/M/title-exact?Four%20Rooms%...       0          0   \n",
       "\n",
       "   animation  children  comedy  crime  ...  fantasy  film-noir  horror   \n",
       "0          1         1       1      0  ...        0          0       0  \\\n",
       "1          0         0       0      0  ...        0          0       0   \n",
       "2          0         0       0      0  ...        0          0       0   \n",
       "\n",
       "   musical  mystery  romance  sci-fi  thriller  war  western  \n",
       "0        0        0        0       0         0    0        0  \n",
       "1        0        0        0       0         1    0        0  \n",
       "2        0        0        0       0         1    0        0  \n",
       "\n",
       "[3 rows x 22 columns]"
      ]
     },
     "execution_count": 5,
     "metadata": {},
     "output_type": "execute_result"
    }
   ],
   "source": [
    "#영화 정보\n",
    "movies = pd.read_csv('movies.csv')\n",
    "movies[:3]"
   ]
  },
  {
   "cell_type": "code",
   "execution_count": 6,
   "id": "68814402",
   "metadata": {
    "scrolled": true
   },
   "outputs": [
    {
     "data": {
      "text/html": [
       "<div>\n",
       "<style scoped>\n",
       "    .dataframe tbody tr th:only-of-type {\n",
       "        vertical-align: middle;\n",
       "    }\n",
       "\n",
       "    .dataframe tbody tr th {\n",
       "        vertical-align: top;\n",
       "    }\n",
       "\n",
       "    .dataframe thead th {\n",
       "        text-align: right;\n",
       "    }\n",
       "</style>\n",
       "<table border=\"1\" class=\"dataframe\">\n",
       "  <thead>\n",
       "    <tr style=\"text-align: right;\">\n",
       "      <th></th>\n",
       "      <th>movie_id</th>\n",
       "      <th>title</th>\n",
       "    </tr>\n",
       "  </thead>\n",
       "  <tbody>\n",
       "    <tr>\n",
       "      <th>0</th>\n",
       "      <td>1</td>\n",
       "      <td>Toy Story (1995)</td>\n",
       "    </tr>\n",
       "    <tr>\n",
       "      <th>1</th>\n",
       "      <td>2</td>\n",
       "      <td>GoldenEye (1995)</td>\n",
       "    </tr>\n",
       "    <tr>\n",
       "      <th>2</th>\n",
       "      <td>3</td>\n",
       "      <td>Four Rooms (1995)</td>\n",
       "    </tr>\n",
       "  </tbody>\n",
       "</table>\n",
       "</div>"
      ],
      "text/plain": [
       "   movie_id              title\n",
       "0         1   Toy Story (1995)\n",
       "1         2   GoldenEye (1995)\n",
       "2         3  Four Rooms (1995)"
      ]
     },
     "execution_count": 6,
     "metadata": {},
     "output_type": "execute_result"
    }
   ],
   "source": [
    "#컬럼 정리 : movie_id, title만 사용\n",
    "movies=movies[['movie_id','title']]\n",
    "movies[:3]"
   ]
  },
  {
   "cell_type": "markdown",
   "id": "dbb7f9f1",
   "metadata": {},
   "source": [
    "# 데이터 셋 분리\n",
    "- Train data\n",
    "    - 모델을 학습하기 위한 데이터 셋\n",
    "    - 학습은 최적의 파라미터를 찾는 것\n",
    "    - 학습을 위한 데이터 \n",
    "- Test data\n",
    "    - 모델의 '최종 성능'을 평가하기 위한 데이터 셋\n",
    "    - 모델 학습에 관여하지 않음\n",
    "- Train data로 학습하고, Test data로 최종 성능 평가."
   ]
  },
  {
   "cell_type": "code",
   "execution_count": 7,
   "id": "78ec2c97",
   "metadata": {},
   "outputs": [
    {
     "name": "stdout",
     "output_type": "stream",
     "text": [
      "Requirement already satisfied: scikit-learn in c:\\users\\hi-sinchon\\anaconda3\\envs\\ex\\lib\\site-packages (1.2.2)\n",
      "Requirement already satisfied: numpy>=1.17.3 in c:\\users\\hi-sinchon\\anaconda3\\envs\\ex\\lib\\site-packages (from scikit-learn) (1.24.3)\n",
      "Requirement already satisfied: scipy>=1.3.2 in c:\\users\\hi-sinchon\\anaconda3\\envs\\ex\\lib\\site-packages (from scikit-learn) (1.10.1)\n",
      "Requirement already satisfied: threadpoolctl>=2.0.0 in c:\\users\\hi-sinchon\\anaconda3\\envs\\ex\\lib\\site-packages (from scikit-learn) (3.1.0)\n",
      "Requirement already satisfied: joblib>=1.1.1 in c:\\users\\hi-sinchon\\anaconda3\\envs\\ex\\lib\\site-packages (from scikit-learn) (1.2.0)\n",
      "Note: you may need to restart the kernel to use updated packages.\n"
     ]
    }
   ],
   "source": [
    "pip install scikit-learn"
   ]
  },
  {
   "cell_type": "code",
   "execution_count": 8,
   "id": "19a813d2",
   "metadata": {},
   "outputs": [],
   "source": [
    "from sklearn.model_selection import train_test_split"
   ]
  },
  {
   "cell_type": "code",
   "execution_count": 9,
   "id": "2dda3bf8",
   "metadata": {},
   "outputs": [
    {
     "data": {
      "text/plain": [
       "'\\n주어진 코드는 scikit-learn 라이브러리의 train_test_split() 함수를 사용하여 데이터셋을 학습용과 테스트용으로 분할하는 방법을 보여줍니다.\\n\\n아래는 코드의 설명입니다:\\n\\nx = ratings.copy(): 이 코드는 ratings 데이터셋의 복사본을 생성하고 변수 x에 할당합니다. 이 단계는 원본 데이터셋이 변경되지 않도록 보장하기 위해 수행됩니다.\\n\\ny = ratings.user_id: 이 코드는 ratings 데이터셋의 \"user_id\" 열의 값을 변수 y에 할당합니다. 이 열은 우리가 예측하고자 하는 대상 변수 또는 레이블을 나타냅니다.\\n\\nx_train, x_test, y_train, y_test = train_test_split(x, y, test_size=0.25, stratify=y): 이 코드는 데이터셋을 학습용과 테스트용으로 분할합니다. train_test_split() 함수는 몇 가지 인수를 사용합니다:\\n\\nx와 y: 각각 데이터셋과 대상 변수입니다.\\ntest_size=0.25: 이는 데이터의 25%를 테스트용으로 할당하고, 나머지 75%를 학습용으로 사용하도록 지정합니다.\\nstratify=y: 이 인자는 학습용과 테스트용 데이터셋에서 대상 변수의 분포를 원본 데이터셋과 유사하게 유지하도록 합니다. 이는 데이터셋이 불균형하거나 대상 변수가 여러 클래스를 가지는 경우에 유용합니다.\\n이 함수는 네 개의 데이터셋을 반환합니다:\\n\\nx_train: 원본 데이터의 75%인 학습용 데이터셋입니다.\\nx_test: 원본 데이터의 나머지 25%인 테스트용 데이터셋입니다.\\ny_train: 학습용 데이터셋에 해당하는 대상 변수 (사용자 ID)입니다.\\ny_test: 테스트용 데이터셋에 해당하는 대상 변수 (사용자 ID)입니다.\\n데이터셋을 학습용과 테스트용으로 분할함으로써, 학습 데이터로 머신러닝 모델을 훈련하고 테스트 데이터로 모델의 성능을 평가하여 새로운 데이터에 대한 일반화 능력을 평가할 수 있습니다.\\n'"
      ]
     },
     "execution_count": 9,
     "metadata": {},
     "output_type": "execute_result"
    }
   ],
   "source": [
    "'''\n",
    "주어진 코드는 scikit-learn 라이브러리의 train_test_split() 함수를 사용하여 데이터셋을 학습용과 테스트용으로 분할하는 방법을 보여줍니다.\n",
    "\n",
    "아래는 코드의 설명입니다:\n",
    "\n",
    "x = ratings.copy(): 이 코드는 ratings 데이터셋의 복사본을 생성하고 변수 x에 할당합니다. 이 단계는 원본 데이터셋이 변경되지 않도록 보장하기 위해 수행됩니다.\n",
    "\n",
    "y = ratings.user_id: 이 코드는 ratings 데이터셋의 \"user_id\" 열의 값을 변수 y에 할당합니다. 이 열은 우리가 예측하고자 하는 대상 변수 또는 레이블을 나타냅니다.\n",
    "\n",
    "x_train, x_test, y_train, y_test = train_test_split(x, y, test_size=0.25, stratify=y): 이 코드는 데이터셋을 학습용과 테스트용으로 분할합니다. train_test_split() 함수는 몇 가지 인수를 사용합니다:\n",
    "\n",
    "x와 y: 각각 데이터셋과 대상 변수입니다.\n",
    "test_size=0.25: 이는 데이터의 25%를 테스트용으로 할당하고, 나머지 75%를 학습용으로 사용하도록 지정합니다.\n",
    "stratify=y: 이 인자는 학습용과 테스트용 데이터셋에서 대상 변수의 분포를 원본 데이터셋과 유사하게 유지하도록 합니다. 이는 데이터셋이 불균형하거나 대상 변수가 여러 클래스를 가지는 경우에 유용합니다.\n",
    "이 함수는 네 개의 데이터셋을 반환합니다:\n",
    "\n",
    "x_train: 원본 데이터의 75%인 학습용 데이터셋입니다.\n",
    "x_test: 원본 데이터의 나머지 25%인 테스트용 데이터셋입니다.\n",
    "y_train: 학습용 데이터셋에 해당하는 대상 변수 (사용자 ID)입니다.\n",
    "y_test: 테스트용 데이터셋에 해당하는 대상 변수 (사용자 ID)입니다.\n",
    "데이터셋을 학습용과 테스트용으로 분할함으로써, 학습 데이터로 머신러닝 모델을 훈련하고 테스트 데이터로 모델의 성능을 평가하여 새로운 데이터에 대한 일반화 능력을 평가할 수 있습니다.\n",
    "'''"
   ]
  },
  {
   "cell_type": "code",
   "execution_count": 10,
   "id": "c3ff0ce1",
   "metadata": {},
   "outputs": [],
   "source": [
    "from sklearn.model_selection import train_test_split\n",
    "\n",
    "x = ratings.copy()\n",
    "y= ratings.user_id"
   ]
  },
  {
   "cell_type": "code",
   "execution_count": 11,
   "id": "d64793ee",
   "metadata": {},
   "outputs": [],
   "source": [
    "\n",
    "\n",
    "x = ratings.copy()\n",
    "y = ratings.user_id\n",
    "# x_train : 학습용 데이터\n",
    "# x_test : 정확도 검증용\n",
    "# y_train, y_test: 사용자 ID\n",
    "x_train, x_test, y_train, y_test =train_test_split(x,y, test_size=0.25, random_state=1, stratify=y) "
   ]
  },
  {
   "cell_type": "code",
   "execution_count": 12,
   "id": "502707a3",
   "metadata": {},
   "outputs": [
    {
     "data": {
      "text/plain": [
       "(100000, 3)"
      ]
     },
     "execution_count": 12,
     "metadata": {},
     "output_type": "execute_result"
    }
   ],
   "source": [
    "x.shape"
   ]
  },
  {
   "cell_type": "code",
   "execution_count": 13,
   "id": "1ae98c65",
   "metadata": {},
   "outputs": [
    {
     "data": {
      "text/plain": [
       "(75000, 3)"
      ]
     },
     "execution_count": 13,
     "metadata": {},
     "output_type": "execute_result"
    }
   ],
   "source": [
    "# 전체 data(row) :  75%\n",
    "x_train.shape"
   ]
  },
  {
   "cell_type": "code",
   "execution_count": 14,
   "id": "990d1380",
   "metadata": {},
   "outputs": [
    {
     "data": {
      "text/plain": [
       "(25000, 3)"
      ]
     },
     "execution_count": 14,
     "metadata": {},
     "output_type": "execute_result"
    }
   ],
   "source": [
    "## 전체 data(row) : 25%\n",
    "x_test.shape"
   ]
  },
  {
   "cell_type": "code",
   "execution_count": 15,
   "id": "726c272c",
   "metadata": {},
   "outputs": [
    {
     "data": {
      "text/plain": [
       "(75000,)"
      ]
     },
     "execution_count": 15,
     "metadata": {},
     "output_type": "execute_result"
    }
   ],
   "source": [
    "y_train.shape"
   ]
  },
  {
   "cell_type": "code",
   "execution_count": 16,
   "id": "6a7604ca",
   "metadata": {},
   "outputs": [
    {
     "data": {
      "text/plain": [
       "(25000,)"
      ]
     },
     "execution_count": 16,
     "metadata": {},
     "output_type": "execute_result"
    }
   ],
   "source": [
    "y_test.shape"
   ]
  },
  {
   "cell_type": "code",
   "execution_count": 17,
   "id": "ba16f400",
   "metadata": {
    "scrolled": true
   },
   "outputs": [
    {
     "data": {
      "text/html": [
       "<div>\n",
       "<style scoped>\n",
       "    .dataframe tbody tr th:only-of-type {\n",
       "        vertical-align: middle;\n",
       "    }\n",
       "\n",
       "    .dataframe tbody tr th {\n",
       "        vertical-align: top;\n",
       "    }\n",
       "\n",
       "    .dataframe thead th {\n",
       "        text-align: right;\n",
       "    }\n",
       "</style>\n",
       "<table border=\"1\" class=\"dataframe\">\n",
       "  <thead>\n",
       "    <tr style=\"text-align: right;\">\n",
       "      <th></th>\n",
       "      <th>user_id</th>\n",
       "      <th>movie_id</th>\n",
       "      <th>rating</th>\n",
       "    </tr>\n",
       "  </thead>\n",
       "  <tbody>\n",
       "    <tr>\n",
       "      <th>67396</th>\n",
       "      <td>616</td>\n",
       "      <td>678</td>\n",
       "      <td>2</td>\n",
       "    </tr>\n",
       "    <tr>\n",
       "      <th>94307</th>\n",
       "      <td>889</td>\n",
       "      <td>232</td>\n",
       "      <td>3</td>\n",
       "    </tr>\n",
       "    <tr>\n",
       "      <th>60667</th>\n",
       "      <td>537</td>\n",
       "      <td>301</td>\n",
       "      <td>2</td>\n",
       "    </tr>\n",
       "    <tr>\n",
       "      <th>11526</th>\n",
       "      <td>106</td>\n",
       "      <td>660</td>\n",
       "      <td>4</td>\n",
       "    </tr>\n",
       "    <tr>\n",
       "      <th>86138</th>\n",
       "      <td>805</td>\n",
       "      <td>1101</td>\n",
       "      <td>5</td>\n",
       "    </tr>\n",
       "    <tr>\n",
       "      <th>...</th>\n",
       "      <td>...</td>\n",
       "      <td>...</td>\n",
       "      <td>...</td>\n",
       "    </tr>\n",
       "    <tr>\n",
       "      <th>86203</th>\n",
       "      <td>805</td>\n",
       "      <td>422</td>\n",
       "      <td>4</td>\n",
       "    </tr>\n",
       "    <tr>\n",
       "      <th>31992</th>\n",
       "      <td>303</td>\n",
       "      <td>1037</td>\n",
       "      <td>3</td>\n",
       "    </tr>\n",
       "    <tr>\n",
       "      <th>85923</th>\n",
       "      <td>804</td>\n",
       "      <td>282</td>\n",
       "      <td>4</td>\n",
       "    </tr>\n",
       "    <tr>\n",
       "      <th>22595</th>\n",
       "      <td>232</td>\n",
       "      <td>630</td>\n",
       "      <td>3</td>\n",
       "    </tr>\n",
       "    <tr>\n",
       "      <th>30743</th>\n",
       "      <td>296</td>\n",
       "      <td>191</td>\n",
       "      <td>5</td>\n",
       "    </tr>\n",
       "  </tbody>\n",
       "</table>\n",
       "<p>75000 rows × 3 columns</p>\n",
       "</div>"
      ],
      "text/plain": [
       "       user_id  movie_id  rating\n",
       "67396      616       678       2\n",
       "94307      889       232       3\n",
       "60667      537       301       2\n",
       "11526      106       660       4\n",
       "86138      805      1101       5\n",
       "...        ...       ...     ...\n",
       "86203      805       422       4\n",
       "31992      303      1037       3\n",
       "85923      804       282       4\n",
       "22595      232       630       3\n",
       "30743      296       191       5\n",
       "\n",
       "[75000 rows x 3 columns]"
      ]
     },
     "execution_count": 17,
     "metadata": {},
     "output_type": "execute_result"
    }
   ],
   "source": [
    "x_train"
   ]
  },
  {
   "cell_type": "code",
   "execution_count": 18,
   "id": "4032b668",
   "metadata": {},
   "outputs": [
    {
     "data": {
      "text/html": [
       "<div>\n",
       "<style scoped>\n",
       "    .dataframe tbody tr th:only-of-type {\n",
       "        vertical-align: middle;\n",
       "    }\n",
       "\n",
       "    .dataframe tbody tr th {\n",
       "        vertical-align: top;\n",
       "    }\n",
       "\n",
       "    .dataframe thead th {\n",
       "        text-align: right;\n",
       "    }\n",
       "</style>\n",
       "<table border=\"1\" class=\"dataframe\">\n",
       "  <thead>\n",
       "    <tr style=\"text-align: right;\">\n",
       "      <th></th>\n",
       "      <th>user_id</th>\n",
       "      <th>movie_id</th>\n",
       "      <th>rating</th>\n",
       "    </tr>\n",
       "  </thead>\n",
       "  <tbody>\n",
       "    <tr>\n",
       "      <th>67396</th>\n",
       "      <td>616</td>\n",
       "      <td>678</td>\n",
       "      <td>2</td>\n",
       "    </tr>\n",
       "    <tr>\n",
       "      <th>94307</th>\n",
       "      <td>889</td>\n",
       "      <td>232</td>\n",
       "      <td>3</td>\n",
       "    </tr>\n",
       "    <tr>\n",
       "      <th>60667</th>\n",
       "      <td>537</td>\n",
       "      <td>301</td>\n",
       "      <td>2</td>\n",
       "    </tr>\n",
       "    <tr>\n",
       "      <th>11526</th>\n",
       "      <td>106</td>\n",
       "      <td>660</td>\n",
       "      <td>4</td>\n",
       "    </tr>\n",
       "    <tr>\n",
       "      <th>86138</th>\n",
       "      <td>805</td>\n",
       "      <td>1101</td>\n",
       "      <td>5</td>\n",
       "    </tr>\n",
       "    <tr>\n",
       "      <th>...</th>\n",
       "      <td>...</td>\n",
       "      <td>...</td>\n",
       "      <td>...</td>\n",
       "    </tr>\n",
       "    <tr>\n",
       "      <th>86203</th>\n",
       "      <td>805</td>\n",
       "      <td>422</td>\n",
       "      <td>4</td>\n",
       "    </tr>\n",
       "    <tr>\n",
       "      <th>31992</th>\n",
       "      <td>303</td>\n",
       "      <td>1037</td>\n",
       "      <td>3</td>\n",
       "    </tr>\n",
       "    <tr>\n",
       "      <th>85923</th>\n",
       "      <td>804</td>\n",
       "      <td>282</td>\n",
       "      <td>4</td>\n",
       "    </tr>\n",
       "    <tr>\n",
       "      <th>22595</th>\n",
       "      <td>232</td>\n",
       "      <td>630</td>\n",
       "      <td>3</td>\n",
       "    </tr>\n",
       "    <tr>\n",
       "      <th>30743</th>\n",
       "      <td>296</td>\n",
       "      <td>191</td>\n",
       "      <td>5</td>\n",
       "    </tr>\n",
       "  </tbody>\n",
       "</table>\n",
       "<p>75000 rows × 3 columns</p>\n",
       "</div>"
      ],
      "text/plain": [
       "       user_id  movie_id  rating\n",
       "67396      616       678       2\n",
       "94307      889       232       3\n",
       "60667      537       301       2\n",
       "11526      106       660       4\n",
       "86138      805      1101       5\n",
       "...        ...       ...     ...\n",
       "86203      805       422       4\n",
       "31992      303      1037       3\n",
       "85923      804       282       4\n",
       "22595      232       630       3\n",
       "30743      296       191       5\n",
       "\n",
       "[75000 rows x 3 columns]"
      ]
     },
     "execution_count": 18,
     "metadata": {},
     "output_type": "execute_result"
    }
   ],
   "source": [
    "x_train"
   ]
  },
  {
   "cell_type": "code",
   "execution_count": 19,
   "id": "4f40dbdd",
   "metadata": {},
   "outputs": [],
   "source": [
    "# random_state 설정하지 않음"
   ]
  },
  {
   "cell_type": "code",
   "execution_count": 20,
   "id": "0d8c9f50",
   "metadata": {},
   "outputs": [
    {
     "data": {
      "text/plain": [
       "user_id\n",
       "1      272\n",
       "2       62\n",
       "3       54\n",
       "4       24\n",
       "5      175\n",
       "      ... \n",
       "939     49\n",
       "940    107\n",
       "941     22\n",
       "942     79\n",
       "943    168\n",
       "Length: 943, dtype: int64"
      ]
     },
     "execution_count": 20,
     "metadata": {},
     "output_type": "execute_result"
    }
   ],
   "source": [
    "ratings.groupby('user_id').size()"
   ]
  },
  {
   "cell_type": "code",
   "execution_count": 21,
   "id": "f785c353",
   "metadata": {},
   "outputs": [
    {
     "data": {
      "text/plain": [
       "<pandas.core.groupby.generic.DataFrameGroupBy object at 0x0000028C7F50F5E0>"
      ]
     },
     "execution_count": 21,
     "metadata": {},
     "output_type": "execute_result"
    }
   ],
   "source": [
    "x_train.groupby('user_id')"
   ]
  },
  {
   "cell_type": "markdown",
   "id": "a8159b70",
   "metadata": {},
   "source": [
    "## 정확도 (accuracy)\n",
    "- 10분동안 줄넘기 횟수\n",
    "\n",
    "홍길동 박보검 이미자\n",
    "    50    35    40\n",
    "    60    20    45\n",
    "- 오차(전차) : 실제값- 예측값(y-y^)\n",
    "    - 오차 :10,-15, 5 =0\n",
    "- 오차(잔차) 합 : 0이 되거나 -가 될 수 있음 - > 그래서 제곱의 합\n",
    "- 평균 제곱 오차\n",
    "- 평균 제곱근 오차"
   ]
  },
  {
   "cell_type": "code",
   "execution_count": 22,
   "id": "4bf64cfb",
   "metadata": {},
   "outputs": [],
   "source": [
    "mse =((10)**2 + (-15)**2 + 5**2) /3"
   ]
  },
  {
   "cell_type": "code",
   "execution_count": 23,
   "id": "4909abc7",
   "metadata": {},
   "outputs": [
    {
     "data": {
      "text/plain": [
       "10.801234497346433"
      ]
     },
     "execution_count": 23,
     "metadata": {},
     "output_type": "execute_result"
    }
   ],
   "source": [
    "import math\n",
    "math.sqrt(mse)"
   ]
  },
  {
   "cell_type": "code",
   "execution_count": 24,
   "id": "278f3099",
   "metadata": {},
   "outputs": [],
   "source": [
    "#정확도 계산 함수\n",
    "def RMSE(y_true, y_pred):\n",
    "    return np.sqrt(np.mean((np.array(y_true)- np.array(y_true))**2))"
   ]
  },
  {
   "cell_type": "code",
   "execution_count": 25,
   "id": "34e994cc",
   "metadata": {},
   "outputs": [],
   "source": [
    "# 모델별 RMSE를 계산하는 함수 정의\n",
    "# 모델별 예측치의 정확도 계산"
   ]
  },
  {
   "cell_type": "code",
   "execution_count": 26,
   "id": "019f7639",
   "metadata": {},
   "outputs": [],
   "source": [
    "def score(model):\n",
    "    id_pairs = zip(x_test['user_id'],x_test['movie_id'])\n",
    "    y_pred = np.array([model(user,movie) for (user,movie)in id_pairs])\n",
    "    print('??',y_pred.shape)\n",
    "    \n",
    "    y_true = np.array(x_test['rating'])\n",
    "    \n",
    "    return RMSE(y_true,y_pred)"
   ]
  },
  {
   "cell_type": "code",
   "execution_count": 27,
   "id": "ad162491",
   "metadata": {},
   "outputs": [
    {
     "name": "stdout",
     "output_type": "stream",
     "text": [
      "(1, 'a')\n",
      "(3, 'b')\n",
      "(5, 'c')\n"
     ]
    }
   ],
   "source": [
    "for z in zip([1,3,5],['a','b','c']):\n",
    "    print(z)"
   ]
  },
  {
   "cell_type": "markdown",
   "id": "0a823f0b",
   "metadata": {},
   "source": [
    "## best - seller 모델 예측"
   ]
  },
  {
   "cell_type": "code",
   "execution_count": 28,
   "id": "8a4443fc",
   "metadata": {},
   "outputs": [],
   "source": [
    "def best_seller(user_id, movie_id):\n",
    "    try:\n",
    "        rating = train_mean[movie_id]\n",
    "    except:\n",
    "        print(movie_id)\n",
    "        rating= 3.0\n",
    "    return rating"
   ]
  },
  {
   "cell_type": "code",
   "execution_count": 29,
   "id": "bbcfdf79",
   "metadata": {},
   "outputs": [
    {
     "ename": "NameError",
     "evalue": "name 'train_mean' is not defined",
     "output_type": "error",
     "traceback": [
      "\u001b[1;31m---------------------------------------------------------------------------\u001b[0m",
      "\u001b[1;31mNameError\u001b[0m                                 Traceback (most recent call last)",
      "Cell \u001b[1;32mIn[29], line 1\u001b[0m\n\u001b[1;32m----> 1\u001b[0m \u001b[43mtrain_mean\u001b[49m[\u001b[38;5;241m31\u001b[39m]\n",
      "\u001b[1;31mNameError\u001b[0m: name 'train_mean' is not defined"
     ]
    }
   ],
   "source": [
    "train_mean[31]"
   ]
  },
  {
   "cell_type": "code",
   "execution_count": null,
   "id": "7773ed4e",
   "metadata": {},
   "outputs": [],
   "source": [
    "score(best_seller)"
   ]
  },
  {
   "cell_type": "code",
   "execution_count": null,
   "id": "2b3ba606",
   "metadata": {},
   "outputs": [],
   "source": []
  },
  {
   "cell_type": "code",
   "execution_count": null,
   "id": "22fdad7e",
   "metadata": {},
   "outputs": [],
   "source": [
    "# gender 기준 추천 모델"
   ]
  },
  {
   "cell_type": "code",
   "execution_count": null,
   "id": "ab9e3f3b",
   "metadata": {},
   "outputs": [],
   "source": [
    "#영화별 성별별 평점 평균 계산"
   ]
  },
  {
   "cell_type": "code",
   "execution_count": 30,
   "id": "99275d19",
   "metadata": {},
   "outputs": [
    {
     "data": {
      "text/html": [
       "<div>\n",
       "<style scoped>\n",
       "    .dataframe tbody tr th:only-of-type {\n",
       "        vertical-align: middle;\n",
       "    }\n",
       "\n",
       "    .dataframe tbody tr th {\n",
       "        vertical-align: top;\n",
       "    }\n",
       "\n",
       "    .dataframe thead th {\n",
       "        text-align: right;\n",
       "    }\n",
       "</style>\n",
       "<table border=\"1\" class=\"dataframe\">\n",
       "  <thead>\n",
       "    <tr style=\"text-align: right;\">\n",
       "      <th></th>\n",
       "      <th>user_id</th>\n",
       "      <th>age</th>\n",
       "      <th>gender</th>\n",
       "      <th>job</th>\n",
       "      <th>zip_code</th>\n",
       "    </tr>\n",
       "  </thead>\n",
       "  <tbody>\n",
       "    <tr>\n",
       "      <th>0</th>\n",
       "      <td>1</td>\n",
       "      <td>24</td>\n",
       "      <td>M</td>\n",
       "      <td>technician</td>\n",
       "      <td>85711</td>\n",
       "    </tr>\n",
       "    <tr>\n",
       "      <th>1</th>\n",
       "      <td>2</td>\n",
       "      <td>53</td>\n",
       "      <td>F</td>\n",
       "      <td>other</td>\n",
       "      <td>94043</td>\n",
       "    </tr>\n",
       "  </tbody>\n",
       "</table>\n",
       "</div>"
      ],
      "text/plain": [
       "   user_id  age gender         job zip_code\n",
       "0        1   24      M  technician    85711\n",
       "1        2   53      F       other    94043"
      ]
     },
     "execution_count": 30,
     "metadata": {},
     "output_type": "execute_result"
    }
   ],
   "source": [
    "users[:2]"
   ]
  },
  {
   "cell_type": "code",
   "execution_count": 31,
   "id": "913a10dd",
   "metadata": {},
   "outputs": [
    {
     "data": {
      "text/html": [
       "<div>\n",
       "<style scoped>\n",
       "    .dataframe tbody tr th:only-of-type {\n",
       "        vertical-align: middle;\n",
       "    }\n",
       "\n",
       "    .dataframe tbody tr th {\n",
       "        vertical-align: top;\n",
       "    }\n",
       "\n",
       "    .dataframe thead th {\n",
       "        text-align: right;\n",
       "    }\n",
       "</style>\n",
       "<table border=\"1\" class=\"dataframe\">\n",
       "  <thead>\n",
       "    <tr style=\"text-align: right;\">\n",
       "      <th></th>\n",
       "      <th>user_id</th>\n",
       "      <th>movie_id</th>\n",
       "      <th>rating</th>\n",
       "    </tr>\n",
       "  </thead>\n",
       "  <tbody>\n",
       "    <tr>\n",
       "      <th>0</th>\n",
       "      <td>1</td>\n",
       "      <td>55</td>\n",
       "      <td>5</td>\n",
       "    </tr>\n",
       "    <tr>\n",
       "      <th>1</th>\n",
       "      <td>1</td>\n",
       "      <td>203</td>\n",
       "      <td>4</td>\n",
       "    </tr>\n",
       "    <tr>\n",
       "      <th>2</th>\n",
       "      <td>1</td>\n",
       "      <td>183</td>\n",
       "      <td>5</td>\n",
       "    </tr>\n",
       "  </tbody>\n",
       "</table>\n",
       "</div>"
      ],
      "text/plain": [
       "   user_id  movie_id  rating\n",
       "0        1        55       5\n",
       "1        1       203       4\n",
       "2        1       183       5"
      ]
     },
     "execution_count": 31,
     "metadata": {},
     "output_type": "execute_result"
    }
   ],
   "source": [
    "ratings[:3]"
   ]
  },
  {
   "cell_type": "code",
   "execution_count": 32,
   "id": "2498e811",
   "metadata": {
    "collapsed": true
   },
   "outputs": [
    {
     "name": "stdout",
     "output_type": "stream",
     "text": [
      "RMSE\t best_seller\t math\t movies\t mse\t np\t pd\t ratings\t score\t \n",
      "train_test_split\t users\t x\t x_test\t x_train\t y\t y_test\t y_train\t z\t \n",
      "\n"
     ]
    }
   ],
   "source": [
    "%who"
   ]
  },
  {
   "cell_type": "code",
   "execution_count": 34,
   "id": "7ce9a996",
   "metadata": {},
   "outputs": [
    {
     "data": {
      "text/html": [
       "<div>\n",
       "<style scoped>\n",
       "    .dataframe tbody tr th:only-of-type {\n",
       "        vertical-align: middle;\n",
       "    }\n",
       "\n",
       "    .dataframe tbody tr th {\n",
       "        vertical-align: top;\n",
       "    }\n",
       "\n",
       "    .dataframe thead th {\n",
       "        text-align: right;\n",
       "    }\n",
       "</style>\n",
       "<table border=\"1\" class=\"dataframe\">\n",
       "  <thead>\n",
       "    <tr style=\"text-align: right;\">\n",
       "      <th></th>\n",
       "      <th>id</th>\n",
       "      <th>hire_date</th>\n",
       "    </tr>\n",
       "  </thead>\n",
       "  <tbody>\n",
       "    <tr>\n",
       "      <th>0</th>\n",
       "      <td>1</td>\n",
       "      <td>2020</td>\n",
       "    </tr>\n",
       "    <tr>\n",
       "      <th>1</th>\n",
       "      <td>2</td>\n",
       "      <td>2010</td>\n",
       "    </tr>\n",
       "    <tr>\n",
       "      <th>2</th>\n",
       "      <td>3</td>\n",
       "      <td>2002</td>\n",
       "    </tr>\n",
       "  </tbody>\n",
       "</table>\n",
       "</div>"
      ],
      "text/plain": [
       "   id  hire_date\n",
       "0   1       2020\n",
       "1   2       2010\n",
       "2   3       2002"
      ]
     },
     "execution_count": 34,
     "metadata": {},
     "output_type": "execute_result"
    }
   ],
   "source": [
    "one = pd.DataFrame({\n",
    "    'id':[1,2,3],\n",
    "    'name':['홍씨','이씨','박씨']\n",
    "    \n",
    "})\n",
    "two = pd.DataFrame({\n",
    "    'id':[1,2,3],\n",
    "    'hire_date':[2020,2010,2002]\n",
    "})\n",
    "one\n",
    "two"
   ]
  },
  {
   "cell_type": "code",
   "execution_count": 35,
   "id": "bfb008fe",
   "metadata": {},
   "outputs": [
    {
     "ename": "NameError",
     "evalue": "name 'merged_ratings' is not defined",
     "output_type": "error",
     "traceback": [
      "\u001b[1;31m---------------------------------------------------------------------------\u001b[0m",
      "\u001b[1;31mNameError\u001b[0m                                 Traceback (most recent call last)",
      "Cell \u001b[1;32mIn[35], line 1\u001b[0m\n\u001b[1;32m----> 1\u001b[0m g_mean \u001b[38;5;241m=\u001b[39m \u001b[43mmerged_ratings\u001b[49m[[\u001b[38;5;124m'\u001b[39m\u001b[38;5;124mmovie_id\u001b[39m\u001b[38;5;124m'\u001b[39m,\u001b[38;5;124m'\u001b[39m\u001b[38;5;124mgender\u001b[39m\u001b[38;5;124m'\u001b[39m,\u001b[38;5;124m'\u001b[39m\u001b[38;5;124mrating\u001b[39m\u001b[38;5;124m'\u001b[39m]]\u001b[38;5;241m.\u001b[39mgroupby([\u001b[38;5;124m'\u001b[39m\u001b[38;5;124mmovie_id\u001b[39m\u001b[38;5;124m'\u001b[39m,\u001b[38;5;124m'\u001b[39m\u001b[38;5;124mgender\u001b[39m\u001b[38;5;124m'\u001b[39m])\u001b[38;5;241m.\u001b[39mrating\u001b[38;5;241m.\u001b[39mmean()\n",
      "\u001b[1;31mNameError\u001b[0m: name 'merged_ratings' is not defined"
     ]
    }
   ],
   "source": [
    "g_mean = merged_ratings[['movie_id','gender','rating']].groupby(['movie_id','gender']).rating.mean()"
   ]
  },
  {
   "cell_type": "code",
   "execution_count": 36,
   "id": "afd09c15",
   "metadata": {},
   "outputs": [
    {
     "data": {
      "text/plain": [
       "(75000, 3)"
      ]
     },
     "execution_count": 36,
     "metadata": {},
     "output_type": "execute_result"
    }
   ],
   "source": [
    "x_train.shape"
   ]
  },
  {
   "cell_type": "code",
   "execution_count": 40,
   "id": "82de8651",
   "metadata": {
    "scrolled": true
   },
   "outputs": [
    {
     "ename": "KeyError",
     "evalue": "\"None of ['user_id'] are in the columns\"",
     "output_type": "error",
     "traceback": [
      "\u001b[1;31m---------------------------------------------------------------------------\u001b[0m",
      "\u001b[1;31mKeyError\u001b[0m                                  Traceback (most recent call last)",
      "Cell \u001b[1;32mIn[40], line 1\u001b[0m\n\u001b[1;32m----> 1\u001b[0m \u001b[43musers\u001b[49m\u001b[38;5;241;43m.\u001b[39;49m\u001b[43mset_index\u001b[49m\u001b[43m(\u001b[49m\u001b[38;5;124;43m'\u001b[39;49m\u001b[38;5;124;43muser_id\u001b[39;49m\u001b[38;5;124;43m'\u001b[39;49m\u001b[43m,\u001b[49m\u001b[43minplace\u001b[49m\u001b[38;5;241;43m=\u001b[39;49m\u001b[38;5;28;43;01mTrue\u001b[39;49;00m\u001b[43m)\u001b[49m\n\u001b[0;32m      2\u001b[0m users\n",
      "File \u001b[1;32m~\\anaconda3\\envs\\ex\\lib\\site-packages\\pandas\\core\\frame.py:5869\u001b[0m, in \u001b[0;36mDataFrame.set_index\u001b[1;34m(self, keys, drop, append, inplace, verify_integrity)\u001b[0m\n\u001b[0;32m   5866\u001b[0m                 missing\u001b[38;5;241m.\u001b[39mappend(col)\n\u001b[0;32m   5868\u001b[0m \u001b[38;5;28;01mif\u001b[39;00m missing:\n\u001b[1;32m-> 5869\u001b[0m     \u001b[38;5;28;01mraise\u001b[39;00m \u001b[38;5;167;01mKeyError\u001b[39;00m(\u001b[38;5;124mf\u001b[39m\u001b[38;5;124m\"\u001b[39m\u001b[38;5;124mNone of \u001b[39m\u001b[38;5;132;01m{\u001b[39;00mmissing\u001b[38;5;132;01m}\u001b[39;00m\u001b[38;5;124m are in the columns\u001b[39m\u001b[38;5;124m\"\u001b[39m)\n\u001b[0;32m   5871\u001b[0m \u001b[38;5;28;01mif\u001b[39;00m inplace:\n\u001b[0;32m   5872\u001b[0m     frame \u001b[38;5;241m=\u001b[39m \u001b[38;5;28mself\u001b[39m\n",
      "\u001b[1;31mKeyError\u001b[0m: \"None of ['user_id'] are in the columns\""
     ]
    }
   ],
   "source": [
    "users.set_index('user_id',inplace=True)\n",
    "users"
   ]
  },
  {
   "cell_type": "code",
   "execution_count": null,
   "id": "69e2d1b9",
   "metadata": {},
   "outputs": [],
   "source": [
    "rating_matrix=x_train.pivot(index='user_id',columns='movie_id',values='rating')"
   ]
  },
  {
   "cell_type": "code",
   "execution_count": null,
   "id": "596273b4",
   "metadata": {},
   "outputs": [],
   "source": [
    "# 정확도 계산"
   ]
  },
  {
   "cell_type": "code",
   "execution_count": 41,
   "id": "5b0053a1",
   "metadata": {},
   "outputs": [],
   "source": [
    "## 모델별 RMSE를 계산하는 함수 정의\n",
    "## 모델별 예측치의 정확도 계산\n",
    "def score(model):\n",
    "    id_pairs = zip(x_test['user_id'],x_test['movie_id'])\n",
    "    y_pred = np.array([model(user,movie) for (user, movie) in id_pairs])\n",
    "    print(y_pred)\n",
    "    \n",
    "    y_true = np.array(x_test['rating'])\n",
    "    \n",
    "    return RMSE(y_true,y_pred)"
   ]
  },
  {
   "cell_type": "code",
   "execution_count": 44,
   "id": "883d1a9a",
   "metadata": {},
   "outputs": [],
   "source": [
    "# gender 기준 추천 모델\n",
    "# gender 별 평균을 예측치로 돌려주는 함수\n",
    "def cf_gender(user_id,movie_id):\n",
    "    if movie_id in rating_matrix:\n",
    "        gender = user.loc[user_id]['gender']\n",
    "        \n",
    "        if gender in g_mean[movie_id]:\n",
    "            gender_rating = g_mean[movie_id][gender]\n",
    "        else:\n",
    "            gender_rating = 3.0\n",
    "    else:\n",
    "        gender_rating =3.0\n",
    "    return gender_rating"
   ]
  },
  {
   "cell_type": "code",
   "execution_count": null,
   "id": "849db7ee",
   "metadata": {},
   "outputs": [],
   "source": []
  },
  {
   "cell_type": "code",
   "execution_count": null,
   "id": "4eb5de41",
   "metadata": {},
   "outputs": [],
   "source": []
  },
  {
   "cell_type": "code",
   "execution_count": null,
   "id": "24673998",
   "metadata": {},
   "outputs": [],
   "source": []
  },
  {
   "cell_type": "code",
   "execution_count": null,
   "id": "b4909a97",
   "metadata": {},
   "outputs": [],
   "source": []
  }
 ],
 "metadata": {
  "kernelspec": {
   "display_name": "ex_kernel",
   "language": "python",
   "name": "ex"
  },
  "language_info": {
   "codemirror_mode": {
    "name": "ipython",
    "version": 3
   },
   "file_extension": ".py",
   "mimetype": "text/x-python",
   "name": "python",
   "nbconvert_exporter": "python",
   "pygments_lexer": "ipython3",
   "version": "3.8.10"
  },
  "toc": {
   "base_numbering": 1,
   "nav_menu": {},
   "number_sections": true,
   "sideBar": true,
   "skip_h1_title": false,
   "title_cell": "Table of Contents",
   "title_sidebar": "Contents",
   "toc_cell": false,
   "toc_position": {},
   "toc_section_display": true,
   "toc_window_display": false
  }
 },
 "nbformat": 4,
 "nbformat_minor": 5
}
