{
 "cells": [
  {
   "cell_type": "code",
   "execution_count": 1,
   "id": "5f40b8ac",
   "metadata": {},
   "outputs": [
    {
     "data": {
      "text/plain": [
       "'\\n문제\\n네이버 동적 웹 크롤링\\n네이버 뉴스의 경제홈 실시간 뉴스 타이틀 추출하시오\\n'"
      ]
     },
     "execution_count": 1,
     "metadata": {},
     "output_type": "execute_result"
    }
   ],
   "source": [
    "\"\"\"\n",
    "문제\n",
    "네이버 동적 웹 크롤링\n",
    "네이버 뉴스의 경제홈 실시간 뉴스 타이틀 추출하시오\n",
    "\"\"\""
   ]
  },
  {
   "cell_type": "code",
   "execution_count": 8,
   "id": "06dad9b9",
   "metadata": {},
   "outputs": [],
   "source": [
    "from time import sleep\n",
    "from selenium import webdriver\n",
    "from selenium.webdriver.common.by import By\n",
    "from selenium.webdriver.common.keys import Keys\n",
    "from bs4 import BeautifulSoup "
   ]
  },
  {
   "cell_type": "code",
   "execution_count": 20,
   "id": "6ac65f91",
   "metadata": {},
   "outputs": [
    {
     "ename": "SyntaxError",
     "evalue": "invalid syntax (551502487.py, line 25)",
     "output_type": "error",
     "traceback": [
      "\u001b[1;36m  Cell \u001b[1;32mIn[20], line 25\u001b[1;36m\u001b[0m\n\u001b[1;33m    for idx, title in enumerate(economic_title_element, 1):\u001b[0m\n\u001b[1;37m                                                          ^\u001b[0m\n\u001b[1;31mSyntaxError\u001b[0m\u001b[1;31m:\u001b[0m invalid syntax\n"
     ]
    }
   ],
   "source": [
    "driver = webdriver.Chrome()\n",
    "print(\"크롬 실행\")\n",
    "\n",
    "url = \"https://www.naver.com/\"\n",
    "driver.get(url)\n",
    "\n",
    "# 뉴스 누르기\n",
    "news_path = '//*[@id=\"NM_FAVORITE\"]/div[1]/ul[2]/li[2]/a'\n",
    "news_element = driver.find_element(By.XPATH, news_path).click()\n",
    "sleep(2)\n",
    "\n",
    "#경제 누르기\n",
    "# economic = '/header/div[2]/div/div/div[1]/div/div/ul/li[3]/a'\n",
    "economic = '//*[@class=\"Nlnb_menu_list\"]/li[3]/a'\n",
    "\n",
    "driver.find_element(By.XPATH, economic).click()\n",
    "sleep(2)\n",
    "\n",
    "# 실시간 경제 뉴스 a element 추출\n",
    "titles ='//*[@id=\"section_body\"]//dt[2]/a'\n",
    "# titles ='//*[@id=\"section_body\"]/ul/li/dl/dt[2]/a'a\n",
    "\n",
    "economic_title_element = driver.find_elements(By.XPATH, titles\n",
    "\n",
    "for idx, title in enumerate(economic_title_element, 1):\n",
    "    sleep(1)\n",
    "    print(f\"{idx}.{title}\")\n"
   ]
  },
  {
   "cell_type": "code",
   "execution_count": null,
   "id": "d3419bc5",
   "metadata": {},
   "outputs": [],
   "source": [
    "\"\"\"\n",
    "문제 \n",
    "네이버 뉴스 경제 홈 페이지 하단의 실시간 뉴스 타이틀 1-10page\n",
    "언론사, 뉴스 제목, url 추출 -> csv 파일 저장(인덱스 제외, 컬럼명: 언론사, 타이틀, 주소)\n",
    "\"\"\""
   ]
  },
  {
   "cell_type": "code",
   "execution_count": null,
   "id": "5297ae09",
   "metadata": {},
   "outputs": [],
   "source": [
    "#다음 페이지 넘어가기\n",
    "next_page = '//*[@id=\"paging\"]/a[]'\n"
   ]
  },
  {
   "cell_type": "code",
   "execution_count": null,
   "id": "e921675c",
   "metadata": {},
   "outputs": [],
   "source": []
  },
  {
   "cell_type": "code",
   "execution_count": null,
   "id": "7a593529",
   "metadata": {},
   "outputs": [],
   "source": []
  },
  {
   "cell_type": "code",
   "execution_count": null,
   "id": "25b2f943",
   "metadata": {},
   "outputs": [],
   "source": []
  },
  {
   "cell_type": "code",
   "execution_count": null,
   "id": "c011f782",
   "metadata": {},
   "outputs": [],
   "source": []
  },
  {
   "cell_type": "code",
   "execution_count": null,
   "id": "99d7c5ee",
   "metadata": {},
   "outputs": [],
   "source": []
  },
  {
   "cell_type": "code",
   "execution_count": null,
   "id": "c3ecc5f9",
   "metadata": {},
   "outputs": [],
   "source": []
  },
  {
   "cell_type": "code",
   "execution_count": null,
   "id": "b349ccc6",
   "metadata": {},
   "outputs": [],
   "source": []
  },
  {
   "cell_type": "code",
   "execution_count": null,
   "id": "f0c3a885",
   "metadata": {},
   "outputs": [],
   "source": []
  }
 ],
 "metadata": {
  "kernelspec": {
   "display_name": "ex_kernel",
   "language": "python",
   "name": "ex"
  },
  "language_info": {
   "codemirror_mode": {
    "name": "ipython",
    "version": 3
   },
   "file_extension": ".py",
   "mimetype": "text/x-python",
   "name": "python",
   "nbconvert_exporter": "python",
   "pygments_lexer": "ipython3",
   "version": "3.8.10"
  }
 },
 "nbformat": 4,
 "nbformat_minor": 5
}
