{
 "cells": [
  {
   "cell_type": "code",
   "execution_count": 1,
   "id": "deea9560",
   "metadata": {},
   "outputs": [
    {
     "data": {
      "text/plain": [
       "'\\n픽사 베이에서 구슬을 검색하고 이미지를 다운 받기\\n-폴더 이름 :구슬\\n- 파일명 숫자.jpg\\n'"
      ]
     },
     "execution_count": 1,
     "metadata": {},
     "output_type": "execute_result"
    }
   ],
   "source": [
    "\"\"\"\n",
    "픽사 베이에서 구슬을 검색하고 이미지를 다운 받기\n",
    "-폴더 이름 :구슬\n",
    "- 파일명 숫자.jpg\n",
    "\"\"\""
   ]
  },
  {
   "cell_type": "code",
   "execution_count": 3,
   "id": "edda0c8c",
   "metadata": {},
   "outputs": [
    {
     "name": "stdout",
     "output_type": "stream",
     "text": [
      "검색어를 입력해주세요물\n",
      "100개의 이미지 다운로드 완료\n"
     ]
    }
   ],
   "source": [
    "from selenium import webdriver\n",
    "from selenium.webdriver.common.keys import Keys\n",
    "from selenium.webdriver.common.by import By\n",
    "from time import sleep\n",
    "import os\n",
    "import urllib.request as request\n",
    "import requests\n",
    "from bs4 import BeautifulSoup\n",
    "\n",
    "#1. 크롬 웹 브라우저 실행, 픽사베이 접속\n",
    "url = \"https://pixabay.com/ko/\"\n",
    "driver = webdriver.Chrome()\n",
    "driver.get(url)\n",
    "\n",
    "#2. 검색어 \n",
    "search = input(\"검색어를 입력해주세요\")\n",
    "sleep(2)\n",
    "\n",
    "query_input_text = driver.find_element(By.CSS_SELECTOR, 'form > input')\n",
    "\n",
    "query_input_text.send_keys(f\"{search}\\n\")\n",
    "\n",
    "#3. 이미지 요소 가져오기\n",
    "img_elements = driver.find_elements(By.CSS_SELECTOR, \"a > img\")\n",
    "\n",
    "#4. 폴더 생성\n",
    "file_name = search\n",
    "folder_path = os.path.join(os.getcwd(), file_name)                         \n",
    "os.makedirs(folder_path, exist_ok=True)\n",
    "\n",
    "#5. 이미지 요청\n",
    "for idx, img_x in enumerate(img_elements,1):\n",
    "    sleep(0.7)\n",
    "    img_name = os.path.join(folder_path,f\"{idx}.jpg\")\n",
    "    #6. 이미지 (랜더링 추출)\n",
    "    if img_x.get_attribute(\"data-lazy\"):\n",
    "        src = img_x.get_attribute('data-lazy')\n",
    "    else:\n",
    "        src = img_x.get_attribute('src')\n",
    "        \n",
    "    img_response = requests.get(src).content\n",
    "    \n",
    "    #7. 이미지 저장\n",
    "    with open(img_name, \"wb\") as f:\n",
    "            f.write(img_response)\n",
    "\n",
    "print(f\"{idx}개의 이미지 다운로드 완료\")\n",
    "sleep(2)\n",
    "driver.close()"
   ]
  }
 ],
 "metadata": {
  "kernelspec": {
   "display_name": "Python 3 (ipykernel)",
   "language": "python",
   "name": "python3"
  },
  "language_info": {
   "codemirror_mode": {
    "name": "ipython",
    "version": 3
   },
   "file_extension": ".py",
   "mimetype": "text/x-python",
   "name": "python",
   "nbconvert_exporter": "python",
   "pygments_lexer": "ipython3",
   "version": "3.8.10"
  }
 },
 "nbformat": 4,
 "nbformat_minor": 5
}
