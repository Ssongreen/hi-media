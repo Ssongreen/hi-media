{
 "cells": [
  {
   "cell_type": "code",
   "execution_count": null,
   "id": "deea9560",
   "metadata": {},
   "outputs": [],
   "source": [
    "\"\"\"\n",
    "픽사 베이에서 구슬을 검색하고 이미지를 다운 받기\n",
    "-폴더 이름 :구슬\n",
    "- 파일명 숫자.jpg\n",
    "\"\"\""
   ]
  },
  {
   "cell_type": "code",
   "execution_count": 1,
   "id": "82872041",
   "metadata": {},
   "outputs": [],
   "source": [
    "from selenium import webdriver\n",
    "from selenium.webdriver.common.keys import Keys\n",
    "from selenium.webdriver.common.by import By\n",
    "from time import sleep\n",
    "import os\n",
    "import urllib.request as request\n",
    "import requests"
   ]
  },
  {
   "cell_type": "code",
   "execution_count": null,
   "id": "fef6f639",
   "metadata": {},
   "outputs": [],
   "source": [
    "url = \"https://pixabay.com/ko/\"\n",
    "driver = webdriver.Chrome()\n",
    "driver.get(url)\n",
    "search_path = '//*[@id=\"app\"]/div[1]/div[1]/div[3]/div[1]/div/form/input'\n",
    "query_input_text = driver.find_element(By.XPATH, search_path)\n",
    "sleep(1)\n",
    "search = input(\"검색어를 입력해주세요\")\n",
    "\n",
    "query_input_text.send_keys(f\"{search}\\n\")\n",
    "check = driver.find_element(By.CSS_SELECTOR, \"img['data-lazy-srcset']\"\n",
    "\n",
    "#폴더 저장\n",
    "file_name = \"구슬\"\n",
    "folder_path = os.path.join(os.getcwd(),file_name)\n",
    "                            \n",
    "os.makedirs(folder_path, exist_ok=True)\n",
    "sleep(1)\n",
    "headers = {\"user-agent\": \"Mozilla/5.0 (Windows NT 10.0; Win64; x64) AppleWebKit/537.36 (KHTML, like Gecko) Chrome/112.0.0.0 Safari/537.36\"}\n",
    "for i, img in enumerate(img_elements, 1):\n",
    "    sleep(1)\n",
    "    if not check == \" \":\n",
    "        img_elements = driver.find_elements(By.CSS_SELECTOR, \"img['data-lazy-srcset']\")\n",
    "    else:\n",
    "        img_elements = driver.find_elements(By.CSS_SELECTOR, \"img.photo-result-image\")\n",
    "    img_src = img.get_attribute(\"src\")\n",
    "    img_name = os.path.join(folder_path,f\"{i}.png\")\n",
    "    response_img = requests.get(img_src).content\n",
    "    \n",
    "    with open(img_name, \"wb\") as f:\n",
    "        f.write(response_img)\n",
    "        \n",
    "#     for y in range(2,11):\n",
    "#         next_url = f\"https://pixabay.com/ko/images/search/{search}/?pagi={y}\"\n",
    "#         requests.get(next_url, headers = headers)\n",
    "print(f\"{len(img_name)} 다운로드 완료\")\n",
    "# sleep(3)\n",
    "# driver.close()\n",
    "print(\"닫아요\")"
   ]
  },
  {
   "cell_type": "code",
   "execution_count": null,
   "id": "46488bf4",
   "metadata": {},
   "outputs": [],
   "source": []
  },
  {
   "cell_type": "code",
   "execution_count": null,
   "id": "5e9f1c98",
   "metadata": {},
   "outputs": [],
   "source": []
  },
  {
   "cell_type": "code",
   "execution_count": null,
   "id": "c7e53481",
   "metadata": {},
   "outputs": [],
   "source": []
  },
  {
   "cell_type": "code",
   "execution_count": null,
   "id": "a7650904",
   "metadata": {},
   "outputs": [],
   "source": []
  },
  {
   "cell_type": "code",
   "execution_count": null,
   "id": "279a023b",
   "metadata": {},
   "outputs": [],
   "source": []
  },
  {
   "cell_type": "code",
   "execution_count": null,
   "id": "3d80e763",
   "metadata": {},
   "outputs": [],
   "source": []
  },
  {
   "cell_type": "code",
   "execution_count": null,
   "id": "ef39f68f",
   "metadata": {},
   "outputs": [],
   "source": []
  },
  {
   "cell_type": "code",
   "execution_count": null,
   "id": "aab6b4ed",
   "metadata": {},
   "outputs": [],
   "source": []
  },
  {
   "cell_type": "code",
   "execution_count": null,
   "id": "acac02d4",
   "metadata": {},
   "outputs": [],
   "source": []
  },
  {
   "cell_type": "code",
   "execution_count": null,
   "id": "bb8a05a1",
   "metadata": {},
   "outputs": [],
   "source": []
  },
  {
   "cell_type": "code",
   "execution_count": null,
   "id": "ce4d6f00",
   "metadata": {},
   "outputs": [],
   "source": []
  },
  {
   "cell_type": "code",
   "execution_count": null,
   "id": "746e1d32",
   "metadata": {},
   "outputs": [],
   "source": []
  }
 ],
 "metadata": {
  "kernelspec": {
   "display_name": "ex_kernel",
   "language": "python",
   "name": "ex"
  },
  "language_info": {
   "codemirror_mode": {
    "name": "ipython",
    "version": 3
   },
   "file_extension": ".py",
   "mimetype": "text/x-python",
   "name": "python",
   "nbconvert_exporter": "python",
   "pygments_lexer": "ipython3",
   "version": "3.8.10"
  }
 },
 "nbformat": 4,
 "nbformat_minor": 5
}
