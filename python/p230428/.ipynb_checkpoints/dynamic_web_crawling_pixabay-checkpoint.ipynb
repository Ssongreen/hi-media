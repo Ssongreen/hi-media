{
 "cells": [
  {
   "cell_type": "code",
   "execution_count": 9,
   "id": "c8fcc369",
   "metadata": {},
   "outputs": [
    {
     "name": "stdout",
     "output_type": "stream",
     "text": [
      "32개 다운로드 완료\n",
      "크롬 웹 브라우저 닫기\n"
     ]
    }
   ],
   "source": [
    "from selenium import webdriver\n",
    "from selenium.webdriver.common.keys import Keys\n",
    "from selenium.webdriver.common.by import By\n",
    "from time import sleep\n",
    "import os\n",
    "import urllib.request as request\n",
    "import requests\n",
    "driver = webdriver.Chrome()\n",
    "\n",
    "url = \"https://pixabay.com/ko/\"\n",
    "driver.get(url)\n",
    "\n",
    "sleep(2)\n",
    "\n",
    "img_elements = driver.find_elements(By.CSS_SELECTOR, \"img[alt]\")\n",
    "\n",
    "file_name = \"img\"\n",
    "folder_path = os.path.join(os.getcwd(),file_name)\n",
    "os.makedirs(file_name, exist_ok=True)\n",
    "\n",
    "for i, img in enumerate(img_elements, 1):\n",
    "    img_src = img.get_attribute(\"src\")\n",
    "    img_name = os.path.join(folder_path, f\"{i}.jpg\")\n",
    "    response_img = requests.get(img_src).content\n",
    "    with open(img_name, \"wb\") as f:\n",
    "        f.write(response_img)\n",
    "print(f\"{len(img_name)}개 다운로드 완료\")\n",
    "    \n",
    "sleep(3)    \n",
    "driver.close()\n",
    "print(\"크롬 웹 브라우저 닫기\")\n",
    "\n",
    "#현재 위치 이미지 폴더\n",
    "# 주피터에서는 내장 변수 __file__ 앙되용\n",
    "#현재 위치에 자동으로 생성해줘용\n"
   ]
  },
  {
   "cell_type": "code",
   "execution_count": null,
   "id": "28a07799",
   "metadata": {},
   "outputs": [],
   "source": []
  }
 ],
 "metadata": {
  "kernelspec": {
   "display_name": "ex_kernel",
   "language": "python",
   "name": "ex"
  },
  "language_info": {
   "codemirror_mode": {
    "name": "ipython",
    "version": 3
   },
   "file_extension": ".py",
   "mimetype": "text/x-python",
   "name": "python",
   "nbconvert_exporter": "python",
   "pygments_lexer": "ipython3",
   "version": "3.8.10"
  }
 },
 "nbformat": 4,
 "nbformat_minor": 5
}
