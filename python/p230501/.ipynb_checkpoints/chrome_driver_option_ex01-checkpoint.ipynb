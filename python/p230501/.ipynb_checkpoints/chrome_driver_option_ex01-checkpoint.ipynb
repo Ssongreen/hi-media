{
 "cells": [
  {
   "cell_type": "code",
   "execution_count": 1,
   "id": "91f2ce72",
   "metadata": {},
   "outputs": [],
   "source": [
    "from selenium import webdriver\n",
    "from time import sleep"
   ]
  },
  {
   "cell_type": "code",
   "execution_count": 16,
   "id": "f7298173",
   "metadata": {},
   "outputs": [
    {
     "name": "stdout",
     "output_type": "stream",
     "text": [
      "1. 크롬 웹 브라우저 실행\n",
      "2. 네이버 접속\n"
     ]
    }
   ],
   "source": [
    "## 크롬 드라이버 옵션 설정 #######################################\n",
    "chrome_options = webdriver.ChromeOptions()\n",
    "# chrome_options.add_argument('headless') ## 백그라운드로 실행\n",
    "# chrome_options.add_argument('user-agent=Mozilla/5.0 (Windows NT 10.0; Win64; x64) AppleWebKit/537.36 (KHTML, like Gecko) Chrome/112.0.0.0 Safari/537.36')\n",
    "# chrome_options.add_argument('lang=ko_KR')\n",
    "\n",
    "# chrome_options.add_argument('--window-size=360,640')\n",
    "# chrome_options.add_argument('--window-position=200,200')\n",
    "\n",
    "# chrome_options.add_argument('--start-maximized')\n",
    "# chrome_options.add_argument('--start-fullscreen')\n",
    "\n",
    "# chrome_options.add_argument('--disable-gpu')\n",
    "##################################################################\n",
    "\n",
    "## 1. 크롬 웹 브라우저 실행\n",
    "driver = webdriver.Chrome()\n",
    "print('1. 크롬 웹 브라우저 실행')\n",
    "\n",
    "## 2. 네이버 접속\n",
    "driver.get('https://www.naver.com/')\n",
    "print('2. 네이버 접속')\n",
    "\n"
   ]
  },
  {
   "cell_type": "code",
   "execution_count": 7,
   "id": "33828187",
   "metadata": {},
   "outputs": [],
   "source": [
    "driver.quit()"
   ]
  },
  {
   "cell_type": "code",
   "execution_count": null,
   "id": "cf2301f9",
   "metadata": {},
   "outputs": [],
   "source": []
  },
  {
   "cell_type": "code",
   "execution_count": null,
   "id": "e38a9bb7",
   "metadata": {},
   "outputs": [],
   "source": []
  },
  {
   "cell_type": "code",
   "execution_count": null,
   "id": "e4ca2248",
   "metadata": {},
   "outputs": [],
   "source": []
  },
  {
   "cell_type": "code",
   "execution_count": null,
   "id": "758fd463",
   "metadata": {},
   "outputs": [],
   "source": []
  },
  {
   "cell_type": "code",
   "execution_count": null,
   "id": "c7062dfa",
   "metadata": {},
   "outputs": [],
   "source": []
  }
 ],
 "metadata": {
  "kernelspec": {
   "display_name": "ex_kernel",
   "language": "python",
   "name": "ex"
  },
  "language_info": {
   "codemirror_mode": {
    "name": "ipython",
    "version": 3
   },
   "file_extension": ".py",
   "mimetype": "text/x-python",
   "name": "python",
   "nbconvert_exporter": "python",
   "pygments_lexer": "ipython3",
   "version": "3.8.10"
  }
 },
 "nbformat": 4,
 "nbformat_minor": 5
}
