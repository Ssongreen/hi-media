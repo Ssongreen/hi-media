{
 "cells": [
  {
   "cell_type": "code",
   "execution_count": null,
   "id": "6209d710",
   "metadata": {},
   "outputs": [],
   "source": [
    "'''\n",
    "[문제] 픽사베이에서 '구슬'을 검색하여, 검색된 모든 페이지의 이미지 다운로드\n",
    "- 다운로드 폴더 : 구슬\n",
    "- 파일명 : 페이지번호_순번.jpg\n",
    "'''"
   ]
  },
  {
   "cell_type": "code",
   "execution_count": 6,
   "id": "0651250a",
   "metadata": {
    "collapsed": true
   },
   "outputs": [
    {
     "name": "stdout",
     "output_type": "stream",
     "text": [
      "검색해주세요라떼\n",
      "총 페이지 8\n",
      "1 넘어갔져\n",
      "2 넘어갔져\n",
      "3 넘어갔져\n",
      "4 넘어갔져\n",
      "5 넘어갔져\n",
      "6 넘어갔져\n",
      "7 넘어갔져\n",
      "8 넘어갔져\n",
      "작업끝\n"
     ]
    }
   ],
   "source": [
    "from selenium import webdriver\n",
    "from selenium.webdriver.common.keys import Keys\n",
    "from selenium.webdriver.common.by import By\n",
    "from time import sleep\n",
    "import os\n",
    "import urllib.request as request\n",
    "import requests\n",
    "from bs4 import BeautifulSoup\n",
    "\n",
    "#크롬 웹 브라우저 실행\n",
    "options = webdriver.ChromeOptions()\n",
    "options.add_argument('--start-maximized')\n",
    "driver = webdriver.Chrome(options=options)\n",
    "url = 'https://pixabay.com/ko/'\n",
    "driver.get(url)\n",
    "search_word = input(\"검색해주세요\")\n",
    "sleep(2)\n",
    "search_input = driver.find_element(By.XPATH, '//*[@id=\"app\"]/div[1]/div[1]/div[3]/div[1]/div/form/input')\n",
    "search_input.send_keys(search_word)\n",
    "search_input.send_keys(Keys.RETURN)\n",
    "\n",
    "\n",
    "total_page_element = driver.find_element(By.XPATH,'//*[@id=\"content\"]//form')\n",
    "total_count= int(total_page_element.text.replace('/',''))\n",
    "print(\"총 페이지\", total_count)\n",
    "#폴더 생성\n",
    "\n",
    "os.makedirs(search_word, exist_ok=True)\n",
    "sleep(2)\n",
    "\n",
    "# 이미지 엘리먼트 추출\n",
    "for courrent_page in range(1, total_count +1):\n",
    "    print(f'{courrent_page} 넘어갔져')\n",
    "    img_elements = driver.find_elements(By.CSS_SELECTOR, 'a>img[alt]')\n",
    "    \n",
    "    #if문을 스크롤로 변경하여 처리하기 \n",
    "    #if 문으로 딜레이 될 수 있다.\n",
    "    \n",
    "    for idx, img in enumerate(img_elements, 1):\n",
    "        if img.get_attribute('data-lazy'):\n",
    "            src = img.get_attribute('data-lazy')\n",
    "        else:\n",
    "            src = img.get_attribute('src')\n",
    "            \n",
    "        #주소로 이미지 파일 요청\n",
    "        img_response = requests.get(src).content\n",
    "        \n",
    "        #파일 저장\n",
    "        file_path = f'{search_word}/{courrent_page}_{idx}.jpg'\n",
    "        with open(file_path, \"wb\") as file:\n",
    "            file.write(img_response)\n",
    "    \n",
    "    #마지막 페이지에서 종료\n",
    "    if courrent_page == total_count:\n",
    "        break\n",
    "    \n",
    "    #다음 페이지 클릭 조건이 트루는 조건이 많은 것을 넣어야 한다\n",
    "    if courrent_page >= 2:\n",
    "        next_page_button = driver.find_element(By.XPATH,'//*[@id=\"content\"]/div/div[1]/div/div[1]/div/a[2]')\n",
    "    else:\n",
    "        next_page_button = driver.find_element(By.XPATH,'//*[@id=\"content\"]/div/div[1]/div/div[1]/div/a')\n",
    "    next_page_button.click()\n",
    "    \n",
    "    sleep(1)\n",
    "print(\"작업끝\")"
   ]
  },
  {
   "cell_type": "code",
   "execution_count": 10,
   "id": "3545f107",
   "metadata": {
    "scrolled": true
   },
   "outputs": [
    {
     "name": "stdout",
     "output_type": "stream",
     "text": [
      "총 페이지 4\n",
      "1 넘어갔져\n",
      "2 넘어갔져\n"
     ]
    },
    {
     "ename": "NoSuchWindowException",
     "evalue": "Message: no such window: target window already closed\nfrom unknown error: web view not found\n  (Session info: chrome=112.0.5615.138)\nStacktrace:\nBacktrace:\n\tGetHandleVerifier [0x009EDCE3+50899]\n\t(No symbol) [0x0097E111]\n\t(No symbol) [0x00885588]\n\t(No symbol) [0x0086D333]\n\t(No symbol) [0x008CF4DB]\n\t(No symbol) [0x008DDB33]\n\t(No symbol) [0x008CB6F6]\n\t(No symbol) [0x008A7708]\n\t(No symbol) [0x008A886D]\n\tGetHandleVerifier [0x00C53EAE+2566302]\n\tGetHandleVerifier [0x00C892B1+2784417]\n\tGetHandleVerifier [0x00C8327C+2759788]\n\tGetHandleVerifier [0x00A85740+672048]\n\t(No symbol) [0x00988872]\n\t(No symbol) [0x009841C8]\n\t(No symbol) [0x009842AB]\n\t(No symbol) [0x009771B7]\n\tBaseThreadInitThunk [0x76D97D49+25]\n\tRtlInitializeExceptionChain [0x773FB74B+107]\n\tRtlClearBits [0x773FB6CF+191]\n",
     "output_type": "error",
     "traceback": [
      "\u001b[1;31m---------------------------------------------------------------------------\u001b[0m",
      "\u001b[1;31mNoSuchWindowException\u001b[0m                     Traceback (most recent call last)",
      "Cell \u001b[1;32mIn[10], line 40\u001b[0m\n\u001b[0;32m     37\u001b[0m \u001b[38;5;28;01mfor\u001b[39;00m courrent_page \u001b[38;5;129;01min\u001b[39;00m \u001b[38;5;28mrange\u001b[39m(\u001b[38;5;241m1\u001b[39m, total_count \u001b[38;5;241m+\u001b[39m\u001b[38;5;241m1\u001b[39m):\n\u001b[0;32m     38\u001b[0m     \u001b[38;5;28mprint\u001b[39m(\u001b[38;5;124mf\u001b[39m\u001b[38;5;124m'\u001b[39m\u001b[38;5;132;01m{\u001b[39;00mcourrent_page\u001b[38;5;132;01m}\u001b[39;00m\u001b[38;5;124m 넘어갔져\u001b[39m\u001b[38;5;124m'\u001b[39m)\n\u001b[1;32m---> 40\u001b[0m     img_elements \u001b[38;5;241m=\u001b[39m \u001b[43mdriver\u001b[49m\u001b[38;5;241;43m.\u001b[39;49m\u001b[43mfind_elements\u001b[49m\u001b[43m(\u001b[49m\u001b[43mBy\u001b[49m\u001b[38;5;241;43m.\u001b[39;49m\u001b[43mCSS_SELECTOR\u001b[49m\u001b[43m,\u001b[49m\u001b[43m \u001b[49m\u001b[38;5;124;43m'\u001b[39;49m\u001b[38;5;124;43ma>img[alt]\u001b[39;49m\u001b[38;5;124;43m'\u001b[39;49m\u001b[43m)\u001b[49m\n\u001b[0;32m     43\u001b[0m     \u001b[38;5;66;03m#if문을 스크롤로 변경하여 처리하기 \u001b[39;00m\n\u001b[0;32m     44\u001b[0m     \u001b[38;5;66;03m#if 문으로 딜레이 될 수 있다.\u001b[39;00m\n\u001b[0;32m     46\u001b[0m     \u001b[38;5;28;01mfor\u001b[39;00m idx, img \u001b[38;5;129;01min\u001b[39;00m \u001b[38;5;28menumerate\u001b[39m(img_elements, \u001b[38;5;241m1\u001b[39m):\n",
      "File \u001b[1;32m~\\anaconda3\\envs\\ex\\lib\\site-packages\\selenium\\webdriver\\remote\\webdriver.py:861\u001b[0m, in \u001b[0;36mWebDriver.find_elements\u001b[1;34m(self, by, value)\u001b[0m\n\u001b[0;32m    857\u001b[0m     value \u001b[38;5;241m=\u001b[39m \u001b[38;5;124mf\u001b[39m\u001b[38;5;124m'\u001b[39m\u001b[38;5;124m[name=\u001b[39m\u001b[38;5;124m\"\u001b[39m\u001b[38;5;132;01m{\u001b[39;00mvalue\u001b[38;5;132;01m}\u001b[39;00m\u001b[38;5;124m\"\u001b[39m\u001b[38;5;124m]\u001b[39m\u001b[38;5;124m'\u001b[39m\n\u001b[0;32m    859\u001b[0m \u001b[38;5;66;03m# Return empty list if driver returns null\u001b[39;00m\n\u001b[0;32m    860\u001b[0m \u001b[38;5;66;03m# See https://github.com/SeleniumHQ/selenium/issues/4555\u001b[39;00m\n\u001b[1;32m--> 861\u001b[0m \u001b[38;5;28;01mreturn\u001b[39;00m \u001b[38;5;28;43mself\u001b[39;49m\u001b[38;5;241;43m.\u001b[39;49m\u001b[43mexecute\u001b[49m\u001b[43m(\u001b[49m\u001b[43mCommand\u001b[49m\u001b[38;5;241;43m.\u001b[39;49m\u001b[43mFIND_ELEMENTS\u001b[49m\u001b[43m,\u001b[49m\u001b[43m \u001b[49m\u001b[43m{\u001b[49m\u001b[38;5;124;43m\"\u001b[39;49m\u001b[38;5;124;43musing\u001b[39;49m\u001b[38;5;124;43m\"\u001b[39;49m\u001b[43m:\u001b[49m\u001b[43m \u001b[49m\u001b[43mby\u001b[49m\u001b[43m,\u001b[49m\u001b[43m \u001b[49m\u001b[38;5;124;43m\"\u001b[39;49m\u001b[38;5;124;43mvalue\u001b[39;49m\u001b[38;5;124;43m\"\u001b[39;49m\u001b[43m:\u001b[49m\u001b[43m \u001b[49m\u001b[43mvalue\u001b[49m\u001b[43m}\u001b[49m\u001b[43m)\u001b[49m[\u001b[38;5;124m\"\u001b[39m\u001b[38;5;124mvalue\u001b[39m\u001b[38;5;124m\"\u001b[39m] \u001b[38;5;129;01mor\u001b[39;00m []\n",
      "File \u001b[1;32m~\\anaconda3\\envs\\ex\\lib\\site-packages\\selenium\\webdriver\\remote\\webdriver.py:440\u001b[0m, in \u001b[0;36mWebDriver.execute\u001b[1;34m(self, driver_command, params)\u001b[0m\n\u001b[0;32m    438\u001b[0m response \u001b[38;5;241m=\u001b[39m \u001b[38;5;28mself\u001b[39m\u001b[38;5;241m.\u001b[39mcommand_executor\u001b[38;5;241m.\u001b[39mexecute(driver_command, params)\n\u001b[0;32m    439\u001b[0m \u001b[38;5;28;01mif\u001b[39;00m response:\n\u001b[1;32m--> 440\u001b[0m     \u001b[38;5;28;43mself\u001b[39;49m\u001b[38;5;241;43m.\u001b[39;49m\u001b[43merror_handler\u001b[49m\u001b[38;5;241;43m.\u001b[39;49m\u001b[43mcheck_response\u001b[49m\u001b[43m(\u001b[49m\u001b[43mresponse\u001b[49m\u001b[43m)\u001b[49m\n\u001b[0;32m    441\u001b[0m     response[\u001b[38;5;124m\"\u001b[39m\u001b[38;5;124mvalue\u001b[39m\u001b[38;5;124m\"\u001b[39m] \u001b[38;5;241m=\u001b[39m \u001b[38;5;28mself\u001b[39m\u001b[38;5;241m.\u001b[39m_unwrap_value(response\u001b[38;5;241m.\u001b[39mget(\u001b[38;5;124m\"\u001b[39m\u001b[38;5;124mvalue\u001b[39m\u001b[38;5;124m\"\u001b[39m, \u001b[38;5;28;01mNone\u001b[39;00m))\n\u001b[0;32m    442\u001b[0m     \u001b[38;5;28;01mreturn\u001b[39;00m response\n",
      "File \u001b[1;32m~\\anaconda3\\envs\\ex\\lib\\site-packages\\selenium\\webdriver\\remote\\errorhandler.py:245\u001b[0m, in \u001b[0;36mErrorHandler.check_response\u001b[1;34m(self, response)\u001b[0m\n\u001b[0;32m    243\u001b[0m         alert_text \u001b[38;5;241m=\u001b[39m value[\u001b[38;5;124m\"\u001b[39m\u001b[38;5;124malert\u001b[39m\u001b[38;5;124m\"\u001b[39m]\u001b[38;5;241m.\u001b[39mget(\u001b[38;5;124m\"\u001b[39m\u001b[38;5;124mtext\u001b[39m\u001b[38;5;124m\"\u001b[39m)\n\u001b[0;32m    244\u001b[0m     \u001b[38;5;28;01mraise\u001b[39;00m exception_class(message, screen, stacktrace, alert_text)  \u001b[38;5;66;03m# type: ignore[call-arg]  # mypy is not smart enough here\u001b[39;00m\n\u001b[1;32m--> 245\u001b[0m \u001b[38;5;28;01mraise\u001b[39;00m exception_class(message, screen, stacktrace)\n",
      "\u001b[1;31mNoSuchWindowException\u001b[0m: Message: no such window: target window already closed\nfrom unknown error: web view not found\n  (Session info: chrome=112.0.5615.138)\nStacktrace:\nBacktrace:\n\tGetHandleVerifier [0x009EDCE3+50899]\n\t(No symbol) [0x0097E111]\n\t(No symbol) [0x00885588]\n\t(No symbol) [0x0086D333]\n\t(No symbol) [0x008CF4DB]\n\t(No symbol) [0x008DDB33]\n\t(No symbol) [0x008CB6F6]\n\t(No symbol) [0x008A7708]\n\t(No symbol) [0x008A886D]\n\tGetHandleVerifier [0x00C53EAE+2566302]\n\tGetHandleVerifier [0x00C892B1+2784417]\n\tGetHandleVerifier [0x00C8327C+2759788]\n\tGetHandleVerifier [0x00A85740+672048]\n\t(No symbol) [0x00988872]\n\t(No symbol) [0x009841C8]\n\t(No symbol) [0x009842AB]\n\t(No symbol) [0x009771B7]\n\tBaseThreadInitThunk [0x76D97D49+25]\n\tRtlInitializeExceptionChain [0x773FB74B+107]\n\tRtlClearBits [0x773FB6CF+191]\n"
     ]
    }
   ],
   "source": [
    "from selenium import webdriver\n",
    "from selenium.webdriver.common.keys import Keys\n",
    "from selenium.webdriver.common.by import By\n",
    "from time import sleep\n",
    "import os\n",
    "import urllib.request as request\n",
    "import requests\n",
    "from bs4 import BeautifulSoup\n",
    "\n",
    "#크롬 웹 브라우저 실행\n",
    "options = webdriver.ChromeOptions()\n",
    "options.add_argument('--start-maximized')\n",
    "driver = webdriver.Chrome(options=options)\n",
    "url = 'https://pixabay.com/ko/'\n",
    "driver.get(url)\n",
    "search_word = '청개구리'\n",
    "sleep(2)\n",
    "search_input = driver.find_element(By.XPATH, '//*[@id=\"app\"]/div[1]/div[1]/div[3]/div[1]/div/form/input')\n",
    "search_input.send_keys(search_word)\n",
    "search_input.send_keys(Keys.RETURN)\n",
    "\n",
    "\n",
    "total_page_element = driver.find_element(By.XPATH,'//*[@id=\"content\"]//form')\n",
    "total_count= int(total_page_element.text.replace('/',''))\n",
    "print(\"총 페이지\", total_count)\n",
    "\n",
    "#폴더 생성\n",
    "\n",
    "os.makedirs(search_word, exist_ok=True)\n",
    "sleep(2)\n",
    "\n",
    "# 페이지 하단 이동\n",
    "\n",
    "body_element = driver.find_element(By.TAG_NAME, 'body').send_keys(Keys.END)\n",
    "sleep(2)\n",
    "# 이미지 엘리먼트 추출\n",
    "\n",
    "for courrent_page in range(1, total_count +1):\n",
    "    print(f'{courrent_page} 넘어갔져')\n",
    "    \n",
    "    img_elements = driver.find_elements(By.CSS_SELECTOR, 'a>img[alt]')\n",
    "    \n",
    "    \n",
    "    #if문을 스크롤로 변경하여 처리하기 \n",
    "    #if 문으로 딜레이 될 수 있다.\n",
    "    \n",
    "    for idx, img in enumerate(img_elements, 1):\n",
    "        \n",
    "        src = img.get_attribute('src')\n",
    "            \n",
    "        #주소로 이미지 파일 요청\n",
    "        img_response = requests.get(src).content\n",
    "        \n",
    "        #파일 저장\n",
    "        file_path = f'{search_word}/{courrent_page}_{idx}.jpg'\n",
    "        with open(file_path, \"wb\") as file:\n",
    "            file.write(img_response)\n",
    "    \n",
    "    #마지막 페이지에서 종료\n",
    "    if courrent_page == total_count:\n",
    "        break\n",
    "    \n",
    "    #다음 페이지 클릭 조건이 트루는 조건이 많은 것을 넣어야 한다\n",
    "    if courrent_page >= 2:\n",
    "        next_page_button = driver.find_element(By.XPATH,'//*[@id=\"content\"]/div/div[1]/div/div[1]/div/a[2]')\n",
    "    else:\n",
    "        next_page_button = driver.find_element(By.XPATH,'//*[@id=\"content\"]/div/div[1]/div/div[1]/div/a')\n",
    "    next_page_button.click()\n",
    "    \n",
    "    sleep(1)\n",
    "print(\"작업끝\")"
   ]
  },
  {
   "cell_type": "code",
   "execution_count": null,
   "id": "56d08935",
   "metadata": {},
   "outputs": [],
   "source": []
  },
  {
   "cell_type": "code",
   "execution_count": null,
   "id": "371b6bb5",
   "metadata": {},
   "outputs": [],
   "source": []
  },
  {
   "cell_type": "code",
   "execution_count": null,
   "id": "76820e48",
   "metadata": {},
   "outputs": [],
   "source": []
  },
  {
   "cell_type": "code",
   "execution_count": null,
   "id": "da4f60d3",
   "metadata": {},
   "outputs": [],
   "source": []
  },
  {
   "cell_type": "code",
   "execution_count": null,
   "id": "d4c1e2af",
   "metadata": {},
   "outputs": [],
   "source": []
  }
 ],
 "metadata": {
  "kernelspec": {
   "display_name": "ex_kernel",
   "language": "python",
   "name": "ex"
  },
  "language_info": {
   "codemirror_mode": {
    "name": "ipython",
    "version": 3
   },
   "file_extension": ".py",
   "mimetype": "text/x-python",
   "name": "python",
   "nbconvert_exporter": "python",
   "pygments_lexer": "ipython3",
   "version": "3.8.10"
  }
 },
 "nbformat": 4,
 "nbformat_minor": 5
}
