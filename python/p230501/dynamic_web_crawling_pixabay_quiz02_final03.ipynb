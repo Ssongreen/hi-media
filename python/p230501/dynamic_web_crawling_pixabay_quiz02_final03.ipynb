{
 "cells": [
  {
   "cell_type": "code",
   "execution_count": null,
   "id": "6209d710",
   "metadata": {},
   "outputs": [],
   "source": [
    "'''\n",
    "[문제] 픽사베이에서 '구슬'을 검색하여, 검색된 모든 페이지의 이미지 다운로드\n",
    "- 다운로드 폴더 : 구슬\n",
    "- 파일명 : 페이지번호_순번.jpg\n",
    "'''"
   ]
  },
  {
   "cell_type": "code",
   "execution_count": 5,
   "id": "0651250a",
   "metadata": {},
   "outputs": [
    {
     "name": "stdout",
     "output_type": "stream",
     "text": [
      "검색해주세용 텔레토비\n"
     ]
    },
    {
     "ename": "ValueError",
     "evalue": "invalid literal for int() with base 10: ''",
     "output_type": "error",
     "traceback": [
      "\u001b[1;31m---------------------------------------------------------------------------\u001b[0m",
      "\u001b[1;31mValueError\u001b[0m                                Traceback (most recent call last)",
      "Cell \u001b[1;32mIn[5], line 28\u001b[0m\n\u001b[0;32m     23\u001b[0m search_input\u001b[38;5;241m.\u001b[39msend_keys(Keys\u001b[38;5;241m.\u001b[39mRETURN)\n\u001b[0;32m     26\u001b[0m total_page_element \u001b[38;5;241m=\u001b[39m driver\u001b[38;5;241m.\u001b[39mfind_element(By\u001b[38;5;241m.\u001b[39mXPATH,\u001b[38;5;124m'\u001b[39m\u001b[38;5;124m//*[@id=\u001b[39m\u001b[38;5;124m\"\u001b[39m\u001b[38;5;124mcontent\u001b[39m\u001b[38;5;124m\"\u001b[39m\u001b[38;5;124m]//form\u001b[39m\u001b[38;5;124m'\u001b[39m)\n\u001b[1;32m---> 28\u001b[0m total_count \u001b[38;5;241m=\u001b[39m \u001b[38;5;28;43mint\u001b[39;49m\u001b[43m(\u001b[49m\u001b[38;5;124;43m'\u001b[39;49m\u001b[38;5;124;43m'\u001b[39;49m\u001b[38;5;241;43m.\u001b[39;49m\u001b[43mjoin\u001b[49m\u001b[43m(\u001b[49m\u001b[38;5;28;43mfilter\u001b[39;49m\u001b[43m(\u001b[49m\u001b[38;5;28;43mstr\u001b[39;49m\u001b[38;5;241;43m.\u001b[39;49m\u001b[43misdigit\u001b[49m\u001b[43m,\u001b[49m\u001b[43m \u001b[49m\u001b[43mtotal_page_element\u001b[49m\u001b[38;5;241;43m.\u001b[39;49m\u001b[43mtext\u001b[49m\u001b[43m)\u001b[49m\u001b[43m)\u001b[49m\u001b[43m)\u001b[49m\n\u001b[0;32m     30\u001b[0m \u001b[38;5;28mprint\u001b[39m(\u001b[38;5;124m\"\u001b[39m\u001b[38;5;124m총 페이지\u001b[39m\u001b[38;5;124m\"\u001b[39m, total_count)\n\u001b[0;32m     32\u001b[0m \u001b[38;5;66;03m#폴더 생성\u001b[39;00m\n",
      "\u001b[1;31mValueError\u001b[0m: invalid literal for int() with base 10: ''"
     ]
    }
   ],
   "source": [
    "from selenium import webdriver\n",
    "from selenium.webdriver.common.keys import Keys\n",
    "from selenium.webdriver.common.by import By\n",
    "from time import sleep\n",
    "import os\n",
    "import urllib.request as request\n",
    "import requests\n",
    "from bs4 import BeautifulSoup\n",
    "\n",
    "#크롬 웹 브라우저 실행\n",
    "options = webdriver.ChromeOptions()\n",
    "options.add_argument('headless')\n",
    "options.add_argument('user-agent=Mozilla/5.0 (Windows NT 10.0; Win64; x64) AppleWebKit/537.36 (KHTML, like Gecko) Chrome/112.0.0.0 Safari/537.36')\n",
    "options.add_argument('lang=ko_KR')\n",
    "options.add_argument('--window-size=1920,1800')\n",
    "driver = webdriver.Chrome(options=options)\n",
    "url = 'https://pixabay.com/ko/'\n",
    "driver.get(url)\n",
    "search_word = input(\"검색해주세용\")\n",
    "sleep(2)\n",
    "search_input = driver.find_element(By.XPATH, '//*[@id=\"app\"]/div[1]/div[1]/div[3]/div[1]/div/form/input')\n",
    "search_input.send_keys(search_word)\n",
    "search_input.send_keys(Keys.RETURN)\n",
    "\n",
    "\n",
    "total_page_element = driver.find_element(By.XPATH,'//*[@id=\"content\"]//form')\n",
    "\n",
    "total_count= int(total_page_element.text.replace('/',''))\n",
    "\n",
    "print(\"총 페이지\", total_count)\n",
    "\n",
    "#폴더 생성\n",
    "\n",
    "os.makedirs(search_word, exist_ok=True)\n",
    "sleep(2)\n",
    "\n",
    "# 페이지 하단 이동\n",
    "# 이미지 엘리먼트 추출\n",
    "\n",
    "for courrent_page in range(1, total_count +1):\n",
    "    print(f'{courrent_page} 넘어갔져')\n",
    "    # 페이지 하단 이동\n",
    "    body_element = driver.find_element(By.TAG_NAME, 'body').send_keys(Keys.END)\n",
    "    sleep(2)\n",
    "    \n",
    "    img_elements = driver.find_elements(By.CSS_SELECTOR, 'a>img[alt]')\n",
    "    \n",
    "    \n",
    "    #if문을 스크롤로 변경하여 처리하기 \n",
    "    #if 문으로 딜레이 될 수 있다.\n",
    "    \n",
    "    for idx, img in enumerate(img_elements, 1):\n",
    "        \n",
    "        src = img.get_attribute('src')\n",
    "            \n",
    "        #주소로 이미지 파일 요청\n",
    "        img_response = requests.get(src).content\n",
    "        \n",
    "        #파일 저장\n",
    "        file_path = f'{search_word}/{courrent_page}_{idx}.jpg'\n",
    "        with open(file_path, \"wb\") as file:\n",
    "            file.write(img_response)\n",
    "    \n",
    "    #마지막 페이지에서 종료\n",
    "    if courrent_page == total_count:\n",
    "        break\n",
    "    \n",
    "    #다음 페이지 클릭 조건이 트루는 조건이 많은 것을 넣어야 한다\n",
    "    if courrent_page >= 2:\n",
    "        next_page_button = driver.find_element(By.XPATH,'//*[@id=\"content\"]/div/div[1]/div/div[1]/div/a[2]')\n",
    "    else:\n",
    "        next_page_button = driver.find_element(By.XPATH,'//*[@id=\"content\"]/div/div[1]/div/div[1]/div/a')\n",
    "    next_page_button.click()\n",
    "    \n",
    "    sleep(1)\n",
    "print(\"작업끝\")"
   ]
  },
  {
   "cell_type": "code",
   "execution_count": null,
   "id": "56d08935",
   "metadata": {},
   "outputs": [],
   "source": []
  },
  {
   "cell_type": "code",
   "execution_count": null,
   "id": "371b6bb5",
   "metadata": {},
   "outputs": [],
   "source": []
  },
  {
   "cell_type": "code",
   "execution_count": null,
   "id": "76820e48",
   "metadata": {},
   "outputs": [],
   "source": []
  },
  {
   "cell_type": "code",
   "execution_count": null,
   "id": "da4f60d3",
   "metadata": {},
   "outputs": [],
   "source": []
  },
  {
   "cell_type": "code",
   "execution_count": null,
   "id": "d4c1e2af",
   "metadata": {},
   "outputs": [],
   "source": []
  }
 ],
 "metadata": {
  "kernelspec": {
   "display_name": "ex_kernel",
   "language": "python",
   "name": "ex"
  },
  "language_info": {
   "codemirror_mode": {
    "name": "ipython",
    "version": 3
   },
   "file_extension": ".py",
   "mimetype": "text/x-python",
   "name": "python",
   "nbconvert_exporter": "python",
   "pygments_lexer": "ipython3",
   "version": "3.8.10"
  }
 },
 "nbformat": 4,
 "nbformat_minor": 5
}
