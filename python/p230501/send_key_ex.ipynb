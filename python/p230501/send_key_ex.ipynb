{
 "cells": [
  {
   "cell_type": "code",
   "execution_count": 1,
   "id": "cbce79ca",
   "metadata": {},
   "outputs": [],
   "source": [
    "from selenium import webdriver\n",
    "from selenium.webdriver.common.keys import Keys\n",
    "from selenium.webdriver.common.by import By\n",
    "from time import sleep"
   ]
  },
  {
   "cell_type": "code",
   "execution_count": 40,
   "id": "44c03d7d",
   "metadata": {},
   "outputs": [],
   "source": [
    "## 1. 크롬 웹 브라우저 실행\n",
    "driver = webdriver.Chrome()\n",
    "\n",
    "## 2. 네이버 접속\n",
    "driver.get('https://www.naver.com/')\n",
    "\n",
    "## 3. body 엘리먼트 추출\n",
    "body_element = driver.find_element(By.TAG_NAME, 'body')\n",
    "\n",
    "sleep(2)\n",
    "\n",
    "## page down 1회 실행\n",
    "# body_element.send_keys(Keys.PAGE_DOWN)\n",
    "\n",
    "## page down 2회 실행\n",
    "# body_element.send_keys(Keys.PAGE_DOWN, Keys.PAGE_DOWN)\n",
    "# body_element.send_keys(Keys.PAGE_DOWN + Keys.PAGE_DOWN)\n",
    "\n",
    "## end : 페이지 하단으로 이동\n",
    "# body_element.send_keys(Keys.END)\n",
    "# body_element.send_keys(Keys.CONTROL + Keys.END)\n",
    "\n",
    "sleep(2)\n",
    "\n",
    "## home : 페이지 상단으로 이동\n",
    "# body_element.send_keys(Keys.HOME)\n",
    "# body_element.send_keys(Keys.CONTROL + Keys.HOME)\n",
    "\n",
    "## 페이지 하단으로 이동 후, 오른쪽 이동\n",
    "# body_element.send_keys(Keys.END, Keys.ARROW_RIGHT)\n",
    "\n",
    "\n",
    "## [문제 1] 뉴스를 새 탭에서 열고, 뉴스 탭으로 이동 후 탭 닫기\n",
    "## 뉴스를 새 탭에서 열기\n",
    "news_tab = '//*[@id=\"NM_FAVORITE\"]/div[1]/ul[2]/li[2]/a'\n",
    "body_element.find_element(By.XPATH, news_tab).send_keys(Keys.CONTROL + Keys.ENTER)\n",
    "sleep(1)\n",
    "\n",
    "driver.switch_to.window(driver.window_handles[1])\n",
    "sleep(1)\n",
    "driver.close()\n",
    "\n",
    "driver.switch_to.window(driver.window_handles[0])\n",
    "\n",
    "## [문제 2] 회원가입을 새 탭에서 열고, 회원가입 탭으로 이동 후 웹 브라우저(모든 탭) 닫기\n",
    "member_join = '//*[@id=\"account\"]/div/a'\n",
    "body_element.find_element(By.XPATH, member_join).send_keys(Keys.CONTROL + Keys.ENTER)\n",
    "sleep(2)\n",
    "\n",
    "driver.switch_to.window(driver.window_handles[1])\n",
    "\n",
    "## [문제] 회원가입을 새 창에서 열기\n",
    "# body_element.find_element(By.XPATH, member_join).send_keys(Keys.SHIFT + Keys.ENTER)\n",
    "\n",
    "driver.quit()"
   ]
  },
  {
   "cell_type": "code",
   "execution_count": 22,
   "id": "257bf915",
   "metadata": {},
   "outputs": [],
   "source": [
    "## 탭 하나 닫기\n",
    "driver.close()"
   ]
  },
  {
   "cell_type": "code",
   "execution_count": 32,
   "id": "78e40435",
   "metadata": {},
   "outputs": [],
   "source": [
    "## 탭, 새 창 모두 닫음\n",
    "driver.quit()"
   ]
  },
  {
   "cell_type": "code",
   "execution_count": 34,
   "id": "f077c4f3",
   "metadata": {},
   "outputs": [
    {
     "data": {
      "text/plain": [
       "['A422BB15F253883AB04F1AA42F0C6E0B',\n",
       " '92BEB16431381AC3E6E0BDB58E657B8E',\n",
       " '10AA5BF8B52A1F38F488EDB637656F7C',\n",
       " 'C7D533E94BEAA5BDDE917BCB4232BEC9']"
      ]
     },
     "execution_count": 34,
     "metadata": {},
     "output_type": "execute_result"
    }
   ],
   "source": [
    "## 윈도우 이름 ##################\n",
    "## 이름은 자동으로 부여\n",
    "## type : list\n",
    "#################################\n",
    "driver.window_handles\n",
    "# type(driver.window_handles)"
   ]
  },
  {
   "cell_type": "code",
   "execution_count": 38,
   "id": "1915d871",
   "metadata": {},
   "outputs": [],
   "source": [
    "## 탭 이동\n",
    "## [문법] driver.switch_to.window(윈도우이름)\n",
    "driver.switch_to.window(driver.window_handles[3])"
   ]
  }
 ],
 "metadata": {
  "kernelspec": {
   "display_name": "ex_kernel",
   "language": "python",
   "name": "ex"
  },
  "language_info": {
   "codemirror_mode": {
    "name": "ipython",
    "version": 3
   },
   "file_extension": ".py",
   "mimetype": "text/x-python",
   "name": "python",
   "nbconvert_exporter": "python",
   "pygments_lexer": "ipython3",
   "version": "3.8.10"
  }
 },
 "nbformat": 4,
 "nbformat_minor": 5
}
