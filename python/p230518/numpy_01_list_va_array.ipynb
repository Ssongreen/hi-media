{
 "cells": [
  {
   "cell_type": "markdown",
   "id": "bb64353d",
   "metadata": {},
   "source": [
    "# 요소 차이\n",
    "- list: 숫자형, 문자열 등 모든 자료 타입을 가질 수 있음 (여러 자료형 허용)\n",
    "- array: 숫자형과 문자열이 혼합되면 모두 문자열로 변환(한 가지 자료형만 허용)"
   ]
  },
  {
   "cell_type": "code",
   "execution_count": 1,
   "id": "02af6dfd",
   "metadata": {},
   "outputs": [],
   "source": [
    "import numpy as np"
   ]
  },
  {
   "cell_type": "code",
   "execution_count": 2,
   "id": "bd6735fe",
   "metadata": {},
   "outputs": [],
   "source": [
    "lt = [1,3,'a','b']\n",
    "ar = np.array([1,3,'a','b'])"
   ]
  },
  {
   "cell_type": "code",
   "execution_count": 3,
   "id": "907ec708",
   "metadata": {},
   "outputs": [
    {
     "data": {
      "text/plain": [
       "[1, 3, 'a', 'b']"
      ]
     },
     "execution_count": 3,
     "metadata": {},
     "output_type": "execute_result"
    }
   ],
   "source": [
    "lt"
   ]
  },
  {
   "cell_type": "code",
   "execution_count": 4,
   "id": "778a8d00",
   "metadata": {
    "scrolled": true
   },
   "outputs": [
    {
     "data": {
      "text/plain": [
       "array(['1', '3', 'a', 'b'], dtype='<U11')"
      ]
     },
     "execution_count": 4,
     "metadata": {},
     "output_type": "execute_result"
    }
   ],
   "source": [
    "ar"
   ]
  },
  {
   "cell_type": "markdown",
   "id": "4c1107b2",
   "metadata": {},
   "source": [
    "## 배열의 요소는 같은 타입만 가능"
   ]
  },
  {
   "cell_type": "markdown",
   "id": "c493e25a",
   "metadata": {},
   "source": [
    "# 2차원 이상일 경우 원소 개수"
   ]
  },
  {
   "cell_type": "code",
   "execution_count": 5,
   "id": "94336a81",
   "metadata": {},
   "outputs": [],
   "source": [
    "lt = [[1],[3,5],[7,9,10]]\n",
    "# ar = np.array([[1],[3,5],[7,9,10]]) # Error"
   ]
  },
  {
   "cell_type": "code",
   "execution_count": 6,
   "id": "2dc7c9ef",
   "metadata": {},
   "outputs": [],
   "source": [
    "lt = [[1],[3,5],[7,9,10]]"
   ]
  },
  {
   "cell_type": "code",
   "execution_count": 7,
   "id": "f1b1858a",
   "metadata": {},
   "outputs": [
    {
     "data": {
      "text/plain": [
       "[[1], [3, 5], [7, 9, 10]]"
      ]
     },
     "execution_count": 7,
     "metadata": {},
     "output_type": "execute_result"
    }
   ],
   "source": [
    "lt"
   ]
  },
  {
   "cell_type": "code",
   "execution_count": 8,
   "id": "5632117d",
   "metadata": {},
   "outputs": [],
   "source": [
    "ar = np.array([[1,3],[3,5],[7,9]])"
   ]
  },
  {
   "cell_type": "code",
   "execution_count": 9,
   "id": "0d4f23e5",
   "metadata": {},
   "outputs": [
    {
     "data": {
      "text/plain": [
       "array([[1, 3],\n",
       "       [3, 5],\n",
       "       [7, 9]])"
      ]
     },
     "execution_count": 9,
     "metadata": {},
     "output_type": "execute_result"
    }
   ],
   "source": [
    "ar"
   ]
  },
  {
   "cell_type": "markdown",
   "id": "b384f7ba",
   "metadata": {},
   "source": [
    "# 연산\n",
    "- list : 리스트 간 + 연산은 concatenate 수행 (-,*,/ 연산 불가능)\n",
    "- array : +.-,*,/ 가능"
   ]
  },
  {
   "cell_type": "code",
   "execution_count": 16,
   "id": "e30217bd",
   "metadata": {},
   "outputs": [],
   "source": [
    "lt_one = [1,3,5]\n",
    "lt_two = [2,4,6]"
   ]
  },
  {
   "cell_type": "code",
   "execution_count": 17,
   "id": "a5619105",
   "metadata": {},
   "outputs": [
    {
     "data": {
      "text/plain": [
       "[1, 3, 5, 2, 4, 6]"
      ]
     },
     "execution_count": 17,
     "metadata": {},
     "output_type": "execute_result"
    }
   ],
   "source": [
    "lt_one + lt_two #연산자가 아니라, 둘을 합치는 것"
   ]
  },
  {
   "cell_type": "code",
   "execution_count": 18,
   "id": "04308c6c",
   "metadata": {},
   "outputs": [
    {
     "ename": "TypeError",
     "evalue": "unsupported operand type(s) for -: 'list' and 'list'",
     "output_type": "error",
     "traceback": [
      "\u001b[1;31m---------------------------------------------------------------------------\u001b[0m",
      "\u001b[1;31mTypeError\u001b[0m                                 Traceback (most recent call last)",
      "Cell \u001b[1;32mIn[18], line 2\u001b[0m\n\u001b[0;32m      1\u001b[0m \u001b[38;5;66;03m#뺼셈 \u001b[39;00m\n\u001b[1;32m----> 2\u001b[0m \u001b[43mlt_one\u001b[49m\u001b[43m \u001b[49m\u001b[38;5;241;43m-\u001b[39;49m\u001b[43m \u001b[49m\u001b[43mlt_two\u001b[49m\n",
      "\u001b[1;31mTypeError\u001b[0m: unsupported operand type(s) for -: 'list' and 'list'"
     ]
    }
   ],
   "source": [
    "#뺼셈 \n",
    "lt_one - lt_two"
   ]
  },
  {
   "cell_type": "code",
   "execution_count": 19,
   "id": "c53b4a73",
   "metadata": {},
   "outputs": [
    {
     "data": {
      "text/plain": [
       "[1, 3, 5, 1, 3, 5, 1, 3, 5]"
      ]
     },
     "execution_count": 19,
     "metadata": {},
     "output_type": "execute_result"
    }
   ],
   "source": [
    "lt_one * 3 # 세번 보여줘 이다."
   ]
  },
  {
   "cell_type": "code",
   "execution_count": 20,
   "id": "6852b9ba",
   "metadata": {},
   "outputs": [],
   "source": [
    "ar_one = np.array([1, 3, 5])\n",
    "ar_two = np.array([2, 4, 6])"
   ]
  },
  {
   "cell_type": "code",
   "execution_count": 21,
   "id": "6100b605",
   "metadata": {},
   "outputs": [
    {
     "data": {
      "text/plain": [
       "array([ 3,  7, 11])"
      ]
     },
     "execution_count": 21,
     "metadata": {},
     "output_type": "execute_result"
    }
   ],
   "source": [
    "ar_one + ar_two"
   ]
  },
  {
   "cell_type": "code",
   "execution_count": 22,
   "id": "56eb6097",
   "metadata": {},
   "outputs": [
    {
     "data": {
      "text/plain": [
       "array([-1, -1, -1])"
      ]
     },
     "execution_count": 22,
     "metadata": {},
     "output_type": "execute_result"
    }
   ],
   "source": [
    "ar_one - ar_two"
   ]
  },
  {
   "cell_type": "code",
   "execution_count": 23,
   "id": "632a40d9",
   "metadata": {},
   "outputs": [
    {
     "data": {
      "text/plain": [
       "array([ 3,  9, 15])"
      ]
     },
     "execution_count": 23,
     "metadata": {},
     "output_type": "execute_result"
    }
   ],
   "source": [
    "ar_one *3"
   ]
  },
  {
   "cell_type": "code",
   "execution_count": 24,
   "id": "998c1af5",
   "metadata": {},
   "outputs": [
    {
     "data": {
      "text/plain": [
       "array([0.33333333, 1.        , 1.66666667])"
      ]
     },
     "execution_count": 24,
     "metadata": {},
     "output_type": "execute_result"
    }
   ],
   "source": [
    "ar_one / 3"
   ]
  },
  {
   "cell_type": "markdown",
   "id": "5ca5f2c7",
   "metadata": {},
   "source": [
    "# 연산 속도\n",
    "- time.time()\n",
    "    - 1970년 1월 1일 0시 0분 0초 이후 경과한 시간을 초단위로 반환\n",
    "    - 전수부는 초단위, 소수부는 마이크로 초단위\n",
    "    - 마이크로초 : 백만 분의 1초"
   ]
  },
  {
   "cell_type": "code",
   "execution_count": 29,
   "id": "e667e416",
   "metadata": {},
   "outputs": [
    {
     "name": "stdout",
     "output_type": "stream",
     "text": [
      "9.441169738769531\n"
     ]
    }
   ],
   "source": [
    "import time\n",
    "\n",
    "#리스트 연산 속도\n",
    "lt = list(range(10 ** 8))\n",
    "\n",
    "start = time.time()\n",
    "\n",
    "for i in lt:\n",
    "    lt[i] *= 2\n",
    "    \n",
    "end = time.time()\n",
    "print(end - start)"
   ]
  },
  {
   "cell_type": "code",
   "execution_count": 30,
   "id": "721846c2",
   "metadata": {},
   "outputs": [
    {
     "name": "stdout",
     "output_type": "stream",
     "text": [
      "0.12994384765625\n"
     ]
    }
   ],
   "source": [
    "ar = np.array(range(10**8))\n",
    "\n",
    "start = time.time()\n",
    "\n",
    "ar = ar*2\n",
    "\n",
    "end = time.time()\n",
    "\n",
    "print(end - start)"
   ]
  },
  {
   "cell_type": "code",
   "execution_count": 36,
   "id": "56cb51e6",
   "metadata": {},
   "outputs": [
    {
     "name": "stderr",
     "output_type": "stream",
     "text": [
      "UsageError: Line magic function `%changekernel` not found.\n"
     ]
    }
   ],
   "source": [
    "%changekernel ex_kernel"
   ]
  },
  {
   "cell_type": "code",
   "execution_count": null,
   "id": "f2385c3b",
   "metadata": {},
   "outputs": [],
   "source": []
  },
  {
   "cell_type": "code",
   "execution_count": null,
   "id": "7f195ffb",
   "metadata": {},
   "outputs": [],
   "source": []
  },
  {
   "cell_type": "code",
   "execution_count": null,
   "id": "357cd97c",
   "metadata": {},
   "outputs": [],
   "source": []
  },
  {
   "cell_type": "code",
   "execution_count": null,
   "id": "52c02865",
   "metadata": {},
   "outputs": [],
   "source": []
  },
  {
   "cell_type": "code",
   "execution_count": null,
   "id": "61f9436d",
   "metadata": {},
   "outputs": [],
   "source": []
  },
  {
   "cell_type": "code",
   "execution_count": null,
   "id": "8d4a19ea",
   "metadata": {},
   "outputs": [],
   "source": []
  },
  {
   "cell_type": "code",
   "execution_count": null,
   "id": "49e89ef1",
   "metadata": {},
   "outputs": [],
   "source": []
  }
 ],
 "metadata": {
  "kernelspec": {
   "display_name": "ex_kernel",
   "language": "python",
   "name": "ex"
  },
  "language_info": {
   "codemirror_mode": {
    "name": "ipython",
    "version": 3
   },
   "file_extension": ".py",
   "mimetype": "text/x-python",
   "name": "python",
   "nbconvert_exporter": "python",
   "pygments_lexer": "ipython3",
   "version": "3.8.10"
  },
  "toc": {
   "base_numbering": 1,
   "nav_menu": {},
   "number_sections": true,
   "sideBar": true,
   "skip_h1_title": false,
   "title_cell": "Table of Contents",
   "title_sidebar": "Contents",
   "toc_cell": false,
   "toc_position": {},
   "toc_section_display": true,
   "toc_window_display": false
  }
 },
 "nbformat": 4,
 "nbformat_minor": 5
}
