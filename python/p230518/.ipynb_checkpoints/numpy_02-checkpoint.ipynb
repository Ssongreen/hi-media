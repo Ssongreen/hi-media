{
 "cells": [
  {
   "cell_type": "markdown",
   "id": "74fe4e53",
   "metadata": {},
   "source": [
    "# numpy ndarray 개용\n",
    "- ndarray : n - dimenetional array"
   ]
  },
  {
   "cell_type": "code",
   "execution_count": 1,
   "id": "e292e2ce",
   "metadata": {},
   "outputs": [],
   "source": [
    "import numpy as np"
   ]
  },
  {
   "cell_type": "code",
   "execution_count": 2,
   "id": "3c51eee9",
   "metadata": {},
   "outputs": [
    {
     "name": "stdout",
     "output_type": "stream",
     "text": [
      "<class 'list'>\n",
      "<class 'numpy.ndarray'>\n",
      "(3,)\n"
     ]
    }
   ],
   "source": [
    "lt = [1,2,3]\n",
    "print(type(lt))\n",
    "\n",
    "ar= np.array(lt)\n",
    "print(type(ar))\n",
    "print(ar.shape)"
   ]
  },
  {
   "cell_type": "code",
   "execution_count": 3,
   "id": "943bf45d",
   "metadata": {},
   "outputs": [
    {
     "name": "stdout",
     "output_type": "stream",
     "text": [
      "<class 'numpy.ndarray'>\n"
     ]
    }
   ],
   "source": [
    "ar2 = np.array([[1,2,3],[2,3,4]])\n",
    "print(type(ar2))"
   ]
  },
  {
   "cell_type": "code",
   "execution_count": 4,
   "id": "9678b742",
   "metadata": {},
   "outputs": [],
   "source": [
    "ar3 = np.array([[1,2,3]])"
   ]
  },
  {
   "cell_type": "code",
   "execution_count": 5,
   "id": "9da160f4",
   "metadata": {},
   "outputs": [
    {
     "data": {
      "text/plain": [
       "numpy.ndarray"
      ]
     },
     "execution_count": 5,
     "metadata": {},
     "output_type": "execute_result"
    }
   ],
   "source": [
    "type(ar3)"
   ]
  },
  {
   "cell_type": "code",
   "execution_count": 6,
   "id": "377e3006",
   "metadata": {},
   "outputs": [
    {
     "data": {
      "text/plain": [
       "(1, 3)"
      ]
     },
     "execution_count": 6,
     "metadata": {},
     "output_type": "execute_result"
    }
   ],
   "source": [
    "ar3.shape"
   ]
  },
  {
   "cell_type": "code",
   "execution_count": 7,
   "id": "f5735c81",
   "metadata": {},
   "outputs": [
    {
     "data": {
      "text/plain": [
       "1"
      ]
     },
     "execution_count": 7,
     "metadata": {},
     "output_type": "execute_result"
    }
   ],
   "source": [
    "ar.ndim"
   ]
  },
  {
   "cell_type": "code",
   "execution_count": 8,
   "id": "568355d8",
   "metadata": {},
   "outputs": [
    {
     "data": {
      "text/plain": [
       "2"
      ]
     },
     "execution_count": 8,
     "metadata": {},
     "output_type": "execute_result"
    }
   ],
   "source": [
    "ar2.ndim"
   ]
  },
  {
   "cell_type": "markdown",
   "id": "92fb2fb6",
   "metadata": {},
   "source": [
    "# ndarray 데이터 타입"
   ]
  },
  {
   "cell_type": "code",
   "execution_count": 9,
   "id": "daa5b6bb",
   "metadata": {},
   "outputs": [
    {
     "name": "stdout",
     "output_type": "stream",
     "text": [
      "<class 'numpy.ndarray'>\n",
      "float64\n",
      "(4,)\n"
     ]
    }
   ],
   "source": [
    "ar = np.array([1,2,3,2.5])\n",
    "ar\n",
    "print(type(ar))\n",
    "print(ar.dtype)\n",
    "print(ar.shape)"
   ]
  },
  {
   "cell_type": "code",
   "execution_count": 10,
   "id": "34679550",
   "metadata": {},
   "outputs": [
    {
     "data": {
      "text/plain": [
       "array(['1', '2', 'test'], dtype='<U11')"
      ]
     },
     "execution_count": 10,
     "metadata": {},
     "output_type": "execute_result"
    }
   ],
   "source": [
    "ar2 = np.array([1,2,'test'])\n",
    "ar2"
   ]
  },
  {
   "cell_type": "code",
   "execution_count": 11,
   "id": "52640426",
   "metadata": {},
   "outputs": [
    {
     "data": {
      "text/plain": [
       "dtype('int32')"
      ]
     },
     "execution_count": 11,
     "metadata": {},
     "output_type": "execute_result"
    }
   ],
   "source": [
    "## 타입 변경 : int - > float \n",
    "ar_int = np.array([1,2,3])\n",
    "ar_int.dtype"
   ]
  },
  {
   "cell_type": "code",
   "execution_count": 12,
   "id": "d83bc659",
   "metadata": {},
   "outputs": [
    {
     "data": {
      "text/plain": [
       "dtype('float64')"
      ]
     },
     "execution_count": 12,
     "metadata": {},
     "output_type": "execute_result"
    }
   ],
   "source": [
    "ar_int=ar_int.astype(float)\n",
    "ar_int.dtype"
   ]
  },
  {
   "cell_type": "code",
   "execution_count": 13,
   "id": "a8dcdc30",
   "metadata": {},
   "outputs": [],
   "source": [
    "# 소숫점 절삭해용"
   ]
  },
  {
   "cell_type": "code",
   "execution_count": 14,
   "id": "a56462fc",
   "metadata": {},
   "outputs": [
    {
     "data": {
      "text/plain": [
       "array([1, 2, 3])"
      ]
     },
     "execution_count": 14,
     "metadata": {},
     "output_type": "execute_result"
    }
   ],
   "source": [
    "ar_flaot2 = np.array([1.2,2.5,3.8])\n",
    "ar_flaot2.astype(int)"
   ]
  },
  {
   "cell_type": "markdown",
   "id": "3c173802",
   "metadata": {},
   "source": [
    "# ndarray를 편하게 생성 - arange, zoros, ones"
   ]
  },
  {
   "cell_type": "code",
   "execution_count": 15,
   "id": "75d566d3",
   "metadata": {},
   "outputs": [
    {
     "data": {
      "text/plain": [
       "range(0, 10)"
      ]
     },
     "execution_count": 15,
     "metadata": {},
     "output_type": "execute_result"
    }
   ],
   "source": [
    "range(10)"
   ]
  },
  {
   "cell_type": "code",
   "execution_count": 16,
   "id": "347bc388",
   "metadata": {},
   "outputs": [
    {
     "data": {
      "text/plain": [
       "array([0, 1, 2, 3, 4, 5, 6, 7, 8, 9])"
      ]
     },
     "execution_count": 16,
     "metadata": {},
     "output_type": "execute_result"
    }
   ],
   "source": [
    "np.arange(10)"
   ]
  },
  {
   "cell_type": "code",
   "execution_count": 17,
   "id": "7026762f",
   "metadata": {},
   "outputs": [
    {
     "data": {
      "text/plain": [
       "array([5, 6, 7, 8, 9])"
      ]
     },
     "execution_count": 17,
     "metadata": {},
     "output_type": "execute_result"
    }
   ],
   "source": [
    "np.arange(5,10)"
   ]
  },
  {
   "cell_type": "code",
   "execution_count": 18,
   "id": "853ea0fc",
   "metadata": {},
   "outputs": [
    {
     "data": {
      "text/plain": [
       "array([1, 3, 5, 7, 9])"
      ]
     },
     "execution_count": 18,
     "metadata": {},
     "output_type": "execute_result"
    }
   ],
   "source": [
    "np.arange(1,10,2)"
   ]
  },
  {
   "cell_type": "code",
   "execution_count": 19,
   "id": "8b15c826",
   "metadata": {},
   "outputs": [
    {
     "data": {
      "text/plain": [
       "array([1. , 1.5, 2. , 2.5, 3. , 3.5, 4. , 4.5, 5. , 5.5, 6. , 6.5, 7. ,\n",
       "       7.5, 8. , 8.5, 9. , 9.5])"
      ]
     },
     "execution_count": 19,
     "metadata": {},
     "output_type": "execute_result"
    }
   ],
   "source": [
    "#소수 형태 가능\n",
    "np.arange(1,10,0.5)"
   ]
  },
  {
   "cell_type": "code",
   "execution_count": 20,
   "id": "0c722674",
   "metadata": {},
   "outputs": [
    {
     "name": "stdout",
     "output_type": "stream",
     "text": [
      "<class 'numpy.ndarray'>\n",
      "[0 1 2 3 4 5 6 7 8 9]\n",
      "int32\n",
      "(10,)\n"
     ]
    }
   ],
   "source": [
    "sequence_ar = np.arange(10)\n",
    "sequence_ar\n",
    "\n",
    "print(type(sequence_ar))\n",
    "\n",
    "print(sequence_ar) #콤마 없어용\n",
    "\n",
    "print(sequence_ar.dtype) #콤마 없어용\n",
    "\n",
    "print(sequence_ar.shape) #콤마 없어용"
   ]
  },
  {
   "cell_type": "code",
   "execution_count": 21,
   "id": "b193b833",
   "metadata": {},
   "outputs": [
    {
     "data": {
      "text/plain": [
       "array([[0., 0.],\n",
       "       [0., 0.],\n",
       "       [0., 0.]])"
      ]
     },
     "execution_count": 21,
     "metadata": {},
     "output_type": "execute_result"
    }
   ],
   "source": [
    "# 모든 요소 0인 ndarray 생성\n",
    "# shape : 3,2\n",
    "# dtype : int 32\n",
    "zero_ar = np.zeros((3,2))\n",
    "zero_ar"
   ]
  },
  {
   "cell_type": "code",
   "execution_count": 22,
   "id": "95e38665",
   "metadata": {},
   "outputs": [
    {
     "data": {
      "text/plain": [
       "dtype('float64')"
      ]
     },
     "execution_count": 22,
     "metadata": {},
     "output_type": "execute_result"
    }
   ],
   "source": [
    "zero_ar.dtype"
   ]
  },
  {
   "cell_type": "code",
   "execution_count": 23,
   "id": "4ea5d013",
   "metadata": {},
   "outputs": [
    {
     "data": {
      "text/plain": [
       "dtype('int32')"
      ]
     },
     "execution_count": 23,
     "metadata": {},
     "output_type": "execute_result"
    }
   ],
   "source": [
    "zero_ar = np.zeros((3,2), dtype=int)\n",
    "zero_ar.dtype"
   ]
  },
  {
   "cell_type": "code",
   "execution_count": 24,
   "id": "d357e9ff",
   "metadata": {},
   "outputs": [
    {
     "name": "stdout",
     "output_type": "stream",
     "text": [
      "[[1. 1.]\n",
      " [1. 1.]\n",
      " [1. 1.]]\n",
      "float64\n",
      "(3, 2)\n"
     ]
    }
   ],
   "source": [
    "# 모든 요소 1인 ndarray 생성\n",
    "# shape : 3,2\n",
    "# dtype : float64\n",
    "one_ar = np.ones((3,2))\n",
    "print(one_ar)\n",
    "print(one_ar.dtype)\n",
    "print(one_ar.shape)"
   ]
  },
  {
   "cell_type": "markdown",
   "id": "ee575932",
   "metadata": {},
   "source": [
    "# ndarray의 차원 변경 : reshape"
   ]
  },
  {
   "cell_type": "code",
   "execution_count": 25,
   "id": "4ee5e05b",
   "metadata": {},
   "outputs": [
    {
     "data": {
      "text/plain": [
       "array([0, 1, 2, 3, 4, 5, 6, 7, 8, 9])"
      ]
     },
     "execution_count": 25,
     "metadata": {},
     "output_type": "execute_result"
    }
   ],
   "source": [
    "ar = np.arange(10)\n",
    "ar"
   ]
  },
  {
   "cell_type": "code",
   "execution_count": 26,
   "id": "391670f8",
   "metadata": {},
   "outputs": [
    {
     "data": {
      "text/plain": [
       "(10,)"
      ]
     },
     "execution_count": 26,
     "metadata": {},
     "output_type": "execute_result"
    }
   ],
   "source": [
    "ar.shape"
   ]
  },
  {
   "cell_type": "code",
   "execution_count": 27,
   "id": "a58f7269",
   "metadata": {},
   "outputs": [
    {
     "name": "stdout",
     "output_type": "stream",
     "text": [
      "[[0 1 2 3 4]\n",
      " [5 6 7 8 9]]\n",
      "(2, 5)\n"
     ]
    }
   ],
   "source": [
    "#1차원 -> 2차원 배열 변환\n",
    "#요소에 개수가 각각 맞게 변형\n",
    "\n",
    "ar2 = ar.reshape(2,5)\n",
    "print(ar2)\n",
    "print(ar2.shape)"
   ]
  },
  {
   "cell_type": "code",
   "execution_count": 28,
   "id": "b96f7074",
   "metadata": {},
   "outputs": [
    {
     "data": {
      "text/plain": [
       "array([0, 1, 2, 3, 4, 5, 6, 7, 8, 9])"
      ]
     },
     "execution_count": 28,
     "metadata": {},
     "output_type": "execute_result"
    }
   ],
   "source": [
    "ar"
   ]
  },
  {
   "cell_type": "code",
   "execution_count": 29,
   "id": "45512cc9",
   "metadata": {},
   "outputs": [
    {
     "data": {
      "text/plain": [
       "array([[0, 1],\n",
       "       [2, 3],\n",
       "       [4, 5],\n",
       "       [6, 7],\n",
       "       [8, 9]])"
      ]
     },
     "execution_count": 29,
     "metadata": {},
     "output_type": "execute_result"
    }
   ],
   "source": [
    "# 2차원 배열 - > 2차원 배열\n",
    "ar3 = ar2.reshape(5,2)\n",
    "ar3"
   ]
  },
  {
   "cell_type": "code",
   "execution_count": 30,
   "id": "c7185a25",
   "metadata": {},
   "outputs": [
    {
     "data": {
      "text/plain": [
       "array([[0, 1, 2, 3, 4],\n",
       "       [5, 6, 7, 8, 9]])"
      ]
     },
     "execution_count": 30,
     "metadata": {},
     "output_type": "execute_result"
    }
   ],
   "source": [
    "#열을 알아서 맞춰줘요 -1 를 사용하면 뒷 숫자에 맞춰용\n",
    "ar4 = ar.reshape(-1,5)\n",
    "ar4"
   ]
  },
  {
   "cell_type": "code",
   "execution_count": 31,
   "id": "86f4c939",
   "metadata": {},
   "outputs": [
    {
     "data": {
      "text/plain": [
       "array([[0, 1],\n",
       "       [2, 3],\n",
       "       [4, 5],\n",
       "       [6, 7],\n",
       "       [8, 9]])"
      ]
     },
     "execution_count": 31,
     "metadata": {},
     "output_type": "execute_result"
    }
   ],
   "source": [
    "ar5 = ar.reshape(5,-1)\n",
    "ar5"
   ]
  },
  {
   "cell_type": "code",
   "execution_count": 32,
   "id": "1e52f807",
   "metadata": {},
   "outputs": [
    {
     "data": {
      "text/plain": [
       "array([0, 1, 2, 3, 4, 5, 6, 7])"
      ]
     },
     "execution_count": 32,
     "metadata": {},
     "output_type": "execute_result"
    }
   ],
   "source": [
    "ar = np.arange(8)\n",
    "ar"
   ]
  },
  {
   "cell_type": "code",
   "execution_count": 33,
   "id": "b89376bb",
   "metadata": {},
   "outputs": [
    {
     "data": {
      "text/plain": [
       "[[[0, 1], [2, 3]], [[4, 5], [6, 7]]]"
      ]
     },
     "execution_count": 33,
     "metadata": {},
     "output_type": "execute_result"
    }
   ],
   "source": [
    "# 1차원 -> 3차원\n",
    "\n",
    "ar1 = ar.reshape(2,2,2)\n",
    "ar1.tolist()"
   ]
  },
  {
   "cell_type": "code",
   "execution_count": 34,
   "id": "2e963b68",
   "metadata": {},
   "outputs": [
    {
     "data": {
      "text/plain": [
       "[[0, 1], [2, 3], [4, 5], [6, 7]]"
      ]
     },
     "execution_count": 34,
     "metadata": {},
     "output_type": "execute_result"
    }
   ],
   "source": [
    "# 3차원을 2차원 변환\n",
    "# (2,2,2) - > (4,2)\n",
    "ar2 = ar1.reshape(4,2)\n",
    "ar2.tolist()"
   ]
  },
  {
   "cell_type": "code",
   "execution_count": 35,
   "id": "e882847e",
   "metadata": {},
   "outputs": [
    {
     "data": {
      "text/plain": [
       "array([0, 1, 2, 3, 4, 5, 6, 7])"
      ]
     },
     "execution_count": 35,
     "metadata": {},
     "output_type": "execute_result"
    }
   ],
   "source": [
    "ar3 = ar1.reshape(-1)\n",
    "ar3"
   ]
  },
  {
   "cell_type": "code",
   "execution_count": 36,
   "id": "209199ed",
   "metadata": {},
   "outputs": [
    {
     "data": {
      "text/plain": [
       "array([1, 2, 3, 4, 5, 6, 7, 8, 9])"
      ]
     },
     "execution_count": 36,
     "metadata": {},
     "output_type": "execute_result"
    }
   ],
   "source": [
    "ar = np.arange(start=1, stop=10)\n",
    "ar = np.arange(1, 10)\n",
    "ar"
   ]
  },
  {
   "cell_type": "code",
   "execution_count": 37,
   "id": "66e8a3cb",
   "metadata": {},
   "outputs": [
    {
     "data": {
      "text/plain": [
       "dtype('int32')"
      ]
     },
     "execution_count": 37,
     "metadata": {},
     "output_type": "execute_result"
    }
   ],
   "source": [
    "ar[2].dtype"
   ]
  },
  {
   "cell_type": "code",
   "execution_count": 38,
   "id": "87122ca9",
   "metadata": {},
   "outputs": [
    {
     "data": {
      "text/plain": [
       "numpy.int32"
      ]
     },
     "execution_count": 38,
     "metadata": {},
     "output_type": "execute_result"
    }
   ],
   "source": [
    "type(ar[2])"
   ]
  },
  {
   "cell_type": "code",
   "execution_count": 39,
   "id": "ef1e75e8",
   "metadata": {},
   "outputs": [
    {
     "data": {
      "text/plain": [
       "9"
      ]
     },
     "execution_count": 39,
     "metadata": {},
     "output_type": "execute_result"
    }
   ],
   "source": [
    "ar[-1]"
   ]
  },
  {
   "cell_type": "code",
   "execution_count": 40,
   "id": "1b7af27c",
   "metadata": {},
   "outputs": [],
   "source": [
    "#요소 변경\n",
    "# 첫번째 요소  1 - >9\n",
    "ar[0] = 9"
   ]
  },
  {
   "cell_type": "code",
   "execution_count": 41,
   "id": "20b7a6cd",
   "metadata": {},
   "outputs": [
    {
     "data": {
      "text/plain": [
       "0"
      ]
     },
     "execution_count": 41,
     "metadata": {},
     "output_type": "execute_result"
    }
   ],
   "source": [
    "#마지막 요소 변경\n",
    "ar[-1] = 0\n",
    "ar[-1]"
   ]
  },
  {
   "cell_type": "code",
   "execution_count": 42,
   "id": "f58952e3",
   "metadata": {},
   "outputs": [
    {
     "data": {
      "text/plain": [
       "array([1, 2, 3, 4, 5, 6, 7, 8, 9])"
      ]
     },
     "execution_count": 42,
     "metadata": {},
     "output_type": "execute_result"
    }
   ],
   "source": [
    "ar = np.arange(1,10)\n",
    "ar"
   ]
  },
  {
   "cell_type": "code",
   "execution_count": 43,
   "id": "6d0bbfc1",
   "metadata": {},
   "outputs": [
    {
     "data": {
      "text/plain": [
       "(3, 3)"
      ]
     },
     "execution_count": 43,
     "metadata": {},
     "output_type": "execute_result"
    }
   ],
   "source": [
    "ar2 = ar.reshape(3,-1)\n",
    "ar2.shape"
   ]
  },
  {
   "cell_type": "code",
   "execution_count": 44,
   "id": "2936ca3d",
   "metadata": {},
   "outputs": [
    {
     "data": {
      "text/plain": [
       "[[1, 2, 3], [4, 5, 6], [7, 8, 9]]"
      ]
     },
     "execution_count": 44,
     "metadata": {},
     "output_type": "execute_result"
    }
   ],
   "source": [
    "ar2.tolist()"
   ]
  },
  {
   "cell_type": "code",
   "execution_count": 45,
   "id": "fae95e69",
   "metadata": {},
   "outputs": [
    {
     "data": {
      "text/plain": [
       "1"
      ]
     },
     "execution_count": 45,
     "metadata": {},
     "output_type": "execute_result"
    }
   ],
   "source": [
    "ar2[0][0]"
   ]
  },
  {
   "cell_type": "code",
   "execution_count": 46,
   "id": "72e0f1b2",
   "metadata": {},
   "outputs": [
    {
     "data": {
      "text/plain": [
       "1"
      ]
     },
     "execution_count": 46,
     "metadata": {},
     "output_type": "execute_result"
    }
   ],
   "source": [
    "ar2[0,0]"
   ]
  },
  {
   "cell_type": "code",
   "execution_count": 47,
   "id": "ee577c75",
   "metadata": {},
   "outputs": [
    {
     "data": {
      "text/plain": [
       "8"
      ]
     },
     "execution_count": 47,
     "metadata": {},
     "output_type": "execute_result"
    }
   ],
   "source": [
    "ar2[2,1]"
   ]
  },
  {
   "cell_type": "code",
   "execution_count": 48,
   "id": "33f0b336",
   "metadata": {},
   "outputs": [],
   "source": [
    "# 슬라이싱"
   ]
  },
  {
   "cell_type": "code",
   "execution_count": 49,
   "id": "604d2096",
   "metadata": {},
   "outputs": [
    {
     "data": {
      "text/plain": [
       "array([[1, 2],\n",
       "       [4, 5]])"
      ]
     },
     "execution_count": 49,
     "metadata": {},
     "output_type": "execute_result"
    }
   ],
   "source": [
    "ar2[:2,:-1]"
   ]
  },
  {
   "cell_type": "code",
   "execution_count": 50,
   "id": "6b593d53",
   "metadata": {},
   "outputs": [
    {
     "data": {
      "text/plain": [
       "array([[1, 2],\n",
       "       [4, 5]])"
      ]
     },
     "execution_count": 50,
     "metadata": {},
     "output_type": "execute_result"
    }
   ],
   "source": [
    "#문제 1\n",
    "ar2[:2,:2]"
   ]
  },
  {
   "cell_type": "code",
   "execution_count": 51,
   "id": "4e8d2e2c",
   "metadata": {},
   "outputs": [
    {
     "data": {
      "text/plain": [
       "array([[4, 5, 6],\n",
       "       [7, 8, 9]])"
      ]
     },
     "execution_count": 51,
     "metadata": {},
     "output_type": "execute_result"
    }
   ],
   "source": [
    "#문제 2\n",
    "ar2[1:3,:3]"
   ]
  },
  {
   "cell_type": "code",
   "execution_count": 52,
   "id": "0470e5a0",
   "metadata": {},
   "outputs": [
    {
     "data": {
      "text/plain": [
       "array([[4, 5, 6],\n",
       "       [7, 8, 9]])"
      ]
     },
     "execution_count": 52,
     "metadata": {},
     "output_type": "execute_result"
    }
   ],
   "source": [
    "#문제3\n",
    "ar2[1:3][:3]"
   ]
  },
  {
   "cell_type": "code",
   "execution_count": 53,
   "id": "4cd4c765",
   "metadata": {},
   "outputs": [
    {
     "data": {
      "text/plain": [
       "array([[1, 2, 3],\n",
       "       [4, 5, 6],\n",
       "       [7, 8, 9]])"
      ]
     },
     "execution_count": 53,
     "metadata": {},
     "output_type": "execute_result"
    }
   ],
   "source": [
    "#문제 4\n",
    "ar2[:3,:3]"
   ]
  },
  {
   "cell_type": "code",
   "execution_count": 54,
   "id": "16f2ed12",
   "metadata": {},
   "outputs": [
    {
     "data": {
      "text/plain": [
       "array([[2, 3],\n",
       "       [5, 6]])"
      ]
     },
     "execution_count": 54,
     "metadata": {},
     "output_type": "execute_result"
    }
   ],
   "source": [
    "#문제5\n",
    "ar2[:2,1:3]"
   ]
  },
  {
   "cell_type": "code",
   "execution_count": 55,
   "id": "b82badb4",
   "metadata": {},
   "outputs": [
    {
     "data": {
      "text/plain": [
       "array([[1],\n",
       "       [4]])"
      ]
     },
     "execution_count": 55,
     "metadata": {},
     "output_type": "execute_result"
    }
   ],
   "source": [
    "#문제 6\n",
    "ar2[:2,:1]"
   ]
  },
  {
   "cell_type": "code",
   "execution_count": 56,
   "id": "a059dad6",
   "metadata": {},
   "outputs": [
    {
     "data": {
      "text/plain": [
       "array([1, 4])"
      ]
     },
     "execution_count": 56,
     "metadata": {},
     "output_type": "execute_result"
    }
   ],
   "source": [
    "ar2[:2,0]"
   ]
  },
  {
   "cell_type": "markdown",
   "id": "8520aa22",
   "metadata": {},
   "source": [
    "# 팬시 인덱싱(fancy indexing)\n",
    "    - 배열을 인덱스로 설정\n",
    "    - 배열의 요소 : 정수, 불린(boolean)"
   ]
  },
  {
   "cell_type": "code",
   "execution_count": 57,
   "id": "b26a28b2",
   "metadata": {},
   "outputs": [
    {
     "data": {
      "text/plain": [
       "array([1, 2, 3, 4, 5])"
      ]
     },
     "execution_count": 57,
     "metadata": {},
     "output_type": "execute_result"
    }
   ],
   "source": [
    "ar = np.arange(1,6)\n",
    "ar"
   ]
  },
  {
   "cell_type": "code",
   "execution_count": 58,
   "id": "796645f9",
   "metadata": {
    "scrolled": true
   },
   "outputs": [
    {
     "data": {
      "text/plain": [
       "array([1, 3, 5])"
      ]
     },
     "execution_count": 58,
     "metadata": {},
     "output_type": "execute_result"
    }
   ],
   "source": [
    "ar[[0,2,4]]"
   ]
  },
  {
   "cell_type": "code",
   "execution_count": 59,
   "id": "4e02ce40",
   "metadata": {},
   "outputs": [
    {
     "data": {
      "text/plain": [
       "array([2, 2, 2, 2, 3, 3, 3, 3, 4, 4, 4])"
      ]
     },
     "execution_count": 59,
     "metadata": {},
     "output_type": "execute_result"
    }
   ],
   "source": [
    "ar[[1,1,1,1,2,2,2,2,3,3,3,]]"
   ]
  },
  {
   "cell_type": "code",
   "execution_count": 60,
   "id": "eee632b1",
   "metadata": {},
   "outputs": [
    {
     "data": {
      "text/plain": [
       "array([1, 3, 5])"
      ]
     },
     "execution_count": 60,
     "metadata": {},
     "output_type": "execute_result"
    }
   ],
   "source": [
    "#boolean 인덱스는 길이 개수가 같아야 한다.\n",
    "ar[[True,False,True,False,True]]"
   ]
  },
  {
   "cell_type": "code",
   "execution_count": 61,
   "id": "c1944bee",
   "metadata": {},
   "outputs": [
    {
     "data": {
      "text/plain": [
       "array([ True, False,  True, False,  True])"
      ]
     },
     "execution_count": 61,
     "metadata": {},
     "output_type": "execute_result"
    }
   ],
   "source": [
    "ar % 2 ==1"
   ]
  },
  {
   "cell_type": "code",
   "execution_count": 62,
   "id": "e48ddfc3",
   "metadata": {},
   "outputs": [
    {
     "data": {
      "text/plain": [
       "array([1, 3, 5])"
      ]
     },
     "execution_count": 62,
     "metadata": {},
     "output_type": "execute_result"
    }
   ],
   "source": [
    "ar[ar % 2 ==1] #조건 검사"
   ]
  },
  {
   "cell_type": "code",
   "execution_count": 63,
   "id": "03e6acc3",
   "metadata": {},
   "outputs": [
    {
     "data": {
      "text/plain": [
       "array([False, False, False,  True,  True])"
      ]
     },
     "execution_count": 63,
     "metadata": {},
     "output_type": "execute_result"
    }
   ],
   "source": [
    "ar>3"
   ]
  },
  {
   "cell_type": "code",
   "execution_count": 64,
   "id": "bbf1cbb9",
   "metadata": {},
   "outputs": [
    {
     "data": {
      "text/plain": [
       "array([4, 5])"
      ]
     },
     "execution_count": 64,
     "metadata": {},
     "output_type": "execute_result"
    }
   ],
   "source": [
    "ar[ar>3]"
   ]
  },
  {
   "cell_type": "code",
   "execution_count": 65,
   "id": "17773cc0",
   "metadata": {},
   "outputs": [
    {
     "data": {
      "text/plain": [
       "array([1, 2, 3, 4, 5, 6, 7, 8, 9])"
      ]
     },
     "execution_count": 65,
     "metadata": {},
     "output_type": "execute_result"
    }
   ],
   "source": [
    "ar = np.arange(1,10)\n",
    "ar"
   ]
  },
  {
   "cell_type": "code",
   "execution_count": 66,
   "id": "00ebfdd6",
   "metadata": {},
   "outputs": [
    {
     "data": {
      "text/plain": [
       "array([[1, 2, 3],\n",
       "       [4, 5, 6],\n",
       "       [7, 8, 9]])"
      ]
     },
     "execution_count": 66,
     "metadata": {},
     "output_type": "execute_result"
    }
   ],
   "source": [
    "ar2 = ar.reshape(3,-1)\n",
    "ar2"
   ]
  },
  {
   "cell_type": "code",
   "execution_count": 67,
   "id": "cfa7dc34",
   "metadata": {},
   "outputs": [
    {
     "data": {
      "text/plain": [
       "array([[1, 2, 3],\n",
       "       [7, 8, 9]])"
      ]
     },
     "execution_count": 67,
     "metadata": {},
     "output_type": "execute_result"
    }
   ],
   "source": [
    "ar2[[0,2]]"
   ]
  },
  {
   "cell_type": "code",
   "execution_count": 68,
   "id": "5ac532ff",
   "metadata": {},
   "outputs": [
    {
     "data": {
      "text/plain": [
       "array([1, 9])"
      ]
     },
     "execution_count": 68,
     "metadata": {},
     "output_type": "execute_result"
    }
   ],
   "source": [
    "ar2[[0,2],[0,2]] # 0,0 , 2,2 를 추출 한것이다."
   ]
  },
  {
   "cell_type": "code",
   "execution_count": 69,
   "id": "a908fe08",
   "metadata": {},
   "outputs": [
    {
     "data": {
      "text/plain": [
       "array([[2, 3],\n",
       "       [8, 9]])"
      ]
     },
     "execution_count": 69,
     "metadata": {},
     "output_type": "execute_result"
    }
   ],
   "source": [
    "ar2[[0,2],1:]"
   ]
  },
  {
   "cell_type": "code",
   "execution_count": 70,
   "id": "ac6a5f49",
   "metadata": {},
   "outputs": [
    {
     "data": {
      "text/plain": [
       "array([1, 3, 6, 7])"
      ]
     },
     "execution_count": 70,
     "metadata": {},
     "output_type": "execute_result"
    }
   ],
   "source": [
    "# 불린 인덱싱\n",
    "idx = np.array(\n",
    "    [[True,False,True],\n",
    "    [False,False,True],\n",
    "    [True,False,False]]\n",
    "\n",
    ")\n",
    "ar2[idx]"
   ]
  },
  {
   "cell_type": "code",
   "execution_count": 72,
   "id": "69979c0f",
   "metadata": {},
   "outputs": [
    {
     "data": {
      "text/plain": [
       "array([1, 3, 5, 7, 9])"
      ]
     },
     "execution_count": 72,
     "metadata": {},
     "output_type": "execute_result"
    }
   ],
   "source": [
    "ar2[ar2 % 2 ==1]"
   ]
  },
  {
   "cell_type": "markdown",
   "id": "8a96341c",
   "metadata": {},
   "source": [
    "# 정렬 = sort() 와 argsort()"
   ]
  },
  {
   "cell_type": "code",
   "execution_count": 73,
   "id": "7bb46641",
   "metadata": {},
   "outputs": [
    {
     "data": {
      "text/plain": [
       "array([3, 1, 9, 5])"
      ]
     },
     "execution_count": 73,
     "metadata": {},
     "output_type": "execute_result"
    }
   ],
   "source": [
    "ar = np.array([3,1,9,5])\n",
    "ar"
   ]
  },
  {
   "cell_type": "markdown",
   "id": "654488e1",
   "metadata": {},
   "source": [
    "## sort\n",
    "- 문법 1 numpy.sort(배열) 복사본\n",
    "- 문법 2 배열.sort()"
   ]
  },
  {
   "cell_type": "code",
   "execution_count": 79,
   "id": "e4e62f53",
   "metadata": {},
   "outputs": [],
   "source": [
    "#문법 1 numpy.sort(배열), 복사본\n",
    "ar_copy =np.sort(ar)"
   ]
  },
  {
   "cell_type": "code",
   "execution_count": 86,
   "id": "5d0929f8",
   "metadata": {},
   "outputs": [
    {
     "data": {
      "text/plain": [
       "array([9, 5, 3, 1])"
      ]
     },
     "execution_count": 86,
     "metadata": {},
     "output_type": "execute_result"
    }
   ],
   "source": [
    "# 내림 차순 , 저장 후에 역순으로 증가감을 넣어 주세용\n",
    "ar_copy[::-1]"
   ]
  },
  {
   "cell_type": "code",
   "execution_count": null,
   "id": "464bda7d",
   "metadata": {},
   "outputs": [],
   "source": []
  }
 ],
 "metadata": {
  "kernelspec": {
   "display_name": "ex_kernel",
   "language": "python",
   "name": "ex"
  },
  "language_info": {
   "codemirror_mode": {
    "name": "ipython",
    "version": 3
   },
   "file_extension": ".py",
   "mimetype": "text/x-python",
   "name": "python",
   "nbconvert_exporter": "python",
   "pygments_lexer": "ipython3",
   "version": "3.8.10"
  },
  "toc": {
   "base_numbering": 1,
   "nav_menu": {},
   "number_sections": true,
   "sideBar": true,
   "skip_h1_title": false,
   "title_cell": "Table of Contents",
   "title_sidebar": "Contents",
   "toc_cell": false,
   "toc_position": {
    "height": "calc(100% - 180px)",
    "left": "10px",
    "top": "150px",
    "width": "266px"
   },
   "toc_section_display": true,
   "toc_window_display": true
  }
 },
 "nbformat": 4,
 "nbformat_minor": 5
}
