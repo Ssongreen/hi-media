{
 "cells": [
  {
   "cell_type": "code",
   "execution_count": 1,
   "id": "cb1f062c",
   "metadata": {},
   "outputs": [],
   "source": [
    "import pandas as pd\n"
   ]
  },
  {
   "cell_type": "code",
   "execution_count": 2,
   "id": "2bae238e",
   "metadata": {},
   "outputs": [],
   "source": [
    "data=pd.read_csv('product.csv');"
   ]
  },
  {
   "cell_type": "code",
   "execution_count": 5,
   "id": "e27fbe84",
   "metadata": {},
   "outputs": [
    {
     "data": {
      "text/html": [
       "<div>\n",
       "<style scoped>\n",
       "    .dataframe tbody tr th:only-of-type {\n",
       "        vertical-align: middle;\n",
       "    }\n",
       "\n",
       "    .dataframe tbody tr th {\n",
       "        vertical-align: top;\n",
       "    }\n",
       "\n",
       "    .dataframe thead th {\n",
       "        text-align: right;\n",
       "    }\n",
       "</style>\n",
       "<table border=\"1\" class=\"dataframe\">\n",
       "  <thead>\n",
       "    <tr style=\"text-align: right;\">\n",
       "      <th></th>\n",
       "      <th>제품명</th>\n",
       "      <th>관리번호</th>\n",
       "      <th>성상</th>\n",
       "      <th>업체명</th>\n",
       "      <th>섭취방법</th>\n",
       "      <th>보관방법</th>\n",
       "      <th>주의사항</th>\n",
       "      <th>효능</th>\n",
       "      <th>기타</th>\n",
       "    </tr>\n",
       "  </thead>\n",
       "  <tbody>\n",
       "    <tr>\n",
       "      <th>0</th>\n",
       "      <td>마더스 철분 30</td>\n",
       "      <td>201000190041288</td>\n",
       "      <td>고유의 향미가 있고 이미, 이취가 없는 밝은 흰 노란색의 장방형 제피정제</td>\n",
       "      <td>엔피케이(주)</td>\n",
       "      <td>1일 1회, 1회 1정 물과 함께 섭취</td>\n",
       "      <td>NaN</td>\n",
       "      <td>1) 과량섭취 시 부작용이 있을 수 있음.\\r\\n2) 특정원료에 알레르기가 있거나 ...</td>\n",
       "      <td>[철]①체내 산소운반과 혈액생성에 필요②에너지 생성에 필요</td>\n",
       "      <td>1) 성상 : 고유의 향미가 있고 이미, 이취가 없는 밝은 흰 노란색의 장방형 제피...</td>\n",
       "    </tr>\n",
       "  </tbody>\n",
       "</table>\n",
       "</div>"
      ],
      "text/plain": [
       "         제품명             관리번호                                        성상   \n",
       "0  마더스 철분 30  201000190041288  고유의 향미가 있고 이미, 이취가 없는 밝은 흰 노란색의 장방형 제피정제  \\\n",
       "\n",
       "       업체명                   섭취방법  보관방법   \n",
       "0  엔피케이(주)  1일 1회, 1회 1정 물과 함께 섭취   NaN  \\\n",
       "\n",
       "                                                주의사항   \n",
       "0  1) 과량섭취 시 부작용이 있을 수 있음.\\r\\n2) 특정원료에 알레르기가 있거나 ...  \\\n",
       "\n",
       "                                 효능   \n",
       "0  [철]①체내 산소운반과 혈액생성에 필요②에너지 생성에 필요  \\\n",
       "\n",
       "                                                  기타  \n",
       "0  1) 성상 : 고유의 향미가 있고 이미, 이취가 없는 밝은 흰 노란색의 장방형 제피...  "
      ]
     },
     "execution_count": 5,
     "metadata": {},
     "output_type": "execute_result"
    }
   ],
   "source": [
    "data[:1]"
   ]
  },
  {
   "cell_type": "code",
   "execution_count": null,
   "id": "2d6198bb",
   "metadata": {},
   "outputs": [],
   "source": []
  },
  {
   "cell_type": "code",
   "execution_count": 45,
   "id": "8dae44f9",
   "metadata": {},
   "outputs": [],
   "source": [
    "data=data[['제품명','관리번호','효능']]"
   ]
  },
  {
   "cell_type": "code",
   "execution_count": 46,
   "id": "ae825a29",
   "metadata": {},
   "outputs": [],
   "source": [
    "desired_word = '칼슘'"
   ]
  },
  {
   "cell_type": "code",
   "execution_count": 47,
   "id": "cdfc25d4",
   "metadata": {},
   "outputs": [],
   "source": [
    "dataframe = data.dropna(subset=['효능'])"
   ]
  },
  {
   "cell_type": "code",
   "execution_count": 48,
   "id": "dcfd5356",
   "metadata": {},
   "outputs": [
    {
     "ename": "ValueError",
     "evalue": "Cannot mask with non-boolean array containing NA / NaN values",
     "output_type": "error",
     "traceback": [
      "\u001b[1;31m---------------------------------------------------------------------------\u001b[0m",
      "\u001b[1;31mValueError\u001b[0m                                Traceback (most recent call last)",
      "Cell \u001b[1;32mIn[48], line 1\u001b[0m\n\u001b[1;32m----> 1\u001b[0m \u001b[43mdata\u001b[49m\u001b[43m[\u001b[49m\u001b[43mdata\u001b[49m\u001b[43m[\u001b[49m\u001b[38;5;124;43m'\u001b[39;49m\u001b[38;5;124;43m효능\u001b[39;49m\u001b[38;5;124;43m'\u001b[39;49m\u001b[43m]\u001b[49m\u001b[38;5;241;43m.\u001b[39;49m\u001b[43mstr\u001b[49m\u001b[38;5;241;43m.\u001b[39;49m\u001b[43mcontains\u001b[49m\u001b[43m(\u001b[49m\u001b[43mdesired_word\u001b[49m\u001b[43m)\u001b[49m\u001b[43m]\u001b[49m\n",
      "File \u001b[1;32m~\\anaconda3\\envs\\ex\\lib\\site-packages\\pandas\\core\\frame.py:3751\u001b[0m, in \u001b[0;36mDataFrame.__getitem__\u001b[1;34m(self, key)\u001b[0m\n\u001b[0;32m   3748\u001b[0m     \u001b[38;5;28;01mreturn\u001b[39;00m \u001b[38;5;28mself\u001b[39m\u001b[38;5;241m.\u001b[39mwhere(key)\n\u001b[0;32m   3750\u001b[0m \u001b[38;5;66;03m# Do we have a (boolean) 1d indexer?\u001b[39;00m\n\u001b[1;32m-> 3751\u001b[0m \u001b[38;5;28;01mif\u001b[39;00m \u001b[43mcom\u001b[49m\u001b[38;5;241;43m.\u001b[39;49m\u001b[43mis_bool_indexer\u001b[49m\u001b[43m(\u001b[49m\u001b[43mkey\u001b[49m\u001b[43m)\u001b[49m:\n\u001b[0;32m   3752\u001b[0m     \u001b[38;5;28;01mreturn\u001b[39;00m \u001b[38;5;28mself\u001b[39m\u001b[38;5;241m.\u001b[39m_getitem_bool_array(key)\n\u001b[0;32m   3754\u001b[0m \u001b[38;5;66;03m# We are left with two options: a single key, and a collection of keys,\u001b[39;00m\n\u001b[0;32m   3755\u001b[0m \u001b[38;5;66;03m# We interpret tuples as collections only for non-MultiIndex\u001b[39;00m\n",
      "File \u001b[1;32m~\\anaconda3\\envs\\ex\\lib\\site-packages\\pandas\\core\\common.py:134\u001b[0m, in \u001b[0;36mis_bool_indexer\u001b[1;34m(key)\u001b[0m\n\u001b[0;32m    130\u001b[0m     na_msg \u001b[38;5;241m=\u001b[39m \u001b[38;5;124m\"\u001b[39m\u001b[38;5;124mCannot mask with non-boolean array containing NA / NaN values\u001b[39m\u001b[38;5;124m\"\u001b[39m\n\u001b[0;32m    131\u001b[0m     \u001b[38;5;28;01mif\u001b[39;00m lib\u001b[38;5;241m.\u001b[39minfer_dtype(key_array) \u001b[38;5;241m==\u001b[39m \u001b[38;5;124m\"\u001b[39m\u001b[38;5;124mboolean\u001b[39m\u001b[38;5;124m\"\u001b[39m \u001b[38;5;129;01mand\u001b[39;00m isna(key_array)\u001b[38;5;241m.\u001b[39many():\n\u001b[0;32m    132\u001b[0m         \u001b[38;5;66;03m# Don't raise on e.g. [\"A\", \"B\", np.nan], see\u001b[39;00m\n\u001b[0;32m    133\u001b[0m         \u001b[38;5;66;03m#  test_loc_getitem_list_of_labels_categoricalindex_with_na\u001b[39;00m\n\u001b[1;32m--> 134\u001b[0m         \u001b[38;5;28;01mraise\u001b[39;00m \u001b[38;5;167;01mValueError\u001b[39;00m(na_msg)\n\u001b[0;32m    135\u001b[0m     \u001b[38;5;28;01mreturn\u001b[39;00m \u001b[38;5;28;01mFalse\u001b[39;00m\n\u001b[0;32m    136\u001b[0m \u001b[38;5;28;01mreturn\u001b[39;00m \u001b[38;5;28;01mTrue\u001b[39;00m\n",
      "\u001b[1;31mValueError\u001b[0m: Cannot mask with non-boolean array containing NA / NaN values"
     ]
    }
   ],
   "source": [
    "data[data['효능'].str.contains(desired_word)]"
   ]
  },
  {
   "cell_type": "code",
   "execution_count": 50,
   "id": "45cfc1c5",
   "metadata": {},
   "outputs": [
    {
     "ename": "SyntaxError",
     "evalue": "invalid syntax (3686325983.py, line 2)",
     "output_type": "error",
     "traceback": [
      "\u001b[1;36m  Cell \u001b[1;32mIn[50], line 2\u001b[1;36m\u001b[0m\n\u001b[1;33m    filtered_dataframe = dataframe[dataframe['효능'].str.contains(desired_word);\u001b[0m\n\u001b[1;37m                                                                             ^\u001b[0m\n\u001b[1;31mSyntaxError\u001b[0m\u001b[1;31m:\u001b[0m invalid syntax\n"
     ]
    }
   ],
   "source": [
    "desired_word = '칼슘';\n",
    "filtered_dataframe = dataframe[dataframe['효능'].str.contains(desired_word);"
   ]
  },
  {
   "cell_type": "code",
   "execution_count": 38,
   "id": "740a0406",
   "metadata": {},
   "outputs": [
    {
     "data": {
      "text/html": [
       "<div>\n",
       "<style scoped>\n",
       "    .dataframe tbody tr th:only-of-type {\n",
       "        vertical-align: middle;\n",
       "    }\n",
       "\n",
       "    .dataframe tbody tr th {\n",
       "        vertical-align: top;\n",
       "    }\n",
       "\n",
       "    .dataframe thead th {\n",
       "        text-align: right;\n",
       "    }\n",
       "</style>\n",
       "<table border=\"1\" class=\"dataframe\">\n",
       "  <thead>\n",
       "    <tr style=\"text-align: right;\">\n",
       "      <th></th>\n",
       "      <th>제품명</th>\n",
       "      <th>관리번호</th>\n",
       "    </tr>\n",
       "  </thead>\n",
       "  <tbody>\n",
       "    <tr>\n",
       "      <th>2</th>\n",
       "      <td>다이어트 츄잉</td>\n",
       "      <td>20040020071461</td>\n",
       "    </tr>\n",
       "    <tr>\n",
       "      <th>10</th>\n",
       "      <td>퍼펙트 애플컷 다이어트</td>\n",
       "      <td>20040020071460</td>\n",
       "    </tr>\n",
       "    <tr>\n",
       "      <th>11</th>\n",
       "      <td>더블 업 철분 엽산 비타민D</td>\n",
       "      <td>20120019007771</td>\n",
       "    </tr>\n",
       "    <tr>\n",
       "      <th>12</th>\n",
       "      <td>뼈건강엔 PGA 어골칼슘 마그네슘 비타민D 망간</td>\n",
       "      <td>201000190041289</td>\n",
       "    </tr>\n",
       "    <tr>\n",
       "      <th>13</th>\n",
       "      <td>잠백이 멀티팩 비타민 &amp; 미네랄</td>\n",
       "      <td>20120019007770</td>\n",
       "    </tr>\n",
       "    <tr>\n",
       "      <th>15</th>\n",
       "      <td>트루아상 패밀리 리얼 비타민D 5000IU</td>\n",
       "      <td>200400150831894</td>\n",
       "    </tr>\n",
       "    <tr>\n",
       "      <th>19</th>\n",
       "      <td>락티브 익스텐션 날씬해질 다이어트 유산균</td>\n",
       "      <td>200400170061651</td>\n",
       "    </tr>\n",
       "    <tr>\n",
       "      <th>21</th>\n",
       "      <td>리얼닥터 프리미엄 오메가3</td>\n",
       "      <td>2022001137066</td>\n",
       "    </tr>\n",
       "    <tr>\n",
       "      <th>22</th>\n",
       "      <td>리웰 데일리 비타민 C&amp;D(전량수출용)</td>\n",
       "      <td>200400151101151</td>\n",
       "    </tr>\n",
       "    <tr>\n",
       "      <th>23</th>\n",
       "      <td>맨즈파워 쏘팔메토 옥타코사놀 프리미엄</td>\n",
       "      <td>200400150831892</td>\n",
       "    </tr>\n",
       "  </tbody>\n",
       "</table>\n",
       "</div>"
      ],
      "text/plain": [
       "                           제품명             관리번호\n",
       "2                      다이어트 츄잉   20040020071461\n",
       "10                퍼펙트 애플컷 다이어트   20040020071460\n",
       "11             더블 업 철분 엽산 비타민D   20120019007771\n",
       "12  뼈건강엔 PGA 어골칼슘 마그네슘 비타민D 망간  201000190041289\n",
       "13           잠백이 멀티팩 비타민 & 미네랄   20120019007770\n",
       "15     트루아상 패밀리 리얼 비타민D 5000IU  200400150831894\n",
       "19      락티브 익스텐션 날씬해질 다이어트 유산균  200400170061651\n",
       "21              리얼닥터 프리미엄 오메가3    2022001137066\n",
       "22       리웰 데일리 비타민 C&D(전량수출용)  200400151101151\n",
       "23        맨즈파워 쏘팔메토 옥타코사놀 프리미엄  200400150831892"
      ]
     },
     "execution_count": 38,
     "metadata": {},
     "output_type": "execute_result"
    }
   ],
   "source": [
    "filtered_dataframe[['제품명','관리번호']]"
   ]
  },
  {
   "cell_type": "code",
   "execution_count": null,
   "id": "93f44e6c",
   "metadata": {},
   "outputs": [],
   "source": []
  },
  {
   "cell_type": "code",
   "execution_count": null,
   "id": "f1031577",
   "metadata": {},
   "outputs": [],
   "source": []
  },
  {
   "cell_type": "code",
   "execution_count": null,
   "id": "7ac7fd86",
   "metadata": {},
   "outputs": [],
   "source": []
  },
  {
   "cell_type": "code",
   "execution_count": null,
   "id": "01d6afb3",
   "metadata": {},
   "outputs": [],
   "source": []
  },
  {
   "cell_type": "code",
   "execution_count": null,
   "id": "bd1a172b",
   "metadata": {},
   "outputs": [],
   "source": []
  },
  {
   "cell_type": "code",
   "execution_count": null,
   "id": "460e8643",
   "metadata": {},
   "outputs": [],
   "source": []
  }
 ],
 "metadata": {
  "kernelspec": {
   "display_name": "ex_kernel",
   "language": "python",
   "name": "ex"
  },
  "language_info": {
   "codemirror_mode": {
    "name": "ipython",
    "version": 3
   },
   "file_extension": ".py",
   "mimetype": "text/x-python",
   "name": "python",
   "nbconvert_exporter": "python",
   "pygments_lexer": "ipython3",
   "version": "3.8.10"
  },
  "toc": {
   "base_numbering": 1,
   "nav_menu": {},
   "number_sections": true,
   "sideBar": true,
   "skip_h1_title": false,
   "title_cell": "Table of Contents",
   "title_sidebar": "Contents",
   "toc_cell": false,
   "toc_position": {},
   "toc_section_display": true,
   "toc_window_display": false
  }
 },
 "nbformat": 4,
 "nbformat_minor": 5
}
