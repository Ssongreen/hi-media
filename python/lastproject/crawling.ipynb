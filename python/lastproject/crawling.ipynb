{
 "cells": [
  {
   "cell_type": "code",
   "execution_count": 1,
   "id": "31baf632",
   "metadata": {},
   "outputs": [],
   "source": [
    "from selenium import webdriver\n",
    "from selenium.webdriver.common.by import By\n",
    "from selenium.webdriver.common.keys import Keys\n",
    "from time import sleep\n",
    "from urllib.request import urlretrieve\n",
    "import os\n",
    "import requests"
   ]
  },
  {
   "cell_type": "code",
   "execution_count": 2,
   "id": "ccf2d87e",
   "metadata": {},
   "outputs": [],
   "source": [
    "options = webdriver.ChromeOptions()\n",
    "options.add_argument('--start-maximized')\n",
    "options.add_argument('user-agent=Mozilla/5.0 (Windows NT 10.0; Win64; x64) AppleWebKit/537.36 (KHTML, like Gecko) Chrome/113.0.0.0 Safari/537.36')\n",
    "options.add_experimental_option('prefs', {'download.default_directory':r'D:\\webservice\\python\\final\\xml'})\n",
    "\n",
    "url = 'https://nedrug.mfds.go.kr/searchDrug'\n",
    "\n",
    "driver = webdriver.Chrome(options=options)\n",
    "driver.get(url)\n",
    "\n",
    "sleep(1)\n",
    "# 상세검색 선택\n",
    "driver.find_element(By.XPATH, \"//*[@id='indutyClassCodeList']/li[2]/a\").click()\n",
    "\n",
    "driver.find_element(By.XPATH, \"//*[@id='makeMaterialGbList']/li[2]/a\").click()\n",
    "\n",
    "driver.find_element(By.XPATH, \"//*[@id='cancelCodeList']/li[2]/a\").click()\n",
    "\n",
    "driver.find_element(By.XPATH, \"//*[@id='searchDetail']/fieldset/div[22]/button[1]\").click()\n",
    "\n",
    "sleep(1)"
   ]
  },
  {
   "cell_type": "code",
   "execution_count": 3,
   "id": "3d8d6e06",
   "metadata": {},
   "outputs": [],
   "source": [
    "page = 0"
   ]
  },
  {
   "cell_type": "code",
   "execution_count": 4,
   "id": "5eb9958f",
   "metadata": {},
   "outputs": [],
   "source": [
    "# 이미지 추출\n",
    "def crawlData(maxcnt):\n",
    "    name_list = ['효능', '용법용량', '주의사항']\n",
    "    while True:\n",
    "        trs = driver.find_elements(By.XPATH, \"//*[@id='con_body']/div[2]/div[3]/div[3]/table/tbody/tr\")\n",
    "        for tr in trs:\n",
    "            tr.find_element(By.XPATH, \"td[2]/span[2]/a\").click()\n",
    "            driver.switch_to.window(driver.window_handles[1])\n",
    "            sleep(1)\n",
    "            try:\n",
    "                imgs = driver.find_elements(By.XPATH, \"//*[@id='scroll_01']/div/div/img\")\n",
    "            except:\n",
    "                pass\n",
    "            else:\n",
    "                for idx1, img in enumerate(imgs, 1):\n",
    "                    code = driver.find_element(By.XPATH, \"//*[@id='content']/section/div[1]/div[2]/table/tbody/tr[8]/td\").text\n",
    "                    save_loc = f'xml/{code}'\n",
    "                    os.makedirs(save_loc, exist_ok=True)\n",
    "                    img_src = img.get_attribute('src')\n",
    "                    urlretrieve(img_src, filename=f'{save_loc}/{idx1}.jpg')\n",
    "                    sleep(1)\n",
    "\n",
    "                    for idx2, name in enumerate(name_list, 3):\n",
    "                        xml =  driver.find_element(By.XPATH, f\"//*[@id='scroll_0{idx2}']/div[1]/h3/div/a[2]\").get_attribute('href')\n",
    "                        response = requests.get(xml)\n",
    "                        try:\n",
    "                            with open(f'{save_loc}/{name}.xml', 'w', encoding='cp949') as file:\n",
    "                                    file.write(response.text)\n",
    "                        except:\n",
    "                            with open(f'{save_loc}/{name}.xml', 'w', encoding='utf-8') as file:\n",
    "                                    file.write(response.text)\n",
    "            driver.close()\n",
    "            sleep(1)\n",
    "            driver.switch_to.window(driver.window_handles[0])\n",
    "            \n",
    "        driver.find_element(By.XPATH,\"//*[@id='paging_div']/p/button[3]\").click()\n",
    "        \n",
    "        global page\n",
    "        \n",
    "        if page == maxcnt:\n",
    "            break\n",
    "        page += 1"
   ]
  },
  {
   "cell_type": "code",
   "execution_count": 5,
   "id": "b339c93f",
   "metadata": {
    "scrolled": false
   },
   "outputs": [
    {
     "ename": "NoSuchWindowException",
     "evalue": "Message: no such window: target window already closed\nfrom unknown error: web view not found\n  (Session info: chrome=114.0.5735.91)\nStacktrace:\nBacktrace:\n\tGetHandleVerifier [0x0114A813+48355]\n\t(No symbol) [0x010DC4B1]\n\t(No symbol) [0x00FE5358]\n\t(No symbol) [0x00FCD293]\n\t(No symbol) [0x0102E37B]\n\t(No symbol) [0x0103C473]\n\t(No symbol) [0x0102A536]\n\t(No symbol) [0x010082DC]\n\t(No symbol) [0x010093DD]\n\tGetHandleVerifier [0x013AAABD+2539405]\n\tGetHandleVerifier [0x013EA78F+2800735]\n\tGetHandleVerifier [0x013E456C+2775612]\n\tGetHandleVerifier [0x011D51E0+616112]\n\t(No symbol) [0x010E5F8C]\n\t(No symbol) [0x010E2328]\n\t(No symbol) [0x010E240B]\n\t(No symbol) [0x010D4FF7]\n\tBaseThreadInitThunk [0x76837D59+25]\n\tRtlInitializeExceptionChain [0x772FB74B+107]\n\tRtlClearBits [0x772FB6CF+191]\n",
     "output_type": "error",
     "traceback": [
      "\u001b[1;31m---------------------------------------------------------------------------\u001b[0m",
      "\u001b[1;31mNoSuchWindowException\u001b[0m                     Traceback (most recent call last)",
      "Cell \u001b[1;32mIn[5], line 4\u001b[0m\n\u001b[0;32m      1\u001b[0m driver\u001b[38;5;241m.\u001b[39mfind_element(By\u001b[38;5;241m.\u001b[39mXPATH, \u001b[38;5;124m\"\u001b[39m\u001b[38;5;124m//*[@id=\u001b[39m\u001b[38;5;124m'\u001b[39m\u001b[38;5;124mindutyClassCodeList\u001b[39m\u001b[38;5;124m'\u001b[39m\u001b[38;5;124m]/li[7]/a\u001b[39m\u001b[38;5;124m\"\u001b[39m)\u001b[38;5;241m.\u001b[39mclick()\n\u001b[0;32m      2\u001b[0m driver\u001b[38;5;241m.\u001b[39mfind_element(By\u001b[38;5;241m.\u001b[39mXPATH, \u001b[38;5;124m\"\u001b[39m\u001b[38;5;124m//*[@id=\u001b[39m\u001b[38;5;124m'\u001b[39m\u001b[38;5;124msearchDetail\u001b[39m\u001b[38;5;124m'\u001b[39m\u001b[38;5;124m]/fieldset/div[22]/button[1]\u001b[39m\u001b[38;5;124m\"\u001b[39m)\u001b[38;5;241m.\u001b[39mclick()\n\u001b[1;32m----> 4\u001b[0m \u001b[43mcrawlData\u001b[49m\u001b[43m(\u001b[49m\u001b[38;5;241;43m188\u001b[39;49m\u001b[43m)\u001b[49m\n",
      "Cell \u001b[1;32mIn[4], line 24\u001b[0m, in \u001b[0;36mcrawlData\u001b[1;34m(maxcnt)\u001b[0m\n\u001b[0;32m     21\u001b[0m sleep(\u001b[38;5;241m1\u001b[39m)\n\u001b[0;32m     23\u001b[0m \u001b[38;5;28;01mfor\u001b[39;00m idx2, name \u001b[38;5;129;01min\u001b[39;00m \u001b[38;5;28menumerate\u001b[39m(name_list, \u001b[38;5;241m3\u001b[39m):\n\u001b[1;32m---> 24\u001b[0m     xml \u001b[38;5;241m=\u001b[39m  \u001b[43mdriver\u001b[49m\u001b[38;5;241;43m.\u001b[39;49m\u001b[43mfind_element\u001b[49m\u001b[43m(\u001b[49m\u001b[43mBy\u001b[49m\u001b[38;5;241;43m.\u001b[39;49m\u001b[43mXPATH\u001b[49m\u001b[43m,\u001b[49m\u001b[43m \u001b[49m\u001b[38;5;124;43mf\u001b[39;49m\u001b[38;5;124;43m\"\u001b[39;49m\u001b[38;5;124;43m//*[@id=\u001b[39;49m\u001b[38;5;124;43m'\u001b[39;49m\u001b[38;5;124;43mscroll_0\u001b[39;49m\u001b[38;5;132;43;01m{\u001b[39;49;00m\u001b[43midx2\u001b[49m\u001b[38;5;132;43;01m}\u001b[39;49;00m\u001b[38;5;124;43m'\u001b[39;49m\u001b[38;5;124;43m]/div[1]/h3/div/a[2]\u001b[39;49m\u001b[38;5;124;43m\"\u001b[39;49m\u001b[43m)\u001b[49m\u001b[38;5;241m.\u001b[39mget_attribute(\u001b[38;5;124m'\u001b[39m\u001b[38;5;124mhref\u001b[39m\u001b[38;5;124m'\u001b[39m)\n\u001b[0;32m     25\u001b[0m     response \u001b[38;5;241m=\u001b[39m requests\u001b[38;5;241m.\u001b[39mget(xml)\n\u001b[0;32m     26\u001b[0m     \u001b[38;5;28;01mtry\u001b[39;00m:\n",
      "File \u001b[1;32m~\\anaconda3\\envs\\ex\\lib\\site-packages\\selenium\\webdriver\\remote\\webdriver.py:831\u001b[0m, in \u001b[0;36mWebDriver.find_element\u001b[1;34m(self, by, value)\u001b[0m\n\u001b[0;32m    828\u001b[0m     by \u001b[38;5;241m=\u001b[39m By\u001b[38;5;241m.\u001b[39mCSS_SELECTOR\n\u001b[0;32m    829\u001b[0m     value \u001b[38;5;241m=\u001b[39m \u001b[38;5;124mf\u001b[39m\u001b[38;5;124m'\u001b[39m\u001b[38;5;124m[name=\u001b[39m\u001b[38;5;124m\"\u001b[39m\u001b[38;5;132;01m{\u001b[39;00mvalue\u001b[38;5;132;01m}\u001b[39;00m\u001b[38;5;124m\"\u001b[39m\u001b[38;5;124m]\u001b[39m\u001b[38;5;124m'\u001b[39m\n\u001b[1;32m--> 831\u001b[0m \u001b[38;5;28;01mreturn\u001b[39;00m \u001b[38;5;28;43mself\u001b[39;49m\u001b[38;5;241;43m.\u001b[39;49m\u001b[43mexecute\u001b[49m\u001b[43m(\u001b[49m\u001b[43mCommand\u001b[49m\u001b[38;5;241;43m.\u001b[39;49m\u001b[43mFIND_ELEMENT\u001b[49m\u001b[43m,\u001b[49m\u001b[43m \u001b[49m\u001b[43m{\u001b[49m\u001b[38;5;124;43m\"\u001b[39;49m\u001b[38;5;124;43musing\u001b[39;49m\u001b[38;5;124;43m\"\u001b[39;49m\u001b[43m:\u001b[49m\u001b[43m \u001b[49m\u001b[43mby\u001b[49m\u001b[43m,\u001b[49m\u001b[43m \u001b[49m\u001b[38;5;124;43m\"\u001b[39;49m\u001b[38;5;124;43mvalue\u001b[39;49m\u001b[38;5;124;43m\"\u001b[39;49m\u001b[43m:\u001b[49m\u001b[43m \u001b[49m\u001b[43mvalue\u001b[49m\u001b[43m}\u001b[49m\u001b[43m)\u001b[49m[\u001b[38;5;124m\"\u001b[39m\u001b[38;5;124mvalue\u001b[39m\u001b[38;5;124m\"\u001b[39m]\n",
      "File \u001b[1;32m~\\anaconda3\\envs\\ex\\lib\\site-packages\\selenium\\webdriver\\remote\\webdriver.py:440\u001b[0m, in \u001b[0;36mWebDriver.execute\u001b[1;34m(self, driver_command, params)\u001b[0m\n\u001b[0;32m    438\u001b[0m response \u001b[38;5;241m=\u001b[39m \u001b[38;5;28mself\u001b[39m\u001b[38;5;241m.\u001b[39mcommand_executor\u001b[38;5;241m.\u001b[39mexecute(driver_command, params)\n\u001b[0;32m    439\u001b[0m \u001b[38;5;28;01mif\u001b[39;00m response:\n\u001b[1;32m--> 440\u001b[0m     \u001b[38;5;28;43mself\u001b[39;49m\u001b[38;5;241;43m.\u001b[39;49m\u001b[43merror_handler\u001b[49m\u001b[38;5;241;43m.\u001b[39;49m\u001b[43mcheck_response\u001b[49m\u001b[43m(\u001b[49m\u001b[43mresponse\u001b[49m\u001b[43m)\u001b[49m\n\u001b[0;32m    441\u001b[0m     response[\u001b[38;5;124m\"\u001b[39m\u001b[38;5;124mvalue\u001b[39m\u001b[38;5;124m\"\u001b[39m] \u001b[38;5;241m=\u001b[39m \u001b[38;5;28mself\u001b[39m\u001b[38;5;241m.\u001b[39m_unwrap_value(response\u001b[38;5;241m.\u001b[39mget(\u001b[38;5;124m\"\u001b[39m\u001b[38;5;124mvalue\u001b[39m\u001b[38;5;124m\"\u001b[39m, \u001b[38;5;28;01mNone\u001b[39;00m))\n\u001b[0;32m    442\u001b[0m     \u001b[38;5;28;01mreturn\u001b[39;00m response\n",
      "File \u001b[1;32m~\\anaconda3\\envs\\ex\\lib\\site-packages\\selenium\\webdriver\\remote\\errorhandler.py:245\u001b[0m, in \u001b[0;36mErrorHandler.check_response\u001b[1;34m(self, response)\u001b[0m\n\u001b[0;32m    243\u001b[0m         alert_text \u001b[38;5;241m=\u001b[39m value[\u001b[38;5;124m\"\u001b[39m\u001b[38;5;124malert\u001b[39m\u001b[38;5;124m\"\u001b[39m]\u001b[38;5;241m.\u001b[39mget(\u001b[38;5;124m\"\u001b[39m\u001b[38;5;124mtext\u001b[39m\u001b[38;5;124m\"\u001b[39m)\n\u001b[0;32m    244\u001b[0m     \u001b[38;5;28;01mraise\u001b[39;00m exception_class(message, screen, stacktrace, alert_text)  \u001b[38;5;66;03m# type: ignore[call-arg]  # mypy is not smart enough here\u001b[39;00m\n\u001b[1;32m--> 245\u001b[0m \u001b[38;5;28;01mraise\u001b[39;00m exception_class(message, screen, stacktrace)\n",
      "\u001b[1;31mNoSuchWindowException\u001b[0m: Message: no such window: target window already closed\nfrom unknown error: web view not found\n  (Session info: chrome=114.0.5735.91)\nStacktrace:\nBacktrace:\n\tGetHandleVerifier [0x0114A813+48355]\n\t(No symbol) [0x010DC4B1]\n\t(No symbol) [0x00FE5358]\n\t(No symbol) [0x00FCD293]\n\t(No symbol) [0x0102E37B]\n\t(No symbol) [0x0103C473]\n\t(No symbol) [0x0102A536]\n\t(No symbol) [0x010082DC]\n\t(No symbol) [0x010093DD]\n\tGetHandleVerifier [0x013AAABD+2539405]\n\tGetHandleVerifier [0x013EA78F+2800735]\n\tGetHandleVerifier [0x013E456C+2775612]\n\tGetHandleVerifier [0x011D51E0+616112]\n\t(No symbol) [0x010E5F8C]\n\t(No symbol) [0x010E2328]\n\t(No symbol) [0x010E240B]\n\t(No symbol) [0x010D4FF7]\n\tBaseThreadInitThunk [0x76837D59+25]\n\tRtlInitializeExceptionChain [0x772FB74B+107]\n\tRtlClearBits [0x772FB6CF+191]\n"
     ]
    }
   ],
   "source": [
    "driver.find_element(By.XPATH, \"//*[@id='indutyClassCodeList']/li[7]/a\").click()\n",
    "driver.find_element(By.XPATH, \"//*[@id='searchDetail']/fieldset/div[22]/button[1]\").click()\n",
    "\n",
    "crawlData(188)"
   ]
  },
  {
   "cell_type": "code",
   "execution_count": null,
   "id": "9d2a4ce6",
   "metadata": {},
   "outputs": [],
   "source": []
  }
 ],
 "metadata": {
  "kernelspec": {
   "display_name": "ex_kernel",
   "language": "python",
   "name": "ex"
  },
  "language_info": {
   "codemirror_mode": {
    "name": "ipython",
    "version": 3
   },
   "file_extension": ".py",
   "mimetype": "text/x-python",
   "name": "python",
   "nbconvert_exporter": "python",
   "pygments_lexer": "ipython3",
   "version": "3.8.10"
  },
  "toc": {
   "base_numbering": 1,
   "nav_menu": {},
   "number_sections": true,
   "sideBar": true,
   "skip_h1_title": false,
   "title_cell": "Table of Contents",
   "title_sidebar": "Contents",
   "toc_cell": false,
   "toc_position": {},
   "toc_section_display": true,
   "toc_window_display": false
  }
 },
 "nbformat": 4,
 "nbformat_minor": 5
}
