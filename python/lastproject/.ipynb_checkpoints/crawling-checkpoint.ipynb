{
 "cells": [
  {
   "cell_type": "code",
   "execution_count": 1,
   "id": "31baf632",
   "metadata": {},
   "outputs": [],
   "source": [
    "from selenium import webdriver\n",
    "from selenium.webdriver.common.by import By\n",
    "from selenium.webdriver.common.keys import Keys\n",
    "from time import sleep\n",
    "from urllib.request import urlretrieve\n",
    "import os\n",
    "import requests"
   ]
  },
  {
   "cell_type": "code",
   "execution_count": 2,
   "id": "ccf2d87e",
   "metadata": {},
   "outputs": [],
   "source": [
    "options = webdriver.ChromeOptions()\n",
    "options.add_argument('--start-maximized')\n",
    "options.add_argument('user-agent=Mozilla/5.0 (Windows NT 10.0; Win64; x64) AppleWebKit/537.36 (KHTML, like Gecko) Chrome/113.0.0.0 Safari/537.36')\n",
    "options.add_experimental_option('prefs', {'download.default_directory':r'D:\\webservice\\python\\final\\xml'})\n",
    "\n",
    "url = 'https://nedrug.mfds.go.kr/searchDrug'\n",
    "\n",
    "driver = webdriver.Chrome(options=options)\n",
    "driver.get(url)\n",
    "\n",
    "sleep(1)\n",
    "# 상세검색 선택\n",
    "driver.find_element(By.XPATH, \"//*[@id='indutyClassCodeList']/li[2]/a\").click()\n",
    "\n",
    "driver.find_element(By.XPATH, \"//*[@id='makeMaterialGbList']/li[2]/a\").click()\n",
    "\n",
    "driver.find_element(By.XPATH, \"//*[@id='cancelCodeList']/li[2]/a\").click()\n",
    "\n",
    "driver.find_element(By.XPATH, \"//*[@id='searchDetail']/fieldset/div[22]/button[1]\").click()\n",
    "\n",
    "sleep(1)"
   ]
  },
  {
   "cell_type": "code",
   "execution_count": 3,
   "id": "3d8d6e06",
   "metadata": {},
   "outputs": [],
   "source": [
    "page = 0"
   ]
  },
  {
   "cell_type": "code",
   "execution_count": 4,
   "id": "5eb9958f",
   "metadata": {},
   "outputs": [],
   "source": [
    "# 이미지 추출\n",
    "def crawlData(maxcnt):\n",
    "    name_list = ['효능', '용법용량', '주의사항']\n",
    "    while True:\n",
    "        trs = driver.find_elements(By.XPATH, \"//*[@id='con_body']/div[2]/div[3]/div[3]/table/tbody/tr\")\n",
    "        for tr in trs:\n",
    "            tr.find_element(By.XPATH, \"td[2]/span[2]/a\").click()\n",
    "            driver.switch_to.window(driver.window_handles[1])\n",
    "            sleep(1)\n",
    "            try:\n",
    "                imgs = driver.find_elements(By.XPATH, \"//*[@id='scroll_01']/div/div/img\")\n",
    "            except:\n",
    "                pass\n",
    "            else:\n",
    "                for idx1, img in enumerate(imgs, 1):\n",
    "                    code = driver.find_element(By.XPATH, \"//*[@id='content']/section/div[1]/div[2]/table/tbody/tr[8]/td\").text\n",
    "                    save_loc = f'xml/{code}'\n",
    "                    os.makedirs(save_loc, exist_ok=True)\n",
    "                    img_src = img.get_attribute('src')\n",
    "                    urlretrieve(img_src, filename=f'{save_loc}/{idx1}.jpg')\n",
    "                    sleep(1)\n",
    "\n",
    "                    for idx2, name in enumerate(name_list, 3):\n",
    "                        xml =  driver.find_element(By.XPATH, f\"//*[@id='scroll_0{idx2}']/div[1]/h3/div/a[2]\").get_attribute('href')\n",
    "                        response = requests.get(xml)\n",
    "                        try:\n",
    "                            with open(f'{save_loc}/{name}.xml', 'w', encoding='cp949') as file:\n",
    "                                    file.write(response.text)\n",
    "                        except:\n",
    "                            with open(f'{save_loc}/{name}.xml', 'w', encoding='utf-8') as file:\n",
    "                                    file.write(response.text)\n",
    "            driver.close()\n",
    "            sleep(1)\n",
    "            driver.switch_to.window(driver.window_handles[0])\n",
    "            \n",
    "        driver.find_element(By.XPATH,\"//*[@id='paging_div']/p/button[3]\").click()\n",
    "        \n",
    "        global page\n",
    "        \n",
    "        if page == maxcnt:\n",
    "            break\n",
    "        page += 1"
   ]
  },
  {
   "cell_type": "code",
   "execution_count": null,
   "id": "b339c93f",
   "metadata": {
    "scrolled": false
   },
   "outputs": [],
   "source": [
    "driver.find_element(By.XPATH, \"//*[@id='indutyClassCodeList']/li[7]/a\").click()\n",
    "driver.find_element(By.XPATH, \"//*[@id='searchDetail']/fieldset/div[22]/button[1]\").click()\n",
    "\n",
    "crawlData(188)"
   ]
  },
  {
   "cell_type": "code",
   "execution_count": null,
   "id": "9d2a4ce6",
   "metadata": {},
   "outputs": [],
   "source": []
  }
 ],
 "metadata": {
  "kernelspec": {
   "display_name": "ex_kernel",
   "language": "python",
   "name": "ex"
  },
  "language_info": {
   "codemirror_mode": {
    "name": "ipython",
    "version": 3
   },
   "file_extension": ".py",
   "mimetype": "text/x-python",
   "name": "python",
   "nbconvert_exporter": "python",
   "pygments_lexer": "ipython3",
   "version": "3.8.10"
  },
  "toc": {
   "base_numbering": 1,
   "nav_menu": {},
   "number_sections": true,
   "sideBar": true,
   "skip_h1_title": false,
   "title_cell": "Table of Contents",
   "title_sidebar": "Contents",
   "toc_cell": false,
   "toc_position": {},
   "toc_section_display": true,
   "toc_window_display": false
  }
 },
 "nbformat": 4,
 "nbformat_minor": 5
}
